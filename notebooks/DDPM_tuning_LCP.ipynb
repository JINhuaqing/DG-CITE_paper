{
 "cells": [
  {
   "cell_type": "code",
   "execution_count": 1,
   "id": "7be37593-bf50-4fc1-b617-ff93ca3fb707",
   "metadata": {
    "execution": {
     "iopub.execute_input": "2024-02-22T22:22:56.565798Z",
     "iopub.status.busy": "2024-02-22T22:22:56.565058Z",
     "iopub.status.idle": "2024-02-22T22:22:56.580482Z",
     "shell.execute_reply": "2024-02-22T22:22:56.577989Z",
     "shell.execute_reply.started": "2024-02-22T22:22:56.565751Z"
    },
    "tags": []
   },
   "outputs": [],
   "source": [
    "import sys\n",
    "sys.path.append(\"../mypkg\")"
   ]
  },
  {
   "cell_type": "code",
   "execution_count": 2,
   "id": "ad8d569b-0412-47de-a9bf-2bbbfde7e943",
   "metadata": {
    "execution": {
     "iopub.execute_input": "2024-02-22T22:22:56.583293Z",
     "iopub.status.busy": "2024-02-22T22:22:56.582298Z",
     "iopub.status.idle": "2024-02-22T22:22:59.248119Z",
     "shell.execute_reply": "2024-02-22T22:22:59.246820Z",
     "shell.execute_reply.started": "2024-02-22T22:22:56.583244Z"
    },
    "tags": []
   },
   "outputs": [],
   "source": [
    "from constants import RES_ROOT, FIG_ROOT, DATA_ROOT\n",
    "from utils.misc import load_pkl, save_pkl, merge_intervals\n",
    "from utils.colors import qual_cmap\n",
    "from utils.stats import weighted_quantile\n",
    "from data_gen_utils.data_gen_my3 import get_simu_data\n",
    "from utils.utils import MyDataSet, get_idx_sets\n",
    "from demo_settings import simu_settings\n",
    "from CQR import get_CQR_CIs, boosting_pred, boosting_logi, get_CF_CIs\n",
    "from ddpm.train_ddpm_now import TrainDDPM\n",
    "from weighted_conformal_inference import WeightedConformalInference\n",
    "from local_weighted_conformal_inference import LocalWeightedConformalInference, get_opth\n",
    "from naive_sample import NaiveSample"
   ]
  },
  {
   "cell_type": "code",
   "execution_count": 3,
   "id": "f1775f04-ea35-40dc-90e8-61a284a9daf2",
   "metadata": {
    "execution": {
     "iopub.execute_input": "2024-02-22T22:22:59.250567Z",
     "iopub.status.busy": "2024-02-22T22:22:59.249855Z",
     "iopub.status.idle": "2024-02-22T22:22:59.288458Z",
     "shell.execute_reply": "2024-02-22T22:22:59.287938Z",
     "shell.execute_reply.started": "2024-02-22T22:22:59.250519Z"
    },
    "tags": []
   },
   "outputs": [],
   "source": [
    "%load_ext autoreload\n",
    "%autoreload 2\n",
    "# 0,1, 2, 3, be careful about the space"
   ]
  },
  {
   "cell_type": "code",
   "execution_count": 4,
   "id": "a42be2f3-7ab7-4f69-98eb-27ae79905c93",
   "metadata": {
    "execution": {
     "iopub.execute_input": "2024-02-22T22:22:59.289824Z",
     "iopub.status.busy": "2024-02-22T22:22:59.289553Z",
     "iopub.status.idle": "2024-02-22T22:22:59.628716Z",
     "shell.execute_reply": "2024-02-22T22:22:59.627624Z",
     "shell.execute_reply.started": "2024-02-22T22:22:59.289804Z"
    },
    "tags": []
   },
   "outputs": [],
   "source": [
    "import torch\n",
    "import scipy.stats as ss\n",
    "import numpy as np\n",
    "from easydict import EasyDict as edict\n",
    "import matplotlib.pyplot as plt\n",
    "import seaborn as sns\n",
    "from collections import defaultdict as ddict\n",
    "from tqdm import tqdm, trange\n",
    "import random\n",
    "from joblib import Parallel, delayed\n",
    "import pandas as pd\n",
    "from pprint import pprint\n",
    "from copy import deepcopy\n",
    "plt.style.use(FIG_ROOT/\"base.mplstyle\")"
   ]
  },
  {
   "cell_type": "markdown",
   "id": "5f1daada-ca8c-4a09-84f5-dfe6c045008d",
   "metadata": {},
   "source": [
    "# Params"
   ]
  },
  {
   "cell_type": "code",
   "execution_count": 5,
   "id": "68b00b94-5b21-4681-85e2-2206bb03ba73",
   "metadata": {
    "execution": {
     "iopub.execute_input": "2024-02-22T22:22:59.630381Z",
     "iopub.status.busy": "2024-02-22T22:22:59.629995Z",
     "iopub.status.idle": "2024-02-22T22:22:59.658348Z",
     "shell.execute_reply": "2024-02-22T22:22:59.657842Z",
     "shell.execute_reply.started": "2024-02-22T22:22:59.630350Z"
    },
    "tags": []
   },
   "outputs": [
    {
     "data": {
      "text/plain": [
       "'setting7'"
      ]
     },
     "execution_count": 5,
     "metadata": {},
     "output_type": "execute_result"
    }
   ],
   "source": [
    "setting = \"setting7\""
   ]
  },
  {
   "cell_type": "code",
   "execution_count": 6,
   "id": "6cc79339-0cfa-4d15-9220-129cd5209122",
   "metadata": {
    "execution": {
     "iopub.execute_input": "2024-02-22T22:22:59.659430Z",
     "iopub.status.busy": "2024-02-22T22:22:59.659184Z",
     "iopub.status.idle": "2024-02-22T22:22:59.683027Z",
     "shell.execute_reply": "2024-02-22T22:22:59.682588Z",
     "shell.execute_reply.started": "2024-02-22T22:22:59.659415Z"
    },
    "tags": []
   },
   "outputs": [
    {
     "name": "stdout",
     "output_type": "stream",
     "text": [
      "{'cal_ratio': 0.25,\n",
      " 'd': 10,\n",
      " 'err_type': 't',\n",
      " 'is_homo': False,\n",
      " 'n': 3000,\n",
      " 'ntest': 1000,\n",
      " 'rho': 0.0,\n",
      " 'val_ratio': 0.15}\n"
     ]
    }
   ],
   "source": [
    "params = edict()\n",
    "\n",
    "params.simu_setting = edict()\n",
    "params.simu_setting.rho = 0.9\n",
    "params.simu_setting.is_homo = False\n",
    "params.simu_setting.n = 3000\n",
    "params.simu_setting.d = 10\n",
    "params.simu_setting.ntest = 1000\n",
    "params.simu_setting.cal_ratio = 0.25 # for conformal inference\n",
    "params.simu_setting.val_ratio = 0.15 # for tuning network\n",
    "params.simu_setting.update(simu_settings[setting])\n",
    "params.simu_setting.n = 3000\n",
    "params.simu_setting.d = 10 \n",
    "pprint(params.simu_setting)\n",
    "\n",
    "\n",
    "params.nrep = 50 # num of reptition for simulation\n",
    "params.K = 40 # num of sps drawn from q(Y(1)|X)\n",
    "params.save_snapshot = 500\n",
    "params.df_dtype = torch.float32\n",
    "params.device=\"cpu\"\n",
    "params.n_jobs = 20\n",
    "params.verbose = True\n",
    "params.inf_bs = 40 # the inference batch, fct x K\n",
    "\n",
    "params.ddpm_training = edict()\n",
    "# Batch size during training\n",
    "params.ddpm_training.batch_size = 256 \n",
    "# Number of training epochs\n",
    "params.ddpm_training.n_epoch = 1000\n",
    "params.ddpm_training.n_infeat = 128\n",
    "# Learning rate for optimizers\n",
    "params.ddpm_training.lr = 0.001\n",
    "params.ddpm_training.lr_gamma = 0.5\n",
    "params.ddpm_training.lr_step = 1000\n",
    "params.ddpm_training.test_intv = 5\n",
    "params.ddpm_training.n_T = 400 # 100\n",
    "params.ddpm_training.n_upblk = 1\n",
    "params.ddpm_training.n_downblk = 1\n",
    "params.ddpm_training.weight_decay = 1e-2\n",
    "params.ddpm_training.early_stop = False\n",
    "params.ddpm_training.early_stop_dict = {\"early_stop_len\":50, \"early_stop_eps\": 5e-4}\n",
    "#params.ddpm_training.betas = [0.001, 0.5]\n",
    "\n",
    "params.wconformal = edict()\n",
    "# remove too large and too small in ws/mean(ws)\n",
    "params.wconformal.nwthigh = 20\n",
    "params.wconformal.nwtlow = 0.05\n",
    "params.wconformal.useinf = False\n",
    "\n",
    "\n",
    "params.hypo_test = edict()\n",
    "params.hypo_test.alpha = 0.05 # sig level\n",
    "\n",
    "params.prefix = \"\"\n",
    "params.save_dir = f\"demo_ddpm_{setting}_test11\"\n",
    "if not (RES_ROOT/params.save_dir).exists():\n",
    "    (RES_ROOT/params.save_dir).mkdir()"
   ]
  },
  {
   "cell_type": "code",
   "execution_count": 7,
   "id": "8323bd12-8b5d-487a-8951-77e4c796e2d8",
   "metadata": {
    "execution": {
     "iopub.execute_input": "2024-02-22T22:22:59.683648Z",
     "iopub.status.busy": "2024-02-22T22:22:59.683507Z",
     "iopub.status.idle": "2024-02-22T22:22:59.701892Z",
     "shell.execute_reply": "2024-02-22T22:22:59.701009Z",
     "shell.execute_reply.started": "2024-02-22T22:22:59.683636Z"
    },
    "tags": []
   },
   "outputs": [],
   "source": [
    "torch.set_default_dtype(params.df_dtype)"
   ]
  },
  {
   "cell_type": "code",
   "execution_count": 8,
   "id": "cbb7d327-4751-4707-b301-9fbbd58f7a0f",
   "metadata": {
    "execution": {
     "iopub.execute_input": "2024-02-22T22:22:59.702592Z",
     "iopub.status.busy": "2024-02-22T22:22:59.702450Z",
     "iopub.status.idle": "2024-02-22T22:22:59.721414Z",
     "shell.execute_reply": "2024-02-22T22:22:59.720981Z",
     "shell.execute_reply.started": "2024-02-22T22:22:59.702580Z"
    },
    "tags": []
   },
   "outputs": [],
   "source": [
    "keys = [\"lr\", \"n_infeat\", \"n_T\", \"weight_decay\", \"n_upblk\", \"n_downblk\"]\n",
    "def _get_name_postfix(keys, ddpm_training):\n",
    "    lst = []\n",
    "    for key in keys:\n",
    "        if ddpm_training[key] >= 1:\n",
    "            lst.append(f\"{key}-{str(ddpm_training[key])}\")\n",
    "        else:\n",
    "            lst.append(f\"{key}--{str(ddpm_training[key]).split('.')[-1]}\")\n",
    "    return \"_\".join(lst)"
   ]
  },
  {
   "cell_type": "code",
   "execution_count": null,
   "id": "575dfd1a-a222-4972-9e57-d499f886584a",
   "metadata": {},
   "outputs": [],
   "source": []
  },
  {
   "cell_type": "markdown",
   "id": "b18c29d9-14e1-4e57-9a24-c09ba3605f4f",
   "metadata": {},
   "source": [
    "# Some fns"
   ]
  },
  {
   "cell_type": "code",
   "execution_count": 149,
   "id": "316a4571-9954-4f9a-b48a-d5da6d6f9556",
   "metadata": {
    "execution": {
     "iopub.execute_input": "2024-02-22T23:57:13.580461Z",
     "iopub.status.busy": "2024-02-22T23:57:13.579894Z",
     "iopub.status.idle": "2024-02-22T23:57:13.788273Z",
     "shell.execute_reply": "2024-02-22T23:57:13.787705Z",
     "shell.execute_reply.started": "2024-02-22T23:57:13.580413Z"
    },
    "scrolled": true,
    "tags": []
   },
   "outputs": [],
   "source": [
    "rep_ix = 2\n",
    "params = params\n",
    "lr = 1e-1\n",
    "n_infeat = 128\n",
    "n_T = 100\n",
    "weight_decay = 1e-2\n",
    "n_blk = 1\n",
    "manualSeed = rep_ix\n",
    "random.seed(manualSeed)\n",
    "np.random.seed(manualSeed)\n",
    "torch.manual_seed(manualSeed)\n",
    "torch.use_deterministic_algorithms(True) # Needed for reproducible results\n",
    "params = edict(deepcopy(params))\n",
    "params.ddpm_training.n_upblk = n_blk\n",
    "params.ddpm_training.n_downblk = n_blk\n",
    "params.ddpm_training.weight_decay = weight_decay\n",
    "params.ddpm_training.n_T = n_T\n",
    "params.ddpm_training.lr = lr\n",
    "params.ddpm_training.n_infeat = n_infeat\n",
    "keys = [\"lr\", \"n_infeat\", \"n_T\", \"weight_decay\", \"n_upblk\", \"n_downblk\"]\n",
    "post_fix = _get_name_postfix(keys, params.ddpm_training)\n",
    "\n",
    "torch.set_default_dtype(params.df_dtype)\n",
    "torch.set_default_device(params.device)\n",
    "    \n",
    "data_train = get_simu_data(n=params.simu_setting.n, \n",
    "                           d=params.simu_setting.d, \n",
    "                           #is_homo=params.simu_setting.is_homo, \n",
    "                           rho=params.simu_setting.rho, \n",
    "                           err_type=params.simu_setting.err_type);\n",
    "data_test = get_simu_data(n=params.simu_setting.ntest, \n",
    "                           d=params.simu_setting.d, \n",
    "                           #is_homo=params.simu_setting.is_homo, \n",
    "                           rho=params.simu_setting.rho,\n",
    "                           err_type=params.simu_setting.err_type);\n",
    "\n",
    "\n",
    "cal_idxs, val_idxs, tr_idxs = get_idx_sets(all_idxs=np.where(data_train.T!=100)[0], \n",
    "                                                       ratios = [params.simu_setting.cal_ratio, params.simu_setting.val_ratio])\n",
    "#cal_idxs, val_idxs, tr_idxs = get_idx_sets(all_idxs=np.where(data_train.T)[0], \n",
    "#                                                       ratios = [params.simu_setting.cal_ratio, params.simu_setting.val_ratio])\n",
    "                \n",
    "# get psfun\n",
    "psY = data_train.T.astype(int)\n",
    "psX = data_train.X\n",
    "fit_res = boosting_logi(psY, psX);\n",
    "def wsfun(X):\n",
    "    eps=1e-10\n",
    "    if isinstance(X, torch.Tensor):\n",
    "        X = X.cpu().numpy()\n",
    "    if X.ndim == 1:\n",
    "        X = X.reshape(1, -1)\n",
    "    est_ps = boosting_pred(X, fit_res)\n",
    "    est_ws = 1/(est_ps+eps)\n",
    "    return torch.tensor(est_ws, dtype=params.df_dtype).to(device=params.device)\n",
    "            \n",
    "        \n",
    "cal_X = torch.tensor(data_train.X[cal_idxs], dtype=params.df_dtype)\n",
    "cal_Y = torch.tensor(data_train.Y1[cal_idxs], dtype=params.df_dtype)\n",
    "val_X = torch.tensor(data_train.X[val_idxs], dtype=params.df_dtype)\n",
    "val_Y = torch.tensor(data_train.Y1[val_idxs], dtype=params.df_dtype)\n",
    "test_X = torch.tensor(data_test.X, dtype=params.df_dtype)\n",
    "test_Y = torch.tensor(data_test.Y1, dtype=params.df_dtype)\n",
    "\n",
    "# get subset of all X\n",
    "test_Xnorm = torch.norm(test_X, p=2, dim=1)\n",
    "cutoff1 = torch.quantile(test_Xnorm, 0.1)\n",
    "cutoff2 = torch.quantile(test_Xnorm, 0.5)\n",
    "test_X1 = test_X[test_Xnorm<cutoff1].clone()\n",
    "test_Y1 = test_Y[test_Xnorm<cutoff1].clone()\n",
    "test_X1c = test_X[test_Xnorm>=cutoff1].clone()\n",
    "test_Y1c = test_Y[test_Xnorm>=cutoff1].clone()\n",
    "test_X2 = test_X[test_Xnorm<cutoff2].clone()\n",
    "test_Y2 = test_Y[test_Xnorm<cutoff2].clone()\n",
    "test_X2c = test_X[test_Xnorm>=cutoff2].clone()\n",
    "test_Y2c = test_Y[test_Xnorm>=cutoff2].clone();\n"
   ]
  },
  {
   "cell_type": "code",
   "execution_count": 150,
   "id": "a1c5304e-5a76-492c-b4e6-f6361da26247",
   "metadata": {
    "execution": {
     "iopub.execute_input": "2024-02-22T23:57:14.454614Z",
     "iopub.status.busy": "2024-02-22T23:57:14.453745Z",
     "iopub.status.idle": "2024-02-22T23:57:23.293238Z",
     "shell.execute_reply": "2024-02-22T23:57:23.292822Z",
     "shell.execute_reply.started": "2024-02-22T23:57:14.454565Z"
    },
    "tags": []
   },
   "outputs": [
    {
     "name": "stderr",
     "output_type": "stream",
     "text": [
      "2024-02-22 15:57:14,493 - ddpm.train_ddpm_now - INFO - The results are saved at /data/rajlab1/user_data/jin/MyResearch/DG-CITE_paper/notebooks/../mypkg/../results/demo_ddpm_setting7_test11.\n",
      "2024-02-22 15:57:14,503 - ddpm.train_ddpm_now - INFO - The params is {'lr': 0.1, 'batch_size': 256, 'device': 'cpu', 'n_T': 100, 'n_infeat': 128, 'n_upblk': 1, 'n_downblk': 1, 'betas': [0.0001, 0.02], 'lr_gamma': 0.5, 'lr_step': 1000, 'test_intv': 5, 'weight_decay': 0.01}\n",
      "2024-02-22 15:57:14,504 - ddpm.train_ddpm_now - WARNING - We do not do early stop, so any args in early_stop_dict are ignored.\n"
     ]
    },
    {
     "name": "stdout",
     "output_type": "stream",
     "text": [
      "The num of params is 0.30m. \n",
      "Adjusting learning rate of group 0 to 1.0000e-01.\n"
     ]
    },
    {
     "name": "stderr",
     "output_type": "stream",
     "text": [
      "loss: 0.8551: 100%|█████████████████████████████████████████████| 100/100 [00:08<00:00, 11.38it/s, val loss=1.12]\n"
     ]
    }
   ],
   "source": [
    "# train q(Y(1)|X)\n",
    "data_train_ddpm = MyDataSet(Y=data_train.Y[tr_idxs], X=data_train.X[tr_idxs])\n",
    "data_val = edict()\n",
    "data_val.c = val_X\n",
    "data_val.x = val_Y\n",
    "input_params = edict(deepcopy(params.ddpm_training))\n",
    "input_params.pop(\"n_epoch\")\n",
    "input_params.pop(\"early_stop\")\n",
    "input_params.pop(\"early_stop_dict\")\n",
    "myddpm = TrainDDPM(data_train_ddpm, save_dir=params.save_dir, verbose=params.verbose, prefix=f\"rep{rep_ix}_{post_fix}\", \n",
    "                   device=params.device,\n",
    "                   **input_params);\n",
    "\n",
    "\n",
    "myddpm.train(n_epoch=100,\n",
    "                 data_val=data_val, save_snapshot=params.save_snapshot, \n",
    "                 early_stop=params.ddpm_training.early_stop, \n",
    "                 early_stop_dict=params.ddpm_training.early_stop_dict\n",
    "                         )\n"
   ]
  },
  {
   "cell_type": "code",
   "execution_count": 151,
   "id": "e8ea7adb-82e5-4b98-957f-00b61b3f3416",
   "metadata": {
    "execution": {
     "iopub.execute_input": "2024-02-22T23:57:25.602762Z",
     "iopub.status.busy": "2024-02-22T23:57:25.602057Z",
     "iopub.status.idle": "2024-02-22T23:57:25.647008Z",
     "shell.execute_reply": "2024-02-22T23:57:25.646300Z",
     "shell.execute_reply.started": "2024-02-22T23:57:25.602715Z"
    },
    "tags": []
   },
   "outputs": [],
   "source": [
    "def _inner_fn(X, Y, ddpm, LCP=False, h=0.3, verbose=1):\n",
    "    # get the len of CI based on intvs, there intvs is a list, each ele is another list contains CIs ele=[CI1, CI2]\n",
    "    _get_intvs_len = lambda intvs: np.array([sum([np.diff(iv) for iv in intv])[0] for intv in intvs]);\n",
    "    # get weather vaule in vs is in CI in intvs or not \n",
    "    def _get_inset(vs, intvs):\n",
    "        in_set = []\n",
    "        for v, intv in zip(vs, intvs):\n",
    "            in_set.append(np.sum([np.bitwise_and(v>iv[0], v<iv[1]) for iv in intv]))\n",
    "        in_set = np.array(in_set)\n",
    "        return in_set\n",
    "    wcf = LocalWeightedConformalInference(cal_X, \n",
    "                         cal_Y,\n",
    "                         ddpm, \n",
    "                         ws_fn=None, \n",
    "                         #ws_fn=wsfun, \n",
    "                         verbose=verbose, \n",
    "                         gen_type=\"ddim\",\n",
    "                         seed=manualSeed,\n",
    "                         n_jobs=params.n_jobs,\n",
    "                         inf_bs=params.inf_bs,\n",
    "                         device=params.device,\n",
    "                         gen_params={\"ddim_eta\": 1},\n",
    "                         wcf_params={\n",
    "                            \"K\": params.K, # num of sps for each X\n",
    "                            \"nwhigh\" : params.wconformal.nwthigh,\n",
    "                            \"nwlow\" : params.wconformal.nwtlow,\n",
    "                            \"useinf\": params.wconformal.useinf,\n",
    "                         })\n",
    "    wcf.add_data(X)\n",
    "    intvs = wcf(local_method=LCP, \n",
    "                alpha=params.hypo_test.alpha, \n",
    "                lm_params={\"h\":h});\n",
    "    prbs = np.mean(_get_inset(Y, intvs))\n",
    "    mlen = np.median(_get_intvs_len(intvs))\n",
    "    return prbs, mlen\n",
    "ddpm = myddpm.ddpm;"
   ]
  },
  {
   "cell_type": "code",
   "execution_count": 152,
   "id": "6083ff37-03f0-4811-828e-77a08b9c4a3e",
   "metadata": {
    "execution": {
     "iopub.execute_input": "2024-02-22T23:57:29.450909Z",
     "iopub.status.busy": "2024-02-22T23:57:29.450199Z",
     "iopub.status.idle": "2024-02-22T23:57:37.857043Z",
     "shell.execute_reply": "2024-02-22T23:57:37.856415Z",
     "shell.execute_reply.started": "2024-02-22T23:57:29.450859Z"
    },
    "tags": []
   },
   "outputs": [
    {
     "name": "stderr",
     "output_type": "stream",
     "text": [
      "2024-02-22 15:57:35,355 - local_weighted_conformal_inference - WARNING - Check your input, h is not used.\n"
     ]
    },
    {
     "data": {
      "text/plain": [
       "(0.949, 15.601501)"
      ]
     },
     "execution_count": 152,
     "metadata": {},
     "output_type": "execute_result"
    }
   ],
   "source": [
    "_inner_fn(test_X, test_Y, ddpm, LCP=None, h=0.3, verbose=1)"
   ]
  },
  {
   "cell_type": "code",
   "execution_count": 153,
   "id": "06ff84bf-2337-461c-ac60-848114f9a5c1",
   "metadata": {
    "execution": {
     "iopub.execute_input": "2024-02-22T23:57:39.667226Z",
     "iopub.status.busy": "2024-02-22T23:57:39.666594Z",
     "iopub.status.idle": "2024-02-22T23:57:42.816943Z",
     "shell.execute_reply": "2024-02-22T23:57:42.816515Z",
     "shell.execute_reply.started": "2024-02-22T23:57:39.667175Z"
    },
    "tags": []
   },
   "outputs": [
    {
     "name": "stderr",
     "output_type": "stream",
     "text": [
      "2024-02-22 15:57:40,504 - local_weighted_conformal_inference - WARNING - Check your input, h is not used.\n"
     ]
    },
    {
     "data": {
      "text/plain": [
       "(0.88, 15.661835)"
      ]
     },
     "execution_count": 153,
     "metadata": {},
     "output_type": "execute_result"
    }
   ],
   "source": [
    "_inner_fn(test_X1, test_Y1, ddpm, LCP=None, h=0.3, verbose=1)"
   ]
  },
  {
   "cell_type": "code",
   "execution_count": 154,
   "id": "64ab2d20-cc3a-4853-9470-f882144a3057",
   "metadata": {
    "execution": {
     "iopub.execute_input": "2024-02-22T23:57:45.577467Z",
     "iopub.status.busy": "2024-02-22T23:57:45.576725Z",
     "iopub.status.idle": "2024-02-22T23:57:51.078926Z",
     "shell.execute_reply": "2024-02-22T23:57:51.078387Z",
     "shell.execute_reply.started": "2024-02-22T23:57:45.577416Z"
    },
    "tags": []
   },
   "outputs": [
    {
     "name": "stderr",
     "output_type": "stream",
     "text": [
      "2024-02-22 15:57:48,584 - local_weighted_conformal_inference - WARNING - Check your input, h is not used.\n"
     ]
    },
    {
     "data": {
      "text/plain": [
       "(0.96, 15.586548)"
      ]
     },
     "execution_count": 154,
     "metadata": {},
     "output_type": "execute_result"
    }
   ],
   "source": [
    "_inner_fn(test_X1c, test_Y1c, ddpm, LCP=None, h=0.3, verbose=1)"
   ]
  },
  {
   "cell_type": "code",
   "execution_count": 132,
   "id": "18da3bf2-ae8b-4b1a-b851-9e34bf7ae6e3",
   "metadata": {
    "execution": {
     "iopub.execute_input": "2024-02-22T22:58:39.522647Z",
     "iopub.status.busy": "2024-02-22T22:58:39.522038Z",
     "iopub.status.idle": "2024-02-22T22:58:43.610021Z",
     "shell.execute_reply": "2024-02-22T22:58:43.609541Z",
     "shell.execute_reply.started": "2024-02-22T22:58:39.522598Z"
    },
    "tags": []
   },
   "outputs": [
    {
     "name": "stderr",
     "output_type": "stream",
     "text": [
      "2024-02-22 14:58:41,236 - local_weighted_conformal_inference - WARNING - Check your input, h is not used.\n"
     ]
    },
    {
     "data": {
      "text/plain": [
       "(0.95, 15.028359)"
      ]
     },
     "execution_count": 132,
     "metadata": {},
     "output_type": "execute_result"
    }
   ],
   "source": [
    "_inner_fn(test_X2c, test_Y2c, ddpm, LCP=None, h=0.3, verbose=1)"
   ]
  },
  {
   "cell_type": "code",
   "execution_count": 131,
   "id": "53a6a354-400d-42f5-bc07-f2c44b945b29",
   "metadata": {
    "execution": {
     "iopub.execute_input": "2024-02-22T22:58:22.334595Z",
     "iopub.status.busy": "2024-02-22T22:58:22.333890Z",
     "iopub.status.idle": "2024-02-22T22:58:26.446345Z",
     "shell.execute_reply": "2024-02-22T22:58:26.445844Z",
     "shell.execute_reply.started": "2024-02-22T22:58:22.334547Z"
    },
    "tags": []
   },
   "outputs": [
    {
     "name": "stderr",
     "output_type": "stream",
     "text": [
      "2024-02-22 14:58:23,982 - local_weighted_conformal_inference - WARNING - Check your input, h is not used.\n"
     ]
    },
    {
     "data": {
      "text/plain": [
       "(0.92, 15.025183)"
      ]
     },
     "execution_count": 131,
     "metadata": {},
     "output_type": "execute_result"
    }
   ],
   "source": [
    "_inner_fn(test_X2, test_Y2, ddpm, LCP=None, h=0.3, verbose=1)"
   ]
  },
  {
   "cell_type": "code",
   "execution_count": 119,
   "id": "d0a1dbb3-e5b1-4cc2-a23a-3cce59754229",
   "metadata": {
    "execution": {
     "iopub.execute_input": "2024-02-22T22:52:14.040597Z",
     "iopub.status.busy": "2024-02-22T22:52:14.040050Z",
     "iopub.status.idle": "2024-02-22T22:56:03.121962Z",
     "shell.execute_reply": "2024-02-22T22:56:03.120898Z",
     "shell.execute_reply.started": "2024-02-22T22:52:14.040551Z"
    },
    "tags": []
   },
   "outputs": [
    {
     "name": "stdout",
     "output_type": "stream",
     "text": [
      "> \u001b[0;32m/data/rajlab1/user_data/jin/MyResearch/DG-CITE_paper/mypkg/local_weighted_conformal_inference.py\u001b[0m(174)\u001b[0;36m__call__\u001b[0;34m()\u001b[0m\n",
      "\u001b[0;32m    172 \u001b[0;31m        \u001b[0mintvs\u001b[0m \u001b[0;34m=\u001b[0m \u001b[0mself\u001b[0m\u001b[0;34m.\u001b[0m\u001b[0mget_intvs\u001b[0m\u001b[0;34m(\u001b[0m\u001b[0mself\u001b[0m\u001b[0;34m.\u001b[0m\u001b[0mtest_Y_hat\u001b[0m\u001b[0;34m,\u001b[0m \u001b[0mqvs\u001b[0m\u001b[0;34m)\u001b[0m\u001b[0;34m;\u001b[0m\u001b[0;34m\u001b[0m\u001b[0;34m\u001b[0m\u001b[0m\n",
      "\u001b[0m\u001b[0;32m    173 \u001b[0;31m        \u001b[0mpdb\u001b[0m\u001b[0;34m.\u001b[0m\u001b[0mset_trace\u001b[0m\u001b[0;34m(\u001b[0m\u001b[0;34m)\u001b[0m\u001b[0;34m\u001b[0m\u001b[0;34m\u001b[0m\u001b[0m\n",
      "\u001b[0m\u001b[0;32m--> 174 \u001b[0;31m        \u001b[0;32mreturn\u001b[0m \u001b[0mintvs\u001b[0m\u001b[0;34m\u001b[0m\u001b[0;34m\u001b[0m\u001b[0m\n",
      "\u001b[0m\u001b[0;32m    175 \u001b[0;31m\u001b[0;34m\u001b[0m\u001b[0m\n",
      "\u001b[0m\u001b[0;32m    176 \u001b[0;31m\u001b[0;34m\u001b[0m\u001b[0m\n",
      "\u001b[0m\n"
     ]
    },
    {
     "name": "stdin",
     "output_type": "stream",
     "text": [
      "ipdb>  qts\n"
     ]
    },
    {
     "name": "stdout",
     "output_type": "stream",
     "text": [
      "tensor([0.9585, 1.0870, 0.9557, 0.9552, 1.0161, 0.9567, 0.9534, 0.9706, 1.1381,\n",
      "        0.9559, 0.9558, 0.9532, 1.0587, 0.9536, 0.9686, 1.2443, 1.4227, 1.0090,\n",
      "        0.9560, 0.9532, 0.9578, 0.9588, 0.9578, 0.9539, 0.9699, 0.9704, 0.9527,\n",
      "        0.9782, 0.9553, 0.9682,    inf, 0.9705, 1.0594, 0.9571, 0.9570, 0.9607,\n",
      "        1.0018, 0.9688,    inf, 0.9535, 1.0886, 0.9539, 0.9528, 0.9540, 0.9584,\n",
      "        0.9603, 0.9544, 0.9533, 0.9535, 0.9561, 0.9535, 0.9694, 1.1208, 0.9539,\n",
      "        0.9530, 0.9555, 0.9554, 0.9644, 0.9545, 0.9551, 1.0512, 0.9586, 0.9646,\n",
      "        0.9574, 1.0108, 0.9530, 0.9630, 0.9850, 0.9532, 0.9564, 0.9579, 0.9612,\n",
      "        0.9566, 0.9574, 0.9565, 0.9551, 0.9567, 0.9608, 0.9577, 0.9701, 0.9566,\n",
      "        0.9562, 0.9544, 0.9534, 0.9653, 1.0558, 1.0667, 0.9568, 0.9613, 0.9543,\n",
      "        0.9536, 0.9563, 0.9553, 0.9532, 0.9550, 1.1238, 0.9595, 0.9560, 0.9628,\n",
      "        0.9541, 0.9616, 0.9582, 0.9529, 0.9643, 0.9741, 0.9777, 0.9824, 0.9711,\n",
      "        0.9546, 0.9543, 0.9977, 0.9570, 1.0502, 0.9531, 0.9930, 0.9608, 0.9578,\n",
      "        0.9772, 0.9550, 0.9782, 0.9560, 0.9888, 0.9525, 0.9756, 0.9869, 0.9675,\n",
      "        0.9520, 0.9885, 0.9541, 0.9615, 1.0093, 0.9593, 0.9567, 0.9636, 0.9852,\n",
      "        0.9541, 0.9541, 0.9588, 0.9534, 1.0759, 0.9542, 0.9901, 0.9531, 0.9585,\n",
      "        0.9537, 0.9642, 0.9568, 0.9527, 0.9574, 0.9560, 0.9566, 0.9545, 0.9573,\n",
      "        0.9598, 0.9595, 1.0792, 0.9662, 0.9822, 0.9533, 0.9874, 0.9573, 0.9926,\n",
      "        0.9531, 0.9551, 0.9576, 0.9651, 0.9556, 1.0032, 0.9592, 0.9724, 0.9676,\n",
      "        0.9797, 0.9540, 0.9568, 1.2732, 0.9718, 0.9545, 0.9519, 0.9664, 0.9535,\n",
      "        0.9636, 0.9582, 0.9568, 0.9590, 1.0185, 0.9535, 0.9655, 0.9863, 0.9529,\n",
      "        0.9582, 0.9545, 0.9694, 1.0356, 0.9614, 0.9590, 0.9787, 0.9531, 1.0374,\n",
      "        0.9545, 0.9534, 0.9606, 0.9551, 0.9664, 0.9950, 0.9552, 0.9932, 0.9533,\n",
      "        0.9588, 0.9567, 0.9530, 0.9652, 0.9559, 0.9564, 0.9618, 0.9804, 1.0573,\n",
      "        0.9569, 0.9574, 0.9557, 0.9866, 0.9573, 0.9644, 0.9559, 0.9546, 1.0056,\n",
      "        0.9607, 0.9535, 0.9524, 0.9529, 0.9803, 0.9842, 0.9595, 0.9530, 0.9586,\n",
      "        0.9949, 0.9778, 1.0581, 0.9537, 0.9661, 0.9662, 0.9532, 0.9532, 0.9607,\n",
      "        0.9819,    inf, 1.0317, 0.9596, 0.9526, 0.9681, 0.9571, 0.9597, 1.1055,\n",
      "        0.9533, 0.9554, 0.9568, 0.9534, 0.9519, 0.9549, 0.9744, 0.9708, 0.9541,\n",
      "        0.9581, 0.9681, 0.9960, 0.9527, 0.9601, 0.9553, 0.9554, 1.0459, 0.9923,\n",
      "        0.9534, 0.9640, 0.9525, 1.0152, 0.9585, 0.9547, 0.9857, 1.1955, 0.9527,\n",
      "        1.1759, 0.9594, 0.9852, 0.9984, 0.9571, 0.9544, 0.9676, 0.9572, 0.9546,\n",
      "        0.9574, 0.9731, 1.0394, 0.9680, 0.9529, 1.0083, 0.9600, 0.9700, 1.1671,\n",
      "        0.9907, 0.9630, 0.9567, 0.9654, 0.9580, 0.9532, 0.9582, 0.9561, 0.9582,\n",
      "        1.5761, 0.9564, 0.9537, 0.9543, 0.9562, 1.0435, 0.9762, 0.9540, 0.9566,\n",
      "        0.9650, 0.9539, 0.9546, 0.9664, 0.9563, 1.0295, 0.9550, 0.9621, 0.9639,\n",
      "        0.9851, 0.9592, 0.9581, 1.4994, 0.9536, 0.9878, 0.9535, 0.9557, 0.9539,\n",
      "        0.9575, 0.9589, 0.9540, 1.3063, 1.0034, 0.9550, 1.4274, 1.0117, 1.0496,\n",
      "        0.9685, 0.9570, 0.9615, 0.9530, 0.9931, 0.9599, 1.0066, 0.9645, 0.9796,\n",
      "        0.9534, 0.9576, 0.9534, 0.9786, 0.9531, 0.9591, 0.9556, 0.9536, 0.9596,\n",
      "        0.9758, 0.9642, 0.9548, 0.9536, 0.9569, 0.9545, 0.9558, 0.9590, 0.9571,\n",
      "        0.9533, 0.9644, 0.9540, 0.9608, 0.9536, 0.9761, 0.9687, 0.9551, 1.0256,\n",
      "        0.9531, 0.9531, 0.9689, 0.9666, 0.9610, 0.9541, 0.9527, 1.2573, 0.9532,\n",
      "        0.9532, 0.9750, 0.9566, 0.9537, 1.0913, 0.9540, 0.9610, 1.7542, 0.9576,\n",
      "        0.9617, 0.9560, 0.9600, 1.0044, 0.9635, 0.9618, 0.9658, 0.9590, 0.9595,\n",
      "        0.9561, 0.9629, 1.0628, 0.9565, 0.9538, 0.9813, 0.9564, 0.9563, 0.9603,\n",
      "        1.0379, 0.9548, 0.9979, 0.9591, 0.9571, 0.9524, 0.9541, 0.9558, 0.9677,\n",
      "        1.2434, 0.9567, 0.9582, 0.9595, 0.9690, 0.9537, 0.9633, 0.9530, 1.0329,\n",
      "        0.9602, 0.9655, 0.9868, 0.9649, 0.9523, 0.9580, 0.9554, 0.9641, 0.9540,\n",
      "        0.9563, 0.9531, 0.9591, 0.9685, 0.9580, 0.9639, 0.9537, 0.9565, 0.9687,\n",
      "        0.9527, 1.5102, 0.9569, 0.9606, 0.9567, 0.9809, 0.9527, 0.9538, 0.9577,\n",
      "        0.9656, 0.9537, 0.9532, 0.9557, 0.9726,    inf, 0.9571, 0.9701, 0.9712,\n",
      "        0.9614, 0.9548, 0.9596, 0.9704, 0.9546, 0.9866, 0.9623, 0.9559, 0.9571,\n",
      "        0.9603, 0.9596, 0.9602, 0.9533, 0.9615, 0.9578, 0.9550, 1.2230, 0.9735,\n",
      "        0.9559, 0.9541, 1.0787, 0.9571, 0.9537, 0.9710, 0.9529, 0.9533, 0.9704,\n",
      "        0.9625, 0.9565, 0.9577, 0.9558,    inf])\n"
     ]
    },
    {
     "name": "stdin",
     "output_type": "stream",
     "text": [
      "ipdb>  tws_wtest[:, :-1].sum(axis=1)\n"
     ]
    },
    {
     "name": "stdout",
     "output_type": "stream",
     "text": [
      "tensor([307.2538, 270.9361, 308.1488, 308.3193, 289.8217, 307.8317, 308.8899,\n",
      "        303.4350, 258.7679, 308.0736, 308.1057, 308.9638, 278.1680, 308.8303,\n",
      "        304.0376, 236.6757, 207.0061, 291.8625, 308.0588, 308.9657, 307.4775,\n",
      "        307.1674, 307.4829, 308.7367, 303.6412, 303.4731, 309.1338, 301.0640,\n",
      "        308.2862, 304.1703,   0.0000, 303.4594, 277.9783, 307.6947, 307.7398,\n",
      "        306.5439, 293.9598, 303.9774,   0.0000, 308.8686, 270.5422, 308.7429,\n",
      "        309.1043, 308.7087, 307.2969, 306.6667, 308.5762, 308.9409, 308.8586,\n",
      "        308.0253, 308.8696, 303.7866, 262.7523, 308.7470, 309.0164, 308.2072,\n",
      "        308.2528, 305.3634, 308.5510, 308.3479, 280.1596, 307.2328, 305.3148,\n",
      "        307.6194, 291.3672, 309.0399, 305.8209, 298.9729, 308.9702, 307.9235,\n",
      "        307.4407, 306.3968, 307.8768, 307.6113, 307.8894, 308.3417, 307.8198,\n",
      "        306.5191, 307.5146, 303.5745, 307.8755, 308.0058, 308.5685, 308.8933,\n",
      "        305.1009, 278.9429, 276.0909, 307.7844, 306.3582, 308.6078, 308.8441,\n",
      "        307.9729, 308.2842, 308.9744, 308.3611, 262.0464, 306.9324, 308.0581,\n",
      "        305.8806, 308.6728, 306.2688, 307.3588, 309.0725, 305.4052, 302.3268,\n",
      "        301.2172, 299.7755, 303.2643, 308.5127, 308.6076, 295.1726, 307.7408,\n",
      "        280.4120, 308.9769, 296.5655, 306.5097, 307.4688, 301.3572, 308.3769,\n",
      "        301.0648, 308.0464, 297.8224, 309.1967, 301.8544, 298.4158, 304.3806,\n",
      "        309.3506, 297.9384, 308.6659, 306.2876, 291.7945, 307.0000, 307.8265,\n",
      "        305.6174, 298.9367, 308.6840, 308.6544, 307.1501, 308.9066, 273.7159,\n",
      "        308.6458, 297.4587, 309.0053, 307.2372, 308.7922, 305.4407, 307.7866,\n",
      "        309.1088, 307.6023, 308.0459, 307.8762, 308.5244, 307.6367, 306.8328,\n",
      "        306.9379, 272.8761, 304.8112, 299.8438, 308.9135, 298.2703, 307.6245,\n",
      "        296.7014, 308.9832, 308.3343, 307.5438, 305.1494, 308.1931, 293.5570,\n",
      "        307.0269, 302.8719, 304.3679, 300.6107, 308.6996, 307.7815, 231.3013,\n",
      "        303.0595, 308.5466, 309.3747, 304.7426, 308.8695, 305.6379, 307.3315,\n",
      "        307.7921, 307.0837, 289.1441, 308.8636, 305.0131, 298.5926, 309.0705,\n",
      "        307.3395, 308.5334, 303.8058, 284.3677, 306.3334, 307.0871, 300.9115,\n",
      "        308.9993, 283.8779, 308.5504, 308.9106, 306.5794, 308.3372, 304.7446,\n",
      "        295.9652, 308.3053, 296.5182, 308.9194, 307.1422, 307.8198, 309.0367,\n",
      "        305.1119, 308.0959, 307.9268, 306.1808, 300.3936, 278.5397, 307.7688,\n",
      "        307.6003, 308.1467, 298.4994, 307.6328, 305.3802, 308.0717, 308.5183,\n",
      "        292.8590, 306.5547, 308.8764, 309.2210, 309.0592, 300.4163, 299.2363,\n",
      "        306.9404, 309.0383, 307.2236, 296.0056, 301.1828, 278.3343, 308.8058,\n",
      "        304.8467, 304.8134, 308.9656, 308.9620, 306.5606, 299.9185,   0.0000,\n",
      "        285.4648, 306.9120, 309.1498, 304.2014, 307.7000, 306.8527, 266.3935,\n",
      "        308.9177, 308.2505, 307.7938, 308.8895, 309.3888, 308.4035, 302.2378,\n",
      "        303.3524, 308.6703, 307.3792, 304.2043, 295.6881, 309.1210, 306.7320,\n",
      "        308.2841, 308.2354, 281.5655, 296.7799, 308.8920, 305.5008, 309.1897,\n",
      "        290.0973, 307.2417, 308.4868, 298.7816, 246.3413, 309.1315, 250.4534,\n",
      "        306.9581, 298.9177, 294.9812, 307.6953, 308.5565, 304.3684, 307.6681,\n",
      "        308.5125, 307.6170, 302.6547, 283.3390, 304.2395, 309.0573, 292.0635,\n",
      "        306.7660, 303.6032, 252.3366, 297.2696, 305.8175, 307.8163, 305.0621,\n",
      "        307.4117, 308.9707, 307.3576, 308.0115, 307.3485, 186.8579, 307.9290,\n",
      "        308.7842, 308.6151, 308.0050, 282.2135, 301.6690, 308.6848, 307.8491,\n",
      "        305.1853, 308.7399, 308.5223, 304.7270, 307.9470, 286.0535, 308.3887,\n",
      "        306.0986, 305.5162, 298.9509, 307.0204, 307.3940, 196.4149, 308.8356,\n",
      "        298.1292, 308.8690, 308.1581, 308.7295, 307.5722, 307.1172, 308.6984,\n",
      "        225.4438, 293.4952, 308.3676, 206.3180, 291.0828, 280.5773, 304.0774,\n",
      "        307.7177, 306.2967, 309.0330, 296.5452, 306.8187, 292.5759, 305.3382,\n",
      "        300.6372, 308.8876, 307.5414, 308.9033, 300.9492, 308.9941, 307.0591,\n",
      "        308.1929, 308.8309, 306.8999, 301.8079, 305.4314, 308.4526, 308.8184,\n",
      "        307.7706, 308.5413, 308.1099, 307.0787, 307.6871, 308.9266, 305.3723,\n",
      "        308.7023, 306.5283, 308.8206, 301.7100, 304.0088, 308.3318, 287.1556,\n",
      "        309.0039, 308.9984, 303.9624, 304.6881, 306.4533, 308.6743, 309.1365,\n",
      "        234.2288, 308.9441, 308.9489, 302.0524, 307.8761, 308.7978, 269.8575,\n",
      "        308.7140, 306.4504, 167.8792, 307.5547, 306.2270, 308.0524, 306.7556,\n",
      "        293.2050, 305.6630, 306.2095, 304.9318, 307.0807, 306.9283, 308.0240,\n",
      "        305.8606, 277.0973, 307.8775, 308.7573, 300.1163, 307.9395, 307.9485,\n",
      "        306.6838, 283.7353, 308.4545, 295.1265, 307.0439, 307.7112, 309.2138,\n",
      "        308.6527, 308.1128, 304.3239, 236.8421, 307.8269, 307.3502, 306.9300,\n",
      "        303.9329, 308.8075, 305.7131, 309.0172, 285.1157, 306.7124, 305.0099,\n",
      "        298.4463, 305.2022, 309.2624, 307.4062, 308.2459, 305.4546, 308.6847,\n",
      "        307.9656, 309.0075, 307.0602, 304.0912, 307.4244, 305.5247, 308.8120,\n",
      "        307.8963, 304.0102, 309.1064, 195.0038, 307.7665, 306.5734, 307.8264,\n",
      "        300.2429, 309.1168, 308.7519, 307.4970, 304.9955, 308.7950, 308.9576,\n",
      "        308.1654, 302.7921,   0.0000, 307.7004, 303.5790, 303.2272, 306.3387,\n",
      "        308.4312, 306.9024, 303.4872, 308.5180, 298.4854, 306.0480, 308.0988,\n",
      "        307.6874, 306.6814, 306.9097, 306.7151, 308.9368, 306.3058, 307.4659,\n",
      "        308.3744, 240.7950, 302.5031, 308.0968, 308.6546, 273.0224, 307.7042,\n",
      "        308.8061, 303.3010, 309.0610, 308.9233, 303.4817, 305.9699, 307.8835,\n",
      "        307.5192, 308.1181,   0.0000])\n"
     ]
    },
    {
     "name": "stdin",
     "output_type": "stream",
     "text": [
      "ipdb>  nadd_ws\n"
     ]
    },
    {
     "name": "stdout",
     "output_type": "stream",
     "text": [
      "tensor([[  0.0000,   0.0000,   0.0000,  ...,   0.0000,   0.0000,   3.1959],\n",
      "        [  0.0000,   0.0000,  38.7500,  ...,   0.0000,   0.0000,  38.7500],\n",
      "        [  1.6316,   0.0000,   1.6316,  ...,   1.6316,   0.0000,   1.6316],\n",
      "        ...,\n",
      "        [  2.7679,   0.0000,   0.0000,  ...,   0.0000,   0.0000,   2.7679],\n",
      "        [  0.0000,   2.0946,   0.0000,  ...,   0.0000,   0.0000,   2.0946],\n",
      "        [  0.0000,   0.0000,   0.0000,  ...,   0.0000,   0.0000, 310.0000]])\n"
     ]
    },
    {
     "name": "stdin",
     "output_type": "stream",
     "text": [
      "ipdb>  add_ws\n"
     ]
    },
    {
     "name": "stdout",
     "output_type": "stream",
     "text": [
      "tensor([[0., 0., 0.,  ..., 0., 0., 1.],\n",
      "        [0., 0., 1.,  ..., 0., 0., 1.],\n",
      "        [1., 0., 1.,  ..., 1., 0., 1.],\n",
      "        ...,\n",
      "        [1., 0., 0.,  ..., 0., 0., 1.],\n",
      "        [0., 1., 0.,  ..., 0., 0., 1.],\n",
      "        [0., 0., 0.,  ..., 0., 0., 1.]])\n"
     ]
    },
    {
     "name": "stdin",
     "output_type": "stream",
     "text": [
      "ipdb>  add_ws.sum(axis=1)\n"
     ]
    },
    {
     "name": "stdout",
     "output_type": "stream",
     "text": [
      "tensor([ 97.,   8., 190., 287.,  11., 124., 286.,  42.,   9., 188., 135., 238.,\n",
      "          9., 259.,  65.,   5.,   3.,  31., 129., 256., 213.,  92., 105., 308.,\n",
      "         62.,  44., 306.,  38., 173.,  47.,   1.,  38.,  10., 143., 136.,  74.,\n",
      "         20.,  81.,   1., 303.,   7., 197., 283., 243.,  79.,  86., 193., 306.,\n",
      "        241., 273., 236.,  44.,   6., 310., 283., 165., 161.,  57., 234., 221.,\n",
      "         12., 163.,  63., 235.,  14., 274.,  64.,  26., 310., 168., 109.,  86.,\n",
      "        167., 112., 135., 259., 111.,  88., 134.,  59., 271., 144., 184., 223.,\n",
      "         76.,   9.,  10., 188., 108., 256., 216., 117., 226., 263., 197.,   7.,\n",
      "        112., 141.,  66., 205.,  73., 217., 296., 138.,  37.,  34.,  26.,  50.,\n",
      "        189., 203.,  19., 106.,  14., 296.,  26.,  76.,  97.,  72., 213.,  36.,\n",
      "        210.,  41., 308.,  35.,  31.,  51., 287.,  23., 297.,  71.,  14.,  95.,\n",
      "        214.,  52.,  22., 200., 253., 119., 221.,  10., 204.,  21., 258., 118.,\n",
      "        227.,  76., 130., 277., 124., 302., 137., 181., 151., 157., 119.,   9.,\n",
      "         56.,  28., 220.,  49., 170.,  22., 294., 188., 172.,  78., 172.,  24.,\n",
      "         91.,  79.,  59.,  35., 239., 120.,   3.,  45., 191., 310.,  59., 236.,\n",
      "         68., 217., 118.,  75.,  18., 261.,  68.,  21., 277., 191., 188.,  44.,\n",
      "         10.,  93., 150.,  47., 241.,  10., 186., 283.,  83., 112.,  87.,  19.,\n",
      "        212.,  33., 249., 193., 143., 273., 100., 197., 227.,  75.,  28.,  11.,\n",
      "        151., 105., 174.,  41., 175.,  93., 125., 160.,  19., 105., 279., 301.,\n",
      "        276.,  49.,  39., 136., 270., 160.,  25.,  42.,  14., 220.,  61.,  40.,\n",
      "        274., 287., 109.,  30.,   1.,  15.,  94., 293.,  44., 116.,  82.,   6.,\n",
      "        255., 176., 209., 243., 307., 174.,  38.,  48., 161., 154.,  47.,  20.,\n",
      "        310.,  72., 144., 274.,   9.,  37., 306.,  48., 308.,  24.,  90., 216.,\n",
      "         28.,   5., 307.,   5.,  84.,  41.,  17., 128., 178.,  67., 109., 246.,\n",
      "        145.,  55.,  13.,  48., 283.,  19., 101.,  36.,   5.,  25.,  80., 122.,\n",
      "         80., 127., 310., 186., 144., 119.,   3., 125., 291., 179., 151.,  12.,\n",
      "         37., 214., 124.,  54., 255., 174.,  52., 135.,  17., 287.,  65., 121.,\n",
      "         25.,  85.,  89.,   3., 292.,  42., 215., 154., 219., 140., 131., 189.,\n",
      "          4.,  22., 288.,   3.,  26.,  13.,  51., 310., 111., 281.,  22.,  65.,\n",
      "         17.,  54.,  31., 290., 110., 242.,  42., 268.,  92., 243., 222.,  78.,\n",
      "         33.,  90., 251., 221., 155., 200., 163., 105., 191., 276.,  72., 310.,\n",
      "        117., 286.,  30.,  50., 178.,  12., 235., 273.,  50.,  58.,  79., 198.,\n",
      "        303.,   5., 280., 272.,  39., 161., 212.,   8., 253.,  79.,   2., 107.,\n",
      "         69., 127., 101.,  25., 104.,  78.,  56., 107.,  81., 158.,  71.,   8.,\n",
      "        208., 310.,  26., 131., 129.,  80.,  15., 160.,  41., 113., 187., 310.,\n",
      "        310., 210.,  50.,   5., 143.,  98.,  84.,  43., 273.,  71., 283.,  11.,\n",
      "        100.,  60.,  21.,  76., 259., 109., 157.,  85., 201., 146., 269., 150.,\n",
      "         60.,  98.,  58., 276., 130.,  49., 278.,   3., 157.,  86., 114.,  39.,\n",
      "        295., 264., 102.,  61., 248., 261., 169.,  41.,   1., 115.,  49.,  44.,\n",
      "         71., 194.,  73.,  56., 309.,  32.,  71., 164., 211.,  85., 110.,  90.,\n",
      "        243.,  76., 142., 167.,   8.,  51., 182., 201.,   8., 123., 261.,  72.,\n",
      "        258., 288.,  41.,  93., 120., 112., 148.,   1.])\n"
     ]
    },
    {
     "name": "stdin",
     "output_type": "stream",
     "text": [
      "ipdb>  torch.where(add_ws.sum(axis=1)==1)\n"
     ]
    },
    {
     "name": "stdout",
     "output_type": "stream",
     "text": [
      "(tensor([ 30,  38, 244, 464, 499]),)\n"
     ]
    },
    {
     "name": "stdin",
     "output_type": "stream",
     "text": [
      "ipdb>  add_ws[30]\n"
     ]
    },
    {
     "name": "stdout",
     "output_type": "stream",
     "text": [
      "tensor([0., 0., 0., 0., 0., 0., 0., 0., 0., 0., 0., 0., 0., 0., 0., 0., 0., 0.,\n",
      "        0., 0., 0., 0., 0., 0., 0., 0., 0., 0., 0., 0., 0., 0., 0., 0., 0., 0.,\n",
      "        0., 0., 0., 0., 0., 0., 0., 0., 0., 0., 0., 0., 0., 0., 0., 0., 0., 0.,\n",
      "        0., 0., 0., 0., 0., 0., 0., 0., 0., 0., 0., 0., 0., 0., 0., 0., 0., 0.,\n",
      "        0., 0., 0., 0., 0., 0., 0., 0., 0., 0., 0., 0., 0., 0., 0., 0., 0., 0.,\n",
      "        0., 0., 0., 0., 0., 0., 0., 0., 0., 0., 0., 0., 0., 0., 0., 0., 0., 0.,\n",
      "        0., 0., 0., 0., 0., 0., 0., 0., 0., 0., 0., 0., 0., 0., 0., 0., 0., 0.,\n",
      "        0., 0., 0., 0., 0., 0., 0., 0., 0., 0., 0., 0., 0., 0., 0., 0., 0., 0.,\n",
      "        0., 0., 0., 0., 0., 0., 0., 0., 0., 0., 0., 0., 0., 0., 0., 0., 0., 0.,\n",
      "        0., 0., 0., 0., 0., 0., 0., 0., 0., 0., 0., 0., 0., 0., 0., 0., 0., 0.,\n",
      "        0., 0., 0., 0., 0., 0., 0., 0., 0., 0., 0., 0., 0., 0., 0., 0., 0., 0.,\n",
      "        0., 0., 0., 0., 0., 0., 0., 0., 0., 0., 0., 0., 0., 0., 0., 0., 0., 0.,\n",
      "        0., 0., 0., 0., 0., 0., 0., 0., 0., 0., 0., 0., 0., 0., 0., 0., 0., 0.,\n",
      "        0., 0., 0., 0., 0., 0., 0., 0., 0., 0., 0., 0., 0., 0., 0., 0., 0., 0.,\n",
      "        0., 0., 0., 0., 0., 0., 0., 0., 0., 0., 0., 0., 0., 0., 0., 0., 0., 0.,\n",
      "        0., 0., 0., 0., 0., 0., 0., 0., 0., 0., 0., 0., 0., 0., 0., 0., 0., 0.,\n",
      "        0., 0., 0., 0., 0., 0., 0., 0., 0., 0., 0., 0., 0., 0., 0., 0., 0., 0.,\n",
      "        0., 0., 0., 1.])\n"
     ]
    },
    {
     "name": "stdin",
     "output_type": "stream",
     "text": [
      "ipdb>  q\n"
     ]
    },
    {
     "ename": "BdbQuit",
     "evalue": "",
     "output_type": "error",
     "traceback": [
      "\u001b[0;31m---------------------------------------------------------------------------\u001b[0m",
      "\u001b[0;31mBdbQuit\u001b[0m                                   Traceback (most recent call last)",
      "\u001b[0;32m/tmp/ipykernel_44599/551124102.py\u001b[0m in \u001b[0;36m<module>\u001b[0;34m\u001b[0m\n\u001b[0;32m----> 1\u001b[0;31m _inner_fn(test_X2c, test_Y2c, ddpm, LCP=\"b-rlcp\", \n\u001b[0m\u001b[1;32m      2\u001b[0m           \u001b[0mh\u001b[0m\u001b[0;34m=\u001b[0m\u001b[0;36m0.8\u001b[0m\u001b[0;34m*\u001b[0m\u001b[0mnp\u001b[0m\u001b[0;34m.\u001b[0m\u001b[0msqrt\u001b[0m\u001b[0;34m(\u001b[0m\u001b[0mparams\u001b[0m\u001b[0;34m.\u001b[0m\u001b[0msimu_setting\u001b[0m\u001b[0;34m.\u001b[0m\u001b[0md\u001b[0m\u001b[0;34m)\u001b[0m\u001b[0;34m,\u001b[0m\u001b[0;34m\u001b[0m\u001b[0;34m\u001b[0m\u001b[0m\n\u001b[1;32m      3\u001b[0m           verbose=1)\n",
      "\u001b[0;32m/tmp/ipykernel_44599/915309290.py\u001b[0m in \u001b[0;36m_inner_fn\u001b[0;34m(X, Y, ddpm, LCP, h, verbose)\u001b[0m\n\u001b[1;32m     26\u001b[0m                          })\n\u001b[1;32m     27\u001b[0m     \u001b[0mwcf\u001b[0m\u001b[0;34m.\u001b[0m\u001b[0madd_data\u001b[0m\u001b[0;34m(\u001b[0m\u001b[0mX\u001b[0m\u001b[0;34m)\u001b[0m\u001b[0;34m\u001b[0m\u001b[0;34m\u001b[0m\u001b[0m\n\u001b[0;32m---> 28\u001b[0;31m     intvs = wcf(local_method=LCP, \n\u001b[0m\u001b[1;32m     29\u001b[0m                 \u001b[0malpha\u001b[0m\u001b[0;34m=\u001b[0m\u001b[0mparams\u001b[0m\u001b[0;34m.\u001b[0m\u001b[0mhypo_test\u001b[0m\u001b[0;34m.\u001b[0m\u001b[0malpha\u001b[0m\u001b[0;34m,\u001b[0m\u001b[0;34m\u001b[0m\u001b[0;34m\u001b[0m\u001b[0m\n\u001b[1;32m     30\u001b[0m                 lm_params={\"h\":h});\n",
      "\u001b[0;32m/data/rajlab1/user_data/jin/MyResearch/DG-CITE_paper/notebooks/../mypkg/local_weighted_conformal_inference.py\u001b[0m in \u001b[0;36m__call__\u001b[0;34m(self, local_method, alpha, lm_params)\u001b[0m\n\u001b[1;32m    172\u001b[0m         \u001b[0mintvs\u001b[0m \u001b[0;34m=\u001b[0m \u001b[0mself\u001b[0m\u001b[0;34m.\u001b[0m\u001b[0mget_intvs\u001b[0m\u001b[0;34m(\u001b[0m\u001b[0mself\u001b[0m\u001b[0;34m.\u001b[0m\u001b[0mtest_Y_hat\u001b[0m\u001b[0;34m,\u001b[0m \u001b[0mqvs\u001b[0m\u001b[0;34m)\u001b[0m\u001b[0;34m;\u001b[0m\u001b[0;34m\u001b[0m\u001b[0;34m\u001b[0m\u001b[0m\n\u001b[1;32m    173\u001b[0m         \u001b[0;31m#pdb.set_trace()\u001b[0m\u001b[0;34m\u001b[0m\u001b[0;34m\u001b[0m\u001b[0m\n\u001b[0;32m--> 174\u001b[0;31m         \u001b[0;32mreturn\u001b[0m \u001b[0mintvs\u001b[0m\u001b[0;34m\u001b[0m\u001b[0;34m\u001b[0m\u001b[0m\n\u001b[0m\u001b[1;32m    175\u001b[0m \u001b[0;34m\u001b[0m\u001b[0m\n\u001b[1;32m    176\u001b[0m \u001b[0;34m\u001b[0m\u001b[0m\n",
      "\u001b[0;32m/data/rajlab1/user_data/jin/MyResearch/DG-CITE_paper/notebooks/../mypkg/local_weighted_conformal_inference.py\u001b[0m in \u001b[0;36m__call__\u001b[0;34m(self, local_method, alpha, lm_params)\u001b[0m\n\u001b[1;32m    172\u001b[0m         \u001b[0mintvs\u001b[0m \u001b[0;34m=\u001b[0m \u001b[0mself\u001b[0m\u001b[0;34m.\u001b[0m\u001b[0mget_intvs\u001b[0m\u001b[0;34m(\u001b[0m\u001b[0mself\u001b[0m\u001b[0;34m.\u001b[0m\u001b[0mtest_Y_hat\u001b[0m\u001b[0;34m,\u001b[0m \u001b[0mqvs\u001b[0m\u001b[0;34m)\u001b[0m\u001b[0;34m;\u001b[0m\u001b[0;34m\u001b[0m\u001b[0;34m\u001b[0m\u001b[0m\n\u001b[1;32m    173\u001b[0m         \u001b[0;31m#pdb.set_trace()\u001b[0m\u001b[0;34m\u001b[0m\u001b[0;34m\u001b[0m\u001b[0m\n\u001b[0;32m--> 174\u001b[0;31m         \u001b[0;32mreturn\u001b[0m \u001b[0mintvs\u001b[0m\u001b[0;34m\u001b[0m\u001b[0;34m\u001b[0m\u001b[0m\n\u001b[0m\u001b[1;32m    175\u001b[0m \u001b[0;34m\u001b[0m\u001b[0m\n\u001b[1;32m    176\u001b[0m \u001b[0;34m\u001b[0m\u001b[0m\n",
      "\u001b[0;32m/opt/conda/lib/python3.9/bdb.py\u001b[0m in \u001b[0;36mtrace_dispatch\u001b[0;34m(self, frame, event, arg)\u001b[0m\n\u001b[1;32m     86\u001b[0m             \u001b[0;32mreturn\u001b[0m \u001b[0;31m# None\u001b[0m\u001b[0;34m\u001b[0m\u001b[0;34m\u001b[0m\u001b[0m\n\u001b[1;32m     87\u001b[0m         \u001b[0;32mif\u001b[0m \u001b[0mevent\u001b[0m \u001b[0;34m==\u001b[0m \u001b[0;34m'line'\u001b[0m\u001b[0;34m:\u001b[0m\u001b[0;34m\u001b[0m\u001b[0;34m\u001b[0m\u001b[0m\n\u001b[0;32m---> 88\u001b[0;31m             \u001b[0;32mreturn\u001b[0m \u001b[0mself\u001b[0m\u001b[0;34m.\u001b[0m\u001b[0mdispatch_line\u001b[0m\u001b[0;34m(\u001b[0m\u001b[0mframe\u001b[0m\u001b[0;34m)\u001b[0m\u001b[0;34m\u001b[0m\u001b[0;34m\u001b[0m\u001b[0m\n\u001b[0m\u001b[1;32m     89\u001b[0m         \u001b[0;32mif\u001b[0m \u001b[0mevent\u001b[0m \u001b[0;34m==\u001b[0m \u001b[0;34m'call'\u001b[0m\u001b[0;34m:\u001b[0m\u001b[0;34m\u001b[0m\u001b[0;34m\u001b[0m\u001b[0m\n\u001b[1;32m     90\u001b[0m             \u001b[0;32mreturn\u001b[0m \u001b[0mself\u001b[0m\u001b[0;34m.\u001b[0m\u001b[0mdispatch_call\u001b[0m\u001b[0;34m(\u001b[0m\u001b[0mframe\u001b[0m\u001b[0;34m,\u001b[0m \u001b[0marg\u001b[0m\u001b[0;34m)\u001b[0m\u001b[0;34m\u001b[0m\u001b[0;34m\u001b[0m\u001b[0m\n",
      "\u001b[0;32m/opt/conda/lib/python3.9/bdb.py\u001b[0m in \u001b[0;36mdispatch_line\u001b[0;34m(self, frame)\u001b[0m\n\u001b[1;32m    111\u001b[0m         \u001b[0;32mif\u001b[0m \u001b[0mself\u001b[0m\u001b[0;34m.\u001b[0m\u001b[0mstop_here\u001b[0m\u001b[0;34m(\u001b[0m\u001b[0mframe\u001b[0m\u001b[0;34m)\u001b[0m \u001b[0;32mor\u001b[0m \u001b[0mself\u001b[0m\u001b[0;34m.\u001b[0m\u001b[0mbreak_here\u001b[0m\u001b[0;34m(\u001b[0m\u001b[0mframe\u001b[0m\u001b[0;34m)\u001b[0m\u001b[0;34m:\u001b[0m\u001b[0;34m\u001b[0m\u001b[0;34m\u001b[0m\u001b[0m\n\u001b[1;32m    112\u001b[0m             \u001b[0mself\u001b[0m\u001b[0;34m.\u001b[0m\u001b[0muser_line\u001b[0m\u001b[0;34m(\u001b[0m\u001b[0mframe\u001b[0m\u001b[0;34m)\u001b[0m\u001b[0;34m\u001b[0m\u001b[0;34m\u001b[0m\u001b[0m\n\u001b[0;32m--> 113\u001b[0;31m             \u001b[0;32mif\u001b[0m \u001b[0mself\u001b[0m\u001b[0;34m.\u001b[0m\u001b[0mquitting\u001b[0m\u001b[0;34m:\u001b[0m \u001b[0;32mraise\u001b[0m \u001b[0mBdbQuit\u001b[0m\u001b[0;34m\u001b[0m\u001b[0;34m\u001b[0m\u001b[0m\n\u001b[0m\u001b[1;32m    114\u001b[0m         \u001b[0;32mreturn\u001b[0m \u001b[0mself\u001b[0m\u001b[0;34m.\u001b[0m\u001b[0mtrace_dispatch\u001b[0m\u001b[0;34m\u001b[0m\u001b[0;34m\u001b[0m\u001b[0m\n\u001b[1;32m    115\u001b[0m \u001b[0;34m\u001b[0m\u001b[0m\n",
      "\u001b[0;31mBdbQuit\u001b[0m: "
     ]
    }
   ],
   "source": [
    "_inner_fn(test_X2c, test_Y2c, ddpm, LCP=\"b-rlcp\", \n",
    "          h=0.8*np.sqrt(params.simu_setting.d), \n",
    "          verbose=1)"
   ]
  },
  {
   "cell_type": "code",
   "execution_count": 117,
   "id": "d3e157ce-a016-452d-9b47-b3107b16a130",
   "metadata": {
    "execution": {
     "iopub.execute_input": "2024-02-22T22:51:10.769582Z",
     "iopub.status.busy": "2024-02-22T22:51:10.768838Z",
     "iopub.status.idle": "2024-02-22T22:51:13.846103Z",
     "shell.execute_reply": "2024-02-22T22:51:13.845590Z",
     "shell.execute_reply.started": "2024-02-22T22:51:10.769532Z"
    },
    "tags": []
   },
   "outputs": [
    {
     "data": {
      "text/plain": [
       "(0.948, 15.063553)"
      ]
     },
     "execution_count": 117,
     "metadata": {},
     "output_type": "execute_result"
    }
   ],
   "source": [
    "_inner_fn(test_X2, test_Y2, ddpm, LCP=\"b-rlcp\", \n",
    "          h=0.8*np.sqrt(params.simu_setting.d), \n",
    "          verbose=1)"
   ]
  },
  {
   "cell_type": "code",
   "execution_count": 113,
   "id": "38d01a16-df30-4c99-880b-7c97ee874066",
   "metadata": {
    "execution": {
     "iopub.execute_input": "2024-02-22T22:50:39.736546Z",
     "iopub.status.busy": "2024-02-22T22:50:39.735825Z",
     "iopub.status.idle": "2024-02-22T22:50:42.810944Z",
     "shell.execute_reply": "2024-02-22T22:50:42.810520Z",
     "shell.execute_reply.started": "2024-02-22T22:50:39.736493Z"
    },
    "tags": []
   },
   "outputs": [
    {
     "data": {
      "text/plain": [
       "(0.952, 15.178436)"
      ]
     },
     "execution_count": 113,
     "metadata": {},
     "output_type": "execute_result"
    }
   ],
   "source": [
    "_inner_fn(test_X2, test_Y2, ddpm, LCP=\"g-rlcp\", \n",
    "          h=0.6,\n",
    "          verbose=1)"
   ]
  },
  {
   "cell_type": "code",
   "execution_count": null,
   "id": "ed0e84a3-7a6d-4e9d-b36b-bddafd93ca20",
   "metadata": {},
   "outputs": [],
   "source": []
  },
  {
   "cell_type": "code",
   "execution_count": null,
   "id": "323d4c0f-fa5c-4459-afd8-7cc252c0cbe0",
   "metadata": {},
   "outputs": [],
   "source": [
    "        \n",
    "            \n",
    "            \n",
    "        \n",
    "        tmpX=torch.tensor(data_train.X[tr_idxs], dtype=params.df_dtype);\n",
    "        opt_h = get_opth(X=tmpX, hmin=0.1, local_method=\"RLCP\", target_eff_size=None)\n",
    "        # get the results\n",
    "        res_all = edict()\n",
    "        \n",
    "        # results under the final model\n",
    "        ddpm = myddpm.ddpm\n",
    "        ddpm.eval()\n",
    "        res_all.DDIM = _inner_fn(test_X, test_Y, ddpm, gen_type=\"ddim\", LCP=False)\n",
    "        res_all.DDIM1 = _inner_fn(test_X1, test_Y1, ddpm, gen_type=\"ddim\", LCP=False)\n",
    "        res_all.DDIM2 = _inner_fn(test_X2, test_Y2, ddpm, gen_type=\"ddim\", LCP=False)\n",
    "        res_all.DDIM2c = _inner_fn(test_X2c, test_Y2c, ddpm, gen_type=\"ddim\", LCP=False)\n",
    "        res_all.DDIM_val = _inner_fn(val_X, val_Y, ddpm, gen_type=\"ddim\", LCP=False)\n",
    "        \n",
    "        res_all.LDDIM = _inner_fn(test_X, test_Y, ddpm, gen_type=\"ddim\", LCP=True)\n",
    "        res_all.LDDIM1 = _inner_fn(test_X1, test_Y1, ddpm, gen_type=\"ddim\", LCP=True)\n",
    "        res_all.LDDIM2 = _inner_fn(test_X2, test_Y2, ddpm, gen_type=\"ddim\", LCP=True)\n",
    "        res_all.LDDIM2c = _inner_fn(test_X2c, test_Y2c, ddpm, gen_type=\"ddim\", LCP=True)\n",
    "        \n",
    "   \n",
    "        # results from CQR\n",
    "        def _CQR_fn(test_X, test_Y):\n",
    "            if isinstance(test_X, torch.Tensor):\n",
    "                test_X = test_X.cpu().numpy()\n",
    "            if isinstance(test_Y, torch.Tensor):\n",
    "                test_Y = test_Y.cpu().numpy()\n",
    "            CQR_CIs = get_CQR_CIs(X=data_train.X, Y=data_train.Y, \n",
    "                                  T=data_train.T, Xtest=test_X, \n",
    "                                  nav=0, \n",
    "                                  alpha=params.hypo_test.alpha, \n",
    "                                  estimand=\"unconditional\",\n",
    "                                  fyx_est=\"quantBoosting\", seed=manualSeed)\n",
    "            mlen_cqr = np.median(CQR_CIs[:, 1] -  CQR_CIs[:, 0])\n",
    "            prb_Y1_cqr = np.bitwise_and(test_Y>CQR_CIs[:, 0],test_Y<CQR_CIs[:, 1]).mean()\n",
    "            return prb_Y1_cqr, mlen_cqr\n",
    "        res_all.CQR = _CQR_fn(test_X, test_Y)\n",
    "        res_all.CQR1 = _CQR_fn(test_X1, test_Y1)\n",
    "        res_all.CQR2 = _CQR_fn(test_X2, test_Y2)\n",
    "        res_all.CQR2c = _CQR_fn(test_X2c, test_Y2c)\n",
    "        \n",
    "     \n",
    "        \n",
    "        \n",
    "        save_pkl((RES_ROOT/params.save_dir)/f\"rep_{rep_ix}_{post_fix}_res.pkl\", res_all, is_force=True)\n",
    "        all_models = list(myddpm.save_dir.glob(f\"{myddpm.prefix}ddpm_epoch*.pth\"))\n",
    "        [m.unlink() for m in all_models]\n",
    "    else:\n",
    "        res_all = edict()\n",
    "        print(f\"As {fil_name} exists, we do not do anything\")"
   ]
  },
  {
   "cell_type": "code",
   "execution_count": 15,
   "id": "88628d5c-b727-4e76-898e-09152b112263",
   "metadata": {
    "execution": {
     "iopub.execute_input": "2024-02-22T04:31:30.931466Z",
     "iopub.status.busy": "2024-02-22T04:31:30.930832Z",
     "iopub.status.idle": "2024-02-22T04:31:31.051834Z",
     "shell.execute_reply": "2024-02-22T04:31:31.050860Z",
     "shell.execute_reply.started": "2024-02-22T04:31:30.931417Z"
    },
    "tags": []
   },
   "outputs": [
    {
     "data": {
      "text/plain": [
       "{'DDIM': [0.964, 14.017761],\n",
       " 'DDIM1': [0.96, 13.571974],\n",
       " 'DDIM2': [0.962, 13.748566],\n",
       " 'DDIM2c': [0.97, 14.220329],\n",
       " 'DDIM_val': [0.9783783783783784, 14.089476],\n",
       " 'LDDIM': [0.966, 14.068567],\n",
       " 'LDDIM1': [0.96, 13.611632],\n",
       " 'LDDIM2': [0.962, 13.841884],\n",
       " 'LDDIM2c': [0.972, 14.267017],\n",
       " 'CQR': [0.959, 6.2184535708958135],\n",
       " 'CQR1': [0.968, 7.071869951586454],\n",
       " 'CQR2': [0.954, 6.647186392210061],\n",
       " 'CQR2c': [0.964, 5.935847625521185]}"
      ]
     },
     "execution_count": 15,
     "metadata": {},
     "output_type": "execute_result"
    }
   ],
   "source": [
    "res_all"
   ]
  },
  {
   "cell_type": "code",
   "execution_count": 15,
   "id": "b475c7e3-dd66-4b05-9e57-1910e68d7cef",
   "metadata": {
    "execution": {
     "iopub.execute_input": "2024-02-22T04:31:30.931466Z",
     "iopub.status.busy": "2024-02-22T04:31:30.930832Z",
     "iopub.status.idle": "2024-02-22T04:31:31.051834Z",
     "shell.execute_reply": "2024-02-22T04:31:31.050860Z",
     "shell.execute_reply.started": "2024-02-22T04:31:30.931417Z"
    },
    "tags": []
   },
   "outputs": [
    {
     "data": {
      "text/plain": [
       "{'DDIM': [0.964, 14.017761],\n",
       " 'DDIM1': [0.96, 13.571974],\n",
       " 'DDIM2': [0.962, 13.748566],\n",
       " 'DDIM2c': [0.97, 14.220329],\n",
       " 'DDIM_val': [0.9783783783783784, 14.089476],\n",
       " 'LDDIM': [0.966, 14.068567],\n",
       " 'LDDIM1': [0.96, 13.611632],\n",
       " 'LDDIM2': [0.962, 13.841884],\n",
       " 'LDDIM2c': [0.972, 14.267017],\n",
       " 'CQR': [0.959, 6.2184535708958135],\n",
       " 'CQR1': [0.968, 7.071869951586454],\n",
       " 'CQR2': [0.954, 6.647186392210061],\n",
       " 'CQR2c': [0.964, 5.935847625521185]}"
      ]
     },
     "execution_count": 15,
     "metadata": {},
     "output_type": "execute_result"
    }
   ],
   "source": [
    "res_all"
   ]
  },
  {
   "cell_type": "code",
   "execution_count": 16,
   "id": "2167854e-f00c-47a9-b390-7f3c4d08ed5e",
   "metadata": {
    "execution": {
     "iopub.execute_input": "2024-02-22T04:33:43.113342Z",
     "iopub.status.busy": "2024-02-22T04:33:43.112694Z",
     "iopub.status.idle": "2024-02-22T04:33:43.258375Z",
     "shell.execute_reply": "2024-02-22T04:33:43.257174Z",
     "shell.execute_reply.started": "2024-02-22T04:33:43.113295Z"
    }
   },
   "outputs": [],
   "source": [
    "def _inner_fn1(X, Y, ddpm, gen_type=\"ddpm\", gen_params={\"ddim_eta\": 1}, LCP=False):\n",
    "    # get the len of CI based on intvs, there intvs is a list, each ele is another list contains CIs ele=[CI1, CI2]\n",
    "    _get_intvs_len = lambda intvs: np.array([sum([np.diff(iv) for iv in intv])[0] for intv in intvs]);\n",
    "    # get weather vaule in vs is in CI in intvs or not \n",
    "    def _get_inset(vs, intvs):\n",
    "        in_set = []\n",
    "        for v, intv in zip(vs, intvs):\n",
    "            in_set.append(np.sum([np.bitwise_and(v>iv[0], v<iv[1]) for iv in intv]))\n",
    "        in_set = np.array(in_set)\n",
    "        return in_s\n",
    "    wcf = LocalWeightedConformalInference(cal_X, \n",
    "                         cal_Y,\n",
    "                         ddpm, ws_fn=wsfun, verbose=2, \n",
    "                         gen_type=gen_type,\n",
    "                         seed=manualSeed,\n",
    "                         n_jobs=params.n_jobs,\n",
    "                         inf_bs=params.inf_bs,\n",
    "                         device=params.device,\n",
    "                         gen_params=gen_params,\n",
    "                         wcf_params={\n",
    "                            \"K\": params.K, # num of sps for each X\n",
    "                            \"nwhigh\" : params.wconformal.nwthigh,\n",
    "                            \"nwlow\" : params.wconformal.nwtlow,\n",
    "                            \"useinf\": params.wconformal.useinf,\n",
    "                         })\n",
    "    wcf.add_data(X)\n",
    "    if not LCP:\n",
    "        intvs = wcf(local_method=None, alpha=params.hypo_test.alpha, lm_params={\"h\":opt_h});\n",
    "    else: \n",
    "        intvs = wcf(local_method=\"RLCP\", alpha=params.hypo_test.alpha, lm_params={\"h\":opt_h});\n",
    "    prbs = np.mean(_get_inset(Y, intvs))\n",
    "    mlen = np.median(_get_intvs_len(intvs))\n",
    "    return prbs, mlen\n",
    "        \n",
    "            \n",
    "            \n",
    "        \n"
   ]
  },
  {
   "cell_type": "code",
   "execution_count": 18,
   "id": "52af6471-ac72-4757-bd4b-48a02c6efb91",
   "metadata": {
    "execution": {
     "iopub.execute_input": "2024-02-22T04:34:18.958023Z",
     "iopub.status.busy": "2024-02-22T04:34:18.957377Z",
     "iopub.status.idle": "2024-02-22T04:34:21.242293Z",
     "shell.execute_reply": "2024-02-22T04:34:21.241653Z",
     "shell.execute_reply.started": "2024-02-22T04:34:18.957975Z"
    },
    "tags": []
   },
   "outputs": [
    {
     "name": "stderr",
     "output_type": "stream",
     "text": [
      "2024-02-21 20:34:18,998 - weighted_conformal_inference - INFO - wcf params is {'K': 40, 'nwhigh': 20, 'nwlow': 0.05, 'useinf': False, 'cf_type': 'PCP'}\n",
      "INFO:weighted_conformal_inference:wcf params is {'K': 40, 'nwhigh': 20, 'nwlow': 0.05, 'useinf': False, 'cf_type': 'PCP'}\n",
      "2024-02-21 20:34:19,000 - weighted_conformal_inference - INFO - gen params is {'ddim_timesteps': 50, 'ddim_eta': 1, 'gen_type': 'ddim'}\n",
      "INFO:weighted_conformal_inference:gen params is {'ddim_timesteps': 50, 'ddim_eta': 1, 'gen_type': 'ddim'}\n",
      "100%|████████████████████████████████████████████████████████████████████████████| 8/8 [00:00<00:00, 3802.63it/s]\n",
      "100%|████████████████████████████████████████████████████████████████████████████| 7/7 [00:00<00:00, 3962.23it/s]\n"
     ]
    },
    {
     "data": {
      "text/plain": [
       "(0.96, 13.571974)"
      ]
     },
     "execution_count": 18,
     "metadata": {},
     "output_type": "execute_result"
    }
   ],
   "source": [
    "ddpm = myddpm.ddpm\n",
    "ddpm.eval()\n",
    "_inner_fn(test_X1, test_Y1, ddpm, gen_type=\"ddim\", LCP=False)"
   ]
  },
  {
   "cell_type": "code",
   "execution_count": null,
   "id": "52912460-d373-48e1-bf94-bddb404a528d",
   "metadata": {},
   "outputs": [],
   "source": []
  }
 ],
 "metadata": {
  "kernelspec": {
   "display_name": "Python 3 (ipykernel)",
   "language": "python",
   "name": "python3"
  },
  "language_info": {
   "codemirror_mode": {
    "name": "ipython",
    "version": 3
   },
   "file_extension": ".py",
   "mimetype": "text/x-python",
   "name": "python",
   "nbconvert_exporter": "python",
   "pygments_lexer": "ipython3",
   "version": "3.9.7"
  },
  "toc-autonumbering": true
 },
 "nbformat": 4,
 "nbformat_minor": 5
}
