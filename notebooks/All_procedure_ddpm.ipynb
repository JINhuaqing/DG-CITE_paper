{
 "cells": [
  {
   "cell_type": "code",
   "execution_count": 1,
   "id": "7be37593-bf50-4fc1-b617-ff93ca3fb707",
   "metadata": {
    "execution": {
     "iopub.execute_input": "2023-12-17T18:31:55.265924Z",
     "iopub.status.busy": "2023-12-17T18:31:55.265431Z",
     "iopub.status.idle": "2023-12-17T18:31:55.282285Z",
     "shell.execute_reply": "2023-12-17T18:31:55.279314Z",
     "shell.execute_reply.started": "2023-12-17T18:31:55.265877Z"
    },
    "tags": []
   },
   "outputs": [],
   "source": [
    "import sys\n",
    "sys.path.append(\"../mypkg\")"
   ]
  },
  {
   "cell_type": "code",
   "execution_count": 7,
   "id": "07b88e62-b41f-477d-9466-3792508e209a",
   "metadata": {
    "execution": {
     "iopub.execute_input": "2023-12-17T08:48:15.087537Z",
     "iopub.status.busy": "2023-12-17T08:48:15.087379Z",
     "iopub.status.idle": "2023-12-17T08:48:15.110263Z",
     "shell.execute_reply": "2023-12-17T08:48:15.109838Z",
     "shell.execute_reply.started": "2023-12-17T08:48:15.087525Z"
    },
    "tags": []
   },
   "outputs": [],
   "source": [
    "plt.style.use(FIG_ROOT/\"base.mplstyle\")"
   ]
  },
  {
   "cell_type": "code",
   "execution_count": 2,
   "id": "91ac97e6-00aa-46a1-85cb-5b2a3c41e0e0",
   "metadata": {
    "execution": {
     "iopub.execute_input": "2023-12-17T18:31:55.285278Z",
     "iopub.status.busy": "2023-12-17T18:31:55.284472Z",
     "iopub.status.idle": "2023-12-17T18:31:57.789414Z",
     "shell.execute_reply": "2023-12-17T18:31:57.788135Z",
     "shell.execute_reply.started": "2023-12-17T18:31:55.285232Z"
    },
    "tags": []
   },
   "outputs": [],
   "source": [
    "from constants import RES_ROOT, FIG_ROOT, DATA_ROOT\n",
    "from utils.misc import load_pkl, save_pkl, merge_intervals\n",
    "from utils.colors import qual_cmap\n",
    "from utils.stats import weighted_quantile\n",
    "from data_gen import get_simu_data\n",
    "from utils.utils import MyDataSet, get_idx_sets\n",
    "from demo_settings import simu_settings\n",
    "from CQR import get_CQR_CIs\n",
    "from models.ddpm import ContextNet, ddpm_schedules, DDPM\n",
    "from ddpm.train_ddpm import TrainDDPM"
   ]
  },
  {
   "cell_type": "code",
   "execution_count": 3,
   "id": "f1775f04-ea35-40dc-90e8-61a284a9daf2",
   "metadata": {
    "execution": {
     "iopub.execute_input": "2023-12-17T18:31:57.794839Z",
     "iopub.status.busy": "2023-12-17T18:31:57.793507Z",
     "iopub.status.idle": "2023-12-17T18:31:57.829948Z",
     "shell.execute_reply": "2023-12-17T18:31:57.829497Z",
     "shell.execute_reply.started": "2023-12-17T18:31:57.794761Z"
    },
    "tags": []
   },
   "outputs": [],
   "source": [
    "%load_ext autoreload\n",
    "%autoreload 2\n",
    "# 0,1, 2, 3, be careful about the space"
   ]
  },
  {
   "cell_type": "code",
   "execution_count": 4,
   "id": "90d1fe06-f921-466f-a1c5-32f8f1e438f3",
   "metadata": {
    "execution": {
     "iopub.execute_input": "2023-12-17T18:31:57.830816Z",
     "iopub.status.busy": "2023-12-17T18:31:57.830566Z",
     "iopub.status.idle": "2023-12-17T18:31:58.202828Z",
     "shell.execute_reply": "2023-12-17T18:31:58.202132Z",
     "shell.execute_reply.started": "2023-12-17T18:31:57.830793Z"
    },
    "tags": []
   },
   "outputs": [],
   "source": [
    "import torch\n",
    "import scipy.stats as ss\n",
    "import numpy as np\n",
    "from easydict import EasyDict as edict\n",
    "import matplotlib.pyplot as plt\n",
    "import seaborn as sns\n",
    "from collections import defaultdict as ddict\n",
    "from tqdm import tqdm, trange\n",
    "import random\n",
    "from joblib import Parallel, delayed\n",
    "import pandas as pd\n",
    "from pprint import pprint\n",
    "plt.style.use(FIG_ROOT/\"base.mplstyle\")"
   ]
  },
  {
   "cell_type": "code",
   "execution_count": null,
   "id": "e79682dc-16fa-4f9e-95e8-29db9892a33c",
   "metadata": {},
   "outputs": [],
   "source": []
  },
  {
   "cell_type": "markdown",
   "id": "36d9868b-5cac-4c68-b15d-976c8deadad3",
   "metadata": {},
   "source": [
    "# Params"
   ]
  },
  {
   "cell_type": "code",
   "execution_count": 5,
   "id": "9ddba3ca-e73f-4662-99fb-cc8451c01d0f",
   "metadata": {
    "execution": {
     "iopub.execute_input": "2023-12-17T18:31:58.203642Z",
     "iopub.status.busy": "2023-12-17T18:31:58.203477Z",
     "iopub.status.idle": "2023-12-17T18:31:58.221870Z",
     "shell.execute_reply": "2023-12-17T18:31:58.221464Z",
     "shell.execute_reply.started": "2023-12-17T18:31:58.203628Z"
    },
    "tags": []
   },
   "outputs": [
    {
     "data": {
      "text/plain": [
       "'setting1'"
      ]
     },
     "execution_count": 5,
     "metadata": {},
     "output_type": "execute_result"
    }
   ],
   "source": [
    "setting = \"setting1\""
   ]
  },
  {
   "cell_type": "code",
   "execution_count": 14,
   "id": "fcc1385b-ef40-40a0-8bb6-d0044845e4ff",
   "metadata": {
    "execution": {
     "iopub.execute_input": "2023-12-17T22:30:10.815792Z",
     "iopub.status.busy": "2023-12-17T22:30:10.815153Z",
     "iopub.status.idle": "2023-12-17T22:30:10.864894Z",
     "shell.execute_reply": "2023-12-17T22:30:10.864199Z",
     "shell.execute_reply.started": "2023-12-17T22:30:10.815742Z"
    },
    "tags": []
   },
   "outputs": [
    {
     "name": "stdout",
     "output_type": "stream",
     "text": [
      "{'cal_ratio': 0.25,\n",
      " 'd': 10,\n",
      " 'is_homo': True,\n",
      " 'n': 3000,\n",
      " 'ntest': 1000,\n",
      " 'rho': 0,\n",
      " 'val_ratio': 0.15}\n"
     ]
    }
   ],
   "source": [
    "params = edict()\n",
    "\n",
    "params.simu_setting = edict()\n",
    "params.simu_setting.rho = 0.9\n",
    "params.simu_setting.is_homo = False\n",
    "params.simu_setting.n = 1000\n",
    "params.simu_setting.d = 10\n",
    "params.simu_setting.ntest = 1000\n",
    "params.simu_setting.cal_ratio = 0.25 # for conformal inference\n",
    "params.simu_setting.val_ratio = 0.15 # for tuning network\n",
    "params.simu_setting.update(simu_settings[setting])\n",
    "params.simu_setting.n = 3000\n",
    "pprint(params.simu_setting)\n",
    "\n",
    "\n",
    "params.nrep = 50 # num of reptition for simulation\n",
    "params.K = 40 # num of sps drawn from q(Y(1)|X)\n",
    "params.save_snapshot = 100\n",
    "params.dftype = torch.float32\n",
    "params.device=\"cpu\"\n",
    "params.n_jobs = 30\n",
    "params.verbose = True\n",
    "\n",
    "params.ddpm_training = edict()\n",
    "# Batch size during training\n",
    "params.ddpm_training.batch_size = 128 \n",
    "# Number of training epochs\n",
    "params.ddpm_training.n_epoch = 2000\n",
    "params.ddpm_training.n_infeat = 256\n",
    "# Learning rate for optimizers\n",
    "params.ddpm_training.lr = 0.002\n",
    "params.ddpm_training.lr_gamma = 0.5\n",
    "params.ddpm_training.test_intv = 5\n",
    "params.ddpm_training.n_T = 400 # 100\n",
    "params.ddpm_training.drop_prob = 0.1\n",
    "\n",
    "params.wconformal = edict()\n",
    "# remove too large and too small in ws/mean(ws)\n",
    "params.wconformal.nwthigh = 20\n",
    "params.wconformal.nwtlow = 0.05\n",
    "params.wconformal.useinf = False\n",
    "\n",
    "\n",
    "params.hypo_test = edict()\n",
    "params.hypo_test.alpha = 0.05 # sig level\n",
    "\n",
    "params.prefix = \"\"\n",
    "params.save_dir = f\"demo_ddpm_{setting}_sc1a\"\n",
    "if not (RES_ROOT/params.save_dir).exists():\n",
    "    (RES_ROOT/params.save_dir).mkdir()"
   ]
  },
  {
   "cell_type": "code",
   "execution_count": null,
   "id": "f49856e5-6e41-4729-bf68-e5fab626944f",
   "metadata": {},
   "outputs": [],
   "source": []
  },
  {
   "cell_type": "markdown",
   "id": "07a9f8cc-6cbc-4a04-a57e-d2984a156c1f",
   "metadata": {},
   "source": [
    "# Some fns"
   ]
  },
  {
   "cell_type": "code",
   "execution_count": 7,
   "id": "d7610d42-fd40-4d50-81d7-04dc8abcfbab",
   "metadata": {
    "execution": {
     "iopub.execute_input": "2023-12-17T18:31:58.247238Z",
     "iopub.status.busy": "2023-12-17T18:31:58.247097Z",
     "iopub.status.idle": "2023-12-17T18:31:58.265885Z",
     "shell.execute_reply": "2023-12-17T18:31:58.265478Z",
     "shell.execute_reply.started": "2023-12-17T18:31:58.247225Z"
    },
    "tags": []
   },
   "outputs": [],
   "source": [
    "def _gen_Y_given_X(X, ddpm):\n",
    "    \"\"\"With generative model f(Y|X), generate Y given X\n",
    "    \"\"\"\n",
    "    if X.ndim == 1:\n",
    "        X = X.reshape(1, -1)\n",
    "    c = torch.tensor(X * np.ones((params.K, 1)), dtype=params.dftype).to(params.device);\n",
    "    with torch.no_grad():\n",
    "        x_0, _ = ddpm.sample(c, device=params.device, guide_w=2, is_store=False);\n",
    "    x_0 = x_0.cpu().numpy().reshape(-1)\n",
    "    return x_0\n",
    "\n",
    "def _get_pred_intv(X, qv, ddpm):\n",
    "    teY_hat = _gen_Y_given_X(X, ddpm);\n",
    "    intvs = np.stack([teY_hat-qv, teY_hat+qv]).T\n",
    "    return merge_intervals(intvs)\n",
    "\n",
    "def _get_metric(v, intvs):\n",
    "    if not isinstance(v, np.ndarray):\n",
    "        v = np.array(v)\n",
    "    in_sets = np.sum([np.bitwise_and(v>intv[0], v<intv[1]) for intv in intvs], axis=0)\n",
    "    intvs_len = np.sum([np.diff(intv) for intv in intvs])\n",
    "    metrics = edict()\n",
    "    metrics.in_sets = in_sets\n",
    "    metrics.intvs_len = intvs_len\n",
    "    return metrics"
   ]
  },
  {
   "cell_type": "code",
   "execution_count": null,
   "id": "6ac57650-1f6a-4a67-a2d2-5bed6642876b",
   "metadata": {},
   "outputs": [],
   "source": []
  },
  {
   "cell_type": "markdown",
   "id": "48e17734-f05e-45e1-9865-437b99ef143c",
   "metadata": {},
   "source": [
    "# Simu"
   ]
  },
  {
   "cell_type": "code",
   "execution_count": 8,
   "id": "99070bc4-55bb-4bac-a17d-51768765c245",
   "metadata": {
    "execution": {
     "iopub.execute_input": "2023-12-17T18:27:12.724883Z",
     "iopub.status.busy": "2023-12-17T18:27:12.724332Z",
     "iopub.status.idle": "2023-12-17T18:27:12.772155Z",
     "shell.execute_reply": "2023-12-17T18:27:12.771585Z",
     "shell.execute_reply.started": "2023-12-17T18:27:12.724840Z"
    },
    "tags": []
   },
   "outputs": [],
   "source": [
    "def _run_fn(rep_ix):\n",
    "    manualSeed = rep_ix\n",
    "    random.seed(manualSeed)\n",
    "    np.random.seed(manualSeed)\n",
    "    torch.manual_seed(manualSeed)\n",
    "    torch.use_deterministic_algorithms(True) # Needed for reproducible results\n",
    "    torch.set_default_dtype(params.dftype)\n",
    "    torch.set_default_device(params.device)\n",
    "    \n",
    "    #beta = np.concatenate([np.random.randn(5), np.zeros(params.simu_setting.d-5)])\n",
    "    #inp = np.random.randn(1) * 10                                \n",
    "    \n",
    "    data_train = get_simu_data(n=params.simu_setting.n, \n",
    "                               d=params.simu_setting.d, \n",
    "                               #beta=beta, \n",
    "                               #inp=inp,\n",
    "                               is_homo=params.simu_setting.is_homo, \n",
    "                               rho=params.simu_setting.rho);\n",
    "    data_test = get_simu_data(n=params.simu_setting.ntest, \n",
    "                               d=params.simu_setting.d, \n",
    "                               #beta=beta, \n",
    "                               #inp=inp,\n",
    "                               is_homo=params.simu_setting.is_homo, \n",
    "                               rho=params.simu_setting.rho);\n",
    "    \n",
    "    cal_idxs, val_idxs, tr_idxs = get_idx_sets(all_idxs=np.where(data_train.T)[0], \n",
    "                                               ratios = [params.simu_setting.cal_ratio, params.simu_setting.val_ratio])\n",
    "        \n",
    "        \n",
    "    # train q(Y(1)|X)\n",
    "    # I skip this for now, suppose you get one\n",
    "    data_train_ddpm = MyDataSet(Y=data_train.Y[tr_idxs], X=data_train.X[tr_idxs])\n",
    "    data_val = edict()\n",
    "    data_val.c =  data_train.X[val_idxs]\n",
    "    data_val.x =  data_train.Y[val_idxs]\n",
    "    \n",
    "    input_params = params.ddpm_training.copy()\n",
    "    input_params.pop(\"n_epoch\")\n",
    "    myddpm = TrainDDPM(data_train_ddpm, save_dir=params.save_dir, verbose=params.verbose, prefix=f\"rep{rep_ix}\", \n",
    "                       device=params.device,\n",
    "                       **input_params);\n",
    "    myddpm.train(n_epoch=params.ddpm_training.n_epoch, \n",
    "                 data_val=data_val, save_snapshot=params.save_snapshot)\n",
    "    ddpm = myddpm.get_opt_model()\n",
    "    #ddpm = myddpm.get_model(800)\n",
    "    ddpm.eval()\n",
    "        \n",
    "    ## propensity score\n",
    "    ## I can use all data in train set (including cal set)\n",
    "    #from sklearn.linear_model import LogisticRegression\n",
    "    #clf = LogisticRegression(random_state=0)\n",
    "    #psY = data_train.T.astype(int)\n",
    "    #psX = data_train.X\n",
    "    #clf = clf.fit(psX, psY);\n",
    "    #def psfun(x):\n",
    "    #    if x.ndim == 1:\n",
    "    #        x = x.reshape(1, -1)\n",
    "    #    return clf.predict_proba(x)[:, 1]\n",
    "    #\n",
    "    #\n",
    "    ## weight function\n",
    "    #def wtfun(x):\n",
    "    #    # for unconditional weight\n",
    "    #    return 1/psfun(x)\n",
    "    \n",
    "    # weight function\n",
    "    def wtfun(x):\n",
    "        if x.ndim == 1:\n",
    "            x = x.reshape(-1, 1)\n",
    "        # for unconditional weight\n",
    "        return np.ones(x.shape[0])\n",
    "    \n",
    "    # get the weight and nonconformity score for each data point in cal set\n",
    "    def _run_fn1(cal_idx):\n",
    "        torch.set_default_dtype(params.dftype)\n",
    "        cal_X = data_train.X[cal_idx]\n",
    "        cal_Y = data_train.Y1[cal_idx]\n",
    "        w = wtfun(cal_X)\n",
    "        \n",
    "        # draw K sps from q(Y|X)\n",
    "        Yhat = _gen_Y_given_X(cal_X, ddpm)\n",
    "            \n",
    "        # the nonconformity score\n",
    "        E = np.abs(Yhat - cal_Y).min()\n",
    "        \n",
    "        return [w[0], E]\n",
    "    if params.verbose:\n",
    "        pbar1 = tqdm(cal_idxs, total=len(cal_idxs))\n",
    "    else:\n",
    "        pbar1 = cal_idxs\n",
    "    with Parallel(n_jobs=params.n_jobs) as parallel:\n",
    "        wE_set = parallel(delayed(_run_fn1)(cal_idx) for cal_idx in pbar1)\n",
    "    ws = np.array(wE_set)[:, 0]\n",
    "    Es = np.array(wE_set)[:, 1];\n",
    "        \n",
    "        \n",
    "    # evaluate on test data\n",
    "    \n",
    "    def _run_fn2(te_idx):\n",
    "        torch.set_default_dtype(params.dftype)\n",
    "        teX = data_test.X[te_idx]\n",
    "        teY1 = data_test.Y1[te_idx]\n",
    "        tetau = data_test.tau[te_idx]\n",
    "        \n",
    "        # get qv for current test pt\n",
    "        ws_wtest = np.concatenate([ws, wtfun(teX)]);\n",
    "        Es_winf = np.concatenate([Es, [np.inf]]);\n",
    "        nws_wtest = ws_wtest/ws_wtest.mean();\n",
    "        nws_wtest[nws_wtest<params.wconformal.nwtlow] = params.wconformal.nwtlow\n",
    "        nws_wtest[nws_wtest>params.wconformal.nwthigh] = params.wconformal.nwthigh\n",
    "        # can not take the inf into consider\n",
    "        #qv_cur = weighted_quantile(Es_winf, [1-params.hypo_test.alpha], sample_weight=nws_wtest);\n",
    "        qt = (1 + nws_wtest[-1]/ nws_wtest[:-1].sum()) * (1 - params.hypo_test.alpha)\n",
    "        if qt <= 1:\n",
    "            qv_cur = weighted_quantile(Es, [qt], sample_weight=ws_wtest[:-1]);\n",
    "        else:\n",
    "            if params.wconformal.useinf:\n",
    "                qv_cur = np.inf\n",
    "            else:\n",
    "                qv_cur = np.max(Es)\n",
    "        \n",
    "        intvs = _get_pred_intv(teX, qv_cur, ddpm)\n",
    "        return _get_metric([teY1, tetau], intvs)\n",
    "    \n",
    "    if params.verbose:\n",
    "        pbar2 = tqdm(range(params.simu_setting.ntest), total=params.simu_setting.ntest)\n",
    "    else:\n",
    "        pbar2 = range(params.simu_setting.ntest)\n",
    "    with Parallel(n_jobs=params.n_jobs) as parallel:\n",
    "        test_res = parallel(delayed(_run_fn2)(te_idx) for te_idx in pbar2)\n",
    "    prbs = np.mean([res['in_sets'] for res in test_res], axis=0)\n",
    "    mlen = np.mean([res['intvs_len'] for res in test_res])\n",
    "        \n",
    "        \n",
    "    # results from CQR\n",
    "    CQR_CIs = get_CQR_CIs(X=data_train.X, Y=data_train.Y, \n",
    "                          T=data_train.T, Xtest=data_test.X, \n",
    "                          nav=0, \n",
    "                          alpha=params.hypo_test.alpha, \n",
    "                          estimand=\"nonmissing\",\n",
    "                          fyx_est=\"quantBoosting\", seed=manualSeed)\n",
    "    mlen_cqr = np.mean(CQR_CIs[:, 1] -  CQR_CIs[:, 0])\n",
    "    prb_Y1_cqr = np.bitwise_and(data_test.Y1>CQR_CIs[:, 0], data_test.Y1<CQR_CIs[:, 1]).mean()\n",
    "    prb_tau_cqr = np.bitwise_and(data_test.tau>CQR_CIs[:, 0], data_test.tau<CQR_CIs[:, 1]).mean()\n",
    "    \n",
    "    res_all = edict()\n",
    "    res_all.DDPM = (prbs, mlen)\n",
    "    res_all.CQR = ([prb_Y1_cqr, prb_tau_cqr], mlen_cqr)\n",
    "    return res_all"
   ]
  },
  {
   "cell_type": "code",
   "execution_count": null,
   "id": "4a284285-c07c-4d2c-8d83-4308a9aeee92",
   "metadata": {
    "execution": {
     "iopub.execute_input": "2023-12-17T09:03:56.696746Z",
     "iopub.status.busy": "2023-12-17T09:03:56.696215Z"
    },
    "scrolled": true,
    "tags": []
   },
   "outputs": [
    {
     "name": "stderr",
     "output_type": "stream",
     "text": [
      "  0%|                                                                                                                                                   | 0/50 [00:00<?, ?it/s]"
     ]
    }
   ],
   "source": [
    "with Parallel(n_jobs=1) as parallel:\n",
    "    test_ress = parallel(delayed(_run_fn)(rep_ix) for rep_ix in tqdm(range(params.nrep), total=params.nrep))\n",
    "\n",
    "save_pkl((RES_ROOT/params.save_dir)/f\"res_demo.pkl\", test_ress, is_force=True)"
   ]
  },
  {
   "cell_type": "code",
   "execution_count": 15,
   "id": "86688b65-32c1-4e2a-9919-512fd31fa7e8",
   "metadata": {
    "execution": {
     "iopub.execute_input": "2023-12-17T22:30:14.617648Z",
     "iopub.status.busy": "2023-12-17T22:30:14.617015Z",
     "iopub.status.idle": "2023-12-17T22:30:14.659166Z",
     "shell.execute_reply": "2023-12-17T22:30:14.658452Z",
     "shell.execute_reply.started": "2023-12-17T22:30:14.617599Z"
    },
    "tags": []
   },
   "outputs": [
    {
     "name": "stdout",
     "output_type": "stream",
     "text": [
      "Load file /data/rajlab1/user_data/jin/MyResearch/DG-CITE_paper/notebooks/../mypkg/../results/demo_ddpm_setting1_sc1a/res_demo.pkl\n"
     ]
    }
   ],
   "source": [
    "test_ress = load_pkl(RES_ROOT/params.save_dir/f\"res_demo.pkl\")\n",
    "ITE_prbs = ddict(list)\n",
    "CATE_prbs = ddict(list)\n",
    "lens = ddict(list)\n",
    "keys = test_ress[0].keys()\n",
    "for res in test_ress:\n",
    "    for ky, v in res.items():\n",
    "        ITE_prbs[ky].append(v[0][0])\n",
    "        CATE_prbs[ky].append(v[0][1])\n",
    "        lens[ky].append(v[1])"
   ]
  },
  {
   "cell_type": "code",
   "execution_count": 16,
   "id": "219e59c1-c757-49f7-b271-4c9ab194dd1c",
   "metadata": {
    "execution": {
     "iopub.execute_input": "2023-12-17T22:30:16.761454Z",
     "iopub.status.busy": "2023-12-17T22:30:16.760861Z",
     "iopub.status.idle": "2023-12-17T22:30:17.028160Z",
     "shell.execute_reply": "2023-12-17T22:30:17.027693Z",
     "shell.execute_reply.started": "2023-12-17T22:30:16.761380Z"
    },
    "tags": []
   },
   "outputs": [
    {
     "data": {
      "image/png": "[encoded data removed]",
      "text/plain": [
       "<Figure size 2000x600 with 3 Axes>"
      ]
     },
     "metadata": {
      "needs_background": "light"
     },
     "output_type": "display_data"
    }
   ],
   "source": [
    "plt.figure(figsize=[20, 6])\n",
    "plt.subplot(131)\n",
    "plt.title(\"ITE coverage prb\")\n",
    "df = pd.DataFrame(ITE_prbs);\n",
    "df1 = df.melt(var_name='Model', value_name='ITE prob')\n",
    "sns.boxplot(data=df1, y=\"ITE prob\", x=\"Model\")\n",
    "plt.axhline(y=0.95, color=\"red\");\n",
    "\n",
    "plt.subplot(132)\n",
    "plt.title(\"CATE coverage prb\")\n",
    "df = pd.DataFrame(CATE_prbs);\n",
    "df1 = df.melt(var_name='Model', value_name='CITE prob')\n",
    "sns.boxplot(data=df1, y=\"CITE prob\", x=\"Model\")\n",
    "plt.axhline(y=0.95, color=\"red\");\n",
    "\n",
    "plt.subplot(133)\n",
    "plt.title(\"Len of CI\")\n",
    "df = pd.DataFrame(lens);\n",
    "df1 = df.melt(var_name='Model', value_name='Len of CI')\n",
    "sns.boxplot(data=df1, y=\"Len of CI\", x=\"Model\", showfliers=False);"
   ]
  },
  {
   "cell_type": "code",
   "execution_count": 23,
   "id": "dd6867f9-139f-48e8-916f-bf2272390010",
   "metadata": {
    "execution": {
     "iopub.execute_input": "2023-12-17T22:30:54.825320Z",
     "iopub.status.busy": "2023-12-17T22:30:54.824639Z",
     "iopub.status.idle": "2023-12-17T22:30:54.863372Z",
     "shell.execute_reply": "2023-12-17T22:30:54.862720Z",
     "shell.execute_reply.started": "2023-12-17T22:30:54.825271Z"
    },
    "tags": []
   },
   "outputs": [
    {
     "data": {
      "text/plain": [
       "0.12"
      ]
     },
     "execution_count": 23,
     "metadata": {},
     "output_type": "execute_result"
    }
   ],
   "source": [
    "np.mean(df[\"DDPM\"] <= df[\"CQR\"])"
   ]
  },
  {
   "cell_type": "code",
   "execution_count": null,
   "id": "4561a25f-dd8e-4110-b918-125811076db3",
   "metadata": {},
   "outputs": [],
   "source": []
  },
  {
   "cell_type": "markdown",
   "id": "2b39d63d-d8ad-483c-8474-2edc93c9298d",
   "metadata": {},
   "source": [
    "# Compare results"
   ]
  },
  {
   "cell_type": "code",
   "execution_count": 21,
   "id": "80a93a78-fe1f-4029-adfa-1aefa3abd09c",
   "metadata": {
    "execution": {
     "iopub.execute_input": "2023-12-11T00:10:50.613881Z",
     "iopub.status.busy": "2023-12-11T00:10:50.613243Z",
     "iopub.status.idle": "2023-12-11T00:10:50.666081Z",
     "shell.execute_reply": "2023-12-11T00:10:50.665464Z",
     "shell.execute_reply.started": "2023-12-11T00:10:50.613833Z"
    },
    "tags": []
   },
   "outputs": [
    {
     "name": "stdout",
     "output_type": "stream",
     "text": [
      "Load file /data/rajlab1/user_data/jin/MyResearch/DG-CITE_paper/notebooks/../mypkg/../results/demo_setting10/res_demo.pkl\n",
      "Load file /data/rajlab1/user_data/jin/MyResearch/DG-CITE_paper/notebooks/../mypkg/../results/demo_setting1_test/res_demo.pkl\n"
     ]
    }
   ],
   "source": [
    "test_ress1 = load_pkl(RES_ROOT/\"demo_setting10/res_demo.pkl\")\n",
    "test_ress2 = load_pkl(RES_ROOT/\"demo_setting1_test/res_demo.pkl\")\n",
    "ITE_prbs = ddict(list)\n",
    "CATE_prbs = ddict(list)\n",
    "lens = ddict(list)\n",
    "for res in test_ress1:\n",
    "    for ky, v in res.items():\n",
    "        if ky == \"GAN\":\n",
    "            nky = ky\n",
    "        else:\n",
    "            nky = ky\n",
    "        ITE_prbs[nky].append(v[0][0])\n",
    "        CATE_prbs[nky].append(v[0][1])\n",
    "        lens[nky].append(v[1])\n",
    "for res in test_ress2:\n",
    "    for ky, v in res.items():\n",
    "        if ky == \"CQR\":\n",
    "            continue\n",
    "        nky = ky+\"-fixed\"\n",
    "        ITE_prbs[nky].append(v[0][0])\n",
    "        CATE_prbs[nky].append(v[0][1])\n",
    "        lens[nky].append(v[1])"
   ]
  },
  {
   "cell_type": "code",
   "execution_count": 22,
   "id": "a5f7d184-176b-4b0d-8143-d11e06a1d9bb",
   "metadata": {
    "execution": {
     "iopub.execute_input": "2023-12-11T00:10:51.260038Z",
     "iopub.status.busy": "2023-12-11T00:10:51.259478Z",
     "iopub.status.idle": "2023-12-11T00:10:51.561809Z",
     "shell.execute_reply": "2023-12-11T00:10:51.561347Z",
     "shell.execute_reply.started": "2023-12-11T00:10:51.259982Z"
    },
    "tags": []
   },
   "outputs": [
    {
     "data": {
      "image/png": "[encoded data removed]",
      "text/plain": [
       "<Figure size 2000x600 with 3 Axes>"
      ]
     },
     "metadata": {
      "needs_background": "light"
     },
     "output_type": "display_data"
    }
   ],
   "source": [
    "plt.figure(figsize=[20, 6])\n",
    "plt.subplot(131)\n",
    "plt.title(\"ITE coverage prb\")\n",
    "df = pd.DataFrame(ITE_prbs);\n",
    "df1 = df.melt(var_name='Model', value_name='ITE prob')\n",
    "sns.boxplot(data=df1, y=\"ITE prob\", x=\"Model\")\n",
    "plt.axhline(y=0.95, color=\"red\");\n",
    "\n",
    "plt.subplot(132)\n",
    "plt.title(\"CATE coverage prb\")\n",
    "df = pd.DataFrame(CATE_prbs);\n",
    "df1 = df.melt(var_name='Model', value_name='CITE prob')\n",
    "sns.boxplot(data=df1, y=\"CITE prob\", x=\"Model\")\n",
    "plt.axhline(y=0.95, color=\"red\");\n",
    "\n",
    "plt.subplot(133)\n",
    "plt.title(\"Len of CI\")\n",
    "df = pd.DataFrame(lens);\n",
    "df1 = df.melt(var_name='Model', value_name='Len of CI')\n",
    "sns.boxplot(data=df1, y=\"Len of CI\", x=\"Model\", showfliers=False);"
   ]
  },
  {
   "cell_type": "code",
   "execution_count": null,
   "id": "5fbc5459-495b-4d14-8a91-d25d1714d145",
   "metadata": {},
   "outputs": [],
   "source": []
  }
 ],
 "metadata": {
  "kernelspec": {
   "display_name": "Python 3 (ipykernel)",
   "language": "python",
   "name": "python3"
  },
  "language_info": {
   "codemirror_mode": {
    "name": "ipython",
    "version": 3
   },
   "file_extension": ".py",
   "mimetype": "text/x-python",
   "name": "python",
   "nbconvert_exporter": "python",
   "pygments_lexer": "ipython3",
   "version": "3.9.7"
  }
 },
 "nbformat": 4,
 "nbformat_minor": 5
}
