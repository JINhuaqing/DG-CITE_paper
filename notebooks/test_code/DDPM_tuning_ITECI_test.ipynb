{
 "cells": [
  {
   "cell_type": "code",
   "execution_count": 1,
   "id": "7be37593-bf50-4fc1-b617-ff93ca3fb707",
   "metadata": {
    "execution": {
     "iopub.execute_input": "2024-01-27T03:54:01.689239Z",
     "iopub.status.busy": "2024-01-27T03:54:01.688677Z",
     "iopub.status.idle": "2024-01-27T03:54:01.704258Z",
     "shell.execute_reply": "2024-01-27T03:54:01.702824Z",
     "shell.execute_reply.started": "2024-01-27T03:54:01.689193Z"
    },
    "tags": []
   },
   "outputs": [],
   "source": [
    "import sys\n",
    "sys.path.append(\"../mypkg\")"
   ]
  },
  {
   "cell_type": "code",
   "execution_count": 2,
   "id": "ad8d569b-0412-47de-a9bf-2bbbfde7e943",
   "metadata": {
    "execution": {
     "iopub.execute_input": "2024-01-27T03:54:10.524042Z",
     "iopub.status.busy": "2024-01-27T03:54:10.523324Z",
     "iopub.status.idle": "2024-01-27T03:54:13.103788Z",
     "shell.execute_reply": "2024-01-27T03:54:13.103202Z",
     "shell.execute_reply.started": "2024-01-27T03:54:10.523992Z"
    },
    "tags": []
   },
   "outputs": [],
   "source": [
    "from constants import RES_ROOT, FIG_ROOT, DATA_ROOT\n",
    "from utils.misc import load_pkl, save_pkl, merge_intervals\n",
    "from utils.colors import qual_cmap\n",
    "from utils.stats import weighted_quantile\n",
    "from data_gen_utils.data_gen_my2 import get_simu_data\n",
    "from utils.utils import MyDataSet, get_idx_sets\n",
    "from real_data_utils import get_data_from_rawreal\n",
    "from CQR import get_CQR_ITE_CIs, boosting_pred, boosting_logi, get_CF_CIs\n",
    "from ddpm.train_ddpm_now import TrainDDPM\n",
    "from weighted_conformal_inference import WeightedConformalInference\n",
    "from naive_sample import NaiveSample"
   ]
  },
  {
   "cell_type": "code",
   "execution_count": 3,
   "id": "f1775f04-ea35-40dc-90e8-61a284a9daf2",
   "metadata": {
    "execution": {
     "iopub.execute_input": "2024-01-27T03:54:13.805940Z",
     "iopub.status.busy": "2024-01-27T03:54:13.805199Z",
     "iopub.status.idle": "2024-01-27T03:54:13.847485Z",
     "shell.execute_reply": "2024-01-27T03:54:13.846503Z",
     "shell.execute_reply.started": "2024-01-27T03:54:13.805883Z"
    },
    "tags": []
   },
   "outputs": [],
   "source": [
    "%load_ext autoreload\n",
    "%autoreload 2\n",
    "# 0,1, 2, 3, be careful about the space"
   ]
  },
  {
   "cell_type": "code",
   "execution_count": 7,
   "id": "a42be2f3-7ab7-4f69-98eb-27ae79905c93",
   "metadata": {
    "execution": {
     "iopub.execute_input": "2024-01-27T03:54:39.850215Z",
     "iopub.status.busy": "2024-01-27T03:54:39.849606Z",
     "iopub.status.idle": "2024-01-27T03:54:39.892731Z",
     "shell.execute_reply": "2024-01-27T03:54:39.891631Z",
     "shell.execute_reply.started": "2024-01-27T03:54:39.850170Z"
    },
    "tags": []
   },
   "outputs": [],
   "source": [
    "import torch\n",
    "import scipy.stats as ss\n",
    "import numpy as np\n",
    "from easydict import EasyDict as edict\n",
    "import matplotlib.pyplot as plt\n",
    "import seaborn as sns\n",
    "from collections import defaultdict as ddict\n",
    "from tqdm import tqdm, trange\n",
    "import random\n",
    "from joblib import Parallel, delayed\n",
    "import pandas as pd\n",
    "from pprint import pprint\n",
    "from copy import deepcopy\n",
    "plt.style.use(FIG_ROOT/\"base.mplstyle\")"
   ]
  },
  {
   "cell_type": "markdown",
   "id": "5f1daada-ca8c-4a09-84f5-dfe6c045008d",
   "metadata": {},
   "source": [
    "# Params"
   ]
  },
  {
   "cell_type": "code",
   "execution_count": 27,
   "id": "4eec404a-e88e-44ca-956d-4614f9174bac",
   "metadata": {
    "execution": {
     "iopub.execute_input": "2024-01-28T21:30:11.143303Z",
     "iopub.status.busy": "2024-01-28T21:30:11.142678Z",
     "iopub.status.idle": "2024-01-28T21:30:11.265174Z",
     "shell.execute_reply": "2024-01-28T21:30:11.263967Z",
     "shell.execute_reply.started": "2024-01-28T21:30:11.143258Z"
    },
    "tags": []
   },
   "outputs": [],
   "source": [
    "data_train_raw = np.load(DATA_ROOT/\"ihdp_npci_1-1000.train.npz\");\n",
    "data_test_raw = np.load(DATA_ROOT/\"ihdp_npci_1-1000.test.npz\");"
   ]
  },
  {
   "cell_type": "code",
   "execution_count": 28,
   "id": "6cc79339-0cfa-4d15-9220-129cd5209122",
   "metadata": {
    "execution": {
     "iopub.execute_input": "2024-01-28T21:30:11.743319Z",
     "iopub.status.busy": "2024-01-28T21:30:11.742770Z",
     "iopub.status.idle": "2024-01-28T21:30:12.145062Z",
     "shell.execute_reply": "2024-01-28T21:30:12.144561Z",
     "shell.execute_reply.started": "2024-01-28T21:30:11.743275Z"
    },
    "tags": []
   },
   "outputs": [
    {
     "name": "stdout",
     "output_type": "stream",
     "text": [
      "{'cal_ratio': 0.25, 'd': 25, 'n': 672, 'ntest': 75}\n"
     ]
    }
   ],
   "source": [
    "params = edict()\n",
    "\n",
    "\n",
    "params.nrep = 1000 # num of reptition for simulation\n",
    "params.K = 40 # num of sps drawn from q(Y(1)|X)\n",
    "params.save_snapshot = 500\n",
    "params.df_dtype = torch.float32\n",
    "params.device=\"cpu\"\n",
    "params.n_jobs = 20\n",
    "params.verbose = True\n",
    "params.inf_bs = 40 # the inference batch, fct x K\n",
    "\n",
    "params.ddpm_training = edict()\n",
    "# Batch size during training\n",
    "params.ddpm_training.batch_size = 256 \n",
    "# Number of training epochs\n",
    "params.ddpm_training.n_epoch = 1000\n",
    "params.ddpm_training.n_infeat = 128\n",
    "# Learning rate for optimizers\n",
    "params.ddpm_training.lr = 0.001\n",
    "params.ddpm_training.lr_gamma = 0.5\n",
    "params.ddpm_training.lr_step = 1000\n",
    "params.ddpm_training.test_intv = 5\n",
    "params.ddpm_training.n_T = 400 # 100\n",
    "params.ddpm_training.n_upblk = 1\n",
    "params.ddpm_training.n_downblk = 1\n",
    "params.ddpm_training.weight_decay = 1e-2\n",
    "params.ddpm_training.early_stop = False\n",
    "params.ddpm_training.early_stop_dict = {\"early_stop_len\":50, \"early_stop_eps\": 5e-4}\n",
    "#params.ddpm_training.betas = [0.001, 0.5]\n",
    "\n",
    "params.wconformal = edict()\n",
    "# remove too large and too small in ws/mean(ws)\n",
    "params.wconformal.nwthigh = 20\n",
    "params.wconformal.nwtlow = 0.05\n",
    "params.wconformal.useinf = False\n",
    "\n",
    "\n",
    "params.hypo_test = edict()\n",
    "params.hypo_test.alpha = 0.05 # sig level\n",
    "\n",
    "tmp_data = get_data_from_rawreal(data_train_raw, rep_ix=0, nrep=params.nrep);\n",
    "tmp_data1 = get_data_from_rawreal(data_test_raw, rep_ix=0, nrep=params.nrep);\n",
    "tmp_data.X.shape\n",
    "params.simu_setting = edict()\n",
    "params.simu_setting.n = tmp_data.X.shape[0]\n",
    "params.simu_setting.d = tmp_data.X.shape[1]\n",
    "params.simu_setting.ntest = tmp_data1.X.shape[0]\n",
    "params.simu_setting.cal_ratio = 0.25 # for conformal inference\n",
    "\n",
    "pprint(params.simu_setting)\n",
    "params.prefix = \"\"\n",
    "params.save_dir = f\"demo_ddpm_test11\"\n",
    "if not (RES_ROOT/params.save_dir).exists():\n",
    "    (RES_ROOT/params.save_dir).mkdir()"
   ]
  },
  {
   "cell_type": "code",
   "execution_count": 29,
   "id": "8323bd12-8b5d-487a-8951-77e4c796e2d8",
   "metadata": {
    "execution": {
     "iopub.execute_input": "2024-01-28T21:30:12.895527Z",
     "iopub.status.busy": "2024-01-28T21:30:12.894945Z",
     "iopub.status.idle": "2024-01-28T21:30:12.934309Z",
     "shell.execute_reply": "2024-01-28T21:30:12.933175Z",
     "shell.execute_reply.started": "2024-01-28T21:30:12.895479Z"
    },
    "tags": []
   },
   "outputs": [],
   "source": [
    "torch.set_default_dtype(params.df_dtype)"
   ]
  },
  {
   "cell_type": "code",
   "execution_count": 30,
   "id": "cbb7d327-4751-4707-b301-9fbbd58f7a0f",
   "metadata": {
    "execution": {
     "iopub.execute_input": "2024-01-28T21:30:13.166451Z",
     "iopub.status.busy": "2024-01-28T21:30:13.165918Z",
     "iopub.status.idle": "2024-01-28T21:30:13.203345Z",
     "shell.execute_reply": "2024-01-28T21:30:13.202647Z",
     "shell.execute_reply.started": "2024-01-28T21:30:13.166407Z"
    },
    "tags": []
   },
   "outputs": [],
   "source": [
    "keys = [\"lr\", \"n_infeat\", \"n_T\", \"weight_decay\", \"n_upblk\", \"n_downblk\"]\n",
    "def _get_name_postfix(keys, ddpm_training):\n",
    "    lst = []\n",
    "    for key in keys:\n",
    "        if ddpm_training[key] >= 1:\n",
    "            lst.append(f\"{key}-{str(ddpm_training[key])}\")\n",
    "        else:\n",
    "            lst.append(f\"{key}--{str(ddpm_training[key]).split('.')[-1]}\")\n",
    "    return \"_\".join(lst)"
   ]
  },
  {
   "cell_type": "code",
   "execution_count": null,
   "id": "575dfd1a-a222-4972-9e57-d499f886584a",
   "metadata": {},
   "outputs": [],
   "source": []
  },
  {
   "cell_type": "markdown",
   "id": "b18c29d9-14e1-4e57-9a24-c09ba3605f4f",
   "metadata": {},
   "source": [
    "# Some fns"
   ]
  },
  {
   "cell_type": "code",
   "execution_count": 33,
   "id": "316a4571-9954-4f9a-b48a-d5da6d6f9556",
   "metadata": {
    "execution": {
     "iopub.execute_input": "2024-01-28T21:32:03.599438Z",
     "iopub.status.busy": "2024-01-28T21:32:03.598805Z",
     "iopub.status.idle": "2024-01-28T21:33:02.379493Z",
     "shell.execute_reply": "2024-01-28T21:33:02.378778Z",
     "shell.execute_reply.started": "2024-01-28T21:32:03.599390Z"
    },
    "scrolled": true,
    "tags": []
   },
   "outputs": [
    {
     "name": "stderr",
     "output_type": "stream",
     "text": [
      "2024-01-28 13:32:04,056 - ddpm.train_ddpm_now - INFO - The results are saved at /data/rajlab1/user_data/jin/MyResearch/DG-CITE_paper/notebooks/../mypkg/../results/demo_ddpm_test11.\n",
      "2024-01-28 13:32:04,074 - ddpm.train_ddpm_now - INFO - The params is {'lr': 0.01, 'batch_size': 256, 'device': 'cpu', 'n_T': 400, 'n_infeat': 256, 'n_upblk': 1, 'n_downblk': 1, 'betas': [0.0001, 0.02], 'lr_gamma': 0.5, 'lr_step': 1000, 'test_intv': 5, 'weight_decay': 0.01}\n",
      "2024-01-28 13:32:04,076 - ddpm.train_ddpm_now - WARNING - We do not do early stop, so any args in early_stop_dict are ignored.\n"
     ]
    },
    {
     "name": "stdout",
     "output_type": "stream",
     "text": [
      "The num of params is 1.20m. \n",
      "Adjusting learning rate of group 0 to 1.0000e-02.\n"
     ]
    },
    {
     "name": "stderr",
     "output_type": "stream",
     "text": [
      "loss: 0.2148:  50%|█████████████████████████████▍                             | 499/1000 [00:06<00:06, 78.95it/s]2024-01-28 13:32:10,522 - ddpm.train_ddpm_now - INFO - Save model rep10_lr--01_n_infeat-256_n_T-400_weight_decay--01_n_upblk-1_n_downblk-1_T1_ddpm_epoch500.pth.\n",
      "loss: 0.2103:  99%|██████████████████████████████████████████████████████████▋| 994/1000 [00:12<00:00, 78.97it/s]2024-01-28 13:32:16,890 - ddpm.train_ddpm_now - INFO - Save model rep10_lr--01_n_infeat-256_n_T-400_weight_decay--01_n_upblk-1_n_downblk-1_T1_ddpm_epoch1000.pth.\n",
      "loss: 0.2103: 100%|██████████████████████████████████████████████████████████| 1000/1000 [00:12<00:00, 77.66it/s]\n",
      "2024-01-28 13:32:16,958 - ddpm.train_ddpm_now - INFO - The results are saved at /data/rajlab1/user_data/jin/MyResearch/DG-CITE_paper/notebooks/../mypkg/../results/demo_ddpm_test11.\n",
      "2024-01-28 13:32:16,993 - ddpm.train_ddpm_now - INFO - The params is {'lr': 0.01, 'batch_size': 256, 'device': 'cpu', 'n_T': 400, 'n_infeat': 256, 'n_upblk': 1, 'n_downblk': 1, 'betas': [0.0001, 0.02], 'lr_gamma': 0.5, 'lr_step': 1000, 'test_intv': 5, 'weight_decay': 0.01}\n",
      "2024-01-28 13:32:16,995 - ddpm.train_ddpm_now - WARNING - We do not do early stop, so any args in early_stop_dict are ignored.\n"
     ]
    },
    {
     "name": "stdout",
     "output_type": "stream",
     "text": [
      "Adjusting learning rate of group 0 to 5.0000e-03.\n",
      "The num of params is 1.20m. \n",
      "Adjusting learning rate of group 0 to 1.0000e-02.\n"
     ]
    },
    {
     "name": "stderr",
     "output_type": "stream",
     "text": [
      "loss: 0.2653:  50%|█████████████████████████████▍                             | 499/1000 [00:16<00:14, 33.44it/s]2024-01-28 13:32:33,190 - ddpm.train_ddpm_now - INFO - Save model rep10_lr--01_n_infeat-256_n_T-400_weight_decay--01_n_upblk-1_n_downblk-1_T0_ddpm_epoch500.pth.\n",
      "loss: 0.1805: 100%|██████████████████████████████████████████████████████████▉| 999/1000 [00:31<00:00, 33.01it/s]2024-01-28 13:32:48,141 - ddpm.train_ddpm_now - INFO - Save model rep10_lr--01_n_infeat-256_n_T-400_weight_decay--01_n_upblk-1_n_downblk-1_T0_ddpm_epoch1000.pth.\n",
      "loss: 0.1805: 100%|██████████████████████████████████████████████████████████| 1000/1000 [00:31<00:00, 32.04it/s]\n",
      "2024-01-28 13:32:48,209 - weighted_conformal_inference - INFO - wcf params is {'K': 40, 'nwhigh': 20, 'nwlow': 0.05, 'useinf': False, 'cf_type': 'PCP'}\n",
      "2024-01-28 13:32:48,210 - weighted_conformal_inference - INFO - gen params is {'ddim_timesteps': 50, 'ddim_eta': 1, 'gen_type': 'ddim'}\n"
     ]
    },
    {
     "name": "stdout",
     "output_type": "stream",
     "text": [
      "Adjusting learning rate of group 0 to 5.0000e-03.\n"
     ]
    },
    {
     "name": "stderr",
     "output_type": "stream",
     "text": [
      "100%|████████████████████████████████████████████████████████████████████████████| 4/4 [00:00<00:00, 1015.45it/s]\n",
      "100%|████████████████████████████████████████████████████████████████████████████| 2/2 [00:00<00:00, 1088.58it/s]\n",
      "2024-01-28 13:32:52,711 - weighted_conformal_inference - INFO - wcf params is {'K': 40, 'nwhigh': 20, 'nwlow': 0.05, 'useinf': False, 'cf_type': 'PCP'}\n",
      "2024-01-28 13:32:52,712 - weighted_conformal_inference - INFO - gen params is {'ddim_timesteps': 50, 'ddim_eta': 1, 'gen_type': 'ddim'}\n",
      "100%|████████████████████████████████████████████████████████████████████████████| 1/1 [00:00<00:00, 1355.63it/s]\n",
      "100%|████████████████████████████████████████████████████████████████████████████| 2/2 [00:00<00:00, 1077.95it/s]\n",
      "2024-01-28 13:32:56,329 - naive_sample - INFO - gen params is {'ddim_timesteps': 50, 'ddim_eta': 1, 'gen_type': 'ddim'}\n",
      "2024-01-28 13:32:56,330 - naive_sample - INFO - gen params is {'ddim_timesteps': 50, 'ddim_eta': 1, 'gen_type': 'ddim'}\n",
      "100%|█████████████████████████████████████████████████████████████████████████| 15/15 [00:00<00:00, 13066.37it/s]\n",
      "100%|██████████████████████████████████████████████████████████████████████████| 15/15 [00:00<00:00, 8416.66it/s]\n"
     ]
    },
    {
     "name": "stdout",
     "output_type": "stream",
     "text": [
      "Save to /data/rajlab1/user_data/jin/MyResearch/DG-CITE_paper/notebooks/../mypkg/../results/demo_ddpm_test11/rep_10_lr--01_n_infeat-256_n_T-400_weight_decay--01_n_upblk-1_n_downblk-1_res.pkl\n"
     ]
    }
   ],
   "source": [
    "rep_ix = 10\n",
    "params = params\n",
    "lr = 1e-2\n",
    "n_infeat = 256\n",
    "n_T = 400\n",
    "weight_decay = 1e-2\n",
    "n_blk = 1\n",
    "if True:\n",
    "#def _main_fn(rep_ix, params, lr, n_infeat, n_T, weight_decay, n_blk):\n",
    "    manualSeed = rep_ix\n",
    "    random.seed(manualSeed)\n",
    "    np.random.seed(manualSeed)\n",
    "    torch.manual_seed(manualSeed)\n",
    "    torch.use_deterministic_algorithms(True) # Needed for reproducible results\n",
    "    params = edict(deepcopy(params))\n",
    "    params.ddpm_training.n_upblk = n_blk\n",
    "    params.ddpm_training.n_downblk = n_blk\n",
    "    params.ddpm_training.weight_decay = weight_decay\n",
    "    params.ddpm_training.n_T = n_T\n",
    "    params.ddpm_training.lr = lr\n",
    "    params.ddpm_training.n_infeat = n_infeat\n",
    "    keys = [\"lr\", \"n_infeat\", \"n_T\", \"weight_decay\", \"n_upblk\", \"n_downblk\"]\n",
    "    post_fix = _get_name_postfix(keys, params.ddpm_training)\n",
    "    \n",
    "    torch.set_default_dtype(params.df_dtype)\n",
    "    torch.set_default_device(params.device)\n",
    "    \n",
    "    fil_name = (RES_ROOT/params.save_dir)/f\"rep_{rep_ix}_{post_fix}_res.pkl\"\n",
    "    ofil_name = (RES_ROOT/params.save_dir)/f\"rep_{rep_ix}_others_res.pkl\"\n",
    "        \n",
    "        \n",
    "    if True:\n",
    "    #if not fil_name.exists():\n",
    "        data_train = get_data_from_rawreal(data_train_raw, rep_ix=rep_ix, nrep=params.nrep) \n",
    "        data_test = get_data_from_rawreal(data_test_raw, rep_ix=rep_ix, nrep=params.nrep) \n",
    "        \n",
    "        \n",
    "        # split data\n",
    "        # for T = 1\n",
    "        calT1_idxs, trT1_idxs = get_idx_sets(all_idxs=np.where(data_train.T)[0], \n",
    "                                                       ratios = [params.simu_setting.cal_ratio, \n",
    "                                                                ])\n",
    "        # for T = 0\n",
    "        calT0_idxs, trT0_idxs = get_idx_sets(all_idxs=np.where(data_train.T==0)[0], \n",
    "                                                       ratios = [params.simu_setting.cal_ratio, \n",
    "                                                                ])\n",
    "                \n",
    "        # get psfun\n",
    "        tr_idxs = np.sort(np.concatenate([trT0_idxs, trT1_idxs]))\n",
    "        psY = data_train.T[tr_idxs].astype(int)\n",
    "        psX = data_train.X[tr_idxs]\n",
    "        fit_res = boosting_logi(psY, psX);\n",
    "        def wsfun(X, typ_=\"naiveT1\"):\n",
    "            eps=1e-10\n",
    "            if isinstance(X, torch.Tensor):\n",
    "                X = X.cpu().numpy()\n",
    "            if X.ndim == 1:\n",
    "                X = X.reshape(1, -1)\n",
    "            est_ps = boosting_pred(X, fit_res)\n",
    "            if typ_ == \"naiveT1\":\n",
    "                est_ws = 1/(est_ps+eps)\n",
    "            elif typ_ == \"naiveT0\":\n",
    "                est_ws = 1/(1-est_ps+eps)\n",
    "            elif typ_ == \"nestT1\":\n",
    "                est_ws = (1-est_ps)/(est_ps+eps)\n",
    "            elif typ_ == \"nestT0\":\n",
    "                est_ws = (est_ps)/(1-est_ps+eps)\n",
    "            return torch.tensor(est_ws, dtype=params.df_dtype).to(device=params.device)\n",
    "        wsfunT0 = lambda X: wsfun(X, typ_=\"naiveT0\")\n",
    "        wsfunT1 = lambda X: wsfun(X, typ_=\"naiveT1\")\n",
    "            \n",
    "        \n",
    "        # calibration set, for conformal prediction\n",
    "        calT1_X = torch.tensor(data_train.X[calT1_idxs], dtype=params.df_dtype)\n",
    "        calT1_Y = torch.tensor(data_train.Y[calT1_idxs], dtype=params.df_dtype)\n",
    "        calT0_X = torch.tensor(data_train.X[calT0_idxs], dtype=params.df_dtype)\n",
    "        calT0_Y = torch.tensor(data_train.Y[calT0_idxs], dtype=params.df_dtype)\n",
    "        \n",
    "        # test set, evaluate the performance\n",
    "        test_X = torch.tensor(data_test.X, dtype=params.df_dtype)\n",
    "        test_Y1 = torch.tensor(data_test.Y1, dtype=params.df_dtype)\n",
    "        test_Y0 = torch.tensor(data_test.Y0, dtype=params.df_dtype)\n",
    "        \n",
    "        \n",
    "            \n",
    "        # train q(Y(1)|X)\n",
    "        data_train_ddpmT1 = MyDataSet(Y=data_train.Y[trT1_idxs], X=data_train.X[trT1_idxs])\n",
    "        input_params = edict(deepcopy(params.ddpm_training))\n",
    "        input_params.pop(\"n_epoch\")\n",
    "        input_params.pop(\"early_stop\")\n",
    "        input_params.pop(\"early_stop_dict\")\n",
    "        myddpmT1 = TrainDDPM(data_train_ddpmT1, save_dir=params.save_dir, verbose=params.verbose, prefix=f\"rep{rep_ix}_{post_fix}_T1\", \n",
    "                           device=params.device,\n",
    "                           **input_params);\n",
    "        myddpmT1.train(n_epoch=params.ddpm_training.n_epoch, \n",
    "                     save_snapshot=params.save_snapshot, \n",
    "                     early_stop=params.ddpm_training.early_stop, \n",
    "                     early_stop_dict=params.ddpm_training.early_stop_dict\n",
    "                     )\n",
    "        \n",
    "        # train q(Y(0)|X)\n",
    "        data_train_ddpmT0 = MyDataSet(Y=data_train.Y[trT0_idxs], X=data_train.X[trT0_idxs])\n",
    "        input_params = edict(deepcopy(params.ddpm_training))\n",
    "        input_params.pop(\"n_epoch\")\n",
    "        input_params.pop(\"early_stop\")\n",
    "        input_params.pop(\"early_stop_dict\")\n",
    "        myddpmT0 = TrainDDPM(data_train_ddpmT0, save_dir=params.save_dir, verbose=params.verbose, prefix=f\"rep{rep_ix}_{post_fix}_T0\", \n",
    "                           device=params.device,\n",
    "                           **input_params);\n",
    "        myddpmT0.train(n_epoch=params.ddpm_training.n_epoch, \n",
    "                     save_snapshot=params.save_snapshot, \n",
    "                     early_stop=params.ddpm_training.early_stop, \n",
    "                     early_stop_dict=params.ddpm_training.early_stop_dict\n",
    "                     )\n",
    "        \n",
    "        \n",
    "        def _inner_fn(X, Y0, Y1, ddpmT0, ddpmT1, gen_type=\"ddpm\", gen_params={\"ddim_eta\": 1}):\n",
    "            # get the len of CI based on intvs, there intvs is a list, each ele is another list contains CIs ele=[CI1, CI2]\n",
    "            _get_intvs_len = lambda intvs: np.array([sum([np.diff(iv) for iv in intv])[0] for intv in intvs]);\n",
    "            # get weather vaule in vs is in CI in intvs or not \n",
    "            def _get_inset(vs, intvs):\n",
    "                in_set = []\n",
    "                for v, intv in zip(vs, intvs):\n",
    "                    in_set.append(np.sum([np.bitwise_and(v>iv[0], v<iv[1]) for iv in intv]))\n",
    "                in_set = np.array(in_set)\n",
    "                return in_set\n",
    "            wcfT0 = WeightedConformalInference(calT0_X,\n",
    "                                               calT0_Y,\n",
    "                                               ddpmT0, \n",
    "                                               ws_fn=wsfunT0, \n",
    "                                               verbose=2, \n",
    "                                               gen_type=gen_type,\n",
    "                                               seed=manualSeed,\n",
    "                                               n_jobs=params.n_jobs,\n",
    "                                               inf_bs=params.inf_bs,\n",
    "                                               device=params.device,\n",
    "                                               gen_params=gen_params,\n",
    "                                               wcf_params={\n",
    "                                                        \"K\": params.K, # num of sps for each X\n",
    "                                                        \"nwhigh\" : params.wconformal.nwthigh,\n",
    "                                                        \"nwlow\" : params.wconformal.nwtlow,\n",
    "                                                        \"useinf\": params.wconformal.useinf,\n",
    "                                                        })\n",
    "            intvsT0 = wcfT0(X, alpha=params.hypo_test.alpha/2);\n",
    "            wcfT1 = WeightedConformalInference(calT1_X,\n",
    "                                               calT1_Y,\n",
    "                                               ddpmT1, \n",
    "                                               ws_fn=wsfunT1, \n",
    "                                               verbose=2, \n",
    "                                               gen_type=gen_type,\n",
    "                                               seed=manualSeed,\n",
    "                                               n_jobs=params.n_jobs,\n",
    "                                               inf_bs=params.inf_bs,\n",
    "                                               device=params.device,\n",
    "                                               gen_params=gen_params,\n",
    "                                               wcf_params={\n",
    "                                                        \"K\": params.K, # num of sps for each X\n",
    "                                                        \"nwhigh\" : params.wconformal.nwthigh,\n",
    "                                                        \"nwlow\" : params.wconformal.nwtlow,\n",
    "                                                        \"useinf\": params.wconformal.useinf,\n",
    "                                                        })\n",
    "            intvsT1 = wcfT1(X, alpha=params.hypo_test.alpha/2);\n",
    "            \n",
    "            intvs = []\n",
    "            for intvT0, intvT1 in zip(intvsT0, intvsT1):\n",
    "                upb = np.max(intvT1)-np.min(intvT0)\n",
    "                lowb = np.min(intvT1)-np.max(intvT0)\n",
    "                intvs.append(np.array([[lowb, upb]]))\n",
    "            prbs = np.mean(_get_inset(Y1-Y0, intvs))\n",
    "            mlen = np.median(_get_intvs_len(intvs))\n",
    "            return prbs, mlen\n",
    "        \n",
    "            \n",
    "            \n",
    "        # get the results\n",
    "        res_all = edict()\n",
    "        \n",
    "        # results under the final model\n",
    "        ddpmT0 = myddpmT0.ddpm\n",
    "        ddpmT1 = myddpmT1.ddpm\n",
    "        ddpmT0.eval()\n",
    "        ddpmT1.eval()\n",
    "        res_all.DDIM = _inner_fn(test_X, test_Y0, test_Y1, ddpmT0, ddpmT1, gen_type=\"ddim\", gen_params={\"ddim_eta\": 1})\n",
    "        \n",
    "        \n",
    "        # naive way\n",
    "        def _naive_sps_ITE(tX, tY0, tY1, ddpmT0, ddpmT1):\n",
    "            if not isinstance(tY0, np.ndarray):\n",
    "                tY0 = tY0.cpu().numpy()\n",
    "            if not isinstance(tY1, np.ndarray):\n",
    "                tY1 = tY1.cpu().numpy()\n",
    "                \n",
    "            samplerT0 = NaiveSample(ddpmT0, gen_type=\"ddim\", verbose=2, device=params.device, gen_params={})\n",
    "            samplerT1 = NaiveSample(ddpmT1, gen_type=\"ddim\", verbose=2, device=params.device, gen_params={})\n",
    "            \n",
    "            predYs0 = samplerT0.gen_fn_wrapper(tX, nsps=200, inf_bs=5, seed=manualSeed, n_jobs=params.n_jobs);\n",
    "            predYs1 = samplerT1.gen_fn_wrapper(tX, nsps=200, inf_bs=5, seed=manualSeed, n_jobs=params.n_jobs);\n",
    "            \n",
    "            predITE = predYs1 - predYs0;\n",
    "            naive_CIs = torch.quantile(predITE, torch.tensor([params.hypo_test.alpha/2, 1-params.hypo_test.alpha/2], \n",
    "                                                             dtype=params.df_dtype), axis=1).T.cpu().numpy();\n",
    "            mlen_naive = np.median(naive_CIs[:, 1] -  naive_CIs[:, 0])\n",
    "                                                             \n",
    "            tITE = tY1 - tY0\n",
    "            prb_ITE_naive = np.bitwise_and(tITE>naive_CIs[:, 0], tITE<naive_CIs[:, 1]).mean()\n",
    "            return (prb_ITE_naive, mlen_naive)\n",
    "        res_all.naive = _naive_sps_ITE(test_X, test_Y0, test_Y1, ddpmT0, ddpmT1)\n",
    "       \n",
    "            \n",
    "        # results from CQR\n",
    "        def _CQR_fn(test_X, test_Y0, test_Y1):\n",
    "            if isinstance(test_X, torch.Tensor):\n",
    "                test_X = test_X.cpu().numpy()\n",
    "            if isinstance(test_Y0, torch.Tensor):\n",
    "                test_Y0 = test_Y0.cpu().numpy()\n",
    "            if isinstance(test_Y1, torch.Tensor):\n",
    "                test_Y1 = test_Y1.cpu().numpy()\n",
    "            CQR_CIs = get_CQR_ITE_CIs(X=data_train.X, Y=data_train.Y, \n",
    "                                  T=data_train.T, Xtest=test_X, \n",
    "                                  alpha=params.hypo_test.alpha, \n",
    "                                  fyx_est=\"quantBoosting\", seed=manualSeed)\n",
    "            mlen_cqr = np.median(CQR_CIs[:, 1] -  CQR_CIs[:, 0])\n",
    "            ITEs = test_Y1 - test_Y0\n",
    "            prb_Y1_cqr = np.bitwise_and(ITEs>CQR_CIs[:, 0],ITEs<CQR_CIs[:, 1]).mean()\n",
    "            return prb_Y1_cqr, mlen_cqr\n",
    "        res_all.CQR = _CQR_fn(test_X, test_Y0, test_Y1)\n",
    "        \n",
    "        # results from CF\n",
    "        def _CF_fn(test_X, test_Y0, test_Y1):\n",
    "            if isinstance(test_X, torch.Tensor):\n",
    "                test_X = test_X.cpu().numpy()\n",
    "            if isinstance(test_Y0, torch.Tensor):\n",
    "                test_Y0 = test_Y0.cpu().numpy()\n",
    "            if isinstance(test_Y1, torch.Tensor):\n",
    "                test_Y1 = test_Y1.cpu().numpy()\n",
    "            CF_CIs = get_CF_CIs(X=data_train.X, Y=data_train.Y, \n",
    "                                T=data_train.T, Xtest=test_X, \n",
    "                                alpha=params.hypo_test.alpha, \n",
    "                                seed=manualSeed)\n",
    "            mlen_cf = np.median(CF_CIs[:, 1] -  CF_CIs[:, 0])\n",
    "            ITEs = test_Y1 - test_Y0\n",
    "            prb_Y1_cf = np.bitwise_and(ITEs>CF_CIs[:, 0], ITEs<CF_CIs[:, 1]).mean()\n",
    "            return prb_Y1_cf, mlen_cf\n",
    "        res_all.CF= _CF_fn(test_X, test_Y0, test_Y1)\n",
    "        \n",
    "        \n",
    "        save_pkl((RES_ROOT/params.save_dir)/f\"rep_{rep_ix}_{post_fix}_res.pkl\", res_all, is_force=True)\n",
    "    else:\n",
    "        res_all = edict()\n",
    "        print(f\"As {fil_name} exists, we do not do anything\")"
   ]
  },
  {
   "cell_type": "code",
   "execution_count": 34,
   "id": "a16c4252-65f8-45f5-af37-de156fbff2fb",
   "metadata": {
    "execution": {
     "iopub.execute_input": "2024-01-28T21:33:04.221215Z",
     "iopub.status.busy": "2024-01-28T21:33:04.220635Z",
     "iopub.status.idle": "2024-01-28T21:33:04.317026Z",
     "shell.execute_reply": "2024-01-28T21:33:04.316141Z",
     "shell.execute_reply.started": "2024-01-28T21:33:04.221169Z"
    },
    "tags": []
   },
   "outputs": [
    {
     "data": {
      "text/plain": [
       "{'DDIM': [1.0, 21.18106],\n",
       " 'naive': [0.52, 5.421952],\n",
       " 'CQR': [1.0, 12.599904240298354],\n",
       " 'CF': [0.22666666666666666, 1.3425721241141284]}"
      ]
     },
     "execution_count": 34,
     "metadata": {},
     "output_type": "execute_result"
    }
   ],
   "source": [
    "res_all"
   ]
  },
  {
   "cell_type": "code",
   "execution_count": null,
   "id": "8b406d08-acf3-4033-9ce1-e310c43b0e1d",
   "metadata": {},
   "outputs": [],
   "source": []
  },
  {
   "cell_type": "code",
   "execution_count": 21,
   "id": "6f423688-ed69-4a2e-b711-02aa5f8f0248",
   "metadata": {
    "execution": {
     "iopub.execute_input": "2024-01-27T04:03:57.699876Z",
     "iopub.status.busy": "2024-01-27T04:03:57.699234Z",
     "iopub.status.idle": "2024-01-27T04:03:57.853070Z",
     "shell.execute_reply": "2024-01-27T04:03:57.852601Z",
     "shell.execute_reply.started": "2024-01-27T04:03:57.699829Z"
    },
    "tags": []
   },
   "outputs": [
    {
     "data": {
      "text/plain": [
       "[<matplotlib.lines.Line2D at 0x7f2e6d7bcb20>]"
      ]
     },
     "execution_count": 21,
     "metadata": {},
     "output_type": "execute_result"
    },
    {
     "data": {
      "image/png": "[encoded data removed]",
      "text/plain": [
       "<Figure size 1000x500 with 1 Axes>"
      ]
     },
     "metadata": {
      "needs_background": "light"
     },
     "output_type": "display_data"
    }
   ],
   "source": [
    "eps = np.array(myddpmT1.losses)[:, 0]\n",
    "loss = np.array(myddpmT1.losses)[:, 1]\n",
    "plt.plot(eps, loss)"
   ]
  },
  {
   "cell_type": "markdown",
   "id": "ef54f9d2-2685-4fd0-8842-ea89930ea690",
   "metadata": {},
   "source": [
    "# evaluate"
   ]
  },
  {
   "cell_type": "code",
   "execution_count": 11,
   "id": "ee619015-f41f-4070-a4dd-64f0bbe78758",
   "metadata": {
    "execution": {
     "iopub.execute_input": "2024-01-14T21:40:43.822037Z",
     "iopub.status.busy": "2024-01-14T21:40:43.821413Z",
     "iopub.status.idle": "2024-01-14T21:40:43.879934Z",
     "shell.execute_reply": "2024-01-14T21:40:43.879261Z",
     "shell.execute_reply.started": "2024-01-14T21:40:43.821987Z"
    },
    "tags": []
   },
   "outputs": [],
   "source": [
    "data_test = get_simu_data(n=params.simu_setting.ntest, \n",
    "                               d=params.simu_setting.d, \n",
    "                               is_homo=params.simu_setting.is_homo, \n",
    "                               rho=params.simu_setting.rho);\n",
    "\n",
    "Y1t = torch.tensor(data_test.Y1, dtype=params.df_dtype)\n",
    "Xt = torch.tensor(data_test.X, dtype=params.df_dtype);"
   ]
  },
  {
   "cell_type": "code",
   "execution_count": 13,
   "id": "585f4360-a6ca-49da-82ad-e2ab5a477122",
   "metadata": {
    "execution": {
     "iopub.execute_input": "2024-01-14T21:40:50.433141Z",
     "iopub.status.busy": "2024-01-14T21:40:50.432536Z",
     "iopub.status.idle": "2024-01-14T21:40:50.567876Z",
     "shell.execute_reply": "2024-01-14T21:40:50.566702Z",
     "shell.execute_reply.started": "2024-01-14T21:40:50.433091Z"
    },
    "scrolled": true,
    "tags": []
   },
   "outputs": [
    {
     "ename": "ValueError",
     "evalue": "attempt to get argmin of an empty sequence",
     "output_type": "error",
     "traceback": [
      "\u001b[0;31m---------------------------------------------------------------------------\u001b[0m",
      "\u001b[0;31mValueError\u001b[0m                                Traceback (most recent call last)",
      "\u001b[0;32m/tmp/ipykernel_20477/662281859.py\u001b[0m in \u001b[0;36m<module>\u001b[0;34m\u001b[0m\n\u001b[1;32m      1\u001b[0m \u001b[0mress\u001b[0m \u001b[0;34m=\u001b[0m \u001b[0;34m[\u001b[0m\u001b[0;34m]\u001b[0m\u001b[0;34m\u001b[0m\u001b[0;34m\u001b[0m\u001b[0m\n\u001b[1;32m      2\u001b[0m \u001b[0;32mfor\u001b[0m \u001b[0mm_ix\u001b[0m \u001b[0;32min\u001b[0m \u001b[0mlist\u001b[0m\u001b[0;34m(\u001b[0m\u001b[0mrange\u001b[0m\u001b[0;34m(\u001b[0m\u001b[0;36m500\u001b[0m\u001b[0;34m,\u001b[0m \u001b[0;36m3000\u001b[0m\u001b[0;34m,\u001b[0m \u001b[0;36m500\u001b[0m\u001b[0;34m)\u001b[0m\u001b[0;34m)\u001b[0m\u001b[0;34m:\u001b[0m\u001b[0;34m\u001b[0m\u001b[0;34m\u001b[0m\u001b[0m\n\u001b[0;32m----> 3\u001b[0;31m     \u001b[0mddpm\u001b[0m \u001b[0;34m=\u001b[0m \u001b[0mmyddpm\u001b[0m\u001b[0;34m.\u001b[0m\u001b[0mget_model\u001b[0m\u001b[0;34m(\u001b[0m\u001b[0mm_ix\u001b[0m\u001b[0;34m)\u001b[0m\u001b[0;34m;\u001b[0m\u001b[0;34m\u001b[0m\u001b[0;34m\u001b[0m\u001b[0m\n\u001b[0m\u001b[1;32m      4\u001b[0m     \u001b[0mddpm\u001b[0m\u001b[0;34m.\u001b[0m\u001b[0meval\u001b[0m\u001b[0;34m(\u001b[0m\u001b[0;34m)\u001b[0m\u001b[0;34m\u001b[0m\u001b[0;34m\u001b[0m\u001b[0m\n\u001b[1;32m      5\u001b[0m     \u001b[0;32mwith\u001b[0m \u001b[0mtorch\u001b[0m\u001b[0;34m.\u001b[0m\u001b[0mno_grad\u001b[0m\u001b[0;34m(\u001b[0m\u001b[0;34m)\u001b[0m\u001b[0;34m:\u001b[0m\u001b[0;34m\u001b[0m\u001b[0;34m\u001b[0m\u001b[0m\n",
      "\u001b[0;32m/data/rajlab1/user_data/jin/MyResearch/DG-CITE_paper/notebooks/../mypkg/ddpm/train_ddpm_now.py\u001b[0m in \u001b[0;36mget_model\u001b[0;34m(self, nep)\u001b[0m\n\u001b[1;32m    249\u001b[0m         \u001b[0mall_models\u001b[0m \u001b[0;34m=\u001b[0m \u001b[0msorted\u001b[0m\u001b[0;34m(\u001b[0m\u001b[0mall_models\u001b[0m\u001b[0;34m,\u001b[0m \u001b[0mkey\u001b[0m\u001b[0;34m=\u001b[0m\u001b[0m_tmpf\u001b[0m\u001b[0;34m)\u001b[0m\u001b[0;34m\u001b[0m\u001b[0;34m\u001b[0m\u001b[0m\n\u001b[1;32m    250\u001b[0m         \u001b[0mneps\u001b[0m \u001b[0;34m=\u001b[0m \u001b[0mnp\u001b[0m\u001b[0;34m.\u001b[0m\u001b[0marray\u001b[0m\u001b[0;34m(\u001b[0m\u001b[0;34m[\u001b[0m\u001b[0m_tmpf\u001b[0m\u001b[0;34m(\u001b[0m\u001b[0mm\u001b[0m\u001b[0;34m)\u001b[0m \u001b[0;32mfor\u001b[0m \u001b[0mm\u001b[0m \u001b[0;32min\u001b[0m \u001b[0mall_models\u001b[0m\u001b[0;34m]\u001b[0m\u001b[0;34m)\u001b[0m\u001b[0;34m\u001b[0m\u001b[0;34m\u001b[0m\u001b[0m\n\u001b[0;32m--> 251\u001b[0;31m         \u001b[0mmodel_idx\u001b[0m \u001b[0;34m=\u001b[0m \u001b[0mnp\u001b[0m\u001b[0;34m.\u001b[0m\u001b[0margmin\u001b[0m\u001b[0;34m(\u001b[0m\u001b[0mnp\u001b[0m\u001b[0;34m.\u001b[0m\u001b[0mabs\u001b[0m\u001b[0;34m(\u001b[0m\u001b[0mneps\u001b[0m\u001b[0;34m-\u001b[0m\u001b[0mnep\u001b[0m\u001b[0;34m)\u001b[0m\u001b[0;34m)\u001b[0m\u001b[0;34m\u001b[0m\u001b[0;34m\u001b[0m\u001b[0m\n\u001b[0m\u001b[1;32m    252\u001b[0m \u001b[0;34m\u001b[0m\u001b[0m\n\u001b[1;32m    253\u001b[0m         \u001b[0mlogger\u001b[0m\u001b[0;34m.\u001b[0m\u001b[0minfo\u001b[0m\u001b[0;34m(\u001b[0m\u001b[0;34mf\"We load model {all_models[model_idx]}.\"\u001b[0m\u001b[0;34m)\u001b[0m\u001b[0;34m\u001b[0m\u001b[0;34m\u001b[0m\u001b[0m\n",
      "\u001b[0;32m<__array_function__ internals>\u001b[0m in \u001b[0;36margmin\u001b[0;34m(*args, **kwargs)\u001b[0m\n",
      "\u001b[0;32m/opt/conda/lib/python3.9/site-packages/numpy/core/fromnumeric.py\u001b[0m in \u001b[0;36margmin\u001b[0;34m(a, axis, out)\u001b[0m\n\u001b[1;32m   1272\u001b[0m \u001b[0;34m\u001b[0m\u001b[0m\n\u001b[1;32m   1273\u001b[0m     \"\"\"\n\u001b[0;32m-> 1274\u001b[0;31m     \u001b[0;32mreturn\u001b[0m \u001b[0m_wrapfunc\u001b[0m\u001b[0;34m(\u001b[0m\u001b[0ma\u001b[0m\u001b[0;34m,\u001b[0m \u001b[0;34m'argmin'\u001b[0m\u001b[0;34m,\u001b[0m \u001b[0maxis\u001b[0m\u001b[0;34m=\u001b[0m\u001b[0maxis\u001b[0m\u001b[0;34m,\u001b[0m \u001b[0mout\u001b[0m\u001b[0;34m=\u001b[0m\u001b[0mout\u001b[0m\u001b[0;34m)\u001b[0m\u001b[0;34m\u001b[0m\u001b[0;34m\u001b[0m\u001b[0m\n\u001b[0m\u001b[1;32m   1275\u001b[0m \u001b[0;34m\u001b[0m\u001b[0m\n\u001b[1;32m   1276\u001b[0m \u001b[0;34m\u001b[0m\u001b[0m\n",
      "\u001b[0;32m/opt/conda/lib/python3.9/site-packages/numpy/core/fromnumeric.py\u001b[0m in \u001b[0;36m_wrapfunc\u001b[0;34m(obj, method, *args, **kwds)\u001b[0m\n\u001b[1;32m     56\u001b[0m \u001b[0;34m\u001b[0m\u001b[0m\n\u001b[1;32m     57\u001b[0m     \u001b[0;32mtry\u001b[0m\u001b[0;34m:\u001b[0m\u001b[0;34m\u001b[0m\u001b[0;34m\u001b[0m\u001b[0m\n\u001b[0;32m---> 58\u001b[0;31m         \u001b[0;32mreturn\u001b[0m \u001b[0mbound\u001b[0m\u001b[0;34m(\u001b[0m\u001b[0;34m*\u001b[0m\u001b[0margs\u001b[0m\u001b[0;34m,\u001b[0m \u001b[0;34m**\u001b[0m\u001b[0mkwds\u001b[0m\u001b[0;34m)\u001b[0m\u001b[0;34m\u001b[0m\u001b[0;34m\u001b[0m\u001b[0m\n\u001b[0m\u001b[1;32m     59\u001b[0m     \u001b[0;32mexcept\u001b[0m \u001b[0mTypeError\u001b[0m\u001b[0;34m:\u001b[0m\u001b[0;34m\u001b[0m\u001b[0;34m\u001b[0m\u001b[0m\n\u001b[1;32m     60\u001b[0m         \u001b[0;31m# A TypeError occurs if the object does have such a method in its\u001b[0m\u001b[0;34m\u001b[0m\u001b[0;34m\u001b[0m\u001b[0m\n",
      "\u001b[0;31mValueError\u001b[0m: attempt to get argmin of an empty sequence"
     ]
    }
   ],
   "source": [
    "ress = []\n",
    "for m_ix in list(range(500, 3000, 500)):\n",
    "    ddpm = myddpm.get_model(m_ix);\n",
    "    ddpm.eval()\n",
    "    with torch.no_grad():\n",
    "        loss = ddpm(Y1t, Xt)\n",
    "        x_i, x_is = ddpm.sample_ddim(Xt, device=\"cpu\", is_store=False, ddim_eta=1);\n",
    "    ress.append([m_ix, loss.item(), torch.mean((Y1t - x_i.reshape(-1))**2).item()])\n"
   ]
  },
  {
   "cell_type": "code",
   "execution_count": null,
   "id": "8e7e4ea3-1a8e-477f-89c8-54fecdeae30a",
   "metadata": {},
   "outputs": [],
   "source": []
  },
  {
   "cell_type": "code",
   "execution_count": 133,
   "id": "794f2888-3141-4ac2-afdb-050dd4378128",
   "metadata": {
    "execution": {
     "iopub.execute_input": "2024-01-12T20:04:55.983842Z",
     "iopub.status.busy": "2024-01-12T20:04:55.983195Z",
     "iopub.status.idle": "2024-01-12T20:04:56.254789Z",
     "shell.execute_reply": "2024-01-12T20:04:56.254309Z",
     "shell.execute_reply.started": "2024-01-12T20:04:55.983796Z"
    },
    "tags": []
   },
   "outputs": [
    {
     "data": {
      "text/plain": [
       "Text(0, 0.5, 'MSE')"
      ]
     },
     "execution_count": 133,
     "metadata": {},
     "output_type": "execute_result"
    },
    {
     "data": {
      "image/png": "[encoded data removed]",
      "text/plain": [
       "<Figure size 1000x500 with 2 Axes>"
      ]
     },
     "metadata": {
      "needs_background": "light"
     },
     "output_type": "display_data"
    }
   ],
   "source": [
    "ress = np.array(ress);\n",
    "plt.subplot(121)\n",
    "plt.plot(ress[:, 0], ress[:, 1])\n",
    "plt.ylabel(\"Test loss\")\n",
    "plt.subplot(122)\n",
    "plt.plot(ress[:, 0], ress[:, 2])\n",
    "plt.ylabel(\"MSE\")"
   ]
  },
  {
   "cell_type": "code",
   "execution_count": null,
   "id": "415772c2-b029-4707-931d-b9f899dcebf7",
   "metadata": {},
   "outputs": [],
   "source": []
  },
  {
   "cell_type": "markdown",
   "id": "f6502568-9e9b-4765-8a4d-0572126fe506",
   "metadata": {},
   "source": [
    "## ON test set"
   ]
  },
  {
   "cell_type": "code",
   "execution_count": 61,
   "id": "1873077f-f6ef-4432-a735-ba21d0276c83",
   "metadata": {
    "execution": {
     "iopub.execute_input": "2024-01-12T19:06:36.672189Z",
     "iopub.status.busy": "2024-01-12T19:06:36.671630Z",
     "iopub.status.idle": "2024-01-12T19:06:36.742854Z",
     "shell.execute_reply": "2024-01-12T19:06:36.741575Z",
     "shell.execute_reply.started": "2024-01-12T19:06:36.672144Z"
    },
    "tags": []
   },
   "outputs": [
    {
     "name": "stderr",
     "output_type": "stream",
     "text": [
      "2024-01-12 11:06:36,720 - ddpm.train_ddpm_now - INFO - We load model /data/rajlab1/user_data/jin/MyResearch/DG-CITE_paper/notebooks/../mypkg/../results/demo_ddpm_setting2_test11/rep0_lr--01_n_infeat-128_n_T-400_weight_decay--01_n_upblk-1_n_downblk-1_ddpm_epoch200.pth.\n"
     ]
    }
   ],
   "source": [
    "ddpm = myddpm.get_model(200);"
   ]
  },
  {
   "cell_type": "code",
   "execution_count": 62,
   "id": "59b7dfcf-6e8f-40bf-a498-8ae510ad35d5",
   "metadata": {
    "execution": {
     "iopub.execute_input": "2024-01-12T19:06:37.117145Z",
     "iopub.status.busy": "2024-01-12T19:06:37.116659Z",
     "iopub.status.idle": "2024-01-12T19:06:37.154856Z",
     "shell.execute_reply": "2024-01-12T19:06:37.154349Z",
     "shell.execute_reply.started": "2024-01-12T19:06:37.117105Z"
    },
    "tags": []
   },
   "outputs": [],
   "source": [
    "data_test = get_simu_data(n=params.simu_setting.ntest, \n",
    "                               d=params.simu_setting.d, \n",
    "                               is_homo=params.simu_setting.is_homo, \n",
    "                               rho=params.simu_setting.rho);"
   ]
  },
  {
   "cell_type": "code",
   "execution_count": 63,
   "id": "9dfac65e-1091-4995-af27-b80b3c993747",
   "metadata": {
    "execution": {
     "iopub.execute_input": "2024-01-12T19:06:37.549899Z",
     "iopub.status.busy": "2024-01-12T19:06:37.549378Z",
     "iopub.status.idle": "2024-01-12T19:06:37.585185Z",
     "shell.execute_reply": "2024-01-12T19:06:37.584470Z",
     "shell.execute_reply.started": "2024-01-12T19:06:37.549857Z"
    },
    "tags": []
   },
   "outputs": [],
   "source": [
    "tX = torch.tensor(data_test.X);\n",
    "c = tX.type(params.df_dtype);"
   ]
  },
  {
   "cell_type": "code",
   "execution_count": 64,
   "id": "fe477e92-0972-4e32-84fd-b216a35fa73e",
   "metadata": {
    "execution": {
     "iopub.execute_input": "2024-01-12T19:06:38.010649Z",
     "iopub.status.busy": "2024-01-12T19:06:38.009734Z",
     "iopub.status.idle": "2024-01-12T19:06:38.210187Z",
     "shell.execute_reply": "2024-01-12T19:06:38.209795Z",
     "shell.execute_reply.started": "2024-01-12T19:06:38.010605Z"
    },
    "tags": []
   },
   "outputs": [],
   "source": [
    "ddpm.eval()\n",
    "with torch.no_grad():\n",
    "    x_i, x_is = ddpm.sample_ddim(c, device=\"cpu\", is_store=False, ddim_eta=1);"
   ]
  },
  {
   "cell_type": "code",
   "execution_count": 65,
   "id": "73359ab7-4b8a-4a60-a70f-8d8318a700da",
   "metadata": {
    "execution": {
     "iopub.execute_input": "2024-01-12T19:06:38.666090Z",
     "iopub.status.busy": "2024-01-12T19:06:38.665008Z",
     "iopub.status.idle": "2024-01-12T19:06:38.934163Z",
     "shell.execute_reply": "2024-01-12T19:06:38.933722Z",
     "shell.execute_reply.started": "2024-01-12T19:06:38.666031Z"
    },
    "tags": []
   },
   "outputs": [
    {
     "data": {
      "text/plain": [
       "(-20.0, 20.0)"
      ]
     },
     "execution_count": 65,
     "metadata": {},
     "output_type": "execute_result"
    },
    {
     "data": {
      "image/png": "[encoded data removed]",
      "text/plain": [
       "<Figure size 1000x500 with 1 Axes>"
      ]
     },
     "metadata": {
      "needs_background": "light"
     },
     "output_type": "display_data"
    }
   ],
   "source": [
    "predx0 = x_i.reshape(-1).numpy();\n",
    "x0 = data_test.Y1;\n",
    "plt.plot(x0, predx0, \".\")\n",
    "xx = np.linspace(-20, 20, 100)\n",
    "yy = xx\n",
    "plt.plot(xx, yy)\n",
    "plt.xlim([-20, 20])\n",
    "plt.ylim([-20, 20])"
   ]
  },
  {
   "cell_type": "code",
   "execution_count": null,
   "id": "2b7ea994-bab9-42d0-8bf9-f2b685574b27",
   "metadata": {},
   "outputs": [],
   "source": []
  },
  {
   "cell_type": "markdown",
   "id": "48020217-0f57-4973-8db7-46373d2d2ef5",
   "metadata": {},
   "source": [
    "## Given X"
   ]
  },
  {
   "cell_type": "code",
   "execution_count": null,
   "id": "1c89c669-bcda-4f2b-a895-27011a3f420b",
   "metadata": {},
   "outputs": [],
   "source": [
    "list(range(10,0, -1)"
   ]
  },
  {
   "cell_type": "code",
   "execution_count": 41,
   "id": "f229a6f5-f822-4cf7-89c1-03107475d835",
   "metadata": {
    "execution": {
     "iopub.execute_input": "2023-12-17T23:50:09.036546Z",
     "iopub.status.busy": "2023-12-17T23:50:09.035583Z",
     "iopub.status.idle": "2023-12-17T23:50:09.075628Z",
     "shell.execute_reply": "2023-12-17T23:50:09.074826Z",
     "shell.execute_reply.started": "2023-12-17T23:50:09.036465Z"
    },
    "tags": []
   },
   "outputs": [],
   "source": [
    "datatest_con = get_simu_data(n=params.simu_setting.ntest, \n",
    "                               d=params.simu_setting.d, \n",
    "                               is_homo=params.simu_setting.is_homo, \n",
    "                               rho=params.simu_setting.rho, \n",
    "                               is_condition=True);\n",
    "tX_con = torch.tensor(datatest_con.X);\n",
    "c = tX_con.type(params.dftype);"
   ]
  },
  {
   "cell_type": "code",
   "execution_count": 42,
   "id": "9020f7f9-68e4-474b-a26c-1cfa3c004712",
   "metadata": {
    "execution": {
     "iopub.execute_input": "2023-12-17T23:50:09.306024Z",
     "iopub.status.busy": "2023-12-17T23:50:09.305528Z",
     "iopub.status.idle": "2023-12-17T23:50:10.182650Z",
     "shell.execute_reply": "2023-12-17T23:50:10.182182Z",
     "shell.execute_reply.started": "2023-12-17T23:50:09.305982Z"
    },
    "tags": []
   },
   "outputs": [],
   "source": [
    "ddpm.eval()\n",
    "with torch.no_grad():\n",
    "    x_i, x_is = ddpm.sample(c, device=\"cpu\", guide_w=0);"
   ]
  },
  {
   "cell_type": "code",
   "execution_count": 43,
   "id": "d4168093-393a-45e7-bbb4-752e3f4b87c6",
   "metadata": {
    "execution": {
     "iopub.execute_input": "2023-12-17T23:50:10.183586Z",
     "iopub.status.busy": "2023-12-17T23:50:10.183379Z",
     "iopub.status.idle": "2023-12-17T23:50:10.460346Z",
     "shell.execute_reply": "2023-12-17T23:50:10.459924Z",
     "shell.execute_reply.started": "2023-12-17T23:50:10.183571Z"
    },
    "tags": []
   },
   "outputs": [
    {
     "data": {
      "text/plain": [
       "(-5.0, 10.0)"
      ]
     },
     "execution_count": 43,
     "metadata": {},
     "output_type": "execute_result"
    },
    {
     "data": {
      "image/png": "[encoded data removed]",
      "text/plain": [
       "<Figure size 1000x500 with 1 Axes>"
      ]
     },
     "metadata": {
      "needs_background": "light"
     },
     "output_type": "display_data"
    }
   ],
   "source": [
    "predx0 = x_i.reshape(-1).numpy();\n",
    "x0 = datatest_con.Y1;\n",
    "x_is = x_is.squeeze();\n",
    "for idx in range(x_is.shape[0]):\n",
    "    sns.kdeplot(x_is[idx])\n",
    "sns.kdeplot(x0, color=\"black\", lw=4, label=\"obs\")\n",
    "sns.kdeplot(predx0, color=\"green\", lw=4, label=\"pred\")\n",
    "plt.legend()\n",
    "plt.xlim([-5, 10])"
   ]
  },
  {
   "cell_type": "code",
   "execution_count": null,
   "id": "b9f376bf-3f54-44e9-9af2-c1efca5f62ef",
   "metadata": {},
   "outputs": [],
   "source": []
  },
  {
   "cell_type": "markdown",
   "id": "d4761eb3-0e09-4e30-887b-ad353dd46e85",
   "metadata": {},
   "source": [
    "# bak"
   ]
  },
  {
   "cell_type": "code",
   "execution_count": null,
   "id": "6e30b424-516b-42f8-89ad-871b22e9a2f5",
   "metadata": {},
   "outputs": [],
   "source": []
  },
  {
   "cell_type": "code",
   "execution_count": 9,
   "id": "a4d18761-b351-4042-bb75-801a65d85e10",
   "metadata": {
    "execution": {
     "iopub.execute_input": "2023-12-18T01:06:11.530570Z",
     "iopub.status.busy": "2023-12-18T01:06:11.529939Z",
     "iopub.status.idle": "2023-12-18T01:06:11.580813Z",
     "shell.execute_reply": "2023-12-18T01:06:11.580167Z",
     "shell.execute_reply.started": "2023-12-18T01:06:11.530520Z"
    },
    "tags": []
   },
   "outputs": [],
   "source": [
    "def _run_fn_PCP(rep_ix):\n",
    "    manualSeed = rep_ix\n",
    "    random.seed(manualSeed)\n",
    "    np.random.seed(manualSeed)\n",
    "    torch.manual_seed(manualSeed)\n",
    "    torch.use_deterministic_algorithms(True) # Needed for reproducible results\n",
    "    torch.set_default_dtype(params.dftype)\n",
    "    torch.set_default_device(params.device)\n",
    "    \n",
    "    #beta = np.concatenate([np.random.randn(2), np.zeros(params.simu_setting.d-2)])\n",
    "    #inp = np.random.randn(1) * 10                                \n",
    "    \n",
    "    data_train = get_simu_data(n=params.simu_setting.n, \n",
    "                               d=params.simu_setting.d, \n",
    "                               #beta=beta, \n",
    "                               #inp=inp,\n",
    "                               is_homo=params.simu_setting.is_homo, \n",
    "                               rho=params.simu_setting.rho);\n",
    "    data_test = get_simu_data(n=params.simu_setting.ntest, \n",
    "                               d=params.simu_setting.d, \n",
    "                               #beta=beta, \n",
    "                               #inp=inp,\n",
    "                               is_homo=params.simu_setting.is_homo, \n",
    "                               rho=params.simu_setting.rho);\n",
    "    \n",
    "    cal_idxs, val_idxs, tr_idxs = get_idx_sets(all_idxs=np.where(data_train.T)[0], \n",
    "                                               ratios = [params.simu_setting.cal_ratio, params.simu_setting.val_ratio])\n",
    "        \n",
    "        \n",
    "    # train q(Y(1)|X)\n",
    "    # I skip this for now, suppose you get one\n",
    "    data_train_ddpm = MyDataSet(Y=data_train.Y[tr_idxs], X=data_train.X[tr_idxs])\n",
    "    data_val = edict()\n",
    "    data_val.c =  data_train.X[val_idxs]\n",
    "    data_val.x =  data_train.Y[val_idxs]\n",
    "    \n",
    "    input_params = params.ddpm_training.copy()\n",
    "    input_params.pop(\"n_epoch\")\n",
    "    myddpm = TrainDDPM(data_train_ddpm, save_dir=params.save_dir, verbose=params.verbose, prefix=f\"rep{rep_ix}\", \n",
    "                       device=params.device,\n",
    "                       **input_params);\n",
    "    #myddpm.train(n_epoch=params.ddpm_training.n_epoch, \n",
    "    #             data_val=data_val, save_snapshot=params.save_snapshot)\n",
    "    ddpm = myddpm.ddpm\n",
    "    #ddpm = myddpm.get_opt_model()\n",
    "    ddpm = myddpm.get_model(500)\n",
    "    ddpm.eval()\n",
    "    \n",
    "    ## propensity score\n",
    "    ## I can use all data in train set (including cal set)\n",
    "    #from sklearn.linear_model import LogisticRegression\n",
    "    #clf = LogisticRegression(random_state=0)\n",
    "    #psY = data_train.T.astype(int)\n",
    "    #psX = data_train.X\n",
    "    #clf = clf.fit(psX, psY);\n",
    "    #def psfun(x):\n",
    "    #    if x.ndim == 1:\n",
    "    #        x = x.reshape(1, -1)\n",
    "    #    return clf.predict_proba(x)[:, 1]\n",
    "    #\n",
    "    #\n",
    "    ## weight function\n",
    "    #def wtfun(x):\n",
    "    #    # for unconditional weight\n",
    "    #    return 1/psfun(x)\n",
    "    \n",
    "    # weight function\n",
    "    def wtfun(x):\n",
    "        if x.ndim == 1:\n",
    "            x = x.reshape(1, -1)\n",
    "        # for unconditional weight\n",
    "        return np.ones(x.shape[0])\n",
    "        \n",
    "    # get the weight and nonconformity score for each data point in cal set\n",
    "    x_0s = _gen_Y_given_X(data_train.X[cal_idxs], ddpm, manualSeed)\n",
    "    ws = wtfun(data_train.X[cal_idxs]);\n",
    "    Es = np.abs(x_0s -  data_train.Y1[cal_idxs][:, None]).min(axis=1);\n",
    "            \n",
    "    def _run_fn2(te_idx):\n",
    "        torch.set_default_dtype(params.dftype)\n",
    "        teX = data_test.X[te_idx]\n",
    "        teY1 = data_test.Y1[te_idx]\n",
    "        tetau = data_test.tau[te_idx]\n",
    "        \n",
    "        # get qv for current test pt\n",
    "        ws_wtest = np.concatenate([ws, wtfun(teX)]);\n",
    "        Es_winf = np.concatenate([Es, [np.inf]]);\n",
    "        nws_wtest = ws_wtest/ws_wtest.mean();\n",
    "        nws_wtest[nws_wtest<params.wconformal.nwtlow] = params.wconformal.nwtlow\n",
    "        nws_wtest[nws_wtest>params.wconformal.nwthigh] = params.wconformal.nwthigh\n",
    "        # can not take the inf into consider\n",
    "        #qv_cur = weighted_quantile(Es_winf, [1-params.hypo_test.alpha], sample_weight=nws_wtest);\n",
    "        qt = (1 + nws_wtest[-1]/ nws_wtest[:-1].sum()) * (1 - params.hypo_test.alpha)\n",
    "        if qt <= 1:\n",
    "            qv_cur = weighted_quantile(Es, [qt], sample_weight=ws_wtest[:-1]);\n",
    "        else:\n",
    "            if params.wconformal.useinf:\n",
    "                qv_cur = np.inf\n",
    "            else:\n",
    "                qv_cur = np.max(Es)\n",
    "        \n",
    "        intvs = _get_pred_intv(teYs_hat[te_idx], qv_cur)\n",
    "        res = _get_metric([teY1, tetau], intvs)\n",
    "        res[\"qv_cur\"] = qv_cur\n",
    "        res[\"qt\"] = qt\n",
    "        res[\"intvs\"] = intvs\n",
    "        return res\n",
    "        \n",
    "    teYs_hat = _gen_Y_given_X(data_test.X, ddpm, manualSeed);\n",
    "    pbar2 = range(params.simu_setting.ntest)\n",
    "    with Parallel(n_jobs=1) as parallel:\n",
    "        test_res = parallel(delayed(_run_fn2)(te_idx) for te_idx in pbar2)\n",
    "        \n",
    "    prbs = np.mean([res['in_sets'] for res in test_res], axis=0)\n",
    "    mlen = np.median([res['intvs_len'] for res in test_res])\n",
    "        \n",
    "        \n",
    "    # results from CQR\n",
    "    CQR_CIs = get_CQR_CIs(X=data_train.X, Y=data_train.Y, \n",
    "                          T=data_train.T, Xtest=data_test.X, \n",
    "                          nav=0, \n",
    "                          alpha=params.hypo_test.alpha, \n",
    "                          estimand=\"nonmissing\",\n",
    "                          fyx_est=\"quantBoosting\", seed=manualSeed)\n",
    "    mlen_cqr = np.median(CQR_CIs[:, 1] -  CQR_CIs[:, 0])\n",
    "    prb_Y1_cqr = np.bitwise_and(data_test.Y1>CQR_CIs[:, 0], data_test.Y1<CQR_CIs[:, 1]).mean()\n",
    "    prb_tau_cqr = np.bitwise_and(data_test.tau>CQR_CIs[:, 0], data_test.tau<CQR_CIs[:, 1]).mean()\n",
    "    \n",
    "    res_all = edict()\n",
    "    res_all.DDPM = (prbs, mlen)\n",
    "    res_all.CQR = ([prb_Y1_cqr, prb_tau_cqr], mlen_cqr)\n",
    "    return res_all, myddpm, test_res, np.abs(x_0s -  data_train.Y1[cal_idxs][:, None])"
   ]
  },
  {
   "cell_type": "code",
   "execution_count": 25,
   "id": "f0f6fc11-8527-47c5-9301-d0229ebd7cf8",
   "metadata": {
    "execution": {
     "iopub.execute_input": "2023-12-17T23:37:08.920335Z",
     "iopub.status.busy": "2023-12-17T23:37:08.919706Z",
     "iopub.status.idle": "2023-12-17T23:37:09.050801Z",
     "shell.execute_reply": "2023-12-17T23:37:09.049469Z",
     "shell.execute_reply.started": "2023-12-17T23:37:08.920287Z"
    },
    "tags": []
   },
   "outputs": [],
   "source": [
    "def _run_fn_naive_quan(rep_ix):\n",
    "    manualSeed = rep_ix\n",
    "    random.seed(manualSeed)\n",
    "    np.random.seed(manualSeed)\n",
    "    torch.manual_seed(manualSeed)\n",
    "    torch.use_deterministic_algorithms(True) # Needed for reproducible results\n",
    "    torch.set_default_dtype(params.dftype)\n",
    "    torch.set_default_device(params.device)\n",
    "    \n",
    "    #beta = np.concatenate([np.random.randn(2), np.zeros(params.simu_setting.d-2)])\n",
    "    #inp = np.random.randn(1) * 10                                \n",
    "    \n",
    "    data_train = get_simu_data(n=params.simu_setting.n, \n",
    "                               d=params.simu_setting.d, \n",
    "                               #beta=beta, \n",
    "                               #inp=inp,\n",
    "                               is_homo=params.simu_setting.is_homo, \n",
    "                               rho=params.simu_setting.rho);\n",
    "    data_test = get_simu_data(n=params.simu_setting.ntest, \n",
    "                               d=params.simu_setting.d, \n",
    "                               #beta=beta, \n",
    "                               #inp=inp,\n",
    "                               is_homo=params.simu_setting.is_homo, \n",
    "                               rho=params.simu_setting.rho);\n",
    "    \n",
    "    cal_idxs, val_idxs, tr_idxs = get_idx_sets(all_idxs=np.where(data_train.T)[0], \n",
    "                                               ratios = [params.simu_setting.cal_ratio, params.simu_setting.val_ratio])\n",
    "        \n",
    "        \n",
    "    # train q(Y(1)|X)\n",
    "    # I skip this for now, suppose you get one\n",
    "    data_train_ddpm = MyDataSet(Y=data_train.Y[tr_idxs], X=data_train.X[tr_idxs])\n",
    "    data_val = edict()\n",
    "    data_val.c =  data_train.X[val_idxs]\n",
    "    data_val.x =  data_train.Y[val_idxs]\n",
    "    \n",
    "    input_params = params.ddpm_training.copy()\n",
    "    input_params.pop(\"n_epoch\")\n",
    "    myddpm = TrainDDPM(data_train_ddpm, save_dir=params.save_dir, verbose=params.verbose, prefix=f\"rep{rep_ix}\", \n",
    "                       device=params.device,\n",
    "                       **input_params);\n",
    "    myddpm.train(n_epoch=params.ddpm_training.n_epoch, \n",
    "                 data_val=data_val, save_snapshot=params.save_snapshot)\n",
    "    ddpm = myddpm.ddpm\n",
    "    #ddpm = myddpm.get_opt_model()\n",
    "    #ddpm = myddpm.get_model(1000)\n",
    "    ddpm.eval()\n",
    "    \n",
    "    teYs_hat = _gen_Y_given_X(data_test.X, ddpm, manualSeed);\n",
    "    lows, ups = np.quantile(teYs_hat, [params.hypo_test.alpha/2, 1-params.hypo_test.alpha/2], axis=-1);\n",
    "    prb_Y1 = np.bitwise_and(data_test.Y1>lows, data_test.Y1<ups).mean()\n",
    "    prb_tau = np.bitwise_and(data_test.tau>lows, data_test.tau<ups).mean()\n",
    "    mlen = np.mean(ups-lows)\n",
    "        \n",
    "        \n",
    "    # results from CQR\n",
    "    CQR_CIs = get_CQR_CIs(X=data_train.X, Y=data_train.Y, \n",
    "                          T=data_train.T, Xtest=data_test.X, \n",
    "                          nav=0, \n",
    "                          alpha=params.hypo_test.alpha, \n",
    "                          estimand=\"nonmissing\",\n",
    "                          fyx_est=\"quantBoosting\", seed=manualSeed)\n",
    "    mlen_cqr = np.mean(CQR_CIs[:, 1] -  CQR_CIs[:, 0])\n",
    "    prb_Y1_cqr = np.bitwise_and(data_test.Y1>CQR_CIs[:, 0], data_test.Y1<CQR_CIs[:, 1]).mean()\n",
    "    prb_tau_cqr = np.bitwise_and(data_test.tau>CQR_CIs[:, 0], data_test.tau<CQR_CIs[:, 1]).mean()\n",
    "    \n",
    "    res_all = edict()\n",
    "    res_all.DDPM = ([prb_Y1, prb_tau], mlen)\n",
    "    res_all.CQR = ([prb_Y1_cqr, prb_tau_cqr], mlen_cqr)\n",
    "    return res_all, myddpm"
   ]
  },
  {
   "cell_type": "code",
   "execution_count": 42,
   "id": "72c89d88-0259-42bf-b2b3-31f657e255b1",
   "metadata": {
    "execution": {
     "iopub.execute_input": "2023-12-27T19:22:53.725978Z",
     "iopub.status.busy": "2023-12-27T19:22:53.725331Z",
     "iopub.status.idle": "2023-12-27T19:22:53.778407Z",
     "shell.execute_reply": "2023-12-27T19:22:53.777765Z",
     "shell.execute_reply.started": "2023-12-27T19:22:53.725931Z"
    },
    "tags": []
   },
   "outputs": [],
   "source": [
    "def _run_fn_quanreg_now(rep_ix, model_ix=None):\n",
    "    manualSeed = rep_ix\n",
    "    random.seed(manualSeed)\n",
    "    np.random.seed(manualSeed)\n",
    "    torch.manual_seed(manualSeed)\n",
    "    torch.use_deterministic_algorithms(True) # Needed for reproducible results\n",
    "    torch.set_default_dtype(params.dftype)\n",
    "    torch.set_default_device(params.device)\n",
    "    \n",
    "    #beta = np.concatenate([np.random.randn(2), np.zeros(params.simu_setting.d-2)])\n",
    "    #inp = np.random.randn(1) * 10                                \n",
    "    \n",
    "    data_train = get_simu_data(n=params.simu_setting.n, \n",
    "                               d=params.simu_setting.d, \n",
    "                               #beta=beta, \n",
    "                               #inp=inp,\n",
    "                               is_homo=params.simu_setting.is_homo, \n",
    "                               rho=params.simu_setting.rho);\n",
    "    data_test = get_simu_data(n=params.simu_setting.ntest, \n",
    "                               d=params.simu_setting.d, \n",
    "                               #beta=beta, \n",
    "                               #inp=inp,\n",
    "                               is_homo=params.simu_setting.is_homo, \n",
    "                               rho=params.simu_setting.rho);\n",
    "    \n",
    "    cal_idxs, val_idxs, tr_idxs = get_idx_sets(all_idxs=np.where(data_train.T)[0], \n",
    "                                               ratios = [params.simu_setting.cal_ratio, params.simu_setting.val_ratio])\n",
    "        \n",
    "        \n",
    "    # train q(Y(1)|X)\n",
    "    # I skip this for now, suppose you get one\n",
    "    data_train_ddpm = MyDataSet(Y=data_train.Y[tr_idxs], X=data_train.X[tr_idxs])\n",
    "    data_val = edict()\n",
    "    data_val.c =  data_train.X[val_idxs]\n",
    "    data_val.x =  data_train.Y[val_idxs]\n",
    "    \n",
    "    input_params = params.ddpm_training.copy()\n",
    "    input_params.pop(\"n_epoch\")\n",
    "    input_params.pop(\"early_stop\")\n",
    "    input_params.pop(\"early_stop_dict\")\n",
    "    myddpm = TrainDDPM_now(data_train_ddpm, save_dir=params.save_dir, verbose=params.verbose, prefix=f\"rep{rep_ix}\", \n",
    "                       device=params.device,\n",
    "                       **input_params);\n",
    "    if model_ix is None:\n",
    "        myddpm.train(n_epoch=params.ddpm_training.n_epoch, \n",
    "                     data_val=data_val, save_snapshot=params.save_snapshot, \n",
    "                     early_stop=params.ddpm_training.early_stop,\n",
    "                     early_stop_dict=params.ddpm_training.early_stop_dict)\n",
    "        ddpm = myddpm.ddpm\n",
    "    elif isinstance(model_ix, str):\n",
    "        ddpm = myddpm.get_opt_model()\n",
    "    elif isinstance(model_ix, int):\n",
    "        ddpm = myddpm.get_model(model_ix)\n",
    "    ddpm.eval()\n",
    "    \n",
    "    ## propensity score\n",
    "    ## I can use all data in train set (including cal set)\n",
    "    #from sklearn.linear_model import LogisticRegression\n",
    "    #clf = LogisticRegression(random_state=0)\n",
    "    #psY = data_train.T.astype(int)\n",
    "    #psX = data_train.X\n",
    "    #clf = clf.fit(psX, psY);\n",
    "    #def psfun(x):\n",
    "    #    if x.ndim == 1:\n",
    "    #        x = x.reshape(1, -1)\n",
    "    #    return clf.predict_proba(x)[:, 1]\n",
    "    #\n",
    "    #\n",
    "    ## weight function\n",
    "    #def wtfun(x):\n",
    "    #    # for unconditional weight\n",
    "    #    return 1/psfun(x)\n",
    "    \n",
    "    # weight function\n",
    "    def wtfun(x):\n",
    "        if x.ndim == 1:\n",
    "            x = x.reshape(1, -1)\n",
    "        # for unconditional weight\n",
    "        return np.ones(x.shape[0])\n",
    "        \n",
    "    # get the weight and nonconformity score for each data point in cal set\n",
    "    x_0s = _gen_Y_given_X(data_train.X[cal_idxs], ddpm, manualSeed)\n",
    "    ws = wtfun(data_train.X[cal_idxs]);\n",
    "    lows, ups = np.quantile(x_0s, [params.hypo_test.alpha/2, 1-params.hypo_test.alpha/2], axis=-1);\n",
    "    Es = np.maximum(lows - data_train.Y1[cal_idxs],  data_train.Y1[cal_idxs]-ups)\n",
    "            \n",
    "    def _run_fn2(te_idx):\n",
    "        torch.set_default_dtype(params.dftype)\n",
    "        teX = data_test.X[te_idx]\n",
    "        teY1 = data_test.Y1[te_idx]\n",
    "        tetau = data_test.tau[te_idx]\n",
    "        \n",
    "        # get qv for current test pt\n",
    "        ws_wtest = np.concatenate([ws, wtfun(teX)]);\n",
    "        Es_winf = np.concatenate([Es, [np.inf]]);\n",
    "        nws_wtest = ws_wtest/ws_wtest.mean();\n",
    "        nws_wtest[nws_wtest<params.wconformal.nwtlow] = params.wconformal.nwtlow\n",
    "        nws_wtest[nws_wtest>params.wconformal.nwthigh] = params.wconformal.nwthigh\n",
    "        # can not take the inf into consider\n",
    "        #qv_cur = weighted_quantile(Es_winf, [1-params.hypo_test.alpha], sample_weight=nws_wtest);\n",
    "        qt = (1 + nws_wtest[-1]/ nws_wtest[:-1].sum()) * (1 - params.hypo_test.alpha)\n",
    "        if qt <= 1:\n",
    "            qv_cur = weighted_quantile(Es, [qt], sample_weight=ws_wtest[:-1])[0];\n",
    "        else:\n",
    "            if params.wconformal.useinf:\n",
    "                qv_cur = np.inf\n",
    "            else:\n",
    "                qv_cur = np.max(Es)\n",
    "        \n",
    "        intvs = np.array([[lows_te[te_idx]-qv_cur, ups_te[te_idx]+qv_cur]])\n",
    "        res = _get_metric([teY1, tetau], intvs)\n",
    "        res[\"qv_cur\"] = qv_cur\n",
    "        res[\"qt\"] = qt\n",
    "        res[\"intvs\"] = intvs\n",
    "        return res\n",
    "        \n",
    "    teYs_hat = _gen_Y_given_X(data_test.X, ddpm, manualSeed);\n",
    "    lows_te, ups_te = np.quantile(teYs_hat, [params.hypo_test.alpha/2, 1-params.hypo_test.alpha/2], axis=-1);\n",
    "    pbar2 = range(params.simu_setting.ntest)\n",
    "    with Parallel(n_jobs=1) as parallel:\n",
    "        test_res = parallel(delayed(_run_fn2)(te_idx) for te_idx in pbar2)\n",
    "        \n",
    "    prbs = np.mean([res['in_sets'] for res in test_res], axis=0)\n",
    "    mlen = np.median([res['intvs_len'] for res in test_res])\n",
    "        \n",
    "        \n",
    "    # results from CQR\n",
    "    CQR_CIs = get_CQR_CIs(X=data_train.X, Y=data_train.Y, \n",
    "                          T=data_train.T, Xtest=data_test.X, \n",
    "                          nav=0, \n",
    "                          alpha=params.hypo_test.alpha, \n",
    "                          estimand=\"nonmissing\",\n",
    "                          fyx_est=\"quantBoosting\", seed=manualSeed)\n",
    "    mlen_cqr = np.median(CQR_CIs[:, 1] -  CQR_CIs[:, 0])\n",
    "    prb_Y1_cqr = np.bitwise_and(data_test.Y1>CQR_CIs[:, 0], data_test.Y1<CQR_CIs[:, 1]).mean()\n",
    "    prb_tau_cqr = np.bitwise_and(data_test.tau>CQR_CIs[:, 0], data_test.tau<CQR_CIs[:, 1]).mean()\n",
    "    \n",
    "    res_all = edict()\n",
    "    res_all.DDPM = (prbs, mlen)\n",
    "    res_all.CQR = ([prb_Y1_cqr, prb_tau_cqr], mlen_cqr)\n",
    "    return res_all, myddpm, test_res, np.abs(x_0s -  data_train.Y1[cal_idxs][:, None])"
   ]
  },
  {
   "cell_type": "code",
   "execution_count": null,
   "id": "52af6471-ac72-4757-bd4b-48a02c6efb91",
   "metadata": {},
   "outputs": [],
   "source": []
  }
 ],
 "metadata": {
  "kernelspec": {
   "display_name": "Python 3 (ipykernel)",
   "language": "python",
   "name": "python3"
  },
  "language_info": {
   "codemirror_mode": {
    "name": "ipython",
    "version": 3
   },
   "file_extension": ".py",
   "mimetype": "text/x-python",
   "name": "python",
   "nbconvert_exporter": "python",
   "pygments_lexer": "ipython3",
   "version": "3.9.7"
  },
  "toc-autonumbering": true
 },
 "nbformat": 4,
 "nbformat_minor": 5
}
