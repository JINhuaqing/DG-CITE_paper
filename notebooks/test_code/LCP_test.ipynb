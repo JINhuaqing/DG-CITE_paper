{
 "cells": [
  {
   "cell_type": "raw",
   "id": "a40a1bf3-230e-4ead-b550-d932c5a78398",
   "metadata": {},
   "source": [
    "This notebook is to test local CP for test and training shift. \n",
    "\n",
    "i.e., Now the P(X) for test set can be different from P(X) for trainning set."
   ]
  },
  {
   "cell_type": "code",
   "execution_count": 2,
   "id": "7be37593-bf50-4fc1-b617-ff93ca3fb707",
   "metadata": {
    "execution": {
     "iopub.execute_input": "2024-01-23T08:38:30.866298Z",
     "iopub.status.busy": "2024-01-23T08:38:30.865780Z",
     "iopub.status.idle": "2024-01-23T08:38:30.871995Z",
     "shell.execute_reply": "2024-01-23T08:38:30.870751Z",
     "shell.execute_reply.started": "2024-01-23T08:38:30.866254Z"
    },
    "tags": []
   },
   "outputs": [],
   "source": [
    "import sys\n",
    "sys.path.append(\"../mypkg\")"
   ]
  },
  {
   "cell_type": "code",
   "execution_count": 3,
   "id": "ad8d569b-0412-47de-a9bf-2bbbfde7e943",
   "metadata": {
    "execution": {
     "iopub.execute_input": "2024-01-23T08:38:31.115780Z",
     "iopub.status.busy": "2024-01-23T08:38:31.114986Z",
     "iopub.status.idle": "2024-01-23T08:38:33.577558Z",
     "shell.execute_reply": "2024-01-23T08:38:33.576868Z",
     "shell.execute_reply.started": "2024-01-23T08:38:31.115733Z"
    },
    "tags": []
   },
   "outputs": [],
   "source": [
    "from constants import RES_ROOT, FIG_ROOT, DATA_ROOT\n",
    "from utils.misc import load_pkl, save_pkl, merge_intervals\n",
    "from utils.colors import qual_cmap\n",
    "from utils.stats import weighted_quantile\n",
    "from data_gen_utils.data_gen_my3 import get_simu_data\n",
    "from utils.utils import MyDataSet, get_idx_sets\n",
    "from demo_settings import simu_settings\n",
    "from CQR import get_CQR_CIs, boosting_pred, boosting_logi, get_CF_CIs\n",
    "from ddpm.train_ddpm_now import TrainDDPM\n",
    "from weighted_conformal_inference import WeightedConformalInference\n",
    "from local_weighted_conformal_inference import LocalWeightedConformalInference, get_opth\n",
    "from naive_sample import NaiveSample"
   ]
  },
  {
   "cell_type": "code",
   "execution_count": 4,
   "id": "f1775f04-ea35-40dc-90e8-61a284a9daf2",
   "metadata": {
    "execution": {
     "iopub.execute_input": "2024-01-23T08:38:33.579304Z",
     "iopub.status.busy": "2024-01-23T08:38:33.578926Z",
     "iopub.status.idle": "2024-01-23T08:38:33.602171Z",
     "shell.execute_reply": "2024-01-23T08:38:33.601760Z",
     "shell.execute_reply.started": "2024-01-23T08:38:33.579282Z"
    },
    "tags": []
   },
   "outputs": [],
   "source": [
    "%load_ext autoreload\n",
    "%autoreload 2\n",
    "# 0,1, 2, 3, be careful about the space"
   ]
  },
  {
   "cell_type": "code",
   "execution_count": 5,
   "id": "a42be2f3-7ab7-4f69-98eb-27ae79905c93",
   "metadata": {
    "execution": {
     "iopub.execute_input": "2024-01-23T08:38:33.602827Z",
     "iopub.status.busy": "2024-01-23T08:38:33.602677Z",
     "iopub.status.idle": "2024-01-23T08:38:33.947420Z",
     "shell.execute_reply": "2024-01-23T08:38:33.946582Z",
     "shell.execute_reply.started": "2024-01-23T08:38:33.602814Z"
    },
    "tags": []
   },
   "outputs": [],
   "source": [
    "import torch\n",
    "import scipy.stats as ss\n",
    "import numpy as np\n",
    "from easydict import EasyDict as edict\n",
    "import matplotlib.pyplot as plt\n",
    "import seaborn as sns\n",
    "from collections import defaultdict as ddict\n",
    "from tqdm import tqdm, trange\n",
    "import random\n",
    "from joblib import Parallel, delayed\n",
    "import pandas as pd\n",
    "from pprint import pprint\n",
    "from copy import deepcopy\n",
    "plt.style.use(FIG_ROOT/\"base.mplstyle\")"
   ]
  },
  {
   "cell_type": "markdown",
   "id": "5f1daada-ca8c-4a09-84f5-dfe6c045008d",
   "metadata": {},
   "source": [
    "# Params"
   ]
  },
  {
   "cell_type": "code",
   "execution_count": 6,
   "id": "68b00b94-5b21-4681-85e2-2206bb03ba73",
   "metadata": {
    "execution": {
     "iopub.execute_input": "2024-01-23T08:38:33.948736Z",
     "iopub.status.busy": "2024-01-23T08:38:33.948523Z",
     "iopub.status.idle": "2024-01-23T08:38:33.967659Z",
     "shell.execute_reply": "2024-01-23T08:38:33.967194Z",
     "shell.execute_reply.started": "2024-01-23T08:38:33.948722Z"
    },
    "tags": []
   },
   "outputs": [
    {
     "data": {
      "text/plain": [
       "'setting1'"
      ]
     },
     "execution_count": 6,
     "metadata": {},
     "output_type": "execute_result"
    }
   ],
   "source": [
    "setting = \"setting1\""
   ]
  },
  {
   "cell_type": "code",
   "execution_count": 7,
   "id": "6cc79339-0cfa-4d15-9220-129cd5209122",
   "metadata": {
    "execution": {
     "iopub.execute_input": "2024-01-23T08:38:33.968418Z",
     "iopub.status.busy": "2024-01-23T08:38:33.968179Z",
     "iopub.status.idle": "2024-01-23T08:38:33.992789Z",
     "shell.execute_reply": "2024-01-23T08:38:33.992380Z",
     "shell.execute_reply.started": "2024-01-23T08:38:33.968406Z"
    },
    "tags": []
   },
   "outputs": [
    {
     "name": "stdout",
     "output_type": "stream",
     "text": [
      "{'cal_ratio': 0.25,\n",
      " 'd': 100,\n",
      " 'err_type': 'norm',\n",
      " 'is_homo': True,\n",
      " 'n': 3000,\n",
      " 'ntest': 1000,\n",
      " 'rho': 0,\n",
      " 'val_ratio': 0.05}\n"
     ]
    }
   ],
   "source": [
    "params = edict()\n",
    "\n",
    "params.simu_setting = edict()\n",
    "params.simu_setting.rho = 0.9\n",
    "params.simu_setting.is_homo = False\n",
    "params.simu_setting.n = 3000\n",
    "params.simu_setting.d = 10\n",
    "params.simu_setting.ntest = 1000\n",
    "params.simu_setting.cal_ratio = 0.45 # for conformal inference\n",
    "params.simu_setting.val_ratio = 0.05 # for tuning network\n",
    "params.simu_setting.update(simu_settings[setting])\n",
    "params.simu_setting.n = 3000\n",
    "params.simu_setting.d = 100 \n",
    "pprint(params.simu_setting)\n",
    "\n",
    "\n",
    "params.nrep = 50 # num of reptition for simulation\n",
    "params.K = 40 # num of sps drawn from q(Y(1)|X)\n",
    "params.save_snapshot = 500\n",
    "params.df_dtype = torch.float32\n",
    "params.device=\"cpu\"\n",
    "params.n_jobs = 20\n",
    "params.verbose = True\n",
    "params.inf_bs = 40 # the inference batch, fct x K\n",
    "\n",
    "params.ddpm_training = edict()\n",
    "# Batch size during training\n",
    "params.ddpm_training.batch_size = 256 \n",
    "# Number of training epochs\n",
    "params.ddpm_training.n_epoch = 1000\n",
    "params.ddpm_training.n_infeat = 128\n",
    "# Learning rate for optimizers\n",
    "params.ddpm_training.lr = 0.001\n",
    "params.ddpm_training.lr_gamma = 0.5\n",
    "params.ddpm_training.lr_step = 1000\n",
    "params.ddpm_training.test_intv = 5\n",
    "params.ddpm_training.n_T = 400 # 100\n",
    "params.ddpm_training.n_upblk = 1\n",
    "params.ddpm_training.n_downblk = 1\n",
    "params.ddpm_training.weight_decay = 1e-2\n",
    "params.ddpm_training.early_stop = False\n",
    "params.ddpm_training.early_stop_dict = {\"early_stop_len\":50, \"early_stop_eps\": 5e-4}\n",
    "#params.ddpm_training.betas = [0.001, 0.5]\n",
    "\n",
    "params.wconformal = edict()\n",
    "# remove too large and too small in ws/mean(ws)\n",
    "params.wconformal.nwthigh = 20\n",
    "params.wconformal.nwtlow = 0.05\n",
    "params.wconformal.useinf = False\n",
    "\n",
    "\n",
    "params.hypo_test = edict()\n",
    "params.hypo_test.alpha = 0.05 # sig level\n",
    "\n",
    "params.prefix = \"\"\n",
    "params.save_dir = f\"demo_ddpm_{setting}_test11\"\n",
    "if not (RES_ROOT/params.save_dir).exists():\n",
    "    (RES_ROOT/params.save_dir).mkdir()"
   ]
  },
  {
   "cell_type": "code",
   "execution_count": 8,
   "id": "8323bd12-8b5d-487a-8951-77e4c796e2d8",
   "metadata": {
    "execution": {
     "iopub.execute_input": "2024-01-23T08:38:33.993410Z",
     "iopub.status.busy": "2024-01-23T08:38:33.993260Z",
     "iopub.status.idle": "2024-01-23T08:38:34.015689Z",
     "shell.execute_reply": "2024-01-23T08:38:34.015297Z",
     "shell.execute_reply.started": "2024-01-23T08:38:33.993398Z"
    },
    "tags": []
   },
   "outputs": [],
   "source": [
    "torch.set_default_dtype(params.df_dtype)"
   ]
  },
  {
   "cell_type": "code",
   "execution_count": 9,
   "id": "cbb7d327-4751-4707-b301-9fbbd58f7a0f",
   "metadata": {
    "execution": {
     "iopub.execute_input": "2024-01-23T08:38:34.016247Z",
     "iopub.status.busy": "2024-01-23T08:38:34.016112Z",
     "iopub.status.idle": "2024-01-23T08:38:34.041055Z",
     "shell.execute_reply": "2024-01-23T08:38:34.040475Z",
     "shell.execute_reply.started": "2024-01-23T08:38:34.016236Z"
    },
    "tags": []
   },
   "outputs": [],
   "source": [
    "keys = [\"lr\", \"n_infeat\", \"n_T\", \"weight_decay\", \"n_upblk\", \"n_downblk\"]\n",
    "def _get_name_postfix(keys, ddpm_training):\n",
    "    lst = []\n",
    "    for key in keys:\n",
    "        if ddpm_training[key] >= 1:\n",
    "            lst.append(f\"{key}-{str(ddpm_training[key])}\")\n",
    "        else:\n",
    "            lst.append(f\"{key}--{str(ddpm_training[key]).split('.')[-1]}\")\n",
    "    return \"_\".join(lst)"
   ]
  },
  {
   "cell_type": "code",
   "execution_count": 10,
   "id": "2d26d727-9577-4937-86ed-91ea15a49ad7",
   "metadata": {
    "execution": {
     "iopub.execute_input": "2024-01-23T08:38:34.041790Z",
     "iopub.status.busy": "2024-01-23T08:38:34.041614Z",
     "iopub.status.idle": "2024-01-23T08:38:34.074081Z",
     "shell.execute_reply": "2024-01-23T08:38:34.073286Z",
     "shell.execute_reply.started": "2024-01-23T08:38:34.041775Z"
    },
    "tags": []
   },
   "outputs": [],
   "source": [
    "from data_gen_utils.data_gen_my3 import get_simu_data\n",
    "data_train = get_simu_data(n=params.simu_setting.n, \n",
    "                                   d=params.simu_setting.d, \n",
    "                                   rho=params.simu_setting.rho, \n",
    "                                   err_type=params.simu_setting.err_type);"
   ]
  },
  {
   "cell_type": "code",
   "execution_count": 22,
   "id": "488fb498-0648-4411-b582-bd5721a0a8be",
   "metadata": {
    "execution": {
     "iopub.execute_input": "2024-01-23T08:40:24.265297Z",
     "iopub.status.busy": "2024-01-23T08:40:24.264710Z",
     "iopub.status.idle": "2024-01-23T08:41:11.736309Z",
     "shell.execute_reply": "2024-01-23T08:41:11.735776Z",
     "shell.execute_reply.started": "2024-01-23T08:40:24.265249Z"
    },
    "tags": []
   },
   "outputs": [
    {
     "name": "stderr",
     "output_type": "stream",
     "text": [
      "2024-01-23 00:40:24,751 - ddpm.train_ddpm_now - INFO - The results are saved at /data/rajlab1/user_data/jin/MyResearch/DG-CITE_paper/notebooks/../mypkg/../results/demo_ddpm_setting1_test11.\n",
      "2024-01-23 00:40:24,765 - ddpm.train_ddpm_now - INFO - The params is {'lr': 0.1, 'batch_size': 256, 'device': 'cpu', 'n_T': 400, 'n_infeat': 128, 'n_upblk': 1, 'n_downblk': 1, 'betas': [0.0001, 0.02], 'lr_gamma': 0.5, 'lr_step': 1000, 'test_intv': 5, 'weight_decay': 0.01}\n",
      "2024-01-23 00:40:24,766 - ddpm.train_ddpm_now - WARNING - We do not do early stop, so any args in early_stop_dict are ignored.\n"
     ]
    },
    {
     "name": "stdout",
     "output_type": "stream",
     "text": [
      "The num of params is 0.32m. \n",
      "Adjusting learning rate of group 0 to 1.0000e-01.\n"
     ]
    },
    {
     "name": "stderr",
     "output_type": "stream",
     "text": [
      "loss: 0.4684:  50%|█████████████████████▍                     | 499/1000 [00:23<00:21, 23.26it/s, val loss=0.751]2024-01-23 00:40:48,138 - ddpm.train_ddpm_now - INFO - Save model rep1_lr--1_n_infeat-128_n_T-400_weight_decay--01_n_upblk-1_n_downblk-1_ddpm_epoch500.pth.\n",
      "loss: 0.4591: 100%|███████████████████████████████████████████▉| 999/1000 [00:46<00:00, 17.35it/s, val loss=1.56]2024-01-23 00:41:11,701 - ddpm.train_ddpm_now - INFO - Save model rep1_lr--1_n_infeat-128_n_T-400_weight_decay--01_n_upblk-1_n_downblk-1_ddpm_epoch1000.pth.\n",
      "loss: 0.4591: 100%|███████████████████████████████████████████| 1000/1000 [00:46<00:00, 21.29it/s, val loss=1.56]"
     ]
    },
    {
     "name": "stdout",
     "output_type": "stream",
     "text": [
      "Adjusting learning rate of group 0 to 5.0000e-02.\n"
     ]
    },
    {
     "name": "stderr",
     "output_type": "stream",
     "text": [
      "\n"
     ]
    }
   ],
   "source": [
    "rep_ix = 1\n",
    "params = params\n",
    "lr = 1e-1\n",
    "n_infeat = 128\n",
    "n_T = 400\n",
    "weight_decay = 1e-2\n",
    "n_blk = 1\n",
    "if True:\n",
    "    manualSeed = rep_ix\n",
    "    random.seed(manualSeed)\n",
    "    np.random.seed(manualSeed)\n",
    "    torch.manual_seed(manualSeed)\n",
    "    torch.use_deterministic_algorithms(True) # Needed for reproducible results\n",
    "    params = edict(deepcopy(params))\n",
    "    params.ddpm_training.n_upblk = n_blk\n",
    "    params.ddpm_training.n_downblk = n_blk\n",
    "    params.ddpm_training.weight_decay = weight_decay\n",
    "    params.ddpm_training.n_T = n_T\n",
    "    params.ddpm_training.lr = lr\n",
    "    params.ddpm_training.n_infeat = n_infeat\n",
    "    keys = [\"lr\", \"n_infeat\", \"n_T\", \"weight_decay\", \"n_upblk\", \"n_downblk\"]\n",
    "    post_fix = _get_name_postfix(keys, params.ddpm_training)\n",
    "    \n",
    "    torch.set_default_dtype(params.df_dtype)\n",
    "    torch.set_default_device(params.device)\n",
    "    \n",
    "    fil_name = (RES_ROOT/params.save_dir)/f\"rep_{rep_ix}_{post_fix}_res.pkl\"\n",
    "    ofil_name = (RES_ROOT/params.save_dir)/f\"rep_{rep_ix}_others_res.pkl\"\n",
    "        \n",
    "        \n",
    "    if True:\n",
    "    #if not fil_name.exists():\n",
    "        data_train = get_simu_data(n=params.simu_setting.n, \n",
    "                                   d=params.simu_setting.d, \n",
    "                                   rho=params.simu_setting.rho, \n",
    "                                   err_type=params.simu_setting.err_type);\n",
    "        data_test = get_simu_data(n=params.simu_setting.ntest, \n",
    "                                   d=params.simu_setting.d, \n",
    "                                   rho=params.simu_setting.rho,\n",
    "                                   err_type=params.simu_setting.err_type);\n",
    "        \n",
    "        \n",
    "        cal_idxs, val_idxs, tr_idxs = get_idx_sets(all_idxs=np.where(data_train.T)[0], \n",
    "                                                       ratios = [params.simu_setting.cal_ratio, params.simu_setting.val_ratio])\n",
    "                \n",
    "        # get psfun\n",
    "        psY = data_train.T.astype(int)\n",
    "        psX = data_train.X\n",
    "        fit_res = boosting_logi(psY, psX);\n",
    "        def wsfun(X):\n",
    "            eps=1e-10\n",
    "            if isinstance(X, torch.Tensor):\n",
    "                X = X.cpu().numpy()\n",
    "            if X.ndim == 1:\n",
    "                X = X.reshape(1, -1)\n",
    "            est_ps = boosting_pred(X, fit_res)\n",
    "            est_ws = 1/(est_ps+eps)\n",
    "            return torch.tensor(est_ws, dtype=params.df_dtype).to(device=params.device)\n",
    "            \n",
    "        \n",
    "        cal_X = torch.tensor(data_train.X[cal_idxs], dtype=params.df_dtype)\n",
    "        cal_Y = torch.tensor(data_train.Y1[cal_idxs], dtype=params.df_dtype)\n",
    "        val_X = torch.tensor(data_train.X[val_idxs], dtype=params.df_dtype)\n",
    "        val_Y = torch.tensor(data_train.Y1[val_idxs], dtype=params.df_dtype)\n",
    "        test_X = torch.tensor(data_test.X, dtype=params.df_dtype)\n",
    "        test_Y = torch.tensor(data_test.Y1, dtype=params.df_dtype)\n",
    "            \n",
    "        # train q(Y(1)|X)\n",
    "        data_train_ddpm = MyDataSet(Y=data_train.Y[tr_idxs], X=data_train.X[tr_idxs])\n",
    "        data_val = edict()\n",
    "        data_val.c = val_X\n",
    "        data_val.x = val_Y\n",
    "        input_params = edict(deepcopy(params.ddpm_training))\n",
    "        input_params.pop(\"n_epoch\")\n",
    "        input_params.pop(\"early_stop\")\n",
    "        input_params.pop(\"early_stop_dict\")\n",
    "        myddpm = TrainDDPM(data_train_ddpm, save_dir=params.save_dir, verbose=params.verbose, prefix=f\"rep{rep_ix}_{post_fix}\", \n",
    "                           device=params.device,\n",
    "                           **input_params);\n",
    "        \n",
    "        \n",
    "        myddpm.train(n_epoch=params.ddpm_training.n_epoch, \n",
    "                         data_val=data_val, save_snapshot=params.save_snapshot, \n",
    "                         early_stop=params.ddpm_training.early_stop, \n",
    "                         early_stop_dict=params.ddpm_training.early_stop_dict\n",
    "                         )"
   ]
  },
  {
   "cell_type": "code",
   "execution_count": 23,
   "id": "b82d8e45-cbb6-41a0-ab36-d29b53633171",
   "metadata": {
    "execution": {
     "iopub.execute_input": "2024-01-23T08:41:26.163457Z",
     "iopub.status.busy": "2024-01-23T08:41:26.162801Z",
     "iopub.status.idle": "2024-01-23T08:41:26.288254Z",
     "shell.execute_reply": "2024-01-23T08:41:26.287260Z",
     "shell.execute_reply.started": "2024-01-23T08:41:26.163405Z"
    },
    "tags": []
   },
   "outputs": [
    {
     "name": "stderr",
     "output_type": "stream",
     "text": [
      "2024-01-23 00:41:26,274 - weighted_conformal_inference - INFO - wcf params is {'K': 40, 'nwhigh': 20, 'nwlow': 0.05, 'useinf': False, 'cf_type': 'PCP'}\n",
      "2024-01-23 00:41:26,276 - weighted_conformal_inference - INFO - gen params is {'ddim_timesteps': 50, 'ddim_eta': 1, 'gen_type': 'ddim'}\n",
      "2024-01-23 00:41:26,278 - weighted_conformal_inference - INFO - wcf params is {'K': 40, 'nwhigh': 20, 'nwlow': 0.05, 'useinf': False, 'cf_type': 'PCP'}\n",
      "2024-01-23 00:41:26,279 - weighted_conformal_inference - INFO - gen params is {'ddim_timesteps': 50, 'ddim_eta': 1, 'gen_type': 'ddim'}\n"
     ]
    },
    {
     "data": {
      "text/plain": [
       "<local_weighted_conformal_inference.LocalWeightedConformalInference at 0x7f4ff3059580>"
      ]
     },
     "execution_count": 23,
     "metadata": {},
     "output_type": "execute_result"
    }
   ],
   "source": [
    "ddpm = myddpm.ddpm\n",
    "gen_params={\"ddim_eta\": 1}\n",
    "_get_intvs_len = lambda intvs: np.array([sum([np.diff(iv) for iv in intv])[0] for intv in intvs]);\n",
    "# get weather vaule in vs is in CI in intvs or not \n",
    "def _get_inset(vs, intvs):\n",
    "    in_set = []\n",
    "    for v, intv in zip(vs, intvs):\n",
    "        in_set.append(np.sum([np.bitwise_and(v>iv[0], v<iv[1]) for iv in intv]))\n",
    "    in_set = np.array(in_set)\n",
    "    return in_set\n",
    "wcf1 = WeightedConformalInference(cal_X, \n",
    "                                     cal_Y,\n",
    "                                     ddpm, ws_fn=wsfun, verbose=2, \n",
    "                                     gen_type=\"ddim\",\n",
    "                                     seed=manualSeed,\n",
    "                                     n_jobs=params.n_jobs,\n",
    "                                     inf_bs=params.inf_bs,\n",
    "                                     device=params.device,\n",
    "                                     gen_params=gen_params,\n",
    "                                     wcf_params={\n",
    "                                        \"K\": params.K, # num of sps for each X\n",
    "                                        \"nwhigh\" : params.wconformal.nwthigh,\n",
    "                                        \"nwlow\" : params.wconformal.nwtlow,\n",
    "                                        \"useinf\": params.wconformal.useinf,\n",
    "                                     })\n",
    "wcf2 = LocalWeightedConformalInference(cal_X, \n",
    "                                     cal_Y,\n",
    "                                     ddpm, ws_fn=wsfun, verbose=2, \n",
    "                                     gen_type=\"ddim\",\n",
    "                                     seed=manualSeed,\n",
    "                                     n_jobs=params.n_jobs,\n",
    "                                     inf_bs=params.inf_bs,\n",
    "                                     device=params.device,\n",
    "                                     gen_params=gen_params,\n",
    "                                     wcf_params={\n",
    "                                        \"K\": params.K, # num of sps for each X\n",
    "                                        \"nwhigh\" : params.wconformal.nwthigh,\n",
    "                                        \"nwlow\" : params.wconformal.nwtlow,\n",
    "                                        \"useinf\": params.wconformal.useinf,\n",
    "                                     })\n"
   ]
  },
  {
   "cell_type": "code",
   "execution_count": 71,
   "id": "d770854a-e4b2-4551-9107-9c985ed9a11c",
   "metadata": {
    "execution": {
     "iopub.execute_input": "2024-01-23T17:57:51.848918Z",
     "iopub.status.busy": "2024-01-23T17:57:51.848168Z",
     "iopub.status.idle": "2024-01-23T17:57:52.583319Z",
     "shell.execute_reply": "2024-01-23T17:57:52.582912Z",
     "shell.execute_reply.started": "2024-01-23T17:57:51.848868Z"
    },
    "tags": []
   },
   "outputs": [
    {
     "data": {
      "text/plain": [
       "6.18471177944862"
      ]
     },
     "execution_count": 71,
     "metadata": {},
     "output_type": "execute_result"
    }
   ],
   "source": [
    "tmpX=torch.tensor(data_train.X[:1000], dtype=params.df_dtype);\n",
    "opt_h = get_opth(X=tmpX, hmin=0.1, local_method=\"RLCP\", target_eff_size=800)"
   ]
  },
  {
   "cell_type": "code",
   "execution_count": 64,
   "id": "0b24be85-5c25-4a1d-9c40-42cdcc27281f",
   "metadata": {
    "execution": {
     "iopub.execute_input": "2024-01-23T17:53:47.575801Z",
     "iopub.status.busy": "2024-01-23T17:53:47.575210Z",
     "iopub.status.idle": "2024-01-23T17:53:58.616783Z",
     "shell.execute_reply": "2024-01-23T17:53:58.616258Z",
     "shell.execute_reply.started": "2024-01-23T17:53:47.575754Z"
    },
    "tags": []
   },
   "outputs": [
    {
     "name": "stderr",
     "output_type": "stream",
     "text": [
      "100%|████████████████████████████████████████████████████████████████████████████| 25/25 [00:00<00:00, 60.81it/s]\n"
     ]
    },
    {
     "name": "stdout",
     "output_type": "stream",
     "text": [
      "0.957 15.522781\n"
     ]
    },
    {
     "name": "stderr",
     "output_type": "stream",
     "text": [
      "100%|██████████████████████████████████████████████████████████████████████████| 25/25 [00:00<00:00, 4506.13it/s]\n"
     ]
    },
    {
     "name": "stdout",
     "output_type": "stream",
     "text": [
      "0.958 15.685301\n"
     ]
    }
   ],
   "source": [
    "X = test_X\n",
    "Y = test_Y\n",
    "intvs1 = wcf1(X, alpha=params.hypo_test.alpha);\n",
    "prbs1 = np.mean(_get_inset(Y, intvs1))\n",
    "mlen1 = np.median(_get_intvs_len(intvs1))\n",
    "print(prbs1, mlen1)\n",
    "wcf2.add_data(X)\n",
    "intvs2 = wcf2(local_method=\"RLCP\", alpha=params.hypo_test.alpha, lm_params={\"h\":opt_h});\n",
    "prbs2 = np.mean(_get_inset(Y, intvs2))\n",
    "mlen2 = np.median(_get_intvs_len(intvs2))\n",
    "print(prbs2, mlen2)"
   ]
  },
  {
   "cell_type": "code",
   "execution_count": 56,
   "id": "854eb6f5-ff96-40cb-9f5c-2708777351a1",
   "metadata": {
    "execution": {
     "iopub.execute_input": "2024-01-23T08:45:24.317177Z",
     "iopub.status.busy": "2024-01-23T08:45:24.316574Z",
     "iopub.status.idle": "2024-01-23T08:45:24.382168Z",
     "shell.execute_reply": "2024-01-23T08:45:24.381308Z",
     "shell.execute_reply.started": "2024-01-23T08:45:24.317126Z"
    },
    "tags": []
   },
   "outputs": [],
   "source": [
    "data_test1 = get_simu_data(n=1000,\n",
    "                           d=params.simu_setting.d, \n",
    "                           rho=params.simu_setting.rho,\n",
    "                           err_type=params.simu_setting.err_type);\n",
    "        "
   ]
  },
  {
   "cell_type": "code",
   "execution_count": 57,
   "id": "3d4d5b59-14c2-4969-9d05-20d5b613f7cf",
   "metadata": {
    "execution": {
     "iopub.execute_input": "2024-01-23T08:45:24.687861Z",
     "iopub.status.busy": "2024-01-23T08:45:24.687310Z",
     "iopub.status.idle": "2024-01-23T08:45:30.693016Z",
     "shell.execute_reply": "2024-01-23T08:45:30.691462Z",
     "shell.execute_reply.started": "2024-01-23T08:45:24.687818Z"
    },
    "tags": []
   },
   "outputs": [
    {
     "name": "stdout",
     "output_type": "stream",
     "text": [
      "torch.Size([518, 100])\n"
     ]
    },
    {
     "name": "stderr",
     "output_type": "stream",
     "text": [
      "100%|██████████████████████████████████████████████████████████████████████████| 13/13 [00:00<00:00, 6038.98it/s]\n"
     ]
    },
    {
     "name": "stdout",
     "output_type": "stream",
     "text": [
      "0.9459459459459459 15.599217\n"
     ]
    },
    {
     "name": "stderr",
     "output_type": "stream",
     "text": [
      "100%|█████████████████████████████████████████████████████████████████████████| 13/13 [00:00<00:00, 11071.26it/s]\n"
     ]
    },
    {
     "name": "stdout",
     "output_type": "stream",
     "text": [
      "0.9691119691119691 17.361458\n"
     ]
    }
   ],
   "source": [
    "X = torch.tensor(data_test1.X, dtype=params.df_dtype);\n",
    "Y = torch.tensor(data_test1.Y1, dtype=params.df_dtype);\n",
    "Xnorm = torch.norm(X, p=2, dim=1)**2\n",
    "kpidx = Xnorm < 100/3\n",
    "X = X[kpidx]\n",
    "Y = Y[kpidx];\n",
    "print(X.shape)\n",
    "\n",
    "intvs1 = wcf1(X, alpha=params.hypo_test.alpha);\n",
    "prbs1 = np.mean(_get_inset(Y, intvs1))\n",
    "mlen1 = np.median(_get_intvs_len(intvs1))\n",
    "print(prbs1, mlen1)\n",
    "\n",
    "wcf2.add_data(X)\n",
    "intvs2 = wcf2(local_method=\"baseLCP\", alpha=params.hypo_test.alpha, lm_params={\"h\":opt_h-1});\n",
    "prbs2 = np.mean(_get_inset(Y, intvs2))\n",
    "mlen2 = np.median(_get_intvs_len(intvs2))\n",
    "print(prbs2, mlen2)"
   ]
  },
  {
   "cell_type": "code",
   "execution_count": 20,
   "id": "16e2d511-467b-4a8d-b3d3-73e2b513e1da",
   "metadata": {
    "execution": {
     "iopub.execute_input": "2024-01-23T08:39:45.817447Z",
     "iopub.status.busy": "2024-01-23T08:39:45.816832Z",
     "iopub.status.idle": "2024-01-23T08:39:46.075398Z",
     "shell.execute_reply": "2024-01-23T08:39:46.075031Z",
     "shell.execute_reply.started": "2024-01-23T08:39:45.817399Z"
    },
    "tags": []
   },
   "outputs": [
    {
     "name": "stdout",
     "output_type": "stream",
     "text": [
      "0.9450980392156862 49.714363\n"
     ]
    }
   ],
   "source": [
    "intvs2 = wcf2(local_method=\"baseLCP\", alpha=params.hypo_test.alpha, lm_params={\"h\":5});\n",
    "prbs2 = np.mean(_get_inset(Y, intvs2))\n",
    "mlen2 = np.median(_get_intvs_len(intvs2))\n",
    "print(prbs2, mlen2)"
   ]
  },
  {
   "cell_type": "code",
   "execution_count": 66,
   "id": "33f3c1eb-7bcf-48ac-b274-6da5425c7b1e",
   "metadata": {
    "execution": {
     "iopub.execute_input": "2024-01-23T05:56:31.260620Z",
     "iopub.status.busy": "2024-01-23T05:56:31.260014Z",
     "iopub.status.idle": "2024-01-23T05:56:32.234039Z",
     "shell.execute_reply": "2024-01-23T05:56:32.233522Z",
     "shell.execute_reply.started": "2024-01-23T05:56:31.260571Z"
    },
    "scrolled": true,
    "tags": []
   },
   "outputs": [
    {
     "name": "stdout",
     "output_type": "stream",
     "text": [
      "tensor([[0.2500, 0.0000, 0.0000,  ..., 0.0000, 0.0000, 0.0000],\n",
      "        [0.0000, 0.2500, 0.0000,  ..., 0.0000, 0.0000, 0.0000],\n",
      "        [0.0000, 0.0000, 0.2500,  ..., 0.0000, 0.0000, 0.0000],\n",
      "        ...,\n",
      "        [0.0000, 0.0000, 0.0000,  ..., 0.2500, 0.0000, 0.0000],\n",
      "        [0.0000, 0.0000, 0.0000,  ..., 0.0000, 0.2500, 0.0000],\n",
      "        [0.0000, 0.0000, 0.0000,  ..., 0.0000, 0.0000, 0.2500]])\n",
      "tensor([-58.1507, -22.5791])\n",
      "tensor([-55.9703, -22.5791])\n",
      "tensor([-53.3971, -22.5791])\n",
      "tensor([-57.3404, -22.5791])\n",
      "tensor([-52.6056, -22.5791])\n",
      "tensor([-53.5187, -22.5791])\n",
      "tensor([-57.3497, -22.5791])\n",
      "tensor([-62.3816, -22.5791])\n",
      "tensor([-56.3065, -22.5791])\n",
      "tensor([-55.0109, -22.5791])\n",
      "tensor([-63.3423, -22.5791])\n",
      "tensor([-57.6119, -22.5791])\n",
      "tensor([-54.6570, -22.5791])\n",
      "tensor([-55.9860, -22.5791])\n",
      "tensor([-55.4005, -22.5791])\n",
      "tensor([-60.5444, -22.5791])\n",
      "tensor([-63.4337, -22.5791])\n",
      "tensor([-59.6194, -22.5791])\n",
      "tensor([-57.2862, -22.5791])\n",
      "tensor([-60.4052, -22.5791])\n",
      "tensor([-53.0632, -22.5791])\n",
      "tensor([-56.7997, -22.5791])\n",
      "tensor([-54.1706, -22.5791])\n",
      "tensor([-54.5296, -22.5791])\n",
      "tensor([-60.7060, -22.5791])\n",
      "tensor([-57.3529, -22.5791])\n",
      "tensor([-52.8860, -22.5791])\n",
      "tensor([-53.7960, -22.5791])\n",
      "tensor([-56.4626, -22.5791])\n",
      "tensor([-59.1814, -22.5791])\n",
      "tensor([-61.6706, -22.5791])\n",
      "tensor([-56.4341, -22.5791])\n",
      "tensor([-60.6349, -22.5791])\n",
      "tensor([-52.6027, -22.5791])\n",
      "tensor([-56.2846, -22.5791])\n",
      "tensor([-54.6557, -22.5791])\n",
      "tensor([-63.6536, -22.5791])\n",
      "tensor([-51.3377, -22.5791])\n",
      "tensor([-48.5008, -22.5791])\n",
      "tensor([-57.9189, -22.5791])\n",
      "tensor([-57.6712, -22.5791])\n",
      "tensor([-55.7307, -22.5791])\n",
      "tensor([-59.2848, -22.5791])\n",
      "tensor([-57.2612, -22.5791])\n",
      "tensor([-51.8463, -22.5791])\n",
      "tensor([-62.7441, -22.5791])\n",
      "tensor([-51.0142, -22.5791])\n",
      "tensor([-56.5217, -22.5791])\n",
      "tensor([-58.9382, -22.5791])\n",
      "tensor([-56.3969, -22.5791])\n",
      "tensor([-57.6982, -22.5791])\n",
      "tensor([-60.8787, -22.5791])\n",
      "tensor([-49.6368, -22.5791])\n",
      "tensor([-63.1952, -22.5791])\n",
      "tensor([-57.5194, -22.5791])\n",
      "tensor([-58.5546, -22.5791])\n",
      "tensor([-51.6857, -22.5791])\n",
      "tensor([-55.3171, -22.5791])\n",
      "tensor([-59.5701, -22.5791])\n",
      "tensor([-54.7832, -22.5791])\n",
      "tensor([-58.0234, -22.5791])\n",
      "tensor([-52.0982, -22.5791])\n",
      "tensor([-57.3332, -22.5791])\n",
      "tensor([-62.7009, -22.5791])\n",
      "tensor([-59.1140, -22.5791])\n",
      "tensor([-56.1047, -22.5791])\n",
      "tensor([-56.2276, -22.5791])\n",
      "tensor([-64.9820, -22.5791])\n",
      "tensor([-57.6740, -22.5791])\n",
      "tensor([-58.4919, -22.5791])\n",
      "tensor([-53.2428, -22.5791])\n",
      "tensor([-60.4750, -22.5791])\n",
      "tensor([-51.8056, -22.5791])\n",
      "tensor([-52.1957, -22.5791])\n",
      "tensor([-52.7562, -22.5791])\n",
      "tensor([-59.7305, -22.5791])\n",
      "tensor([-52.6928, -22.5791])\n",
      "tensor([-55.4040, -22.5791])\n",
      "tensor([-57.6411, -22.5791])\n",
      "tensor([-50.8888, -22.5791])\n",
      "tensor([-62.2130, -22.5791])\n",
      "tensor([-55.3461, -22.5791])\n",
      "tensor([-56.1777, -22.5791])\n",
      "tensor([-57.6969, -22.5791])\n",
      "tensor([-56.2288, -22.5791])\n",
      "tensor([-51.5435, -22.5791])\n",
      "tensor([-53.6631, -22.5791])\n",
      "tensor([-47.5777, -22.5791])\n",
      "tensor([-56.4997, -22.5791])\n",
      "tensor([-54.3621, -22.5791])\n",
      "tensor([-64.2942, -22.5791])\n",
      "tensor([-60.2463, -22.5791])\n",
      "tensor([-65.9560, -22.5791])\n",
      "tensor([-55.5734, -22.5791])\n",
      "tensor([-61.9142, -22.5791])\n",
      "tensor([-51.7441, -22.5791])\n",
      "tensor([-47.7645, -22.5791])\n",
      "tensor([-60.2330, -22.5791])\n",
      "tensor([-57.5243, -22.5791])\n",
      "tensor([-56.7325, -22.5791])\n",
      "tensor([-59.9125, -22.5791])\n",
      "tensor([-51.9488, -22.5791])\n",
      "tensor([-60.7385, -22.5791])\n",
      "tensor([-51.8778, -22.5791])\n",
      "tensor([-54.2152, -22.5791])\n",
      "tensor([-51.9034, -22.5791])\n",
      "tensor([-56.9296, -22.5791])\n",
      "tensor([-55.0845, -22.5791])\n",
      "tensor([-52.6197, -22.5791])\n",
      "tensor([-60.7797, -22.5791])\n",
      "tensor([-61.4438, -22.5791])\n",
      "tensor([-51.1410, -22.5791])\n",
      "tensor([-52.5341, -22.5791])\n",
      "tensor([-54.2398, -22.5791])\n",
      "tensor([-53.6827, -22.5791])\n",
      "tensor([-57.1141, -22.5791])\n",
      "tensor([-54.9160, -22.5791])\n",
      "tensor([-51.2542, -22.5791])\n",
      "tensor([-58.2083, -22.5791])\n",
      "tensor([-59.3543, -22.5791])\n",
      "tensor([-60.1051, -22.5791])\n",
      "tensor([-58.9073, -22.5791])\n",
      "tensor([-51.7978, -22.5791])\n",
      "tensor([-56.2087, -22.5791])\n",
      "tensor([-56.1451, -22.5791])\n",
      "tensor([-50.6510, -22.5791])\n",
      "tensor([-53.7804, -22.5791])\n",
      "tensor([-53.6775, -22.5791])\n",
      "tensor([-55.1774, -22.5791])\n",
      "tensor([-53.9818, -22.5791])\n",
      "tensor([-52.2483, -22.5791])\n",
      "tensor([-54.3127, -22.5791])\n",
      "tensor([-58.4196, -22.5791])\n",
      "tensor([-58.4063, -22.5791])\n",
      "tensor([-61.7221, -22.5791])\n",
      "tensor([-60.7251, -22.5791])\n",
      "tensor([-53.9594, -22.5791])\n",
      "tensor([-56.8776, -22.5791])\n",
      "tensor([-53.3391, -22.5791])\n",
      "tensor([-59.2518, -22.5791])\n",
      "tensor([-54.9629, -22.5791])\n",
      "tensor([-54.4108, -22.5791])\n",
      "tensor([-52.7071, -22.5791])\n",
      "tensor([-55.3633, -22.5791])\n",
      "tensor([-50.0602, -22.5791])\n",
      "tensor([-58.1157, -22.5791])\n",
      "tensor([-55.5654, -22.5791])\n",
      "tensor([-62.0498, -22.5791])\n",
      "tensor([-56.8907, -22.5791])\n",
      "tensor([-57.6430, -22.5791])\n",
      "tensor([-53.5027, -22.5791])\n",
      "tensor([-56.1254, -22.5791])\n",
      "tensor([-54.0214, -22.5791])\n",
      "tensor([-60.7231, -22.5791])\n",
      "tensor([-53.2610, -22.5791])\n",
      "tensor([-56.3396, -22.5791])\n",
      "tensor([-62.3103, -22.5791])\n",
      "tensor([-60.5324, -22.5791])\n",
      "tensor([-60.3699, -22.5791])\n",
      "tensor([-56.0046, -22.5791])\n",
      "tensor([-49.4745, -22.5791])\n",
      "tensor([-55.5125, -22.5791])\n",
      "tensor([-55.9067, -22.5791])\n",
      "tensor([-58.3068, -22.5791])\n",
      "tensor([-53.2161, -22.5791])\n",
      "tensor([-63.1627, -22.5791])\n",
      "tensor([-53.0253, -22.5791])\n",
      "tensor([-58.6582, -22.5791])\n",
      "tensor([-65.5487, -22.5791])\n",
      "tensor([-55.7584, -22.5791])\n",
      "tensor([-56.9658, -22.5791])\n",
      "tensor([-54.2916, -22.5791])\n",
      "tensor([-53.2070, -22.5791])\n",
      "tensor([-54.2731, -22.5791])\n",
      "tensor([-54.2007, -22.5791])\n",
      "tensor([-54.9245, -22.5791])\n",
      "tensor([-54.0815, -22.5791])\n",
      "tensor([-56.1412, -22.5791])\n",
      "tensor([-53.5260, -22.5791])\n",
      "tensor([-52.5898, -22.5791])\n",
      "tensor([-54.0357, -22.5791])\n",
      "tensor([-59.0296, -22.5791])\n",
      "tensor([-58.8657, -22.5791])\n",
      "tensor([-49.6649, -22.5791])\n",
      "tensor([-57.9607, -22.5791])\n",
      "tensor([-56.8580, -22.5791])\n",
      "tensor([-58.3190, -22.5791])\n",
      "tensor([-56.2973, -22.5791])\n",
      "tensor([-57.9008, -22.5791])\n",
      "tensor([-57.7708, -22.5791])\n",
      "tensor([-56.2933, -22.5791])\n",
      "tensor([-54.2583, -22.5791])\n",
      "tensor([-59.0179, -22.5791])\n",
      "tensor([-58.3522, -22.5791])\n",
      "tensor([-58.7120, -22.5791])\n",
      "tensor([-51.0071, -22.5791])\n",
      "tensor([-54.7719, -22.5791])\n",
      "tensor([-58.2546, -22.5791])\n",
      "tensor([-60.1451, -22.5791])\n",
      "tensor([-53.9436, -22.5791])\n",
      "tensor([-55.9955, -22.5791])\n",
      "tensor([-52.7102, -22.5791])\n",
      "tensor([-56.3735, -22.5791])\n",
      "tensor([-48.6457, -22.5791])\n",
      "tensor([-54.6192, -22.5791])\n",
      "tensor([-54.3337, -22.5791])\n",
      "tensor([-58.3927, -22.5791])\n",
      "tensor([-53.3454, -22.5791])\n",
      "tensor([-52.5344, -22.5791])\n",
      "tensor([-57.9096, -22.5791])\n",
      "tensor([-53.2350, -22.5791])\n",
      "tensor([-57.9016, -22.5791])\n",
      "tensor([-58.9331, -22.5791])\n",
      "tensor([-60.7916, -22.5791])\n",
      "tensor([-54.9296, -22.5791])\n",
      "tensor([-55.9445, -22.5791])\n",
      "tensor([-59.3955, -22.5791])\n",
      "tensor([-56.7790, -22.5791])\n",
      "tensor([-59.3276, -22.5791])\n",
      "tensor([-49.1947, -22.5791])\n",
      "tensor([-54.8312, -22.5791])\n",
      "tensor([-58.4961, -22.5791])\n",
      "tensor([-58.0047, -22.5791])\n",
      "tensor([-61.3366, -22.5791])\n",
      "tensor([-60.2247, -22.5791])\n",
      "tensor([-62.1118, -22.5791])\n",
      "tensor([-61.0283, -22.5791])\n",
      "tensor([-54.7747, -22.5791])\n",
      "tensor([-63.0289, -22.5791])\n",
      "tensor([-58.1424, -22.5791])\n",
      "tensor([-54.2576, -22.5791])\n",
      "tensor([-55.5108, -22.5791])\n",
      "tensor([-51.0118, -22.5791])\n",
      "tensor([-54.4219, -22.5791])\n",
      "tensor([-59.6702, -22.5791])\n",
      "tensor([-63.0895, -22.5791])\n",
      "tensor([-58.5855, -22.5791])\n",
      "tensor([-56.5373, -22.5791])\n",
      "tensor([-57.0351, -22.5791])\n",
      "tensor([-55.3198, -22.5791])\n",
      "tensor([-56.2324, -22.5791])\n",
      "tensor([-51.4802, -22.5791])\n",
      "tensor([-54.9968, -22.5791])\n",
      "tensor([-59.7283, -22.5791])\n",
      "tensor([-54.6848, -22.5791])\n",
      "tensor([-51.4132, -22.5791])\n",
      "tensor([-51.6469, -22.5791])\n",
      "tensor([-48.4539, -22.5791])\n",
      "tensor([-52.9089, -22.5791])\n",
      "tensor([-57.2387, -22.5791])\n",
      "tensor([-48.9215, -22.5791])\n",
      "tensor([-48.6149, -22.5791])\n",
      "tensor([-57.2151, -22.5791])\n",
      "tensor([-59.7098, -22.5791])\n",
      "tensor([-52.8015, -22.5791])\n",
      "tensor([-56.3836, -22.5791])\n",
      "tensor([-51.1632, -22.5791])\n",
      "tensor([-60.5018, -22.5791])\n",
      "tensor([-55.0509, -22.5791])\n",
      "tensor([-57.3857, -22.5791])\n",
      "tensor([-57.5486, -22.5791])\n",
      "tensor([-53.0567, -22.5791])\n",
      "tensor([-51.2363, -22.5791])\n",
      "tensor([-58.1454, -22.5791])\n",
      "tensor([-54.5505, -22.5791])\n",
      "tensor([-59.7272, -22.5791])\n",
      "tensor([-50.8628, -22.5791])\n",
      "tensor([-56.9112, -22.5791])\n",
      "tensor([-55.1471, -22.5791])\n",
      "tensor([-60.1939, -22.5791])\n",
      "tensor([-49.1918, -22.5791])\n",
      "tensor([-62.6455, -22.5791])\n",
      "tensor([-51.9937, -22.5791])\n",
      "tensor([-68.4276, -22.5791])\n",
      "tensor([-58.6787, -22.5791])\n",
      "tensor([-57.5460, -22.5791])\n",
      "tensor([-50.4329, -22.5791])\n",
      "tensor([-62.9069, -22.5791])\n",
      "tensor([-54.1586, -22.5791])\n",
      "tensor([-54.2734, -22.5791])\n",
      "tensor([-59.5958, -22.5791])\n",
      "tensor([-59.2220, -22.5791])\n",
      "tensor([-60.7419, -22.5791])\n",
      "tensor([-56.7769, -22.5791])\n",
      "tensor([-53.0479, -22.5791])\n",
      "tensor([-55.9642, -22.5791])\n",
      "tensor([-57.5079, -22.5791])\n",
      "tensor([-50.9308, -22.5791])\n",
      "tensor([-58.0291, -22.5791])\n",
      "tensor([-57.8702, -22.5791])\n",
      "tensor([-59.8341, -22.5791])\n",
      "tensor([-52.0181, -22.5791])\n",
      "tensor([-60.3656, -22.5791])\n",
      "tensor([-55.4242, -22.5791])\n",
      "tensor([-54.8132, -22.5791])\n",
      "tensor([-57.2874, -22.5791])\n",
      "tensor([-51.4431, -22.5791])\n",
      "tensor([-52.9749, -22.5791])\n",
      "tensor([-60.3353, -22.5791])\n",
      "tensor([-52.8752, -22.5791])\n",
      "tensor([-56.1923, -22.5791])\n",
      "tensor([-57.6412, -22.5791])\n",
      "tensor([-58.6374, -22.5791])\n",
      "tensor([-59.1409, -22.5791])\n",
      "tensor([-54.3240, -22.5791])\n",
      "tensor([-60.3672, -22.5791])\n",
      "tensor([-58.1539, -22.5791])\n",
      "tensor([-55.3865, -22.5791])\n",
      "tensor([-54.0897, -22.5791])\n",
      "tensor([-55.3677, -22.5791])\n",
      "tensor([-54.9783, -22.5791])\n",
      "tensor([-63.7319, -22.5791])\n",
      "tensor([-57.4675, -22.5791])\n",
      "tensor([-56.1407, -22.5791])\n",
      "tensor([-60.0743, -22.5791])\n",
      "tensor([-48.8813, -22.5791])\n",
      "tensor([-56.9742, -22.5791])\n",
      "tensor([-55.9970, -22.5791])\n",
      "tensor([-60.8593, -22.5791])\n",
      "tensor([-52.7812, -22.5791])\n",
      "tensor([-53.7766, -22.5791])\n",
      "tensor([-63.6867, -22.5791])\n",
      "tensor([-54.0634, -22.5791])\n",
      "tensor([-53.6346, -22.5791])\n",
      "tensor([-56.5078, -22.5791])\n",
      "tensor([-55.8163, -22.5791])\n",
      "tensor([-59.7810, -22.5791])\n",
      "tensor([-53.6250, -22.5791])\n",
      "tensor([-53.9258, -22.5791])\n",
      "tensor([-54.4728, -22.5791])\n",
      "tensor([-56.5603, -22.5791])\n",
      "tensor([-60.7578, -22.5791])\n",
      "tensor([-55.6854, -22.5791])\n",
      "tensor([-56.7172, -22.5791])\n",
      "tensor([-55.2326, -22.5791])\n",
      "tensor([-56.1944, -22.5791])\n",
      "tensor([-52.8752, -22.5791])\n",
      "tensor([-50.6904, -22.5791])\n",
      "tensor([-59.7082, -22.5791])\n",
      "tensor([-57.3937, -22.5791])\n",
      "tensor([-63.1789, -22.5791])\n",
      "tensor([-53.0891, -22.5791])\n",
      "tensor([-55.5560, -22.5791])\n",
      "tensor([-53.7314, -22.5791])\n",
      "tensor([-53.5011, -22.5791])\n",
      "tensor([-61.8407, -22.5791])\n",
      "tensor([-60.3082, -22.5791])\n",
      "tensor([-55.7834, -22.5791])\n",
      "tensor([-56.3497, -22.5791])\n",
      "tensor([-57.3391, -22.5791])\n",
      "tensor([-54.7227, -22.5791])\n",
      "tensor([-56.8358, -22.5791])\n",
      "tensor([-53.5635, -22.5791])\n",
      "tensor([-61.9277, -22.5791])\n",
      "tensor([-56.6364, -22.5791])\n",
      "tensor([-54.6652, -22.5791])\n",
      "tensor([-59.9357, -22.5791])\n",
      "tensor([-60.9975, -22.5791])\n",
      "tensor([-55.4755, -22.5791])\n",
      "tensor([-55.7563, -22.5791])\n",
      "tensor([-51.7226, -22.5791])\n",
      "tensor([-53.7121, -22.5791])\n",
      "tensor([-52.1917, -22.5791])\n",
      "tensor([-54.8427, -22.5791])\n",
      "tensor([-51.6368, -22.5791])\n",
      "tensor([-56.7024, -22.5791])\n",
      "tensor([-56.4045, -22.5791])\n",
      "tensor([-54.2921, -22.5791])\n",
      "tensor([-54.7863, -22.5791])\n",
      "tensor([-62.3461, -22.5791])\n",
      "tensor([-61.5418, -22.5791])\n",
      "tensor([-57.1014, -22.5791])\n",
      "tensor([-62.4852, -22.5791])\n",
      "tensor([-49.3566, -22.5791])\n",
      "tensor([-53.3352, -22.5791])\n",
      "tensor([-53.9238, -22.5791])\n",
      "tensor([-58.0052, -22.5791])\n",
      "tensor([-55.8663, -22.5791])\n",
      "tensor([-49.4256, -22.5791])\n",
      "tensor([-57.8791, -22.5791])\n",
      "tensor([-58.9851, -22.5791])\n",
      "tensor([-54.5503, -22.5791])\n",
      "tensor([-51.0666, -22.5791])\n",
      "tensor([-49.3556, -22.5791])\n",
      "tensor([-56.7157, -22.5791])\n",
      "tensor([-59.6343, -22.5791])\n",
      "tensor([-54.5068, -22.5791])\n",
      "tensor([-50.6777, -22.5791])\n",
      "tensor([-61.5652, -22.5791])\n",
      "tensor([-59.3624, -22.5791])\n",
      "tensor([-56.3585, -22.5791])\n",
      "tensor([-58.7638, -22.5791])\n",
      "tensor([-56.6724, -22.5791])\n",
      "tensor([-57.6129, -22.5791])\n",
      "tensor([-51.5438, -22.5791])\n",
      "tensor([-54.9412, -22.5791])\n",
      "tensor([-48.4221, -22.5791])\n",
      "tensor([-52.7061, -22.5791])\n",
      "tensor([-59.3487, -22.5791])\n",
      "tensor([-56.7744, -22.5791])\n",
      "tensor([-62.7113, -22.5791])\n",
      "tensor([-59.0071, -22.5791])\n",
      "tensor([-61.3551, -22.5791])\n",
      "tensor([-58.8805, -22.5791])\n",
      "tensor([-59.0262, -22.5791])\n",
      "tensor([-51.5400, -22.5791])\n",
      "tensor([-58.8628, -22.5791])\n",
      "tensor([-61.1225, -22.5791])\n",
      "tensor([-59.1233, -22.5791])\n",
      "tensor([-62.0963, -22.5791])\n",
      "tensor([-58.1410, -22.5791])\n",
      "tensor([-56.4710, -22.5791])\n",
      "tensor([-63.2130, -22.5791])\n",
      "tensor([-56.2903, -22.5791])\n",
      "tensor([-56.7542, -22.5791])\n",
      "tensor([-58.7250, -22.5791])\n",
      "tensor([-55.9914, -22.5791])\n",
      "tensor([-57.2483, -22.5791])\n",
      "tensor([-58.0500, -22.5791])\n",
      "tensor([-51.0626, -22.5791])\n",
      "tensor([-55.6170, -22.5791])\n",
      "tensor([-53.3260, -22.5791])\n",
      "tensor([-53.8623, -22.5791])\n",
      "tensor([-62.8009, -22.5791])\n",
      "tensor([-56.9863, -22.5791])\n",
      "tensor([-59.0228, -22.5791])\n",
      "tensor([-55.1873, -22.5791])\n",
      "tensor([-53.0429, -22.5791])\n",
      "tensor([-60.3638, -22.5791])\n",
      "tensor([-59.1783, -22.5791])\n",
      "tensor([-52.3087, -22.5791])\n",
      "tensor([-55.5732, -22.5791])\n",
      "tensor([-48.0211, -22.5791])\n",
      "tensor([-59.4998, -22.5791])\n",
      "tensor([-49.7617, -22.5791])\n",
      "tensor([-58.7855, -22.5791])\n",
      "tensor([-46.9933, -22.5791])\n",
      "tensor([-58.1583, -22.5791])\n",
      "tensor([-52.9935, -22.5791])\n",
      "tensor([-51.5017, -22.5791])\n",
      "tensor([-51.6531, -22.5791])\n",
      "tensor([-53.4984, -22.5791])\n",
      "tensor([-56.9325, -22.5791])\n",
      "tensor([-56.1989, -22.5791])\n",
      "tensor([-56.7241, -22.5791])\n",
      "tensor([-53.7653, -22.5791])\n",
      "tensor([-55.7393, -22.5791])\n",
      "tensor([-55.1179, -22.5791])\n",
      "tensor([-60.8218, -22.5791])\n",
      "tensor([-56.1363, -22.5791])\n",
      "tensor([-59.7357, -22.5791])\n",
      "tensor([-56.0176, -22.5791])\n",
      "tensor([-51.4768, -22.5791])\n",
      "tensor([-54.7832, -22.5791])\n",
      "tensor([-53.3981, -22.5791])\n",
      "tensor([-50.1037, -22.5791])\n",
      "tensor([-58.0705, -22.5791])\n",
      "tensor([-52.6865, -22.5791])\n",
      "tensor([-59.6463, -22.5791])\n",
      "tensor([-52.5961, -22.5791])\n",
      "tensor([-59.0930, -22.5791])\n",
      "tensor([-61.0578, -22.5791])\n",
      "tensor([-56.9796, -22.5791])\n",
      "tensor([-60.0969, -22.5791])\n",
      "tensor([-60.8282, -22.5791])\n",
      "tensor([-53.7165, -22.5791])\n",
      "tensor([-53.7636, -22.5791])\n",
      "tensor([-54.0941, -22.5791])\n",
      "tensor([-60.0349, -22.5791])\n",
      "tensor([-54.2224, -22.5791])\n",
      "tensor([-61.8447, -22.5791])\n",
      "tensor([-51.1392, -22.5791])\n",
      "tensor([-58.3485, -22.5791])\n",
      "tensor([-57.8313, -22.5791])\n",
      "tensor([-63.1658, -22.5791])\n",
      "tensor([-55.8819, -22.5791])\n",
      "tensor([-51.8539, -22.5791])\n",
      "tensor([-61.4244, -22.5791])\n",
      "tensor([-50.8364, -22.5791])\n",
      "tensor([-57.5858, -22.5791])\n",
      "tensor([-50.1909, -22.5791])\n",
      "tensor([-63.9943, -22.5791])\n",
      "tensor([-51.8420, -22.5791])\n",
      "tensor([-57.2425, -22.5791])\n",
      "tensor([-52.1401, -22.5791])\n",
      "tensor([-60.7944, -22.5791])\n",
      "tensor([-48.4816, -22.5791])\n",
      "tensor([-56.7752, -22.5791])\n",
      "tensor([-58.9590, -22.5791])\n",
      "tensor([-52.5965, -22.5791])\n",
      "tensor([-60.1282, -22.5791])\n",
      "tensor([-54.4120, -22.5791])\n",
      "tensor([-59.1440, -22.5791])\n",
      "tensor([-50.4962, -22.5791])\n",
      "tensor([-50.8264, -22.5791])\n",
      "tensor([-48.8571, -22.5791])\n",
      "tensor([-59.7153, -22.5791])\n",
      "tensor([-51.8762, -22.5791])\n",
      "tensor([-59.4066, -22.5791])\n",
      "tensor([-57.1433, -22.5791])\n",
      "tensor([-53.9553, -22.5791])\n",
      "tensor([-58.0079, -22.5791])\n",
      "tensor([-46.6207, -22.5791])\n",
      "tensor([-55.8766, -22.5791])\n",
      "tensor([-59.3107, -22.5791])\n",
      "tensor([-56.2452, -22.5791])\n",
      "tensor([-48.1050, -22.5791])\n",
      "tensor([-58.4263, -22.5791])\n",
      "tensor([-54.7800, -22.5791])\n",
      "tensor([-60.4626, -22.5791])\n",
      "tensor([[ 0.0500,  0.0500,  0.0500,  ...,  0.0500,  0.0500, 20.0000],\n",
      "        [ 0.0500,  0.0500,  0.0500,  ...,  0.0500,  0.0500, 20.0000],\n",
      "        [ 0.0500,  0.0500,  0.0500,  ...,  0.0500,  0.0500, 20.0000],\n",
      "        ...,\n",
      "        [ 0.0500,  0.0500,  0.0500,  ...,  0.0500,  0.0500, 20.0000],\n",
      "        [ 0.0500,  0.0500,  0.0500,  ...,  0.0500,  0.0500, 20.0000],\n",
      "        [ 0.0500,  0.0500,  0.0500,  ...,  0.0500,  0.0500, 20.0000]])\n"
     ]
    }
   ],
   "source": [
    "intvs2 = wcf2(local_method=\"baseLCP\", alpha=params.hypo_test.alpha, lm_params={\"h\":0.5});"
   ]
  },
  {
   "cell_type": "code",
   "execution_count": 51,
   "id": "5cae9c4e-4d2c-4e9c-8d8e-c3ad235e3087",
   "metadata": {
    "execution": {
     "iopub.execute_input": "2024-01-23T05:53:31.354568Z",
     "iopub.status.busy": "2024-01-23T05:53:31.353964Z",
     "iopub.status.idle": "2024-01-23T05:53:31.395221Z",
     "shell.execute_reply": "2024-01-23T05:53:31.394546Z",
     "shell.execute_reply.started": "2024-01-23T05:53:31.354521Z"
    },
    "tags": []
   },
   "outputs": [
    {
     "data": {
      "text/plain": [
       "1.2331235221003418e-40"
      ]
     },
     "execution_count": 51,
     "metadata": {},
     "output_type": "execute_result"
    }
   ],
   "source": [
    "(2*torch.pi)**(-50)"
   ]
  },
  {
   "cell_type": "code",
   "execution_count": null,
   "id": "e9a41dcc-16f0-425c-a40b-e49161abbaf1",
   "metadata": {},
   "outputs": [],
   "source": []
  }
 ],
 "metadata": {
  "kernelspec": {
   "display_name": "Python 3 (ipykernel)",
   "language": "python",
   "name": "python3"
  },
  "language_info": {
   "codemirror_mode": {
    "name": "ipython",
    "version": 3
   },
   "file_extension": ".py",
   "mimetype": "text/x-python",
   "name": "python",
   "nbconvert_exporter": "python",
   "pygments_lexer": "ipython3",
   "version": "3.9.7"
  },
  "toc-autonumbering": true
 },
 "nbformat": 4,
 "nbformat_minor": 5
}
