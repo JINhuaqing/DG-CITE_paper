{
 "cells": [
  {
   "cell_type": "raw",
   "id": "a40a1bf3-230e-4ead-b550-d932c5a78398",
   "metadata": {},
   "source": [
    "This notebook is to test using MLP to get CI for our task"
   ]
  },
  {
   "cell_type": "code",
   "execution_count": 1,
   "id": "7be37593-bf50-4fc1-b617-ff93ca3fb707",
   "metadata": {
    "execution": {
     "iopub.execute_input": "2024-02-14T02:42:29.540198Z",
     "iopub.status.busy": "2024-02-14T02:42:29.539700Z",
     "iopub.status.idle": "2024-02-14T02:42:29.557012Z",
     "shell.execute_reply": "2024-02-14T02:42:29.553666Z",
     "shell.execute_reply.started": "2024-02-14T02:42:29.540146Z"
    },
    "tags": []
   },
   "outputs": [],
   "source": [
    "import sys\n",
    "sys.path.append(\"../mypkg\")"
   ]
  },
  {
   "cell_type": "code",
   "execution_count": 40,
   "id": "ad8d569b-0412-47de-a9bf-2bbbfde7e943",
   "metadata": {
    "execution": {
     "iopub.execute_input": "2024-02-14T03:00:59.257138Z",
     "iopub.status.busy": "2024-02-14T03:00:59.256513Z",
     "iopub.status.idle": "2024-02-14T03:00:59.407960Z",
     "shell.execute_reply": "2024-02-14T03:00:59.406662Z",
     "shell.execute_reply.started": "2024-02-14T03:00:59.257091Z"
    },
    "tags": []
   },
   "outputs": [],
   "source": [
    "from constants import RES_ROOT, FIG_ROOT, DATA_ROOT\n",
    "from utils.misc import load_pkl, save_pkl, merge_intervals\n",
    "from utils.colors import qual_cmap\n",
    "from utils.stats import weighted_quantile\n",
    "from data_gen_utils.data_gen_my2 import get_simu_data\n",
    "from utils.utils import MyDataSet, get_idx_sets\n",
    "from demo_settings import simu_settings\n",
    "from CQR import get_CQR_CIs, boosting_pred, boosting_logi, get_CF_CIs\n",
    "from mlp.train_mlp import TrainMLP\n",
    "from ddpm.train_ddpm_now import TrainDDPM\n",
    "from weighted_conformal_inference import WeightedConformalInference\n",
    "from local_weighted_conformal_inference import LocalWeightedConformalInference, get_opth\n",
    "from naive_sample import NaiveSample"
   ]
  },
  {
   "cell_type": "code",
   "execution_count": 41,
   "id": "f1775f04-ea35-40dc-90e8-61a284a9daf2",
   "metadata": {
    "execution": {
     "iopub.execute_input": "2024-02-14T03:00:59.680226Z",
     "iopub.status.busy": "2024-02-14T03:00:59.679687Z",
     "iopub.status.idle": "2024-02-14T03:00:59.718310Z",
     "shell.execute_reply": "2024-02-14T03:00:59.717548Z",
     "shell.execute_reply.started": "2024-02-14T03:00:59.680183Z"
    },
    "tags": []
   },
   "outputs": [
    {
     "name": "stdout",
     "output_type": "stream",
     "text": [
      "The autoreload extension is already loaded. To reload it, use:\n",
      "  %reload_ext autoreload\n"
     ]
    }
   ],
   "source": [
    "%load_ext autoreload\n",
    "%autoreload 2\n",
    "# 0,1, 2, 3, be careful about the space"
   ]
  },
  {
   "cell_type": "code",
   "execution_count": 42,
   "id": "a42be2f3-7ab7-4f69-98eb-27ae79905c93",
   "metadata": {
    "execution": {
     "iopub.execute_input": "2024-02-14T03:00:59.963478Z",
     "iopub.status.busy": "2024-02-14T03:00:59.962864Z",
     "iopub.status.idle": "2024-02-14T03:01:00.005290Z",
     "shell.execute_reply": "2024-02-14T03:01:00.004637Z",
     "shell.execute_reply.started": "2024-02-14T03:00:59.963432Z"
    },
    "tags": []
   },
   "outputs": [],
   "source": [
    "import torch\n",
    "import scipy.stats as ss\n",
    "import numpy as np\n",
    "from easydict import EasyDict as edict\n",
    "import matplotlib.pyplot as plt\n",
    "import seaborn as sns\n",
    "from collections import defaultdict as ddict\n",
    "from tqdm import tqdm, trange\n",
    "import random\n",
    "from joblib import Parallel, delayed\n",
    "import pandas as pd\n",
    "from pprint import pprint\n",
    "from copy import deepcopy\n",
    "plt.style.use(FIG_ROOT/\"base.mplstyle\")"
   ]
  },
  {
   "cell_type": "markdown",
   "id": "5f1daada-ca8c-4a09-84f5-dfe6c045008d",
   "metadata": {},
   "source": [
    "# Params"
   ]
  },
  {
   "cell_type": "code",
   "execution_count": 107,
   "id": "68b00b94-5b21-4681-85e2-2206bb03ba73",
   "metadata": {
    "execution": {
     "iopub.execute_input": "2024-02-14T03:14:32.899090Z",
     "iopub.status.busy": "2024-02-14T03:14:32.898463Z",
     "iopub.status.idle": "2024-02-14T03:14:32.937593Z",
     "shell.execute_reply": "2024-02-14T03:14:32.936941Z",
     "shell.execute_reply.started": "2024-02-14T03:14:32.899046Z"
    },
    "tags": []
   },
   "outputs": [
    {
     "data": {
      "text/plain": [
       "'setting3'"
      ]
     },
     "execution_count": 107,
     "metadata": {},
     "output_type": "execute_result"
    }
   ],
   "source": [
    "setting = \"setting3\""
   ]
  },
  {
   "cell_type": "code",
   "execution_count": 108,
   "id": "6cc79339-0cfa-4d15-9220-129cd5209122",
   "metadata": {
    "execution": {
     "iopub.execute_input": "2024-02-14T03:14:33.268348Z",
     "iopub.status.busy": "2024-02-14T03:14:33.267822Z",
     "iopub.status.idle": "2024-02-14T03:14:33.317982Z",
     "shell.execute_reply": "2024-02-14T03:14:33.317291Z",
     "shell.execute_reply.started": "2024-02-14T03:14:33.268304Z"
    },
    "tags": []
   },
   "outputs": [
    {
     "name": "stdout",
     "output_type": "stream",
     "text": [
      "{'cal_ratio': 0.25,\n",
      " 'd': 100,\n",
      " 'err_type': 'norm',\n",
      " 'is_homo': False,\n",
      " 'n': 3000,\n",
      " 'ntest': 1000,\n",
      " 'rho': 0.0,\n",
      " 'val_ratio': 0.05}\n"
     ]
    }
   ],
   "source": [
    "params = edict()\n",
    "\n",
    "params.simu_setting = edict()\n",
    "params.simu_setting.rho = 0.9\n",
    "params.simu_setting.is_homo = False\n",
    "params.simu_setting.n = 3000\n",
    "params.simu_setting.d = 10\n",
    "params.simu_setting.ntest = 1000\n",
    "params.simu_setting.cal_ratio = 0.45 # for conformal inference\n",
    "params.simu_setting.val_ratio = 0.05 # for tuning network\n",
    "params.simu_setting.update(simu_settings[setting])\n",
    "params.simu_setting.n = 3000\n",
    "params.simu_setting.d = 100 \n",
    "pprint(params.simu_setting)\n",
    "\n",
    "\n",
    "params.nrep = 50 # num of reptition for simulation\n",
    "params.K = 40 # num of sps drawn from q(Y(1)|X)\n",
    "params.save_snapshot = 500\n",
    "params.df_dtype = torch.float32\n",
    "params.device=\"cpu\"\n",
    "params.n_jobs = 20\n",
    "params.verbose = True\n",
    "params.inf_bs = 40 # the inference batch, fct x K\n",
    "\n",
    "params.ddpm_training = edict()\n",
    "# Batch size during training\n",
    "params.ddpm_training.batch_size = 256 \n",
    "# Number of training epochs\n",
    "params.ddpm_training.n_epoch = 1000\n",
    "params.ddpm_training.n_infeat = 128\n",
    "# Learning rate for optimizers\n",
    "params.ddpm_training.lr = 0.001\n",
    "params.ddpm_training.lr_gamma = 0.5\n",
    "params.ddpm_training.lr_step = 1000\n",
    "params.ddpm_training.test_intv = 5\n",
    "params.ddpm_training.n_T = 400 # 100\n",
    "params.ddpm_training.n_upblk = 1\n",
    "params.ddpm_training.n_downblk = 1\n",
    "params.ddpm_training.weight_decay = 1e-2\n",
    "params.ddpm_training.early_stop = False\n",
    "params.ddpm_training.early_stop_dict = {\"early_stop_len\":50, \"early_stop_eps\": 5e-4}\n",
    "#params.ddpm_training.betas = [0.001, 0.5]\n",
    "\n",
    "params.wconformal = edict()\n",
    "# remove too large and too small in ws/mean(ws)\n",
    "params.wconformal.nwthigh = 20\n",
    "params.wconformal.nwtlow = 0.05\n",
    "params.wconformal.useinf = False\n",
    "\n",
    "\n",
    "params.hypo_test = edict()\n",
    "params.hypo_test.alpha = 0.05 # sig level\n",
    "\n",
    "params.prefix = \"\"\n",
    "params.save_dir = f\"demo_ddpm_{setting}_test11\"\n",
    "if not (RES_ROOT/params.save_dir).exists():\n",
    "    (RES_ROOT/params.save_dir).mkdir()"
   ]
  },
  {
   "cell_type": "code",
   "execution_count": 109,
   "id": "8323bd12-8b5d-487a-8951-77e4c796e2d8",
   "metadata": {
    "execution": {
     "iopub.execute_input": "2024-02-14T03:14:33.618110Z",
     "iopub.status.busy": "2024-02-14T03:14:33.617483Z",
     "iopub.status.idle": "2024-02-14T03:14:33.653312Z",
     "shell.execute_reply": "2024-02-14T03:14:33.652644Z",
     "shell.execute_reply.started": "2024-02-14T03:14:33.618065Z"
    },
    "tags": []
   },
   "outputs": [],
   "source": [
    "torch.set_default_dtype(params.df_dtype)"
   ]
  },
  {
   "cell_type": "code",
   "execution_count": 110,
   "id": "cbb7d327-4751-4707-b301-9fbbd58f7a0f",
   "metadata": {
    "execution": {
     "iopub.execute_input": "2024-02-14T03:14:33.955225Z",
     "iopub.status.busy": "2024-02-14T03:14:33.954714Z",
     "iopub.status.idle": "2024-02-14T03:14:33.992266Z",
     "shell.execute_reply": "2024-02-14T03:14:33.991583Z",
     "shell.execute_reply.started": "2024-02-14T03:14:33.955181Z"
    },
    "tags": []
   },
   "outputs": [],
   "source": [
    "keys = [\"lr\", \"n_infeat\", \"n_T\", \"weight_decay\", \"n_upblk\", \"n_downblk\"]\n",
    "def _get_name_postfix(keys, ddpm_training):\n",
    "    lst = []\n",
    "    for key in keys:\n",
    "        if ddpm_training[key] >= 1:\n",
    "            lst.append(f\"{key}-{str(ddpm_training[key])}\")\n",
    "        else:\n",
    "            lst.append(f\"{key}--{str(ddpm_training[key]).split('.')[-1]}\")\n",
    "    return \"_\".join(lst)"
   ]
  },
  {
   "cell_type": "code",
   "execution_count": null,
   "id": "b713efff-72cd-4b69-85e5-8efd57ef17dd",
   "metadata": {
    "tags": []
   },
   "outputs": [],
   "source": []
  },
  {
   "cell_type": "code",
   "execution_count": 111,
   "id": "488fb498-0648-4411-b582-bd5721a0a8be",
   "metadata": {
    "execution": {
     "iopub.execute_input": "2024-02-14T03:14:37.783079Z",
     "iopub.status.busy": "2024-02-14T03:14:37.782463Z",
     "iopub.status.idle": "2024-02-14T03:14:38.348746Z",
     "shell.execute_reply": "2024-02-14T03:14:38.348119Z",
     "shell.execute_reply.started": "2024-02-14T03:14:37.783032Z"
    },
    "tags": []
   },
   "outputs": [],
   "source": [
    "rep_ix = 1\n",
    "params = params\n",
    "lr = 1e-2\n",
    "n_infeat = 256\n",
    "weight_decay = 1e-2\n",
    "n_blk = 3\n",
    "if True:\n",
    "    manualSeed = rep_ix\n",
    "    random.seed(manualSeed)\n",
    "    np.random.seed(manualSeed)\n",
    "    torch.manual_seed(manualSeed)\n",
    "    torch.use_deterministic_algorithms(True) # Needed for reproducible results\n",
    "    params = edict(deepcopy(params))\n",
    "    params.ddpm_training.n_upblk = n_blk\n",
    "    params.ddpm_training.n_downblk = n_blk\n",
    "    params.ddpm_training.weight_decay = weight_decay\n",
    "    params.ddpm_training.n_T = n_T\n",
    "    params.ddpm_training.lr = lr\n",
    "    params.ddpm_training.n_infeat = n_infeat\n",
    "    keys = [\"lr\", \"n_infeat\", \"n_T\", \"weight_decay\", \"n_upblk\", \"n_downblk\"]\n",
    "    post_fix = _get_name_postfix(keys, params.ddpm_training)\n",
    "    \n",
    "    torch.set_default_dtype(params.df_dtype)\n",
    "    torch.set_default_device(params.device)\n",
    "    \n",
    "    fil_name = (RES_ROOT/params.save_dir)/f\"rep_{rep_ix}_{post_fix}_res.pkl\"\n",
    "    ofil_name = (RES_ROOT/params.save_dir)/f\"rep_{rep_ix}_others_res.pkl\"\n",
    "        \n",
    "        \n",
    "    if True:\n",
    "    #if not fil_name.exists():\n",
    "        data_train = get_simu_data(n=params.simu_setting.n, \n",
    "                                   d=params.simu_setting.d, \n",
    "                                   rho=params.simu_setting.rho, \n",
    "                                   err_type=params.simu_setting.err_type);\n",
    "        data_test = get_simu_data(n=params.simu_setting.ntest, \n",
    "                                   d=params.simu_setting.d, \n",
    "                                   rho=params.simu_setting.rho,\n",
    "                                   err_type=params.simu_setting.err_type);\n",
    "        \n",
    "        \n",
    "        cal_idxs, val_idxs, tr_idxs = get_idx_sets(all_idxs=np.where(data_train.T)[0], \n",
    "                                                       ratios = [params.simu_setting.cal_ratio, params.simu_setting.val_ratio])\n",
    "                \n",
    "        # get psfun\n",
    "        psY = data_train.T.astype(int)\n",
    "        psX = data_train.X\n",
    "        fit_res = boosting_logi(psY, psX);\n",
    "        def wsfun(X):\n",
    "            eps=1e-10\n",
    "            if isinstance(X, torch.Tensor):\n",
    "                X = X.cpu().numpy()\n",
    "            if X.ndim == 1:\n",
    "                X = X.reshape(1, -1)\n",
    "            est_ps = boosting_pred(X, fit_res)\n",
    "            est_ws = 1/(est_ps+eps)\n",
    "            return torch.tensor(est_ws, dtype=params.df_dtype).to(device=params.device)\n",
    "            \n",
    "        \n",
    "        cal_X = torch.tensor(data_train.X[cal_idxs], dtype=params.df_dtype)\n",
    "        cal_Y = torch.tensor(data_train.Y1[cal_idxs], dtype=params.df_dtype)\n",
    "        val_X = torch.tensor(data_train.X[val_idxs], dtype=params.df_dtype)\n",
    "        val_Y = torch.tensor(data_train.Y1[val_idxs], dtype=params.df_dtype)\n",
    "        test_X = torch.tensor(data_test.X, dtype=params.df_dtype)\n",
    "        test_Y = torch.tensor(data_test.Y1, dtype=params.df_dtype)\n",
    "            \n",
    "        # train q(Y(1)|X)\n",
    "        data_train_ddpm = MyDataSet(Y=data_train.Y[tr_idxs], X=data_train.X[tr_idxs])\n",
    "        data_val = edict()\n",
    "        data_val.c = val_X\n",
    "        data_val.x = val_Y\n",
    "        input_params = edict(deepcopy(params.ddpm_training))\n",
    "        input_params.pop(\"n_epoch\")\n",
    "        input_params.pop(\"early_stop\")\n",
    "        input_params.pop(\"early_stop_dict\")"
   ]
  },
  {
   "cell_type": "code",
   "execution_count": 112,
   "id": "69042c15-ecbd-47df-84cc-df88e9f7a76c",
   "metadata": {
    "execution": {
     "iopub.execute_input": "2024-02-14T03:14:38.923116Z",
     "iopub.status.busy": "2024-02-14T03:14:38.922553Z",
     "iopub.status.idle": "2024-02-14T03:14:38.983814Z",
     "shell.execute_reply": "2024-02-14T03:14:38.983219Z",
     "shell.execute_reply.started": "2024-02-14T03:14:38.923071Z"
    },
    "tags": []
   },
   "outputs": [
    {
     "name": "stderr",
     "output_type": "stream",
     "text": [
      "2024-02-13 19:14:38,957 - mlp.train_mlp - INFO - The results are saved at /data/rajlab1/user_data/jin/MyResearch/DG-CITE_paper/notebooks/../mypkg/../results/demo_ddpm_setting3_test11.\n",
      "2024-02-13 19:14:38,958 - mlp.train_mlp - WARNING - n_T is not used, please check your input.\n",
      "2024-02-13 19:14:38,959 - mlp.train_mlp - WARNING - n_upblk is not used, please check your input.\n",
      "2024-02-13 19:14:38,979 - mlp.train_mlp - INFO - The params is {'lr': 0.01, 'batch_size': 256, 'device': 'cpu', 'n_infeat': 256, 'n_downblk': 3, 'lr_gamma': 0.5, 'lr_step': 1000, 'test_intv': 5, 'weight_decay': 0.01}\n"
     ]
    },
    {
     "name": "stdout",
     "output_type": "stream",
     "text": [
      "The num of params is 1.57m. \n",
      "Adjusting learning rate of group 0 to 1.0000e-02.\n"
     ]
    },
    {
     "data": {
      "text/plain": [
       "<mlp.train_mlp.TrainMLP at 0x7f4b23345be0>"
      ]
     },
     "execution_count": 112,
     "metadata": {},
     "output_type": "execute_result"
    }
   ],
   "source": [
    "mlp_fit = TrainMLP(data_train_ddpm, \n",
    "                  save_dir=params.save_dir, \n",
    "                  verbose=params.verbose, prefix=f\"rep{rep_ix}_{post_fix}\", \n",
    "                  device=params.device,\n",
    "                  **input_params)"
   ]
  },
  {
   "cell_type": "code",
   "execution_count": 113,
   "id": "d1140923-a564-4cab-a2f3-d9a5cccf66d7",
   "metadata": {
    "execution": {
     "iopub.execute_input": "2024-02-14T03:14:39.785528Z",
     "iopub.status.busy": "2024-02-14T03:14:39.784910Z",
     "iopub.status.idle": "2024-02-14T03:15:47.830598Z",
     "shell.execute_reply": "2024-02-14T03:15:47.829470Z",
     "shell.execute_reply.started": "2024-02-14T03:14:39.785480Z"
    },
    "scrolled": true,
    "tags": []
   },
   "outputs": [
    {
     "name": "stderr",
     "output_type": "stream",
     "text": [
      "2024-02-13 19:14:39,818 - mlp.train_mlp - WARNING - We do not do early stop, so any args in early_stop_dict are ignored.\n",
      "loss: 0.3833:  50%|█████████████████████▉                      | 498/1000 [00:33<00:33, 15.19it/s, val loss=3.16]2024-02-13 19:15:13,458 - mlp.train_mlp - INFO - Save model rep1_lr--01_n_infeat-256_n_T-400_weight_decay--01_n_upblk-3_n_downblk-3_mlp_epoch500.pth.\n",
      "loss: 0.2650: 100%|███████████████████████████████████████████▉| 998/1000 [01:07<00:00, 14.72it/s, val loss=6.59]2024-02-13 19:15:47,733 - mlp.train_mlp - INFO - Save model rep1_lr--01_n_infeat-256_n_T-400_weight_decay--01_n_upblk-3_n_downblk-3_mlp_epoch1000.pth.\n",
      "loss: 0.2650: 100%|███████████████████████████████████████████| 1000/1000 [01:08<00:00, 14.71it/s, val loss=6.59]"
     ]
    },
    {
     "name": "stdout",
     "output_type": "stream",
     "text": [
      "Adjusting learning rate of group 0 to 5.0000e-03.\n"
     ]
    },
    {
     "name": "stderr",
     "output_type": "stream",
     "text": [
      "\n"
     ]
    }
   ],
   "source": [
    "mlp_fit.train(n_epoch=params.ddpm_training.n_epoch, \n",
    "              data_val=data_val, \n",
    "              save_snapshot=params.save_snapshot, \n",
    "              early_stop=params.ddpm_training.early_stop, \n",
    "              early_stop_dict=params.ddpm_training.early_stop_dict\n",
    "              )"
   ]
  },
  {
   "cell_type": "code",
   "execution_count": 100,
   "id": "7584d8e8-5e6c-44f4-9e1f-d5070970c0a1",
   "metadata": {
    "execution": {
     "iopub.execute_input": "2024-02-14T03:13:56.194338Z",
     "iopub.status.busy": "2024-02-14T03:13:56.193641Z",
     "iopub.status.idle": "2024-02-14T03:13:56.462112Z",
     "shell.execute_reply": "2024-02-14T03:13:56.461518Z",
     "shell.execute_reply.started": "2024-02-14T03:13:56.194290Z"
    },
    "tags": []
   },
   "outputs": [
    {
     "name": "stderr",
     "output_type": "stream",
     "text": [
      "2024-02-13 19:13:56,230 - mlp.train_mlp - INFO - We load model /data/rajlab1/user_data/jin/MyResearch/DG-CITE_paper/notebooks/../mypkg/../results/demo_ddpm_setting1_test11/rep1_lr--01_n_infeat-256_n_T-400_weight_decay--01_n_upblk-3_n_downblk-3_mlp_epoch500.pth.\n",
      "2024-02-13 19:13:56,241 - weighted_conformal_inference - INFO - wcf params is {'K': 40, 'nwhigh': 20, 'nwlow': 0.05, 'useinf': False, 'cf_type': 'naive'}\n",
      "2024-02-13 19:13:56,242 - weighted_conformal_inference - INFO - gen params is {'gen_type': 'reg'}\n"
     ]
    }
   ],
   "source": [
    "net = mlp_fit.get_model(500);\n",
    "wcf  = WeightedConformalInference(cal_X, cal_Y, gen_fn=net, ws_fn=wsfun, gen_type=\"reg\")\n",
    "CIs = wcf(test_X);"
   ]
  },
  {
   "cell_type": "code",
   "execution_count": 101,
   "id": "5156414f-6603-45ef-a088-0c7ed7ba4c67",
   "metadata": {
    "execution": {
     "iopub.execute_input": "2024-02-14T03:13:56.607981Z",
     "iopub.status.busy": "2024-02-14T03:13:56.607384Z",
     "iopub.status.idle": "2024-02-14T03:13:56.728763Z",
     "shell.execute_reply": "2024-02-14T03:13:56.728319Z",
     "shell.execute_reply.started": "2024-02-14T03:13:56.607937Z"
    },
    "tags": []
   },
   "outputs": [
    {
     "data": {
      "text/plain": [
       "(6.924099, 0.948)"
      ]
     },
     "execution_count": 101,
     "metadata": {},
     "output_type": "execute_result"
    }
   ],
   "source": [
    "_get_intvs_len = lambda intvs: np.array([np.sum([np.diff(iv) for iv in intv]) for intv in intvs]);\n",
    "def _get_inset(vs, intvs):\n",
    "    in_set = []\n",
    "    for v, intv in zip(vs, intvs):\n",
    "        in_set.append(np.sum([np.bitwise_and(v>iv[0], v<iv[1]) for iv in intv]))\n",
    "    in_set = np.array(in_set)\n",
    "    return in_set\n",
    "np.median(_get_intvs_len(CIs)),  _get_inset(test_Y, CIs).mean()"
   ]
  },
  {
   "cell_type": "code",
   "execution_count": null,
   "id": "e9a41dcc-16f0-425c-a40b-e49161abbaf1",
   "metadata": {
    "tags": []
   },
   "outputs": [],
   "source": []
  },
  {
   "cell_type": "code",
   "execution_count": null,
   "id": "1c63b24d-7a2d-484a-bdaf-d2020a20f24f",
   "metadata": {},
   "outputs": [],
   "source": []
  }
 ],
 "metadata": {
  "kernelspec": {
   "display_name": "Python 3 (ipykernel)",
   "language": "python",
   "name": "python3"
  },
  "language_info": {
   "codemirror_mode": {
    "name": "ipython",
    "version": 3
   },
   "file_extension": ".py",
   "mimetype": "text/x-python",
   "name": "python",
   "nbconvert_exporter": "python",
   "pygments_lexer": "ipython3",
   "version": "3.9.7"
  },
  "toc-autonumbering": true
 },
 "nbformat": 4,
 "nbformat_minor": 5
}
