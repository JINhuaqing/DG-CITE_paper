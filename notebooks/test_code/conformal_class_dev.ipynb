{
 "cells": [
  {
   "cell_type": "markdown",
   "id": "ab1959ec-e1d3-4f87-8b4e-ff8f1c782211",
   "metadata": {},
   "source": [
    "This file is to develop a class to do PCP conformal inference"
   ]
  },
  {
   "cell_type": "code",
   "execution_count": 1,
   "id": "7be37593-bf50-4fc1-b617-ff93ca3fb707",
   "metadata": {
    "execution": {
     "iopub.execute_input": "2024-01-06T05:40:34.310697Z",
     "iopub.status.busy": "2024-01-06T05:40:34.310209Z",
     "iopub.status.idle": "2024-01-06T05:40:34.326842Z",
     "shell.execute_reply": "2024-01-06T05:40:34.323480Z",
     "shell.execute_reply.started": "2024-01-06T05:40:34.310654Z"
    },
    "tags": []
   },
   "outputs": [],
   "source": [
    "import sys\n",
    "sys.path.append(\"../mypkg\")"
   ]
  },
  {
   "cell_type": "code",
   "execution_count": 2,
   "id": "ad8d569b-0412-47de-a9bf-2bbbfde7e943",
   "metadata": {
    "execution": {
     "iopub.execute_input": "2024-01-06T05:40:34.328916Z",
     "iopub.status.busy": "2024-01-06T05:40:34.328494Z",
     "iopub.status.idle": "2024-01-06T05:40:36.499038Z",
     "shell.execute_reply": "2024-01-06T05:40:36.498268Z",
     "shell.execute_reply.started": "2024-01-06T05:40:34.328886Z"
    },
    "tags": []
   },
   "outputs": [],
   "source": [
    "from constants import RES_ROOT, FIG_ROOT, DATA_ROOT\n",
    "from utils.misc import load_pkl, save_pkl, merge_intervals\n",
    "from utils.colors import qual_cmap\n",
    "from utils.stats import weighted_quantile\n",
    "from data_gen_utils.data_gen import get_simu_data\n",
    "from utils.utils import MyDataSet, get_idx_sets\n",
    "from demo_settings import simu_settings\n",
    "from ddpm.train_ddpm_now import TrainDDPM\n",
    "from weighted_conformal_inference import WeightedConformalInference"
   ]
  },
  {
   "cell_type": "code",
   "execution_count": 3,
   "id": "f1775f04-ea35-40dc-90e8-61a284a9daf2",
   "metadata": {
    "execution": {
     "iopub.execute_input": "2024-01-06T05:40:36.500552Z",
     "iopub.status.busy": "2024-01-06T05:40:36.500125Z",
     "iopub.status.idle": "2024-01-06T05:40:36.525874Z",
     "shell.execute_reply": "2024-01-06T05:40:36.525441Z",
     "shell.execute_reply.started": "2024-01-06T05:40:36.500530Z"
    },
    "tags": []
   },
   "outputs": [],
   "source": [
    "%load_ext autoreload\n",
    "%autoreload 2\n",
    "# 0,1, 2, 3, be careful about the space"
   ]
  },
  {
   "cell_type": "code",
   "execution_count": 4,
   "id": "a42be2f3-7ab7-4f69-98eb-27ae79905c93",
   "metadata": {
    "execution": {
     "iopub.execute_input": "2024-01-06T05:40:36.527297Z",
     "iopub.status.busy": "2024-01-06T05:40:36.527053Z",
     "iopub.status.idle": "2024-01-06T05:40:36.895068Z",
     "shell.execute_reply": "2024-01-06T05:40:36.893943Z",
     "shell.execute_reply.started": "2024-01-06T05:40:36.527283Z"
    },
    "tags": []
   },
   "outputs": [],
   "source": [
    "import torch\n",
    "import scipy.stats as ss\n",
    "import numpy as np\n",
    "from easydict import EasyDict as edict\n",
    "import matplotlib.pyplot as plt\n",
    "import seaborn as sns\n",
    "from collections import defaultdict as ddict\n",
    "from tqdm import tqdm, trange\n",
    "import random\n",
    "from joblib import Parallel, delayed\n",
    "import pandas as pd\n",
    "from pprint import pprint\n",
    "plt.style.use(FIG_ROOT/\"base.mplstyle\")"
   ]
  },
  {
   "cell_type": "code",
   "execution_count": null,
   "id": "ae4002bf-7813-4ab0-997b-3d1913daeac5",
   "metadata": {},
   "outputs": [],
   "source": []
  },
  {
   "cell_type": "markdown",
   "id": "5f1daada-ca8c-4a09-84f5-dfe6c045008d",
   "metadata": {},
   "source": [
    "# Params"
   ]
  },
  {
   "cell_type": "code",
   "execution_count": 5,
   "id": "68b00b94-5b21-4681-85e2-2206bb03ba73",
   "metadata": {
    "execution": {
     "iopub.execute_input": "2024-01-06T05:40:36.896683Z",
     "iopub.status.busy": "2024-01-06T05:40:36.896282Z",
     "iopub.status.idle": "2024-01-06T05:40:36.926349Z",
     "shell.execute_reply": "2024-01-06T05:40:36.925943Z",
     "shell.execute_reply.started": "2024-01-06T05:40:36.896650Z"
    },
    "tags": []
   },
   "outputs": [
    {
     "data": {
      "text/plain": [
       "'setting3'"
      ]
     },
     "execution_count": 5,
     "metadata": {},
     "output_type": "execute_result"
    }
   ],
   "source": [
    "setting = \"setting3\""
   ]
  },
  {
   "cell_type": "code",
   "execution_count": 6,
   "id": "6cc79339-0cfa-4d15-9220-129cd5209122",
   "metadata": {
    "execution": {
     "iopub.execute_input": "2024-01-06T05:40:36.927017Z",
     "iopub.status.busy": "2024-01-06T05:40:36.926868Z",
     "iopub.status.idle": "2024-01-06T05:40:36.956241Z",
     "shell.execute_reply": "2024-01-06T05:40:36.955777Z",
     "shell.execute_reply.started": "2024-01-06T05:40:36.927004Z"
    },
    "tags": []
   },
   "outputs": [
    {
     "name": "stdout",
     "output_type": "stream",
     "text": [
      "{'cal_ratio': 0.25,\n",
      " 'd': 10,\n",
      " 'err_type': 'norm',\n",
      " 'is_homo': False,\n",
      " 'n': 3000,\n",
      " 'ntest': 1000,\n",
      " 'rho': 0.0,\n",
      " 'val_ratio': 0.15}\n"
     ]
    }
   ],
   "source": [
    "params = edict()\n",
    "\n",
    "params.simu_setting = edict()\n",
    "params.simu_setting.rho = 0.9\n",
    "params.simu_setting.is_homo = False\n",
    "params.simu_setting.n = 1000\n",
    "params.simu_setting.d = 10\n",
    "params.simu_setting.ntest = 1000\n",
    "params.simu_setting.cal_ratio = 0.25 # for conformal inference\n",
    "params.simu_setting.val_ratio = 0.15 # for tuning network\n",
    "params.simu_setting.update(simu_settings[setting])\n",
    "params.simu_setting.n = 3000\n",
    "#params.simu_setting.d = 1000\n",
    "pprint(params.simu_setting)\n",
    "\n",
    "\n",
    "params.nrep = 50 # num of reptition for simulation\n",
    "params.K = 20 # num of sps drawn from q(Y(1)|X)\n",
    "params.save_snapshot = False\n",
    "params.df_dtype = torch.float32\n",
    "params.device=\"cpu\"\n",
    "params.n_jobs = 5\n",
    "params.verbose = True\n",
    "params.inf_bs = 40 # the inference batch, fct x K\n",
    "\n",
    "params.ddpm_training = edict()\n",
    "# Batch size during training\n",
    "params.ddpm_training.batch_size = 256 \n",
    "# Number of training epochs\n",
    "params.ddpm_training.n_epoch = 1000\n",
    "params.ddpm_training.n_infeat = 128\n",
    "# Learning rate for optimizers\n",
    "params.ddpm_training.lr = 0.001\n",
    "params.ddpm_training.lr_gamma = 0.5\n",
    "params.ddpm_training.lr_step = 1000\n",
    "params.ddpm_training.test_intv = 5\n",
    "params.ddpm_training.n_T = 200 # 100\n",
    "params.ddpm_training.n_upblk = 1\n",
    "params.ddpm_training.n_downblk = 1\n",
    "params.ddpm_training.weight_decay = 1e-2\n",
    "params.ddpm_training.early_stop = True\n",
    "params.ddpm_training.early_stop_dict = {\"early_stop_len\":50, \"early_stop_eps\": -5e-4}\n",
    "#params.ddpm_training.betas = [0.001, 0.5]\n",
    "\n",
    "params.wconformal = edict()\n",
    "# remove too large and too small in ws/mean(ws)\n",
    "params.wconformal.nwthigh = 20\n",
    "params.wconformal.nwtlow = 0.05\n",
    "params.wconformal.useinf = False\n",
    "\n",
    "\n",
    "params.hypo_test = edict()\n",
    "params.hypo_test.alpha = 0.05 # sig level\n",
    "\n",
    "params.prefix = \"\"\n",
    "params.save_dir = f\"demo_ddpm_{setting}_test1\"\n",
    "if not (RES_ROOT/params.save_dir).exists():\n",
    "    (RES_ROOT/params.save_dir).mkdir()"
   ]
  },
  {
   "cell_type": "markdown",
   "id": "b18c29d9-14e1-4e57-9a24-c09ba3605f4f",
   "metadata": {},
   "source": [
    "# Some fns"
   ]
  },
  {
   "cell_type": "code",
   "execution_count": 7,
   "id": "1f1a6d97-c561-476a-b92c-ba2437aa8870",
   "metadata": {
    "execution": {
     "iopub.execute_input": "2024-01-06T05:40:38.614404Z",
     "iopub.status.busy": "2024-01-06T05:40:38.613814Z",
     "iopub.status.idle": "2024-01-06T05:40:38.655039Z",
     "shell.execute_reply": "2024-01-06T05:40:38.654360Z",
     "shell.execute_reply.started": "2024-01-06T05:40:38.614346Z"
    },
    "tags": []
   },
   "outputs": [],
   "source": [
    "def _gen_Y_given_X(X, ddpm, seed=1):\n",
    "    c_all = torch.tensor(X, dtype=params.df_dtype).to(params.device);\n",
    "    num_iters = int(np.ceil(c_all.shape[0]/params.inf_bs));\n",
    "    x_0s = []\n",
    "    if params.verbose:\n",
    "        pbar = tqdm(range(num_iters), total=num_iters)\n",
    "    else:\n",
    "        pbar = range(num_iters)\n",
    "    def _run_fn(ix):\n",
    "        torch.set_default_dtype(params.df_dtype)\n",
    "        torch.set_default_device(params.device)\n",
    "        random.seed(seed)\n",
    "        np.random.seed(seed)\n",
    "        torch.manual_seed(seed)\n",
    "        c_cur = c_all[(ix*params.inf_bs):(ix*params.inf_bs+params.inf_bs)]\n",
    "        c_cur_mul = c_cur.repeat(params.K, 1);\n",
    "        with torch.no_grad():\n",
    "            x_0, _ = ddpm.sample(c_cur_mul, device=params.device, is_store=False);\n",
    "        x_0 = x_0.cpu().numpy().reshape(-1);\n",
    "        x_0 = x_0.reshape(params.K, -1);\n",
    "        return x_0\n",
    "    with Parallel(n_jobs=params.n_jobs) as parallel:\n",
    "        x_0s = parallel(delayed(_run_fn)(ix) for ix in pbar)\n",
    "    x_0s = np.concatenate(x_0s, axis=1).T;\n",
    "    return x_0s\n",
    "def _get_pred_intv(teY_hat, qv):\n",
    "    intvs = np.stack([teY_hat-qv, teY_hat+qv]).T\n",
    "    return merge_intervals(intvs)\n",
    "def _get_metric(v, intvs):\n",
    "    if not isinstance(v, np.ndarray):\n",
    "        v = np.array(v)\n",
    "    in_sets = np.sum([np.bitwise_and(v>intv[0], v<intv[1]) for intv in intvs], axis=0)\n",
    "    intvs_len = np.sum([np.diff(intv) for intv in intvs])\n",
    "    metrics = edict()\n",
    "    metrics.in_sets = in_sets\n",
    "    metrics.intvs_len = intvs_len\n",
    "    return metrics"
   ]
  },
  {
   "cell_type": "code",
   "execution_count": 18,
   "id": "108e26d0-f6ad-4fa4-94ba-ca484c3d13d4",
   "metadata": {
    "execution": {
     "iopub.execute_input": "2024-01-06T05:42:27.791791Z",
     "iopub.status.busy": "2024-01-06T05:42:27.791160Z",
     "iopub.status.idle": "2024-01-06T05:42:27.840279Z",
     "shell.execute_reply": "2024-01-06T05:42:27.839368Z",
     "shell.execute_reply.started": "2024-01-06T05:42:27.791742Z"
    },
    "tags": []
   },
   "outputs": [],
   "source": [
    "def _run_fn_PCP1(rep_ix, params, lr, n_infeat, n_T, weight_decay, n_blk):\n",
    "    manualSeed = rep_ix\n",
    "    random.seed(manualSeed)\n",
    "    np.random.seed(manualSeed)\n",
    "    torch.manual_seed(manualSeed)\n",
    "    torch.use_deterministic_algorithms(True) # Needed for reproducible results\n",
    "    params = edict(params.copy())\n",
    "    params.ddpm_training.n_upblk = n_blk\n",
    "    params.ddpm_training.n_downblk = n_blk\n",
    "    params.ddpm_training.weight_decay = weight_decay\n",
    "    params.ddpm_training.n_T = n_T\n",
    "    params.ddpm_training.lr = lr\n",
    "    params.ddpm_training.n_infeat = n_infeat\n",
    "    \n",
    "    torch.set_default_dtype(params.df_dtype)\n",
    "    torch.set_default_device(params.device)\n",
    "    \n",
    "    \n",
    "    data_train = get_simu_data(n=params.simu_setting.n, \n",
    "                               d=params.simu_setting.d, \n",
    "                               is_homo=params.simu_setting.is_homo, \n",
    "                               rho=params.simu_setting.rho, \n",
    "                               err_type=params.simu_setting.err_type);\n",
    "    data_test = get_simu_data(n=params.simu_setting.ntest, \n",
    "                               d=params.simu_setting.d, \n",
    "                               is_homo=params.simu_setting.is_homo, \n",
    "                               rho=params.simu_setting.rho,\n",
    "                               err_type=params.simu_setting.err_type);\n",
    "    \n",
    "    cal_idxs, val_idxs, tr_idxs = get_idx_sets(all_idxs=np.where(data_train.T)[0], \n",
    "                                               ratios = [params.simu_setting.cal_ratio, params.simu_setting.val_ratio])\n",
    "        \n",
    "        \n",
    "    # train q(Y(1)|X)\n",
    "    data_train_ddpm = MyDataSet(Y=data_train.Y[tr_idxs], X=data_train.X[tr_idxs])\n",
    "    data_val = edict()\n",
    "    data_val.c =  data_train.X[val_idxs]\n",
    "    data_val.x =  data_train.Y[val_idxs]\n",
    "    \n",
    "    input_params = params.ddpm_training.copy()\n",
    "    input_params.pop(\"n_epoch\")\n",
    "    input_params.pop(\"early_stop\")\n",
    "    input_params.pop(\"early_stop_dict\")\n",
    "    myddpm = TrainDDPM(data_train_ddpm, save_dir=params.save_dir, verbose=params.verbose, prefix=f\"rep{rep_ix}_1\", \n",
    "                       device=params.device,\n",
    "                       **input_params);\n",
    "    \n",
    "    myddpm.train(n_epoch=params.ddpm_training.n_epoch, \n",
    "                     data_val=data_val, save_snapshot=params.save_snapshot, \n",
    "                     early_stop=params.ddpm_training.early_stop, \n",
    "                     early_stop_dict=params.ddpm_training.early_stop_dict\n",
    "                     )\n",
    "    ddpm = myddpm.ddpm\n",
    "    ddpm.eval()\n",
    "    wcf = WeightedConformalInference(torch.tensor(data_train.X[cal_idxs], dtype=params.df_dtype), \n",
    "                                     torch.tensor(data_train.Y1[cal_idxs], dtype=params.df_dtype), \n",
    "                                     ddpm, ws_fn=None, verbose=2, \n",
    "                                     seed=manualSeed,\n",
    "                                     n_jobs=params.n_jobs,\n",
    "                                     inf_bs=params.inf_bs,\n",
    "                                     device=params.device,\n",
    "                                     wcf_params={\n",
    "                                        \"K\": params.K, # num of sps for each X\n",
    "                                        \"nwhigh\" : params.wconformal.nwthigh,\n",
    "                                        \"nwlow\" : params.wconformal.nwtlow,\n",
    "                                        \"useinf\": params.wconformal.useinf,\n",
    "                                     })\n",
    "    _get_len_intvs = lambda intvs: np.array([sum([np.diff(iv) for iv in intv])[0] for intv in intvs]);\n",
    "    def _get_inset(vs, intvs):\n",
    "        in_set = []\n",
    "        for v, intv in zip(vs, intvs):\n",
    "            in_set.append(np.sum([np.bitwise_and(v>iv[0], v<iv[1]) for iv in intv]))\n",
    "        in_set = np.array(in_set)\n",
    "        return in_set\n",
    "    intvs = wcf(torch.tensor(data_test.X, dtype=params.df_dtype));\n",
    "    len_intv = np.median(_get_len_intvs(intvs))\n",
    "    prb = np.mean(_get_inset(data_test.Y1, intvs))\n",
    "    \n",
    "    return len_intv, prb, wcf"
   ]
  },
  {
   "cell_type": "code",
   "execution_count": 19,
   "id": "2fa253f6-1dd0-4e7f-909c-9c214fbf171b",
   "metadata": {
    "execution": {
     "iopub.execute_input": "2024-01-06T05:42:29.023688Z",
     "iopub.status.busy": "2024-01-06T05:42:29.023073Z",
     "iopub.status.idle": "2024-01-06T05:42:43.095731Z",
     "shell.execute_reply": "2024-01-06T05:42:43.095326Z",
     "shell.execute_reply.started": "2024-01-06T05:42:29.023639Z"
    },
    "tags": []
   },
   "outputs": [
    {
     "name": "stderr",
     "output_type": "stream",
     "text": [
      "2024-01-05 21:42:29,061 - ddpm.train_ddpm_now - INFO - The results are saved at /data/rajlab1/user_data/jin/MyResearch/DG-CITE_paper/notebooks/../mypkg/../results/demo_ddpm_setting3_test1.\n",
      "2024-01-05 21:42:29,071 - ddpm.train_ddpm_now - INFO - The params is {'lr': 0.01, 'batch_size': 256, 'device': 'cpu', 'n_T': 100, 'n_infeat': 128, 'n_upblk': 1, 'n_downblk': 1, 'betas': [0.0001, 0.02], 'lr_gamma': 0.5, 'lr_step': 1000, 'test_intv': 5, 'weight_decay': 0.01}\n",
      "2024-01-05 21:42:29,072 - ddpm.train_ddpm_now - INFO - Early stop params are {'early_stop_len': 50, 'early_stop_eps': -0.0005}\n"
     ]
    },
    {
     "name": "stdout",
     "output_type": "stream",
     "text": [
      "The num of params is 0.30m. \n",
      "Adjusting learning rate of group 0 to 1.0000e-02.\n"
     ]
    },
    {
     "name": "stderr",
     "output_type": "stream",
     "text": [
      "loss: 0.5368:  28%|████████████████████████▍                                                             | 284/1000 [00:09<00:24, 29.53it/s, val loss=0.598, reg_coef=-.000541]2024-01-05 21:42:38,959 - ddpm.train_ddpm_now - WARNING - Save model rep0_1_ddpm_epoch285.pth due to early stop.\n",
      "loss: 0.5368:  28%|████████████████████████▍                                                             | 284/1000 [00:09<00:24, 28.73it/s, val loss=0.598, reg_coef=-.000541]\n",
      "2024-01-05 21:42:38,961 - weighted_conformal_inference - INFO - wcf params is {'K': 20, 'nwhigh': 20, 'nwlow': 0.05, 'useinf': False, 'cf_type': 'PCP'}\n",
      "100%|██████████████████████████████████████████████████████████████████████████████████████████████████████████████████████████████████████████| 8/8 [00:00<00:00, 2792.01it/s]\n",
      "100%|██████████████████████████████████████████████████████████████████████████████████████████████████████████████████████████████████████████| 25/25 [00:02<00:00, 11.38it/s]\n"
     ]
    },
    {
     "data": {
      "text/plain": [
       "(5.0819807,\n",
       " 0.951,\n",
       " <weighted_conformal_inference.WeightedConformalInference at 0x7fbc6851ac40>)"
      ]
     },
     "execution_count": 19,
     "metadata": {},
     "output_type": "execute_result"
    }
   ],
   "source": [
    "res1 = _run_fn_PCP1(rep_ix=0, params=params, lr=1e-2, n_infeat=128, n_T=100, weight_decay=1e-2, n_blk=1)"
   ]
  },
  {
   "cell_type": "code",
   "execution_count": null,
   "id": "e838a36f-3403-455c-bdb3-3e17ca3af1df",
   "metadata": {},
   "outputs": [],
   "source": []
  },
  {
   "cell_type": "code",
   "execution_count": 20,
   "id": "44975040-6c72-4a0b-9af3-5d3df08cedbd",
   "metadata": {
    "execution": {
     "iopub.execute_input": "2024-01-06T05:42:46.736220Z",
     "iopub.status.busy": "2024-01-06T05:42:46.735445Z",
     "iopub.status.idle": "2024-01-06T05:42:46.895954Z",
     "shell.execute_reply": "2024-01-06T05:42:46.894679Z",
     "shell.execute_reply.started": "2024-01-06T05:42:46.736170Z"
    },
    "tags": []
   },
   "outputs": [],
   "source": [
    "def _run_fn_PCP(rep_ix, params, lr, n_infeat, n_T, weight_decay, n_blk):\n",
    "    manualSeed = rep_ix\n",
    "    random.seed(manualSeed)\n",
    "    np.random.seed(manualSeed)\n",
    "    torch.manual_seed(manualSeed)\n",
    "    torch.use_deterministic_algorithms(True) # Needed for reproducible results\n",
    "    params = edict(params.copy())\n",
    "    params.ddpm_training.n_upblk = n_blk\n",
    "    params.ddpm_training.n_downblk = n_blk\n",
    "    params.ddpm_training.weight_decay = weight_decay\n",
    "    params.ddpm_training.n_T = n_T\n",
    "    params.ddpm_training.lr = lr\n",
    "    params.ddpm_training.n_infeat = n_infeat\n",
    "    \n",
    "    torch.set_default_dtype(params.df_dtype)\n",
    "    torch.set_default_device(params.device)\n",
    "    \n",
    "    \n",
    "    data_train = get_simu_data(n=params.simu_setting.n, \n",
    "                               d=params.simu_setting.d, \n",
    "                               is_homo=params.simu_setting.is_homo, \n",
    "                               rho=params.simu_setting.rho, \n",
    "                               err_type=params.simu_setting.err_type);\n",
    "    data_test = get_simu_data(n=params.simu_setting.ntest, \n",
    "                               d=params.simu_setting.d, \n",
    "                               is_homo=params.simu_setting.is_homo, \n",
    "                               rho=params.simu_setting.rho,\n",
    "                               err_type=params.simu_setting.err_type);\n",
    "    \n",
    "    cal_idxs, val_idxs, tr_idxs = get_idx_sets(all_idxs=np.where(data_train.T)[0], \n",
    "                                               ratios = [params.simu_setting.cal_ratio, params.simu_setting.val_ratio])\n",
    "        \n",
    "        \n",
    "    # train q(Y(1)|X)\n",
    "    data_train_ddpm = MyDataSet(Y=data_train.Y[tr_idxs], X=data_train.X[tr_idxs])\n",
    "    data_val = edict()\n",
    "    data_val.c =  data_train.X[val_idxs]\n",
    "    data_val.x =  data_train.Y[val_idxs]\n",
    "    \n",
    "    input_params = params.ddpm_training.copy()\n",
    "    input_params.pop(\"n_epoch\")\n",
    "    input_params.pop(\"early_stop\")\n",
    "    input_params.pop(\"early_stop_dict\")\n",
    "    myddpm = TrainDDPM(data_train_ddpm, save_dir=params.save_dir, verbose=params.verbose, prefix=f\"rep{rep_ix}_2\", \n",
    "                       device=params.device,\n",
    "                       **input_params);\n",
    "    \n",
    "    \n",
    "    def _inner_fn(data_set, ddpm):\n",
    "        # weight function\n",
    "        def wtfun(x):\n",
    "            if x.ndim == 1:\n",
    "                x = x.reshape(1, -1)\n",
    "            # for unconditional weight\n",
    "            return np.ones(x.shape[0])\n",
    "            \n",
    "        # get the weight and nonconformity score for each data point in cal set\n",
    "        x_0s = _gen_Y_given_X(data_train.X[cal_idxs], ddpm, manualSeed)\n",
    "        ws = wtfun(data_train.X[cal_idxs]);\n",
    "        Es = np.abs(x_0s -  data_train.Y1[cal_idxs][:, None]).min(axis=1);\n",
    "                \n",
    "        def _run_fn2(te_idx):\n",
    "            torch.set_default_dtype(params.df_dtype)\n",
    "            teX = data_set.X[te_idx]\n",
    "            teY1 = data_set.Y1[te_idx]\n",
    "            tetau = data_set.tau[te_idx]\n",
    "            \n",
    "            # get qv for current test pt\n",
    "            ws_wtest = np.concatenate([ws, wtfun(teX)]);\n",
    "            Es_winf = np.concatenate([Es, [np.inf]]);\n",
    "            nws_wtest = ws_wtest/ws_wtest.mean();\n",
    "            nws_wtest[nws_wtest<params.wconformal.nwtlow] = params.wconformal.nwtlow\n",
    "            nws_wtest[nws_wtest>params.wconformal.nwthigh] = params.wconformal.nwthigh\n",
    "            qt = (1 + nws_wtest[-1]/ nws_wtest[:-1].sum()) * (1 - params.hypo_test.alpha)\n",
    "            if qt <= 1:\n",
    "                qv_cur = weighted_quantile(Es, [qt], sample_weight=ws_wtest[:-1])[0];\n",
    "            else:\n",
    "                if params.wconformal.useinf:\n",
    "                    qv_cur = np.inf\n",
    "                else:\n",
    "                    qv_cur = np.max(Es)\n",
    "            \n",
    "            intvs = _get_pred_intv(teYs_hat[te_idx], qv_cur)\n",
    "            res = _get_metric([teY1, tetau], intvs)\n",
    "            res[\"qv_cur\"] = qv_cur\n",
    "            res[\"qt\"] = qt\n",
    "            res[\"intvs\"] = intvs\n",
    "            return res\n",
    "            \n",
    "        teYs_hat = _gen_Y_given_X(data_set.X, ddpm, manualSeed);\n",
    "        pbar2 = range(data_set.X.shape[0])\n",
    "        with Parallel(n_jobs=1) as parallel:\n",
    "            test_res = parallel(delayed(_run_fn2)(te_idx) for te_idx in pbar2)\n",
    "            \n",
    "        prbs = np.mean([res['in_sets'] for res in test_res], axis=0)\n",
    "        mlen = np.median([res['intvs_len'] for res in test_res])\n",
    "        qvs =np.array([res['qt'] for res in test_res])\n",
    "        return prbs, mlen, Es\n",
    "    \n",
    "    data_val1 = edict()\n",
    "    data_val1.X =  data_train.X[val_idxs]\n",
    "    data_val1.Y =  data_train.Y[val_idxs]\n",
    "    data_val1.Y1 =  data_train.Y1[val_idxs]\n",
    "    data_val1.tau =  data_train.tau[val_idxs]\n",
    "    \n",
    "    myddpm.train(n_epoch=params.ddpm_training.n_epoch, \n",
    "                     data_val=data_val, save_snapshot=params.save_snapshot, \n",
    "                     early_stop=params.ddpm_training.early_stop, \n",
    "                     early_stop_dict=params.ddpm_training.early_stop_dict\n",
    "                     )\n",
    "    ddpm = myddpm.ddpm\n",
    "    ddpm.eval()\n",
    "    prbs1, mlen1, qvs = _inner_fn(data_test, ddpm)\n",
    "    return mlen1, prbs1, qvs"
   ]
  },
  {
   "cell_type": "code",
   "execution_count": 21,
   "id": "cd1c251b-3ab7-4d62-9a41-e81db15cbab5",
   "metadata": {
    "execution": {
     "iopub.execute_input": "2024-01-06T05:42:47.548682Z",
     "iopub.status.busy": "2024-01-06T05:42:47.548108Z",
     "iopub.status.idle": "2024-01-06T05:43:01.579868Z",
     "shell.execute_reply": "2024-01-06T05:43:01.579225Z",
     "shell.execute_reply.started": "2024-01-06T05:42:47.548635Z"
    },
    "tags": []
   },
   "outputs": [
    {
     "name": "stderr",
     "output_type": "stream",
     "text": [
      "2024-01-05 21:42:47,585 - ddpm.train_ddpm_now - INFO - The results are saved at /data/rajlab1/user_data/jin/MyResearch/DG-CITE_paper/notebooks/../mypkg/../results/demo_ddpm_setting3_test1.\n",
      "2024-01-05 21:42:47,595 - ddpm.train_ddpm_now - INFO - The params is {'lr': 0.01, 'batch_size': 256, 'device': 'cpu', 'n_T': 100, 'n_infeat': 128, 'n_upblk': 1, 'n_downblk': 1, 'betas': [0.0001, 0.02], 'lr_gamma': 0.5, 'lr_step': 1000, 'test_intv': 5, 'weight_decay': 0.01}\n",
      "2024-01-05 21:42:47,595 - ddpm.train_ddpm_now - INFO - Early stop params are {'early_stop_len': 50, 'early_stop_eps': -0.0005}\n"
     ]
    },
    {
     "name": "stdout",
     "output_type": "stream",
     "text": [
      "The num of params is 0.30m. \n",
      "Adjusting learning rate of group 0 to 1.0000e-02.\n"
     ]
    },
    {
     "name": "stderr",
     "output_type": "stream",
     "text": [
      "loss: 0.5368:  28%|████████████████████████▍                                                             | 284/1000 [00:09<00:26, 27.43it/s, val loss=0.598, reg_coef=-.000541]2024-01-05 21:42:57,537 - ddpm.train_ddpm_now - WARNING - Save model rep0_2_ddpm_epoch285.pth due to early stop.\n",
      "loss: 0.5368:  28%|████████████████████████▍                                                             | 284/1000 [00:09<00:25, 28.57it/s, val loss=0.598, reg_coef=-.000541]\n",
      "100%|██████████████████████████████████████████████████████████████████████████████████████████████████████████████████████████████████████████| 8/8 [00:00<00:00, 5456.89it/s]\n",
      "100%|██████████████████████████████████████████████████████████████████████████████████████████████████████████████████████████████████████████| 25/25 [00:02<00:00, 12.15it/s]\n"
     ]
    }
   ],
   "source": [
    "res = _run_fn_PCP(rep_ix=0, params=params, lr=1e-2, n_infeat=128, n_T=100, weight_decay=1e-2, n_blk=1);"
   ]
  },
  {
   "cell_type": "code",
   "execution_count": 22,
   "id": "5a031266-631a-48a5-a6e4-ea1800efe4dc",
   "metadata": {
    "execution": {
     "iopub.execute_input": "2024-01-06T05:43:02.116290Z",
     "iopub.status.busy": "2024-01-06T05:43:02.115569Z",
     "iopub.status.idle": "2024-01-06T05:43:02.156451Z",
     "shell.execute_reply": "2024-01-06T05:43:02.155807Z",
     "shell.execute_reply.started": "2024-01-06T05:43:02.116237Z"
    },
    "tags": []
   },
   "outputs": [
    {
     "data": {
      "text/plain": [
       "(5.0819826,\n",
       " array([0.951, 1.   ]),\n",
       " array([1.83730238e-02, 2.28574316e-02, 5.37217478e-02, 4.24844872e-02,\n",
       "        7.48866134e-04, 2.74115060e-02, 1.22114961e-01, 3.56649059e-02,\n",
       "        1.91612872e-02, 1.69555205e-02, 4.07345748e+00, 7.74551422e-02,\n",
       "        5.16548243e-03, 1.11589320e-02, 1.82022484e-02, 1.21771947e+00,\n",
       "        1.05411064e-01, 7.58503052e-02, 6.48781060e-01, 1.61802287e-01,\n",
       "        5.65773950e-02, 1.21490830e-01, 3.20065614e-02, 5.18765578e-02,\n",
       "        3.27108651e-02, 3.97703772e-03, 1.00182895e-01, 3.88572196e-02,\n",
       "        6.06593118e-02, 1.82802533e-01, 8.98421766e-02, 3.11758670e-02,\n",
       "        6.31832539e-03, 8.89224833e-01, 3.94736600e-02, 3.10839363e-02,\n",
       "        8.78949773e-02, 4.07488797e-02, 1.92763286e-01, 5.68760184e-03,\n",
       "        2.95402411e-02, 3.36643023e-02, 6.46978636e-02, 5.59540963e-03,\n",
       "        7.62470486e-02, 7.20250567e-02, 8.11356587e-02, 4.60825933e-03,\n",
       "        5.04843004e-02, 1.24311122e-01, 3.22138226e-02, 4.20337226e-02,\n",
       "        8.07251679e-03, 2.98569733e-02, 4.94344098e-01, 2.32322458e-01,\n",
       "        7.23541960e-02, 5.92631963e-02, 1.43115217e-02, 2.28512553e-02,\n",
       "        1.27182500e-03, 2.22883272e-02, 2.04071336e-02, 2.31295257e-02,\n",
       "        4.55807549e-01, 2.78436060e-02, 1.77038962e-01, 5.17834422e-02,\n",
       "        2.16309601e-02, 6.08451272e-03, 6.89588301e-02, 2.08279626e-02,\n",
       "        2.28659955e-01, 1.71622534e-01, 3.20315629e-01, 3.33736275e-01,\n",
       "        2.80613652e-02, 7.65235072e-02, 5.93173592e-02, 6.40189137e-02,\n",
       "        2.14844328e-03, 3.15121303e-02, 1.34710428e-02, 6.14168871e-01,\n",
       "        2.41176481e-02, 8.95462285e-01, 7.68308181e-02, 3.83094704e-03,\n",
       "        3.53708510e-02, 7.25127446e-02, 5.49589489e-02, 6.42995067e-03,\n",
       "        2.60486550e-01, 7.61017249e-02, 1.28387711e-03, 1.25830281e-01,\n",
       "        9.95180998e-02, 9.38274876e-02, 2.20544770e-01, 6.88166765e-02,\n",
       "        4.64861246e-02, 6.78248430e-03, 4.60166512e-03, 1.10736579e-01,\n",
       "        4.10992393e-02, 1.61342596e-01, 2.75556304e-02, 1.22977032e-01,\n",
       "        9.54019608e-02, 1.56550477e-02, 2.05194750e-02, 1.15901886e-01,\n",
       "        1.37157007e-01, 3.96132022e-02, 2.73893511e-02, 2.81694823e-01,\n",
       "        1.14240546e-02, 6.28925070e-02, 1.95056624e-02, 6.48793533e-02,\n",
       "        7.07344247e-03, 2.17086905e-02, 3.42306750e-01, 1.31148888e-01,\n",
       "        5.90099680e-02, 1.34974609e-01, 6.87231197e-02, 1.16227692e-02,\n",
       "        1.98320995e-01, 1.73175574e-02, 2.99977661e-01, 2.70490733e-02,\n",
       "        1.36075511e-01, 1.36050474e-01, 6.07164166e-02, 5.52781590e-03,\n",
       "        2.65246244e-03, 7.40184881e-02, 1.97001640e-02, 3.22438406e-02,\n",
       "        5.38487584e-03, 1.17387249e-01, 1.01048450e-02, 1.46290121e-02,\n",
       "        1.66409191e-02, 1.45324682e-01, 1.18806669e-01, 4.17241686e-02,\n",
       "        4.46907696e-02, 1.65947517e-01, 9.18772534e-04, 1.01566900e-02,\n",
       "        1.04659288e-01, 5.76457181e-03, 7.82095306e-02, 2.04292707e-02,\n",
       "        1.92103658e-02, 1.47418131e-01, 1.53474981e-01, 7.56990745e-01,\n",
       "        1.20441228e-01, 1.19832635e-01, 3.54433004e-03, 9.68664368e-01,\n",
       "        1.20883423e-02, 2.95752822e-03, 4.07032852e-03, 4.69982100e-02,\n",
       "        1.99569390e-01, 1.30311241e-01, 1.53903428e-02, 1.34330174e-01,\n",
       "        5.18096900e-01, 1.25931299e-01, 1.99610343e-02, 2.44039091e-01,\n",
       "        1.50223227e-02, 6.95466571e-01, 1.07861178e-02, 2.39813206e-02,\n",
       "        4.57646433e-02, 9.57143013e-02, 7.56668016e-02, 9.28651847e-03,\n",
       "        1.54144807e+00, 6.14271668e-03, 5.34310453e-03, 3.75969530e-02,\n",
       "        4.59623486e-02, 2.97836562e-02, 9.27562254e-01, 1.09338016e-02,\n",
       "        4.18707662e-02, 1.06976731e-02, 2.90110355e-02, 1.28157679e-01,\n",
       "        1.16148703e-01, 2.71463405e-02, 6.15652364e-01, 6.90656347e-03,\n",
       "        1.57331755e-02, 2.05698151e-02, 6.88500106e-03, 4.21133510e-02,\n",
       "        1.97007732e-02, 3.45069448e-02, 5.88973502e-02, 1.26671401e-02,\n",
       "        3.31332378e-01, 9.05704000e-03, 6.59736439e-02, 3.14979635e-04,\n",
       "        2.87032340e-02, 4.95889755e-03, 5.18687509e-03, 1.87984733e-02,\n",
       "        1.24798320e-01, 6.70555134e-02, 9.55255548e-02, 5.66008311e-02,\n",
       "        2.22038648e-02, 1.06163598e-01, 1.40895736e+00, 1.64511270e-02,\n",
       "        2.10975374e-02, 1.37786397e-03, 5.20879368e-02, 3.06022264e-03,\n",
       "        3.13949837e-02, 2.47043404e-01, 3.16769277e-02, 8.13486383e-03,\n",
       "        9.88565654e-03, 3.80326821e-02, 6.53707008e-02, 2.01105073e-02,\n",
       "        5.98046353e-02, 1.63448235e-01, 7.20785811e-02, 6.72883532e-01,\n",
       "        1.03605118e-02, 1.27949095e-01, 2.09226415e-02, 8.81163120e-02,\n",
       "        2.03500100e-04, 1.02822739e-02, 5.53424577e-02, 1.49828573e-02,\n",
       "        2.29059923e-02, 5.30143641e-02, 2.66116599e-01, 1.13461401e-02,\n",
       "        3.46643447e-01, 5.30449350e-02, 1.07976340e-01, 3.58829645e-01,\n",
       "        1.53461292e-02, 3.39538183e-02, 1.49189187e-02, 9.10655458e-02,\n",
       "        6.13115182e-02, 4.64953278e-02, 2.44149094e-01, 1.78510298e-01,\n",
       "        3.43014428e-02, 7.42885858e-03, 6.61391688e-02, 1.49937509e-01,\n",
       "        1.93031849e-01, 7.49895912e-02, 1.82795122e-02, 2.04077748e-02,\n",
       "        9.07094527e-02, 4.17612307e-02, 6.41566185e-03, 5.00182234e-01,\n",
       "        8.79447130e-02, 2.65114268e-01, 2.26196289e+00, 2.67408540e-01,\n",
       "        1.16990963e-02, 3.74978333e-02, 6.38673638e-03, 8.24326384e-03,\n",
       "        9.35876099e-03, 9.79022557e-03, 6.67147556e-01, 1.16802382e-01,\n",
       "        4.70611588e-02, 1.45365452e-01, 1.71706049e-01, 8.20223510e-02,\n",
       "        2.43957115e-01, 2.34987681e-02, 1.67234746e-02, 1.45745886e-02,\n",
       "        4.45323949e-04, 2.55700873e-01, 4.58111179e-02, 2.41647829e-02,\n",
       "        8.20904077e-04, 1.51864511e-02, 2.68223248e-02]))"
      ]
     },
     "execution_count": 22,
     "metadata": {},
     "output_type": "execute_result"
    }
   ],
   "source": [
    "res"
   ]
  },
  {
   "cell_type": "code",
   "execution_count": 46,
   "id": "b9f376bf-3f54-44e9-9af2-c1efca5f62ef",
   "metadata": {
    "execution": {
     "iopub.execute_input": "2024-01-06T04:11:27.741962Z",
     "iopub.status.busy": "2024-01-06T04:11:27.741329Z",
     "iopub.status.idle": "2024-01-06T04:11:27.871540Z",
     "shell.execute_reply": "2024-01-06T04:11:27.870968Z",
     "shell.execute_reply.started": "2024-01-06T04:11:27.741914Z"
    },
    "tags": []
   },
   "outputs": [
    {
     "data": {
      "text/plain": [
       "[<matplotlib.lines.Line2D at 0x7f3c88c40460>]"
      ]
     },
     "execution_count": 46,
     "metadata": {},
     "output_type": "execute_result"
    },
    {
     "data": {
      "image/png": "[encoded data removed]",
      "text/plain": [
       "<Figure size 1000x500 with 1 Axes>"
      ]
     },
     "metadata": {
      "needs_background": "light"
     },
     "output_type": "display_data"
    }
   ],
   "source": [
    "plt.plot(np.sort(res1[2]))\n",
    "plt.plot(np.sort(res[2].Es.numpy()))"
   ]
  },
  {
   "cell_type": "code",
   "execution_count": null,
   "id": "52af6471-ac72-4757-bd4b-48a02c6efb91",
   "metadata": {},
   "outputs": [],
   "source": []
  }
 ],
 "metadata": {
  "kernelspec": {
   "display_name": "Python 3 (ipykernel)",
   "language": "python",
   "name": "python3"
  },
  "language_info": {
   "codemirror_mode": {
    "name": "ipython",
    "version": 3
   },
   "file_extension": ".py",
   "mimetype": "text/x-python",
   "name": "python",
   "nbconvert_exporter": "python",
   "pygments_lexer": "ipython3",
   "version": "3.9.7"
  },
  "toc-autonumbering": true
 },
 "nbformat": 4,
 "nbformat_minor": 5
}
