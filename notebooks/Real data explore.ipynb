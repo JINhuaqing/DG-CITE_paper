{
 "cells": [
  {
   "cell_type": "code",
   "execution_count": 1,
   "id": "39664d6b-c02c-4643-94ee-7ae13c33ef85",
   "metadata": {
    "execution": {
     "iopub.execute_input": "2024-01-26T04:24:34.114217Z",
     "iopub.status.busy": "2024-01-26T04:24:34.113556Z",
     "iopub.status.idle": "2024-01-26T04:24:34.127907Z",
     "shell.execute_reply": "2024-01-26T04:24:34.126800Z",
     "shell.execute_reply.started": "2024-01-26T04:24:34.114159Z"
    }
   },
   "outputs": [],
   "source": [
    "import sys\n",
    "sys.path.append(\"../mypkg\")"
   ]
  },
  {
   "cell_type": "code",
   "execution_count": 5,
   "id": "bc4ddd9d-6ce4-4507-b3f5-6ee00006f527",
   "metadata": {
    "execution": {
     "iopub.execute_input": "2024-01-26T04:25:15.422773Z",
     "iopub.status.busy": "2024-01-26T04:25:15.422032Z",
     "iopub.status.idle": "2024-01-26T04:25:15.460317Z",
     "shell.execute_reply": "2024-01-26T04:25:15.459455Z",
     "shell.execute_reply.started": "2024-01-26T04:25:15.422692Z"
    },
    "tags": []
   },
   "outputs": [],
   "source": [
    "from constants import RES_ROOT, DATA_ROOT, FIG_ROOT"
   ]
  },
  {
   "cell_type": "code",
   "execution_count": 6,
   "id": "2362c714-9fdd-48ae-94db-886573ccc0cc",
   "metadata": {
    "execution": {
     "iopub.execute_input": "2024-01-26T04:25:15.761100Z",
     "iopub.status.busy": "2024-01-26T04:25:15.760544Z",
     "iopub.status.idle": "2024-01-26T04:25:15.797089Z",
     "shell.execute_reply": "2024-01-26T04:25:15.796442Z",
     "shell.execute_reply.started": "2024-01-26T04:25:15.761045Z"
    },
    "tags": []
   },
   "outputs": [
    {
     "name": "stdout",
     "output_type": "stream",
     "text": [
      "The autoreload extension is already loaded. To reload it, use:\n",
      "  %reload_ext autoreload\n"
     ]
    }
   ],
   "source": [
    "%load_ext autoreload\n",
    "%autoreload 2\n",
    "# 0,1, 2, 3, be careful about the space"
   ]
  },
  {
   "cell_type": "code",
   "execution_count": 7,
   "id": "58b0c674-55d1-4de4-861f-8d511ab383ed",
   "metadata": {
    "execution": {
     "iopub.execute_input": "2024-01-26T04:25:16.024242Z",
     "iopub.status.busy": "2024-01-26T04:25:16.023645Z",
     "iopub.status.idle": "2024-01-26T04:25:16.063458Z",
     "shell.execute_reply": "2024-01-26T04:25:16.062790Z",
     "shell.execute_reply.started": "2024-01-26T04:25:16.024193Z"
    },
    "tags": []
   },
   "outputs": [],
   "source": [
    "import torch\n",
    "import scipy.stats as ss\n",
    "import numpy as np\n",
    "from easydict import EasyDict as edict\n",
    "import matplotlib.pyplot as plt\n",
    "import seaborn as sns\n",
    "from collections import defaultdict as ddict\n",
    "from tqdm import tqdm, trange\n",
    "import random\n",
    "from joblib import Parallel, delayed\n",
    "import pandas as pd\n",
    "from pprint import pprint\n",
    "from copy import deepcopy\n",
    "plt.style.use(FIG_ROOT/\"base.mplstyle\")"
   ]
  },
  {
   "cell_type": "code",
   "execution_count": null,
   "id": "3f0e30d5-f910-43bc-a8b7-79639db34567",
   "metadata": {},
   "outputs": [],
   "source": []
  },
  {
   "cell_type": "code",
   "execution_count": 63,
   "id": "deffcdd6-f4f4-458c-ac05-14c142df1e1c",
   "metadata": {
    "execution": {
     "iopub.execute_input": "2024-01-26T04:40:17.464480Z",
     "iopub.status.busy": "2024-01-26T04:40:17.463825Z",
     "iopub.status.idle": "2024-01-26T04:40:17.509399Z",
     "shell.execute_reply": "2024-01-26T04:40:17.508478Z",
     "shell.execute_reply.started": "2024-01-26T04:40:17.464431Z"
    },
    "tags": []
   },
   "outputs": [],
   "source": [
    "data1 = np.load(DATA_ROOT/\"ihdp_npci_1-1000.train.npz\");\n",
    "data0 = np.load(DATA_ROOT/\"ihdp_npci_1-1000.test.npz\");"
   ]
  },
  {
   "cell_type": "code",
   "execution_count": 83,
   "id": "2b2cadaf-d784-40c0-9857-f815d85f52e9",
   "metadata": {
    "execution": {
     "iopub.execute_input": "2024-01-26T04:59:02.784619Z",
     "iopub.status.busy": "2024-01-26T04:59:02.783952Z",
     "iopub.status.idle": "2024-01-26T04:59:02.825200Z",
     "shell.execute_reply": "2024-01-26T04:59:02.824446Z",
     "shell.execute_reply.started": "2024-01-26T04:59:02.784567Z"
    },
    "tags": []
   },
   "outputs": [
    {
     "name": "stdout",
     "output_type": "stream",
     "text": [
      "['ate', 'mu1', 'mu0', 'yadd', 'yf', 'ycf', 't', 'x', 'ymul']\n"
     ]
    }
   ],
   "source": [
    "print(list(data1.keys()))"
   ]
  },
  {
   "cell_type": "code",
   "execution_count": 85,
   "id": "6c475a0e-d139-4e18-b4e7-45dfebdc29e5",
   "metadata": {
    "execution": {
     "iopub.execute_input": "2024-01-26T04:59:17.746648Z",
     "iopub.status.busy": "2024-01-26T04:59:17.745841Z",
     "iopub.status.idle": "2024-01-26T04:59:17.786259Z",
     "shell.execute_reply": "2024-01-26T04:59:17.785511Z",
     "shell.execute_reply.started": "2024-01-26T04:59:17.746593Z"
    },
    "tags": []
   },
   "outputs": [
    {
     "data": {
      "text/plain": [
       "array(0)"
      ]
     },
     "execution_count": 85,
     "metadata": {},
     "output_type": "execute_result"
    }
   ],
   "source": [
    "data1[\"yadd\"]"
   ]
  },
  {
   "cell_type": "code",
   "execution_count": 82,
   "id": "e0edcbb8-a478-4769-8fd4-a7c8477027d5",
   "metadata": {
    "execution": {
     "iopub.execute_input": "2024-01-26T04:58:47.062754Z",
     "iopub.status.busy": "2024-01-26T04:58:47.062104Z",
     "iopub.status.idle": "2024-01-26T04:58:47.237925Z",
     "shell.execute_reply": "2024-01-26T04:58:47.237477Z",
     "shell.execute_reply.started": "2024-01-26T04:58:47.062705Z"
    },
    "tags": []
   },
   "outputs": [
    {
     "data": {
      "text/plain": [
       "[<matplotlib.lines.Line2D at 0x7fd46a4c1640>]"
      ]
     },
     "execution_count": 82,
     "metadata": {},
     "output_type": "execute_result"
    },
    {
     "data": {
      "image/png": "[encoded data removed]",
      "text/plain": [
       "<Figure size 1000x500 with 1 Axes>"
      ]
     },
     "metadata": {
      "needs_background": "light"
     },
     "output_type": "display_data"
    }
   ],
   "source": [
    "t1 = data0[\"yf\"][data0[\"t\"]==0] \n",
    "t2 = data0[\"mu0\"][data0[\"t\"]==0]\n",
    "plt.plot(t1, t2, \".\")"
   ]
  },
  {
   "cell_type": "code",
   "execution_count": null,
   "id": "94d0baee-a0be-453e-a035-0b5d703aaf69",
   "metadata": {},
   "outputs": [],
   "source": []
  }
 ],
 "metadata": {
  "kernelspec": {
   "display_name": "Python 3 (ipykernel)",
   "language": "python",
   "name": "python3"
  },
  "language_info": {
   "codemirror_mode": {
    "name": "ipython",
    "version": 3
   },
   "file_extension": ".py",
   "mimetype": "text/x-python",
   "name": "python",
   "nbconvert_exporter": "python",
   "pygments_lexer": "ipython3",
   "version": "3.9.7"
  }
 },
 "nbformat": 4,
 "nbformat_minor": 5
}
