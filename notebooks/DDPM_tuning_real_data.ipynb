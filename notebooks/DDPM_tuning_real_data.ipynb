{
 "cells": [
  {
   "cell_type": "code",
   "execution_count": 1,
   "id": "7be37593-bf50-4fc1-b617-ff93ca3fb707",
   "metadata": {
    "execution": {
     "iopub.execute_input": "2024-01-28T17:44:19.824458Z",
     "iopub.status.busy": "2024-01-28T17:44:19.823818Z",
     "iopub.status.idle": "2024-01-28T17:44:19.839906Z",
     "shell.execute_reply": "2024-01-28T17:44:19.838460Z",
     "shell.execute_reply.started": "2024-01-28T17:44:19.824405Z"
    },
    "tags": []
   },
   "outputs": [],
   "source": [
    "import sys\n",
    "sys.path.append(\"../mypkg\")"
   ]
  },
  {
   "cell_type": "code",
   "execution_count": 2,
   "id": "ad8d569b-0412-47de-a9bf-2bbbfde7e943",
   "metadata": {
    "execution": {
     "iopub.execute_input": "2024-01-28T17:44:19.841703Z",
     "iopub.status.busy": "2024-01-28T17:44:19.841056Z",
     "iopub.status.idle": "2024-01-28T17:44:22.692252Z",
     "shell.execute_reply": "2024-01-28T17:44:22.690873Z",
     "shell.execute_reply.started": "2024-01-28T17:44:19.841670Z"
    },
    "tags": []
   },
   "outputs": [],
   "source": [
    "from constants import RES_ROOT, FIG_ROOT, DATA_ROOT\n",
    "from utils.misc import load_pkl, save_pkl, merge_intervals\n",
    "from utils.colors import qual_cmap\n",
    "from utils.stats import weighted_quantile\n",
    "from data_gen_utils.data_gen_my2 import get_simu_data\n",
    "from utils.utils import MyDataSet, get_idx_sets\n",
    "from demo_settings import simu_settings\n",
    "from CQR import get_CQR_CIs, boosting_pred, boosting_logi, get_CF_CIs\n",
    "from ddpm.train_ddpm_now import TrainDDPM\n",
    "from weighted_conformal_inference import WeightedConformalInference\n",
    "from naive_sample import NaiveSample\n",
    "from real_data_utils import get_data_from_rawreal"
   ]
  },
  {
   "cell_type": "code",
   "execution_count": 3,
   "id": "f1775f04-ea35-40dc-90e8-61a284a9daf2",
   "metadata": {
    "execution": {
     "iopub.execute_input": "2024-01-28T17:44:22.696089Z",
     "iopub.status.busy": "2024-01-28T17:44:22.695164Z",
     "iopub.status.idle": "2024-01-28T17:44:22.733722Z",
     "shell.execute_reply": "2024-01-28T17:44:22.733210Z",
     "shell.execute_reply.started": "2024-01-28T17:44:22.696034Z"
    },
    "tags": []
   },
   "outputs": [],
   "source": [
    "%load_ext autoreload\n",
    "%autoreload 2\n",
    "# 0,1, 2, 3, be careful about the space"
   ]
  },
  {
   "cell_type": "code",
   "execution_count": 4,
   "id": "a42be2f3-7ab7-4f69-98eb-27ae79905c93",
   "metadata": {
    "execution": {
     "iopub.execute_input": "2024-01-28T17:44:22.734567Z",
     "iopub.status.busy": "2024-01-28T17:44:22.734385Z",
     "iopub.status.idle": "2024-01-28T17:44:23.079556Z",
     "shell.execute_reply": "2024-01-28T17:44:23.078626Z",
     "shell.execute_reply.started": "2024-01-28T17:44:22.734551Z"
    },
    "tags": []
   },
   "outputs": [],
   "source": [
    "import torch\n",
    "import scipy.stats as ss\n",
    "import numpy as np\n",
    "from easydict import EasyDict as edict\n",
    "import matplotlib.pyplot as plt\n",
    "import seaborn as sns\n",
    "from collections import defaultdict as ddict\n",
    "from tqdm import tqdm, trange\n",
    "import random\n",
    "from joblib import Parallel, delayed\n",
    "import pandas as pd\n",
    "from pprint import pprint\n",
    "from copy import deepcopy\n",
    "plt.style.use(FIG_ROOT/\"base.mplstyle\")"
   ]
  },
  {
   "cell_type": "markdown",
   "id": "5f1daada-ca8c-4a09-84f5-dfe6c045008d",
   "metadata": {},
   "source": [
    "# Params"
   ]
  },
  {
   "cell_type": "code",
   "execution_count": 82,
   "id": "ba62606a-d6fb-401c-a054-b1dc5c382de9",
   "metadata": {
    "execution": {
     "iopub.execute_input": "2024-01-28T21:12:04.995976Z",
     "iopub.status.busy": "2024-01-28T21:12:04.995322Z",
     "iopub.status.idle": "2024-01-28T21:12:05.126794Z",
     "shell.execute_reply": "2024-01-28T21:12:05.125471Z",
     "shell.execute_reply.started": "2024-01-28T21:12:04.995928Z"
    },
    "tags": []
   },
   "outputs": [],
   "source": [
    "data_train_raw = np.load(DATA_ROOT/\"ihdp_npci_1-100.train.npz\");\n",
    "data_test_raw = np.load(DATA_ROOT/\"ihdp_npci_1-100.test.npz\");"
   ]
  },
  {
   "cell_type": "code",
   "execution_count": 84,
   "id": "6cc79339-0cfa-4d15-9220-129cd5209122",
   "metadata": {
    "execution": {
     "iopub.execute_input": "2024-01-28T21:12:27.399388Z",
     "iopub.status.busy": "2024-01-28T21:12:27.398729Z",
     "iopub.status.idle": "2024-01-28T21:12:27.553826Z",
     "shell.execute_reply": "2024-01-28T21:12:27.552632Z",
     "shell.execute_reply.started": "2024-01-28T21:12:27.399319Z"
    },
    "tags": []
   },
   "outputs": [
    {
     "name": "stdout",
     "output_type": "stream",
     "text": [
      "{'cal_ratio': 0.25, 'd': 25, 'n': 672, 'ntest': 75, 'val_ratio': 0.15}\n"
     ]
    }
   ],
   "source": [
    "params = edict()\n",
    "\n",
    "params.nrep = 100 # num of reptition for simulation\n",
    "params.K = 40 # num of sps drawn from q(Y(1)|X)\n",
    "params.save_snapshot = 500\n",
    "params.df_dtype = torch.float32\n",
    "params.device=\"cpu\"\n",
    "params.n_jobs = 20\n",
    "params.verbose = True\n",
    "params.inf_bs = 40 # the inference batch, fct x K\n",
    "\n",
    "params.ddpm_training = edict()\n",
    "# Batch size during training\n",
    "params.ddpm_training.batch_size = 256 \n",
    "# Number of training epochs\n",
    "params.ddpm_training.n_epoch = 1000\n",
    "params.ddpm_training.n_infeat = 128\n",
    "# Learning rate for optimizers\n",
    "params.ddpm_training.lr = 0.001\n",
    "params.ddpm_training.lr_gamma = 0.5\n",
    "params.ddpm_training.lr_step = 1000\n",
    "params.ddpm_training.test_intv = 5\n",
    "params.ddpm_training.n_T = 400 # 100\n",
    "params.ddpm_training.n_upblk = 1\n",
    "params.ddpm_training.n_downblk = 1\n",
    "params.ddpm_training.weight_decay = 1e-2\n",
    "params.ddpm_training.early_stop = False\n",
    "params.ddpm_training.early_stop_dict = {\"early_stop_len\":50, \"early_stop_eps\": 5e-4}\n",
    "#params.ddpm_training.betas = [0.001, 0.5]\n",
    "\n",
    "params.wconformal = edict()\n",
    "# remove too large and too small in ws/mean(ws)\n",
    "params.wconformal.nwthigh = 20\n",
    "params.wconformal.nwtlow = 0.05\n",
    "params.wconformal.useinf = False\n",
    "\n",
    "\n",
    "tmp_data = get_data_from_rawreal(data_train_raw, rep_ix=0, nrep=params.nrep);\n",
    "tmp_data1 = get_data_from_rawreal(data_test_raw, rep_ix=0, nrep=params.nrep);\n",
    "tmp_data.X.shape\n",
    "params.simu_setting = edict()\n",
    "params.simu_setting.n = tmp_data.X.shape[0]\n",
    "params.simu_setting.d = tmp_data.X.shape[1]\n",
    "params.simu_setting.ntest = tmp_data1.X.shape[0]\n",
    "params.simu_setting.cal_ratio = 0.25 # for conformal inference\n",
    "params.simu_setting.val_ratio = 0.15 # for tuning network\n",
    "pprint(params.simu_setting)\n",
    "\n",
    "params.hypo_test = edict()\n",
    "params.hypo_test.alpha = 0.05 # sig level\n",
    "\n",
    "params.prefix = \"\"\n",
    "params.save_dir = f\"demo_ddpm_real_test11\"\n",
    "if not (RES_ROOT/params.save_dir).exists():\n",
    "    (RES_ROOT/params.save_dir).mkdir()"
   ]
  },
  {
   "cell_type": "code",
   "execution_count": 96,
   "id": "84481cb7-f22b-4fa7-9fb9-344d28e4a7e6",
   "metadata": {
    "execution": {
     "iopub.execute_input": "2024-01-30T00:50:16.351147Z",
     "iopub.status.busy": "2024-01-30T00:50:16.350498Z",
     "iopub.status.idle": "2024-01-30T00:50:16.469213Z",
     "shell.execute_reply": "2024-01-30T00:50:16.468103Z",
     "shell.execute_reply.started": "2024-01-30T00:50:16.351097Z"
    },
    "tags": []
   },
   "outputs": [
    {
     "data": {
      "text/plain": [
       "123.0"
      ]
     },
     "execution_count": 96,
     "metadata": {},
     "output_type": "execute_result"
    }
   ],
   "source": [
    "tmp_data.T.sum()"
   ]
  },
  {
   "cell_type": "code",
   "execution_count": 95,
   "id": "96d3a566-bae7-4b5a-8c44-26918dabef2c",
   "metadata": {
    "execution": {
     "iopub.execute_input": "2024-01-30T00:37:54.187217Z",
     "iopub.status.busy": "2024-01-30T00:37:54.186625Z",
     "iopub.status.idle": "2024-01-30T00:37:54.226586Z",
     "shell.execute_reply": "2024-01-30T00:37:54.225887Z",
     "shell.execute_reply.started": "2024-01-30T00:37:54.187168Z"
    },
    "tags": []
   },
   "outputs": [
    {
     "data": {
      "text/plain": [
       "(75, 25)"
      ]
     },
     "execution_count": 95,
     "metadata": {},
     "output_type": "execute_result"
    }
   ],
   "source": [
    "tmp_data1.X.shape"
   ]
  },
  {
   "cell_type": "code",
   "execution_count": 88,
   "id": "8323bd12-8b5d-487a-8951-77e4c796e2d8",
   "metadata": {
    "execution": {
     "iopub.execute_input": "2024-01-28T21:12:47.002334Z",
     "iopub.status.busy": "2024-01-28T21:12:47.001572Z",
     "iopub.status.idle": "2024-01-28T21:12:47.039213Z",
     "shell.execute_reply": "2024-01-28T21:12:47.038509Z",
     "shell.execute_reply.started": "2024-01-28T21:12:47.002286Z"
    },
    "tags": []
   },
   "outputs": [],
   "source": [
    "torch.set_default_dtype(params.df_dtype)"
   ]
  },
  {
   "cell_type": "code",
   "execution_count": 89,
   "id": "cbb7d327-4751-4707-b301-9fbbd58f7a0f",
   "metadata": {
    "execution": {
     "iopub.execute_input": "2024-01-28T21:12:47.600074Z",
     "iopub.status.busy": "2024-01-28T21:12:47.599428Z",
     "iopub.status.idle": "2024-01-28T21:12:47.636596Z",
     "shell.execute_reply": "2024-01-28T21:12:47.635925Z",
     "shell.execute_reply.started": "2024-01-28T21:12:47.600030Z"
    },
    "tags": []
   },
   "outputs": [],
   "source": [
    "keys = [\"lr\", \"n_infeat\", \"n_T\", \"weight_decay\", \"n_upblk\", \"n_downblk\"]\n",
    "def _get_name_postfix(keys, ddpm_training):\n",
    "    lst = []\n",
    "    for key in keys:\n",
    "        if ddpm_training[key] >= 1:\n",
    "            lst.append(f\"{key}-{str(ddpm_training[key])}\")\n",
    "        else:\n",
    "            lst.append(f\"{key}--{str(ddpm_training[key]).split('.')[-1]}\")\n",
    "    return \"_\".join(lst)"
   ]
  },
  {
   "cell_type": "code",
   "execution_count": null,
   "id": "575dfd1a-a222-4972-9e57-d499f886584a",
   "metadata": {},
   "outputs": [],
   "source": []
  },
  {
   "cell_type": "markdown",
   "id": "b18c29d9-14e1-4e57-9a24-c09ba3605f4f",
   "metadata": {},
   "source": [
    "# Some fns"
   ]
  },
  {
   "cell_type": "code",
   "execution_count": null,
   "id": "cb342909-700e-40d3-94c6-893dede80877",
   "metadata": {},
   "outputs": [],
   "source": []
  },
  {
   "cell_type": "code",
   "execution_count": 76,
   "id": "316a4571-9954-4f9a-b48a-d5da6d6f9556",
   "metadata": {
    "execution": {
     "iopub.execute_input": "2024-01-28T21:06:14.120453Z",
     "iopub.status.busy": "2024-01-28T21:06:14.119801Z",
     "iopub.status.idle": "2024-01-28T21:07:50.033943Z",
     "shell.execute_reply": "2024-01-28T21:07:50.032577Z",
     "shell.execute_reply.started": "2024-01-28T21:06:14.120402Z"
    },
    "scrolled": true,
    "tags": []
   },
   "outputs": [
    {
     "name": "stderr",
     "output_type": "stream",
     "text": [
      "2024-01-28 13:06:14,667 - ddpm.train_ddpm_now - INFO - The results are saved at /data/rajlab1/user_data/jin/MyResearch/DG-CITE_paper/notebooks/../mypkg/../results/demo_ddpm_real_test11.\n",
      "INFO:ddpm.train_ddpm_now:The results are saved at /data/rajlab1/user_data/jin/MyResearch/DG-CITE_paper/notebooks/../mypkg/../results/demo_ddpm_real_test11.\n",
      "2024-01-28 13:06:14,693 - ddpm.train_ddpm_now - INFO - The params is {'lr': 0.01, 'batch_size': 256, 'device': 'cpu', 'n_T': 400, 'n_infeat': 128, 'n_upblk': 5, 'n_downblk': 5, 'betas': [0.0001, 0.02], 'lr_gamma': 0.5, 'lr_step': 1000, 'test_intv': 5, 'weight_decay': 0.01}\n",
      "INFO:ddpm.train_ddpm_now:The params is {'lr': 0.01, 'batch_size': 256, 'device': 'cpu', 'n_T': 400, 'n_infeat': 128, 'n_upblk': 5, 'n_downblk': 5, 'betas': [0.0001, 0.02], 'lr_gamma': 0.5, 'lr_step': 1000, 'test_intv': 5, 'weight_decay': 0.01}\n",
      "2024-01-28 13:06:14,694 - ddpm.train_ddpm_now - WARNING - We do not do early stop, so any args in early_stop_dict are ignored.\n",
      "WARNING:ddpm.train_ddpm_now:We do not do early stop, so any args in early_stop_dict are ignored.\n"
     ]
    },
    {
     "name": "stdout",
     "output_type": "stream",
     "text": [
      "The num of params is 1.37m. \n",
      "Adjusting learning rate of group 0 to 1.0000e-02.\n"
     ]
    },
    {
     "name": "stderr",
     "output_type": "stream",
     "text": [
      "loss: 0.2052:  50%|█████████████████████▍                     | 498/1000 [00:30<00:34, 14.72it/s, val loss=0.799]2024-01-28 13:06:44,948 - ddpm.train_ddpm_now - INFO - Save model rep0_lr--01_n_infeat-128_n_T-400_weight_decay--01_n_upblk-5_n_downblk-5_ddpm_epoch500.pth.\n",
      "INFO:ddpm.train_ddpm_now:Save model rep0_lr--01_n_infeat-128_n_T-400_weight_decay--01_n_upblk-5_n_downblk-5_ddpm_epoch500.pth.\n",
      "loss: 0.2052: 100%|███████████████████████████████████████████▉| 998/1000 [01:01<00:00, 16.64it/s, val loss=1.51]2024-01-28 13:07:15,720 - ddpm.train_ddpm_now - INFO - Save model rep0_lr--01_n_infeat-128_n_T-400_weight_decay--01_n_upblk-5_n_downblk-5_ddpm_epoch1000.pth.\n",
      "INFO:ddpm.train_ddpm_now:Save model rep0_lr--01_n_infeat-128_n_T-400_weight_decay--01_n_upblk-5_n_downblk-5_ddpm_epoch1000.pth.\n",
      "loss: 0.2052: 100%|███████████████████████████████████████████| 1000/1000 [01:01<00:00, 16.37it/s, val loss=1.51]\n",
      "2024-01-28 13:07:15,802 - weighted_conformal_inference - INFO - wcf params is {'K': 40, 'nwhigh': 20, 'nwlow': 0.05, 'useinf': False, 'cf_type': 'PCP'}\n",
      "INFO:weighted_conformal_inference:wcf params is {'K': 40, 'nwhigh': 20, 'nwlow': 0.05, 'useinf': False, 'cf_type': 'PCP'}\n",
      "2024-01-28 13:07:15,804 - weighted_conformal_inference - INFO - gen params is {'ddim_timesteps': 50, 'ddim_eta': 1, 'gen_type': 'ddim'}\n",
      "INFO:weighted_conformal_inference:gen params is {'ddim_timesteps': 50, 'ddim_eta': 1, 'gen_type': 'ddim'}\n"
     ]
    },
    {
     "name": "stdout",
     "output_type": "stream",
     "text": [
      "Adjusting learning rate of group 0 to 5.0000e-03.\n"
     ]
    },
    {
     "name": "stderr",
     "output_type": "stream",
     "text": [
      "100%|████████████████████████████████████████████████████████████████████████████| 4/4 [00:00<00:00, 1012.20it/s]\n",
      "100%|████████████████████████████████████████████████████████████████████████████| 2/2 [00:00<00:00, 1181.83it/s]\n",
      "2024-01-28 13:07:25,239 - weighted_conformal_inference - INFO - wcf params is {'K': 40, 'nwhigh': 20, 'nwlow': 0.05, 'useinf': False, 'cf_type': 'PCP'}\n",
      "INFO:weighted_conformal_inference:wcf params is {'K': 40, 'nwhigh': 20, 'nwlow': 0.05, 'useinf': False, 'cf_type': 'PCP'}\n",
      "2024-01-28 13:07:25,241 - weighted_conformal_inference - INFO - gen params is {'ddim_timesteps': 50, 'ddim_eta': 1, 'gen_type': 'ddim'}\n",
      "INFO:weighted_conformal_inference:gen params is {'ddim_timesteps': 50, 'ddim_eta': 1, 'gen_type': 'ddim'}\n",
      "100%|████████████████████████████████████████████████████████████████████████████| 4/4 [00:00<00:00, 3454.23it/s]\n",
      "100%|████████████████████████████████████████████████████████████████████████████| 3/3 [00:00<00:00, 1722.98it/s]\n",
      "2024-01-28 13:07:34,082 - ddpm.train_ddpm_now - INFO - We load model /data/rajlab1/user_data/jin/MyResearch/DG-CITE_paper/notebooks/../mypkg/../results/demo_ddpm_real_test11/rep0_lr--01_n_infeat-128_n_T-400_weight_decay--01_n_upblk-5_n_downblk-5_ddpm_epoch500.pth.\n",
      "INFO:ddpm.train_ddpm_now:We load model /data/rajlab1/user_data/jin/MyResearch/DG-CITE_paper/notebooks/../mypkg/../results/demo_ddpm_real_test11/rep0_lr--01_n_infeat-128_n_T-400_weight_decay--01_n_upblk-5_n_downblk-5_ddpm_epoch500.pth.\n",
      "2024-01-28 13:07:34,102 - weighted_conformal_inference - INFO - wcf params is {'K': 40, 'nwhigh': 20, 'nwlow': 0.05, 'useinf': False, 'cf_type': 'PCP'}\n",
      "INFO:weighted_conformal_inference:wcf params is {'K': 40, 'nwhigh': 20, 'nwlow': 0.05, 'useinf': False, 'cf_type': 'PCP'}\n",
      "2024-01-28 13:07:34,103 - weighted_conformal_inference - INFO - gen params is {'ddim_timesteps': 50, 'ddim_eta': 1, 'gen_type': 'ddim'}\n",
      "INFO:weighted_conformal_inference:gen params is {'ddim_timesteps': 50, 'ddim_eta': 1, 'gen_type': 'ddim'}\n",
      "100%|████████████████████████████████████████████████████████████████████████████| 4/4 [00:00<00:00, 5038.20it/s]\n",
      "100%|█████████████████████████████████████████████████████████████████████████████| 2/2 [00:00<00:00, 937.07it/s]\n",
      "2024-01-28 13:07:42,856 - weighted_conformal_inference - INFO - wcf params is {'K': 40, 'nwhigh': 20, 'nwlow': 0.05, 'useinf': False, 'cf_type': 'PCP'}\n",
      "INFO:weighted_conformal_inference:wcf params is {'K': 40, 'nwhigh': 20, 'nwlow': 0.05, 'useinf': False, 'cf_type': 'PCP'}\n",
      "2024-01-28 13:07:42,857 - weighted_conformal_inference - INFO - gen params is {'ddim_timesteps': 50, 'ddim_eta': 1, 'gen_type': 'ddim'}\n",
      "INFO:weighted_conformal_inference:gen params is {'ddim_timesteps': 50, 'ddim_eta': 1, 'gen_type': 'ddim'}\n",
      "100%|████████████████████████████████████████████████████████████████████████████| 4/4 [00:00<00:00, 3450.68it/s]\n",
      "100%|████████████████████████████████████████████████████████████████████████████| 3/3 [00:00<00:00, 1710.80it/s]\n"
     ]
    },
    {
     "name": "stdout",
     "output_type": "stream",
     "text": [
      "Save to /data/rajlab1/user_data/jin/MyResearch/DG-CITE_paper/notebooks/../mypkg/../results/demo_ddpm_real_test11/rep_0_lr--01_n_infeat-128_n_T-400_weight_decay--01_n_upblk-5_n_downblk-5_res.pkl\n"
     ]
    }
   ],
   "source": [
    "rep_ix = 0\n",
    "params = params\n",
    "lr = 1e-2\n",
    "n_infeat = 128\n",
    "n_T = 400\n",
    "weight_decay = 1e-2\n",
    "n_blk = 5\n",
    "params.ddpm_training.n_epoch = 1000\n",
    "if True:\n",
    "#def _main_fn(rep_ix, params, lr, n_infeat, n_T, weight_decay, n_blk):\n",
    "    manualSeed = rep_ix\n",
    "    random.seed(manualSeed)\n",
    "    np.random.seed(manualSeed)\n",
    "    torch.manual_seed(manualSeed)\n",
    "    torch.use_deterministic_algorithms(True) # Needed for reproducible results\n",
    "    params = edict(deepcopy(params))\n",
    "    params.ddpm_training.n_upblk = n_blk\n",
    "    params.ddpm_training.n_downblk = n_blk\n",
    "    params.ddpm_training.weight_decay = weight_decay\n",
    "    params.ddpm_training.n_T = n_T\n",
    "    params.ddpm_training.lr = lr\n",
    "    params.ddpm_training.n_infeat = n_infeat\n",
    "    keys = [\"lr\", \"n_infeat\", \"n_T\", \"weight_decay\", \"n_upblk\", \"n_downblk\"]\n",
    "    post_fix = _get_name_postfix(keys, params.ddpm_training)\n",
    "    \n",
    "    torch.set_default_dtype(params.df_dtype)\n",
    "    torch.set_default_device(params.device)\n",
    "    \n",
    "    fil_name = (RES_ROOT/params.save_dir)/f\"rep_{rep_ix}_{post_fix}_res.pkl\"\n",
    "    ofil_name = (RES_ROOT/params.save_dir)/f\"rep_{rep_ix}_others_res.pkl\"\n",
    "        \n",
    "        \n",
    "    if True:\n",
    "    #if not fil_name.exists():\n",
    "        data_train = get_data_from_rawreal(data_train_raw, rep_ix=rep_ix, nrep=params.nrep)\n",
    "        data_train.Y[data_train.T==1] = 0\n",
    "        data_train.Y1 = np.zeros_like(data_train.Y1)\n",
    "        data_test = get_data_from_rawreal(data_test_raw, rep_ix=rep_ix, nrep=params.nrep)\n",
    "        data_test.Y[data_test.T==1] = 0\n",
    "        data_test.Y1 = np.zeros_like(data_test.Y1)\n",
    "        \n",
    "        \n",
    "        cal_idxs, val_idxs, tr_idxs = get_idx_sets(all_idxs=np.where(data_train.T==0)[0], \n",
    "                                                       ratios = [params.simu_setting.cal_ratio, params.simu_setting.val_ratio])\n",
    "                \n",
    "        _, _, trT1_idxs = get_idx_sets(all_idxs=np.where(data_train.T==1)[0], \n",
    "                                                       ratios = [params.simu_setting.cal_ratio, params.simu_setting.val_ratio])\n",
    "        trboth_idxs = np.sort(np.concatenate([trT1_idxs, tr_idxs]))\n",
    "        # get psfun\n",
    "        psY = data_train.T[trboth_idxs].astype(int)\n",
    "        psX = data_train.X[trboth_idxs]\n",
    "        fit_res = boosting_logi(psY, psX);\n",
    "        def wsfun(X):\n",
    "            eps=1e-10\n",
    "            if isinstance(X, torch.Tensor):\n",
    "                X = X.cpu().numpy()\n",
    "            if X.ndim == 1:\n",
    "                X = X.reshape(1, -1)\n",
    "            est_ps = boosting_pred(X, fit_res)\n",
    "            est_ws = 1/(1-est_ps+eps)\n",
    "            return torch.tensor(est_ws, dtype=params.df_dtype).to(device=params.device)\n",
    "            \n",
    "        \n",
    "        cal_X = torch.tensor(data_train.X[cal_idxs], dtype=params.df_dtype)\n",
    "        cal_Y = torch.tensor(data_train.Y0[cal_idxs], dtype=params.df_dtype)\n",
    "        val_X = torch.tensor(data_train.X[val_idxs], dtype=params.df_dtype)\n",
    "        val_Y = torch.tensor(data_train.Y0[val_idxs], dtype=params.df_dtype)\n",
    "        test_X = torch.tensor(data_test.X, dtype=params.df_dtype)\n",
    "        test_Y = torch.tensor(data_test.Y0, dtype=params.df_dtype)\n",
    "            \n",
    "        # train q(Y(1)|X)\n",
    "        data_train_ddpm = MyDataSet(Y=data_train.Y[tr_idxs], X=data_train.X[tr_idxs])\n",
    "        data_val = edict()\n",
    "        data_val.c = val_X\n",
    "        data_val.x = val_Y\n",
    "        input_params = edict(deepcopy(params.ddpm_training))\n",
    "        input_params.pop(\"n_epoch\")\n",
    "        input_params.pop(\"early_stop\")\n",
    "        input_params.pop(\"early_stop_dict\")\n",
    "        myddpm = TrainDDPM(data_train_ddpm, save_dir=params.save_dir, verbose=params.verbose, prefix=f\"rep{rep_ix}_{post_fix}\", \n",
    "                           device=params.device,\n",
    "                           **input_params);\n",
    "        \n",
    "        \n",
    "        myddpm.train(n_epoch=params.ddpm_training.n_epoch, \n",
    "                         data_val=data_val, save_snapshot=params.save_snapshot, \n",
    "                         early_stop=params.ddpm_training.early_stop, \n",
    "                         early_stop_dict=params.ddpm_training.early_stop_dict\n",
    "                         )\n",
    "        def _inner_fn(X, Y, ddpm, gen_type=\"ddpm\", gen_params={\"ddim_eta\": 1}):\n",
    "            wcf = WeightedConformalInference(cal_X, \n",
    "                                             cal_Y,\n",
    "                                             ddpm, ws_fn=wsfun, verbose=2, \n",
    "                                             gen_type=gen_type,\n",
    "                                             seed=manualSeed,\n",
    "                                             n_jobs=params.n_jobs,\n",
    "                                             inf_bs=params.inf_bs,\n",
    "                                             device=params.device,\n",
    "                                             gen_params=gen_params,\n",
    "                                             wcf_params={\n",
    "                                                \"K\": params.K, # num of sps for each X\n",
    "                                                \"nwhigh\" : params.wconformal.nwthigh,\n",
    "                                                \"nwlow\" : params.wconformal.nwtlow,\n",
    "                                                \"useinf\": params.wconformal.useinf,\n",
    "                                             })\n",
    "            # get the len of CI based on intvs, there intvs is a list, each ele is another list contains CIs ele=[CI1, CI2]\n",
    "            _get_intvs_len = lambda intvs: np.array([sum([np.diff(iv) for iv in intv])[0] for intv in intvs]);\n",
    "            # get weather vaule in vs is in CI in intvs or not \n",
    "            def _get_inset(vs, intvs):\n",
    "                in_set = []\n",
    "                for v, intv in zip(vs, intvs):\n",
    "                    in_set.append(np.sum([np.bitwise_and(v>iv[0], v<iv[1]) for iv in intv]))\n",
    "                in_set = np.array(in_set)\n",
    "                return in_set\n",
    "            intvs = wcf(X, alpha=params.hypo_test.alpha)\n",
    "            prbs = np.mean(_get_inset(Y, intvs))\n",
    "            mlen = np.median(_get_intvs_len(intvs))\n",
    "            return prbs, mlen\n",
    "        \n",
    "            \n",
    "            \n",
    "        \n",
    "        # get the results\n",
    "        res_all = edict()\n",
    "        \n",
    "        # results under the final model\n",
    "        ddpm = myddpm.ddpm\n",
    "        ddpm.eval()\n",
    "        res_all.DDIM = _inner_fn(test_X, test_Y, ddpm, gen_type=\"ddim\")\n",
    "        res_all.DDIM_val = _inner_fn(val_X, val_Y, ddpm, gen_type=\"ddim\")\n",
    "        \n",
    "        # naive way\n",
    "        def _naive_sps(tX, tY, ddpm):\n",
    "            sampler = NaiveSample(ddpm, gen_type=\"ddim\", verbose=params.verbose, device=params.device, gen_params={})\n",
    "            if not isinstance(tY, np.ndarray):\n",
    "                tY = tY.cpu().numpy()\n",
    "            predYs = sampler.gen_fn_wrapper(tX, nsps=200, inf_bs=5, seed=manualSeed, n_jobs=params.n_jobs);\n",
    "            naive_CIs = torch.quantile(predYs, torch.tensor([params.hypo_test.alpha/2, 1-params.hypo_test.alpha/2], \n",
    "                                                        dtype=params.df_dtype), axis=1).T.cpu().numpy();\n",
    "            mlen_naive = np.median(naive_CIs[:, 1] -  naive_CIs[:, 0])\n",
    "            prb_Y0_naive = np.bitwise_and(tY>naive_CIs[:, 0], tY<naive_CIs[:, 1]).mean()\n",
    "            return (prb_Y0_naive, mlen_naive)\n",
    "        #res_all.naive = _naive_sps(test_X, test_Y, ddpm)\n",
    "        #res_all.naive_val = _naive_sps(val_X, val_Y, ddpm)\n",
    "       \n",
    "            \n",
    "            \n",
    "        for model_ix in range(params.save_snapshot, params.ddpm_training.n_epoch, params.save_snapshot):\n",
    "            ddpm = myddpm.get_model(model_ix)\n",
    "            ddpm.eval()\n",
    "            res_all[f\"DDIM_ep{model_ix}\"] = _inner_fn(test_X, test_Y, ddpm, gen_type=\"ddim\")\n",
    "            res_all[f\"DDIM_ep{model_ix}_val\"] = _inner_fn(val_X, val_Y, ddpm, gen_type=\"ddim\")\n",
    "            #res_all[f\"naive_ep{model_ix}\"] = _naive_sps(test_X, test_Y, ddpm)\n",
    "            #res_all[f\"naive_ep{model_ix}_val\"] = _naive_sps(val_X, val_Y, ddpm)\n",
    "            \n",
    "            \n",
    "        # results from CQR\n",
    "        CQR_CIs = get_CQR_CIs(X=data_train.X, Y=data_train.Y, \n",
    "                              T=data_train.T, Xtest=data_test.X, \n",
    "                              nav=1, \n",
    "                              alpha=params.hypo_test.alpha, \n",
    "                              estimand=\"unconditional\",\n",
    "                              fyx_est=\"quantBoosting\", seed=manualSeed)\n",
    "        mlen_cqr = np.median(CQR_CIs[:, 1] -  CQR_CIs[:, 0])\n",
    "        prb_Y0_cqr = np.bitwise_and(data_test.Y0>CQR_CIs[:, 0], data_test.Y0<CQR_CIs[:, 1]).mean()\n",
    "        res_all.CQR = (prb_Y0_cqr, mlen_cqr)\n",
    "        \n",
    "        # results from CF\n",
    "        CF_CIs = get_CF_CIs(X=data_train.X, Y=data_train.Y, \n",
    "                              T=data_train.T, Xtest=data_test.X, \n",
    "                              seed=manualSeed)\n",
    "        mlen_cf = np.median(CF_CIs[:, 1] -  CF_CIs[:, 0])\n",
    "        prb_Y0_cf = np.bitwise_and((-data_test.Y0)>CF_CIs[:, 0], (-data_test.Y0)<CF_CIs[:, 1]).mean()\n",
    "        res_all.CF= (prb_Y0_cf, mlen_cf)\n",
    "        \n",
    "        \n",
    "        save_pkl((RES_ROOT/params.save_dir)/f\"rep_{rep_ix}_{post_fix}_res.pkl\", res_all, is_force=True)\n",
    "        all_models = list(myddpm.save_dir.glob(f\"{myddpm.prefix}ddpm_epoch*.pth\"))\n",
    "        [m.unlink() for m in all_models]\n",
    "    else:\n",
    "        res_all = edict()\n",
    "        print(f\"As {fil_name} exists, we do not do anything\")"
   ]
  },
  {
   "cell_type": "code",
   "execution_count": 92,
   "id": "1d578ee7-2be8-4fde-ac0c-fe722c1265eb",
   "metadata": {
    "execution": {
     "iopub.execute_input": "2024-01-29T05:42:25.560330Z",
     "iopub.status.busy": "2024-01-29T05:42:25.559689Z",
     "iopub.status.idle": "2024-01-29T05:42:25.680996Z",
     "shell.execute_reply": "2024-01-29T05:42:25.679697Z",
     "shell.execute_reply.started": "2024-01-29T05:42:25.560280Z"
    }
   },
   "outputs": [
    {
     "data": {
      "text/plain": [
       "0.13333333333333333"
      ]
     },
     "execution_count": 92,
     "metadata": {},
     "output_type": "execute_result"
    }
   ],
   "source": [
    "prb_Y0_cf = np.bitwise_and((-data_test.Y0)>CF_CIs[:, 0], (-data_test.Y0)<CF_CIs[:, 1]).mean()"
   ]
  },
  {
   "cell_type": "code",
   "execution_count": 77,
   "id": "88628d5c-b727-4e76-898e-09152b112263",
   "metadata": {
    "execution": {
     "iopub.execute_input": "2024-01-28T21:08:04.915837Z",
     "iopub.status.busy": "2024-01-28T21:08:04.915165Z",
     "iopub.status.idle": "2024-01-28T21:08:04.991940Z",
     "shell.execute_reply": "2024-01-28T21:08:04.991140Z",
     "shell.execute_reply.started": "2024-01-28T21:08:04.915778Z"
    },
    "tags": []
   },
   "outputs": [
    {
     "data": {
      "text/plain": [
       "{'DDIM': [0.92, 4.324089],\n",
       " 'DDIM_val': [0.926829268292683, 4.56832],\n",
       " 'DDIM_ep500': [0.9066666666666666, 6.4914274],\n",
       " 'DDIM_ep500_val': [0.9024390243902439, 6.651561],\n",
       " 'CQR': [0.5066666666666667, 4.300687282623509],\n",
       " 'CF': [0.0, 0.49374900133332833]}"
      ]
     },
     "execution_count": 77,
     "metadata": {},
     "output_type": "execute_result"
    }
   ],
   "source": [
    "res_all"
   ]
  },
  {
   "cell_type": "code",
   "execution_count": null,
   "id": "7f825de0-f6d4-4483-8af8-e5678ee32f32",
   "metadata": {},
   "outputs": [],
   "source": []
  },
  {
   "cell_type": "code",
   "execution_count": 48,
   "id": "eeaf74bf-0fc1-4762-8784-0d1d939cdb78",
   "metadata": {
    "execution": {
     "iopub.execute_input": "2024-01-28T20:28:41.361667Z",
     "iopub.status.busy": "2024-01-28T20:28:41.361002Z",
     "iopub.status.idle": "2024-01-28T20:29:39.397288Z",
     "shell.execute_reply": "2024-01-28T20:29:39.396767Z",
     "shell.execute_reply.started": "2024-01-28T20:28:41.361615Z"
    },
    "scrolled": true,
    "tags": []
   },
   "outputs": [
    {
     "name": "stderr",
     "output_type": "stream",
     "text": [
      "2024-01-28 12:28:41,489 - weighted_conformal_inference - INFO - wcf params is {'K': 40, 'nwhigh': 20, 'nwlow': 0.05, 'useinf': False, 'cf_type': 'PCP'}\n",
      "INFO:weighted_conformal_inference:wcf params is {'K': 40, 'nwhigh': 20, 'nwlow': 0.05, 'useinf': False, 'cf_type': 'PCP'}\n",
      "2024-01-28 12:28:41,491 - weighted_conformal_inference - INFO - gen params is {'ddim_timesteps': 500, 'ddim_eta': 1, 'gen_type': 'ddim'}\n",
      "INFO:weighted_conformal_inference:gen params is {'ddim_timesteps': 500, 'ddim_eta': 1, 'gen_type': 'ddim'}\n",
      "100%|█████████████████████████████████████████████████████████████████████████████| 8/8 [00:00<00:00, 952.49it/s]\n",
      "100%|████████████████████████████████████████████████████████████████████████████| 5/5 [00:00<00:00, 1499.04it/s]\n"
     ]
    }
   ],
   "source": [
    "def _inner_fn1(X, Y, ddpm, gen_type=\"ddpm\", gen_params={\"ddim_eta\": 1}):\n",
    "    wcf = WeightedConformalInference(cal_X, \n",
    "                                       cal_Y,\n",
    "                                       ddpm, ws_fn=wsfun, verbose=2, \n",
    "                                       gen_type=gen_type,\n",
    "                                       seed=manualSeed,\n",
    "                                       n_jobs=params.n_jobs,\n",
    "                                       inf_bs=params.inf_bs,\n",
    "                                       device=params.device,\n",
    "                                       gen_params=gen_params,\n",
    "                                       wcf_params={\n",
    "                                          \"K\": params.K, # num of sps for each X\n",
    "                                          \"nwhigh\" : params.wconformal.nwthigh,\n",
    "                                          \"nwlow\" : params.wconformal.nwtlow,\n",
    "                                          \"useinf\": params.wconformal.useinf,\n",
    "                                       })\n",
    "    # get the len of CI based on intvs, there intvs is a list, each ele is another list contains CIs ele=[CI1, CI2]\n",
    "    _get_intvs_len = lambda intvs: np.array([sum([np.diff(iv) for iv in intv])[0] for intv in intvs]);\n",
    "    # get weather vaule in vs is in CI in intvs or not \n",
    "    def _get_inset(vs, intvs):\n",
    "        in_set = []\n",
    "        for v, intv in zip(vs, intvs):\n",
    "            in_set.append(np.sum([np.bitwise_and(v>iv[0], v<iv[1]) for iv in intv]))\n",
    "        in_set = np.array(in_set)\n",
    "        return in_set\n",
    "    intvs = wcf(X, alpha=params.hypo_test.alpha)\n",
    "    prbs = np.mean(_get_inset(Y, intvs))\n",
    "    mlen = np.median(_get_intvs_len(intvs))\n",
    "    return intvs, Y\n",
    "    \n",
    "res = _inner_fn1(val_X, val_Y, ddpm, gen_type=\"ddim\",  gen_params={\"ddim_eta\": 1, 'ddim_timesteps': 500})\n",
    "_get_intvs_len = lambda intvs: np.array([sum([np.diff(iv) for iv in intv])[0] for intv in intvs]);\n",
    "        "
   ]
  },
  {
   "cell_type": "code",
   "execution_count": 52,
   "id": "674314f9-abc4-4352-a07b-811fde244194",
   "metadata": {
    "execution": {
     "iopub.execute_input": "2024-01-28T20:31:05.163108Z",
     "iopub.status.busy": "2024-01-28T20:31:05.162313Z",
     "iopub.status.idle": "2024-01-28T20:31:05.220024Z",
     "shell.execute_reply": "2024-01-28T20:31:05.219376Z",
     "shell.execute_reply.started": "2024-01-28T20:31:05.163057Z"
    },
    "tags": []
   },
   "outputs": [
    {
     "data": {
      "text/plain": [
       "159.35828"
      ]
     },
     "execution_count": 52,
     "metadata": {},
     "output_type": "execute_result"
    }
   ],
   "source": [
    "_get_intvs_len(res[0]).mean()"
   ]
  },
  {
   "cell_type": "code",
   "execution_count": null,
   "id": "7bb7ed1f-0206-4d9e-a27a-de5d1bfd331b",
   "metadata": {},
   "outputs": [],
   "source": []
  },
  {
   "cell_type": "code",
   "execution_count": null,
   "id": "496e51fd-d72e-4053-bd78-b72a2cfb684e",
   "metadata": {},
   "outputs": [],
   "source": []
  },
  {
   "cell_type": "code",
   "execution_count": 19,
   "id": "f14a0a67-b3ca-4785-b82f-983009757169",
   "metadata": {
    "execution": {
     "iopub.execute_input": "2024-01-13T07:14:15.371474Z",
     "iopub.status.busy": "2024-01-13T07:14:15.371168Z",
     "iopub.status.idle": "2024-01-13T07:14:15.541942Z",
     "shell.execute_reply": "2024-01-13T07:14:15.538470Z",
     "shell.execute_reply.started": "2024-01-13T07:14:15.371456Z"
    },
    "tags": []
   },
   "outputs": [
    {
     "data": {
      "text/plain": [
       "[<matplotlib.lines.Line2D at 0x7efcfb1b4d60>]"
      ]
     },
     "execution_count": 19,
     "metadata": {},
     "output_type": "execute_result"
    },
    {
     "data": {
      "image/png": "[encoded data removed]",
      "text/plain": [
       "<Figure size 1000x500 with 1 Axes>"
      ]
     },
     "metadata": {
      "needs_background": "light"
     },
     "output_type": "display_data"
    }
   ],
   "source": [
    "x, y = np.array(myddpm.losses_val)[:, 0], np.array(myddpm.losses_val)[:, 1]\n",
    "plt.plot(x, y)"
   ]
  },
  {
   "cell_type": "code",
   "execution_count": 122,
   "id": "4d211fb0-0506-43d6-b01d-f8641539d41a",
   "metadata": {
    "execution": {
     "iopub.execute_input": "2024-01-12T20:02:18.078350Z",
     "iopub.status.busy": "2024-01-12T20:02:18.077718Z",
     "iopub.status.idle": "2024-01-12T20:02:25.343006Z",
     "shell.execute_reply": "2024-01-12T20:02:25.342486Z",
     "shell.execute_reply.started": "2024-01-12T20:02:18.078294Z"
    },
    "tags": []
   },
   "outputs": [
    {
     "name": "stderr",
     "output_type": "stream",
     "text": [
      "2024-01-12 12:02:18,153 - ddpm.train_ddpm_now - INFO - We load model /data/rajlab1/user_data/jin/MyResearch/DG-CITE_paper/notebooks/../mypkg/../results/demo_ddpm_setting2_test11/rep0_lr--01_n_infeat-128_n_T-400_weight_decay--01_n_upblk-1_n_downblk-1_ddpm_epoch1500.pth.\n",
      "2024-01-12 12:02:18,185 - weighted_conformal_inference - INFO - wcf params is {'K': 40, 'nwhigh': 20, 'nwlow': 0.05, 'useinf': False, 'cf_type': 'PCP'}\n",
      "2024-01-12 12:02:18,186 - weighted_conformal_inference - INFO - wcf params is {'ddim_timesteps': 50, 'ddim_eta': 1, 'gen_type': 'ddim'}\n",
      "100%|██████████████████████████████████████████████████████████████████████████████████████████████████████████████████████████████████████████| 8/8 [00:00<00:00, 3435.84it/s]\n",
      "100%|████████████████████████████████████████████████████████████████████████████████████████████████████████████████████████████████████████| 25/25 [00:00<00:00, 6298.89it/s]\n",
      "2024-01-12 12:02:22,839 - weighted_conformal_inference - INFO - wcf params is {'K': 40, 'nwhigh': 20, 'nwlow': 0.05, 'useinf': False, 'cf_type': 'PCP'}\n",
      "2024-01-12 12:02:22,840 - weighted_conformal_inference - INFO - wcf params is {'ddim_timesteps': 50, 'ddim_eta': 1, 'gen_type': 'ddim'}\n",
      "100%|██████████████████████████████████████████████████████████████████████████████████████████████████████████████████████████████████████████| 8/8 [00:00<00:00, 6580.59it/s]\n",
      "100%|██████████████████████████████████████████████████████████████████████████████████████████████████████████████████████████████████████████| 5/5 [00:00<00:00, 2989.10it/s]\n"
     ]
    }
   ],
   "source": [
    "ddpm = myddpm.get_model(1500)\n",
    "ddpm.eval()\n",
    "res_all.DDIM0_sel = _inner_fn(test_X, test_Y, ddpm, gen_type=\"ddim\", gen_params={\"ddim_eta\": 1})\n",
    "res_all.DDIM0_sel_val = _inner_fn(val_X, val_Y, ddpm, gen_type=\"ddim\", gen_params={\"ddim_eta\": 1})"
   ]
  },
  {
   "cell_type": "code",
   "execution_count": 10,
   "id": "68a6a547-0fcc-4b39-b3da-9e0719ab16d3",
   "metadata": {
    "execution": {
     "iopub.execute_input": "2024-01-14T21:39:46.943807Z",
     "iopub.status.busy": "2024-01-14T21:39:46.943152Z",
     "iopub.status.idle": "2024-01-14T21:39:47.057895Z",
     "shell.execute_reply": "2024-01-14T21:39:47.056990Z",
     "shell.execute_reply.started": "2024-01-14T21:39:46.943754Z"
    },
    "tags": []
   },
   "outputs": [
    {
     "data": {
      "text/plain": [
       "{'DDIM': [0.974, 8.088068],\n",
       " 'DDIM_val': [0.9536082474226805, 8.102292],\n",
       " 'DDIM_ep500': [0.951, 11.515848],\n",
       " 'DDIM_ep500_val': [0.9072164948453608, 11.734699],\n",
       " 'DDIM_ep1000': [0.958, 8.58436],\n",
       " 'DDIM_ep1000_val': [0.9329896907216495, 8.413291],\n",
       " 'DDIM_ep1500': [0.881, 9.259474],\n",
       " 'DDIM_ep1500_val': [0.9020618556701031, 9.13562],\n",
       " 'DDIM_ep2000': [0.98, 8.448517],\n",
       " 'DDIM_ep2000_val': [0.9536082474226805, 8.400656],\n",
       " 'DDIM_ep2500': [0.984, 8.410965],\n",
       " 'DDIM_ep2500_val': [0.9690721649484536, 8.304659],\n",
       " 'CQR': [0.961, 8.090967784201855]}"
      ]
     },
     "execution_count": 10,
     "metadata": {},
     "output_type": "execute_result"
    }
   ],
   "source": [
    "res_all"
   ]
  },
  {
   "cell_type": "code",
   "execution_count": 24,
   "id": "0fb3712d-bb4e-4325-8d36-e1a88379e383",
   "metadata": {
    "execution": {
     "iopub.execute_input": "2024-01-11T20:35:43.573513Z",
     "iopub.status.busy": "2024-01-11T20:35:43.572939Z",
     "iopub.status.idle": "2024-01-11T20:35:43.628541Z",
     "shell.execute_reply": "2024-01-11T20:35:43.627963Z",
     "shell.execute_reply.started": "2024-01-11T20:35:43.573468Z"
    },
    "scrolled": true,
    "tags": []
   },
   "outputs": [],
   "source": [
    "def _main_fn(rep_ix, params, lr, n_infeat, n_T, weight_decay, n_blk):\n",
    "    manualSeed = rep_ix\n",
    "    random.seed(manualSeed)\n",
    "    np.random.seed(manualSeed)\n",
    "    torch.manual_seed(manualSeed)\n",
    "    torch.use_deterministic_algorithms(True) # Needed for reproducible results\n",
    "    params = edict(deepcopy(params))\n",
    "    params.ddpm_training.n_upblk = n_blk\n",
    "    params.ddpm_training.n_downblk = n_blk\n",
    "    params.ddpm_training.weight_decay = weight_decay\n",
    "    params.ddpm_training.n_T = n_T\n",
    "    params.ddpm_training.lr = lr\n",
    "    params.ddpm_training.n_infeat = n_infeat\n",
    "    keys = [\"lr\", \"n_infeat\", \"n_T\", \"weight_decay\", \"n_upblk\", \"n_downblk\"]\n",
    "    post_fix = _get_name_postfix(keys, params.ddpm_training)\n",
    "    \n",
    "    torch.set_default_dtype(params.df_dtype)\n",
    "    torch.set_default_device(params.device)\n",
    "    \n",
    "    fil_name = (RES_ROOT/params.save_dir)/f\"rep_{rep_ix}_{post_fix}_res.pkl\"\n",
    "        \n",
    "        \n",
    "    if True:\n",
    "    #if not fil_name.exists():\n",
    "        data_train = get_simu_data(n=params.simu_setting.n, \n",
    "                                   d=params.simu_setting.d, \n",
    "                                   is_homo=params.simu_setting.is_homo, \n",
    "                                   rho=params.simu_setting.rho, \n",
    "                                   err_type=params.simu_setting.err_type);\n",
    "        data_test = get_simu_data(n=params.simu_setting.ntest, \n",
    "                                   d=params.simu_setting.d, \n",
    "                                   is_homo=params.simu_setting.is_homo, \n",
    "                                   rho=params.simu_setting.rho,\n",
    "                                   err_type=params.simu_setting.err_type);\n",
    "        \n",
    "        \n",
    "        cal_idxs, val_idxs, tr_idxs = get_idx_sets(all_idxs=np.where(data_train.T)[0], \n",
    "                                                       ratios = [params.simu_setting.cal_ratio, params.simu_setting.val_ratio])\n",
    "                \n",
    "        # get psfun\n",
    "        psY = data_train.T.astype(int)\n",
    "        psX = data_train.X\n",
    "        fit_res = boosting_logi(psY, psX);\n",
    "        def wsfun(X):\n",
    "            eps=1e-10\n",
    "            if isinstance(X, torch.Tensor):\n",
    "                X = X.cpu().numpy()\n",
    "            if X.ndim == 1:\n",
    "                X = X.reshape(1, -1)\n",
    "            est_ps = boosting_pred(X, fit_res)\n",
    "            est_ws = 1/(est_ps+eps)\n",
    "            return torch.tensor(est_ws, dtype=params.df_dtype).to(device=params.device)\n",
    "            \n",
    "        \n",
    "        cal_X = torch.tensor(data_train.X[cal_idxs], dtype=params.df_dtype)\n",
    "        cal_Y = torch.tensor(data_train.Y1[cal_idxs], dtype=params.df_dtype)\n",
    "        val_X = torch.tensor(data_train.X[val_idxs], dtype=params.df_dtype)\n",
    "        val_Y = torch.tensor(data_train.Y1[val_idxs], dtype=params.df_dtype)\n",
    "        test_X = torch.tensor(data_test.X, dtype=params.df_dtype)\n",
    "        test_Y = torch.tensor(data_test.Y1, dtype=params.df_dtype)\n",
    "            \n",
    "        # train q(Y(1)|X)\n",
    "        data_train_ddpm = MyDataSet(Y=data_train.Y[tr_idxs], X=data_train.X[tr_idxs])\n",
    "        data_val = edict()\n",
    "        data_val.c = val_X\n",
    "        data_val.x = val_Y\n",
    "        input_params = edict(deepcopy(params.ddpm_training))\n",
    "        input_params.pop(\"n_epoch\")\n",
    "        input_params.pop(\"early_stop\")\n",
    "        input_params.pop(\"early_stop_dict\")\n",
    "        myddpm = TrainDDPM(data_train_ddpm, save_dir=params.save_dir, verbose=params.verbose, prefix=f\"rep{rep_ix}_{post_fix}\", \n",
    "                           device=params.device,\n",
    "                           **input_params);\n",
    "        \n",
    "        \n",
    "        myddpm.train(n_epoch=params.ddpm_training.n_epoch, \n",
    "                         data_val=data_val, save_snapshot=params.save_snapshot, \n",
    "                         early_stop=params.ddpm_training.early_stop, \n",
    "                         early_stop_dict=params.ddpm_training.early_stop_dict\n",
    "                         )\n",
    "        def _inner_fn(X, Y, ddpm, gen_type=\"ddpm\"):\n",
    "            wcf = WeightedConformalInference(cal_X, \n",
    "                                             cal_Y,\n",
    "                                             ddpm, ws_fn=wsfun, verbose=2, \n",
    "                                             gen_type=gen_type,\n",
    "                                             seed=manualSeed,\n",
    "                                             n_jobs=params.n_jobs,\n",
    "                                             inf_bs=params.inf_bs,\n",
    "                                             device=params.device,\n",
    "                                             gen_params={\"ddim_eta\": 1},\n",
    "                                             wcf_params={\n",
    "                                                \"K\": params.K, # num of sps for each X\n",
    "                                                \"nwhigh\" : params.wconformal.nwthigh,\n",
    "                                                \"nwlow\" : params.wconformal.nwtlow,\n",
    "                                                \"useinf\": params.wconformal.useinf,\n",
    "                                             })\n",
    "            # get the len of CI based on intvs, there intvs is a list, each ele is another list contains CIs ele=[CI1, CI2]\n",
    "            _get_intvs_len = lambda intvs: np.array([sum([np.diff(iv) for iv in intv])[0] for intv in intvs]);\n",
    "            # get weather vaule in vs is in CI in intvs or not \n",
    "            def _get_inset(vs, intvs):\n",
    "                in_set = []\n",
    "                for v, intv in zip(vs, intvs):\n",
    "                    in_set.append(np.sum([np.bitwise_and(v>iv[0], v<iv[1]) for iv in intv]))\n",
    "                in_set = np.array(in_set)\n",
    "                return in_set\n",
    "            intvs = wcf(X, alpha=params.hypo_test.alpha)\n",
    "            prbs = np.mean(_get_inset(Y, intvs))\n",
    "            mlen = np.median(_get_intvs_len(intvs))\n",
    "            return prbs, mlen\n",
    "        \n",
    "            \n",
    "            \n",
    "        \n",
    "        # get the results\n",
    "        res_all = edict()\n",
    "        \n",
    "        # results under the final model\n",
    "        ddpm = myddpm.ddpm\n",
    "        ddpm.eval()\n",
    "        #res_all.DDPM = _inner_fn(test_X, test_Y, ddpm)\n",
    "        res_all.DDIM = _inner_fn(test_X, test_Y, ddpm, gen_type=\"ddim\")\n",
    "        #res_all.DDPM_val = _inner_fn(val_X, val_Y, ddpm)\n",
    "        res_all.DDIM_val = _inner_fn(val_X, val_Y, ddpm, gen_type=\"ddim\")\n",
    "            \n",
    "            \n",
    "        # results under the best model in terms of the error from val set\n",
    "        ddpm = myddpm.get_opt_model()\n",
    "        ddpm.eval()\n",
    "        #res_all.DDPM_sel = _inner_fn(test_X, test_Y, ddpm)\n",
    "        res_all.DDIM_sel = _inner_fn(test_X, test_Y, ddpm, gen_type=\"ddim\")\n",
    "        #res_all.DDPM_sel_val = _inner_fn(val_X, val_Y, ddpm)\n",
    "        res_all.DDIM_sel_val = _inner_fn(val_X, val_Y, ddpm, gen_type=\"ddim\")\n",
    "            \n",
    "            \n",
    "        # results from CQR\n",
    "        CQR_CIs = get_CQR_CIs(X=data_train.X, Y=data_train.Y, \n",
    "                              T=data_train.T, Xtest=data_test.X, \n",
    "                              nav=0, \n",
    "                              alpha=params.hypo_test.alpha, \n",
    "                              estimand=\"unconditional\",\n",
    "                              fyx_est=\"quantBoosting\", seed=manualSeed)\n",
    "        mlen_cqr = np.median(CQR_CIs[:, 1] -  CQR_CIs[:, 0])\n",
    "        prb_Y1_cqr = np.bitwise_and(data_test.Y1>CQR_CIs[:, 0], data_test.Y1<CQR_CIs[:, 1]).mean()\n",
    "        #prb_tau_cqr = np.bitwise_and(data_test.tau>CQR_CIs[:, 0], data_test.tau<CQR_CIs[:, 1]).mean()\n",
    "        \n",
    "        res_all.CQR = (prb_Y1_cqr, mlen_cqr)\n",
    "        save_pkl((RES_ROOT/params.save_dir)/f\"rep_{rep_ix}_{post_fix}_res.pkl\", res_all, is_force=True)\n",
    "        all_models = list(myddpm.save_dir.glob(f\"{myddpm.prefix}ddpm_epoch*.pth\"))\n",
    "        [m.unlink() for m in all_models]\n",
    "    else:\n",
    "        res_all = edict()\n",
    "        print(f\"As {fil_name} exists, we do not do anything\")\n",
    "    return res_all, myddpm"
   ]
  },
  {
   "cell_type": "code",
   "execution_count": 25,
   "id": "9756a00e-a49d-4a30-b027-5cacdc8394a8",
   "metadata": {
    "execution": {
     "iopub.execute_input": "2024-01-11T20:35:48.140671Z",
     "iopub.status.busy": "2024-01-11T20:35:48.140114Z",
     "iopub.status.idle": "2024-01-11T20:37:58.252198Z",
     "shell.execute_reply": "2024-01-11T20:37:58.250978Z",
     "shell.execute_reply.started": "2024-01-11T20:35:48.140628Z"
    },
    "scrolled": true,
    "tags": []
   },
   "outputs": [
    {
     "name": "stderr",
     "output_type": "stream",
     "text": [
      "2024-01-11 12:35:48,578 - ddpm.train_ddpm_now - INFO - The results are saved at /data/rajlab1/user_data/jin/MyResearch/DG-CITE_paper/notebooks/../mypkg/../results/demo_ddpm_setting2_test11.\n",
      "2024-01-11 12:35:48,587 - ddpm.train_ddpm_now - INFO - The params is {'lr': 0.01, 'batch_size': 256, 'device': 'cpu', 'n_T': 400, 'n_infeat': 128, 'n_upblk': 1, 'n_downblk': 1, 'betas': [0.0001, 0.02], 'lr_gamma': 0.5, 'lr_step': 1000, 'test_intv': 5, 'weight_decay': 0.01}\n",
      "2024-01-11 12:35:48,588 - ddpm.train_ddpm_now - WARNING - We do not do early stop, so any args in early_stop_dict are ignored.\n"
     ]
    },
    {
     "name": "stdout",
     "output_type": "stream",
     "text": [
      "The num of params is 0.32m. \n",
      "Adjusting learning rate of group 0 to 1.0000e-02.\n"
     ]
    },
    {
     "name": "stderr",
     "output_type": "stream",
     "text": [
      "loss: 0.4021:   3%|███▍                                                                                                      | 98/3000 [00:03<01:40, 28.90it/s, val loss=0.533]2024-01-11 12:35:52,024 - ddpm.train_ddpm_now - INFO - Save model rep0_lr--01_n_infeat-128_n_T-400_weight_decay--01_n_upblk-1_n_downblk-1_ddpm_epoch100.pth.\n",
      "loss: 0.4844:   7%|██████▉                                                                                                  | 197/3000 [00:07<01:49, 25.62it/s, val loss=0.681]2024-01-11 12:35:55,599 - ddpm.train_ddpm_now - INFO - Save model rep0_lr--01_n_infeat-128_n_T-400_weight_decay--01_n_upblk-1_n_downblk-1_ddpm_epoch200.pth.\n",
      "loss: 0.3430:  10%|██████████▍                                                                                              | 297/3000 [00:10<01:35, 28.41it/s, val loss=0.672]2024-01-11 12:35:59,427 - ddpm.train_ddpm_now - INFO - Save model rep0_lr--01_n_infeat-128_n_T-400_weight_decay--01_n_upblk-1_n_downblk-1_ddpm_epoch300.pth.\n",
      "loss: 0.3310:  13%|█████████████▉                                                                                           | 399/3000 [00:14<01:31, 28.39it/s, val loss=0.889]2024-01-11 12:36:03,045 - ddpm.train_ddpm_now - INFO - Save model rep0_lr--01_n_infeat-128_n_T-400_weight_decay--01_n_upblk-1_n_downblk-1_ddpm_epoch400.pth.\n",
      "loss: 0.2970:  17%|██████████████████                                                                                           | 498/3000 [00:18<01:47, 23.19it/s, val loss=1]2024-01-11 12:36:07,199 - ddpm.train_ddpm_now - INFO - Save model rep0_lr--01_n_infeat-128_n_T-400_weight_decay--01_n_upblk-1_n_downblk-1_ddpm_epoch500.pth.\n",
      "loss: 0.3435:  20%|████████████████████▉                                                                                    | 597/3000 [00:22<01:29, 26.82it/s, val loss=0.993]2024-01-11 12:36:11,170 - ddpm.train_ddpm_now - INFO - Save model rep0_lr--01_n_infeat-128_n_T-400_weight_decay--01_n_upblk-1_n_downblk-1_ddpm_epoch600.pth.\n",
      "loss: 0.3111:  23%|████████████████████████▍                                                                                | 698/3000 [00:26<01:18, 29.24it/s, val loss=0.936]2024-01-11 12:36:14,633 - ddpm.train_ddpm_now - INFO - Save model rep0_lr--01_n_infeat-128_n_T-400_weight_decay--01_n_upblk-1_n_downblk-1_ddpm_epoch700.pth.\n",
      "loss: 0.2514:  27%|███████████████████████████▉                                                                             | 797/3000 [00:29<01:21, 27.07it/s, val loss=0.992]2024-01-11 12:36:18,369 - ddpm.train_ddpm_now - INFO - Save model rep0_lr--01_n_infeat-128_n_T-400_weight_decay--01_n_upblk-1_n_downblk-1_ddpm_epoch800.pth.\n",
      "loss: 0.3532:  30%|███████████████████████████████▋                                                                          | 896/3000 [00:33<01:09, 30.25it/s, val loss=1.16]2024-01-11 12:36:22,211 - ddpm.train_ddpm_now - INFO - Save model rep0_lr--01_n_infeat-128_n_T-400_weight_decay--01_n_upblk-1_n_downblk-1_ddpm_epoch900.pth.\n",
      "loss: 0.2307:  33%|███████████████████████████████████▏                                                                      | 997/3000 [00:37<01:15, 26.66it/s, val loss=1.38]2024-01-11 12:36:26,062 - ddpm.train_ddpm_now - INFO - Save model rep0_lr--01_n_infeat-128_n_T-400_weight_decay--01_n_upblk-1_n_downblk-1_ddpm_epoch1000.pth.\n",
      "loss: 0.2447:  33%|███████████████████████████████████                                                                      | 1003/3000 [00:37<01:26, 23.06it/s, val loss=1.38]"
     ]
    },
    {
     "name": "stdout",
     "output_type": "stream",
     "text": [
      "Adjusting learning rate of group 0 to 5.0000e-03.\n"
     ]
    },
    {
     "name": "stderr",
     "output_type": "stream",
     "text": [
      "loss: 0.2046:  37%|██████████████████████████████████████                                                                  | 1099/3000 [00:41<01:05, 28.89it/s, val loss=0.978]2024-01-11 12:36:29,769 - ddpm.train_ddpm_now - INFO - Save model rep0_lr--01_n_infeat-128_n_T-400_weight_decay--01_n_upblk-1_n_downblk-1_ddpm_epoch1100.pth.\n",
      "loss: 0.2315:  40%|█████████████████████████████████████████▉                                                               | 1197/3000 [00:44<01:03, 28.32it/s, val loss=1.31]2024-01-11 12:36:33,299 - ddpm.train_ddpm_now - INFO - Save model rep0_lr--01_n_infeat-128_n_T-400_weight_decay--01_n_upblk-1_n_downblk-1_ddpm_epoch1200.pth.\n",
      "loss: 0.1705:  43%|█████████████████████████████████████████████▍                                                           | 1298/3000 [00:48<01:01, 27.52it/s, val loss=1.86]2024-01-11 12:36:36,939 - ddpm.train_ddpm_now - INFO - Save model rep0_lr--01_n_infeat-128_n_T-400_weight_decay--01_n_upblk-1_n_downblk-1_ddpm_epoch1300.pth.\n",
      "loss: 0.2525:  47%|████████████████████████████████████████████████▉                                                        | 1397/3000 [00:52<00:59, 27.14it/s, val loss=1.61]2024-01-11 12:36:40,599 - ddpm.train_ddpm_now - INFO - Save model rep0_lr--01_n_infeat-128_n_T-400_weight_decay--01_n_upblk-1_n_downblk-1_ddpm_epoch1400.pth.\n",
      "loss: 0.2009:  50%|████████████████████████████████████████████████████▍                                                    | 1498/3000 [00:55<01:01, 24.29it/s, val loss=1.89]2024-01-11 12:36:44,293 - ddpm.train_ddpm_now - INFO - Save model rep0_lr--01_n_infeat-128_n_T-400_weight_decay--01_n_upblk-1_n_downblk-1_ddpm_epoch1500.pth.\n",
      "loss: 0.1559:  53%|███████████████████████████████████████████████████████▉                                                 | 1598/3000 [00:59<00:52, 26.59it/s, val loss=1.22]2024-01-11 12:36:48,025 - ddpm.train_ddpm_now - INFO - Save model rep0_lr--01_n_infeat-128_n_T-400_weight_decay--01_n_upblk-1_n_downblk-1_ddpm_epoch1600.pth.\n",
      "loss: 0.2088:  57%|███████████████████████████████████████████████████████████▍                                             | 1698/3000 [01:03<00:54, 23.95it/s, val loss=1.52]2024-01-11 12:36:51,897 - ddpm.train_ddpm_now - INFO - Save model rep0_lr--01_n_infeat-128_n_T-400_weight_decay--01_n_upblk-1_n_downblk-1_ddpm_epoch1700.pth.\n",
      "loss: 0.2112:  60%|██████████████████████████████████████████████████████████████▉                                          | 1797/3000 [01:06<00:47, 25.09it/s, val loss=1.44]2024-01-11 12:36:55,277 - ddpm.train_ddpm_now - INFO - Save model rep0_lr--01_n_infeat-128_n_T-400_weight_decay--01_n_upblk-1_n_downblk-1_ddpm_epoch1800.pth.\n",
      "loss: 0.2159:  63%|██████████████████████████████████████████████████████████████████▍                                      | 1898/3000 [01:10<00:37, 29.61it/s, val loss=1.32]2024-01-11 12:36:59,377 - ddpm.train_ddpm_now - INFO - Save model rep0_lr--01_n_infeat-128_n_T-400_weight_decay--01_n_upblk-1_n_downblk-1_ddpm_epoch1900.pth.\n",
      "loss: 0.1785:  67%|█████████████████████████████████████████████████████████████████████▉                                   | 1997/3000 [01:13<00:31, 31.44it/s, val loss=1.56]2024-01-11 12:37:02,574 - ddpm.train_ddpm_now - INFO - Save model rep0_lr--01_n_infeat-128_n_T-400_weight_decay--01_n_upblk-1_n_downblk-1_ddpm_epoch2000.pth.\n",
      "loss: 0.1959:  67%|██████████████████████████████████████████████████████████████████████▏                                  | 2005/3000 [01:14<00:33, 29.76it/s, val loss=1.51]"
     ]
    },
    {
     "name": "stdout",
     "output_type": "stream",
     "text": [
      "Adjusting learning rate of group 0 to 2.5000e-03.\n"
     ]
    },
    {
     "name": "stderr",
     "output_type": "stream",
     "text": [
      "loss: 0.1595:  70%|█████████████████████████████████████████████████████████████████████████▍                               | 2099/3000 [01:17<00:38, 23.66it/s, val loss=1.82]2024-01-11 12:37:06,057 - ddpm.train_ddpm_now - INFO - Save model rep0_lr--01_n_infeat-128_n_T-400_weight_decay--01_n_upblk-1_n_downblk-1_ddpm_epoch2100.pth.\n",
      "loss: 0.1667:  73%|████████████████████████████████████████████████████████████████████████████▉                            | 2198/3000 [01:21<00:28, 28.59it/s, val loss=2.16]2024-01-11 12:37:09,817 - ddpm.train_ddpm_now - INFO - Save model rep0_lr--01_n_infeat-128_n_T-400_weight_decay--01_n_upblk-1_n_downblk-1_ddpm_epoch2200.pth.\n",
      "loss: 0.1976:  77%|█████████████████████████████████████████████████████████████████████████████████▏                        | 2297/3000 [01:24<00:24, 28.58it/s, val loss=1.4]2024-01-11 12:37:13,392 - ddpm.train_ddpm_now - INFO - Save model rep0_lr--01_n_infeat-128_n_T-400_weight_decay--01_n_upblk-1_n_downblk-1_ddpm_epoch2300.pth.\n",
      "loss: 0.1601:  80%|███████████████████████████████████████████████████████████████████████████████████▉                     | 2399/3000 [01:28<00:19, 30.44it/s, val loss=1.43]2024-01-11 12:37:16,930 - ddpm.train_ddpm_now - INFO - Save model rep0_lr--01_n_infeat-128_n_T-400_weight_decay--01_n_upblk-1_n_downblk-1_ddpm_epoch2400.pth.\n",
      "loss: 0.2279:  83%|███████████████████████████████████████████████████████████████████████████████████████▍                 | 2498/3000 [01:31<00:21, 23.35it/s, val loss=1.73]2024-01-11 12:37:20,525 - ddpm.train_ddpm_now - INFO - Save model rep0_lr--01_n_infeat-128_n_T-400_weight_decay--01_n_upblk-1_n_downblk-1_ddpm_epoch2500.pth.\n",
      "loss: 0.1576:  87%|██████████████████████████████████████████████████████████████████████████████████████████▉              | 2599/3000 [01:35<00:13, 28.98it/s, val loss=2.55]2024-01-11 12:37:24,421 - ddpm.train_ddpm_now - INFO - Save model rep0_lr--01_n_infeat-128_n_T-400_weight_decay--01_n_upblk-1_n_downblk-1_ddpm_epoch2600.pth.\n",
      "loss: 0.1472:  90%|██████████████████████████████████████████████████████████████████████████████████████████████▍          | 2698/3000 [01:38<00:09, 32.03it/s, val loss=1.88]2024-01-11 12:37:27,581 - ddpm.train_ddpm_now - INFO - Save model rep0_lr--01_n_infeat-128_n_T-400_weight_decay--01_n_upblk-1_n_downblk-1_ddpm_epoch2700.pth.\n",
      "loss: 0.1551:  93%|█████████████████████████████████████████████████████████████████████████████████████████████████▉       | 2797/3000 [01:42<00:06, 30.45it/s, val loss=2.04]2024-01-11 12:37:31,349 - ddpm.train_ddpm_now - INFO - Save model rep0_lr--01_n_infeat-128_n_T-400_weight_decay--01_n_upblk-1_n_downblk-1_ddpm_epoch2800.pth.\n",
      "loss: 0.1562:  97%|█████████████████████████████████████████████████████████████████████████████████████████████████████▍   | 2899/3000 [01:46<00:03, 28.11it/s, val loss=2.02]2024-01-11 12:37:35,050 - ddpm.train_ddpm_now - INFO - Save model rep0_lr--01_n_infeat-128_n_T-400_weight_decay--01_n_upblk-1_n_downblk-1_ddpm_epoch2900.pth.\n",
      "loss: 0.1746: 100%|████████████████████████████████████████████████████████████████████████████████████████████████████████▉| 2997/3000 [01:49<00:00, 27.75it/s, val loss=2.02]2024-01-11 12:37:38,465 - ddpm.train_ddpm_now - INFO - Save model rep0_lr--01_n_infeat-128_n_T-400_weight_decay--01_n_upblk-1_n_downblk-1_ddpm_epoch3000.pth.\n",
      "loss: 0.1746: 100%|█████████████████████████████████████████████████████████████████████████████████████████████████████████| 3000/3000 [01:49<00:00, 27.30it/s, val loss=2.02]\n",
      "2024-01-11 12:37:38,493 - weighted_conformal_inference - INFO - wcf params is {'K': 40, 'nwhigh': 20, 'nwlow': 0.05, 'useinf': False, 'cf_type': 'PCP'}\n",
      "2024-01-11 12:37:38,493 - weighted_conformal_inference - INFO - wcf params is {'ddim_timesteps': 50, 'ddim_eta': 1, 'gen_type': 'ddim'}\n"
     ]
    },
    {
     "name": "stdout",
     "output_type": "stream",
     "text": [
      "Adjusting learning rate of group 0 to 1.2500e-03.\n"
     ]
    },
    {
     "name": "stderr",
     "output_type": "stream",
     "text": [
      "100%|██████████████████████████████████████████████████████████████████████████████████████████████████████████████████████████████████████████| 8/8 [00:00<00:00, 3021.29it/s]\n",
      "100%|████████████████████████████████████████████████████████████████████████████████████████████████████████████████████████████████████████| 25/25 [00:00<00:00, 1237.17it/s]\n",
      "2024-01-11 12:37:47,189 - weighted_conformal_inference - INFO - wcf params is {'K': 40, 'nwhigh': 20, 'nwlow': 0.05, 'useinf': False, 'cf_type': 'PCP'}\n",
      "2024-01-11 12:37:47,190 - weighted_conformal_inference - INFO - wcf params is {'ddim_timesteps': 50, 'ddim_eta': 1, 'gen_type': 'ddim'}\n",
      "100%|█████████████████████████████████████████████████████████████████████████████████████████████████████████████████████████████████████████| 8/8 [00:00<00:00, 10929.78it/s]\n",
      "100%|██████████████████████████████████████████████████████████████████████████████████████████████████████████████████████████████████████████| 5/5 [00:00<00:00, 2450.23it/s]\n",
      "2024-01-11 12:37:49,428 - ddpm.train_ddpm_now - INFO - We load model /data/rajlab1/user_data/jin/MyResearch/DG-CITE_paper/notebooks/../mypkg/../results/demo_ddpm_setting2_test11/rep0_lr--01_n_infeat-128_n_T-400_weight_decay--01_n_upblk-1_n_downblk-1_ddpm_epoch200.pth with val loss 0.730.\n",
      "2024-01-11 12:37:49,540 - weighted_conformal_inference - INFO - wcf params is {'K': 40, 'nwhigh': 20, 'nwlow': 0.05, 'useinf': False, 'cf_type': 'PCP'}\n",
      "2024-01-11 12:37:49,541 - weighted_conformal_inference - INFO - wcf params is {'ddim_timesteps': 50, 'ddim_eta': 1, 'gen_type': 'ddim'}\n",
      "100%|██████████████████████████████████████████████████████████████████████████████████████████████████████████████████████████████████████████| 8/8 [00:00<00:00, 6170.36it/s]\n",
      "100%|████████████████████████████████████████████████████████████████████████████████████████████████████████████████████████████████████████| 25/25 [00:00<00:00, 1291.54it/s]\n",
      "2024-01-11 12:37:54,639 - weighted_conformal_inference - INFO - wcf params is {'K': 40, 'nwhigh': 20, 'nwlow': 0.05, 'useinf': False, 'cf_type': 'PCP'}\n",
      "2024-01-11 12:37:54,639 - weighted_conformal_inference - INFO - wcf params is {'ddim_timesteps': 50, 'ddim_eta': 1, 'gen_type': 'ddim'}\n",
      "100%|██████████████████████████████████████████████████████████████████████████████████████████████████████████████████████████████████████████| 8/8 [00:00<00:00, 9644.85it/s]\n",
      "100%|██████████████████████████████████████████████████████████████████████████████████████████████████████████████████████████████████████████| 5/5 [00:00<00:00, 2451.38it/s]\n"
     ]
    },
    {
     "name": "stdout",
     "output_type": "stream",
     "text": [
      "Save to /data/rajlab1/user_data/jin/MyResearch/DG-CITE_paper/notebooks/../mypkg/../results/demo_ddpm_setting2_test11/rep_0_lr--01_n_infeat-128_n_T-400_weight_decay--01_n_upblk-1_n_downblk-1_res.pkl\n"
     ]
    },
    {
     "data": {
      "text/plain": [
       "({'DDIM': [0.947, 5.902583],\n",
       "  'DDIM_val': [0.93048128342246, 5.926076],\n",
       "  'DDIM_sel': [0.944, 7.4418364],\n",
       "  'DDIM_sel_val': [0.946524064171123, 7.41542],\n",
       "  'CQR': [0.961, 6.726642395023848]},\n",
       " <ddpm.train_ddpm_now.TrainDDPM at 0x7f8d4b72ca60>)"
      ]
     },
     "execution_count": 25,
     "metadata": {},
     "output_type": "execute_result"
    }
   ],
   "source": [
    "res_all = _main_fn(rep_ix=0, params=params, lr=1e-2, n_infeat=128, n_T=400, weight_decay=1e-2, n_blk=1)"
   ]
  },
  {
   "cell_type": "code",
   "execution_count": 26,
   "id": "556c8197-0017-4c0b-bb60-5f076493bd81",
   "metadata": {
    "execution": {
     "iopub.execute_input": "2024-01-11T20:38:00.162067Z",
     "iopub.status.busy": "2024-01-11T20:38:00.161478Z",
     "iopub.status.idle": "2024-01-11T20:38:00.242647Z",
     "shell.execute_reply": "2024-01-11T20:38:00.241934Z",
     "shell.execute_reply.started": "2024-01-11T20:38:00.162014Z"
    },
    "tags": []
   },
   "outputs": [
    {
     "data": {
      "text/plain": [
       "({'DDIM': [0.947, 5.902583],\n",
       "  'DDIM_val': [0.93048128342246, 5.926076],\n",
       "  'DDIM_sel': [0.944, 7.4418364],\n",
       "  'DDIM_sel_val': [0.946524064171123, 7.41542],\n",
       "  'CQR': [0.961, 6.726642395023848]},\n",
       " <ddpm.train_ddpm_now.TrainDDPM at 0x7f8d4b72ca60>)"
      ]
     },
     "execution_count": 26,
     "metadata": {},
     "output_type": "execute_result"
    }
   ],
   "source": [
    "res_all"
   ]
  },
  {
   "cell_type": "code",
   "execution_count": 29,
   "id": "ea727f0b-a705-4a30-8ae9-9d450759ffd0",
   "metadata": {
    "execution": {
     "iopub.execute_input": "2023-12-27T19:20:25.695461Z",
     "iopub.status.busy": "2023-12-27T19:20:25.694798Z",
     "iopub.status.idle": "2023-12-27T19:20:25.915082Z",
     "shell.execute_reply": "2023-12-27T19:20:25.913744Z",
     "shell.execute_reply.started": "2023-12-27T19:20:25.695412Z"
    },
    "tags": []
   },
   "outputs": [
    {
     "data": {
      "text/plain": [
       "<ddpm.train_ddpm_now.TrainDDPM at 0x7f36d8070640>"
      ]
     },
     "execution_count": 29,
     "metadata": {},
     "output_type": "execute_result"
    }
   ],
   "source": [
    "myddpm = res[1]"
   ]
  },
  {
   "cell_type": "code",
   "execution_count": 30,
   "id": "6f423688-ed69-4a2e-b711-02aa5f8f0248",
   "metadata": {
    "execution": {
     "iopub.execute_input": "2023-12-27T19:20:26.053624Z",
     "iopub.status.busy": "2023-12-27T19:20:26.052900Z",
     "iopub.status.idle": "2023-12-27T19:20:26.197302Z",
     "shell.execute_reply": "2023-12-27T19:20:26.196841Z",
     "shell.execute_reply.started": "2023-12-27T19:20:26.053578Z"
    },
    "tags": []
   },
   "outputs": [
    {
     "data": {
      "text/plain": [
       "[<matplotlib.lines.Line2D at 0x7f36ac2ea520>]"
      ]
     },
     "execution_count": 30,
     "metadata": {},
     "output_type": "execute_result"
    },
    {
     "data": {
      "image/png": "[encoded data removed]",
      "text/plain": [
       "<Figure size 1000x500 with 1 Axes>"
      ]
     },
     "metadata": {
      "needs_background": "light"
     },
     "output_type": "display_data"
    }
   ],
   "source": [
    "eps = np.array(myddpm.losses)[:, 0]\n",
    "loss = np.array(myddpm.losses)[:, 1]\n",
    "eps_val = np.array(myddpm.losses_val)[:, 0]\n",
    "loss_val = np.array(myddpm.losses_val)[:, 1];\n",
    "plt.plot(eps, loss)\n",
    "plt.plot(eps_val, loss_val)"
   ]
  },
  {
   "cell_type": "markdown",
   "id": "ef54f9d2-2685-4fd0-8842-ea89930ea690",
   "metadata": {},
   "source": [
    "# evaluate"
   ]
  },
  {
   "cell_type": "code",
   "execution_count": 11,
   "id": "ee619015-f41f-4070-a4dd-64f0bbe78758",
   "metadata": {
    "execution": {
     "iopub.execute_input": "2024-01-14T21:40:43.822037Z",
     "iopub.status.busy": "2024-01-14T21:40:43.821413Z",
     "iopub.status.idle": "2024-01-14T21:40:43.879934Z",
     "shell.execute_reply": "2024-01-14T21:40:43.879261Z",
     "shell.execute_reply.started": "2024-01-14T21:40:43.821987Z"
    },
    "tags": []
   },
   "outputs": [],
   "source": [
    "data_test = get_simu_data(n=params.simu_setting.ntest, \n",
    "                               d=params.simu_setting.d, \n",
    "                               is_homo=params.simu_setting.is_homo, \n",
    "                               rho=params.simu_setting.rho);\n",
    "\n",
    "Y1t = torch.tensor(data_test.Y1, dtype=params.df_dtype)\n",
    "Xt = torch.tensor(data_test.X, dtype=params.df_dtype);"
   ]
  },
  {
   "cell_type": "code",
   "execution_count": 13,
   "id": "585f4360-a6ca-49da-82ad-e2ab5a477122",
   "metadata": {
    "execution": {
     "iopub.execute_input": "2024-01-14T21:40:50.433141Z",
     "iopub.status.busy": "2024-01-14T21:40:50.432536Z",
     "iopub.status.idle": "2024-01-14T21:40:50.567876Z",
     "shell.execute_reply": "2024-01-14T21:40:50.566702Z",
     "shell.execute_reply.started": "2024-01-14T21:40:50.433091Z"
    },
    "scrolled": true,
    "tags": []
   },
   "outputs": [
    {
     "ename": "ValueError",
     "evalue": "attempt to get argmin of an empty sequence",
     "output_type": "error",
     "traceback": [
      "\u001b[0;31m---------------------------------------------------------------------------\u001b[0m",
      "\u001b[0;31mValueError\u001b[0m                                Traceback (most recent call last)",
      "\u001b[0;32m/tmp/ipykernel_20477/662281859.py\u001b[0m in \u001b[0;36m<module>\u001b[0;34m\u001b[0m\n\u001b[1;32m      1\u001b[0m \u001b[0mress\u001b[0m \u001b[0;34m=\u001b[0m \u001b[0;34m[\u001b[0m\u001b[0;34m]\u001b[0m\u001b[0;34m\u001b[0m\u001b[0;34m\u001b[0m\u001b[0m\n\u001b[1;32m      2\u001b[0m \u001b[0;32mfor\u001b[0m \u001b[0mm_ix\u001b[0m \u001b[0;32min\u001b[0m \u001b[0mlist\u001b[0m\u001b[0;34m(\u001b[0m\u001b[0mrange\u001b[0m\u001b[0;34m(\u001b[0m\u001b[0;36m500\u001b[0m\u001b[0;34m,\u001b[0m \u001b[0;36m3000\u001b[0m\u001b[0;34m,\u001b[0m \u001b[0;36m500\u001b[0m\u001b[0;34m)\u001b[0m\u001b[0;34m)\u001b[0m\u001b[0;34m:\u001b[0m\u001b[0;34m\u001b[0m\u001b[0;34m\u001b[0m\u001b[0m\n\u001b[0;32m----> 3\u001b[0;31m     \u001b[0mddpm\u001b[0m \u001b[0;34m=\u001b[0m \u001b[0mmyddpm\u001b[0m\u001b[0;34m.\u001b[0m\u001b[0mget_model\u001b[0m\u001b[0;34m(\u001b[0m\u001b[0mm_ix\u001b[0m\u001b[0;34m)\u001b[0m\u001b[0;34m;\u001b[0m\u001b[0;34m\u001b[0m\u001b[0;34m\u001b[0m\u001b[0m\n\u001b[0m\u001b[1;32m      4\u001b[0m     \u001b[0mddpm\u001b[0m\u001b[0;34m.\u001b[0m\u001b[0meval\u001b[0m\u001b[0;34m(\u001b[0m\u001b[0;34m)\u001b[0m\u001b[0;34m\u001b[0m\u001b[0;34m\u001b[0m\u001b[0m\n\u001b[1;32m      5\u001b[0m     \u001b[0;32mwith\u001b[0m \u001b[0mtorch\u001b[0m\u001b[0;34m.\u001b[0m\u001b[0mno_grad\u001b[0m\u001b[0;34m(\u001b[0m\u001b[0;34m)\u001b[0m\u001b[0;34m:\u001b[0m\u001b[0;34m\u001b[0m\u001b[0;34m\u001b[0m\u001b[0m\n",
      "\u001b[0;32m/data/rajlab1/user_data/jin/MyResearch/DG-CITE_paper/notebooks/../mypkg/ddpm/train_ddpm_now.py\u001b[0m in \u001b[0;36mget_model\u001b[0;34m(self, nep)\u001b[0m\n\u001b[1;32m    249\u001b[0m         \u001b[0mall_models\u001b[0m \u001b[0;34m=\u001b[0m \u001b[0msorted\u001b[0m\u001b[0;34m(\u001b[0m\u001b[0mall_models\u001b[0m\u001b[0;34m,\u001b[0m \u001b[0mkey\u001b[0m\u001b[0;34m=\u001b[0m\u001b[0m_tmpf\u001b[0m\u001b[0;34m)\u001b[0m\u001b[0;34m\u001b[0m\u001b[0;34m\u001b[0m\u001b[0m\n\u001b[1;32m    250\u001b[0m         \u001b[0mneps\u001b[0m \u001b[0;34m=\u001b[0m \u001b[0mnp\u001b[0m\u001b[0;34m.\u001b[0m\u001b[0marray\u001b[0m\u001b[0;34m(\u001b[0m\u001b[0;34m[\u001b[0m\u001b[0m_tmpf\u001b[0m\u001b[0;34m(\u001b[0m\u001b[0mm\u001b[0m\u001b[0;34m)\u001b[0m \u001b[0;32mfor\u001b[0m \u001b[0mm\u001b[0m \u001b[0;32min\u001b[0m \u001b[0mall_models\u001b[0m\u001b[0;34m]\u001b[0m\u001b[0;34m)\u001b[0m\u001b[0;34m\u001b[0m\u001b[0;34m\u001b[0m\u001b[0m\n\u001b[0;32m--> 251\u001b[0;31m         \u001b[0mmodel_idx\u001b[0m \u001b[0;34m=\u001b[0m \u001b[0mnp\u001b[0m\u001b[0;34m.\u001b[0m\u001b[0margmin\u001b[0m\u001b[0;34m(\u001b[0m\u001b[0mnp\u001b[0m\u001b[0;34m.\u001b[0m\u001b[0mabs\u001b[0m\u001b[0;34m(\u001b[0m\u001b[0mneps\u001b[0m\u001b[0;34m-\u001b[0m\u001b[0mnep\u001b[0m\u001b[0;34m)\u001b[0m\u001b[0;34m)\u001b[0m\u001b[0;34m\u001b[0m\u001b[0;34m\u001b[0m\u001b[0m\n\u001b[0m\u001b[1;32m    252\u001b[0m \u001b[0;34m\u001b[0m\u001b[0m\n\u001b[1;32m    253\u001b[0m         \u001b[0mlogger\u001b[0m\u001b[0;34m.\u001b[0m\u001b[0minfo\u001b[0m\u001b[0;34m(\u001b[0m\u001b[0;34mf\"We load model {all_models[model_idx]}.\"\u001b[0m\u001b[0;34m)\u001b[0m\u001b[0;34m\u001b[0m\u001b[0;34m\u001b[0m\u001b[0m\n",
      "\u001b[0;32m<__array_function__ internals>\u001b[0m in \u001b[0;36margmin\u001b[0;34m(*args, **kwargs)\u001b[0m\n",
      "\u001b[0;32m/opt/conda/lib/python3.9/site-packages/numpy/core/fromnumeric.py\u001b[0m in \u001b[0;36margmin\u001b[0;34m(a, axis, out)\u001b[0m\n\u001b[1;32m   1272\u001b[0m \u001b[0;34m\u001b[0m\u001b[0m\n\u001b[1;32m   1273\u001b[0m     \"\"\"\n\u001b[0;32m-> 1274\u001b[0;31m     \u001b[0;32mreturn\u001b[0m \u001b[0m_wrapfunc\u001b[0m\u001b[0;34m(\u001b[0m\u001b[0ma\u001b[0m\u001b[0;34m,\u001b[0m \u001b[0;34m'argmin'\u001b[0m\u001b[0;34m,\u001b[0m \u001b[0maxis\u001b[0m\u001b[0;34m=\u001b[0m\u001b[0maxis\u001b[0m\u001b[0;34m,\u001b[0m \u001b[0mout\u001b[0m\u001b[0;34m=\u001b[0m\u001b[0mout\u001b[0m\u001b[0;34m)\u001b[0m\u001b[0;34m\u001b[0m\u001b[0;34m\u001b[0m\u001b[0m\n\u001b[0m\u001b[1;32m   1275\u001b[0m \u001b[0;34m\u001b[0m\u001b[0m\n\u001b[1;32m   1276\u001b[0m \u001b[0;34m\u001b[0m\u001b[0m\n",
      "\u001b[0;32m/opt/conda/lib/python3.9/site-packages/numpy/core/fromnumeric.py\u001b[0m in \u001b[0;36m_wrapfunc\u001b[0;34m(obj, method, *args, **kwds)\u001b[0m\n\u001b[1;32m     56\u001b[0m \u001b[0;34m\u001b[0m\u001b[0m\n\u001b[1;32m     57\u001b[0m     \u001b[0;32mtry\u001b[0m\u001b[0;34m:\u001b[0m\u001b[0;34m\u001b[0m\u001b[0;34m\u001b[0m\u001b[0m\n\u001b[0;32m---> 58\u001b[0;31m         \u001b[0;32mreturn\u001b[0m \u001b[0mbound\u001b[0m\u001b[0;34m(\u001b[0m\u001b[0;34m*\u001b[0m\u001b[0margs\u001b[0m\u001b[0;34m,\u001b[0m \u001b[0;34m**\u001b[0m\u001b[0mkwds\u001b[0m\u001b[0;34m)\u001b[0m\u001b[0;34m\u001b[0m\u001b[0;34m\u001b[0m\u001b[0m\n\u001b[0m\u001b[1;32m     59\u001b[0m     \u001b[0;32mexcept\u001b[0m \u001b[0mTypeError\u001b[0m\u001b[0;34m:\u001b[0m\u001b[0;34m\u001b[0m\u001b[0;34m\u001b[0m\u001b[0m\n\u001b[1;32m     60\u001b[0m         \u001b[0;31m# A TypeError occurs if the object does have such a method in its\u001b[0m\u001b[0;34m\u001b[0m\u001b[0;34m\u001b[0m\u001b[0m\n",
      "\u001b[0;31mValueError\u001b[0m: attempt to get argmin of an empty sequence"
     ]
    }
   ],
   "source": [
    "ress = []\n",
    "for m_ix in list(range(500, 3000, 500)):\n",
    "    ddpm = myddpm.get_model(m_ix);\n",
    "    ddpm.eval()\n",
    "    with torch.no_grad():\n",
    "        loss = ddpm(Y1t, Xt)\n",
    "        x_i, x_is = ddpm.sample_ddim(Xt, device=\"cpu\", is_store=False, ddim_eta=1);\n",
    "    ress.append([m_ix, loss.item(), torch.mean((Y1t - x_i.reshape(-1))**2).item()])\n"
   ]
  },
  {
   "cell_type": "code",
   "execution_count": null,
   "id": "8e7e4ea3-1a8e-477f-89c8-54fecdeae30a",
   "metadata": {},
   "outputs": [],
   "source": []
  },
  {
   "cell_type": "code",
   "execution_count": 133,
   "id": "794f2888-3141-4ac2-afdb-050dd4378128",
   "metadata": {
    "execution": {
     "iopub.execute_input": "2024-01-12T20:04:55.983842Z",
     "iopub.status.busy": "2024-01-12T20:04:55.983195Z",
     "iopub.status.idle": "2024-01-12T20:04:56.254789Z",
     "shell.execute_reply": "2024-01-12T20:04:56.254309Z",
     "shell.execute_reply.started": "2024-01-12T20:04:55.983796Z"
    },
    "tags": []
   },
   "outputs": [
    {
     "data": {
      "text/plain": [
       "Text(0, 0.5, 'MSE')"
      ]
     },
     "execution_count": 133,
     "metadata": {},
     "output_type": "execute_result"
    },
    {
     "data": {
      "image/png": "[encoded data removed]",
      "text/plain": [
       "<Figure size 1000x500 with 2 Axes>"
      ]
     },
     "metadata": {
      "needs_background": "light"
     },
     "output_type": "display_data"
    }
   ],
   "source": [
    "ress = np.array(ress);\n",
    "plt.subplot(121)\n",
    "plt.plot(ress[:, 0], ress[:, 1])\n",
    "plt.ylabel(\"Test loss\")\n",
    "plt.subplot(122)\n",
    "plt.plot(ress[:, 0], ress[:, 2])\n",
    "plt.ylabel(\"MSE\")"
   ]
  },
  {
   "cell_type": "code",
   "execution_count": null,
   "id": "415772c2-b029-4707-931d-b9f899dcebf7",
   "metadata": {},
   "outputs": [],
   "source": []
  },
  {
   "cell_type": "markdown",
   "id": "f6502568-9e9b-4765-8a4d-0572126fe506",
   "metadata": {},
   "source": [
    "## ON test set"
   ]
  },
  {
   "cell_type": "code",
   "execution_count": 61,
   "id": "1873077f-f6ef-4432-a735-ba21d0276c83",
   "metadata": {
    "execution": {
     "iopub.execute_input": "2024-01-12T19:06:36.672189Z",
     "iopub.status.busy": "2024-01-12T19:06:36.671630Z",
     "iopub.status.idle": "2024-01-12T19:06:36.742854Z",
     "shell.execute_reply": "2024-01-12T19:06:36.741575Z",
     "shell.execute_reply.started": "2024-01-12T19:06:36.672144Z"
    },
    "tags": []
   },
   "outputs": [
    {
     "name": "stderr",
     "output_type": "stream",
     "text": [
      "2024-01-12 11:06:36,720 - ddpm.train_ddpm_now - INFO - We load model /data/rajlab1/user_data/jin/MyResearch/DG-CITE_paper/notebooks/../mypkg/../results/demo_ddpm_setting2_test11/rep0_lr--01_n_infeat-128_n_T-400_weight_decay--01_n_upblk-1_n_downblk-1_ddpm_epoch200.pth.\n"
     ]
    }
   ],
   "source": [
    "ddpm = myddpm.get_model(200);"
   ]
  },
  {
   "cell_type": "code",
   "execution_count": 62,
   "id": "59b7dfcf-6e8f-40bf-a498-8ae510ad35d5",
   "metadata": {
    "execution": {
     "iopub.execute_input": "2024-01-12T19:06:37.117145Z",
     "iopub.status.busy": "2024-01-12T19:06:37.116659Z",
     "iopub.status.idle": "2024-01-12T19:06:37.154856Z",
     "shell.execute_reply": "2024-01-12T19:06:37.154349Z",
     "shell.execute_reply.started": "2024-01-12T19:06:37.117105Z"
    },
    "tags": []
   },
   "outputs": [],
   "source": [
    "data_test = get_simu_data(n=params.simu_setting.ntest, \n",
    "                               d=params.simu_setting.d, \n",
    "                               is_homo=params.simu_setting.is_homo, \n",
    "                               rho=params.simu_setting.rho);"
   ]
  },
  {
   "cell_type": "code",
   "execution_count": 63,
   "id": "9dfac65e-1091-4995-af27-b80b3c993747",
   "metadata": {
    "execution": {
     "iopub.execute_input": "2024-01-12T19:06:37.549899Z",
     "iopub.status.busy": "2024-01-12T19:06:37.549378Z",
     "iopub.status.idle": "2024-01-12T19:06:37.585185Z",
     "shell.execute_reply": "2024-01-12T19:06:37.584470Z",
     "shell.execute_reply.started": "2024-01-12T19:06:37.549857Z"
    },
    "tags": []
   },
   "outputs": [],
   "source": [
    "tX = torch.tensor(data_test.X);\n",
    "c = tX.type(params.df_dtype);"
   ]
  },
  {
   "cell_type": "code",
   "execution_count": 64,
   "id": "fe477e92-0972-4e32-84fd-b216a35fa73e",
   "metadata": {
    "execution": {
     "iopub.execute_input": "2024-01-12T19:06:38.010649Z",
     "iopub.status.busy": "2024-01-12T19:06:38.009734Z",
     "iopub.status.idle": "2024-01-12T19:06:38.210187Z",
     "shell.execute_reply": "2024-01-12T19:06:38.209795Z",
     "shell.execute_reply.started": "2024-01-12T19:06:38.010605Z"
    },
    "tags": []
   },
   "outputs": [],
   "source": [
    "ddpm.eval()\n",
    "with torch.no_grad():\n",
    "    x_i, x_is = ddpm.sample_ddim(c, device=\"cpu\", is_store=False, ddim_eta=1);"
   ]
  },
  {
   "cell_type": "code",
   "execution_count": 65,
   "id": "73359ab7-4b8a-4a60-a70f-8d8318a700da",
   "metadata": {
    "execution": {
     "iopub.execute_input": "2024-01-12T19:06:38.666090Z",
     "iopub.status.busy": "2024-01-12T19:06:38.665008Z",
     "iopub.status.idle": "2024-01-12T19:06:38.934163Z",
     "shell.execute_reply": "2024-01-12T19:06:38.933722Z",
     "shell.execute_reply.started": "2024-01-12T19:06:38.666031Z"
    },
    "tags": []
   },
   "outputs": [
    {
     "data": {
      "text/plain": [
       "(-20.0, 20.0)"
      ]
     },
     "execution_count": 65,
     "metadata": {},
     "output_type": "execute_result"
    },
    {
     "data": {
      "image/png": "[encoded data removed]",
      "text/plain": [
       "<Figure size 1000x500 with 1 Axes>"
      ]
     },
     "metadata": {
      "needs_background": "light"
     },
     "output_type": "display_data"
    }
   ],
   "source": [
    "predx0 = x_i.reshape(-1).numpy();\n",
    "x0 = data_test.Y1;\n",
    "plt.plot(x0, predx0, \".\")\n",
    "xx = np.linspace(-20, 20, 100)\n",
    "yy = xx\n",
    "plt.plot(xx, yy)\n",
    "plt.xlim([-20, 20])\n",
    "plt.ylim([-20, 20])"
   ]
  },
  {
   "cell_type": "code",
   "execution_count": null,
   "id": "2b7ea994-bab9-42d0-8bf9-f2b685574b27",
   "metadata": {},
   "outputs": [],
   "source": []
  },
  {
   "cell_type": "markdown",
   "id": "48020217-0f57-4973-8db7-46373d2d2ef5",
   "metadata": {},
   "source": [
    "## Given X"
   ]
  },
  {
   "cell_type": "code",
   "execution_count": null,
   "id": "1c89c669-bcda-4f2b-a895-27011a3f420b",
   "metadata": {},
   "outputs": [],
   "source": [
    "list(range(10,0, -1)"
   ]
  },
  {
   "cell_type": "code",
   "execution_count": 41,
   "id": "f229a6f5-f822-4cf7-89c1-03107475d835",
   "metadata": {
    "execution": {
     "iopub.execute_input": "2023-12-17T23:50:09.036546Z",
     "iopub.status.busy": "2023-12-17T23:50:09.035583Z",
     "iopub.status.idle": "2023-12-17T23:50:09.075628Z",
     "shell.execute_reply": "2023-12-17T23:50:09.074826Z",
     "shell.execute_reply.started": "2023-12-17T23:50:09.036465Z"
    },
    "tags": []
   },
   "outputs": [],
   "source": [
    "datatest_con = get_simu_data(n=params.simu_setting.ntest, \n",
    "                               d=params.simu_setting.d, \n",
    "                               is_homo=params.simu_setting.is_homo, \n",
    "                               rho=params.simu_setting.rho, \n",
    "                               is_condition=True);\n",
    "tX_con = torch.tensor(datatest_con.X);\n",
    "c = tX_con.type(params.dftype);"
   ]
  },
  {
   "cell_type": "code",
   "execution_count": 42,
   "id": "9020f7f9-68e4-474b-a26c-1cfa3c004712",
   "metadata": {
    "execution": {
     "iopub.execute_input": "2023-12-17T23:50:09.306024Z",
     "iopub.status.busy": "2023-12-17T23:50:09.305528Z",
     "iopub.status.idle": "2023-12-17T23:50:10.182650Z",
     "shell.execute_reply": "2023-12-17T23:50:10.182182Z",
     "shell.execute_reply.started": "2023-12-17T23:50:09.305982Z"
    },
    "tags": []
   },
   "outputs": [],
   "source": [
    "ddpm.eval()\n",
    "with torch.no_grad():\n",
    "    x_i, x_is = ddpm.sample(c, device=\"cpu\", guide_w=0);"
   ]
  },
  {
   "cell_type": "code",
   "execution_count": 43,
   "id": "d4168093-393a-45e7-bbb4-752e3f4b87c6",
   "metadata": {
    "execution": {
     "iopub.execute_input": "2023-12-17T23:50:10.183586Z",
     "iopub.status.busy": "2023-12-17T23:50:10.183379Z",
     "iopub.status.idle": "2023-12-17T23:50:10.460346Z",
     "shell.execute_reply": "2023-12-17T23:50:10.459924Z",
     "shell.execute_reply.started": "2023-12-17T23:50:10.183571Z"
    },
    "tags": []
   },
   "outputs": [
    {
     "data": {
      "text/plain": [
       "(-5.0, 10.0)"
      ]
     },
     "execution_count": 43,
     "metadata": {},
     "output_type": "execute_result"
    },
    {
     "data": {
      "image/png": "[encoded data removed]",
      "text/plain": [
       "<Figure size 1000x500 with 1 Axes>"
      ]
     },
     "metadata": {
      "needs_background": "light"
     },
     "output_type": "display_data"
    }
   ],
   "source": [
    "predx0 = x_i.reshape(-1).numpy();\n",
    "x0 = datatest_con.Y1;\n",
    "x_is = x_is.squeeze();\n",
    "for idx in range(x_is.shape[0]):\n",
    "    sns.kdeplot(x_is[idx])\n",
    "sns.kdeplot(x0, color=\"black\", lw=4, label=\"obs\")\n",
    "sns.kdeplot(predx0, color=\"green\", lw=4, label=\"pred\")\n",
    "plt.legend()\n",
    "plt.xlim([-5, 10])"
   ]
  },
  {
   "cell_type": "code",
   "execution_count": null,
   "id": "b9f376bf-3f54-44e9-9af2-c1efca5f62ef",
   "metadata": {},
   "outputs": [],
   "source": []
  },
  {
   "cell_type": "markdown",
   "id": "d4761eb3-0e09-4e30-887b-ad353dd46e85",
   "metadata": {},
   "source": [
    "# bak"
   ]
  },
  {
   "cell_type": "code",
   "execution_count": null,
   "id": "6e30b424-516b-42f8-89ad-871b22e9a2f5",
   "metadata": {},
   "outputs": [],
   "source": []
  },
  {
   "cell_type": "code",
   "execution_count": 9,
   "id": "a4d18761-b351-4042-bb75-801a65d85e10",
   "metadata": {
    "execution": {
     "iopub.execute_input": "2023-12-18T01:06:11.530570Z",
     "iopub.status.busy": "2023-12-18T01:06:11.529939Z",
     "iopub.status.idle": "2023-12-18T01:06:11.580813Z",
     "shell.execute_reply": "2023-12-18T01:06:11.580167Z",
     "shell.execute_reply.started": "2023-12-18T01:06:11.530520Z"
    },
    "tags": []
   },
   "outputs": [],
   "source": [
    "def _run_fn_PCP(rep_ix):\n",
    "    manualSeed = rep_ix\n",
    "    random.seed(manualSeed)\n",
    "    np.random.seed(manualSeed)\n",
    "    torch.manual_seed(manualSeed)\n",
    "    torch.use_deterministic_algorithms(True) # Needed for reproducible results\n",
    "    torch.set_default_dtype(params.dftype)\n",
    "    torch.set_default_device(params.device)\n",
    "    \n",
    "    #beta = np.concatenate([np.random.randn(2), np.zeros(params.simu_setting.d-2)])\n",
    "    #inp = np.random.randn(1) * 10                                \n",
    "    \n",
    "    data_train = get_simu_data(n=params.simu_setting.n, \n",
    "                               d=params.simu_setting.d, \n",
    "                               #beta=beta, \n",
    "                               #inp=inp,\n",
    "                               is_homo=params.simu_setting.is_homo, \n",
    "                               rho=params.simu_setting.rho);\n",
    "    data_test = get_simu_data(n=params.simu_setting.ntest, \n",
    "                               d=params.simu_setting.d, \n",
    "                               #beta=beta, \n",
    "                               #inp=inp,\n",
    "                               is_homo=params.simu_setting.is_homo, \n",
    "                               rho=params.simu_setting.rho);\n",
    "    \n",
    "    cal_idxs, val_idxs, tr_idxs = get_idx_sets(all_idxs=np.where(data_train.T)[0], \n",
    "                                               ratios = [params.simu_setting.cal_ratio, params.simu_setting.val_ratio])\n",
    "        \n",
    "        \n",
    "    # train q(Y(1)|X)\n",
    "    # I skip this for now, suppose you get one\n",
    "    data_train_ddpm = MyDataSet(Y=data_train.Y[tr_idxs], X=data_train.X[tr_idxs])\n",
    "    data_val = edict()\n",
    "    data_val.c =  data_train.X[val_idxs]\n",
    "    data_val.x =  data_train.Y[val_idxs]\n",
    "    \n",
    "    input_params = params.ddpm_training.copy()\n",
    "    input_params.pop(\"n_epoch\")\n",
    "    myddpm = TrainDDPM(data_train_ddpm, save_dir=params.save_dir, verbose=params.verbose, prefix=f\"rep{rep_ix}\", \n",
    "                       device=params.device,\n",
    "                       **input_params);\n",
    "    #myddpm.train(n_epoch=params.ddpm_training.n_epoch, \n",
    "    #             data_val=data_val, save_snapshot=params.save_snapshot)\n",
    "    ddpm = myddpm.ddpm\n",
    "    #ddpm = myddpm.get_opt_model()\n",
    "    ddpm = myddpm.get_model(500)\n",
    "    ddpm.eval()\n",
    "    \n",
    "    ## propensity score\n",
    "    ## I can use all data in train set (including cal set)\n",
    "    #from sklearn.linear_model import LogisticRegression\n",
    "    #clf = LogisticRegression(random_state=0)\n",
    "    #psY = data_train.T.astype(int)\n",
    "    #psX = data_train.X\n",
    "    #clf = clf.fit(psX, psY);\n",
    "    #def psfun(x):\n",
    "    #    if x.ndim == 1:\n",
    "    #        x = x.reshape(1, -1)\n",
    "    #    return clf.predict_proba(x)[:, 1]\n",
    "    #\n",
    "    #\n",
    "    ## weight function\n",
    "    #def wtfun(x):\n",
    "    #    # for unconditional weight\n",
    "    #    return 1/psfun(x)\n",
    "    \n",
    "    # weight function\n",
    "    def wtfun(x):\n",
    "        if x.ndim == 1:\n",
    "            x = x.reshape(1, -1)\n",
    "        # for unconditional weight\n",
    "        return np.ones(x.shape[0])\n",
    "        \n",
    "    # get the weight and nonconformity score for each data point in cal set\n",
    "    x_0s = _gen_Y_given_X(data_train.X[cal_idxs], ddpm, manualSeed)\n",
    "    ws = wtfun(data_train.X[cal_idxs]);\n",
    "    Es = np.abs(x_0s -  data_train.Y1[cal_idxs][:, None]).min(axis=1);\n",
    "            \n",
    "    def _run_fn2(te_idx):\n",
    "        torch.set_default_dtype(params.dftype)\n",
    "        teX = data_test.X[te_idx]\n",
    "        teY1 = data_test.Y1[te_idx]\n",
    "        tetau = data_test.tau[te_idx]\n",
    "        \n",
    "        # get qv for current test pt\n",
    "        ws_wtest = np.concatenate([ws, wtfun(teX)]);\n",
    "        Es_winf = np.concatenate([Es, [np.inf]]);\n",
    "        nws_wtest = ws_wtest/ws_wtest.mean();\n",
    "        nws_wtest[nws_wtest<params.wconformal.nwtlow] = params.wconformal.nwtlow\n",
    "        nws_wtest[nws_wtest>params.wconformal.nwthigh] = params.wconformal.nwthigh\n",
    "        # can not take the inf into consider\n",
    "        #qv_cur = weighted_quantile(Es_winf, [1-params.hypo_test.alpha], sample_weight=nws_wtest);\n",
    "        qt = (1 + nws_wtest[-1]/ nws_wtest[:-1].sum()) * (1 - params.hypo_test.alpha)\n",
    "        if qt <= 1:\n",
    "            qv_cur = weighted_quantile(Es, [qt], sample_weight=ws_wtest[:-1]);\n",
    "        else:\n",
    "            if params.wconformal.useinf:\n",
    "                qv_cur = np.inf\n",
    "            else:\n",
    "                qv_cur = np.max(Es)\n",
    "        \n",
    "        intvs = _get_pred_intv(teYs_hat[te_idx], qv_cur)\n",
    "        res = _get_metric([teY1, tetau], intvs)\n",
    "        res[\"qv_cur\"] = qv_cur\n",
    "        res[\"qt\"] = qt\n",
    "        res[\"intvs\"] = intvs\n",
    "        return res\n",
    "        \n",
    "    teYs_hat = _gen_Y_given_X(data_test.X, ddpm, manualSeed);\n",
    "    pbar2 = range(params.simu_setting.ntest)\n",
    "    with Parallel(n_jobs=1) as parallel:\n",
    "        test_res = parallel(delayed(_run_fn2)(te_idx) for te_idx in pbar2)\n",
    "        \n",
    "    prbs = np.mean([res['in_sets'] for res in test_res], axis=0)\n",
    "    mlen = np.median([res['intvs_len'] for res in test_res])\n",
    "        \n",
    "        \n",
    "    # results from CQR\n",
    "    CQR_CIs = get_CQR_CIs(X=data_train.X, Y=data_train.Y, \n",
    "                          T=data_train.T, Xtest=data_test.X, \n",
    "                          nav=0, \n",
    "                          alpha=params.hypo_test.alpha, \n",
    "                          estimand=\"nonmissing\",\n",
    "                          fyx_est=\"quantBoosting\", seed=manualSeed)\n",
    "    mlen_cqr = np.median(CQR_CIs[:, 1] -  CQR_CIs[:, 0])\n",
    "    prb_Y1_cqr = np.bitwise_and(data_test.Y1>CQR_CIs[:, 0], data_test.Y1<CQR_CIs[:, 1]).mean()\n",
    "    prb_tau_cqr = np.bitwise_and(data_test.tau>CQR_CIs[:, 0], data_test.tau<CQR_CIs[:, 1]).mean()\n",
    "    \n",
    "    res_all = edict()\n",
    "    res_all.DDPM = (prbs, mlen)\n",
    "    res_all.CQR = ([prb_Y1_cqr, prb_tau_cqr], mlen_cqr)\n",
    "    return res_all, myddpm, test_res, np.abs(x_0s -  data_train.Y1[cal_idxs][:, None])"
   ]
  },
  {
   "cell_type": "code",
   "execution_count": 25,
   "id": "f0f6fc11-8527-47c5-9301-d0229ebd7cf8",
   "metadata": {
    "execution": {
     "iopub.execute_input": "2023-12-17T23:37:08.920335Z",
     "iopub.status.busy": "2023-12-17T23:37:08.919706Z",
     "iopub.status.idle": "2023-12-17T23:37:09.050801Z",
     "shell.execute_reply": "2023-12-17T23:37:09.049469Z",
     "shell.execute_reply.started": "2023-12-17T23:37:08.920287Z"
    },
    "tags": []
   },
   "outputs": [],
   "source": [
    "def _run_fn_naive_quan(rep_ix):\n",
    "    manualSeed = rep_ix\n",
    "    random.seed(manualSeed)\n",
    "    np.random.seed(manualSeed)\n",
    "    torch.manual_seed(manualSeed)\n",
    "    torch.use_deterministic_algorithms(True) # Needed for reproducible results\n",
    "    torch.set_default_dtype(params.dftype)\n",
    "    torch.set_default_device(params.device)\n",
    "    \n",
    "    #beta = np.concatenate([np.random.randn(2), np.zeros(params.simu_setting.d-2)])\n",
    "    #inp = np.random.randn(1) * 10                                \n",
    "    \n",
    "    data_train = get_simu_data(n=params.simu_setting.n, \n",
    "                               d=params.simu_setting.d, \n",
    "                               #beta=beta, \n",
    "                               #inp=inp,\n",
    "                               is_homo=params.simu_setting.is_homo, \n",
    "                               rho=params.simu_setting.rho);\n",
    "    data_test = get_simu_data(n=params.simu_setting.ntest, \n",
    "                               d=params.simu_setting.d, \n",
    "                               #beta=beta, \n",
    "                               #inp=inp,\n",
    "                               is_homo=params.simu_setting.is_homo, \n",
    "                               rho=params.simu_setting.rho);\n",
    "    \n",
    "    cal_idxs, val_idxs, tr_idxs = get_idx_sets(all_idxs=np.where(data_train.T)[0], \n",
    "                                               ratios = [params.simu_setting.cal_ratio, params.simu_setting.val_ratio])\n",
    "        \n",
    "        \n",
    "    # train q(Y(1)|X)\n",
    "    # I skip this for now, suppose you get one\n",
    "    data_train_ddpm = MyDataSet(Y=data_train.Y[tr_idxs], X=data_train.X[tr_idxs])\n",
    "    data_val = edict()\n",
    "    data_val.c =  data_train.X[val_idxs]\n",
    "    data_val.x =  data_train.Y[val_idxs]\n",
    "    \n",
    "    input_params = params.ddpm_training.copy()\n",
    "    input_params.pop(\"n_epoch\")\n",
    "    myddpm = TrainDDPM(data_train_ddpm, save_dir=params.save_dir, verbose=params.verbose, prefix=f\"rep{rep_ix}\", \n",
    "                       device=params.device,\n",
    "                       **input_params);\n",
    "    myddpm.train(n_epoch=params.ddpm_training.n_epoch, \n",
    "                 data_val=data_val, save_snapshot=params.save_snapshot)\n",
    "    ddpm = myddpm.ddpm\n",
    "    #ddpm = myddpm.get_opt_model()\n",
    "    #ddpm = myddpm.get_model(1000)\n",
    "    ddpm.eval()\n",
    "    \n",
    "    teYs_hat = _gen_Y_given_X(data_test.X, ddpm, manualSeed);\n",
    "    lows, ups = np.quantile(teYs_hat, [params.hypo_test.alpha/2, 1-params.hypo_test.alpha/2], axis=-1);\n",
    "    prb_Y1 = np.bitwise_and(data_test.Y1>lows, data_test.Y1<ups).mean()\n",
    "    prb_tau = np.bitwise_and(data_test.tau>lows, data_test.tau<ups).mean()\n",
    "    mlen = np.mean(ups-lows)\n",
    "        \n",
    "        \n",
    "    # results from CQR\n",
    "    CQR_CIs = get_CQR_CIs(X=data_train.X, Y=data_train.Y, \n",
    "                          T=data_train.T, Xtest=data_test.X, \n",
    "                          nav=0, \n",
    "                          alpha=params.hypo_test.alpha, \n",
    "                          estimand=\"nonmissing\",\n",
    "                          fyx_est=\"quantBoosting\", seed=manualSeed)\n",
    "    mlen_cqr = np.mean(CQR_CIs[:, 1] -  CQR_CIs[:, 0])\n",
    "    prb_Y1_cqr = np.bitwise_and(data_test.Y1>CQR_CIs[:, 0], data_test.Y1<CQR_CIs[:, 1]).mean()\n",
    "    prb_tau_cqr = np.bitwise_and(data_test.tau>CQR_CIs[:, 0], data_test.tau<CQR_CIs[:, 1]).mean()\n",
    "    \n",
    "    res_all = edict()\n",
    "    res_all.DDPM = ([prb_Y1, prb_tau], mlen)\n",
    "    res_all.CQR = ([prb_Y1_cqr, prb_tau_cqr], mlen_cqr)\n",
    "    return res_all, myddpm"
   ]
  },
  {
   "cell_type": "code",
   "execution_count": 42,
   "id": "72c89d88-0259-42bf-b2b3-31f657e255b1",
   "metadata": {
    "execution": {
     "iopub.execute_input": "2023-12-27T19:22:53.725978Z",
     "iopub.status.busy": "2023-12-27T19:22:53.725331Z",
     "iopub.status.idle": "2023-12-27T19:22:53.778407Z",
     "shell.execute_reply": "2023-12-27T19:22:53.777765Z",
     "shell.execute_reply.started": "2023-12-27T19:22:53.725931Z"
    },
    "tags": []
   },
   "outputs": [],
   "source": [
    "def _run_fn_quanreg_now(rep_ix, model_ix=None):\n",
    "    manualSeed = rep_ix\n",
    "    random.seed(manualSeed)\n",
    "    np.random.seed(manualSeed)\n",
    "    torch.manual_seed(manualSeed)\n",
    "    torch.use_deterministic_algorithms(True) # Needed for reproducible results\n",
    "    torch.set_default_dtype(params.dftype)\n",
    "    torch.set_default_device(params.device)\n",
    "    \n",
    "    #beta = np.concatenate([np.random.randn(2), np.zeros(params.simu_setting.d-2)])\n",
    "    #inp = np.random.randn(1) * 10                                \n",
    "    \n",
    "    data_train = get_simu_data(n=params.simu_setting.n, \n",
    "                               d=params.simu_setting.d, \n",
    "                               #beta=beta, \n",
    "                               #inp=inp,\n",
    "                               is_homo=params.simu_setting.is_homo, \n",
    "                               rho=params.simu_setting.rho);\n",
    "    data_test = get_simu_data(n=params.simu_setting.ntest, \n",
    "                               d=params.simu_setting.d, \n",
    "                               #beta=beta, \n",
    "                               #inp=inp,\n",
    "                               is_homo=params.simu_setting.is_homo, \n",
    "                               rho=params.simu_setting.rho);\n",
    "    \n",
    "    cal_idxs, val_idxs, tr_idxs = get_idx_sets(all_idxs=np.where(data_train.T)[0], \n",
    "                                               ratios = [params.simu_setting.cal_ratio, params.simu_setting.val_ratio])\n",
    "        \n",
    "        \n",
    "    # train q(Y(1)|X)\n",
    "    # I skip this for now, suppose you get one\n",
    "    data_train_ddpm = MyDataSet(Y=data_train.Y[tr_idxs], X=data_train.X[tr_idxs])\n",
    "    data_val = edict()\n",
    "    data_val.c =  data_train.X[val_idxs]\n",
    "    data_val.x =  data_train.Y[val_idxs]\n",
    "    \n",
    "    input_params = params.ddpm_training.copy()\n",
    "    input_params.pop(\"n_epoch\")\n",
    "    input_params.pop(\"early_stop\")\n",
    "    input_params.pop(\"early_stop_dict\")\n",
    "    myddpm = TrainDDPM_now(data_train_ddpm, save_dir=params.save_dir, verbose=params.verbose, prefix=f\"rep{rep_ix}\", \n",
    "                       device=params.device,\n",
    "                       **input_params);\n",
    "    if model_ix is None:\n",
    "        myddpm.train(n_epoch=params.ddpm_training.n_epoch, \n",
    "                     data_val=data_val, save_snapshot=params.save_snapshot, \n",
    "                     early_stop=params.ddpm_training.early_stop,\n",
    "                     early_stop_dict=params.ddpm_training.early_stop_dict)\n",
    "        ddpm = myddpm.ddpm\n",
    "    elif isinstance(model_ix, str):\n",
    "        ddpm = myddpm.get_opt_model()\n",
    "    elif isinstance(model_ix, int):\n",
    "        ddpm = myddpm.get_model(model_ix)\n",
    "    ddpm.eval()\n",
    "    \n",
    "    ## propensity score\n",
    "    ## I can use all data in train set (including cal set)\n",
    "    #from sklearn.linear_model import LogisticRegression\n",
    "    #clf = LogisticRegression(random_state=0)\n",
    "    #psY = data_train.T.astype(int)\n",
    "    #psX = data_train.X\n",
    "    #clf = clf.fit(psX, psY);\n",
    "    #def psfun(x):\n",
    "    #    if x.ndim == 1:\n",
    "    #        x = x.reshape(1, -1)\n",
    "    #    return clf.predict_proba(x)[:, 1]\n",
    "    #\n",
    "    #\n",
    "    ## weight function\n",
    "    #def wtfun(x):\n",
    "    #    # for unconditional weight\n",
    "    #    return 1/psfun(x)\n",
    "    \n",
    "    # weight function\n",
    "    def wtfun(x):\n",
    "        if x.ndim == 1:\n",
    "            x = x.reshape(1, -1)\n",
    "        # for unconditional weight\n",
    "        return np.ones(x.shape[0])\n",
    "        \n",
    "    # get the weight and nonconformity score for each data point in cal set\n",
    "    x_0s = _gen_Y_given_X(data_train.X[cal_idxs], ddpm, manualSeed)\n",
    "    ws = wtfun(data_train.X[cal_idxs]);\n",
    "    lows, ups = np.quantile(x_0s, [params.hypo_test.alpha/2, 1-params.hypo_test.alpha/2], axis=-1);\n",
    "    Es = np.maximum(lows - data_train.Y1[cal_idxs],  data_train.Y1[cal_idxs]-ups)\n",
    "            \n",
    "    def _run_fn2(te_idx):\n",
    "        torch.set_default_dtype(params.dftype)\n",
    "        teX = data_test.X[te_idx]\n",
    "        teY1 = data_test.Y1[te_idx]\n",
    "        tetau = data_test.tau[te_idx]\n",
    "        \n",
    "        # get qv for current test pt\n",
    "        ws_wtest = np.concatenate([ws, wtfun(teX)]);\n",
    "        Es_winf = np.concatenate([Es, [np.inf]]);\n",
    "        nws_wtest = ws_wtest/ws_wtest.mean();\n",
    "        nws_wtest[nws_wtest<params.wconformal.nwtlow] = params.wconformal.nwtlow\n",
    "        nws_wtest[nws_wtest>params.wconformal.nwthigh] = params.wconformal.nwthigh\n",
    "        # can not take the inf into consider\n",
    "        #qv_cur = weighted_quantile(Es_winf, [1-params.hypo_test.alpha], sample_weight=nws_wtest);\n",
    "        qt = (1 + nws_wtest[-1]/ nws_wtest[:-1].sum()) * (1 - params.hypo_test.alpha)\n",
    "        if qt <= 1:\n",
    "            qv_cur = weighted_quantile(Es, [qt], sample_weight=ws_wtest[:-1])[0];\n",
    "        else:\n",
    "            if params.wconformal.useinf:\n",
    "                qv_cur = np.inf\n",
    "            else:\n",
    "                qv_cur = np.max(Es)\n",
    "        \n",
    "        intvs = np.array([[lows_te[te_idx]-qv_cur, ups_te[te_idx]+qv_cur]])\n",
    "        res = _get_metric([teY1, tetau], intvs)\n",
    "        res[\"qv_cur\"] = qv_cur\n",
    "        res[\"qt\"] = qt\n",
    "        res[\"intvs\"] = intvs\n",
    "        return res\n",
    "        \n",
    "    teYs_hat = _gen_Y_given_X(data_test.X, ddpm, manualSeed);\n",
    "    lows_te, ups_te = np.quantile(teYs_hat, [params.hypo_test.alpha/2, 1-params.hypo_test.alpha/2], axis=-1);\n",
    "    pbar2 = range(params.simu_setting.ntest)\n",
    "    with Parallel(n_jobs=1) as parallel:\n",
    "        test_res = parallel(delayed(_run_fn2)(te_idx) for te_idx in pbar2)\n",
    "        \n",
    "    prbs = np.mean([res['in_sets'] for res in test_res], axis=0)\n",
    "    mlen = np.median([res['intvs_len'] for res in test_res])\n",
    "        \n",
    "        \n",
    "    # results from CQR\n",
    "    CQR_CIs = get_CQR_CIs(X=data_train.X, Y=data_train.Y, \n",
    "                          T=data_train.T, Xtest=data_test.X, \n",
    "                          nav=0, \n",
    "                          alpha=params.hypo_test.alpha, \n",
    "                          estimand=\"nonmissing\",\n",
    "                          fyx_est=\"quantBoosting\", seed=manualSeed)\n",
    "    mlen_cqr = np.median(CQR_CIs[:, 1] -  CQR_CIs[:, 0])\n",
    "    prb_Y1_cqr = np.bitwise_and(data_test.Y1>CQR_CIs[:, 0], data_test.Y1<CQR_CIs[:, 1]).mean()\n",
    "    prb_tau_cqr = np.bitwise_and(data_test.tau>CQR_CIs[:, 0], data_test.tau<CQR_CIs[:, 1]).mean()\n",
    "    \n",
    "    res_all = edict()\n",
    "    res_all.DDPM = (prbs, mlen)\n",
    "    res_all.CQR = ([prb_Y1_cqr, prb_tau_cqr], mlen_cqr)\n",
    "    return res_all, myddpm, test_res, np.abs(x_0s -  data_train.Y1[cal_idxs][:, None])"
   ]
  },
  {
   "cell_type": "code",
   "execution_count": null,
   "id": "52af6471-ac72-4757-bd4b-48a02c6efb91",
   "metadata": {},
   "outputs": [],
   "source": []
  }
 ],
 "metadata": {
  "kernelspec": {
   "display_name": "Python 3 (ipykernel)",
   "language": "python",
   "name": "python3"
  },
  "language_info": {
   "codemirror_mode": {
    "name": "ipython",
    "version": 3
   },
   "file_extension": ".py",
   "mimetype": "text/x-python",
   "name": "python",
   "nbconvert_exporter": "python",
   "pygments_lexer": "ipython3",
   "version": "3.9.7"
  },
  "toc-autonumbering": true
 },
 "nbformat": 4,
 "nbformat_minor": 5
}
