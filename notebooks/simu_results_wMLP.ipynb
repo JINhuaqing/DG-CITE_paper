{
 "cells": [
  {
   "cell_type": "code",
   "execution_count": 1,
   "id": "7be37593-bf50-4fc1-b617-ff93ca3fb707",
   "metadata": {
    "execution": {
     "iopub.execute_input": "2024-02-14T19:18:23.187762Z",
     "iopub.status.busy": "2024-02-14T19:18:23.187072Z",
     "iopub.status.idle": "2024-02-14T19:18:23.203681Z",
     "shell.execute_reply": "2024-02-14T19:18:23.202395Z",
     "shell.execute_reply.started": "2024-02-14T19:18:23.187715Z"
    },
    "tags": []
   },
   "outputs": [],
   "source": [
    "import sys\n",
    "sys.path.append(\"../mypkg\")"
   ]
  },
  {
   "cell_type": "code",
   "execution_count": 2,
   "id": "91ac97e6-00aa-46a1-85cb-5b2a3c41e0e0",
   "metadata": {
    "execution": {
     "iopub.execute_input": "2024-02-14T19:18:23.206221Z",
     "iopub.status.busy": "2024-02-14T19:18:23.205675Z",
     "iopub.status.idle": "2024-02-14T19:18:23.932738Z",
     "shell.execute_reply": "2024-02-14T19:18:23.931771Z",
     "shell.execute_reply.started": "2024-02-14T19:18:23.206178Z"
    },
    "tags": []
   },
   "outputs": [],
   "source": [
    "from constants import RES_ROOT, FIG_ROOT, DATA_ROOT\n",
    "from utils.misc import load_pkl, save_pkl, merge_intervals\n",
    "from utils.colors import qual_cmap\n",
    "from utils.stats import weighted_quantile"
   ]
  },
  {
   "cell_type": "code",
   "execution_count": 3,
   "id": "f1775f04-ea35-40dc-90e8-61a284a9daf2",
   "metadata": {
    "execution": {
     "iopub.execute_input": "2024-02-14T19:18:23.934300Z",
     "iopub.status.busy": "2024-02-14T19:18:23.933997Z",
     "iopub.status.idle": "2024-02-14T19:18:23.945249Z",
     "shell.execute_reply": "2024-02-14T19:18:23.944821Z",
     "shell.execute_reply.started": "2024-02-14T19:18:23.934284Z"
    },
    "tags": []
   },
   "outputs": [],
   "source": [
    "%load_ext autoreload\n",
    "%autoreload 2\n",
    "# 0,1, 2, 3, be careful about the space"
   ]
  },
  {
   "cell_type": "code",
   "execution_count": 4,
   "id": "90d1fe06-f921-466f-a1c5-32f8f1e438f3",
   "metadata": {
    "execution": {
     "iopub.execute_input": "2024-02-14T19:18:23.945931Z",
     "iopub.status.busy": "2024-02-14T19:18:23.945790Z",
     "iopub.status.idle": "2024-02-14T19:18:25.477806Z",
     "shell.execute_reply": "2024-02-14T19:18:25.477098Z",
     "shell.execute_reply.started": "2024-02-14T19:18:23.945919Z"
    },
    "tags": []
   },
   "outputs": [],
   "source": [
    "import torch\n",
    "import scipy.stats as ss\n",
    "import numpy as np\n",
    "from easydict import EasyDict as edict\n",
    "import matplotlib.pyplot as plt\n",
    "import seaborn as sns\n",
    "from collections import defaultdict as ddict\n",
    "from tqdm import tqdm, trange\n",
    "import random\n",
    "from joblib import Parallel, delayed\n",
    "import pandas as pd\n",
    "from pprint import pprint\n",
    "plt.style.use(FIG_ROOT/\"base.mplstyle\")"
   ]
  },
  {
   "cell_type": "code",
   "execution_count": 5,
   "id": "e79682dc-16fa-4f9e-95e8-29db9892a33c",
   "metadata": {
    "execution": {
     "iopub.execute_input": "2024-02-14T19:18:25.479026Z",
     "iopub.status.busy": "2024-02-14T19:18:25.478720Z",
     "iopub.status.idle": "2024-02-14T19:18:25.495189Z",
     "shell.execute_reply": "2024-02-14T19:18:25.494750Z",
     "shell.execute_reply.started": "2024-02-14T19:18:25.479008Z"
    },
    "tags": []
   },
   "outputs": [],
   "source": [
    "pd.set_option('display.float_format', '{:.3f}'.format)"
   ]
  },
  {
   "cell_type": "code",
   "execution_count": 6,
   "id": "ada9ae7b-954d-461a-bcce-02c928261ac2",
   "metadata": {
    "execution": {
     "iopub.execute_input": "2024-02-14T19:18:25.495791Z",
     "iopub.status.busy": "2024-02-14T19:18:25.495642Z",
     "iopub.status.idle": "2024-02-14T19:18:25.516527Z",
     "shell.execute_reply": "2024-02-14T19:18:25.516103Z",
     "shell.execute_reply.started": "2024-02-14T19:18:25.495778Z"
    },
    "tags": []
   },
   "outputs": [],
   "source": [
    "from collections import defaultdict as ddict\n",
    "def fil_name2paras(fil_name):\n",
    "    \"\"\"plz be careful about 0.1 and 1\n",
    "    \"\"\"\n",
    "    tmp = fil_name.split(\"_\")\n",
    "    paras = {}\n",
    "    for itm in tmp:\n",
    "        if '--' in itm:\n",
    "            k, v = itm.split(\"--\")\n",
    "            v = f\"0.{v}\"\n",
    "        elif '-' in itm:\n",
    "            k, v = itm.split(\"-\")\n",
    "            # to be compatible with old simu\n",
    "            if v.startswith(\"0\"):\n",
    "                v = f\"0.{v}\"\n",
    "        else:\n",
    "            continue\n",
    "        \n",
    "        if k.startswith(\"T\"):\n",
    "            k = \"n_T\"\n",
    "        elif k.startswith(\"decay\"):\n",
    "            k = \"weight_decay\"\n",
    "        elif k.startswith(\"infeat\"):\n",
    "            k = \"n_infeat\"\n",
    "        paras[k] = float(v)\n",
    "    paras[\"rep\"] = int(tmp[1])\n",
    "    return paras\n"
   ]
  },
  {
   "cell_type": "code",
   "execution_count": 16,
   "id": "5ade2d7d-56d6-4c9f-80b9-f1202033f091",
   "metadata": {
    "execution": {
     "iopub.execute_input": "2024-02-14T19:33:10.616545Z",
     "iopub.status.busy": "2024-02-14T19:33:10.615937Z",
     "iopub.status.idle": "2024-02-14T19:33:14.191666Z",
     "shell.execute_reply": "2024-02-14T19:33:14.191051Z",
     "shell.execute_reply.started": "2024-02-14T19:33:10.616497Z"
    },
    "tags": []
   },
   "outputs": [],
   "source": [
    "# get results of DDIM and naive\n",
    "def _add_res(res, key, dict_res):\n",
    "    if key not in res.keys():\n",
    "        return None\n",
    "    dict_res[\"Len\"].append(res[key][-1])\n",
    "    dict_res[\"ITE\"].append(res[key][0])\n",
    "    dict_res[\"method\"].append(key)\n",
    "    for ky, v in cur_paras.items():\n",
    "        dict_res[ky].append(v)\n",
    "        \n",
    "setting = \"setting4\"\n",
    "#setting = \"setting4\"\n",
    "d = 100\n",
    "res_dir = RES_ROOT/f\"simu_{setting}_d{d}_n3000\"\n",
    "all_fils = list(res_dir.glob(\"*n_T-*.pkl\"));\n",
    "our_res = ddict(list)\n",
    "for fil in all_fils:\n",
    "    cur_paras = fil_name2paras(fil.stem);\n",
    "    res = load_pkl(fil, verbose=False);\n",
    "    \n",
    "    _add_res(res, key=\"DDIM\", dict_res=our_res)\n",
    "    _add_res(res, key=\"DDIM_val\", dict_res=our_res)\n",
    "    _add_res(res, key=\"naive\", dict_res=our_res)\n",
    "    _add_res(res, key=\"naive_val\", dict_res=our_res)\n",
    "    \n",
    "    for model_ix in range(500, 6000, 500):\n",
    "        _add_res(res, key=f\"DDIM_ep{model_ix}\", dict_res=our_res)\n",
    "        _add_res(res, key=f\"DDIM_ep{model_ix}_val\", dict_res=our_res)\n",
    "        _add_res(res, key=f\"naive_ep{model_ix}\", dict_res=our_res)\n",
    "        _add_res(res, key=f\"naive_ep{model_ix}_val\",dict_res=our_res)\n",
    "        \n",
    "our_res_df = pd.DataFrame(our_res);"
   ]
  },
  {
   "cell_type": "code",
   "execution_count": 17,
   "id": "9841d75e-e834-4d40-9066-b8158e560581",
   "metadata": {
    "execution": {
     "iopub.execute_input": "2024-02-14T19:33:16.239034Z",
     "iopub.status.busy": "2024-02-14T19:33:16.238421Z",
     "iopub.status.idle": "2024-02-14T19:33:17.260947Z",
     "shell.execute_reply": "2024-02-14T19:33:17.259704Z",
     "shell.execute_reply.started": "2024-02-14T19:33:16.238984Z"
    },
    "tags": []
   },
   "outputs": [],
   "source": [
    "# get results of MLP\n",
    "all_fils = list(res_dir.glob(\"*mlp*.pkl\"));\n",
    "mlp_res = ddict(list)\n",
    "for fil in all_fils:\n",
    "    cur_paras = fil_name2paras(fil.stem);\n",
    "    res = load_pkl(fil, verbose=False);\n",
    "    \n",
    "    _add_res(res, key=\"mlp\", dict_res=mlp_res)\n",
    "    _add_res(res, key=\"mlp_val\", dict_res=mlp_res)\n",
    "    \n",
    "    for model_ix in range(500, 6000, 500):\n",
    "        _add_res(res, key=f\"mlp_ep{model_ix}\", dict_res=mlp_res)\n",
    "        _add_res(res, key=f\"mlp_ep{model_ix}_val\", dict_res=mlp_res)\n",
    "        \n",
    "mlp_res_df = pd.DataFrame(mlp_res);"
   ]
  },
  {
   "cell_type": "code",
   "execution_count": 18,
   "id": "84401030-56f7-4e9e-a7e9-fd1371324a23",
   "metadata": {
    "execution": {
     "iopub.execute_input": "2024-02-14T19:33:17.856596Z",
     "iopub.status.busy": "2024-02-14T19:33:17.856041Z",
     "iopub.status.idle": "2024-02-14T19:33:18.017281Z",
     "shell.execute_reply": "2024-02-14T19:33:18.016046Z",
     "shell.execute_reply.started": "2024-02-14T19:33:17.856549Z"
    },
    "tags": []
   },
   "outputs": [],
   "source": [
    "# results of CQR and CF\n",
    "def _add_ores(res, key, dict_res):\n",
    "    if key not in res.keys():\n",
    "        return None\n",
    "    dict_res[\"Len\"].append(res[key][-1])\n",
    "    dict_res[\"ITE\"].append(res[key][0])\n",
    "    dict_res[\"method\"].append(key)\n",
    "    dict_res[\"rep\"].append(_get_rep(ofil))\n",
    "_get_rep = lambda p: int(p.stem.split(\"_\")[1])\n",
    "ofils = list(res_dir.glob(\"*other*.pkl\"));\n",
    "other_res = ddict(list);\n",
    "for ofil in ofils:\n",
    "    res = load_pkl(ofil, verbose=False);\n",
    "    _add_ores(res, key=\"CQR\", dict_res=other_res)\n",
    "    _add_ores(res, key=\"CF\", dict_res=other_res)\n",
    "other_res_df = pd.DataFrame(other_res);"
   ]
  },
  {
   "cell_type": "code",
   "execution_count": null,
   "id": "e6372865-d446-4ef5-b2ad-44436598d75a",
   "metadata": {},
   "outputs": [],
   "source": []
  },
  {
   "cell_type": "markdown",
   "id": "73cac2ca-b9cd-4465-b3ea-91316bcf84c9",
   "metadata": {},
   "source": [
    "# Select com for each rep"
   ]
  },
  {
   "cell_type": "code",
   "execution_count": 19,
   "id": "492f54bf-51d8-4096-af52-d887d43f09d9",
   "metadata": {
    "execution": {
     "iopub.execute_input": "2024-02-14T19:33:19.413776Z",
     "iopub.status.busy": "2024-02-14T19:33:19.413228Z",
     "iopub.status.idle": "2024-02-14T19:33:19.451181Z",
     "shell.execute_reply": "2024-02-14T19:33:19.450504Z",
     "shell.execute_reply.started": "2024-02-14T19:33:19.413729Z"
    },
    "tags": []
   },
   "outputs": [],
   "source": [
    "# get opt obs based on val set\n",
    "def _get_opt_obs_given_repix(rep_ix, all_res_df, method_key=\"DDPM\", cutoff=None):\n",
    "    cols = [\"method\", \"lr\", \"n_infeat\", \"n_T\", \"weight_decay\", \"upblk\", \"downblk\", \"rep\"]\n",
    "    kpidx = np.bitwise_and(all_res_df[\"rep\"] == rep_ix, all_res_df[\"method\"].map(lambda x: (\"val\" in x) and (method_key in x)));\n",
    "    if cutoff is not None:\n",
    "        kpidx = np.bitwise_and(kpidx, all_res_df[\"ITE\"]>cutoff)\n",
    "    if kpidx.sum() == 0:\n",
    "        kpidx = np.bitwise_and(all_res_df[\"rep\"] == rep_ix, all_res_df[\"method\"].map(lambda x: (\"val\" in x) and (method_key in x)))\n",
    "    \n",
    "    best_val = all_res_df[kpidx].sort_values(by=\"Len\").iloc[0]\n",
    "    mask = np.ones(all_res_df.shape[0], dtype=bool)\n",
    "    for col in cols:\n",
    "        if col not in all_res_df.columns:\n",
    "            continue\n",
    "        if col.startswith(\"method\"):\n",
    "            #v = best_val[col]\n",
    "            v = best_val[col].split(\"_val\")[0]\n",
    "            mask = np.bitwise_and(mask, all_res_df[col].isin([v]))\n",
    "            \n",
    "        else: \n",
    "            v = best_val[col]\n",
    "            mask = np.bitwise_and(mask, all_res_df[col] == v)\n",
    "    return all_res_df[mask]"
   ]
  },
  {
   "cell_type": "code",
   "execution_count": 20,
   "id": "2e264563-0603-4fe1-9800-f8354fe9bddd",
   "metadata": {
    "execution": {
     "iopub.execute_input": "2024-02-14T19:33:21.211434Z",
     "iopub.status.busy": "2024-02-14T19:33:21.210789Z",
     "iopub.status.idle": "2024-02-14T19:33:22.195550Z",
     "shell.execute_reply": "2024-02-14T19:33:22.195041Z",
     "shell.execute_reply.started": "2024-02-14T19:33:21.211386Z"
    },
    "tags": []
   },
   "outputs": [],
   "source": [
    "cutoff = 0.95\n",
    "\n",
    "# my results\n",
    "our_res_df1 = our_res_df\n",
    "best_res = []\n",
    "for cur_rep in list(set(our_res_df1[\"rep\"])):\n",
    "    best_res.append(_get_opt_obs_given_repix(cur_rep, our_res_df1, \"naive\", cutoff))\n",
    "    best_res.append(_get_opt_obs_given_repix(cur_rep, our_res_df1, \"DDIM\", cutoff))\n",
    "    \n",
    "best_res = pd.concat(best_res);\n",
    "best_res1 = best_res.copy();\n",
    "best_res[\"method\"] = best_res[\"method\"].map(lambda x: x.split(\"_\")[0])\n",
    "best_res = best_res[[\"Len\", \"ITE\", \"method\", \"rep\"]];"
   ]
  },
  {
   "cell_type": "code",
   "execution_count": 21,
   "id": "dd3d5214-3b4f-4079-965d-7674b2223f3e",
   "metadata": {
    "execution": {
     "iopub.execute_input": "2024-02-14T19:33:22.604176Z",
     "iopub.status.busy": "2024-02-14T19:33:22.603600Z",
     "iopub.status.idle": "2024-02-14T19:33:22.788477Z",
     "shell.execute_reply": "2024-02-14T19:33:22.788039Z",
     "shell.execute_reply.started": "2024-02-14T19:33:22.604128Z"
    },
    "tags": []
   },
   "outputs": [],
   "source": [
    "mlp_best_res = []\n",
    "for cur_rep in list(set(our_res_df1[\"rep\"])):\n",
    "    mlp_best_res.append(_get_opt_obs_given_repix(cur_rep, mlp_res_df, \"mlp\", cutoff))\n",
    "    \n",
    "mlp_best_res = pd.concat(mlp_best_res);\n",
    "mlp_best_res1 = mlp_best_res.copy();\n",
    "mlp_best_res[\"method\"] = mlp_best_res[\"method\"].map(lambda x: x.split(\"_\")[0])\n",
    "mlp_best_res = mlp_best_res[[\"Len\", \"ITE\", \"method\", \"rep\"]];"
   ]
  },
  {
   "cell_type": "code",
   "execution_count": 22,
   "id": "13e59b00-e88b-40b8-b728-ceec7e5dc07e",
   "metadata": {
    "execution": {
     "iopub.execute_input": "2024-02-14T19:33:23.836048Z",
     "iopub.status.busy": "2024-02-14T19:33:23.835488Z",
     "iopub.status.idle": "2024-02-14T19:33:23.882080Z",
     "shell.execute_reply": "2024-02-14T19:33:23.881525Z",
     "shell.execute_reply.started": "2024-02-14T19:33:23.836001Z"
    },
    "tags": []
   },
   "outputs": [
    {
     "data": {
      "text/html": [
       "<div>\n",
       "<style scoped>\n",
       "    .dataframe tbody tr th:only-of-type {\n",
       "        vertical-align: middle;\n",
       "    }\n",
       "\n",
       "    .dataframe tbody tr th {\n",
       "        vertical-align: top;\n",
       "    }\n",
       "\n",
       "    .dataframe thead tr th {\n",
       "        text-align: left;\n",
       "    }\n",
       "\n",
       "    .dataframe thead tr:last-of-type th {\n",
       "        text-align: right;\n",
       "    }\n",
       "</style>\n",
       "<table border=\"1\" class=\"dataframe\">\n",
       "  <thead>\n",
       "    <tr>\n",
       "      <th></th>\n",
       "      <th colspan=\"4\" halign=\"left\">Len</th>\n",
       "      <th colspan=\"4\" halign=\"left\">ITE</th>\n",
       "    </tr>\n",
       "    <tr>\n",
       "      <th></th>\n",
       "      <th>mean</th>\n",
       "      <th>median</th>\n",
       "      <th>std</th>\n",
       "      <th>count</th>\n",
       "      <th>mean</th>\n",
       "      <th>median</th>\n",
       "      <th>std</th>\n",
       "      <th>count</th>\n",
       "    </tr>\n",
       "    <tr>\n",
       "      <th>method</th>\n",
       "      <th></th>\n",
       "      <th></th>\n",
       "      <th></th>\n",
       "      <th></th>\n",
       "      <th></th>\n",
       "      <th></th>\n",
       "      <th></th>\n",
       "      <th></th>\n",
       "    </tr>\n",
       "  </thead>\n",
       "  <tbody>\n",
       "    <tr>\n",
       "      <th>CF</th>\n",
       "      <td>0.390</td>\n",
       "      <td>0.391</td>\n",
       "      <td>0.016</td>\n",
       "      <td>50</td>\n",
       "      <td>0.217</td>\n",
       "      <td>0.215</td>\n",
       "      <td>0.015</td>\n",
       "      <td>50</td>\n",
       "    </tr>\n",
       "    <tr>\n",
       "      <th>CQR</th>\n",
       "      <td>3.748</td>\n",
       "      <td>3.691</td>\n",
       "      <td>0.322</td>\n",
       "      <td>50</td>\n",
       "      <td>0.949</td>\n",
       "      <td>0.950</td>\n",
       "      <td>0.013</td>\n",
       "      <td>50</td>\n",
       "    </tr>\n",
       "    <tr>\n",
       "      <th>DDIM</th>\n",
       "      <td>4.405</td>\n",
       "      <td>4.365</td>\n",
       "      <td>0.581</td>\n",
       "      <td>50</td>\n",
       "      <td>0.948</td>\n",
       "      <td>0.947</td>\n",
       "      <td>0.014</td>\n",
       "      <td>50</td>\n",
       "    </tr>\n",
       "    <tr>\n",
       "      <th>mlp</th>\n",
       "      <td>5.726</td>\n",
       "      <td>5.656</td>\n",
       "      <td>0.669</td>\n",
       "      <td>50</td>\n",
       "      <td>0.939</td>\n",
       "      <td>0.939</td>\n",
       "      <td>0.015</td>\n",
       "      <td>50</td>\n",
       "    </tr>\n",
       "    <tr>\n",
       "      <th>naive</th>\n",
       "      <td>1.185</td>\n",
       "      <td>0.285</td>\n",
       "      <td>1.950</td>\n",
       "      <td>50</td>\n",
       "      <td>0.331</td>\n",
       "      <td>0.192</td>\n",
       "      <td>0.312</td>\n",
       "      <td>50</td>\n",
       "    </tr>\n",
       "  </tbody>\n",
       "</table>\n",
       "</div>"
      ],
      "text/plain": [
       "         Len                      ITE                   \n",
       "        mean median   std count  mean median   std count\n",
       "method                                                  \n",
       "CF     0.390  0.391 0.016    50 0.217  0.215 0.015    50\n",
       "CQR    3.748  3.691 0.322    50 0.949  0.950 0.013    50\n",
       "DDIM   4.405  4.365 0.581    50 0.948  0.947 0.014    50\n",
       "mlp    5.726  5.656 0.669    50 0.939  0.939 0.015    50\n",
       "naive  1.185  0.285 1.950    50 0.331  0.192 0.312    50"
      ]
     },
     "execution_count": 22,
     "metadata": {},
     "output_type": "execute_result"
    }
   ],
   "source": [
    "# put the results together\n",
    "all_res_df = pd.concat([best_res, mlp_best_res, other_res_df])\n",
    "all_res_df.groupby([\"method\"])[[\"Len\", \"ITE\"]].agg([\"mean\", \"median\", \"std\", \"count\"])"
   ]
  },
  {
   "cell_type": "code",
   "execution_count": 25,
   "id": "f7865e6c-0763-4c25-b680-f5b10d77b375",
   "metadata": {
    "execution": {
     "iopub.execute_input": "2024-02-14T19:34:17.828965Z",
     "iopub.status.busy": "2024-02-14T19:34:17.828312Z",
     "iopub.status.idle": "2024-02-14T19:34:17.956954Z",
     "shell.execute_reply": "2024-02-14T19:34:17.955995Z",
     "shell.execute_reply.started": "2024-02-14T19:34:17.828916Z"
    },
    "tags": []
   },
   "outputs": [
    {
     "data": {
      "text/html": [
       "<div>\n",
       "<style scoped>\n",
       "    .dataframe tbody tr th:only-of-type {\n",
       "        vertical-align: middle;\n",
       "    }\n",
       "\n",
       "    .dataframe tbody tr th {\n",
       "        vertical-align: top;\n",
       "    }\n",
       "\n",
       "    .dataframe thead tr th {\n",
       "        text-align: left;\n",
       "    }\n",
       "\n",
       "    .dataframe thead tr:last-of-type th {\n",
       "        text-align: right;\n",
       "    }\n",
       "</style>\n",
       "<table border=\"1\" class=\"dataframe\">\n",
       "  <thead>\n",
       "    <tr>\n",
       "      <th></th>\n",
       "      <th colspan=\"3\" halign=\"left\">n_infeat</th>\n",
       "      <th colspan=\"3\" halign=\"left\">lr</th>\n",
       "      <th colspan=\"3\" halign=\"left\">downblk</th>\n",
       "      <th colspan=\"3\" halign=\"left\">epoch</th>\n",
       "    </tr>\n",
       "    <tr>\n",
       "      <th></th>\n",
       "      <th>max</th>\n",
       "      <th>mean</th>\n",
       "      <th>median</th>\n",
       "      <th>max</th>\n",
       "      <th>mean</th>\n",
       "      <th>median</th>\n",
       "      <th>max</th>\n",
       "      <th>mean</th>\n",
       "      <th>median</th>\n",
       "      <th>max</th>\n",
       "      <th>mean</th>\n",
       "      <th>median</th>\n",
       "    </tr>\n",
       "    <tr>\n",
       "      <th>method1</th>\n",
       "      <th></th>\n",
       "      <th></th>\n",
       "      <th></th>\n",
       "      <th></th>\n",
       "      <th></th>\n",
       "      <th></th>\n",
       "      <th></th>\n",
       "      <th></th>\n",
       "      <th></th>\n",
       "      <th></th>\n",
       "      <th></th>\n",
       "      <th></th>\n",
       "    </tr>\n",
       "  </thead>\n",
       "  <tbody>\n",
       "    <tr>\n",
       "      <th>DDIM</th>\n",
       "      <td>256.000</td>\n",
       "      <td>171.520</td>\n",
       "      <td>128.000</td>\n",
       "      <td>0.100</td>\n",
       "      <td>0.093</td>\n",
       "      <td>0.100</td>\n",
       "      <td>3.000</td>\n",
       "      <td>2.160</td>\n",
       "      <td>3.000</td>\n",
       "      <td>4000</td>\n",
       "      <td>1030.000</td>\n",
       "      <td>500.000</td>\n",
       "    </tr>\n",
       "    <tr>\n",
       "      <th>mlp</th>\n",
       "      <td>256.000</td>\n",
       "      <td>186.880</td>\n",
       "      <td>128.000</td>\n",
       "      <td>0.100</td>\n",
       "      <td>0.030</td>\n",
       "      <td>0.010</td>\n",
       "      <td>3.000</td>\n",
       "      <td>2.080</td>\n",
       "      <td>3.000</td>\n",
       "      <td>4000</td>\n",
       "      <td>1580.000</td>\n",
       "      <td>1000.000</td>\n",
       "    </tr>\n",
       "  </tbody>\n",
       "</table>\n",
       "</div>"
      ],
      "text/plain": [
       "        n_infeat                    lr              downblk               \\\n",
       "             max    mean  median   max  mean median     max  mean median   \n",
       "method1                                                                    \n",
       "DDIM     256.000 171.520 128.000 0.100 0.093  0.100   3.000 2.160  3.000   \n",
       "mlp      256.000 186.880 128.000 0.100 0.030  0.010   3.000 2.080  3.000   \n",
       "\n",
       "        epoch                    \n",
       "          max     mean   median  \n",
       "method1                          \n",
       "DDIM     4000 1030.000  500.000  \n",
       "mlp      4000 1580.000 1000.000  "
      ]
     },
     "execution_count": 25,
     "metadata": {},
     "output_type": "execute_result"
    }
   ],
   "source": [
    "def _foo(x):\n",
    "    tmp = x.split(\"_ep\")\n",
    "    if len(tmp) == 1:\n",
    "        return 4000\n",
    "    else:\n",
    "        return int(tmp[1])\n",
    "\n",
    "sel_cols = [\"n_infeat\", \"lr\", \"downblk\", \"epoch\", \"method1\"]\n",
    "    \n",
    "mlp_best_res1[\"epoch\"] = mlp_best_res1[\"method\"].map(_foo)\n",
    "mlp_best_res1[\"method1\"] = mlp_best_res1[\"method\"].map(lambda x: x.split(\"_ep\")[0])\n",
    "\n",
    "best_res1[\"epoch\"] = best_res1[\"method\"].map(_foo)\n",
    "best_res1[\"method1\"] = best_res1[\"method\"].map(lambda x: x.split(\"_ep\")[0])\n",
    "idxs = best_res1[\"method\"].map(lambda x: \"DDIM\" in x);\n",
    "\n",
    "df = pd.concat([mlp_best_res1[sel_cols],best_res1[idxs][sel_cols]]) \n",
    "df.groupby(\"method1\").agg([\"max\", \"mean\", \"median\"])"
   ]
  },
  {
   "cell_type": "code",
   "execution_count": 26,
   "id": "e5ce8765-aa13-4a06-913e-40f3d7676afa",
   "metadata": {
    "execution": {
     "iopub.execute_input": "2024-02-14T19:34:27.913441Z",
     "iopub.status.busy": "2024-02-14T19:34:27.912858Z",
     "iopub.status.idle": "2024-02-14T19:34:28.126798Z",
     "shell.execute_reply": "2024-02-14T19:34:28.126341Z",
     "shell.execute_reply.started": "2024-02-14T19:34:27.913392Z"
    },
    "tags": []
   },
   "outputs": [
    {
     "data": {
      "image/png": "[encoded data removed]",
      "text/plain": [
       "<Figure size 1000x500 with 2 Axes>"
      ]
     },
     "metadata": {
      "needs_background": "light"
     },
     "output_type": "display_data"
    }
   ],
   "source": [
    "method_order=[\"DDIM\", \"mlp\", \"CQR\", \"naive\", \"CF\"]\n",
    "plt.subplot(121)\n",
    "sns.boxplot(data=all_res_df, y=\"ITE\", x=\"method\", showfliers=False, order=method_order, orient='v')\n",
    "plt.axhline(y=0.95, color=\"red\");\n",
    "plt.ylabel(\"\")\n",
    "plt.xlabel(\"ITE Prob\")\n",
    "plt.subplot(122)\n",
    "sns.boxplot(data=all_res_df, y=\"Len\", x=\"method\", showfliers=False, order=method_order, orient='v')\n",
    "plt.ylabel(\"\")\n",
    "plt.xlabel(\"Len of CI\");\n",
    "#plt.savefig(FIG_ROOT/f\"{setting}_d{d}_wmlp.jpg\")"
   ]
  },
  {
   "cell_type": "code",
   "execution_count": null,
   "id": "f6111a1a-e273-4a9f-a25c-f8048ca58f41",
   "metadata": {},
   "outputs": [],
   "source": []
  }
 ],
 "metadata": {
  "kernelspec": {
   "display_name": "Python 3 (ipykernel)",
   "language": "python",
   "name": "python3"
  },
  "language_info": {
   "codemirror_mode": {
    "name": "ipython",
    "version": 3
   },
   "file_extension": ".py",
   "mimetype": "text/x-python",
   "name": "python",
   "nbconvert_exporter": "python",
   "pygments_lexer": "ipython3",
   "version": "3.9.7"
  },
  "toc-autonumbering": true
 },
 "nbformat": 4,
 "nbformat_minor": 5
}
