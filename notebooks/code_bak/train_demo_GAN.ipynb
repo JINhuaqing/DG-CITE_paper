{
 "cells": [
  {
   "cell_type": "markdown",
   "id": "528f7ea3-e9a3-416f-a43c-995bbe186c3c",
   "metadata": {},
   "source": [
    "It is to train a demo GAN"
   ]
  },
  {
   "cell_type": "code",
   "execution_count": 1,
   "id": "e592b3c5",
   "metadata": {
    "ExecuteTime": {
     "end_time": "2023-12-07T22:02:01.130138Z",
     "start_time": "2023-12-07T22:02:01.117639Z"
    },
    "execution": {
     "iopub.execute_input": "2023-12-08T18:35:57.039348Z",
     "iopub.status.busy": "2023-12-08T18:35:57.038652Z",
     "iopub.status.idle": "2023-12-08T18:35:57.055393Z",
     "shell.execute_reply": "2023-12-08T18:35:57.052974Z",
     "shell.execute_reply.started": "2023-12-08T18:35:57.039301Z"
    },
    "tags": []
   },
   "outputs": [],
   "source": [
    "import sys\n",
    "sys.path.append(\"../mypkg\")"
   ]
  },
  {
   "cell_type": "code",
   "execution_count": 2,
   "id": "ec5914ce",
   "metadata": {
    "ExecuteTime": {
     "end_time": "2023-12-07T22:02:02.209062Z",
     "start_time": "2023-12-07T22:02:01.462746Z"
    },
    "execution": {
     "iopub.execute_input": "2023-12-08T18:35:57.058981Z",
     "iopub.status.busy": "2023-12-08T18:35:57.058358Z",
     "iopub.status.idle": "2023-12-08T18:35:59.023662Z",
     "shell.execute_reply": "2023-12-08T18:35:59.023163Z",
     "shell.execute_reply.started": "2023-12-08T18:35:57.058940Z"
    },
    "tags": []
   },
   "outputs": [],
   "source": [
    "from constants import RES_ROOT, FIG_ROOT, DATA_ROOT\n",
    "from utils.misc import load_pkl, save_pkl\n",
    "from utils.colors import qual_cmap\n",
    "from data_gen import get_simu_data\n",
    "from models.gan_v2 import Generator, Discriminator"
   ]
  },
  {
   "cell_type": "code",
   "execution_count": 3,
   "id": "7ef00443",
   "metadata": {
    "ExecuteTime": {
     "end_time": "2023-12-07T22:02:02.234198Z",
     "start_time": "2023-12-07T22:02:02.210431Z"
    },
    "execution": {
     "iopub.execute_input": "2023-12-08T18:35:59.025139Z",
     "iopub.status.busy": "2023-12-08T18:35:59.024822Z",
     "iopub.status.idle": "2023-12-08T18:35:59.041886Z",
     "shell.execute_reply": "2023-12-08T18:35:59.041487Z",
     "shell.execute_reply.started": "2023-12-08T18:35:59.025124Z"
    },
    "tags": []
   },
   "outputs": [],
   "source": [
    "%load_ext autoreload\n",
    "%autoreload 2\n",
    "# 0,1, 2, 3, be careful about the space"
   ]
  },
  {
   "cell_type": "code",
   "execution_count": 4,
   "id": "bb1352f7",
   "metadata": {
    "ExecuteTime": {
     "end_time": "2023-12-07T22:02:02.248252Z",
     "start_time": "2023-12-07T22:02:02.235834Z"
    },
    "execution": {
     "iopub.execute_input": "2023-12-08T18:35:59.042525Z",
     "iopub.status.busy": "2023-12-08T18:35:59.042382Z",
     "iopub.status.idle": "2023-12-08T18:35:59.056292Z",
     "shell.execute_reply": "2023-12-08T18:35:59.055911Z",
     "shell.execute_reply.started": "2023-12-08T18:35:59.042513Z"
    },
    "tags": []
   },
   "outputs": [],
   "source": [
    "import scipy.stats as ss\n",
    "import numpy as np\n",
    "from easydict import EasyDict as edict"
   ]
  },
  {
   "cell_type": "code",
   "execution_count": null,
   "id": "7533fc1b",
   "metadata": {
    "ExecuteTime": {
     "end_time": "2023-12-07T22:02:02.418729Z",
     "start_time": "2023-12-07T22:02:02.385768Z"
    },
    "tags": []
   },
   "outputs": [],
   "source": []
  },
  {
   "cell_type": "markdown",
   "id": "d669b0f4",
   "metadata": {},
   "source": [
    "# GAN"
   ]
  },
  {
   "cell_type": "code",
   "execution_count": 5,
   "id": "f99ab9d2",
   "metadata": {
    "ExecuteTime": {
     "end_time": "2023-12-07T22:02:04.624777Z",
     "start_time": "2023-12-07T22:02:03.021663Z"
    },
    "execution": {
     "iopub.execute_input": "2023-12-08T18:35:59.056891Z",
     "iopub.status.busy": "2023-12-08T18:35:59.056754Z",
     "iopub.status.idle": "2023-12-08T18:35:59.408670Z",
     "shell.execute_reply": "2023-12-08T18:35:59.407620Z",
     "shell.execute_reply.started": "2023-12-08T18:35:59.056879Z"
    },
    "tags": []
   },
   "outputs": [
    {
     "name": "stdout",
     "output_type": "stream",
     "text": [
      "Random Seed:  999\n"
     ]
    }
   ],
   "source": [
    "#%matplotlib inline\n",
    "import random\n",
    "import torch\n",
    "import torch.nn as nn\n",
    "import torch.nn.parallel\n",
    "import torch.optim as optim\n",
    "import torch.utils.data\n",
    "import seaborn as sns\n",
    "import numpy as np\n",
    "import matplotlib.pyplot as plt\n",
    "import matplotlib.animation as animation\n",
    "from IPython.display import HTML\n",
    "\n",
    "# Set random seed for reproducibility\n",
    "manualSeed = 999\n",
    "#manualSeed = random.randint(1, 10000) # use if you want new results\n",
    "print(\"Random Seed: \", manualSeed)\n",
    "random.seed(manualSeed)\n",
    "torch.manual_seed(manualSeed)\n",
    "torch.use_deterministic_algorithms(True) # Needed for reproducible results\n",
    "torch.set_default_dtype(torch.float64)\n",
    "torch.set_default_tensor_type(torch.DoubleTensor)\n",
    "plt.style.use(FIG_ROOT/\"base.mplstyle\")"
   ]
  },
  {
   "cell_type": "code",
   "execution_count": 23,
   "id": "59d9b519-7d8f-4f29-b8d0-489f04f654e2",
   "metadata": {
    "execution": {
     "iopub.execute_input": "2023-12-08T23:15:35.105302Z",
     "iopub.status.busy": "2023-12-08T23:15:35.104684Z",
     "iopub.status.idle": "2023-12-08T23:15:35.141407Z",
     "shell.execute_reply": "2023-12-08T23:15:35.140735Z",
     "shell.execute_reply.started": "2023-12-08T23:15:35.105253Z"
    },
    "tags": []
   },
   "outputs": [
    {
     "data": {
      "text/plain": [
       "[]"
      ]
     },
     "execution_count": 23,
     "metadata": {},
     "output_type": "execute_result"
    }
   ],
   "source": [
    "import logging\n",
    "logger = logging.getLogger()\n",
    "logger.handlers[0]"
   ]
  },
  {
   "cell_type": "code",
   "execution_count": 6,
   "id": "58bfeab5-6c85-4aaf-9bec-ca6687e41acc",
   "metadata": {
    "execution": {
     "iopub.execute_input": "2023-12-08T18:35:59.410957Z",
     "iopub.status.busy": "2023-12-08T18:35:59.410254Z",
     "iopub.status.idle": "2023-12-08T18:35:59.444428Z",
     "shell.execute_reply": "2023-12-08T18:35:59.443972Z",
     "shell.execute_reply.started": "2023-12-08T18:35:59.410916Z"
    },
    "tags": []
   },
   "outputs": [],
   "source": [
    "def get_pdf_at_xx(Y1, Y2):\n",
    "    pdf1 = ss.gaussian_kde(Y1)\n",
    "    pdf2 = ss.gaussian_kde(Y2)\n",
    "    l1, u1 = np.quantile(Y1, [0.01, 0.99])\n",
    "    l2, u2 = np.quantile(Y2, [0.01, 0.99])\n",
    "    xmin = min(l1, l2)\n",
    "    xmax = max(u1, u2)\n",
    "    xx = np.linspace(xmin, xmax, 100)\n",
    "    p_pdf1 = pdf1(xx);\n",
    "    p_pdf2 = pdf2(xx);\n",
    "    return xx, p_pdf1, p_pdf2\n",
    "def get_kl(Y1, Y2):\n",
    "    xx, p1, p2 = get_pdf_at_xx(Y1, Y2)\n",
    "    kl_div_12 = np.sum(np.where(p1 != 0, p1 * np.log(p1 / p2), 0))\n",
    "    kl_div_21 = np.sum(np.where(p2 != 0, p2 * np.log(p2 / p1), 0))\n",
    "    return kl_div_12, kl_div_21"
   ]
  },
  {
   "cell_type": "code",
   "execution_count": null,
   "id": "4c266bc9-5672-4b51-95f8-f4f307c010a8",
   "metadata": {},
   "outputs": [],
   "source": []
  },
  {
   "cell_type": "markdown",
   "id": "6b4270c3-4abd-4ece-8182-024df4ffdc2c",
   "metadata": {},
   "source": [
    "## Parameters"
   ]
  },
  {
   "cell_type": "code",
   "execution_count": 7,
   "id": "19b4105b",
   "metadata": {
    "ExecuteTime": {
     "end_time": "2023-12-07T22:02:06.098458Z",
     "start_time": "2023-12-07T22:02:06.061915Z"
    },
    "execution": {
     "iopub.execute_input": "2023-12-08T18:36:14.080666Z",
     "iopub.status.busy": "2023-12-08T18:36:14.080027Z",
     "iopub.status.idle": "2023-12-08T18:36:14.141467Z",
     "shell.execute_reply": "2023-12-08T18:36:14.140190Z",
     "shell.execute_reply.started": "2023-12-08T18:36:14.080617Z"
    },
    "tags": []
   },
   "outputs": [],
   "source": [
    "# Number of workers for dataloader\n",
    "workers = 2\n",
    "\n",
    "# Batch size during training\n",
    "batch_size = 32\n",
    "\n",
    "# Size of z latent vector (i.e. size of generator input)\n",
    "nz = 10\n",
    "\n",
    "# Number of training epochs\n",
    "num_epochs = 1000\n",
    "\n",
    "# Learning rate for optimizers\n",
    "lr = 0.002\n",
    "\n",
    "# Beta1 hyperparameter for Adam optimizers\n",
    "beta1 = 0.5\n",
    "\n",
    "\n",
    "device=\"cpu\"\n",
    "rho = 0.9\n",
    "is_homo = True\n",
    "n, d = 500, 100\n",
    "ntest = 1000\n",
    "\n",
    "save_dir = RES_ROOT/\"demo2_d100\"\n",
    "if not save_dir.exists():\n",
    "    save_dir.mkdir()"
   ]
  },
  {
   "cell_type": "code",
   "execution_count": null,
   "id": "eeab65e1-655c-456b-ac33-84fa355d63ca",
   "metadata": {},
   "outputs": [],
   "source": []
  },
  {
   "cell_type": "markdown",
   "id": "e4849cc7-1e6f-4ee7-bd2b-d1047a2d591f",
   "metadata": {},
   "source": [
    "## Data loader"
   ]
  },
  {
   "cell_type": "code",
   "execution_count": 8,
   "id": "255c4291",
   "metadata": {
    "execution": {
     "iopub.execute_input": "2023-12-08T18:36:15.514956Z",
     "iopub.status.busy": "2023-12-08T18:36:15.514338Z",
     "iopub.status.idle": "2023-12-08T18:36:15.551987Z",
     "shell.execute_reply": "2023-12-08T18:36:15.551324Z",
     "shell.execute_reply.started": "2023-12-08T18:36:15.514908Z"
    },
    "tags": []
   },
   "outputs": [],
   "source": [
    "from torch.utils.data import Dataset, DataLoader\n",
    "\n",
    "class MyDataSet(Dataset):\n",
    "    def __init__(self, Y, X):\n",
    "        \n",
    "        assert Y.shape[0] == X.shape[0], \"X and Y should have same length\"\n",
    "        self.Y = Y\n",
    "        self.X = X\n",
    "        \n",
    "    def __len__(self):\n",
    "        return len(self.Y)\n",
    "    \n",
    "    def __getitem__(self, idx):\n",
    "        y = self.Y[idx]\n",
    "        x = self.X[idx]\n",
    "        return x, y"
   ]
  },
  {
   "cell_type": "code",
   "execution_count": 9,
   "id": "39fa7644-25c1-457d-a734-252ef86e7114",
   "metadata": {
    "execution": {
     "iopub.execute_input": "2023-12-08T18:36:16.607258Z",
     "iopub.status.busy": "2023-12-08T18:36:16.606564Z",
     "iopub.status.idle": "2023-12-08T18:36:16.658374Z",
     "shell.execute_reply": "2023-12-08T18:36:16.657761Z",
     "shell.execute_reply.started": "2023-12-08T18:36:16.607210Z"
    },
    "tags": []
   },
   "outputs": [
    {
     "data": {
      "text/plain": [
       "<torch.utils.data.dataloader.DataLoader at 0x7f751e9ee6d0>"
      ]
     },
     "execution_count": 9,
     "metadata": {},
     "output_type": "execute_result"
    }
   ],
   "source": [
    "data = get_simu_data(n, d, rho=0.9, is_homo=True, is_condition=False);\n",
    "datatest = get_simu_data(ntest, d, rho=0.9, is_homo=True, is_condition=False);\n",
    "\n",
    "training_data = MyDataSet(Y=data.Y1, X=data.X)\n",
    "testing_data = MyDataSet(Y=datatest.Y1, X=datatest.X)\n",
    "train_dataloader = DataLoader(training_data, batch_size=batch_size, shuffle=True)"
   ]
  },
  {
   "cell_type": "code",
   "execution_count": null,
   "id": "77dc4093-f7b0-4c31-ae2a-9abedddd7e07",
   "metadata": {},
   "outputs": [],
   "source": []
  },
  {
   "cell_type": "markdown",
   "id": "962743b4-1dce-40d2-b870-0501aa8c7865",
   "metadata": {},
   "source": [
    "## Two nets"
   ]
  },
  {
   "cell_type": "code",
   "execution_count": 10,
   "id": "3741ed55-403f-457b-94e5-8f745b6c2447",
   "metadata": {
    "execution": {
     "iopub.execute_input": "2023-12-08T18:36:18.117441Z",
     "iopub.status.busy": "2023-12-08T18:36:18.116847Z",
     "iopub.status.idle": "2023-12-08T18:36:18.154830Z",
     "shell.execute_reply": "2023-12-08T18:36:18.154107Z",
     "shell.execute_reply.started": "2023-12-08T18:36:18.117394Z"
    },
    "tags": []
   },
   "outputs": [],
   "source": [
    "# custom weights initialization called on ``netG`` and ``netD``\n",
    "def weights_init(m):\n",
    "    classname = m.__class__.__name__\n",
    "    if classname.find('Linear') != -1:\n",
    "        nn.init.normal_(m.weight.data, 0.0, 0.02)\n",
    "    elif classname.find('BatchNorm') != -1:\n",
    "        nn.init.normal_(m.weight.data, 1.0, 0.02)\n",
    "        nn.init.constant_(m.bias.data, 0)"
   ]
  },
  {
   "cell_type": "code",
   "execution_count": null,
   "id": "db6ee06f-de9b-4fc0-9e5a-3e864eb41db3",
   "metadata": {},
   "outputs": [],
   "source": []
  },
  {
   "cell_type": "markdown",
   "id": "ad9085e1-91dc-45fa-ba86-fbe5c89c6571",
   "metadata": {},
   "source": [
    "## Loss aod optimizer"
   ]
  },
  {
   "cell_type": "code",
   "execution_count": 11,
   "id": "bc72c590-477c-4082-900c-a58aa42d7eb9",
   "metadata": {
    "execution": {
     "iopub.execute_input": "2023-12-08T18:36:20.501995Z",
     "iopub.status.busy": "2023-12-08T18:36:20.501429Z",
     "iopub.status.idle": "2023-12-08T18:36:20.542865Z",
     "shell.execute_reply": "2023-12-08T18:36:20.542280Z",
     "shell.execute_reply.started": "2023-12-08T18:36:20.501951Z"
    },
    "tags": []
   },
   "outputs": [],
   "source": [
    "netG = Generator(d, nz);\n",
    "netD = Discriminator(d);\n",
    "netG.apply(weights_init);\n",
    "netD.apply(weights_init);"
   ]
  },
  {
   "cell_type": "code",
   "execution_count": 12,
   "id": "57ee0d62-c227-47a7-8579-d546c6f930a3",
   "metadata": {
    "execution": {
     "iopub.execute_input": "2023-12-08T18:36:21.311814Z",
     "iopub.status.busy": "2023-12-08T18:36:21.311275Z",
     "iopub.status.idle": "2023-12-08T18:36:21.348779Z",
     "shell.execute_reply": "2023-12-08T18:36:21.348106Z",
     "shell.execute_reply.started": "2023-12-08T18:36:21.311770Z"
    },
    "tags": []
   },
   "outputs": [],
   "source": [
    "# Initialize the ``BCELoss`` function\n",
    "criterion = nn.BCELoss()\n",
    "#criterion = nn.MSELoss()\n",
    "\n",
    "# Establish convention for real and fake labels during training\n",
    "real_label = 0.9\n",
    "fake_label = 0.1\n",
    "\n",
    "# Setup Adam optimizers for both G and D\n",
    "optimizerD = optim.Adam(netD.parameters(), lr=lr, betas=(beta1, 0.999))\n",
    "optimizerG = optim.Adam(netG.parameters(), lr=lr, betas=(beta1, 0.999));\n"
   ]
  },
  {
   "cell_type": "code",
   "execution_count": 13,
   "id": "84094ebc-286d-4daf-8251-bb6b46f4b236",
   "metadata": {
    "execution": {
     "iopub.execute_input": "2023-12-08T18:36:25.229904Z",
     "iopub.status.busy": "2023-12-08T18:36:25.229305Z",
     "iopub.status.idle": "2023-12-08T18:37:50.171360Z",
     "shell.execute_reply": "2023-12-08T18:37:50.170872Z",
     "shell.execute_reply.started": "2023-12-08T18:36:25.229858Z"
    },
    "scrolled": true,
    "tags": []
   },
   "outputs": [
    {
     "name": "stdout",
     "output_type": "stream",
     "text": [
      "Starting Training Loop...\n",
      "[4/1000][  1/16], Loss_D: 1.387 Loss_G: 0.695, D(x): 0.500 D(G(z)): 0.501/ 0.499, Test error: 2.586 and 0.330, \n",
      "[7/1000][  3/16], Loss_D: 1.388 Loss_G: 0.704, D(x): 0.497 D(G(z)): 0.498/ 0.494, Test error: 2.798 and 0.638, \n",
      "[10/1000][  5/16], Loss_D: 1.386 Loss_G: 0.695, D(x): 0.500 D(G(z)): 0.500/ 0.499, Test error: 1.905 and 0.569, \n",
      "[13/1000][  7/16], Loss_D: 1.388 Loss_G: 0.686, D(x): 0.498 D(G(z)): 0.499/ 0.505, Test error: 1.755 and 0.584, \n",
      "[16/1000][  9/16], Loss_D: 1.387 Loss_G: 0.677, D(x): 0.505 D(G(z)): 0.505/ 0.511, Test error: 2.495 and -0.090, \n",
      "[19/1000][ 11/16], Loss_D: 1.386 Loss_G: 0.703, D(x): 0.495 D(G(z)): 0.495/ 0.494, Test error: 2.727 and 0.451, \n",
      "[22/1000][ 13/16], Loss_D: 1.386 Loss_G: 0.691, D(x): 0.502 D(G(z)): 0.502/ 0.501, Test error: 2.218 and 0.555, \n",
      "[25/1000][ 15/16], Loss_D: 1.390 Loss_G: 0.691, D(x): 0.490 D(G(z)): 0.491/ 0.502, Test error: 3.535 and 0.102, \n",
      "[29/1000][  1/16], Loss_D: 1.386 Loss_G: 0.698, D(x): 0.498 D(G(z)): 0.498/ 0.497, Test error: 2.753 and 0.489, \n",
      "[32/1000][  3/16], Loss_D: 1.386 Loss_G: 0.701, D(x): 0.502 D(G(z)): 0.501/ 0.495, Test error: 3.110 and 0.610, \n",
      "[35/1000][  5/16], Loss_D: 1.384 Loss_G: 0.706, D(x): 0.493 D(G(z)): 0.490/ 0.493, Test error: 2.323 and 0.554, \n",
      "[38/1000][  7/16], Loss_D: 1.381 Loss_G: 0.691, D(x): 0.506 D(G(z)): 0.502/ 0.502, Test error: 2.406 and 0.520, \n",
      "[41/1000][  9/16], Loss_D: 1.386 Loss_G: 0.703, D(x): 0.491 D(G(z)): 0.490/ 0.494, Test error: 2.195 and 0.601, \n",
      "[44/1000][ 11/16], Loss_D: 1.387 Loss_G: 0.694, D(x): 0.502 D(G(z)): 0.502/ 0.500, Test error: 1.873 and 0.549, \n",
      "[47/1000][ 13/16], Loss_D: 1.378 Loss_G: 0.700, D(x): 0.503 D(G(z)): 0.497/ 0.496, Test error: 2.916 and -0.058, \n",
      "[50/1000][ 15/16], Loss_D: 1.389 Loss_G: 0.673, D(x): 0.509 D(G(z)): 0.510/ 0.513, Test error: 2.050 and 0.512, \n",
      "[54/1000][  1/16], Loss_D: 1.384 Loss_G: 0.699, D(x): 0.505 D(G(z)): 0.502/ 0.497, Test error: 1.929 and 0.570, \n",
      "[57/1000][  3/16], Loss_D: 1.374 Loss_G: 0.698, D(x): 0.502 D(G(z)): 0.494/ 0.498, Test error: 1.935 and 0.624, \n",
      "[60/1000][  5/16], Loss_D: 1.371 Loss_G: 0.709, D(x): 0.497 D(G(z)): 0.487/ 0.491, Test error: 2.183 and 0.529, \n",
      "[63/1000][  7/16], Loss_D: 1.402 Loss_G: 0.692, D(x): 0.494 D(G(z)): 0.503/ 0.501, Test error: 2.024 and 0.630, \n",
      "[66/1000][  9/16], Loss_D: 1.389 Loss_G: 0.697, D(x): 0.496 D(G(z)): 0.497/ 0.498, Test error: 1.882 and 0.587, \n",
      "[69/1000][ 11/16], Loss_D: 1.391 Loss_G: 0.695, D(x): 0.500 D(G(z)): 0.503/ 0.499, Test error: 2.084 and 0.553, \n",
      "[72/1000][ 13/16], Loss_D: 1.389 Loss_G: 0.693, D(x): 0.498 D(G(z)): 0.500/ 0.500, Test error: 1.714 and 0.643, \n",
      "[75/1000][ 15/16], Loss_D: 1.392 Loss_G: 0.689, D(x): 0.503 D(G(z)): 0.506/ 0.503, Test error: 1.613 and 0.688, \n",
      "[79/1000][  1/16], Loss_D: 1.386 Loss_G: 0.691, D(x): 0.502 D(G(z)): 0.502/ 0.502, Test error: 1.640 and 0.659, \n",
      "[82/1000][  3/16], Loss_D: 1.388 Loss_G: 0.697, D(x): 0.495 D(G(z)): 0.495/ 0.498, Test error: 1.646 and 0.670, \n",
      "[85/1000][  5/16], Loss_D: 1.384 Loss_G: 0.688, D(x): 0.505 D(G(z)): 0.503/ 0.504, Test error: 1.588 and 0.700, \n",
      "[88/1000][  7/16], Loss_D: 1.385 Loss_G: 0.690, D(x): 0.504 D(G(z)): 0.503/ 0.502, Test error: 1.682 and 0.640, \n",
      "[91/1000][  9/16], Loss_D: 1.385 Loss_G: 0.697, D(x): 0.496 D(G(z)): 0.494/ 0.498, Test error: 1.642 and 0.660, \n",
      "[94/1000][ 11/16], Loss_D: 1.392 Loss_G: 0.700, D(x): 0.495 D(G(z)): 0.498/ 0.496, Test error: 1.830 and 0.557, \n",
      "[97/1000][ 13/16], Loss_D: 1.384 Loss_G: 0.701, D(x): 0.501 D(G(z)): 0.499/ 0.495, Test error: 1.704 and 0.634, \n",
      "[100/1000][ 15/16], Loss_D: 1.385 Loss_G: 0.708, D(x): 0.496 D(G(z)): 0.495/ 0.491, Test error: 1.628 and 0.663, \n",
      "[104/1000][  1/16], Loss_D: 1.386 Loss_G: 0.692, D(x): 0.500 D(G(z)): 0.500/ 0.501, Test error: 1.606 and 0.666, \n",
      "[107/1000][  3/16], Loss_D: 1.387 Loss_G: 0.693, D(x): 0.502 D(G(z)): 0.502/ 0.500, Test error: 1.597 and 0.666, \n",
      "[110/1000][  5/16], Loss_D: 1.389 Loss_G: 0.688, D(x): 0.502 D(G(z)): 0.504/ 0.503, Test error: 1.624 and 0.653, \n",
      "[113/1000][  7/16], Loss_D: 1.392 Loss_G: 0.689, D(x): 0.503 D(G(z)): 0.507/ 0.503, Test error: 1.654 and 0.672, \n",
      "[116/1000][  9/16], Loss_D: 1.388 Loss_G: 0.695, D(x): 0.496 D(G(z)): 0.496/ 0.499, Test error: 1.635 and 0.657, \n",
      "[119/1000][ 11/16], Loss_D: 1.387 Loss_G: 0.700, D(x): 0.500 D(G(z)): 0.500/ 0.496, Test error: 2.263 and 0.228, \n",
      "[122/1000][ 13/16], Loss_D: 1.387 Loss_G: 0.691, D(x): 0.496 D(G(z)): 0.496/ 0.501, Test error: 2.586 and 0.463, \n",
      "[125/1000][ 15/16], Loss_D: 1.390 Loss_G: 0.691, D(x): 0.498 D(G(z)): 0.500/ 0.502, Test error: 1.587 and 0.685, \n",
      "[129/1000][  1/16], Loss_D: 1.391 Loss_G: 0.701, D(x): 0.490 D(G(z)): 0.492/ 0.495, Test error: 1.778 and 0.607, \n",
      "[132/1000][  3/16], Loss_D: 1.385 Loss_G: 0.695, D(x): 0.499 D(G(z)): 0.498/ 0.499, Test error: 1.614 and 0.690, \n",
      "[135/1000][  5/16], Loss_D: 1.389 Loss_G: 0.709, D(x): 0.496 D(G(z)): 0.498/ 0.490, Test error: 1.841 and 0.522, \n",
      "[138/1000][  7/16], Loss_D: 1.388 Loss_G: 0.687, D(x): 0.501 D(G(z)): 0.502/ 0.504, Test error: 1.649 and 0.699, \n",
      "[141/1000][  9/16], Loss_D: 1.390 Loss_G: 0.695, D(x): 0.497 D(G(z)): 0.499/ 0.499, Test error: 1.840 and 0.628, \n",
      "[144/1000][ 11/16], Loss_D: 1.386 Loss_G: 0.690, D(x): 0.504 D(G(z)): 0.504/ 0.502, Test error: 1.620 and 0.675, \n",
      "[147/1000][ 13/16], Loss_D: 1.389 Loss_G: 0.702, D(x): 0.501 D(G(z)): 0.502/ 0.495, Test error: 1.782 and 0.635, \n",
      "[150/1000][ 15/16], Loss_D: 1.389 Loss_G: 0.691, D(x): 0.503 D(G(z)): 0.504/ 0.502, Test error: 2.052 and 0.634, \n",
      "[154/1000][  1/16], Loss_D: 1.386 Loss_G: 0.695, D(x): 0.496 D(G(z)): 0.496/ 0.499, Test error: 2.038 and 0.520, \n",
      "[157/1000][  3/16], Loss_D: 1.381 Loss_G: 0.697, D(x): 0.505 D(G(z)): 0.502/ 0.497, Test error: 1.554 and 0.696, \n",
      "[160/1000][  5/16], Loss_D: 1.384 Loss_G: 0.706, D(x): 0.494 D(G(z)): 0.492/ 0.492, Test error: 1.560 and 0.706, \n",
      "[163/1000][  7/16], Loss_D: 1.388 Loss_G: 0.700, D(x): 0.494 D(G(z)): 0.495/ 0.496, Test error: 1.666 and 0.656, \n",
      "[166/1000][  9/16], Loss_D: 1.382 Loss_G: 0.696, D(x): 0.503 D(G(z)): 0.501/ 0.498, Test error: 1.565 and 0.684, \n",
      "[169/1000][ 11/16], Loss_D: 1.384 Loss_G: 0.693, D(x): 0.501 D(G(z)): 0.499/ 0.500, Test error: 1.847 and 0.585, \n",
      "[172/1000][ 13/16], Loss_D: 1.386 Loss_G: 0.696, D(x): 0.494 D(G(z)): 0.493/ 0.499, Test error: 1.937 and 0.592, \n",
      "[175/1000][ 15/16], Loss_D: 1.389 Loss_G: 0.690, D(x): 0.502 D(G(z)): 0.504/ 0.502, Test error: 1.759 and 0.618, \n",
      "[179/1000][  1/16], Loss_D: 1.387 Loss_G: 0.702, D(x): 0.495 D(G(z)): 0.495/ 0.495, Test error: 2.587 and 0.310, \n",
      "[182/1000][  3/16], Loss_D: 1.388 Loss_G: 0.684, D(x): 0.507 D(G(z)): 0.508/ 0.506, Test error: 2.669 and -0.152, \n",
      "[185/1000][  5/16], Loss_D: 1.388 Loss_G: 0.699, D(x): 0.503 D(G(z)): 0.503/ 0.497, Test error: 2.042 and 0.546, \n",
      "[188/1000][  7/16], Loss_D: 1.381 Loss_G: 0.687, D(x): 0.507 D(G(z)): 0.503/ 0.504, Test error: 1.854 and 0.584, \n",
      "[191/1000][  9/16], Loss_D: 1.382 Loss_G: 0.696, D(x): 0.500 D(G(z)): 0.497/ 0.499, Test error: 1.590 and 0.696, \n",
      "[194/1000][ 11/16], Loss_D: 1.389 Loss_G: 0.704, D(x): 0.493 D(G(z)): 0.494/ 0.493, Test error: 1.948 and 0.587, \n",
      "[197/1000][ 13/16], Loss_D: 1.385 Loss_G: 0.702, D(x): 0.495 D(G(z)): 0.494/ 0.495, Test error: 1.663 and 0.655, \n",
      "[200/1000][ 15/16], Loss_D: 1.387 Loss_G: 0.701, D(x): 0.501 D(G(z)): 0.501/ 0.495, Test error: 1.684 and 0.639, \n",
      "[204/1000][  1/16], Loss_D: 1.377 Loss_G: 0.691, D(x): 0.501 D(G(z)): 0.495/ 0.502, Test error: 1.713 and 0.702, \n",
      "[207/1000][  3/16], Loss_D: 1.391 Loss_G: 0.694, D(x): 0.497 D(G(z)): 0.500/ 0.500, Test error: 2.082 and 0.687, \n",
      "[210/1000][  5/16], Loss_D: 1.386 Loss_G: 0.699, D(x): 0.494 D(G(z)): 0.494/ 0.496, Test error: 1.560 and 0.705, \n",
      "[213/1000][  7/16], Loss_D: 1.374 Loss_G: 0.699, D(x): 0.499 D(G(z)): 0.491/ 0.496, Test error: 1.699 and 0.655, \n",
      "[216/1000][  9/16], Loss_D: 1.393 Loss_G: 0.693, D(x): 0.494 D(G(z)): 0.498/ 0.500, Test error: 2.191 and 0.464, \n",
      "[219/1000][ 11/16], Loss_D: 1.383 Loss_G: 0.700, D(x): 0.496 D(G(z)): 0.493/ 0.496, Test error: 2.268 and 0.549, \n",
      "[222/1000][ 13/16], Loss_D: 1.402 Loss_G: 0.695, D(x): 0.479 D(G(z)): 0.487/ 0.499, Test error: 1.635 and 0.679, \n",
      "[225/1000][ 15/16], Loss_D: 1.375 Loss_G: 0.692, D(x): 0.506 D(G(z)): 0.498/ 0.501, Test error: 1.863 and 0.687, \n",
      "[229/1000][  1/16], Loss_D: 1.383 Loss_G: 0.691, D(x): 0.499 D(G(z)): 0.497/ 0.501, Test error: 1.968 and 0.409, \n",
      "[232/1000][  3/16], Loss_D: 1.380 Loss_G: 0.697, D(x): 0.497 D(G(z)): 0.492/ 0.498, Test error: 3.245 and 0.600, \n",
      "[235/1000][  5/16], Loss_D: 1.385 Loss_G: 0.710, D(x): 0.501 D(G(z)): 0.500/ 0.490, Test error: 1.688 and 0.635, \n",
      "[238/1000][  7/16], Loss_D: 1.401 Loss_G: 0.698, D(x): 0.487 D(G(z)): 0.496/ 0.497, Test error: 1.778 and 0.675, \n",
      "[241/1000][  9/16], Loss_D: 1.386 Loss_G: 0.683, D(x): 0.498 D(G(z)): 0.498/ 0.506, Test error: 1.761 and 0.657, \n",
      "[244/1000][ 11/16], Loss_D: 1.374 Loss_G: 0.692, D(x): 0.502 D(G(z)): 0.494/ 0.501, Test error: 1.740 and 0.632, \n",
      "[247/1000][ 13/16], Loss_D: 1.385 Loss_G: 0.700, D(x): 0.497 D(G(z)): 0.496/ 0.496, Test error: 1.791 and 0.653, \n",
      "[250/1000][ 15/16], Loss_D: 1.388 Loss_G: 0.716, D(x): 0.482 D(G(z)): 0.482/ 0.486, Test error: 1.665 and 0.665, \n",
      "[254/1000][  1/16], Loss_D: 1.395 Loss_G: 0.690, D(x): 0.491 D(G(z)): 0.496/ 0.502, Test error: 1.653 and 0.642, \n",
      "[257/1000][  3/16], Loss_D: 1.402 Loss_G: 0.689, D(x): 0.493 D(G(z)): 0.503/ 0.503, Test error: 1.568 and 0.687, \n",
      "[260/1000][  5/16], Loss_D: 1.399 Loss_G: 0.694, D(x): 0.500 D(G(z)): 0.508/ 0.500, Test error: 2.089 and 0.397, \n",
      "[263/1000][  7/16], Loss_D: 1.385 Loss_G: 0.697, D(x): 0.506 D(G(z)): 0.505/ 0.498, Test error: 1.778 and 0.572, \n",
      "[266/1000][  9/16], Loss_D: 1.400 Loss_G: 0.681, D(x): 0.504 D(G(z)): 0.513/ 0.508, Test error: 1.792 and 0.651, \n",
      "[269/1000][ 11/16], Loss_D: 1.377 Loss_G: 0.748, D(x): 0.488 D(G(z)): 0.481/ 0.468, Test error: 2.007 and 0.573, \n",
      "[272/1000][ 13/16], Loss_D: 1.399 Loss_G: 0.675, D(x): 0.506 D(G(z)): 0.513/ 0.512, Test error: 1.580 and 0.676, \n",
      "[275/1000][ 15/16], Loss_D: 1.375 Loss_G: 0.697, D(x): 0.502 D(G(z)): 0.495/ 0.498, Test error: 1.844 and 0.530, \n",
      "[279/1000][  1/16], Loss_D: 1.398 Loss_G: 0.687, D(x): 0.500 D(G(z)): 0.507/ 0.504, Test error: 1.981 and 0.657, \n",
      "[282/1000][  3/16], Loss_D: 1.402 Loss_G: 0.692, D(x): 0.499 D(G(z)): 0.508/ 0.501, Test error: 1.672 and 0.634, \n",
      "[285/1000][  5/16], Loss_D: 1.369 Loss_G: 0.697, D(x): 0.509 D(G(z)): 0.498/ 0.498, Test error: 1.633 and 0.691, \n",
      "[288/1000][  7/16], Loss_D: 1.404 Loss_G: 0.699, D(x): 0.494 D(G(z)): 0.505/ 0.496, Test error: 1.581 and 0.689, \n",
      "[291/1000][  9/16], Loss_D: 1.388 Loss_G: 0.702, D(x): 0.499 D(G(z)): 0.500/ 0.494, Test error: 1.808 and 0.637, \n",
      "[294/1000][ 11/16], Loss_D: 1.380 Loss_G: 0.705, D(x): 0.495 D(G(z)): 0.490/ 0.493, Test error: 1.796 and 0.642, \n",
      "[297/1000][ 13/16], Loss_D: 1.388 Loss_G: 0.700, D(x): 0.489 D(G(z)): 0.490/ 0.496, Test error: 2.632 and 0.454, \n",
      "[300/1000][ 15/16], Loss_D: 1.384 Loss_G: 0.695, D(x): 0.498 D(G(z)): 0.496/ 0.499, Test error: 1.794 and 0.617, \n",
      "[304/1000][  1/16], Loss_D: 1.383 Loss_G: 0.694, D(x): 0.504 D(G(z)): 0.502/ 0.500, Test error: 1.668 and 0.630, \n",
      "[307/1000][  3/16], Loss_D: 1.376 Loss_G: 0.686, D(x): 0.509 D(G(z)): 0.503/ 0.505, Test error: 1.688 and 0.627, \n",
      "[310/1000][  5/16], Loss_D: 1.395 Loss_G: 0.699, D(x): 0.492 D(G(z)): 0.497/ 0.497, Test error: 1.883 and 0.558, \n",
      "[313/1000][  7/16], Loss_D: 1.375 Loss_G: 0.693, D(x): 0.502 D(G(z)): 0.495/ 0.500, Test error: 1.602 and 0.664, \n",
      "[316/1000][  9/16], Loss_D: 1.369 Loss_G: 0.719, D(x): 0.498 D(G(z)): 0.486/ 0.484, Test error: 1.593 and 0.687, \n",
      "[319/1000][ 11/16], Loss_D: 1.403 Loss_G: 0.683, D(x): 0.493 D(G(z)): 0.503/ 0.506, Test error: 1.588 and 0.672, \n",
      "[322/1000][ 13/16], Loss_D: 1.376 Loss_G: 0.713, D(x): 0.499 D(G(z)): 0.492/ 0.488, Test error: 1.753 and 0.688, \n",
      "[325/1000][ 15/16], Loss_D: 1.404 Loss_G: 0.696, D(x): 0.497 D(G(z)): 0.506/ 0.498, Test error: 2.167 and 0.354, \n",
      "[329/1000][  1/16], Loss_D: 1.306 Loss_G: 0.732, D(x): 0.525 D(G(z)): 0.472/ 0.477, Test error: 2.449 and 0.540, \n",
      "[332/1000][  3/16], Loss_D: 1.367 Loss_G: 0.748, D(x): 0.522 D(G(z)): 0.507/ 0.469, Test error: 1.847 and 0.511, \n",
      "[335/1000][  5/16], Loss_D: 1.410 Loss_G: 0.802, D(x): 0.511 D(G(z)): 0.520/ 0.439, Test error: 2.045 and 0.593, \n",
      "[338/1000][  7/16], Loss_D: 1.321 Loss_G: 0.704, D(x): 0.497 D(G(z)): 0.447/ 0.498, Test error: 1.663 and 0.661, \n",
      "[341/1000][  9/16], Loss_D: 1.333 Loss_G: 0.799, D(x): 0.501 D(G(z)): 0.460/ 0.443, Test error: 1.557 and 0.690, \n",
      "[344/1000][ 11/16], Loss_D: 1.326 Loss_G: 0.807, D(x): 0.504 D(G(z)): 0.456/ 0.440, Test error: 1.803 and 0.625, \n",
      "[347/1000][ 13/16], Loss_D: 1.254 Loss_G: 0.786, D(x): 0.601 D(G(z)): 0.500/ 0.448, Test error: 1.832 and 0.616, \n",
      "[350/1000][ 15/16], Loss_D: 1.311 Loss_G: 0.844, D(x): 0.578 D(G(z)): 0.504/ 0.433, Test error: 1.817 and 0.689, \n",
      "[354/1000][  1/16], Loss_D: 1.373 Loss_G: 0.724, D(x): 0.589 D(G(z)): 0.555/ 0.490, Test error: 1.923 and 0.488, \n",
      "[357/1000][  3/16], Loss_D: 1.224 Loss_G: 0.725, D(x): 0.658 D(G(z)): 0.516/ 0.487, Test error: 1.637 and 0.698, \n",
      "[360/1000][  5/16], Loss_D: 1.198 Loss_G: 0.839, D(x): 0.642 D(G(z)): 0.477/ 0.428, Test error: 1.879 and 0.607, \n",
      "[363/1000][  7/16], Loss_D: 1.560 Loss_G: 0.605, D(x): 0.481 D(G(z)): 0.569/ 0.567, Test error: 1.820 and 0.589, \n",
      "[366/1000][  9/16], Loss_D: 1.504 Loss_G: 0.815, D(x): 0.428 D(G(z)): 0.469/ 0.437, Test error: 1.875 and 0.606, \n",
      "[369/1000][ 11/16], Loss_D: 1.434 Loss_G: 1.156, D(x): 0.365 D(G(z)): 0.321/ 0.299, Test error: 1.684 and 0.629, \n",
      "[372/1000][ 13/16], Loss_D: 1.370 Loss_G: 0.871, D(x): 0.570 D(G(z)): 0.536/ 0.410, Test error: 1.651 and 0.667, \n",
      "[375/1000][ 15/16], Loss_D: 1.573 Loss_G: 0.614, D(x): 0.649 D(G(z)): 0.658/ 0.564, Test error: 1.627 and 0.659, \n",
      "[379/1000][  1/16], Loss_D: 1.386 Loss_G: 0.750, D(x): 0.607 D(G(z)): 0.575/ 0.472, Test error: 1.537 and 0.696, \n",
      "[382/1000][  3/16], Loss_D: 1.503 Loss_G: 0.709, D(x): 0.442 D(G(z)): 0.494/ 0.499, Test error: 1.669 and 0.634, \n",
      "[385/1000][  5/16], Loss_D: 1.299 Loss_G: 0.839, D(x): 0.657 D(G(z)): 0.561/ 0.422, Test error: 1.612 and 0.658, \n",
      "[388/1000][  7/16], Loss_D: 1.241 Loss_G: 0.818, D(x): 0.553 D(G(z)): 0.449/ 0.432, Test error: 2.009 and 0.465, \n",
      "[391/1000][  9/16], Loss_D: 1.464 Loss_G: 0.803, D(x): 0.532 D(G(z)): 0.562/ 0.450, Test error: 1.748 and 0.609, \n",
      "[394/1000][ 11/16], Loss_D: 1.153 Loss_G: 1.038, D(x): 0.553 D(G(z)): 0.383/ 0.336, Test error: 1.726 and 0.684, \n",
      "[397/1000][ 13/16], Loss_D: 1.344 Loss_G: 0.728, D(x): 0.568 D(G(z)): 0.512/ 0.493, Test error: 1.768 and 0.669, \n",
      "[400/1000][ 15/16], Loss_D: 1.292 Loss_G: 1.093, D(x): 0.637 D(G(z)): 0.537/ 0.335, Test error: 1.621 and 0.670, \n",
      "[404/1000][  1/16], Loss_D: 1.094 Loss_G: 0.995, D(x): 0.558 D(G(z)): 0.337/ 0.349, Test error: 1.999 and 0.476, \n",
      "[407/1000][  3/16], Loss_D: 1.280 Loss_G: 0.795, D(x): 0.527 D(G(z)): 0.448/ 0.446, Test error: 2.276 and 0.464, \n",
      "[410/1000][  5/16], Loss_D: 1.291 Loss_G: 1.035, D(x): 0.451 D(G(z)): 0.353/ 0.342, Test error: 1.850 and 0.561, \n",
      "[413/1000][  7/16], Loss_D: 1.093 Loss_G: 1.114, D(x): 0.554 D(G(z)): 0.324/ 0.320, Test error: 1.829 and 0.585, \n",
      "[416/1000][  9/16], Loss_D: 1.453 Loss_G: 1.008, D(x): 0.365 D(G(z)): 0.341/ 0.351, Test error: 1.724 and 0.636, \n",
      "[419/1000][ 11/16], Loss_D: 1.365 Loss_G: 0.792, D(x): 0.471 D(G(z)): 0.445/ 0.443, Test error: 1.751 and 0.648, \n",
      "[422/1000][ 13/16], Loss_D: 1.906 Loss_G: 0.390, D(x): 0.786 D(G(z)): 0.799/ 0.768, Test error: 1.638 and 0.665, \n",
      "[425/1000][ 15/16], Loss_D: 1.231 Loss_G: 0.776, D(x): 0.526 D(G(z)): 0.401/ 0.458, Test error: 1.941 and 0.508, \n",
      "[429/1000][  1/16], Loss_D: 1.024 Loss_G: 0.849, D(x): 0.742 D(G(z)): 0.445/ 0.418, Test error: 1.919 and 0.590, \n",
      "[432/1000][  3/16], Loss_D: 1.288 Loss_G: 0.592, D(x): 0.743 D(G(z)): 0.586/ 0.575, Test error: 1.937 and 0.507, \n",
      "[435/1000][  5/16], Loss_D: 1.024 Loss_G: 0.388, D(x): 0.707 D(G(z)): 0.416/ 0.772, Test error: 1.892 and 0.576, \n",
      "[438/1000][  7/16], Loss_D: 1.602 Loss_G: 0.712, D(x): 0.356 D(G(z)): 0.435/ 0.499, Test error: 1.664 and 0.642, \n",
      "[441/1000][  9/16], Loss_D: 1.184 Loss_G: 0.512, D(x): 0.752 D(G(z)): 0.543/ 0.661, Test error: 2.174 and 0.461, \n",
      "[444/1000][ 11/16], Loss_D: 0.917 Loss_G: 1.171, D(x): 0.777 D(G(z)): 0.377/ 0.297, Test error: 1.889 and 0.591, \n",
      "[447/1000][ 13/16], Loss_D: 1.528 Loss_G: 0.847, D(x): 0.354 D(G(z)): 0.386/ 0.417, Test error: 1.756 and 0.641, \n",
      "[450/1000][ 15/16], Loss_D: 1.408 Loss_G: 0.997, D(x): 0.455 D(G(z)): 0.448/ 0.356, Test error: 1.753 and 0.601, \n",
      "[454/1000][  1/16], Loss_D: 1.196 Loss_G: 0.621, D(x): 0.652 D(G(z)): 0.501/ 0.554, Test error: 1.820 and 0.594, \n",
      "[457/1000][  3/16], Loss_D: 1.343 Loss_G: 0.577, D(x): 0.651 D(G(z)): 0.579/ 0.592, Test error: 1.658 and 0.660, \n",
      "[460/1000][  5/16], Loss_D: 0.936 Loss_G: 1.173, D(x): 0.621 D(G(z)): 0.255/ 0.287, Test error: 1.748 and 0.618, \n",
      "[463/1000][  7/16], Loss_D: 1.147 Loss_G: 0.814, D(x): 0.518 D(G(z)): 0.327/ 0.434, Test error: 1.786 and 0.624, \n",
      "[466/1000][  9/16], Loss_D: 0.984 Loss_G: 1.047, D(x): 0.580 D(G(z)): 0.245/ 0.330, Test error: 1.706 and 0.621, \n",
      "[469/1000][ 11/16], Loss_D: 1.062 Loss_G: 1.240, D(x): 0.563 D(G(z)): 0.311/ 0.273, Test error: 2.139 and 0.532, \n",
      "[472/1000][ 13/16], Loss_D: 1.306 Loss_G: 0.775, D(x): 0.543 D(G(z)): 0.474/ 0.468, Test error: 1.745 and 0.639, \n",
      "[475/1000][ 15/16], Loss_D: 1.027 Loss_G: 1.216, D(x): 0.716 D(G(z)): 0.370/ 0.281, Test error: 1.796 and 0.633, \n",
      "[479/1000][  1/16], Loss_D: 1.637 Loss_G: 0.609, D(x): 0.756 D(G(z)): 0.716/ 0.567, Test error: 1.940 and 0.537, \n",
      "[482/1000][  3/16], Loss_D: 1.580 Loss_G: 1.132, D(x): 0.621 D(G(z)): 0.654/ 0.312, Test error: 2.007 and 0.553, \n",
      "[485/1000][  5/16], Loss_D: 1.285 Loss_G: 0.723, D(x): 0.564 D(G(z)): 0.486/ 0.487, Test error: 1.672 and 0.681, \n",
      "[488/1000][  7/16], Loss_D: 1.401 Loss_G: 0.760, D(x): 0.723 D(G(z)): 0.625/ 0.472, Test error: 1.957 and 0.519, \n",
      "[491/1000][  9/16], Loss_D: 0.806 Loss_G: 1.077, D(x): 0.805 D(G(z)): 0.287/ 0.320, Test error: 2.075 and 0.405, \n",
      "[494/1000][ 11/16], Loss_D: 0.864 Loss_G: 1.739, D(x): 0.644 D(G(z)): 0.172/ 0.154, Test error: 1.935 and 0.540, \n",
      "[497/1000][ 13/16], Loss_D: 0.946 Loss_G: 0.588, D(x): 0.654 D(G(z)): 0.292/ 0.581, Test error: 1.802 and 0.656, \n",
      "[500/1000][ 15/16], Loss_D: 1.541 Loss_G: 0.761, D(x): 0.519 D(G(z)): 0.584/ 0.465, Test error: 1.674 and 0.647, \n",
      "[504/1000][  1/16], Loss_D: 1.369 Loss_G: 0.624, D(x): 0.535 D(G(z)): 0.505/ 0.562, Test error: 1.713 and 0.629, \n",
      "[507/1000][  3/16], Loss_D: 1.369 Loss_G: 0.513, D(x): 0.645 D(G(z)): 0.593/ 0.641, Test error: 1.709 and 0.635, \n",
      "[510/1000][  5/16], Loss_D: 1.108 Loss_G: 0.969, D(x): 0.711 D(G(z)): 0.478/ 0.380, Test error: 1.664 and 0.646, \n",
      "[513/1000][  7/16], Loss_D: 1.021 Loss_G: 1.119, D(x): 0.665 D(G(z)): 0.380/ 0.330, Test error: 1.781 and 0.574, \n",
      "[516/1000][  9/16], Loss_D: 1.273 Loss_G: 0.856, D(x): 0.727 D(G(z)): 0.583/ 0.423, Test error: 1.654 and 0.645, \n",
      "[519/1000][ 11/16], Loss_D: 1.567 Loss_G: 0.805, D(x): 0.353 D(G(z)): 0.404/ 0.455, Test error: 1.806 and 0.571, \n",
      "[522/1000][ 13/16], Loss_D: 1.429 Loss_G: 0.657, D(x): 0.506 D(G(z)): 0.524/ 0.535, Test error: 1.729 and 0.658, \n",
      "[525/1000][ 15/16], Loss_D: 0.862 Loss_G: 1.311, D(x): 0.783 D(G(z)): 0.320/ 0.249, Test error: 1.765 and 0.618, \n",
      "[529/1000][  1/16], Loss_D: 0.899 Loss_G: 1.525, D(x): 0.701 D(G(z)): 0.290/ 0.198, Test error: 1.809 and 0.584, \n",
      "[532/1000][  3/16], Loss_D: 1.028 Loss_G: 1.125, D(x): 0.650 D(G(z)): 0.381/ 0.304, Test error: 1.737 and 0.690, \n",
      "[535/1000][  5/16], Loss_D: 1.148 Loss_G: 0.816, D(x): 0.628 D(G(z)): 0.448/ 0.443, Test error: 1.825 and 0.621, \n",
      "[538/1000][  7/16], Loss_D: 0.898 Loss_G: 1.234, D(x): 0.829 D(G(z)): 0.375/ 0.286, Test error: 1.749 and 0.626, \n",
      "[541/1000][  9/16], Loss_D: 0.748 Loss_G: 1.733, D(x): 0.775 D(G(z)): 0.151/ 0.160, Test error: 1.719 and 0.653, \n",
      "[544/1000][ 11/16], Loss_D: 1.644 Loss_G: 0.671, D(x): 0.364 D(G(z)): 0.475/ 0.523, Test error: 1.669 and 0.675, \n",
      "[547/1000][ 13/16], Loss_D: 1.074 Loss_G: 0.952, D(x): 0.548 D(G(z)): 0.302/ 0.381, Test error: 1.683 and 0.677, \n",
      "[550/1000][ 15/16], Loss_D: 1.433 Loss_G: 1.070, D(x): 0.809 D(G(z)): 0.667/ 0.322, Test error: 1.726 and 0.635, \n",
      "[554/1000][  1/16], Loss_D: 1.066 Loss_G: 1.360, D(x): 0.794 D(G(z)): 0.484/ 0.241, Test error: 1.608 and 0.679, \n",
      "[557/1000][  3/16], Loss_D: 1.426 Loss_G: 0.865, D(x): 0.386 D(G(z)): 0.350/ 0.412, Test error: 1.561 and 0.692, \n",
      "[560/1000][  5/16], Loss_D: 1.567 Loss_G: 0.676, D(x): 0.591 D(G(z)): 0.645/ 0.517, Test error: 1.535 and 0.697, \n",
      "[563/1000][  7/16], Loss_D: 1.283 Loss_G: 0.781, D(x): 0.572 D(G(z)): 0.481/ 0.457, Test error: 1.572 and 0.679, \n",
      "[566/1000][  9/16], Loss_D: 1.215 Loss_G: 1.028, D(x): 0.704 D(G(z)): 0.543/ 0.337, Test error: 1.607 and 0.672, \n",
      "[569/1000][ 11/16], Loss_D: 1.106 Loss_G: 0.893, D(x): 0.540 D(G(z)): 0.312/ 0.401, Test error: 1.590 and 0.673, \n",
      "[572/1000][ 13/16], Loss_D: 1.278 Loss_G: 1.495, D(x): 0.440 D(G(z)): 0.314/ 0.198, Test error: 1.556 and 0.698, \n",
      "[575/1000][ 15/16], Loss_D: 1.393 Loss_G: 1.072, D(x): 0.463 D(G(z)): 0.441/ 0.319, Test error: 1.564 and 0.699, \n",
      "[579/1000][  1/16], Loss_D: 1.525 Loss_G: 0.551, D(x): 0.774 D(G(z)): 0.697/ 0.605, Test error: 1.614 and 0.692, \n",
      "[582/1000][  3/16], Loss_D: 1.471 Loss_G: 1.069, D(x): 0.630 D(G(z)): 0.617/ 0.320, Test error: 1.794 and 0.666, \n",
      "[585/1000][  5/16], Loss_D: 0.848 Loss_G: 1.636, D(x): 0.660 D(G(z)): 0.184/ 0.176, Test error: 1.804 and 0.622, \n",
      "[588/1000][  7/16], Loss_D: 1.182 Loss_G: 1.611, D(x): 0.700 D(G(z)): 0.515/ 0.180, Test error: 1.543 and 0.705, \n",
      "[591/1000][  9/16], Loss_D: 0.827 Loss_G: 1.640, D(x): 0.708 D(G(z)): 0.202/ 0.182, Test error: 1.559 and 0.690, \n",
      "[594/1000][ 11/16], Loss_D: 1.527 Loss_G: 0.611, D(x): 0.773 D(G(z)): 0.678/ 0.560, Test error: 1.589 and 0.672, \n",
      "[597/1000][ 13/16], Loss_D: 1.086 Loss_G: 1.493, D(x): 0.487 D(G(z)): 0.183/ 0.203, Test error: 1.590 and 0.671, \n",
      "[600/1000][ 15/16], Loss_D: 1.683 Loss_G: 0.434, D(x): 0.784 D(G(z)): 0.750/ 0.711, Test error: 1.893 and 0.613, \n",
      "[604/1000][  1/16], Loss_D: 1.045 Loss_G: 1.275, D(x): 0.669 D(G(z)): 0.405/ 0.252, Test error: 1.598 and 0.680, \n",
      "[607/1000][  3/16], Loss_D: 2.131 Loss_G: 0.395, D(x): 0.558 D(G(z)): 0.801/ 0.758, Test error: 1.557 and 0.690, \n",
      "[610/1000][  5/16], Loss_D: 0.774 Loss_G: 1.535, D(x): 0.761 D(G(z)): 0.210/ 0.195, Test error: 1.676 and 0.662, \n",
      "[613/1000][  7/16], Loss_D: 2.213 Loss_G: 0.381, D(x): 0.478 D(G(z)): 0.788/ 0.780, Test error: 1.527 and 0.702, \n",
      "[616/1000][  9/16], Loss_D: 0.700 Loss_G: 1.965, D(x): 0.851 D(G(z)): 0.184/ 0.121, Test error: 1.552 and 0.699, \n",
      "[619/1000][ 11/16], Loss_D: 0.764 Loss_G: 1.875, D(x): 0.723 D(G(z)): 0.117/ 0.134, Test error: 1.682 and 0.674, \n",
      "[622/1000][ 13/16], Loss_D: 0.749 Loss_G: 2.149, D(x): 0.784 D(G(z)): 0.150/ 0.106, Test error: 1.934 and 0.631, \n",
      "[625/1000][ 15/16], Loss_D: 1.156 Loss_G: 1.716, D(x): 0.437 D(G(z)): 0.170/ 0.170, Test error: 1.634 and 0.678, \n",
      "[629/1000][  1/16], Loss_D: 1.501 Loss_G: 1.250, D(x): 0.715 D(G(z)): 0.668/ 0.264, Test error: 1.737 and 0.607, \n",
      "[632/1000][  3/16], Loss_D: 2.768 Loss_G: 0.938, D(x): 0.140 D(G(z)): 0.530/ 0.389, Test error: 1.671 and 0.636, \n",
      "[635/1000][  5/16], Loss_D: 1.495 Loss_G: 0.778, D(x): 0.503 D(G(z)): 0.554/ 0.461, Test error: 1.570 and 0.680, \n",
      "[638/1000][  7/16], Loss_D: 1.267 Loss_G: 0.859, D(x): 0.468 D(G(z)): 0.364/ 0.414, Test error: 1.575 and 0.679, \n",
      "[641/1000][  9/16], Loss_D: 1.367 Loss_G: 0.695, D(x): 0.529 D(G(z)): 0.508/ 0.501, Test error: 1.601 and 0.665, \n",
      "[644/1000][ 11/16], Loss_D: 1.469 Loss_G: 0.775, D(x): 0.441 D(G(z)): 0.482/ 0.456, Test error: 1.604 and 0.669, \n",
      "[647/1000][ 13/16], Loss_D: 1.334 Loss_G: 0.807, D(x): 0.480 D(G(z)): 0.436/ 0.436, Test error: 1.613 and 0.665, \n",
      "[650/1000][ 15/16], Loss_D: 1.278 Loss_G: 0.710, D(x): 0.545 D(G(z)): 0.465/ 0.494, Test error: 1.590 and 0.678, \n",
      "[654/1000][  1/16], Loss_D: 1.314 Loss_G: 0.726, D(x): 0.506 D(G(z)): 0.451/ 0.485, Test error: 1.549 and 0.691, \n",
      "[657/1000][  3/16], Loss_D: 1.409 Loss_G: 0.628, D(x): 0.492 D(G(z)): 0.502/ 0.546, Test error: 1.598 and 0.675, \n",
      "[660/1000][  5/16], Loss_D: 1.305 Loss_G: 0.732, D(x): 0.510 D(G(z)): 0.448/ 0.478, Test error: 1.663 and 0.645, \n",
      "[663/1000][  7/16], Loss_D: 1.475 Loss_G: 0.662, D(x): 0.425 D(G(z)): 0.453/ 0.521, Test error: 1.658 and 0.639, \n",
      "[666/1000][  9/16], Loss_D: 1.349 Loss_G: 0.741, D(x): 0.510 D(G(z)): 0.467/ 0.473, Test error: 1.793 and 0.567, \n",
      "[669/1000][ 11/16], Loss_D: 1.600 Loss_G: 0.700, D(x): 0.426 D(G(z)): 0.536/ 0.498, Test error: 1.760 and 0.595, \n",
      "[672/1000][ 13/16], Loss_D: 1.243 Loss_G: 0.749, D(x): 0.572 D(G(z)): 0.467/ 0.468, Test error: 1.690 and 0.624, \n",
      "[675/1000][ 15/16], Loss_D: 1.272 Loss_G: 0.713, D(x): 0.550 D(G(z)): 0.467/ 0.491, Test error: 1.614 and 0.658, \n",
      "[679/1000][  1/16], Loss_D: 1.508 Loss_G: 0.809, D(x): 0.415 D(G(z)): 0.470/ 0.437, Test error: 1.660 and 0.635, \n",
      "[682/1000][  3/16], Loss_D: 1.407 Loss_G: 0.781, D(x): 0.485 D(G(z)): 0.492/ 0.451, Test error: 1.635 and 0.652, \n",
      "[685/1000][  5/16], Loss_D: 1.392 Loss_G: 0.629, D(x): 0.536 D(G(z)): 0.532/ 0.546, Test error: 1.637 and 0.656, \n",
      "[688/1000][  7/16], Loss_D: 1.440 Loss_G: 0.684, D(x): 0.521 D(G(z)): 0.549/ 0.507, Test error: 1.648 and 0.660, \n",
      "[691/1000][  9/16], Loss_D: 1.280 Loss_G: 0.687, D(x): 0.560 D(G(z)): 0.484/ 0.507, Test error: 1.619 and 0.659, \n",
      "[694/1000][ 11/16], Loss_D: 1.493 Loss_G: 0.673, D(x): 0.480 D(G(z)): 0.539/ 0.514, Test error: 1.567 and 0.682, \n",
      "[697/1000][ 13/16], Loss_D: 1.375 Loss_G: 0.701, D(x): 0.523 D(G(z)): 0.511/ 0.497, Test error: 1.576 and 0.677, \n",
      "[700/1000][ 15/16], Loss_D: 1.366 Loss_G: 0.700, D(x): 0.524 D(G(z)): 0.507/ 0.497, Test error: 1.638 and 0.650, \n",
      "[704/1000][  1/16], Loss_D: 1.425 Loss_G: 0.686, D(x): 0.487 D(G(z)): 0.504/ 0.508, Test error: 1.602 and 0.674, \n",
      "[707/1000][  3/16], Loss_D: 1.382 Loss_G: 0.789, D(x): 0.526 D(G(z)): 0.519/ 0.448, Test error: 1.633 and 0.676, \n",
      "[710/1000][  5/16], Loss_D: 1.329 Loss_G: 0.714, D(x): 0.485 D(G(z)): 0.444/ 0.491, Test error: 1.713 and 0.642, \n",
      "[713/1000][  7/16], Loss_D: 1.508 Loss_G: 0.684, D(x): 0.464 D(G(z)): 0.535/ 0.509, Test error: 1.694 and 0.637, \n",
      "[716/1000][  9/16], Loss_D: 1.297 Loss_G: 0.653, D(x): 0.570 D(G(z)): 0.507/ 0.526, Test error: 1.699 and 0.669, \n",
      "[719/1000][ 11/16], Loss_D: 1.431 Loss_G: 0.696, D(x): 0.510 D(G(z)): 0.534/ 0.499, Test error: 1.647 and 0.672, \n",
      "[722/1000][ 13/16], Loss_D: 1.400 Loss_G: 0.820, D(x): 0.462 D(G(z)): 0.465/ 0.428, Test error: 1.650 and 0.650, \n",
      "[725/1000][ 15/16], Loss_D: 1.472 Loss_G: 0.756, D(x): 0.426 D(G(z)): 0.465/ 0.465, Test error: 1.663 and 0.635, \n",
      "[729/1000][  1/16], Loss_D: 1.349 Loss_G: 0.789, D(x): 0.493 D(G(z)): 0.467/ 0.445, Test error: 1.701 and 0.620, \n",
      "[732/1000][  3/16], Loss_D: 1.379 Loss_G: 0.658, D(x): 0.553 D(G(z)): 0.541/ 0.524, Test error: 1.665 and 0.656, \n",
      "[735/1000][  5/16], Loss_D: 1.037 Loss_G: 1.196, D(x): 0.677 D(G(z)): 0.395/ 0.282, Test error: 1.557 and 0.689, \n",
      "[738/1000][  7/16], Loss_D: 1.530 Loss_G: 1.090, D(x): 0.663 D(G(z)): 0.660/ 0.316, Test error: 1.659 and 0.669, \n",
      "[741/1000][  9/16], Loss_D: 1.034 Loss_G: 1.044, D(x): 0.723 D(G(z)): 0.439/ 0.335, Test error: 2.538 and 0.668, \n",
      "[744/1000][ 11/16], Loss_D: 1.075 Loss_G: 1.532, D(x): 0.553 D(G(z)): 0.311/ 0.198, Test error: 1.797 and 0.564, \n",
      "[747/1000][ 13/16], Loss_D: 1.183 Loss_G: 0.546, D(x): 0.566 D(G(z)): 0.414/ 0.614, Test error: 1.698 and 0.688, \n",
      "[750/1000][ 15/16], Loss_D: 1.299 Loss_G: 1.213, D(x): 0.610 D(G(z)): 0.528/ 0.285, Test error: 1.611 and 0.676, \n",
      "[754/1000][  1/16], Loss_D: 0.799 Loss_G: 1.468, D(x): 0.744 D(G(z)): 0.228/ 0.202, Test error: 1.551 and 0.689, \n",
      "[757/1000][  3/16], Loss_D: 0.837 Loss_G: 1.275, D(x): 0.661 D(G(z)): 0.157/ 0.257, Test error: 1.565 and 0.696, \n",
      "[760/1000][  5/16], Loss_D: 0.841 Loss_G: 1.366, D(x): 0.684 D(G(z)): 0.219/ 0.238, Test error: 1.688 and 0.648, \n",
      "[763/1000][  7/16], Loss_D: 0.919 Loss_G: 1.056, D(x): 0.583 D(G(z)): 0.132/ 0.332, Test error: 1.577 and 0.682, \n",
      "[766/1000][  9/16], Loss_D: 2.292 Loss_G: 0.656, D(x): 0.465 D(G(z)): 0.797/ 0.536, Test error: 1.656 and 0.683, \n",
      "[769/1000][ 11/16], Loss_D: 0.802 Loss_G: 1.889, D(x): 0.689 D(G(z)): 0.116/ 0.132, Test error: 1.819 and 0.696, \n",
      "[772/1000][ 13/16], Loss_D: 0.985 Loss_G: 1.160, D(x): 0.656 D(G(z)): 0.327/ 0.290, Test error: 1.661 and 0.655, \n",
      "[775/1000][ 15/16], Loss_D: 1.299 Loss_G: 1.848, D(x): 0.362 D(G(z)): 0.126/ 0.134, Test error: 1.591 and 0.669, \n",
      "[779/1000][  1/16], Loss_D: 0.737 Loss_G: 1.591, D(x): 0.765 D(G(z)): 0.155/ 0.184, Test error: 1.677 and 0.627, \n",
      "[782/1000][  3/16], Loss_D: 1.033 Loss_G: 1.500, D(x): 0.806 D(G(z)): 0.476/ 0.198, Test error: 1.621 and 0.669, \n",
      "[785/1000][  5/16], Loss_D: 0.761 Loss_G: 1.587, D(x): 0.817 D(G(z)): 0.245/ 0.180, Test error: 1.846 and 0.607, \n",
      "[788/1000][  7/16], Loss_D: 0.763 Loss_G: 1.523, D(x): 0.735 D(G(z)): 0.168/ 0.196, Test error: 1.804 and 0.549, \n",
      "[791/1000][  9/16], Loss_D: 1.011 Loss_G: 1.267, D(x): 0.586 D(G(z)): 0.288/ 0.256, Test error: 1.655 and 0.654, \n",
      "[794/1000][ 11/16], Loss_D: 0.909 Loss_G: 1.802, D(x): 0.601 D(G(z)): 0.146/ 0.150, Test error: 1.593 and 0.685, \n",
      "[797/1000][ 13/16], Loss_D: 0.731 Loss_G: 1.728, D(x): 0.822 D(G(z)): 0.209/ 0.154, Test error: 1.765 and 0.664, \n",
      "[800/1000][ 15/16], Loss_D: 0.707 Loss_G: 1.878, D(x): 0.796 D(G(z)): 0.099/ 0.129, Test error: 1.583 and 0.693, \n",
      "[804/1000][  1/16], Loss_D: 0.885 Loss_G: 1.718, D(x): 0.612 D(G(z)): 0.127/ 0.156, Test error: 1.603 and 0.673, \n",
      "[807/1000][  3/16], Loss_D: 0.745 Loss_G: 1.472, D(x): 0.763 D(G(z)): 0.126/ 0.208, Test error: 1.603 and 0.690, \n",
      "[810/1000][  5/16], Loss_D: 1.535 Loss_G: 1.020, D(x): 0.452 D(G(z)): 0.517/ 0.342, Test error: 1.580 and 0.693, \n",
      "[813/1000][  7/16], Loss_D: 1.603 Loss_G: 1.614, D(x): 0.263 D(G(z)): 0.118/ 0.181, Test error: 1.597 and 0.695, \n",
      "[816/1000][  9/16], Loss_D: 1.854 Loss_G: 1.736, D(x): 0.201 D(G(z)): 0.151/ 0.156, Test error: 1.630 and 0.693, \n",
      "[819/1000][ 11/16], Loss_D: 0.915 Loss_G: 1.800, D(x): 0.590 D(G(z)): 0.135/ 0.143, Test error: 1.521 and 0.707, \n",
      "[822/1000][ 13/16], Loss_D: 0.745 Loss_G: 1.934, D(x): 0.785 D(G(z)): 0.190/ 0.123, Test error: 1.578 and 0.711, \n",
      "[825/1000][ 15/16], Loss_D: 0.775 Loss_G: 1.667, D(x): 0.713 D(G(z)): 0.109/ 0.172, Test error: 1.563 and 0.710, \n",
      "[829/1000][  1/16], Loss_D: 0.687 Loss_G: 2.097, D(x): 0.816 D(G(z)): 0.122/ 0.101, Test error: 1.560 and 0.698, \n",
      "[832/1000][  3/16], Loss_D: 1.644 Loss_G: 1.467, D(x): 0.254 D(G(z)): 0.177/ 0.218, Test error: 1.605 and 0.667, \n",
      "[835/1000][  5/16], Loss_D: 0.919 Loss_G: 1.623, D(x): 0.610 D(G(z)): 0.190/ 0.172, Test error: 1.620 and 0.658, \n",
      "[838/1000][  7/16], Loss_D: 1.655 Loss_G: 1.848, D(x): 0.828 D(G(z)): 0.742/ 0.145, Test error: 1.601 and 0.673, \n",
      "[841/1000][  9/16], Loss_D: 0.837 Loss_G: 1.430, D(x): 0.770 D(G(z)): 0.290/ 0.213, Test error: 1.520 and 0.709, \n",
      "[844/1000][ 11/16], Loss_D: 1.981 Loss_G: 0.354, D(x): 0.867 D(G(z)): 0.824/ 0.823, Test error: 1.620 and 0.677, \n",
      "[847/1000][ 13/16], Loss_D: 1.091 Loss_G: 0.859, D(x): 0.823 D(G(z)): 0.515/ 0.415, Test error: 1.537 and 0.706, \n",
      "[850/1000][ 15/16], Loss_D: 2.113 Loss_G: 1.502, D(x): 0.154 D(G(z)): 0.167/ 0.213, Test error: 1.583 and 0.695, \n",
      "[854/1000][  1/16], Loss_D: 1.453 Loss_G: 1.712, D(x): 0.862 D(G(z)): 0.693/ 0.167, Test error: 1.574 and 0.696, \n",
      "[857/1000][  3/16], Loss_D: 0.929 Loss_G: 1.952, D(x): 0.578 D(G(z)): 0.150/ 0.126, Test error: 1.549 and 0.696, \n",
      "[860/1000][  5/16], Loss_D: 0.680 Loss_G: 1.287, D(x): 0.855 D(G(z)): 0.112/ 0.248, Test error: 1.628 and 0.673, \n",
      "[863/1000][  7/16], Loss_D: 0.696 Loss_G: 1.713, D(x): 0.822 D(G(z)): 0.148/ 0.156, Test error: 1.636 and 0.660, \n",
      "[866/1000][  9/16], Loss_D: 1.332 Loss_G: 1.711, D(x): 0.350 D(G(z)): 0.158/ 0.158, Test error: 1.573 and 0.682, \n",
      "[869/1000][ 11/16], Loss_D: 0.767 Loss_G: 1.439, D(x): 0.820 D(G(z)): 0.261/ 0.212, Test error: 1.578 and 0.690, \n",
      "[872/1000][ 13/16], Loss_D: 0.699 Loss_G: 2.011, D(x): 0.818 D(G(z)): 0.124/ 0.115, Test error: 1.578 and 0.695, \n",
      "[875/1000][ 15/16], Loss_D: 0.669 Loss_G: 1.787, D(x): 0.883 D(G(z)): 0.131/ 0.153, Test error: 1.645 and 0.657, \n",
      "[879/1000][  1/16], Loss_D: 0.707 Loss_G: 1.947, D(x): 0.809 D(G(z)): 0.095/ 0.118, Test error: 1.622 and 0.666, \n",
      "[882/1000][  3/16], Loss_D: 0.718 Loss_G: 1.721, D(x): 0.827 D(G(z)): 0.175/ 0.160, Test error: 1.669 and 0.642, \n",
      "[885/1000][  5/16], Loss_D: 1.186 Loss_G: 1.727, D(x): 0.451 D(G(z)): 0.225/ 0.164, Test error: 1.695 and 0.640, \n",
      "[888/1000][  7/16], Loss_D: 0.686 Loss_G: 1.832, D(x): 0.845 D(G(z)): 0.120/ 0.138, Test error: 1.751 and 0.612, \n",
      "[891/1000][  9/16], Loss_D: 0.888 Loss_G: 1.850, D(x): 0.885 D(G(z)): 0.390/ 0.138, Test error: 1.688 and 0.697, \n",
      "[894/1000][ 11/16], Loss_D: 0.787 Loss_G: 1.738, D(x): 0.773 D(G(z)): 0.246/ 0.150, Test error: 1.563 and 0.706, \n",
      "[897/1000][ 13/16], Loss_D: 1.833 Loss_G: 0.376, D(x): 0.795 D(G(z)): 0.790/ 0.795, Test error: 1.556 and 0.699, \n",
      "[900/1000][ 15/16], Loss_D: 1.183 Loss_G: 1.780, D(x): 0.424 D(G(z)): 0.164/ 0.149, Test error: 1.531 and 0.706, \n",
      "[904/1000][  1/16], Loss_D: 0.679 Loss_G: 1.995, D(x): 0.852 D(G(z)): 0.120/ 0.113, Test error: 1.608 and 0.693, \n",
      "[907/1000][  3/16], Loss_D: 0.697 Loss_G: 1.807, D(x): 0.832 D(G(z)): 0.099/ 0.148, Test error: 1.612 and 0.684, \n",
      "[910/1000][  5/16], Loss_D: 0.693 Loss_G: 2.282, D(x): 0.887 D(G(z)): 0.139/ 0.090, Test error: 2.020 and 0.654, \n",
      "[913/1000][  7/16], Loss_D: 0.746 Loss_G: 1.716, D(x): 0.765 D(G(z)): 0.130/ 0.162, Test error: 2.008 and 0.654, \n",
      "[916/1000][  9/16], Loss_D: 0.701 Loss_G: 1.940, D(x): 0.899 D(G(z)): 0.172/ 0.129, Test error: 2.777 and 0.594, \n",
      "[919/1000][ 11/16], Loss_D: 0.690 Loss_G: 2.076, D(x): 0.871 D(G(z)): 0.098/ 0.108, Test error: 2.886 and 0.577, \n",
      "[922/1000][ 13/16], Loss_D: 0.674 Loss_G: 2.050, D(x): 0.902 D(G(z)): 0.100/ 0.114, Test error: 2.668 and 0.509, \n",
      "[925/1000][ 15/16], Loss_D: 0.704 Loss_G: 1.622, D(x): 0.916 D(G(z)): 0.128/ 0.201, Test error: 2.758 and 0.473, \n",
      "[929/1000][  1/16], Loss_D: 0.659 Loss_G: 2.054, D(x): 0.904 D(G(z)): 0.117/ 0.113, Test error: 2.606 and 0.437, \n",
      "[932/1000][  3/16], Loss_D: 0.687 Loss_G: 1.664, D(x): 0.876 D(G(z)): 0.144/ 0.163, Test error: 2.626 and -0.076, \n",
      "[935/1000][  5/16], Loss_D: 0.678 Loss_G: 1.813, D(x): 0.892 D(G(z)): 0.136/ 0.162, Test error: 2.753 and -0.332, \n",
      "[938/1000][  7/16], Loss_D: 0.684 Loss_G: 1.977, D(x): 0.824 D(G(z)): 0.090/ 0.122, Test error: 3.841 and -0.490, \n",
      "[941/1000][  9/16], Loss_D: 0.673 Loss_G: 2.072, D(x): 0.868 D(G(z)): 0.102/ 0.105, Test error: 3.963 and -0.513, \n",
      "[944/1000][ 11/16], Loss_D: 0.688 Loss_G: 2.066, D(x): 0.882 D(G(z)): 0.100/ 0.124, Test error: 3.091 and -0.364, \n",
      "[947/1000][ 13/16], Loss_D: 0.669 Loss_G: 1.922, D(x): 0.878 D(G(z)): 0.133/ 0.128, Test error: 3.122 and -0.312, \n",
      "[950/1000][ 15/16], Loss_D: 0.675 Loss_G: 1.819, D(x): 0.856 D(G(z)): 0.125/ 0.135, Test error: 3.727 and -0.437, \n",
      "[954/1000][  1/16], Loss_D: 0.708 Loss_G: 1.851, D(x): 0.864 D(G(z)): 0.184/ 0.149, Test error: 3.442 and -0.391, \n",
      "[957/1000][  3/16], Loss_D: 0.660 Loss_G: 2.039, D(x): 0.910 D(G(z)): 0.121/ 0.111, Test error: 3.465 and -0.259, \n",
      "[960/1000][  5/16], Loss_D: 0.680 Loss_G: 2.029, D(x): 0.879 D(G(z)): 0.106/ 0.130, Test error: 3.638 and -0.369, \n",
      "[963/1000][  7/16], Loss_D: 0.683 Loss_G: 1.996, D(x): 0.888 D(G(z)): 0.124/ 0.121, Test error: 3.452 and -0.277, \n",
      "[966/1000][  9/16], Loss_D: 0.667 Loss_G: 1.941, D(x): 0.901 D(G(z)): 0.114/ 0.122, Test error: 3.131 and -0.226, \n",
      "[969/1000][ 11/16], Loss_D: 0.678 Loss_G: 2.199, D(x): 0.856 D(G(z)): 0.130/ 0.114, Test error: 3.117 and -0.170, \n",
      "[972/1000][ 13/16], Loss_D: 0.709 Loss_G: 2.137, D(x): 0.804 D(G(z)): 0.095/ 0.096, Test error: 3.112 and -0.200, \n",
      "[975/1000][ 15/16], Loss_D: 0.718 Loss_G: 1.831, D(x): 0.843 D(G(z)): 0.143/ 0.139, Test error: 3.525 and -0.233, \n",
      "[979/1000][  1/16], Loss_D: 0.665 Loss_G: 2.085, D(x): 0.898 D(G(z)): 0.096/ 0.117, Test error: 4.171 and -0.232, \n",
      "[982/1000][  3/16], Loss_D: 0.670 Loss_G: 2.180, D(x): 0.896 D(G(z)): 0.091/ 0.094, Test error: 4.410 and -0.299, \n",
      "[985/1000][  5/16], Loss_D: 0.698 Loss_G: 1.938, D(x): 0.877 D(G(z)): 0.137/ 0.126, Test error: 4.339 and -0.286, \n",
      "[988/1000][  7/16], Loss_D: 0.661 Loss_G: 1.981, D(x): 0.889 D(G(z)): 0.104/ 0.118, Test error: 4.191 and -0.385, \n",
      "[991/1000][  9/16], Loss_D: 0.700 Loss_G: 2.158, D(x): 0.826 D(G(z)): 0.090/ 0.097, Test error: 3.957 and -0.291, \n",
      "[994/1000][ 11/16], Loss_D: 0.665 Loss_G: 1.971, D(x): 0.914 D(G(z)): 0.114/ 0.135, Test error: 4.096 and -0.191, \n",
      "[997/1000][ 13/16], Loss_D: 0.675 Loss_G: 1.797, D(x): 0.885 D(G(z)): 0.150/ 0.150, Test error: 4.000 and -0.088, \n",
      "[1000/1000][ 15/16], Loss_D: 0.675 Loss_G: 2.142, D(x): 0.886 D(G(z)): 0.102/ 0.094, Test error: 3.897 and 0.020, \n"
     ]
    }
   ],
   "source": [
    "# Training Loop\n",
    "\n",
    "# Lists to keep track of progress\n",
    "G_losses = []\n",
    "D_losses = []\n",
    "test_errs = []\n",
    "iters = 0\n",
    "\n",
    "print(\"Starting Training Loop...\")\n",
    "# For each epoch\n",
    "netG.train()\n",
    "netD.train()\n",
    "for epoch in range(num_epochs):\n",
    "    # For each batch in the dataloader\n",
    "    for i, data in enumerate(train_dataloader, 0):\n",
    "        X, realY = data\n",
    "        realY = realY.unsqueeze(-1)\n",
    "\n",
    "        ############################\n",
    "        # (1) Update D network: maximize log(D(x)) + log(1 - D(G(z)))\n",
    "        ###########################\n",
    "        ## Train with all-real batch\n",
    "        netD.zero_grad()\n",
    "        # Format batch\n",
    "        b_size = realY.size(0)\n",
    "        label = torch.full((b_size,), real_label, dtype=torch.float64, device=device)\n",
    "        # Forward pass real batch through D\n",
    "        output = netD(X, realY).view(-1)\n",
    "        # Calculate loss on all-real batch\n",
    "        errD_real = criterion(output, label)\n",
    "        # Calculate gradients for D in backward pass\n",
    "        errD_real.backward()\n",
    "        D_x = output.mean().item()\n",
    "\n",
    "        ## Train with all-fake batch\n",
    "        # Generate batch of latent vectors\n",
    "        noise = torch.randn(b_size, nz, device=device)\n",
    "        # Generate fake image batch with G\n",
    "        fake = netG(X, noise)\n",
    "        label.fill_(fake_label)\n",
    "        # Classify all fake batch with D\n",
    "        output = netD(X, fake.detach()).view(-1)\n",
    "        # Calculate D's loss on the all-fake batch\n",
    "        errD_fake = criterion(output, label)\n",
    "        # Calculate the gradients for this batch, accumulated (summed) with previous gradients\n",
    "        errD_fake.backward()\n",
    "        D_G_z1 = output.mean().item()\n",
    "        # Compute error of D as sum over the fake and the real batches\n",
    "        errD = errD_real + errD_fake\n",
    "        # Update D\n",
    "        optimizerD.step()\n",
    "\n",
    "        ############################\n",
    "        # (2) Update G network: maximize log(D(G(z)))\n",
    "        ###########################\n",
    "        netG.zero_grad()\n",
    "        label.fill_(real_label)  # fake labels are real for generator cost\n",
    "        # Since we just updated D, perform another forward pass of all-fake batch through D\n",
    "        output = netD(X, fake).view(-1)\n",
    "        # Calculate G's loss based on this output\n",
    "        errG = criterion(output, label)\n",
    "        # Calculate gradients for G\n",
    "        errG.backward()\n",
    "        D_G_z2 = output.mean().item()\n",
    "        # Update G\n",
    "        optimizerG.step()\n",
    "\n",
    "        # Output training stats\n",
    "        if (iters+1) % 50 == 0:\n",
    "            tX = torch.tensor(datatest.X)\n",
    "            tZ = torch.randn(ntest, nz);\n",
    "            \n",
    "            netG.eval()\n",
    "            with torch.no_grad():\n",
    "                tY_hat = netG(tX, tZ).detach().numpy().reshape(-1);\n",
    "                test_err = np.sqrt(np.mean((tY_hat - datatest.Y1)**2))\n",
    "                v, _ = ss.pearsonr(datatest.Y1, tY_hat)\n",
    "                \n",
    "                datatest_con = get_simu_data(ntest, d, rho=0.9, is_homo=True, is_condition=True);\n",
    "                tX_con = torch.tensor(datatest_con.X)\n",
    "                tY_hat_con = netG(tX_con, tZ).detach().numpy().reshape(-1);\n",
    "                #kl1, kl2 = get_kl(tY_hat_con, datatest_con.Y1)\n",
    "\n",
    "            print(f\"[{epoch+1}/{num_epochs}][{i:>3}/{len(train_dataloader)}], \"\n",
    "                  f\"Loss_D: {errD.item():.3f} Loss_G: {errG.item():.3f}, \"\n",
    "                  f\"D(x): {D_x:.3f} D(G(z)): {D_G_z1:.3f}/ {D_G_z2:.3f}, \"\n",
    "                  f\"Test error: {test_err:.3f} and {v:.3f}, \")\n",
    "                  #f\"KL: {kl1:.3f} and {kl2:.3f}\")\n",
    "            test_errs.append(test_err)\n",
    "            netG.train()\n",
    "            \n",
    "        # Save Losses for plotting later\n",
    "        G_losses.append(errG.item())\n",
    "        D_losses.append(errD.item())\n",
    "\n",
    "\n",
    "        iters += 1\n",
    "    if (epoch+1) % 100 == 0:\n",
    "        torch.save(netG.state_dict(), save_dir/f\"gan_v1_demo_G_epoch{epoch+1}.pth\")\n",
    "        torch.save(netD.state_dict(), save_dir/f\"gan_v1_demo_D_epoch{epoch+1}.pth\")"
   ]
  },
  {
   "cell_type": "code",
   "execution_count": 14,
   "id": "c4bc22b6-3d41-40aa-bd54-05078ed476f2",
   "metadata": {
    "execution": {
     "iopub.execute_input": "2023-12-08T18:37:53.433847Z",
     "iopub.status.busy": "2023-12-08T18:37:53.433239Z",
     "iopub.status.idle": "2023-12-08T18:37:53.524103Z",
     "shell.execute_reply": "2023-12-08T18:37:53.522843Z",
     "shell.execute_reply.started": "2023-12-08T18:37:53.433799Z"
    },
    "tags": []
   },
   "outputs": [],
   "source": [
    "def moving_average(data, window_size):\n",
    "    \"\"\"\n",
    "    Calculates the moving average of the given data using NumPy.\n",
    "\n",
    "    :param data: A NumPy array or a list of numerical values.\n",
    "    :param window_size: The size of the moving window. It must be a positive integer.\n",
    "    :return: A NumPy array containing the moving averages.\n",
    "    \"\"\"\n",
    "    if window_size <= 0:\n",
    "        raise ValueError(\"Window size must be a positive integer\")\n",
    "\n",
    "    if len(data) < window_size:\n",
    "        raise ValueError(\"Data length must be larger than or equal to the window size\")\n",
    "\n",
    "    cumsum = np.cumsum(np.insert(data, 0, 0)) \n",
    "    return (cumsum[window_size:] - cumsum[:-window_size]) / float(window_size)\n",
    "\n"
   ]
  },
  {
   "cell_type": "code",
   "execution_count": 16,
   "id": "25b25839-29e3-4f0b-8d81-893e9e67a02c",
   "metadata": {
    "execution": {
     "iopub.execute_input": "2023-12-08T18:38:07.576483Z",
     "iopub.status.busy": "2023-12-08T18:38:07.575834Z",
     "iopub.status.idle": "2023-12-08T18:38:07.709925Z",
     "shell.execute_reply": "2023-12-08T18:38:07.709472Z",
     "shell.execute_reply.started": "2023-12-08T18:38:07.576435Z"
    },
    "tags": []
   },
   "outputs": [
    {
     "data": {
      "text/plain": [
       "[<matplotlib.lines.Line2D at 0x7f7515ec0d00>]"
      ]
     },
     "execution_count": 16,
     "metadata": {},
     "output_type": "execute_result"
    },
    {
     "data": {
      "image/png": "[encoded data removed]",
      "text/plain": [
       "<Figure size 1000x500 with 1 Axes>"
      ]
     },
     "metadata": {
      "needs_background": "light"
     },
     "output_type": "display_data"
    }
   ],
   "source": [
    "plt.plot(moving_average(G_losses, 100))"
   ]
  },
  {
   "cell_type": "code",
   "execution_count": null,
   "id": "f3048413-2a7a-42cf-91ce-a94f7f82b9bf",
   "metadata": {},
   "outputs": [],
   "source": []
  },
  {
   "cell_type": "markdown",
   "id": "78c3a13b-b013-4fdb-8c90-ce127e177951",
   "metadata": {},
   "source": [
    "## Evaluate"
   ]
  },
  {
   "cell_type": "code",
   "execution_count": 17,
   "id": "c6947746-ddbd-4a0c-b587-c42631b4905f",
   "metadata": {
    "execution": {
     "iopub.execute_input": "2023-12-08T18:38:12.469808Z",
     "iopub.status.busy": "2023-12-08T18:38:12.469183Z",
     "iopub.status.idle": "2023-12-08T18:38:12.505937Z",
     "shell.execute_reply": "2023-12-08T18:38:12.505150Z",
     "shell.execute_reply.started": "2023-12-08T18:38:12.469762Z"
    },
    "tags": []
   },
   "outputs": [],
   "source": [
    "datatest_con = get_simu_data(ntest, d, rho=0.9, is_homo=True, is_condition=True);\n",
    "tX_con = torch.tensor(datatest_con.X)\n",
    "tZ = torch.randn(ntest, nz);"
   ]
  },
  {
   "cell_type": "code",
   "execution_count": 18,
   "id": "8bf9a5d8-81fc-468a-bf64-6f9c14dbd6ac",
   "metadata": {
    "execution": {
     "iopub.execute_input": "2023-12-08T18:38:13.024188Z",
     "iopub.status.busy": "2023-12-08T18:38:13.023649Z",
     "iopub.status.idle": "2023-12-08T18:38:13.062563Z",
     "shell.execute_reply": "2023-12-08T18:38:13.061845Z",
     "shell.execute_reply.started": "2023-12-08T18:38:13.024144Z"
    },
    "tags": []
   },
   "outputs": [
    {
     "data": {
      "text/plain": [
       "794.1597885489562"
      ]
     },
     "execution_count": 18,
     "metadata": {},
     "output_type": "execute_result"
    }
   ],
   "source": [
    "netG.eval()\n",
    "with torch.no_grad():\n",
    "    tY_con_hat = netG(tX_con, tZ).detach().numpy().reshape(-1);\n",
    "tY_con_hat.sum()"
   ]
  },
  {
   "cell_type": "code",
   "execution_count": 19,
   "id": "dac22e04-5ed0-4ad1-90ec-1b7778af9438",
   "metadata": {
    "execution": {
     "iopub.execute_input": "2023-12-08T18:38:13.640398Z",
     "iopub.status.busy": "2023-12-08T18:38:13.639867Z",
     "iopub.status.idle": "2023-12-08T18:38:13.787750Z",
     "shell.execute_reply": "2023-12-08T18:38:13.787308Z",
     "shell.execute_reply.started": "2023-12-08T18:38:13.640355Z"
    },
    "tags": []
   },
   "outputs": [
    {
     "data": {
      "text/plain": [
       "<matplotlib.legend.Legend at 0x7f7515e52580>"
      ]
     },
     "execution_count": 19,
     "metadata": {},
     "output_type": "execute_result"
    },
    {
     "data": {
      "image/png": "[encoded data removed]",
      "text/plain": [
       "<Figure size 1000x500 with 1 Axes>"
      ]
     },
     "metadata": {
      "needs_background": "light"
     },
     "output_type": "display_data"
    }
   ],
   "source": [
    "sns.kdeplot(datatest_con.Y1, label=\"observed\")\n",
    "sns.kdeplot(tY_con_hat, label=\"predict\")\n",
    "plt.legend()"
   ]
  },
  {
   "cell_type": "code",
   "execution_count": null,
   "id": "ccd395d2-d1fb-44d5-bf5c-419b00e324d9",
   "metadata": {},
   "outputs": [],
   "source": []
  },
  {
   "cell_type": "code",
   "execution_count": 20,
   "id": "70c2a567-c16e-466b-82a2-d705664b648f",
   "metadata": {
    "execution": {
     "iopub.execute_input": "2023-12-08T18:38:16.198841Z",
     "iopub.status.busy": "2023-12-08T18:38:16.198243Z",
     "iopub.status.idle": "2023-12-08T18:38:16.368361Z",
     "shell.execute_reply": "2023-12-08T18:38:16.367830Z",
     "shell.execute_reply.started": "2023-12-08T18:38:16.198794Z"
    },
    "tags": []
   },
   "outputs": [
    {
     "data": {
      "text/plain": [
       "(-10.0, 10.0)"
      ]
     },
     "execution_count": 20,
     "metadata": {},
     "output_type": "execute_result"
    },
    {
     "data": {
      "image/png": "[encoded data removed]",
      "text/plain": [
       "<Figure size 1000x500 with 1 Axes>"
      ]
     },
     "metadata": {
      "needs_background": "light"
     },
     "output_type": "display_data"
    }
   ],
   "source": [
    "tX = torch.tensor(datatest.X)\n",
    "tZ = torch.randn(ntest, nz);\n",
    "netG.eval()\n",
    "with torch.no_grad():\n",
    "    tY_hat = netG(tX, tZ).detach().numpy().reshape(-1);\n",
    "plt.figure(figsize=[10, 5])\n",
    "plt.plot(tY_hat, datatest.Y1, \".\")\n",
    "\n",
    "xx = np.linspace(-10, 10, 100)\n",
    "yy = xx\n",
    "plt.plot(xx, yy)\n",
    "plt.xlim([-10, 10])\n",
    "plt.ylim([-10, 10])"
   ]
  },
  {
   "cell_type": "code",
   "execution_count": null,
   "id": "dde741c6-afa7-4ce7-ae90-0648abf72165",
   "metadata": {},
   "outputs": [],
   "source": []
  },
  {
   "cell_type": "code",
   "execution_count": null,
   "id": "18d721a0-befb-4f46-b2b4-706599529745",
   "metadata": {},
   "outputs": [],
   "source": []
  }
 ],
 "metadata": {
  "kernelspec": {
   "display_name": "Python 3 (ipykernel)",
   "language": "python",
   "name": "python3"
  },
  "language_info": {
   "codemirror_mode": {
    "name": "ipython",
    "version": 3
   },
   "file_extension": ".py",
   "mimetype": "text/x-python",
   "name": "python",
   "nbconvert_exporter": "python",
   "pygments_lexer": "ipython3",
   "version": "3.9.7"
  },
  "toc": {
   "base_numbering": 1,
   "nav_menu": {},
   "number_sections": true,
   "sideBar": true,
   "skip_h1_title": false,
   "title_cell": "Table of Contents",
   "title_sidebar": "Contents",
   "toc_cell": false,
   "toc_position": {},
   "toc_section_display": true,
   "toc_window_display": false
  },
  "toc-autonumbering": true
 },
 "nbformat": 4,
 "nbformat_minor": 5
}
