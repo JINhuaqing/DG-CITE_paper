{
 "cells": [
  {
   "cell_type": "code",
   "execution_count": 1,
   "id": "7be37593-bf50-4fc1-b617-ff93ca3fb707",
   "metadata": {
    "execution": {
     "iopub.execute_input": "2023-12-08T18:02:01.061232Z",
     "iopub.status.busy": "2023-12-08T18:02:01.060505Z",
     "iopub.status.idle": "2023-12-08T18:02:01.076402Z",
     "shell.execute_reply": "2023-12-08T18:02:01.073508Z",
     "shell.execute_reply.started": "2023-12-08T18:02:01.061185Z"
    },
    "tags": []
   },
   "outputs": [],
   "source": [
    "import sys\n",
    "sys.path.append(\"../mypkg\")"
   ]
  },
  {
   "cell_type": "code",
   "execution_count": 37,
   "id": "91ac97e6-00aa-46a1-85cb-5b2a3c41e0e0",
   "metadata": {
    "execution": {
     "iopub.execute_input": "2023-12-08T18:33:06.280864Z",
     "iopub.status.busy": "2023-12-08T18:33:06.280249Z",
     "iopub.status.idle": "2023-12-08T18:33:06.327785Z",
     "shell.execute_reply": "2023-12-08T18:33:06.327036Z",
     "shell.execute_reply.started": "2023-12-08T18:33:06.280818Z"
    },
    "tags": []
   },
   "outputs": [],
   "source": [
    "from constants import RES_ROOT, FIG_ROOT, DATA_ROOT\n",
    "from utils.misc import load_pkl, save_pkl, merge_intervals\n",
    "from utils.colors import qual_cmap\n",
    "from utils.stats import weighted_quantile\n",
    "from data_gen import get_simu_data\n",
    "from models.gan_v2 import Generator, Discriminator"
   ]
  },
  {
   "cell_type": "code",
   "execution_count": 38,
   "id": "f1775f04-ea35-40dc-90e8-61a284a9daf2",
   "metadata": {
    "execution": {
     "iopub.execute_input": "2023-12-08T18:33:06.666437Z",
     "iopub.status.busy": "2023-12-08T18:33:06.665895Z",
     "iopub.status.idle": "2023-12-08T18:33:06.703638Z",
     "shell.execute_reply": "2023-12-08T18:33:06.702982Z",
     "shell.execute_reply.started": "2023-12-08T18:33:06.666392Z"
    },
    "tags": []
   },
   "outputs": [
    {
     "name": "stdout",
     "output_type": "stream",
     "text": [
      "The autoreload extension is already loaded. To reload it, use:\n",
      "  %reload_ext autoreload\n"
     ]
    }
   ],
   "source": [
    "%load_ext autoreload\n",
    "%autoreload 2\n",
    "# 0,1, 2, 3, be careful about the space"
   ]
  },
  {
   "cell_type": "code",
   "execution_count": 39,
   "id": "90d1fe06-f921-466f-a1c5-32f8f1e438f3",
   "metadata": {
    "execution": {
     "iopub.execute_input": "2023-12-08T18:33:06.956426Z",
     "iopub.status.busy": "2023-12-08T18:33:06.955897Z",
     "iopub.status.idle": "2023-12-08T18:33:06.991609Z",
     "shell.execute_reply": "2023-12-08T18:33:06.990606Z",
     "shell.execute_reply.started": "2023-12-08T18:33:06.956384Z"
    },
    "tags": []
   },
   "outputs": [],
   "source": [
    "import torch\n",
    "import scipy.stats as ss\n",
    "import numpy as np\n",
    "from easydict import EasyDict as edict\n",
    "import matplotlib.pyplot as plt\n",
    "import seaborn as sns\n",
    "from easydict import EasyDict as edict\n",
    "from tqdm import tqdm, trange\n",
    "import random\n",
    "from joblib import Parallel, delayed"
   ]
  },
  {
   "cell_type": "code",
   "execution_count": null,
   "id": "e79682dc-16fa-4f9e-95e8-29db9892a33c",
   "metadata": {},
   "outputs": [],
   "source": []
  },
  {
   "cell_type": "markdown",
   "id": "36d9868b-5cac-4c68-b15d-976c8deadad3",
   "metadata": {},
   "source": [
    "# Params"
   ]
  },
  {
   "cell_type": "code",
   "execution_count": 40,
   "id": "fcc1385b-ef40-40a0-8bb6-d0044845e4ff",
   "metadata": {
    "execution": {
     "iopub.execute_input": "2023-12-08T18:33:08.319353Z",
     "iopub.status.busy": "2023-12-08T18:33:08.318804Z",
     "iopub.status.idle": "2023-12-08T18:33:08.355040Z",
     "shell.execute_reply": "2023-12-08T18:33:08.354386Z",
     "shell.execute_reply.started": "2023-12-08T18:33:08.319309Z"
    },
    "tags": []
   },
   "outputs": [],
   "source": [
    "params = edict()\n",
    "\n",
    "params.simu_setting = edict()\n",
    "params.simu_setting.rho = 0.9\n",
    "params.simu_setting.is_homo = True\n",
    "params.simu_setting.n = 1000\n",
    "params.simu_setting.d = 10\n",
    "params.simu_setting.cal_ratio = 0.25\n",
    "params.simu_setting.ntest = 1000\n",
    "\n",
    "params.nrep = 100 # num of reptition for simulation\n",
    "params.K = 40 # num of sps drawn from q(Y(1)|X)\n",
    "params.G_model = \"gan_v1_demo_G_epoch1000.pth\"\n",
    "#params.G_model = None\n",
    "params.nz = 10 # the dim of features for GAN\n",
    "\n",
    "params.gan_training = edict()\n",
    "# Batch size during training\n",
    "params.gan_training.batch_size = 32\n",
    "# Number of training epochs\n",
    "params.gan_training.num_epochs = 1000\n",
    "# Learning rate for optimizers\n",
    "params.gan_training.lr = 0.002\n",
    "# Beta1 hyperparameter for Adam optimizers\n",
    "params.gan_training.beta1 = 0.5\n",
    "params.gan_training.device=\"cpu\"\n",
    "\n",
    "\n",
    "params.hypo_test = edict()\n",
    "params.hypo_test.alpha = 0.05 # sig level\n",
    "\n",
    "params.save_dir = RES_ROOT/\"demo2\"\n",
    "if not params.save_dir.exists():\n",
    "    params.save_dir.mkdir()"
   ]
  },
  {
   "cell_type": "code",
   "execution_count": null,
   "id": "607dbdbc-7c31-4705-ac99-12f8fc1ba7e8",
   "metadata": {},
   "outputs": [],
   "source": []
  },
  {
   "cell_type": "markdown",
   "id": "07a9f8cc-6cbc-4a04-a57e-d2984a156c1f",
   "metadata": {},
   "source": [
    "# Some fns"
   ]
  },
  {
   "cell_type": "code",
   "execution_count": 41,
   "id": "d7610d42-fd40-4d50-81d7-04dc8abcfbab",
   "metadata": {
    "execution": {
     "iopub.execute_input": "2023-12-08T18:33:10.098932Z",
     "iopub.status.busy": "2023-12-08T18:33:10.098331Z",
     "iopub.status.idle": "2023-12-08T18:33:10.141704Z",
     "shell.execute_reply": "2023-12-08T18:33:10.140998Z",
     "shell.execute_reply.started": "2023-12-08T18:33:10.098886Z"
    },
    "tags": []
   },
   "outputs": [],
   "source": [
    "def _gen_Y_given_X(X):\n",
    "    \"\"\"With generative model f(Y|X), generate Y given X\n",
    "    \"\"\"\n",
    "    if X.ndim == 1:\n",
    "        X = X.reshape(1, -1)\n",
    "    X_mul = torch.tensor(X * np.ones((params.K, 1)));\n",
    "    Zs = torch.randn(params.K, params.nz);\n",
    "    with torch.no_grad():\n",
    "        Yhat = netG(X_mul, Zs).view(-1).numpy()\n",
    "    return Yhat\n",
    "\n",
    "def _get_pred_intv(X, qv):\n",
    "    teY_hat = _gen_Y_given_X(X);\n",
    "    intvs = np.stack([teY_hat-qv, teY_hat+qv]).T\n",
    "    return merge_intervals(intvs)\n",
    "\n",
    "def _get_metric(v, intvs):\n",
    "    if not isinstance(v, np.ndarray):\n",
    "        v = np.array(v)\n",
    "    in_sets = np.sum([np.bitwise_and(v>intv[0], v<intv[1]) for intv in intvs], axis=0)\n",
    "    intvs_len = np.sum([np.diff(intv) for intv in intvs])\n",
    "    metrics = edict()\n",
    "    metrics.in_sets = in_sets\n",
    "    metrics.intvs_len = intvs_len\n",
    "    return metrics"
   ]
  },
  {
   "cell_type": "code",
   "execution_count": null,
   "id": "dddb3bb0-3078-447a-a128-7d3f46e83e2a",
   "metadata": {},
   "outputs": [],
   "source": []
  },
  {
   "cell_type": "markdown",
   "id": "5a5a72c7-3992-4f6e-8eee-bb2fc6f177c0",
   "metadata": {},
   "source": [
    "# Simu"
   ]
  },
  {
   "cell_type": "code",
   "execution_count": 42,
   "id": "58f5bdff-fd9f-49bb-8fed-10de85a02eb8",
   "metadata": {
    "execution": {
     "iopub.execute_input": "2023-12-08T18:33:11.620758Z",
     "iopub.status.busy": "2023-12-08T18:33:11.620210Z",
     "iopub.status.idle": "2023-12-08T18:33:11.672302Z",
     "shell.execute_reply": "2023-12-08T18:33:11.671202Z",
     "shell.execute_reply.started": "2023-12-08T18:33:11.620713Z"
    },
    "tags": []
   },
   "outputs": [],
   "source": [
    "# train q(Y(1)|X)\n",
    "# I skip this for now, suppose you get one\n",
    "torch.set_default_dtype(torch.float64)\n",
    "torch.set_default_tensor_type(torch.DoubleTensor)\n",
    "netG = Generator(params.simu_setting.d, nz=params.nz);\n",
    "if params.G_model is not None:\n",
    "    netG.load_state_dict(torch.load(params.save_dir/params.G_model))\n",
    "netG.eval();\n",
    "\n",
    "def _run_fn(rep_ix):\n",
    "    manualSeed = rep_ix\n",
    "    random.seed(manualSeed)\n",
    "    np.random.seed(manualSeed)\n",
    "    torch.manual_seed(manualSeed)\n",
    "    torch.use_deterministic_algorithms(True) # Needed for reproducible results\n",
    "\n",
    "    data_train = get_simu_data(n=params.simu_setting.n, \n",
    "                               d=params.simu_setting.d, \n",
    "                               is_homo=params.simu_setting.is_homo, \n",
    "                               rho=params.simu_setting.rho);\n",
    "    data_test = get_simu_data(n=params.simu_setting.ntest, \n",
    "                               d=params.simu_setting.d, \n",
    "                               is_homo=params.simu_setting.is_homo, \n",
    "                               rho=params.simu_setting.rho);\n",
    "    n_train = int(data_train.T.sum()*(1-params.simu_setting.cal_ratio));\n",
    "    tr_idxs = np.sort(np.random.choice(np.where(data_train.T)[0], size=n_train, replace=False));\n",
    "    cal_idxs = np.setdiff1d(np.where(data_train.T)[0], tr_idxs);\n",
    "    \n",
    "    \n",
    "    # train q(Y(1)|X)\n",
    "    # I skip this for now, suppose you get one\n",
    "    torch.set_default_dtype(torch.float64)\n",
    "    torch.set_default_tensor_type(torch.DoubleTensor)\n",
    "    #netG = Generator(params.simu_setting.d, nz=params.nz);\n",
    "    #if params.G_model is not None:\n",
    "    #    netG.load_state_dict(torch.load(params.save_dir/params.G_model))\n",
    "    #netG.eval();\n",
    "    \n",
    "    \n",
    "    # propensity score\n",
    "    # I can use all data in train set (including cal set)\n",
    "    from sklearn.linear_model import LogisticRegression\n",
    "    clf = LogisticRegression(random_state=0)\n",
    "    psY = data_train.T.astype(int)\n",
    "    psX = data_train.X\n",
    "    clf = clf.fit(psX, psY);\n",
    "    def psfun(x):\n",
    "        if x.ndim == 1:\n",
    "            x = x.reshape(1, -1)\n",
    "        return clf.predict_proba(x)[:, 1]\n",
    "    \n",
    "    \n",
    "    # weight function\n",
    "    def wtfun(x):\n",
    "        # for unconditional weight\n",
    "        return 1/psfun(x)\n",
    "    \n",
    "    \n",
    "    # get the weight and nonconformity score for each data point in cal set\n",
    "    wE_set = []\n",
    "    for cal_idx in cal_idxs:\n",
    "        cal_X = data_train.X[cal_idx]\n",
    "        cal_Y = data_train.Y1[cal_idx]\n",
    "        w = wtfun(cal_X)\n",
    "        \n",
    "        # draw K sps from q(Y|X)\n",
    "        Yhat = _gen_Y_given_X(cal_X)\n",
    "            \n",
    "        # the nonconformity score\n",
    "        E = np.abs(Yhat - cal_Y).min()\n",
    "        \n",
    "        wE_set.append([w[0], E])\n",
    "        \n",
    "    # now we get weighted quantile\n",
    "    ws = np.array(wE_set)[:, 0]\n",
    "    Es = np.array(wE_set)[:, 1];\n",
    "    qv = weighted_quantile(Es, [(1-params.hypo_test.alpha)*(1/len(Es)+1)], sample_weight=ws);\n",
    "    \n",
    "    \n",
    "    # evaluate on test data\n",
    "    \n",
    "    test_res = []\n",
    "    for te_idx in range(params.simu_setting.ntest):\n",
    "        teX = data_test.X[te_idx]\n",
    "        teY1 = data_test.Y1[te_idx]\n",
    "        tetau = data_test.tau[te_idx]\n",
    "        intvs = _get_pred_intv(teX, qv)\n",
    "        test_res.append(_get_metric([teY1, tetau], intvs))\n",
    "    cv_probs = np.mean([res['in_sets'] for res in test_res], axis=0)\n",
    "    mlen = np.mean([res['intvs_len'] for res in test_res])\n",
    "    return (cv_probs, mlen)"
   ]
  },
  {
   "cell_type": "code",
   "execution_count": 43,
   "id": "4a284285-c07c-4d2c-8d83-4308a9aeee92",
   "metadata": {
    "execution": {
     "iopub.execute_input": "2023-12-08T18:33:12.421449Z",
     "iopub.status.busy": "2023-12-08T18:33:12.420883Z",
     "iopub.status.idle": "2023-12-08T18:33:20.075008Z",
     "shell.execute_reply": "2023-12-08T18:33:20.074450Z",
     "shell.execute_reply.started": "2023-12-08T18:33:12.421403Z"
    },
    "tags": []
   },
   "outputs": [
    {
     "name": "stderr",
     "output_type": "stream",
     "text": [
      "100%|████████████████████████████████████████████████████████████████████████████████████████████████████████████████████████████████████████| 100/100 [00:06<00:00, 16.16it/s]\n"
     ]
    },
    {
     "name": "stdout",
     "output_type": "stream",
     "text": [
      "Save to /data/rajlab1/user_data/jin/MyResearch/DG-CITE_paper/notebooks/../mypkg/../results/demo2/res_gan_v1_demo_G_epoch1000_nz10.pkl\n"
     ]
    }
   ],
   "source": [
    "with Parallel(n_jobs=20) as parallel:\n",
    "    test_ress = parallel(delayed(_run_fn)(rep_ix) for rep_ix in tqdm(range(params.nrep), total=params.nrep))\n",
    "\n",
    "if params.G_model is not None:\n",
    "    save_pkl(params.save_dir/f\"res_{params.G_model.split('.')[0]}_nz{params.nz}.pkl\", test_ress, is_force=True)\n",
    "else:\n",
    "    save_pkl(params.save_dir/f\"res_nz{params.nz}.pkl\", test_ress, is_force=True)"
   ]
  },
  {
   "cell_type": "code",
   "execution_count": 44,
   "id": "b744e4b8-d7ba-43e2-a400-687c02b328c5",
   "metadata": {
    "execution": {
     "iopub.execute_input": "2023-12-08T18:33:36.878178Z",
     "iopub.status.busy": "2023-12-08T18:33:36.877525Z",
     "iopub.status.idle": "2023-12-08T18:33:37.116211Z",
     "shell.execute_reply": "2023-12-08T18:33:37.115762Z",
     "shell.execute_reply.started": "2023-12-08T18:33:36.878129Z"
    },
    "tags": []
   },
   "outputs": [
    {
     "name": "stdout",
     "output_type": "stream",
     "text": [
      "Load file /data/rajlab1/user_data/jin/MyResearch/DG-CITE_paper/notebooks/../mypkg/../results/demo2/res_gan_v1_demo_G_epoch1000_nz10.pkl\n"
     ]
    },
    {
     "data": {
      "image/png": "[encoded data removed]",
      "text/plain": [
       "<Figure size 720x360 with 2 Axes>"
      ]
     },
     "metadata": {
      "needs_background": "light"
     },
     "output_type": "display_data"
    }
   ],
   "source": [
    "test_ress = load_pkl(params.save_dir/f\"res_gan_v1_demo_G_epoch1000_nz10.pkl\")\n",
    "ITE_prob = np.array([res[0][0] for res in test_ress])\n",
    "CATE_prob = np.array([res[0][1] for res in test_ress])\n",
    "lens = np.array([res[1] for res in test_ress]);\n",
    "\n",
    "plt.figure(figsize=[10, 5])\n",
    "plt.suptitle(f\"Demo results on GAN v1 (small nz)\", fontsize=20)\n",
    "plt.subplot(121)\n",
    "plt.boxplot([ITE_prob, CATE_prob]);\n",
    "plt.axhline(y=0.95, color=\"red\")\n",
    "plt.subplot(122)\n",
    "plt.boxplot([lens]);"
   ]
  },
  {
   "cell_type": "code",
   "execution_count": 26,
   "id": "467cfe1f-4f42-4853-a9c1-35e8fcd23d29",
   "metadata": {
    "execution": {
     "iopub.execute_input": "2023-12-08T18:17:50.223305Z",
     "iopub.status.busy": "2023-12-08T18:17:50.222662Z",
     "iopub.status.idle": "2023-12-08T18:17:50.404503Z",
     "shell.execute_reply": "2023-12-08T18:17:50.404036Z",
     "shell.execute_reply.started": "2023-12-08T18:17:50.223257Z"
    },
    "tags": []
   },
   "outputs": [
    {
     "name": "stdout",
     "output_type": "stream",
     "text": [
      "Load file /data/rajlab1/user_data/jin/MyResearch/DG-CITE_paper/notebooks/../mypkg/../results/demo1/res_gan_v1_demo_G_nz50.pkl\n"
     ]
    },
    {
     "data": {
      "image/png": "[encoded data removed]",
      "text/plain": [
       "<Figure size 720x360 with 2 Axes>"
      ]
     },
     "metadata": {
      "needs_background": "light"
     },
     "output_type": "display_data"
    }
   ],
   "source": [
    "test_ress = load_pkl(params.save_dir/f\"res_gan_v1_demo_G_nz50.pkl\")\n",
    "ITE_prob = np.array([res[0][0] for res in test_ress])\n",
    "CATE_prob = np.array([res[0][1] for res in test_ress])\n",
    "lens = np.array([res[1] for res in test_ress]);\n",
    "\n",
    "plt.figure(figsize=[10, 5])\n",
    "plt.suptitle(f\"Demo results on GAN v1\", fontsize=20)\n",
    "plt.subplot(121)\n",
    "plt.boxplot([ITE_prob, CATE_prob]);\n",
    "plt.axhline(y=0.95, color=\"red\")\n",
    "plt.subplot(122)\n",
    "plt.boxplot([lens]);"
   ]
  },
  {
   "cell_type": "code",
   "execution_count": 16,
   "id": "53e8cf81-9f97-405b-a80d-3d483ecef699",
   "metadata": {
    "execution": {
     "iopub.execute_input": "2023-12-08T18:04:54.669411Z",
     "iopub.status.busy": "2023-12-08T18:04:54.668632Z",
     "iopub.status.idle": "2023-12-08T18:04:54.974985Z",
     "shell.execute_reply": "2023-12-08T18:04:54.974539Z",
     "shell.execute_reply.started": "2023-12-08T18:04:54.669363Z"
    },
    "tags": []
   },
   "outputs": [
    {
     "name": "stdout",
     "output_type": "stream",
     "text": [
      "Load file /data/rajlab1/user_data/jin/MyResearch/DG-CITE_paper/notebooks/../mypkg/../results/demo1/res_nz10.pkl\n"
     ]
    },
    {
     "data": {
      "image/png": "[encoded data removed]",
      "text/plain": [
       "<Figure size 720x360 with 2 Axes>"
      ]
     },
     "metadata": {
      "needs_background": "light"
     },
     "output_type": "display_data"
    }
   ],
   "source": [
    "test_ress = load_pkl(params.save_dir/f\"res_nz10.pkl\")\n",
    "ITE_prob = np.array([res[0][0] for res in test_ress])\n",
    "CATE_prob = np.array([res[0][1] for res in test_ress])\n",
    "lens = np.array([res[1] for res in test_ress]);\n",
    "\n",
    "plt.figure(figsize=[10, 5])\n",
    "plt.suptitle(f\"Demo results on no-train model\", fontsize=20)\n",
    "plt.subplot(121)\n",
    "plt.boxplot([ITE_prob, CATE_prob]);\n",
    "plt.axhline(y=0.95, color=\"red\")\n",
    "plt.subplot(122)\n",
    "plt.boxplot([lens]);"
   ]
  },
  {
   "cell_type": "code",
   "execution_count": null,
   "id": "4561a25f-dd8e-4110-b918-125811076db3",
   "metadata": {},
   "outputs": [],
   "source": []
  }
 ],
 "metadata": {
  "kernelspec": {
   "display_name": "Python 3 (ipykernel)",
   "language": "python",
   "name": "python3"
  },
  "language_info": {
   "codemirror_mode": {
    "name": "ipython",
    "version": 3
   },
   "file_extension": ".py",
   "mimetype": "text/x-python",
   "name": "python",
   "nbconvert_exporter": "python",
   "pygments_lexer": "ipython3",
   "version": "3.9.7"
  }
 },
 "nbformat": 4,
 "nbformat_minor": 5
}
