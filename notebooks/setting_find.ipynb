{
 "cells": [
  {
   "cell_type": "code",
   "execution_count": 1,
   "id": "7be37593-bf50-4fc1-b617-ff93ca3fb707",
   "metadata": {
    "execution": {
     "iopub.execute_input": "2023-12-20T03:30:07.501064Z",
     "iopub.status.busy": "2023-12-20T03:30:07.500543Z",
     "iopub.status.idle": "2023-12-20T03:30:07.514685Z",
     "shell.execute_reply": "2023-12-20T03:30:07.513782Z",
     "shell.execute_reply.started": "2023-12-20T03:30:07.501018Z"
    },
    "tags": []
   },
   "outputs": [],
   "source": [
    "import sys\n",
    "sys.path.append(\"../mypkg\")"
   ]
  },
  {
   "cell_type": "code",
   "execution_count": 2,
   "id": "ad8d569b-0412-47de-a9bf-2bbbfde7e943",
   "metadata": {
    "execution": {
     "iopub.execute_input": "2023-12-20T03:30:07.516025Z",
     "iopub.status.busy": "2023-12-20T03:30:07.515706Z",
     "iopub.status.idle": "2023-12-20T03:30:09.995353Z",
     "shell.execute_reply": "2023-12-20T03:30:09.994731Z",
     "shell.execute_reply.started": "2023-12-20T03:30:07.515998Z"
    },
    "tags": []
   },
   "outputs": [],
   "source": [
    "from constants import RES_ROOT, FIG_ROOT, DATA_ROOT\n",
    "from utils.misc import load_pkl, save_pkl, merge_intervals\n",
    "from utils.colors import qual_cmap\n",
    "from utils.stats import weighted_quantile\n",
    "from utils.utils import MyDataSet, get_idx_sets\n",
    "from demo_settings import simu_settings\n",
    "from CQR import get_CQR_CIs\n",
    "from models.ddpm import ContextNet, ddpm_schedules, DDPM\n",
    "from ddpm.train_ddpm import TrainDDPM"
   ]
  },
  {
   "cell_type": "code",
   "execution_count": 3,
   "id": "f1775f04-ea35-40dc-90e8-61a284a9daf2",
   "metadata": {
    "execution": {
     "iopub.execute_input": "2023-12-20T03:30:09.997330Z",
     "iopub.status.busy": "2023-12-20T03:30:09.996938Z",
     "iopub.status.idle": "2023-12-20T03:30:10.020502Z",
     "shell.execute_reply": "2023-12-20T03:30:10.020076Z",
     "shell.execute_reply.started": "2023-12-20T03:30:09.997309Z"
    },
    "tags": []
   },
   "outputs": [],
   "source": [
    "%load_ext autoreload\n",
    "%autoreload 2\n",
    "# 0,1, 2, 3, be careful about the space"
   ]
  },
  {
   "cell_type": "code",
   "execution_count": 4,
   "id": "a42be2f3-7ab7-4f69-98eb-27ae79905c93",
   "metadata": {
    "execution": {
     "iopub.execute_input": "2023-12-20T03:30:10.021133Z",
     "iopub.status.busy": "2023-12-20T03:30:10.020983Z",
     "iopub.status.idle": "2023-12-20T03:30:10.383339Z",
     "shell.execute_reply": "2023-12-20T03:30:10.382839Z",
     "shell.execute_reply.started": "2023-12-20T03:30:10.021121Z"
    },
    "tags": []
   },
   "outputs": [],
   "source": [
    "import torch\n",
    "import scipy.stats as ss\n",
    "import numpy as np\n",
    "from easydict import EasyDict as edict\n",
    "import matplotlib.pyplot as plt\n",
    "import seaborn as sns\n",
    "from collections import defaultdict as ddict\n",
    "from tqdm import tqdm, trange\n",
    "import random\n",
    "from joblib import Parallel, delayed\n",
    "import pandas as pd\n",
    "from pprint import pprint\n",
    "plt.style.use(FIG_ROOT/\"base.mplstyle\")"
   ]
  },
  {
   "cell_type": "code",
   "execution_count": 5,
   "id": "4a2ddf38-411c-4b5f-8800-bb272c3bdec0",
   "metadata": {
    "execution": {
     "iopub.execute_input": "2023-12-20T03:30:10.384092Z",
     "iopub.status.busy": "2023-12-20T03:30:10.383932Z",
     "iopub.status.idle": "2023-12-20T03:30:10.403841Z",
     "shell.execute_reply": "2023-12-20T03:30:10.403434Z",
     "shell.execute_reply.started": "2023-12-20T03:30:10.384079Z"
    },
    "tags": []
   },
   "outputs": [
    {
     "data": {
      "text/plain": [
       "array([-0.5890561 ,  0.16985603, -0.39502954, -0.20099159,  1.32611852,\n",
       "        0.94192799, -2.06864292,  0.48013132,  1.22460309,  0.96846807])"
      ]
     },
     "execution_count": 5,
     "metadata": {},
     "output_type": "execute_result"
    }
   ],
   "source": [
    "ss.t.rvs(3, size=10)"
   ]
  },
  {
   "cell_type": "code",
   "execution_count": 56,
   "id": "b290e4a6-1fe6-45bd-9fbd-da208379f4b5",
   "metadata": {
    "execution": {
     "iopub.execute_input": "2023-12-20T07:59:41.259409Z",
     "iopub.status.busy": "2023-12-20T07:59:41.258793Z",
     "iopub.status.idle": "2023-12-20T07:59:41.385127Z",
     "shell.execute_reply": "2023-12-20T07:59:41.383936Z",
     "shell.execute_reply.started": "2023-12-20T07:59:41.259352Z"
    },
    "tags": []
   },
   "outputs": [],
   "source": [
    "# generate data based on (Lei, 2021, JRSSB)\n",
    "import scipy.stats as ss\n",
    "import numpy as np\n",
    "from easydict import EasyDict as edict\n",
    "\n",
    "def Xfun(n, d, rho):\n",
    "    \"\"\"\n",
    "    Generate a random matrix X based on the specified parameters.\n",
    "\n",
    "    Parameters:\n",
    "    - n (int): Number of rows in the matrix.\n",
    "    - d (int): Number of columns in the matrix.\n",
    "    - rho (float): Correlation coefficient.\n",
    "\n",
    "    Returns:\n",
    "    - X (ndarray): Random matrix of shape (n, d) based on the specified parameters.\n",
    "    \"\"\"\n",
    "\n",
    "    if rho > 0:\n",
    "        X = ss.norm.rvs(size=(n, d))\n",
    "        fac = ss.norm.rvs(size=(n, 1))\n",
    "        X = X * np.sqrt(1-rho) + fac * np.sqrt(rho)\n",
    "        X = ss.norm.cdf(X)\n",
    "    elif rho == 0:\n",
    "        X = ss.uniform.rvs(size=(n, d))\n",
    "        #X = ss.norm.rvs(size=(n, d))\n",
    "    \n",
    "    return X\n",
    "def taufun(X):\n",
    "    \"\"\"\n",
    "    Calculate the tauv value based on the given input X.\n",
    "\n",
    "    Parameters:\n",
    "    X (numpy.ndarray): Input array of shape (n, 2), where n is the number of samples.\n",
    "\n",
    "    Returns:\n",
    "    numpy.ndarray: Array of tauv values calculated based on the input X.\n",
    "    \"\"\"\n",
    "    _f = lambda x: 2/(1+np.exp(-12*(x-0.5)));\n",
    "    _f2 = lambda x: 4*x**2 + 1\n",
    "    _f3 = lambda x: np.exp(x**3 - 1)\n",
    "    tauv = _f(X[:, 0]) * _f2(X[:, 1]) + _f3(X[:, 2]);\n",
    "    #tauv = _f(X[:, 0]) * _f(X[:, 1]);\n",
    "    return tauv\n",
    "def psfun(X):\n",
    "    \"\"\"\n",
    "    Calculate the probability density function of a beta distribution.\n",
    "\n",
    "    Parameters:\n",
    "    X (numpy.ndarray): Input array of shape (n, m).\n",
    "\n",
    "    Returns:\n",
    "    numpy.ndarray: Array of shape (n,) containing the probability density values.\n",
    "    \"\"\"\n",
    "    return (1+ss.beta.cdf(X[:, 0], a=2, b=4))/4\n",
    "\n",
    "def sdfun(X, is_homo=True):\n",
    "    \"\"\"\n",
    "    Calculate the similarity scores for the given input data.\n",
    "\n",
    "    Parameters:\n",
    "    X (numpy.ndarray): Input data.\n",
    "    is_homo (bool, optional): Flag indicating whether the data is homogeneous. Defaults to True.\n",
    "\n",
    "    Returns:\n",
    "    numpy.ndarray: Similarity scores.\n",
    "    \"\"\"\n",
    "    if is_homo:\n",
    "        sds = np.ones(X.shape[0])*1\n",
    "    else:\n",
    "        sds = -np.log(X[:, 0]+1e-9)\n",
    "    return sds\n",
    "\n",
    "def errdist(n):\n",
    "    #return ss.norm.rvs(size=n)\n",
    "    rvs = ss.t.rvs(3, size=n)\n",
    "    return rvs/rvs.std()\n",
    "\n",
    "def get_simu_data(n, d, rho=0, is_homo=True, is_condition=False):\n",
    "    \"\"\"\n",
    "    Generate simulated data for a causal inference problem.\n",
    "\n",
    "    Parameters:\n",
    "    n (int): Number of samples.\n",
    "    d (int): Number of features.\n",
    "    rho (float, optional): Correlation coefficient between features. Defaults to 0.\n",
    "    is_homo (bool, optional): Flag indicating whether the standard deviation of the error term is homogeneous across samples. Defaults to True.\n",
    "    is_condition (bool, optional): Flag indicating whether the data should be conditioned on a fixed value of X. Defaults to False.\n",
    "\n",
    "    Returns:\n",
    "    dataset (edict): A dictionary containing the generated data.\n",
    "        - X (ndarray): The feature matrix of shape (n, d).\n",
    "        - ps (ndarray): The propensity scores of shape (n,).\n",
    "        - Y (ndarray): The outcome variable of shape (n,).\n",
    "        - Y1 (ndarray): The potential outcome under treatment of shape (n,).\n",
    "        - T (ndarray): The treatment assignment indicator of shape (n,).\n",
    "    \"\"\"\n",
    "    if is_condition:\n",
    "        X = np.ones((n, 1)) * Xfun(1, d, rho)\n",
    "    else:\n",
    "        X = Xfun(n, d, rho)\n",
    "    tau = taufun(X)\n",
    "    std = sdfun(X, is_homo)\n",
    "    ps = psfun(X)\n",
    "    \n",
    "    Y0 = np.zeros(n)\n",
    "    Y1 = tau + std*errdist(n)\n",
    "    T = ss.uniform.rvs(size=n) < ps;\n",
    "    Y = Y0.copy()\n",
    "    Y[T] = Y1[T]\n",
    "    \n",
    "    dataset = edict()\n",
    "    dataset.X = X\n",
    "    dataset.ps = ps\n",
    "    dataset.Y = Y\n",
    "    dataset.Y1 = Y1\n",
    "    dataset.T = T\n",
    "    dataset.tau = tau\n",
    "    return dataset"
   ]
  },
  {
   "cell_type": "markdown",
   "id": "5f1daada-ca8c-4a09-84f5-dfe6c045008d",
   "metadata": {},
   "source": [
    "# Params"
   ]
  },
  {
   "cell_type": "code",
   "execution_count": 57,
   "id": "68b00b94-5b21-4681-85e2-2206bb03ba73",
   "metadata": {
    "execution": {
     "iopub.execute_input": "2023-12-20T07:59:41.828091Z",
     "iopub.status.busy": "2023-12-20T07:59:41.827560Z",
     "iopub.status.idle": "2023-12-20T07:59:41.865097Z",
     "shell.execute_reply": "2023-12-20T07:59:41.864447Z",
     "shell.execute_reply.started": "2023-12-20T07:59:41.828049Z"
    },
    "tags": []
   },
   "outputs": [
    {
     "data": {
      "text/plain": [
       "'setting1'"
      ]
     },
     "execution_count": 57,
     "metadata": {},
     "output_type": "execute_result"
    }
   ],
   "source": [
    "setting = \"setting1\""
   ]
  },
  {
   "cell_type": "code",
   "execution_count": 71,
   "id": "6cc79339-0cfa-4d15-9220-129cd5209122",
   "metadata": {
    "execution": {
     "iopub.execute_input": "2023-12-20T08:06:36.978872Z",
     "iopub.status.busy": "2023-12-20T08:06:36.978253Z",
     "iopub.status.idle": "2023-12-20T08:06:37.030086Z",
     "shell.execute_reply": "2023-12-20T08:06:37.029438Z",
     "shell.execute_reply.started": "2023-12-20T08:06:36.978826Z"
    },
    "tags": []
   },
   "outputs": [
    {
     "name": "stdout",
     "output_type": "stream",
     "text": [
      "{'cal_ratio': 0.25,\n",
      " 'd': 10,\n",
      " 'is_homo': True,\n",
      " 'n': 3000,\n",
      " 'ntest': 1000,\n",
      " 'rho': 0,\n",
      " 'val_ratio': 0.15}\n"
     ]
    }
   ],
   "source": [
    "params = edict()\n",
    "\n",
    "params.simu_setting = edict()\n",
    "params.simu_setting.rho = 0.9\n",
    "params.simu_setting.is_homo = False\n",
    "params.simu_setting.n = 1000\n",
    "params.simu_setting.d = 10\n",
    "params.simu_setting.ntest = 1000\n",
    "params.simu_setting.cal_ratio = 0.25 # for conformal inference\n",
    "params.simu_setting.val_ratio = 0.15 # for tuning network\n",
    "params.simu_setting.update(simu_settings[setting])\n",
    "params.simu_setting.n = 3000\n",
    "#params.simu_setting.d = 1000\n",
    "pprint(params.simu_setting)\n",
    "\n",
    "\n",
    "params.nrep = 50 # num of reptition for simulation\n",
    "params.K = 20 # num of sps drawn from q(Y(1)|X)\n",
    "params.save_snapshot = 100\n",
    "params.dftype = torch.float32\n",
    "params.device=\"cpu\"\n",
    "params.n_jobs = 20\n",
    "params.verbose = True\n",
    "params.inf_bs = 40 # the inference batch, fct x K\n",
    "\n",
    "params.ddpm_training = edict()\n",
    "# Batch size during training\n",
    "params.ddpm_training.batch_size = 256 \n",
    "# Number of training epochs\n",
    "params.ddpm_training.n_epoch = 3000\n",
    "params.ddpm_training.n_infeat = 128\n",
    "# Learning rate for optimizers\n",
    "params.ddpm_training.lr = 0.002\n",
    "params.ddpm_training.lr_gamma = 0.8\n",
    "params.ddpm_training.lr_step = 200\n",
    "params.ddpm_training.test_intv = 5\n",
    "params.ddpm_training.n_T = 400 # 100\n",
    "params.ddpm_training.drop_prob = 0.0\n",
    "params.ddpm_training.n_upblk = 3\n",
    "params.ddpm_training.n_downblk = 3\n",
    "params.ddpm_training.weight_decay = 1e-2\n",
    "#params.ddpm_training.betas = [0.001, 0.5]\n",
    "\n",
    "params.wconformal = edict()\n",
    "# remove too large and too small in ws/mean(ws)\n",
    "params.wconformal.nwthigh = 20\n",
    "params.wconformal.nwtlow = 0.05\n",
    "params.wconformal.useinf = False\n",
    "\n",
    "\n",
    "params.hypo_test = edict()\n",
    "params.hypo_test.alpha = 0.05 # sig level\n",
    "\n",
    "params.prefix = \"\"\n",
    "params.save_dir = f\"demo_ddpm_{setting}_setting_find\"\n",
    "if not (RES_ROOT/params.save_dir).exists():\n",
    "    (RES_ROOT/params.save_dir).mkdir()"
   ]
  },
  {
   "cell_type": "code",
   "execution_count": 72,
   "id": "cbb7d327-4751-4707-b301-9fbbd58f7a0f",
   "metadata": {
    "execution": {
     "iopub.execute_input": "2023-12-20T08:06:37.530163Z",
     "iopub.status.busy": "2023-12-20T08:06:37.529638Z",
     "iopub.status.idle": "2023-12-20T08:06:37.566154Z",
     "shell.execute_reply": "2023-12-20T08:06:37.565503Z",
     "shell.execute_reply.started": "2023-12-20T08:06:37.530121Z"
    },
    "tags": []
   },
   "outputs": [],
   "source": [
    "keys = [\"lr\", \"n_infeat\", \"n_T\", \"weight_decay\", \"n_upblk\", \"n_downblk\"]\n",
    "def _get_name_postfix(keys):\n",
    "    return \"_\".join([f\"{key}-{str(params.ddpm_training[key]).split('.')[-1]}\" for key in keys])\n"
   ]
  },
  {
   "cell_type": "code",
   "execution_count": null,
   "id": "575dfd1a-a222-4972-9e57-d499f886584a",
   "metadata": {},
   "outputs": [],
   "source": []
  },
  {
   "cell_type": "markdown",
   "id": "b18c29d9-14e1-4e57-9a24-c09ba3605f4f",
   "metadata": {},
   "source": [
    "# Some fns"
   ]
  },
  {
   "cell_type": "code",
   "execution_count": 73,
   "id": "1f1a6d97-c561-476a-b92c-ba2437aa8870",
   "metadata": {
    "execution": {
     "iopub.execute_input": "2023-12-20T08:06:38.506357Z",
     "iopub.status.busy": "2023-12-20T08:06:38.505836Z",
     "iopub.status.idle": "2023-12-20T08:06:38.549899Z",
     "shell.execute_reply": "2023-12-20T08:06:38.548963Z",
     "shell.execute_reply.started": "2023-12-20T08:06:38.506314Z"
    },
    "tags": []
   },
   "outputs": [],
   "source": [
    "def _gen_Y_given_X(X, ddpm, seed=1):\n",
    "    c_all = torch.tensor(X, dtype=params.dftype).to(params.device);\n",
    "    num_iters = int(np.ceil(c_all.shape[0]/params.inf_bs));\n",
    "    x_0s = []\n",
    "    if params.verbose:\n",
    "        pbar = tqdm(range(num_iters), total=num_iters)\n",
    "    else:\n",
    "        pbar = range(num_iters)\n",
    "    def _run_fn(ix):\n",
    "        torch.set_default_dtype(params.dftype)\n",
    "        torch.set_default_device(params.device)\n",
    "        random.seed(seed)\n",
    "        np.random.seed(seed)\n",
    "        torch.manual_seed(seed)\n",
    "        c_cur = c_all[(ix*params.inf_bs):(ix*params.inf_bs+params.inf_bs)]\n",
    "        c_cur_mul = c_cur.repeat(params.K, 1);\n",
    "        with torch.no_grad():\n",
    "            x_0, _ = ddpm.sample(c_cur_mul, device=params.device, guide_w=0, is_store=False);\n",
    "        x_0 = x_0.cpu().numpy().reshape(-1);\n",
    "        x_0 = x_0.reshape(params.K, -1);\n",
    "        return x_0\n",
    "    with Parallel(n_jobs=params.n_jobs) as parallel:\n",
    "        x_0s = parallel(delayed(_run_fn)(ix) for ix in pbar)\n",
    "    x_0s = np.concatenate(x_0s, axis=1).T;\n",
    "    return x_0s\n",
    "def _get_pred_intv(teY_hat, qv):\n",
    "    intvs = np.stack([teY_hat-qv, teY_hat+qv]).T\n",
    "    return merge_intervals(intvs)\n",
    "def _get_metric(v, intvs):\n",
    "    if not isinstance(v, np.ndarray):\n",
    "        v = np.array(v)\n",
    "    in_sets = np.sum([np.bitwise_and(v>intv[0], v<intv[1]) for intv in intvs], axis=0)\n",
    "    intvs_len = np.sum([np.diff(intv) for intv in intvs])\n",
    "    metrics = edict()\n",
    "    metrics.in_sets = in_sets\n",
    "    metrics.intvs_len = intvs_len\n",
    "    return metrics"
   ]
  },
  {
   "cell_type": "code",
   "execution_count": 74,
   "id": "a4d18761-b351-4042-bb75-801a65d85e10",
   "metadata": {
    "execution": {
     "iopub.execute_input": "2023-12-20T08:06:38.983689Z",
     "iopub.status.busy": "2023-12-20T08:06:38.983166Z",
     "iopub.status.idle": "2023-12-20T08:06:39.029544Z",
     "shell.execute_reply": "2023-12-20T08:06:39.028947Z",
     "shell.execute_reply.started": "2023-12-20T08:06:38.983647Z"
    },
    "tags": []
   },
   "outputs": [],
   "source": [
    "def _run_fn_PCP(rep_ix):\n",
    "    manualSeed = rep_ix\n",
    "    random.seed(manualSeed)\n",
    "    np.random.seed(manualSeed)\n",
    "    torch.manual_seed(manualSeed)\n",
    "    torch.use_deterministic_algorithms(True) # Needed for reproducible results\n",
    "    torch.set_default_dtype(params.dftype)\n",
    "    torch.set_default_device(params.device)\n",
    "    \n",
    "    #beta = np.concatenate([np.random.randn(2), np.zeros(params.simu_setting.d-2)])\n",
    "    #inp = np.random.randn(1) * 10                                \n",
    "    \n",
    "    data_train = get_simu_data(n=params.simu_setting.n, \n",
    "                               d=params.simu_setting.d, \n",
    "                               #beta=beta, \n",
    "                               #inp=inp,\n",
    "                               is_homo=params.simu_setting.is_homo, \n",
    "                               rho=params.simu_setting.rho);\n",
    "    data_test = get_simu_data(n=params.simu_setting.ntest, \n",
    "                               d=params.simu_setting.d, \n",
    "                               #beta=beta, \n",
    "                               #inp=inp,\n",
    "                               is_homo=params.simu_setting.is_homo, \n",
    "                               rho=params.simu_setting.rho);\n",
    "    \n",
    "    cal_idxs, val_idxs, tr_idxs = get_idx_sets(all_idxs=np.where(data_train.T)[0], \n",
    "                                               ratios = [params.simu_setting.cal_ratio, params.simu_setting.val_ratio])\n",
    "        \n",
    "        \n",
    "    # train q(Y(1)|X)\n",
    "    # I skip this for now, suppose you get one\n",
    "    data_train_ddpm = MyDataSet(Y=data_train.Y[tr_idxs], X=data_train.X[tr_idxs])\n",
    "    data_val = edict()\n",
    "    data_val.c =  data_train.X[val_idxs]\n",
    "    data_val.x =  data_train.Y[val_idxs]\n",
    "    \n",
    "    input_params = params.ddpm_training.copy()\n",
    "    input_params.pop(\"n_epoch\")\n",
    "    myddpm = TrainDDPM(data_train_ddpm, save_dir=params.save_dir, verbose=params.verbose, prefix=f\"rep{rep_ix}\", \n",
    "                       device=params.device,\n",
    "                       **input_params);\n",
    "    myddpm.train(n_epoch=params.ddpm_training.n_epoch, \n",
    "                 data_val=data_val, save_snapshot=params.save_snapshot)\n",
    "    #ddpm = myddpm.ddpm\n",
    "    ddpm = myddpm.get_opt_model()\n",
    "    #ddpm = myddpm.get_model(500)\n",
    "    ddpm.eval()\n",
    "    \n",
    "    def wtfun(x):\n",
    "        if x.ndim == 1:\n",
    "            x = x.reshape(1, -1)\n",
    "        # for unconditional weight\n",
    "        return np.ones(x.shape[0])\n",
    "        \n",
    "    # get the weight and nonconformity score for each data point in cal set\n",
    "    x_0s = _gen_Y_given_X(data_train.X[cal_idxs], ddpm, manualSeed)\n",
    "    ws = wtfun(data_train.X[cal_idxs]);\n",
    "    Es = np.abs(x_0s -  data_train.Y1[cal_idxs][:, None]).min(axis=1);\n",
    "            \n",
    "    def _run_fn2(te_idx):\n",
    "        torch.set_default_dtype(params.dftype)\n",
    "        teX = data_test.X[te_idx]\n",
    "        teY1 = data_test.Y1[te_idx]\n",
    "        tetau = data_test.tau[te_idx]\n",
    "        \n",
    "        # get qv for current test pt\n",
    "        ws_wtest = np.concatenate([ws, wtfun(teX)]);\n",
    "        Es_winf = np.concatenate([Es, [np.inf]]);\n",
    "        nws_wtest = ws_wtest/ws_wtest.mean();\n",
    "        nws_wtest[nws_wtest<params.wconformal.nwtlow] = params.wconformal.nwtlow\n",
    "        nws_wtest[nws_wtest>params.wconformal.nwthigh] = params.wconformal.nwthigh\n",
    "        # can not take the inf into consider\n",
    "        #qv_cur = weighted_quantile(Es_winf, [1-params.hypo_test.alpha], sample_weight=nws_wtest);\n",
    "        qt = (1 + nws_wtest[-1]/ nws_wtest[:-1].sum()) * (1 - params.hypo_test.alpha)\n",
    "        if qt <= 1:\n",
    "            qv_cur = weighted_quantile(Es, [qt], sample_weight=ws_wtest[:-1])[0];\n",
    "        else:\n",
    "            if params.wconformal.useinf:\n",
    "                qv_cur = np.inf\n",
    "            else:\n",
    "                qv_cur = np.max(Es)\n",
    "        \n",
    "        intvs = _get_pred_intv(teYs_hat[te_idx], qv_cur)\n",
    "        res = _get_metric([teY1, tetau], intvs)\n",
    "        res[\"qv_cur\"] = qv_cur\n",
    "        res[\"qt\"] = qt\n",
    "        res[\"intvs\"] = intvs\n",
    "        return res\n",
    "        \n",
    "    teYs_hat = _gen_Y_given_X(data_test.X, ddpm, manualSeed);\n",
    "    pbar2 = range(params.simu_setting.ntest)\n",
    "    with Parallel(n_jobs=1) as parallel:\n",
    "        test_res = parallel(delayed(_run_fn2)(te_idx) for te_idx in pbar2)\n",
    "        \n",
    "    prbs = np.mean([res['in_sets'] for res in test_res], axis=0)\n",
    "    mlen = np.median([res['intvs_len'] for res in test_res])\n",
    "        \n",
    "        \n",
    "    # results from CQR\n",
    "    CQR_CIs = get_CQR_CIs(X=data_train.X, Y=data_train.Y, \n",
    "                          T=data_train.T, Xtest=data_test.X, \n",
    "                          nav=0, \n",
    "                          alpha=params.hypo_test.alpha, \n",
    "                          estimand=\"nonmissing\",\n",
    "                          fyx_est=\"quantBoosting\", seed=manualSeed)\n",
    "    mlen_cqr = np.median(CQR_CIs[:, 1] -  CQR_CIs[:, 0])\n",
    "    prb_Y1_cqr = np.bitwise_and(data_test.Y1>CQR_CIs[:, 0], data_test.Y1<CQR_CIs[:, 1]).mean()\n",
    "    prb_tau_cqr = np.bitwise_and(data_test.tau>CQR_CIs[:, 0], data_test.tau<CQR_CIs[:, 1]).mean()\n",
    "    \n",
    "    res_all = edict()\n",
    "    res_all.DDPM = (prbs, mlen)\n",
    "    res_all.CQR = ([prb_Y1_cqr, prb_tau_cqr], mlen_cqr)\n",
    "    return res_all, myddpm, test_res, np.abs(x_0s -  data_train.Y1[cal_idxs][:, None])"
   ]
  },
  {
   "cell_type": "code",
   "execution_count": 78,
   "id": "dee7b370-164f-4b19-83d2-213a666a8ab4",
   "metadata": {
    "execution": {
     "iopub.execute_input": "2023-12-20T08:12:09.930934Z",
     "iopub.status.busy": "2023-12-20T08:12:09.930293Z",
     "iopub.status.idle": "2023-12-20T08:16:45.885125Z",
     "shell.execute_reply": "2023-12-20T08:16:45.884611Z",
     "shell.execute_reply.started": "2023-12-20T08:12:09.930887Z"
    },
    "scrolled": true,
    "tags": []
   },
   "outputs": [
    {
     "name": "stderr",
     "output_type": "stream",
     "text": [
      "2023-12-20 00:12:09,971 - ddpm.train_ddpm - INFO - The results are saved at /data/rajlab1/user_data/jin/MyResearch/DG-CITE_paper/notebooks/../mypkg/../results/demo_ddpm_setting1_setting_find.\n",
      "INFO:ddpm.train_ddpm:The results are saved at /data/rajlab1/user_data/jin/MyResearch/DG-CITE_paper/notebooks/../mypkg/../results/demo_ddpm_setting1_setting_find.\n",
      "2023-12-20 00:12:09,993 - ddpm.train_ddpm - INFO - The params is {'lr': 0.002, 'batch_size': 256, 'device': 'cpu', 'n_T': 400, 'n_infeat': 128, 'n_upblk': 3, 'n_downblk': 3, 'betas': [0.0001, 0.02], 'drop_prob': 0.0, 'lr_gamma': 0.8, 'lr_step': 200, 'test_intv': 5, 'weight_decay': 0.01}\n",
      "INFO:ddpm.train_ddpm:The params is {'lr': 0.002, 'batch_size': 256, 'device': 'cpu', 'n_T': 400, 'n_infeat': 128, 'n_upblk': 3, 'n_downblk': 3, 'betas': [0.0001, 0.02], 'drop_prob': 0.0, 'lr_gamma': 0.8, 'lr_step': 200, 'test_intv': 5, 'weight_decay': 0.01}\n"
     ]
    },
    {
     "name": "stdout",
     "output_type": "stream",
     "text": [
      "The num of params is 0.83m. \n",
      "Adjusting learning rate of group 0 to 2.0000e-03.\n"
     ]
    },
    {
     "name": "stderr",
     "output_type": "stream",
     "text": [
      "loss: 0.5170:   3%|█▍                                          | 99/3000 [00:06<03:08, 15.43it/s, val loss=0.509]2023-12-20 00:12:16,582 - ddpm.train_ddpm - INFO - Save model rep100_ddpm_epoch100.pth.\n",
      "INFO:ddpm.train_ddpm:Save model rep100_ddpm_epoch100.pth.\n",
      "loss: 0.4637:   7%|██▉                                         | 199/3000 [00:13<03:31, 13.26it/s, val loss=0.42]2023-12-20 00:12:23,198 - ddpm.train_ddpm - INFO - Save model rep100_ddpm_epoch200.pth.\n",
      "INFO:ddpm.train_ddpm:Save model rep100_ddpm_epoch200.pth.\n",
      "loss: 0.4042:   7%|██▉                                         | 201/3000 [00:13<04:03, 11.48it/s, val loss=0.42]"
     ]
    },
    {
     "name": "stdout",
     "output_type": "stream",
     "text": [
      "Adjusting learning rate of group 0 to 1.6000e-03.\n"
     ]
    },
    {
     "name": "stderr",
     "output_type": "stream",
     "text": [
      "loss: 0.3774:  10%|████▍                                       | 299/3000 [00:20<03:25, 13.13it/s, val loss=0.38]2023-12-20 00:12:30,124 - ddpm.train_ddpm - INFO - Save model rep100_ddpm_epoch300.pth.\n",
      "INFO:ddpm.train_ddpm:Save model rep100_ddpm_epoch300.pth.\n",
      "loss: 0.4421:  13%|█████▋                                     | 399/3000 [00:27<03:00, 14.42it/s, val loss=0.479]2023-12-20 00:12:37,779 - ddpm.train_ddpm - INFO - Save model rep100_ddpm_epoch400.pth.\n",
      "INFO:ddpm.train_ddpm:Save model rep100_ddpm_epoch400.pth.\n",
      "loss: 0.4424:  13%|█████▋                                     | 399/3000 [00:27<03:00, 14.42it/s, val loss=0.479]"
     ]
    },
    {
     "name": "stdout",
     "output_type": "stream",
     "text": [
      "Adjusting learning rate of group 0 to 1.2800e-03.\n"
     ]
    },
    {
     "name": "stderr",
     "output_type": "stream",
     "text": [
      "loss: 0.4410:  17%|███████▏                                   | 499/3000 [00:34<02:22, 17.52it/s, val loss=0.393]2023-12-20 00:12:44,536 - ddpm.train_ddpm - INFO - Save model rep100_ddpm_epoch500.pth.\n",
      "INFO:ddpm.train_ddpm:Save model rep100_ddpm_epoch500.pth.\n",
      "loss: 0.3868:  20%|████████▌                                  | 599/3000 [00:41<02:55, 13.64it/s, val loss=0.485]2023-12-20 00:12:51,079 - ddpm.train_ddpm - INFO - Save model rep100_ddpm_epoch600.pth.\n",
      "INFO:ddpm.train_ddpm:Save model rep100_ddpm_epoch600.pth.\n",
      "loss: 0.3994:  20%|████████▌                                  | 601/3000 [00:41<03:23, 11.80it/s, val loss=0.485]"
     ]
    },
    {
     "name": "stdout",
     "output_type": "stream",
     "text": [
      "Adjusting learning rate of group 0 to 1.0240e-03.\n"
     ]
    },
    {
     "name": "stderr",
     "output_type": "stream",
     "text": [
      "loss: 0.3847:  23%|██████████                                 | 699/3000 [00:47<02:21, 16.31it/s, val loss=0.376]2023-12-20 00:12:57,363 - ddpm.train_ddpm - INFO - Save model rep100_ddpm_epoch700.pth.\n",
      "INFO:ddpm.train_ddpm:Save model rep100_ddpm_epoch700.pth.\n",
      "loss: 0.3771:  27%|███████████▍                               | 799/3000 [00:53<02:18, 15.89it/s, val loss=0.359]2023-12-20 00:13:03,710 - ddpm.train_ddpm - INFO - Save model rep100_ddpm_epoch800.pth.\n",
      "INFO:ddpm.train_ddpm:Save model rep100_ddpm_epoch800.pth.\n",
      "loss: 0.4279:  27%|███████████▍                               | 801/3000 [00:53<02:46, 13.24it/s, val loss=0.359]"
     ]
    },
    {
     "name": "stdout",
     "output_type": "stream",
     "text": [
      "Adjusting learning rate of group 0 to 8.1920e-04.\n"
     ]
    },
    {
     "name": "stderr",
     "output_type": "stream",
     "text": [
      "loss: 0.3469:  30%|████████████▉                              | 899/3000 [01:00<02:07, 16.49it/s, val loss=0.445]2023-12-20 00:13:10,744 - ddpm.train_ddpm - INFO - Save model rep100_ddpm_epoch900.pth.\n",
      "INFO:ddpm.train_ddpm:Save model rep100_ddpm_epoch900.pth.\n",
      "loss: 0.4069:  33%|██████████████▎                            | 999/3000 [01:06<02:01, 16.49it/s, val loss=0.343]2023-12-20 00:13:16,953 - ddpm.train_ddpm - INFO - Save model rep100_ddpm_epoch1000.pth.\n",
      "INFO:ddpm.train_ddpm:Save model rep100_ddpm_epoch1000.pth.\n",
      "loss: 0.3278:  33%|██████████████                            | 1001/3000 [01:07<02:27, 13.55it/s, val loss=0.343]"
     ]
    },
    {
     "name": "stdout",
     "output_type": "stream",
     "text": [
      "Adjusting learning rate of group 0 to 6.5536e-04.\n"
     ]
    },
    {
     "name": "stderr",
     "output_type": "stream",
     "text": [
      "loss: 0.3057:  37%|███████████████▊                           | 1099/3000 [01:13<02:21, 13.42it/s, val loss=0.33]2023-12-20 00:13:23,469 - ddpm.train_ddpm - INFO - Save model rep100_ddpm_epoch1100.pth.\n",
      "INFO:ddpm.train_ddpm:Save model rep100_ddpm_epoch1100.pth.\n",
      "loss: 0.3158:  40%|████████████████▊                         | 1199/3000 [01:20<01:49, 16.47it/s, val loss=0.373]2023-12-20 00:13:30,420 - ddpm.train_ddpm - INFO - Save model rep100_ddpm_epoch1200.pth.\n",
      "INFO:ddpm.train_ddpm:Save model rep100_ddpm_epoch1200.pth.\n",
      "loss: 0.3400:  40%|████████████████▊                         | 1201/3000 [01:20<02:18, 12.99it/s, val loss=0.373]"
     ]
    },
    {
     "name": "stdout",
     "output_type": "stream",
     "text": [
      "Adjusting learning rate of group 0 to 5.2429e-04.\n"
     ]
    },
    {
     "name": "stderr",
     "output_type": "stream",
     "text": [
      "loss: 0.3219:  43%|██████████████████▏                       | 1299/3000 [01:26<02:05, 13.55it/s, val loss=0.449]2023-12-20 00:13:36,911 - ddpm.train_ddpm - INFO - Save model rep100_ddpm_epoch1300.pth.\n",
      "INFO:ddpm.train_ddpm:Save model rep100_ddpm_epoch1300.pth.\n",
      "loss: 0.3446:  47%|███████████████████▌                      | 1399/3000 [01:33<01:31, 17.54it/s, val loss=0.521]2023-12-20 00:13:43,933 - ddpm.train_ddpm - INFO - Save model rep100_ddpm_epoch1400.pth.\n",
      "INFO:ddpm.train_ddpm:Save model rep100_ddpm_epoch1400.pth.\n",
      "loss: 0.2997:  47%|███████████████████▌                      | 1401/3000 [01:34<01:52, 14.22it/s, val loss=0.521]"
     ]
    },
    {
     "name": "stdout",
     "output_type": "stream",
     "text": [
      "Adjusting learning rate of group 0 to 4.1943e-04.\n"
     ]
    },
    {
     "name": "stderr",
     "output_type": "stream",
     "text": [
      "loss: 0.3281:  50%|████████████████████▉                     | 1499/3000 [01:40<01:25, 17.54it/s, val loss=0.464]2023-12-20 00:13:50,048 - ddpm.train_ddpm - INFO - Save model rep100_ddpm_epoch1500.pth.\n",
      "INFO:ddpm.train_ddpm:Save model rep100_ddpm_epoch1500.pth.\n",
      "loss: 0.2794:  53%|███████████████████████▍                    | 1599/3000 [01:46<01:46, 13.17it/s, val loss=0.4]2023-12-20 00:13:56,961 - ddpm.train_ddpm - INFO - Save model rep100_ddpm_epoch1600.pth.\n",
      "INFO:ddpm.train_ddpm:Save model rep100_ddpm_epoch1600.pth.\n",
      "loss: 0.3327:  53%|███████████████████████▍                    | 1601/3000 [01:47<02:00, 11.62it/s, val loss=0.4]"
     ]
    },
    {
     "name": "stdout",
     "output_type": "stream",
     "text": [
      "Adjusting learning rate of group 0 to 3.3554e-04.\n"
     ]
    },
    {
     "name": "stderr",
     "output_type": "stream",
     "text": [
      "loss: 0.3011:  57%|███████████████████████▊                  | 1699/3000 [01:53<01:16, 16.97it/s, val loss=0.549]2023-12-20 00:14:03,349 - ddpm.train_ddpm - INFO - Save model rep100_ddpm_epoch1700.pth.\n",
      "INFO:ddpm.train_ddpm:Save model rep100_ddpm_epoch1700.pth.\n",
      "loss: 0.3349:  60%|█████████████████████████▊                 | 1799/3000 [01:59<01:16, 15.61it/s, val loss=0.53]2023-12-20 00:14:09,560 - ddpm.train_ddpm - INFO - Save model rep100_ddpm_epoch1800.pth.\n",
      "INFO:ddpm.train_ddpm:Save model rep100_ddpm_epoch1800.pth.\n",
      "loss: 0.3025:  60%|█████████████████████████▊                 | 1801/3000 [01:59<01:34, 12.70it/s, val loss=0.53]"
     ]
    },
    {
     "name": "stdout",
     "output_type": "stream",
     "text": [
      "Adjusting learning rate of group 0 to 2.6844e-04.\n"
     ]
    },
    {
     "name": "stderr",
     "output_type": "stream",
     "text": [
      "loss: 0.3156:  63%|███████████████████████████▏               | 1899/3000 [02:06<01:10, 15.72it/s, val loss=0.47]2023-12-20 00:14:16,028 - ddpm.train_ddpm - INFO - Save model rep100_ddpm_epoch1900.pth.\n",
      "INFO:ddpm.train_ddpm:Save model rep100_ddpm_epoch1900.pth.\n",
      "loss: 0.2641:  67%|███████████████████████████▉              | 1999/3000 [02:12<01:02, 15.95it/s, val loss=0.573]2023-12-20 00:14:22,728 - ddpm.train_ddpm - INFO - Save model rep100_ddpm_epoch2000.pth.\n",
      "INFO:ddpm.train_ddpm:Save model rep100_ddpm_epoch2000.pth.\n",
      "loss: 0.2203:  67%|████████████████████████████              | 2001/3000 [02:12<01:13, 13.56it/s, val loss=0.573]"
     ]
    },
    {
     "name": "stdout",
     "output_type": "stream",
     "text": [
      "Adjusting learning rate of group 0 to 2.1475e-04.\n"
     ]
    },
    {
     "name": "stderr",
     "output_type": "stream",
     "text": [
      "loss: 0.2418:  70%|█████████████████████████████▍            | 2099/3000 [02:19<00:56, 15.89it/s, val loss=0.638]2023-12-20 00:14:29,596 - ddpm.train_ddpm - INFO - Save model rep100_ddpm_epoch2100.pth.\n",
      "INFO:ddpm.train_ddpm:Save model rep100_ddpm_epoch2100.pth.\n",
      "loss: 0.2334:  73%|███████████████████████████████▌           | 2199/3000 [02:27<01:01, 13.10it/s, val loss=0.53]2023-12-20 00:14:37,253 - ddpm.train_ddpm - INFO - Save model rep100_ddpm_epoch2200.pth.\n",
      "INFO:ddpm.train_ddpm:Save model rep100_ddpm_epoch2200.pth.\n",
      "loss: 0.2135:  73%|███████████████████████████████▌           | 2201/3000 [02:27<01:09, 11.56it/s, val loss=0.53]"
     ]
    },
    {
     "name": "stdout",
     "output_type": "stream",
     "text": [
      "Adjusting learning rate of group 0 to 1.7180e-04.\n"
     ]
    },
    {
     "name": "stderr",
     "output_type": "stream",
     "text": [
      "loss: 0.2662:  77%|████████████████████████████████▏         | 2299/3000 [02:34<00:42, 16.65it/s, val loss=0.712]2023-12-20 00:14:44,033 - ddpm.train_ddpm - INFO - Save model rep100_ddpm_epoch2300.pth.\n",
      "INFO:ddpm.train_ddpm:Save model rep100_ddpm_epoch2300.pth.\n",
      "loss: 0.2483:  80%|█████████████████████████████████▌        | 2399/3000 [02:40<00:41, 14.39it/s, val loss=0.694]2023-12-20 00:14:50,457 - ddpm.train_ddpm - INFO - Save model rep100_ddpm_epoch2400.pth.\n",
      "INFO:ddpm.train_ddpm:Save model rep100_ddpm_epoch2400.pth.\n",
      "loss: 0.2650:  80%|█████████████████████████████████▌        | 2401/3000 [02:40<00:48, 12.38it/s, val loss=0.694]"
     ]
    },
    {
     "name": "stdout",
     "output_type": "stream",
     "text": [
      "Adjusting learning rate of group 0 to 1.3744e-04.\n"
     ]
    },
    {
     "name": "stderr",
     "output_type": "stream",
     "text": [
      "loss: 0.2631:  83%|██████████████████████████████████▉       | 2499/3000 [02:47<00:38, 13.07it/s, val loss=0.551]2023-12-20 00:14:57,600 - ddpm.train_ddpm - INFO - Save model rep100_ddpm_epoch2500.pth.\n",
      "INFO:ddpm.train_ddpm:Save model rep100_ddpm_epoch2500.pth.\n",
      "loss: 0.2773:  87%|████████████████████████████████████▍     | 2599/3000 [02:54<00:26, 15.39it/s, val loss=0.522]2023-12-20 00:15:04,600 - ddpm.train_ddpm - INFO - Save model rep100_ddpm_epoch2600.pth.\n",
      "INFO:ddpm.train_ddpm:Save model rep100_ddpm_epoch2600.pth.\n",
      "loss: 0.2470:  87%|████████████████████████████████████▍     | 2599/3000 [02:54<00:26, 15.39it/s, val loss=0.522]"
     ]
    },
    {
     "name": "stdout",
     "output_type": "stream",
     "text": [
      "Adjusting learning rate of group 0 to 1.0995e-04.\n"
     ]
    },
    {
     "name": "stderr",
     "output_type": "stream",
     "text": [
      "loss: 0.2163:  90%|█████████████████████████████████████▊    | 2699/3000 [03:01<00:17, 17.52it/s, val loss=0.503]2023-12-20 00:15:11,718 - ddpm.train_ddpm - INFO - Save model rep100_ddpm_epoch2700.pth.\n",
      "INFO:ddpm.train_ddpm:Save model rep100_ddpm_epoch2700.pth.\n",
      "loss: 0.2326:  93%|███████████████████████████████████████▏  | 2799/3000 [03:08<00:12, 16.58it/s, val loss=0.519]2023-12-20 00:15:18,032 - ddpm.train_ddpm - INFO - Save model rep100_ddpm_epoch2800.pth.\n",
      "INFO:ddpm.train_ddpm:Save model rep100_ddpm_epoch2800.pth.\n",
      "loss: 0.2896:  93%|███████████████████████████████████████▏  | 2801/3000 [03:08<00:14, 14.03it/s, val loss=0.519]"
     ]
    },
    {
     "name": "stdout",
     "output_type": "stream",
     "text": [
      "Adjusting learning rate of group 0 to 8.7961e-05.\n"
     ]
    },
    {
     "name": "stderr",
     "output_type": "stream",
     "text": [
      "loss: 0.2234:  97%|████████████████████████████████████████▌ | 2899/3000 [03:14<00:06, 15.25it/s, val loss=0.621]2023-12-20 00:15:24,779 - ddpm.train_ddpm - INFO - Save model rep100_ddpm_epoch2900.pth.\n",
      "INFO:ddpm.train_ddpm:Save model rep100_ddpm_epoch2900.pth.\n",
      "loss: 0.1955: 100%|█████████████████████████████████████████▉| 2999/3000 [03:21<00:00, 16.80it/s, val loss=0.722]2023-12-20 00:15:31,237 - ddpm.train_ddpm - INFO - Save model rep100_ddpm_epoch3000.pth.\n",
      "INFO:ddpm.train_ddpm:Save model rep100_ddpm_epoch3000.pth.\n",
      "loss: 0.1955: 100%|██████████████████████████████████████████| 3000/3000 [03:21<00:00, 14.90it/s, val loss=0.722]\n",
      "2023-12-20 00:15:31,308 - ddpm.train_ddpm - INFO - We load model /data/rajlab1/user_data/jin/MyResearch/DG-CITE_paper/notebooks/../mypkg/../results/demo_ddpm_setting1_setting_find/rep100_ddpm_epoch1900.pth with val loss 0.486.\n",
      "INFO:ddpm.train_ddpm:We load model /data/rajlab1/user_data/jin/MyResearch/DG-CITE_paper/notebooks/../mypkg/../results/demo_ddpm_setting1_setting_find/rep100_ddpm_epoch1900.pth with val loss 0.486.\n"
     ]
    },
    {
     "name": "stdout",
     "output_type": "stream",
     "text": [
      "Adjusting learning rate of group 0 to 7.0369e-05.\n"
     ]
    },
    {
     "name": "stderr",
     "output_type": "stream",
     "text": [
      "100%|████████████████████████████████████████████████████████████████████████████| 8/8 [00:00<00:00, 2285.88it/s]\n",
      "100%|███████████████████████████████████████████████████████████████████████████| 25/25 [00:00<00:00, 785.86it/s]\n"
     ]
    }
   ],
   "source": [
    "res = _run_fn_PCP(100);"
   ]
  },
  {
   "cell_type": "code",
   "execution_count": 79,
   "id": "2138c932-72a8-4246-96bd-4c283e478c07",
   "metadata": {
    "execution": {
     "iopub.execute_input": "2023-12-20T08:20:49.431383Z",
     "iopub.status.busy": "2023-12-20T08:20:49.430752Z",
     "iopub.status.idle": "2023-12-20T08:20:49.551613Z",
     "shell.execute_reply": "2023-12-20T08:20:49.550231Z",
     "shell.execute_reply.started": "2023-12-20T08:20:49.431335Z"
    },
    "tags": []
   },
   "outputs": [
    {
     "name": "stdout",
     "output_type": "stream",
     "text": [
      "{'DDPM': [array([0.946, 0.996]), 4.8949237], 'CQR': [[0.928, 1.0], 5.295771345290358]}\n"
     ]
    },
    {
     "data": {
      "text/plain": [
       "<ddpm.train_ddpm.TrainDDPM at 0x7fa36f902880>"
      ]
     },
     "execution_count": 79,
     "metadata": {},
     "output_type": "execute_result"
    }
   ],
   "source": [
    "print(res[0])\n",
    "myddpm = res[1]"
   ]
  },
  {
   "cell_type": "code",
   "execution_count": 23,
   "id": "6f423688-ed69-4a2e-b711-02aa5f8f0248",
   "metadata": {
    "execution": {
     "iopub.execute_input": "2023-12-18T06:36:17.614492Z",
     "iopub.status.busy": "2023-12-18T06:36:17.613840Z",
     "iopub.status.idle": "2023-12-18T06:36:17.762148Z",
     "shell.execute_reply": "2023-12-18T06:36:17.761689Z",
     "shell.execute_reply.started": "2023-12-18T06:36:17.614440Z"
    },
    "tags": []
   },
   "outputs": [
    {
     "data": {
      "text/plain": [
       "[<matplotlib.lines.Line2D at 0x7f5f58006e50>]"
      ]
     },
     "execution_count": 23,
     "metadata": {},
     "output_type": "execute_result"
    },
    {
     "data": {
      "image/png": "[encoded data removed]",
      "text/plain": [
       "<Figure size 1000x500 with 1 Axes>"
      ]
     },
     "metadata": {
      "needs_background": "light"
     },
     "output_type": "display_data"
    }
   ],
   "source": [
    "eps = np.array(myddpm.losses)[:, 0]\n",
    "loss = np.array(myddpm.losses)[:, 1]\n",
    "eps_val = np.array(myddpm.losses_val)[:, 0]\n",
    "loss_val = np.array(myddpm.losses_val)[:, 1];\n",
    "plt.plot(eps, loss)\n",
    "plt.plot(eps_val, loss_val)"
   ]
  },
  {
   "cell_type": "markdown",
   "id": "ef54f9d2-2685-4fd0-8842-ea89930ea690",
   "metadata": {},
   "source": [
    "# evaluate"
   ]
  },
  {
   "cell_type": "code",
   "execution_count": null,
   "id": "585f4360-a6ca-49da-82ad-e2ab5a477122",
   "metadata": {},
   "outputs": [],
   "source": []
  },
  {
   "cell_type": "code",
   "execution_count": 27,
   "id": "3120112a-4937-4de3-903f-11dff9d3dd4a",
   "metadata": {
    "execution": {
     "iopub.execute_input": "2023-12-17T23:49:40.059707Z",
     "iopub.status.busy": "2023-12-17T23:49:40.059065Z",
     "iopub.status.idle": "2023-12-17T23:49:40.104961Z",
     "shell.execute_reply": "2023-12-17T23:49:40.104223Z",
     "shell.execute_reply.started": "2023-12-17T23:49:40.059656Z"
    },
    "tags": []
   },
   "outputs": [],
   "source": [
    "ddpm = myddpm.ddpm;"
   ]
  },
  {
   "cell_type": "markdown",
   "id": "f6502568-9e9b-4765-8a4d-0572126fe506",
   "metadata": {},
   "source": [
    "## ON test set"
   ]
  },
  {
   "cell_type": "code",
   "execution_count": 28,
   "id": "59b7dfcf-6e8f-40bf-a498-8ae510ad35d5",
   "metadata": {
    "execution": {
     "iopub.execute_input": "2023-12-17T23:49:41.019573Z",
     "iopub.status.busy": "2023-12-17T23:49:41.018907Z",
     "iopub.status.idle": "2023-12-17T23:49:41.057143Z",
     "shell.execute_reply": "2023-12-17T23:49:41.056142Z",
     "shell.execute_reply.started": "2023-12-17T23:49:41.019527Z"
    },
    "tags": []
   },
   "outputs": [],
   "source": [
    "data_test = get_simu_data(n=params.simu_setting.ntest, \n",
    "                               d=params.simu_setting.d, \n",
    "                               #beta=beta, \n",
    "                               #inp=inp,\n",
    "                               is_homo=params.simu_setting.is_homo, \n",
    "                               rho=params.simu_setting.rho);"
   ]
  },
  {
   "cell_type": "code",
   "execution_count": 29,
   "id": "9dfac65e-1091-4995-af27-b80b3c993747",
   "metadata": {
    "execution": {
     "iopub.execute_input": "2023-12-17T23:49:42.502708Z",
     "iopub.status.busy": "2023-12-17T23:49:42.502032Z",
     "iopub.status.idle": "2023-12-17T23:49:42.537916Z",
     "shell.execute_reply": "2023-12-17T23:49:42.537195Z",
     "shell.execute_reply.started": "2023-12-17T23:49:42.502660Z"
    },
    "tags": []
   },
   "outputs": [],
   "source": [
    "tX = torch.tensor(data_test.X);\n",
    "c = tX.type(params.dftype);"
   ]
  },
  {
   "cell_type": "code",
   "execution_count": 30,
   "id": "fe477e92-0972-4e32-84fd-b216a35fa73e",
   "metadata": {
    "execution": {
     "iopub.execute_input": "2023-12-17T23:49:43.000093Z",
     "iopub.status.busy": "2023-12-17T23:49:42.999519Z",
     "iopub.status.idle": "2023-12-17T23:49:43.846737Z",
     "shell.execute_reply": "2023-12-17T23:49:43.846282Z",
     "shell.execute_reply.started": "2023-12-17T23:49:43.000050Z"
    },
    "tags": []
   },
   "outputs": [],
   "source": [
    "ddpm.eval()\n",
    "with torch.no_grad():\n",
    "    x_i, x_is = ddpm.sample(c, device=\"cpu\", guide_w=2, is_store=False);"
   ]
  },
  {
   "cell_type": "code",
   "execution_count": 31,
   "id": "73359ab7-4b8a-4a60-a70f-8d8318a700da",
   "metadata": {
    "execution": {
     "iopub.execute_input": "2023-12-17T23:49:44.553054Z",
     "iopub.status.busy": "2023-12-17T23:49:44.552487Z",
     "iopub.status.idle": "2023-12-17T23:49:44.685225Z",
     "shell.execute_reply": "2023-12-17T23:49:44.684777Z",
     "shell.execute_reply.started": "2023-12-17T23:49:44.553009Z"
    },
    "tags": []
   },
   "outputs": [
    {
     "data": {
      "text/plain": [
       "(-10.0, 10.0)"
      ]
     },
     "execution_count": 31,
     "metadata": {},
     "output_type": "execute_result"
    },
    {
     "data": {
      "image/png": "[encoded data removed]",
      "text/plain": [
       "<Figure size 1000x500 with 1 Axes>"
      ]
     },
     "metadata": {
      "needs_background": "light"
     },
     "output_type": "display_data"
    }
   ],
   "source": [
    "predx0 = x_i.reshape(-1).numpy();\n",
    "x0 = data_test.Y1;\n",
    "plt.plot(x0, predx0, \".\")\n",
    "xx = np.linspace(-10, 10, 100)\n",
    "yy = xx\n",
    "plt.plot(xx, yy)\n",
    "plt.xlim([-10, 10])\n",
    "plt.ylim([-10, 10])"
   ]
  },
  {
   "cell_type": "code",
   "execution_count": null,
   "id": "2b7ea994-bab9-42d0-8bf9-f2b685574b27",
   "metadata": {},
   "outputs": [],
   "source": []
  },
  {
   "cell_type": "markdown",
   "id": "48020217-0f57-4973-8db7-46373d2d2ef5",
   "metadata": {},
   "source": [
    "## Given X"
   ]
  },
  {
   "cell_type": "code",
   "execution_count": 41,
   "id": "f229a6f5-f822-4cf7-89c1-03107475d835",
   "metadata": {
    "execution": {
     "iopub.execute_input": "2023-12-17T23:50:09.036546Z",
     "iopub.status.busy": "2023-12-17T23:50:09.035583Z",
     "iopub.status.idle": "2023-12-17T23:50:09.075628Z",
     "shell.execute_reply": "2023-12-17T23:50:09.074826Z",
     "shell.execute_reply.started": "2023-12-17T23:50:09.036465Z"
    },
    "tags": []
   },
   "outputs": [],
   "source": [
    "datatest_con = get_simu_data(n=params.simu_setting.ntest, \n",
    "                               d=params.simu_setting.d, \n",
    "                               is_homo=params.simu_setting.is_homo, \n",
    "                               rho=params.simu_setting.rho, \n",
    "                               is_condition=True);\n",
    "tX_con = torch.tensor(datatest_con.X);\n",
    "c = tX_con.type(params.dftype);"
   ]
  },
  {
   "cell_type": "code",
   "execution_count": 42,
   "id": "9020f7f9-68e4-474b-a26c-1cfa3c004712",
   "metadata": {
    "execution": {
     "iopub.execute_input": "2023-12-17T23:50:09.306024Z",
     "iopub.status.busy": "2023-12-17T23:50:09.305528Z",
     "iopub.status.idle": "2023-12-17T23:50:10.182650Z",
     "shell.execute_reply": "2023-12-17T23:50:10.182182Z",
     "shell.execute_reply.started": "2023-12-17T23:50:09.305982Z"
    },
    "tags": []
   },
   "outputs": [],
   "source": [
    "ddpm.eval()\n",
    "with torch.no_grad():\n",
    "    x_i, x_is = ddpm.sample(c, device=\"cpu\", guide_w=0);"
   ]
  },
  {
   "cell_type": "code",
   "execution_count": 43,
   "id": "d4168093-393a-45e7-bbb4-752e3f4b87c6",
   "metadata": {
    "execution": {
     "iopub.execute_input": "2023-12-17T23:50:10.183586Z",
     "iopub.status.busy": "2023-12-17T23:50:10.183379Z",
     "iopub.status.idle": "2023-12-17T23:50:10.460346Z",
     "shell.execute_reply": "2023-12-17T23:50:10.459924Z",
     "shell.execute_reply.started": "2023-12-17T23:50:10.183571Z"
    },
    "tags": []
   },
   "outputs": [
    {
     "data": {
      "text/plain": [
       "(-5.0, 10.0)"
      ]
     },
     "execution_count": 43,
     "metadata": {},
     "output_type": "execute_result"
    },
    {
     "data": {
      "image/png": "[encoded data removed]",
      "text/plain": [
       "<Figure size 1000x500 with 1 Axes>"
      ]
     },
     "metadata": {
      "needs_background": "light"
     },
     "output_type": "display_data"
    }
   ],
   "source": [
    "predx0 = x_i.reshape(-1).numpy();\n",
    "x0 = datatest_con.Y1;\n",
    "x_is = x_is.squeeze();\n",
    "for idx in range(x_is.shape[0]):\n",
    "    sns.kdeplot(x_is[idx])\n",
    "sns.kdeplot(x0, color=\"black\", lw=4, label=\"obs\")\n",
    "sns.kdeplot(predx0, color=\"green\", lw=4, label=\"pred\")\n",
    "plt.legend()\n",
    "plt.xlim([-5, 10])"
   ]
  },
  {
   "cell_type": "code",
   "execution_count": null,
   "id": "b9f376bf-3f54-44e9-9af2-c1efca5f62ef",
   "metadata": {},
   "outputs": [],
   "source": []
  },
  {
   "cell_type": "markdown",
   "id": "d4761eb3-0e09-4e30-887b-ad353dd46e85",
   "metadata": {},
   "source": [
    "# bak"
   ]
  },
  {
   "cell_type": "code",
   "execution_count": null,
   "id": "6e30b424-516b-42f8-89ad-871b22e9a2f5",
   "metadata": {},
   "outputs": [],
   "source": []
  },
  {
   "cell_type": "code",
   "execution_count": null,
   "id": "52af6471-ac72-4757-bd4b-48a02c6efb91",
   "metadata": {},
   "outputs": [],
   "source": []
  }
 ],
 "metadata": {
  "kernelspec": {
   "display_name": "Python 3 (ipykernel)",
   "language": "python",
   "name": "python3"
  },
  "language_info": {
   "codemirror_mode": {
    "name": "ipython",
    "version": 3
   },
   "file_extension": ".py",
   "mimetype": "text/x-python",
   "name": "python",
   "nbconvert_exporter": "python",
   "pygments_lexer": "ipython3",
   "version": "3.9.7"
  },
  "toc-autonumbering": true
 },
 "nbformat": 4,
 "nbformat_minor": 5
}
