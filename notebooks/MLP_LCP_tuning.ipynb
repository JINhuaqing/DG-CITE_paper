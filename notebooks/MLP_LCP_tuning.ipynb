{
 "cells": [
  {
   "cell_type": "raw",
   "id": "a40a1bf3-230e-4ead-b550-d932c5a78398",
   "metadata": {},
   "source": [
    "This notebook is to test using MLP to get CI for our task"
   ]
  },
  {
   "cell_type": "code",
   "execution_count": 1,
   "id": "7be37593-bf50-4fc1-b617-ff93ca3fb707",
   "metadata": {
    "execution": {
     "iopub.execute_input": "2024-03-08T23:51:20.071038Z",
     "iopub.status.busy": "2024-03-08T23:51:20.070467Z",
     "iopub.status.idle": "2024-03-08T23:51:20.085841Z",
     "shell.execute_reply": "2024-03-08T23:51:20.084223Z",
     "shell.execute_reply.started": "2024-03-08T23:51:20.070994Z"
    },
    "tags": []
   },
   "outputs": [],
   "source": [
    "import sys\n",
    "sys.path.append(\"../mypkg\")"
   ]
  },
  {
   "cell_type": "code",
   "execution_count": 2,
   "id": "ad8d569b-0412-47de-a9bf-2bbbfde7e943",
   "metadata": {
    "execution": {
     "iopub.execute_input": "2024-03-08T23:51:20.088146Z",
     "iopub.status.busy": "2024-03-08T23:51:20.087372Z",
     "iopub.status.idle": "2024-03-08T23:51:22.867228Z",
     "shell.execute_reply": "2024-03-08T23:51:22.865666Z",
     "shell.execute_reply.started": "2024-03-08T23:51:20.088099Z"
    },
    "tags": []
   },
   "outputs": [],
   "source": [
    "from constants import RES_ROOT, FIG_ROOT, DATA_ROOT\n",
    "from utils.misc import load_pkl, save_pkl, merge_intervals\n",
    "from utils.colors import qual_cmap\n",
    "from utils.stats import weighted_quantile\n",
    "from data_gen_utils.data_gen_my4 import get_simu_data\n",
    "from utils.utils import MyDataSet, get_idx_sets\n",
    "from demo_settings import simu_settings\n",
    "from CQR import get_CQR_CIs, boosting_pred, boosting_logi, get_CF_CIs\n",
    "from mlp.train_mlp import TrainMLP\n",
    "from ddpm.train_ddpm_now import TrainDDPM\n",
    "from weighted_conformal_inference import WeightedConformalInference\n",
    "from local_weighted_conformal_inference import LocalWeightedConformalInference, get_opth\n",
    "from naive_sample import NaiveSample"
   ]
  },
  {
   "cell_type": "code",
   "execution_count": 3,
   "id": "f1775f04-ea35-40dc-90e8-61a284a9daf2",
   "metadata": {
    "execution": {
     "iopub.execute_input": "2024-03-08T23:51:22.870956Z",
     "iopub.status.busy": "2024-03-08T23:51:22.870141Z",
     "iopub.status.idle": "2024-03-08T23:51:22.909575Z",
     "shell.execute_reply": "2024-03-08T23:51:22.908985Z",
     "shell.execute_reply.started": "2024-03-08T23:51:22.870898Z"
    },
    "tags": []
   },
   "outputs": [],
   "source": [
    "%load_ext autoreload\n",
    "%autoreload 2\n",
    "# 0,1, 2, 3, be careful about the space"
   ]
  },
  {
   "cell_type": "code",
   "execution_count": 4,
   "id": "a42be2f3-7ab7-4f69-98eb-27ae79905c93",
   "metadata": {
    "execution": {
     "iopub.execute_input": "2024-03-08T23:51:22.910598Z",
     "iopub.status.busy": "2024-03-08T23:51:22.910343Z",
     "iopub.status.idle": "2024-03-08T23:51:23.255098Z",
     "shell.execute_reply": "2024-03-08T23:51:23.254059Z",
     "shell.execute_reply.started": "2024-03-08T23:51:22.910582Z"
    },
    "tags": []
   },
   "outputs": [],
   "source": [
    "import torch\n",
    "import scipy.stats as ss\n",
    "import numpy as np\n",
    "from easydict import EasyDict as edict\n",
    "import matplotlib.pyplot as plt\n",
    "import seaborn as sns\n",
    "from collections import defaultdict as ddict\n",
    "from tqdm import tqdm, trange\n",
    "import random\n",
    "from joblib import Parallel, delayed\n",
    "import pandas as pd\n",
    "from pprint import pprint\n",
    "from copy import deepcopy\n",
    "plt.style.use(FIG_ROOT/\"base.mplstyle\")"
   ]
  },
  {
   "cell_type": "markdown",
   "id": "5f1daada-ca8c-4a09-84f5-dfe6c045008d",
   "metadata": {},
   "source": [
    "# Params"
   ]
  },
  {
   "cell_type": "code",
   "execution_count": 5,
   "id": "68b00b94-5b21-4681-85e2-2206bb03ba73",
   "metadata": {
    "execution": {
     "iopub.execute_input": "2024-03-08T23:51:23.257075Z",
     "iopub.status.busy": "2024-03-08T23:51:23.256474Z",
     "iopub.status.idle": "2024-03-08T23:51:23.290567Z",
     "shell.execute_reply": "2024-03-08T23:51:23.290137Z",
     "shell.execute_reply.started": "2024-03-08T23:51:23.257035Z"
    },
    "tags": []
   },
   "outputs": [
    {
     "data": {
      "text/plain": [
       "'setting3'"
      ]
     },
     "execution_count": 5,
     "metadata": {},
     "output_type": "execute_result"
    }
   ],
   "source": [
    "setting = \"setting3\""
   ]
  },
  {
   "cell_type": "code",
   "execution_count": 6,
   "id": "6cc79339-0cfa-4d15-9220-129cd5209122",
   "metadata": {
    "execution": {
     "iopub.execute_input": "2024-03-08T23:51:23.291576Z",
     "iopub.status.busy": "2024-03-08T23:51:23.291307Z",
     "iopub.status.idle": "2024-03-08T23:51:23.322997Z",
     "shell.execute_reply": "2024-03-08T23:51:23.322022Z",
     "shell.execute_reply.started": "2024-03-08T23:51:23.291561Z"
    },
    "tags": []
   },
   "outputs": [
    {
     "name": "stdout",
     "output_type": "stream",
     "text": [
      "{'cal_ratio': 0.25,\n",
      " 'd': 10,\n",
      " 'err_type': 'norm',\n",
      " 'is_homo': False,\n",
      " 'n': 3000,\n",
      " 'ntest': 1000,\n",
      " 'rho': 0.0,\n",
      " 'val_ratio': 0.05}\n"
     ]
    }
   ],
   "source": [
    "params = edict()\n",
    "\n",
    "params.simu_setting = edict()\n",
    "params.simu_setting.rho = 0.9\n",
    "params.simu_setting.is_homo = False\n",
    "params.simu_setting.n = 3000\n",
    "params.simu_setting.d = 10\n",
    "params.simu_setting.ntest = 1000\n",
    "params.simu_setting.cal_ratio = 0.45 # for conformal inference\n",
    "params.simu_setting.val_ratio = 0.05 # for tuning network\n",
    "params.simu_setting.update(simu_settings[setting])\n",
    "params.simu_setting.n = 3000\n",
    "params.simu_setting.d = 10 \n",
    "pprint(params.simu_setting)\n",
    "\n",
    "\n",
    "params.nrep = 50 # num of reptition for simulation\n",
    "params.K = 40 # num of sps drawn from q(Y(1)|X)\n",
    "params.save_snapshot = 500\n",
    "params.df_dtype = torch.float32\n",
    "params.device=\"cpu\"\n",
    "params.n_jobs = 20\n",
    "params.verbose = True\n",
    "params.inf_bs = 40 # the inference batch, fct x K\n",
    "\n",
    "params.ddpm_training = edict()\n",
    "# Batch size during training\n",
    "params.ddpm_training.batch_size = 256 \n",
    "# Number of training epochs\n",
    "params.ddpm_training.n_epoch = 100\n",
    "params.ddpm_training.n_infeat = 128\n",
    "# Learning rate for optimizers\n",
    "params.ddpm_training.lr = 0.001\n",
    "params.ddpm_training.lr_gamma = 0.5\n",
    "params.ddpm_training.lr_step = 1000\n",
    "params.ddpm_training.test_intv = 5\n",
    "params.ddpm_training.n_downblk = 1\n",
    "params.ddpm_training.weight_decay = 1e-2\n",
    "params.ddpm_training.early_stop = False\n",
    "params.ddpm_training.early_stop_dict = {\"early_stop_len\":50, \"early_stop_eps\": 5e-4}\n",
    "#params.ddpm_training.betas = [0.001, 0.5]\n",
    "\n",
    "params.wconformal = edict()\n",
    "# remove too large and too small in ws/mean(ws)\n",
    "params.wconformal.nwthigh = 20\n",
    "params.wconformal.nwtlow = 0.05\n",
    "params.wconformal.useinf = False\n",
    "\n",
    "\n",
    "params.hypo_test = edict()\n",
    "params.hypo_test.alpha = 0.05 # sig level\n",
    "\n",
    "params.prefix = \"\"\n",
    "params.save_dir = f\"demo_ddpm_{setting}_test11\"\n",
    "if not (RES_ROOT/params.save_dir).exists():\n",
    "    (RES_ROOT/params.save_dir).mkdir()"
   ]
  },
  {
   "cell_type": "code",
   "execution_count": 7,
   "id": "8323bd12-8b5d-487a-8951-77e4c796e2d8",
   "metadata": {
    "execution": {
     "iopub.execute_input": "2024-03-08T23:51:27.136544Z",
     "iopub.status.busy": "2024-03-08T23:51:27.135988Z",
     "iopub.status.idle": "2024-03-08T23:51:27.172417Z",
     "shell.execute_reply": "2024-03-08T23:51:27.171575Z",
     "shell.execute_reply.started": "2024-03-08T23:51:27.136502Z"
    },
    "tags": []
   },
   "outputs": [],
   "source": [
    "torch.set_default_dtype(params.df_dtype)"
   ]
  },
  {
   "cell_type": "code",
   "execution_count": 8,
   "id": "cbb7d327-4751-4707-b301-9fbbd58f7a0f",
   "metadata": {
    "execution": {
     "iopub.execute_input": "2024-03-08T23:51:27.537160Z",
     "iopub.status.busy": "2024-03-08T23:51:27.536610Z",
     "iopub.status.idle": "2024-03-08T23:51:27.573507Z",
     "shell.execute_reply": "2024-03-08T23:51:27.572806Z",
     "shell.execute_reply.started": "2024-03-08T23:51:27.537117Z"
    },
    "tags": []
   },
   "outputs": [],
   "source": [
    "keys = [\"lr\", \"n_infeat\", \"weight_decay\", \"n_downblk\"]\n",
    "def _get_name_postfix(keys, ddpm_training):\n",
    "    lst = []\n",
    "    for key in keys:\n",
    "        if ddpm_training[key] >= 1:\n",
    "            lst.append(f\"{key}-{str(ddpm_training[key])}\")\n",
    "        else:\n",
    "            lst.append(f\"{key}--{str(ddpm_training[key]).split('.')[-1]}\")\n",
    "    return \"_\".join(lst)"
   ]
  },
  {
   "cell_type": "code",
   "execution_count": 26,
   "id": "aa65a7af-b8da-4905-90f6-eeec7773b855",
   "metadata": {
    "execution": {
     "iopub.execute_input": "2024-03-08T23:56:24.725106Z",
     "iopub.status.busy": "2024-03-08T23:56:24.724479Z",
     "iopub.status.idle": "2024-03-08T23:56:24.855531Z",
     "shell.execute_reply": "2024-03-08T23:56:24.855131Z",
     "shell.execute_reply.started": "2024-03-08T23:56:24.725061Z"
    },
    "tags": []
   },
   "outputs": [
    {
     "data": {
      "text/plain": [
       "[<matplotlib.lines.Line2D at 0x7fabf2f0d940>]"
      ]
     },
     "execution_count": 26,
     "metadata": {},
     "output_type": "execute_result"
    },
    {
     "data": {
      "image/png": "[encoded data removed]",
      "text/plain": [
       "<Figure size 1000x500 with 1 Axes>"
      ]
     },
     "metadata": {
      "needs_background": "light"
     },
     "output_type": "display_data"
    }
   ],
   "source": [
    "from data_gen_utils.data_gen_my4 import sdfun\n",
    "data = get_simu_data(n=params.simu_setting.n, \n",
    "                           d=100, \n",
    "                           rho=params.simu_setting.rho, \n",
    "                           err_type=params.simu_setting.err_type);\n",
    "errs = data.Y1 - data.tau\n",
    "X = data.X\n",
    "X0 = torch.tensor(X, dtype=params.df_dtype)\n",
    "Xnorm = torch.norm(X0, p=2, dim=1).numpy()\n",
    "\n",
    "cutoff = np.quantile(Xnorm, 0.1)\n",
    "sel_ix = Xnorm < cutoff\n",
    "sds = sdfun(X)\n",
    "X_norm = np.linalg.norm(X, axis=1)\n",
    "X_norm = X.mean(axis=1)\n",
    "#plt.plot(X_norm, sds, \".\")\n",
    "plt.plot(X_norm, errs, \".\")\n",
    "plt.plot(X_norm[sel_ix], errs[sel_ix], \"h\")"
   ]
  },
  {
   "cell_type": "code",
   "execution_count": 23,
   "id": "10df5c7e-373c-4eb0-a323-5597f3f9184c",
   "metadata": {
    "execution": {
     "iopub.execute_input": "2024-03-08T23:55:37.854104Z",
     "iopub.status.busy": "2024-03-08T23:55:37.853469Z",
     "iopub.status.idle": "2024-03-08T23:55:37.991731Z",
     "shell.execute_reply": "2024-03-08T23:55:37.990661Z",
     "shell.execute_reply.started": "2024-03-08T23:55:37.854058Z"
    }
   },
   "outputs": [
    {
     "data": {
      "text/plain": [
       "1.036497888955996"
      ]
     },
     "execution_count": 23,
     "metadata": {},
     "output_type": "execute_result"
    }
   ],
   "source": [
    "errs.std()"
   ]
  },
  {
   "cell_type": "code",
   "execution_count": 24,
   "id": "91cc2a25-a3d7-4b68-9ce2-49d07c15ca35",
   "metadata": {
    "execution": {
     "iopub.execute_input": "2024-03-08T23:55:48.948299Z",
     "iopub.status.busy": "2024-03-08T23:55:48.947677Z",
     "iopub.status.idle": "2024-03-08T23:55:48.987675Z",
     "shell.execute_reply": "2024-03-08T23:55:48.987029Z",
     "shell.execute_reply.started": "2024-03-08T23:55:48.948255Z"
    }
   },
   "outputs": [
    {
     "data": {
      "text/plain": [
       "0.5314297292203534"
      ]
     },
     "execution_count": 24,
     "metadata": {},
     "output_type": "execute_result"
    }
   ],
   "source": [
    "errs[sel_ix].std()"
   ]
  },
  {
   "cell_type": "code",
   "execution_count": 17,
   "id": "ed2a5d2e-8c06-41f7-affa-8e2f4876b79d",
   "metadata": {
    "execution": {
     "iopub.execute_input": "2024-03-08T23:53:25.776706Z",
     "iopub.status.busy": "2024-03-08T23:53:25.776098Z",
     "iopub.status.idle": "2024-03-08T23:53:25.928234Z",
     "shell.execute_reply": "2024-03-08T23:53:25.926931Z",
     "shell.execute_reply.started": "2024-03-08T23:53:25.776661Z"
    },
    "tags": []
   },
   "outputs": [
    {
     "data": {
      "text/plain": [
       "array([6.1542754, 5.9234676, 5.7751107, ..., 5.997085 , 6.063632 ,\n",
       "       5.6975594], dtype=float32)"
      ]
     },
     "execution_count": 17,
     "metadata": {},
     "output_type": "execute_result"
    }
   ],
   "source": []
  },
  {
   "cell_type": "code",
   "execution_count": 16,
   "id": "844a42c9-63c4-4c52-b277-68b237ff853e",
   "metadata": {
    "execution": {
     "iopub.execute_input": "2024-03-08T23:53:16.305216Z",
     "iopub.status.busy": "2024-03-08T23:53:16.304581Z",
     "iopub.status.idle": "2024-03-08T23:53:16.347516Z",
     "shell.execute_reply": "2024-03-08T23:53:16.346286Z",
     "shell.execute_reply.started": "2024-03-08T23:53:16.305173Z"
    },
    "tags": []
   },
   "outputs": [
    {
     "data": {
      "text/plain": [
       "array([6.1542754, 5.9234676, 5.7751107, ..., 5.997085 , 6.063632 ,\n",
       "       5.6975594], dtype=float32)"
      ]
     },
     "execution_count": 16,
     "metadata": {},
     "output_type": "execute_result"
    }
   ],
   "source": []
  },
  {
   "cell_type": "code",
   "execution_count": null,
   "id": "b713efff-72cd-4b69-85e5-8efd57ef17dd",
   "metadata": {
    "tags": []
   },
   "outputs": [],
   "source": []
  },
  {
   "cell_type": "code",
   "execution_count": 110,
   "id": "488fb498-0648-4411-b582-bd5721a0a8be",
   "metadata": {
    "execution": {
     "iopub.execute_input": "2024-03-07T22:28:31.096458Z",
     "iopub.status.busy": "2024-03-07T22:28:31.095702Z",
     "iopub.status.idle": "2024-03-07T22:28:31.339645Z",
     "shell.execute_reply": "2024-03-07T22:28:31.339144Z",
     "shell.execute_reply.started": "2024-03-07T22:28:31.096406Z"
    },
    "tags": []
   },
   "outputs": [
    {
     "data": {
      "text/plain": [
       "{'early_stop_len': 50, 'early_stop_eps': 0.0005}"
      ]
     },
     "execution_count": 110,
     "metadata": {},
     "output_type": "execute_result"
    }
   ],
   "source": [
    "rep_ix = 1\n",
    "params = params\n",
    "lr = 1e-2\n",
    "n_infeat = 256\n",
    "weight_decay = 1e-2\n",
    "n_blk = 3\n",
    "manualSeed = rep_ix\n",
    "random.seed(manualSeed)\n",
    "np.random.seed(manualSeed)\n",
    "torch.manual_seed(manualSeed)\n",
    "torch.use_deterministic_algorithms(True) # Needed for reproducible results\n",
    "params = edict(deepcopy(params))\n",
    "params.ddpm_training.n_downblk = n_blk\n",
    "params.ddpm_training.weight_decay = weight_decay\n",
    "params.ddpm_training.lr = lr\n",
    "params.ddpm_training.n_infeat = n_infeat\n",
    "keys = [\"lr\", \"n_infeat\",  \"weight_decay\", \"n_downblk\"]\n",
    "post_fix = _get_name_postfix(keys, params.ddpm_training)\n",
    "\n",
    "torch.set_default_dtype(params.df_dtype)\n",
    "torch.set_default_device(params.device)\n",
    "\n",
    "        \n",
    "        \n",
    "data_train = get_simu_data(n=params.simu_setting.n, \n",
    "                           d=params.simu_setting.d, \n",
    "                           rho=params.simu_setting.rho, \n",
    "                           err_type=params.simu_setting.err_type);\n",
    "data_test = get_simu_data(n=params.simu_setting.ntest, \n",
    "                           d=params.simu_setting.d, \n",
    "                           rho=params.simu_setting.rho,\n",
    "                           err_type=params.simu_setting.err_type);\n",
    "\n",
    "\n",
    "cal_idxs, val_idxs, tr_idxs = get_idx_sets(all_idxs=np.where(data_train.T)[0], \n",
    "                                               ratios = [params.simu_setting.cal_ratio, params.simu_setting.val_ratio])\n",
    "#cal_idxs, val_idxs, tr_idxs = get_idx_sets(all_idxs=np.where(data_train.T!=10)[0], \n",
    "#                                               ratios = [params.simu_setting.cal_ratio, params.simu_setting.val_ratio])\n",
    "                \n",
    "# get psfun\n",
    "psY = data_train.T.astype(int)\n",
    "psX = data_train.X\n",
    "fit_res = boosting_logi(psY, psX);\n",
    "def wsfun(X):\n",
    "    eps=1e-10\n",
    "    if isinstance(X, torch.Tensor):\n",
    "        X = X.cpu().numpy()\n",
    "    if X.ndim == 1:\n",
    "        X = X.reshape(1, -1)\n",
    "    est_ps = boosting_pred(X, fit_res)\n",
    "    est_ws = 1/(est_ps+eps)\n",
    "    return torch.tensor(est_ws, dtype=params.df_dtype).to(device=params.device)\n",
    "    \n",
    "\n",
    "cal_X = torch.tensor(data_train.X[cal_idxs], dtype=params.df_dtype)\n",
    "cal_Y = torch.tensor(data_train.Y1[cal_idxs], dtype=params.df_dtype)\n",
    "val_X = torch.tensor(data_train.X[val_idxs], dtype=params.df_dtype)\n",
    "val_Y = torch.tensor(data_train.Y1[val_idxs], dtype=params.df_dtype)\n",
    "test_X = torch.tensor(data_test.X, dtype=params.df_dtype)\n",
    "test_Y = torch.tensor(data_test.Y1, dtype=params.df_dtype)\n",
    "\n",
    "# get subset of all X\n",
    "test_Xnorm = torch.norm(test_X, p=2, dim=1)\n",
    "cutoff1 = torch.quantile(test_Xnorm, 0.1)\n",
    "cutoff2 = torch.quantile(test_Xnorm, 0.9)\n",
    "test_X1 = test_X[test_Xnorm<cutoff1].clone()\n",
    "test_Y1 = test_Y[test_Xnorm<cutoff1].clone()\n",
    "test_X1c = test_X[test_Xnorm>=cutoff1].clone()\n",
    "test_Y1c = test_Y[test_Xnorm>=cutoff1].clone()\n",
    "test_X2 = test_X[test_Xnorm<cutoff2].clone()\n",
    "test_Y2 = test_Y[test_Xnorm<cutoff2].clone()\n",
    "test_X2c = test_X[test_Xnorm>=cutoff2].clone()\n",
    "test_Y2c = test_Y[test_Xnorm>=cutoff2].clone();\n",
    "    \n",
    "# train q(Y(1)|X)\n",
    "data_train_ddpm = MyDataSet(Y=data_train.Y[tr_idxs], X=data_train.X[tr_idxs])\n",
    "data_val = edict()\n",
    "data_val.c = val_X\n",
    "data_val.x = val_Y\n",
    "input_params = edict(deepcopy(params.ddpm_training))\n",
    "input_params.pop(\"n_epoch\")\n",
    "input_params.pop(\"early_stop\")\n",
    "input_params.pop(\"early_stop_dict\")"
   ]
  },
  {
   "cell_type": "code",
   "execution_count": 111,
   "id": "69042c15-ecbd-47df-84cc-df88e9f7a76c",
   "metadata": {
    "execution": {
     "iopub.execute_input": "2024-03-07T22:28:31.341079Z",
     "iopub.status.busy": "2024-03-07T22:28:31.340758Z",
     "iopub.status.idle": "2024-03-07T22:28:31.403236Z",
     "shell.execute_reply": "2024-03-07T22:28:31.402782Z",
     "shell.execute_reply.started": "2024-03-07T22:28:31.341062Z"
    },
    "tags": []
   },
   "outputs": [
    {
     "name": "stderr",
     "output_type": "stream",
     "text": [
      "2024-03-07 14:28:31,376 - mlp.train_mlp - INFO - The results are saved at /data/rajlab1/user_data/jin/MyResearch/DG-CITE_paper/notebooks/../mypkg/../results/demo_ddpm_setting3_test11.\n",
      "2024-03-07 14:28:31,399 - mlp.train_mlp - INFO - The params is {'lr': 0.01, 'batch_size': 256, 'device': 'cpu', 'n_infeat': 256, 'n_downblk': 3, 'lr_gamma': 0.5, 'lr_step': 1000, 'test_intv': 5, 'weight_decay': 0.01}\n"
     ]
    },
    {
     "name": "stdout",
     "output_type": "stream",
     "text": [
      "The num of params is 1.52m. \n",
      "Adjusting learning rate of group 0 to 1.0000e-02.\n"
     ]
    },
    {
     "data": {
      "text/plain": [
       "<mlp.train_mlp.TrainMLP at 0x7f50e90ecd30>"
      ]
     },
     "execution_count": 111,
     "metadata": {},
     "output_type": "execute_result"
    }
   ],
   "source": [
    "mlp_fit = TrainMLP(data_train_ddpm, \n",
    "                  save_dir=params.save_dir, \n",
    "                  verbose=params.verbose, prefix=f\"rep{rep_ix}_{post_fix}\", \n",
    "                  device=params.device,\n",
    "                  **input_params)"
   ]
  },
  {
   "cell_type": "code",
   "execution_count": 112,
   "id": "d1140923-a564-4cab-a2f3-d9a5cccf66d7",
   "metadata": {
    "execution": {
     "iopub.execute_input": "2024-03-07T22:28:31.619378Z",
     "iopub.status.busy": "2024-03-07T22:28:31.618647Z",
     "iopub.status.idle": "2024-03-07T22:28:37.851671Z",
     "shell.execute_reply": "2024-03-07T22:28:37.851212Z",
     "shell.execute_reply.started": "2024-03-07T22:28:31.619335Z"
    },
    "scrolled": true,
    "tags": []
   },
   "outputs": [
    {
     "name": "stderr",
     "output_type": "stream",
     "text": [
      "2024-03-07 14:28:31,651 - mlp.train_mlp - WARNING - We do not do early stop, so any args in early_stop_dict are ignored.\n",
      "loss: 3.6297: 100%|█████████████████████████████████████████████| 100/100 [00:06<00:00, 16.14it/s, val loss=2.44]\n"
     ]
    }
   ],
   "source": [
    "mlp_fit.train(n_epoch=params.ddpm_training.n_epoch, \n",
    "              data_val=data_val, \n",
    "              save_snapshot=params.save_snapshot, \n",
    "              early_stop=params.ddpm_training.early_stop, \n",
    "              early_stop_dict=params.ddpm_training.early_stop_dict\n",
    "              )"
   ]
  },
  {
   "cell_type": "code",
   "execution_count": 113,
   "id": "7584d8e8-5e6c-44f4-9e1f-d5070970c0a1",
   "metadata": {
    "execution": {
     "iopub.execute_input": "2024-03-07T22:28:38.676137Z",
     "iopub.status.busy": "2024-03-07T22:28:38.675548Z",
     "iopub.status.idle": "2024-03-07T22:28:38.714477Z",
     "shell.execute_reply": "2024-03-07T22:28:38.713828Z",
     "shell.execute_reply.started": "2024-03-07T22:28:38.676090Z"
    },
    "tags": []
   },
   "outputs": [],
   "source": [
    "net = mlp_fit.nn_model;"
   ]
  },
  {
   "cell_type": "code",
   "execution_count": 114,
   "id": "46fbb2b6-409a-4b63-a087-474755d4838f",
   "metadata": {
    "execution": {
     "iopub.execute_input": "2024-03-07T22:28:39.162981Z",
     "iopub.status.busy": "2024-03-07T22:28:39.162321Z",
     "iopub.status.idle": "2024-03-07T22:28:39.202476Z",
     "shell.execute_reply": "2024-03-07T22:28:39.201639Z",
     "shell.execute_reply.started": "2024-03-07T22:28:39.162934Z"
    },
    "tags": []
   },
   "outputs": [],
   "source": [
    "def _inner_fn(X, Y, net, LCP=None, h=0.3, verbose=1):\n",
    "    # get the len of CI based on intvs, there intvs is a list, each ele is another list contains CIs ele=[CI1, CI2]\n",
    "    _get_intvs_len = lambda intvs: np.array([sum([np.diff(iv) for iv in intv])[0] for intv in intvs]);\n",
    "    # get weather vaule in vs is in CI in intvs or not \n",
    "    def _get_inset(vs, intvs):\n",
    "        in_set = []\n",
    "        for v, intv in zip(vs, intvs):\n",
    "            in_set.append(np.sum([np.bitwise_and(v>iv[0], v<iv[1]) for iv in intv]))\n",
    "        in_set = np.array(in_set)\n",
    "        return in_set\n",
    "    wcf = LocalWeightedConformalInference(cal_X, \n",
    "                         cal_Y,\n",
    "                         gen_fn=net, \n",
    "                         #ws_fn=None, \n",
    "                         ws_fn=wsfun, \n",
    "                         verbose=verbose, \n",
    "                         gen_type=\"reg\",\n",
    "                         seed=manualSeed,\n",
    "                         device=params.device,\n",
    "                         wcf_params={\n",
    "                            \"nwhigh\" : params.wconformal.nwthigh,\n",
    "                            \"nwlow\" : params.wconformal.nwtlow,\n",
    "                            \"useinf\": params.wconformal.useinf,\n",
    "                         })\n",
    "    wcf.add_data(X)\n",
    "    intvs = wcf(local_method=LCP, \n",
    "                alpha=params.hypo_test.alpha, \n",
    "                lm_params={\"h\":h});\n",
    "    prbs = np.mean(_get_inset(Y, intvs))\n",
    "    mlen = np.mean(_get_intvs_len(intvs))\n",
    "    return prbs, mlen"
   ]
  },
  {
   "cell_type": "code",
   "execution_count": 115,
   "id": "8ed6a80d-602c-4047-8654-af00374f9885",
   "metadata": {
    "execution": {
     "iopub.execute_input": "2024-03-07T22:28:39.796708Z",
     "iopub.status.busy": "2024-03-07T22:28:39.796033Z",
     "iopub.status.idle": "2024-03-07T22:28:39.832509Z",
     "shell.execute_reply": "2024-03-07T22:28:39.831839Z",
     "shell.execute_reply.started": "2024-03-07T22:28:39.796664Z"
    },
    "tags": []
   },
   "outputs": [],
   "source": [
    "from collections import defaultdict as ddict\n",
    "all_data = {\n",
    "    \"all_test\": [test_X, test_Y], \n",
    "    \"test1\": [test_X1, test_Y1], \n",
    "    \"test1c\": [test_X1c, test_Y1c], \n",
    "    \"test2\": [test_X2, test_Y2], \n",
    "    \"test2c\": [test_X2c, test_Y2c], \n",
    "};\n",
    "def _get_all_res(net, LCP=None, h=1):\n",
    "    base_res = ddict(list)\n",
    "    for ky in all_data:\n",
    "        tX, tY = all_data[ky]\n",
    "        prb, mlen = _inner_fn(tX, tY, net, LCP=LCP, h=h, verbose=0)\n",
    "        base_res[\"data\"].append(ky)\n",
    "        base_res[\"prb\"].append(prb)\n",
    "        base_res[\"len\"].append(mlen)\n",
    "    res = pd.DataFrame(base_res)\n",
    "    return res"
   ]
  },
  {
   "cell_type": "code",
   "execution_count": 116,
   "id": "8a95c6b4-1cd5-4aca-b1ed-5cae88aaaaef",
   "metadata": {
    "execution": {
     "iopub.execute_input": "2024-03-07T22:28:40.583054Z",
     "iopub.status.busy": "2024-03-07T22:28:40.582518Z",
     "iopub.status.idle": "2024-03-07T22:28:40.657873Z",
     "shell.execute_reply": "2024-03-07T22:28:40.657332Z",
     "shell.execute_reply.started": "2024-03-07T22:28:40.583010Z"
    },
    "scrolled": true,
    "tags": []
   },
   "outputs": [],
   "source": [
    "ky = \"test1\"\n",
    "tX, tY = all_data[ky]\n",
    "net = net\n",
    "LCP = \"g-rlcp\"\n",
    "h = 0.5\n",
    "prb, mlen = _inner_fn(tX, tY, net, LCP=LCP, h=h, verbose=0)"
   ]
  },
  {
   "cell_type": "code",
   "execution_count": 120,
   "id": "0a83b9ca-0b04-457d-bd9b-eeaeb30101e1",
   "metadata": {
    "execution": {
     "iopub.execute_input": "2024-03-07T22:29:00.886527Z",
     "iopub.status.busy": "2024-03-07T22:29:00.885919Z",
     "iopub.status.idle": "2024-03-07T22:29:01.586545Z",
     "shell.execute_reply": "2024-03-07T22:29:01.586145Z",
     "shell.execute_reply.started": "2024-03-07T22:29:00.886480Z"
    },
    "tags": []
   },
   "outputs": [
    {
     "name": "stderr",
     "output_type": "stream",
     "text": [
      "2024-03-07 14:29:00,955 - local_weighted_conformal_inference - WARNING - Check your input, h is not used.\n",
      "2024-03-07 14:29:01,157 - local_weighted_conformal_inference - WARNING - Check your input, h is not used.\n",
      "2024-03-07 14:29:01,193 - local_weighted_conformal_inference - WARNING - Check your input, h is not used.\n",
      "2024-03-07 14:29:01,377 - local_weighted_conformal_inference - WARNING - Check your input, h is not used.\n",
      "2024-03-07 14:29:01,555 - local_weighted_conformal_inference - WARNING - Check your input, h is not used.\n"
     ]
    },
    {
     "data": {
      "text/html": [
       "<div>\n",
       "<style scoped>\n",
       "    .dataframe tbody tr th:only-of-type {\n",
       "        vertical-align: middle;\n",
       "    }\n",
       "\n",
       "    .dataframe tbody tr th {\n",
       "        vertical-align: top;\n",
       "    }\n",
       "\n",
       "    .dataframe thead th {\n",
       "        text-align: right;\n",
       "    }\n",
       "</style>\n",
       "<table border=\"1\" class=\"dataframe\">\n",
       "  <thead>\n",
       "    <tr style=\"text-align: right;\">\n",
       "      <th></th>\n",
       "      <th>data</th>\n",
       "      <th>prb</th>\n",
       "      <th>len</th>\n",
       "    </tr>\n",
       "  </thead>\n",
       "  <tbody>\n",
       "    <tr>\n",
       "      <th>0</th>\n",
       "      <td>all_test</td>\n",
       "      <td>0.939000</td>\n",
       "      <td>6.564665</td>\n",
       "    </tr>\n",
       "    <tr>\n",
       "      <th>1</th>\n",
       "      <td>test1</td>\n",
       "      <td>0.990000</td>\n",
       "      <td>6.591200</td>\n",
       "    </tr>\n",
       "    <tr>\n",
       "      <th>2</th>\n",
       "      <td>test1c</td>\n",
       "      <td>0.933333</td>\n",
       "      <td>6.561717</td>\n",
       "    </tr>\n",
       "    <tr>\n",
       "      <th>3</th>\n",
       "      <td>test2</td>\n",
       "      <td>0.954444</td>\n",
       "      <td>6.564198</td>\n",
       "    </tr>\n",
       "    <tr>\n",
       "      <th>4</th>\n",
       "      <td>test2c</td>\n",
       "      <td>0.800000</td>\n",
       "      <td>6.568868</td>\n",
       "    </tr>\n",
       "  </tbody>\n",
       "</table>\n",
       "</div>"
      ],
      "text/plain": [
       "       data       prb       len\n",
       "0  all_test  0.939000  6.564665\n",
       "1     test1  0.990000  6.591200\n",
       "2    test1c  0.933333  6.561717\n",
       "3     test2  0.954444  6.564198\n",
       "4    test2c  0.800000  6.568868"
      ]
     },
     "execution_count": 120,
     "metadata": {},
     "output_type": "execute_result"
    }
   ],
   "source": [
    "_get_all_res(net, LCP=None, h=1)"
   ]
  },
  {
   "cell_type": "code",
   "execution_count": 130,
   "id": "ccd8899a-2085-466f-89cc-f69f8e754f3c",
   "metadata": {
    "execution": {
     "iopub.execute_input": "2024-03-07T22:38:03.612784Z",
     "iopub.status.busy": "2024-03-07T22:38:03.612186Z",
     "iopub.status.idle": "2024-03-07T22:38:04.170599Z",
     "shell.execute_reply": "2024-03-07T22:38:04.170087Z",
     "shell.execute_reply.started": "2024-03-07T22:38:03.612739Z"
    },
    "tags": []
   },
   "outputs": [
    {
     "data": {
      "text/html": [
       "<div>\n",
       "<style scoped>\n",
       "    .dataframe tbody tr th:only-of-type {\n",
       "        vertical-align: middle;\n",
       "    }\n",
       "\n",
       "    .dataframe tbody tr th {\n",
       "        vertical-align: top;\n",
       "    }\n",
       "\n",
       "    .dataframe thead th {\n",
       "        text-align: right;\n",
       "    }\n",
       "</style>\n",
       "<table border=\"1\" class=\"dataframe\">\n",
       "  <thead>\n",
       "    <tr style=\"text-align: right;\">\n",
       "      <th></th>\n",
       "      <th>data</th>\n",
       "      <th>prb</th>\n",
       "      <th>len</th>\n",
       "    </tr>\n",
       "  </thead>\n",
       "  <tbody>\n",
       "    <tr>\n",
       "      <th>0</th>\n",
       "      <td>all_test</td>\n",
       "      <td>0.963000</td>\n",
       "      <td>9.862475</td>\n",
       "    </tr>\n",
       "    <tr>\n",
       "      <th>1</th>\n",
       "      <td>test1</td>\n",
       "      <td>0.950000</td>\n",
       "      <td>10.066285</td>\n",
       "    </tr>\n",
       "    <tr>\n",
       "      <th>2</th>\n",
       "      <td>test1c</td>\n",
       "      <td>0.965556</td>\n",
       "      <td>9.836417</td>\n",
       "    </tr>\n",
       "    <tr>\n",
       "      <th>3</th>\n",
       "      <td>test2</td>\n",
       "      <td>0.963333</td>\n",
       "      <td>9.713907</td>\n",
       "    </tr>\n",
       "    <tr>\n",
       "      <th>4</th>\n",
       "      <td>test2c</td>\n",
       "      <td>0.950000</td>\n",
       "      <td>10.189572</td>\n",
       "    </tr>\n",
       "  </tbody>\n",
       "</table>\n",
       "</div>"
      ],
      "text/plain": [
       "       data       prb        len\n",
       "0  all_test  0.963000   9.862475\n",
       "1     test1  0.950000  10.066285\n",
       "2    test1c  0.965556   9.836417\n",
       "3     test2  0.963333   9.713907\n",
       "4    test2c  0.950000  10.189572"
      ]
     },
     "execution_count": 130,
     "metadata": {},
     "output_type": "execute_result"
    }
   ],
   "source": [
    "_get_all_res(net, LCP=\"g-rlcp\", h=0.3)"
   ]
  },
  {
   "cell_type": "code",
   "execution_count": 131,
   "id": "3256e2bf-13b0-4973-9d8a-2f4f9d989eb9",
   "metadata": {
    "execution": {
     "iopub.execute_input": "2024-03-07T22:38:07.539484Z",
     "iopub.status.busy": "2024-03-07T22:38:07.538905Z",
     "iopub.status.idle": "2024-03-07T22:38:08.141562Z",
     "shell.execute_reply": "2024-03-07T22:38:08.141159Z",
     "shell.execute_reply.started": "2024-03-07T22:38:07.539438Z"
    },
    "tags": []
   },
   "outputs": [
    {
     "data": {
      "text/html": [
       "<div>\n",
       "<style scoped>\n",
       "    .dataframe tbody tr th:only-of-type {\n",
       "        vertical-align: middle;\n",
       "    }\n",
       "\n",
       "    .dataframe tbody tr th {\n",
       "        vertical-align: top;\n",
       "    }\n",
       "\n",
       "    .dataframe thead th {\n",
       "        text-align: right;\n",
       "    }\n",
       "</style>\n",
       "<table border=\"1\" class=\"dataframe\">\n",
       "  <thead>\n",
       "    <tr style=\"text-align: right;\">\n",
       "      <th></th>\n",
       "      <th>data</th>\n",
       "      <th>prb</th>\n",
       "      <th>len</th>\n",
       "    </tr>\n",
       "  </thead>\n",
       "  <tbody>\n",
       "    <tr>\n",
       "      <th>0</th>\n",
       "      <td>all_test</td>\n",
       "      <td>0.959000</td>\n",
       "      <td>8.726193</td>\n",
       "    </tr>\n",
       "    <tr>\n",
       "      <th>1</th>\n",
       "      <td>test1</td>\n",
       "      <td>0.970000</td>\n",
       "      <td>8.709260</td>\n",
       "    </tr>\n",
       "    <tr>\n",
       "      <th>2</th>\n",
       "      <td>test1c</td>\n",
       "      <td>0.953333</td>\n",
       "      <td>8.607889</td>\n",
       "    </tr>\n",
       "    <tr>\n",
       "      <th>3</th>\n",
       "      <td>test2</td>\n",
       "      <td>0.961111</td>\n",
       "      <td>8.549623</td>\n",
       "    </tr>\n",
       "    <tr>\n",
       "      <th>4</th>\n",
       "      <td>test2c</td>\n",
       "      <td>0.910000</td>\n",
       "      <td>9.689114</td>\n",
       "    </tr>\n",
       "  </tbody>\n",
       "</table>\n",
       "</div>"
      ],
      "text/plain": [
       "       data       prb       len\n",
       "0  all_test  0.959000  8.726193\n",
       "1     test1  0.970000  8.709260\n",
       "2    test1c  0.953333  8.607889\n",
       "3     test2  0.961111  8.549623\n",
       "4    test2c  0.910000  9.689114"
      ]
     },
     "execution_count": 131,
     "metadata": {},
     "output_type": "execute_result"
    }
   ],
   "source": [
    "_get_all_res(net, LCP=\"g-rlcp\", h=0.4)"
   ]
  },
  {
   "cell_type": "code",
   "execution_count": 44,
   "id": "c51e46ba-e021-44eb-83b3-b65d3d3ade02",
   "metadata": {
    "execution": {
     "iopub.execute_input": "2024-03-07T21:54:41.117245Z",
     "iopub.status.busy": "2024-03-07T21:54:41.116501Z",
     "iopub.status.idle": "2024-03-07T21:54:41.570962Z",
     "shell.execute_reply": "2024-03-07T21:54:41.570542Z",
     "shell.execute_reply.started": "2024-03-07T21:54:41.117196Z"
    },
    "tags": []
   },
   "outputs": [
    {
     "data": {
      "text/html": [
       "<div>\n",
       "<style scoped>\n",
       "    .dataframe tbody tr th:only-of-type {\n",
       "        vertical-align: middle;\n",
       "    }\n",
       "\n",
       "    .dataframe tbody tr th {\n",
       "        vertical-align: top;\n",
       "    }\n",
       "\n",
       "    .dataframe thead th {\n",
       "        text-align: right;\n",
       "    }\n",
       "</style>\n",
       "<table border=\"1\" class=\"dataframe\">\n",
       "  <thead>\n",
       "    <tr style=\"text-align: right;\">\n",
       "      <th></th>\n",
       "      <th>data</th>\n",
       "      <th>prb</th>\n",
       "      <th>len</th>\n",
       "    </tr>\n",
       "  </thead>\n",
       "  <tbody>\n",
       "    <tr>\n",
       "      <th>0</th>\n",
       "      <td>all_test</td>\n",
       "      <td>0.986000</td>\n",
       "      <td>24.639812</td>\n",
       "    </tr>\n",
       "    <tr>\n",
       "      <th>1</th>\n",
       "      <td>test1</td>\n",
       "      <td>0.930000</td>\n",
       "      <td>24.639812</td>\n",
       "    </tr>\n",
       "    <tr>\n",
       "      <th>2</th>\n",
       "      <td>test1c</td>\n",
       "      <td>0.988889</td>\n",
       "      <td>24.639812</td>\n",
       "    </tr>\n",
       "    <tr>\n",
       "      <th>3</th>\n",
       "      <td>test2</td>\n",
       "      <td>0.993333</td>\n",
       "      <td>24.639812</td>\n",
       "    </tr>\n",
       "    <tr>\n",
       "      <th>4</th>\n",
       "      <td>test2c</td>\n",
       "      <td>0.970000</td>\n",
       "      <td>24.639812</td>\n",
       "    </tr>\n",
       "  </tbody>\n",
       "</table>\n",
       "</div>"
      ],
      "text/plain": [
       "       data       prb        len\n",
       "0  all_test  0.986000  24.639812\n",
       "1     test1  0.930000  24.639812\n",
       "2    test1c  0.988889  24.639812\n",
       "3     test2  0.993333  24.639812\n",
       "4    test2c  0.970000  24.639812"
      ]
     },
     "execution_count": 44,
     "metadata": {},
     "output_type": "execute_result"
    }
   ],
   "source": [
    "_get_all_res(net, LCP=\"b-rlcp\", h=0.3*np.sqrt(params.simu_setting.d))"
   ]
  },
  {
   "cell_type": "code",
   "execution_count": null,
   "id": "a3912290-7a6a-4c40-87fb-5410a5959632",
   "metadata": {},
   "outputs": [],
   "source": []
  }
 ],
 "metadata": {
  "kernelspec": {
   "display_name": "Python 3 (ipykernel)",
   "language": "python",
   "name": "python3"
  },
  "language_info": {
   "codemirror_mode": {
    "name": "ipython",
    "version": 3
   },
   "file_extension": ".py",
   "mimetype": "text/x-python",
   "name": "python",
   "nbconvert_exporter": "python",
   "pygments_lexer": "ipython3",
   "version": "3.9.7"
  },
  "toc-autonumbering": true
 },
 "nbformat": 4,
 "nbformat_minor": 5
}
