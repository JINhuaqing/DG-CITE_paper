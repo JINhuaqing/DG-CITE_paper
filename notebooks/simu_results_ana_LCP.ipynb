{
 "cells": [
  {
   "cell_type": "code",
   "execution_count": 1,
   "id": "7be37593-bf50-4fc1-b617-ff93ca3fb707",
   "metadata": {
    "execution": {
     "iopub.execute_input": "2024-02-09T22:11:42.358563Z",
     "iopub.status.busy": "2024-02-09T22:11:42.357592Z",
     "iopub.status.idle": "2024-02-09T22:11:42.373191Z",
     "shell.execute_reply": "2024-02-09T22:11:42.371786Z",
     "shell.execute_reply.started": "2024-02-09T22:11:42.358507Z"
    },
    "tags": []
   },
   "outputs": [],
   "source": [
    "import sys\n",
    "sys.path.append(\"../mypkg\")"
   ]
  },
  {
   "cell_type": "code",
   "execution_count": 2,
   "id": "91ac97e6-00aa-46a1-85cb-5b2a3c41e0e0",
   "metadata": {
    "execution": {
     "iopub.execute_input": "2024-02-09T22:11:42.375173Z",
     "iopub.status.busy": "2024-02-09T22:11:42.374522Z",
     "iopub.status.idle": "2024-02-09T22:11:43.386344Z",
     "shell.execute_reply": "2024-02-09T22:11:43.385512Z",
     "shell.execute_reply.started": "2024-02-09T22:11:42.375133Z"
    },
    "tags": []
   },
   "outputs": [],
   "source": [
    "from constants import RES_ROOT, FIG_ROOT, DATA_ROOT\n",
    "from utils.misc import load_pkl, save_pkl, merge_intervals\n",
    "from utils.colors import qual_cmap\n",
    "from utils.stats import weighted_quantile"
   ]
  },
  {
   "cell_type": "code",
   "execution_count": 3,
   "id": "f1775f04-ea35-40dc-90e8-61a284a9daf2",
   "metadata": {
    "execution": {
     "iopub.execute_input": "2024-02-09T22:11:43.388887Z",
     "iopub.status.busy": "2024-02-09T22:11:43.388184Z",
     "iopub.status.idle": "2024-02-09T22:11:43.405193Z",
     "shell.execute_reply": "2024-02-09T22:11:43.404740Z",
     "shell.execute_reply.started": "2024-02-09T22:11:43.388853Z"
    },
    "tags": []
   },
   "outputs": [],
   "source": [
    "%load_ext autoreload\n",
    "%autoreload 2\n",
    "# 0,1, 2, 3, be careful about the space"
   ]
  },
  {
   "cell_type": "code",
   "execution_count": 4,
   "id": "90d1fe06-f921-466f-a1c5-32f8f1e438f3",
   "metadata": {
    "execution": {
     "iopub.execute_input": "2024-02-09T22:11:43.406035Z",
     "iopub.status.busy": "2024-02-09T22:11:43.405853Z",
     "iopub.status.idle": "2024-02-09T22:11:44.997054Z",
     "shell.execute_reply": "2024-02-09T22:11:44.996083Z",
     "shell.execute_reply.started": "2024-02-09T22:11:43.406019Z"
    },
    "tags": []
   },
   "outputs": [],
   "source": [
    "import torch\n",
    "import scipy.stats as ss\n",
    "import numpy as np\n",
    "from easydict import EasyDict as edict\n",
    "import matplotlib.pyplot as plt\n",
    "import seaborn as sns\n",
    "from collections import defaultdict as ddict\n",
    "from tqdm import tqdm, trange\n",
    "import random\n",
    "from joblib import Parallel, delayed\n",
    "import pandas as pd\n",
    "from pprint import pprint\n",
    "plt.style.use(FIG_ROOT/\"base.mplstyle\")"
   ]
  },
  {
   "cell_type": "code",
   "execution_count": 5,
   "id": "e79682dc-16fa-4f9e-95e8-29db9892a33c",
   "metadata": {
    "execution": {
     "iopub.execute_input": "2024-02-09T22:11:44.998700Z",
     "iopub.status.busy": "2024-02-09T22:11:44.998206Z",
     "iopub.status.idle": "2024-02-09T22:11:45.019520Z",
     "shell.execute_reply": "2024-02-09T22:11:45.019006Z",
     "shell.execute_reply.started": "2024-02-09T22:11:44.998667Z"
    },
    "tags": []
   },
   "outputs": [],
   "source": [
    "pd.set_option('display.float_format', '{:.3f}'.format)"
   ]
  },
  {
   "cell_type": "code",
   "execution_count": 6,
   "id": "ada9ae7b-954d-461a-bcce-02c928261ac2",
   "metadata": {
    "execution": {
     "iopub.execute_input": "2024-02-09T22:11:45.020274Z",
     "iopub.status.busy": "2024-02-09T22:11:45.020124Z",
     "iopub.status.idle": "2024-02-09T22:11:45.041818Z",
     "shell.execute_reply": "2024-02-09T22:11:45.041396Z",
     "shell.execute_reply.started": "2024-02-09T22:11:45.020262Z"
    },
    "tags": []
   },
   "outputs": [],
   "source": [
    "from collections import defaultdict as ddict\n",
    "def fil_name2paras(fil_name):\n",
    "    \"\"\"plz be careful about 0.1 and 1\n",
    "    \"\"\"\n",
    "    tmp = fil_name.split(\"_\")\n",
    "    paras = {}\n",
    "    for itm in tmp:\n",
    "        if '--' in itm:\n",
    "            k, v = itm.split(\"--\")\n",
    "            v = f\"0.{v}\"\n",
    "        elif '-' in itm:\n",
    "            k, v = itm.split(\"-\")\n",
    "            # to be compatible with old simu\n",
    "            if v.startswith(\"0\"):\n",
    "                v = f\"0.{v}\"\n",
    "        else:\n",
    "            continue\n",
    "        \n",
    "        if k.startswith(\"T\"):\n",
    "            k = \"n_T\"\n",
    "        elif k.startswith(\"decay\"):\n",
    "            k = \"weight_decay\"\n",
    "        elif k.startswith(\"infeat\"):\n",
    "            k = \"n_infeat\"\n",
    "        paras[k] = float(v)\n",
    "    paras[\"rep\"] = int(tmp[1])\n",
    "    return paras\n"
   ]
  },
  {
   "cell_type": "code",
   "execution_count": 17,
   "id": "5ade2d7d-56d6-4c9f-80b9-f1202033f091",
   "metadata": {
    "execution": {
     "iopub.execute_input": "2024-02-09T22:13:44.004563Z",
     "iopub.status.busy": "2024-02-09T22:13:44.003915Z",
     "iopub.status.idle": "2024-02-09T22:13:46.893496Z",
     "shell.execute_reply": "2024-02-09T22:13:46.892229Z",
     "shell.execute_reply.started": "2024-02-09T22:13:44.004513Z"
    },
    "tags": []
   },
   "outputs": [],
   "source": [
    "# get results of DDIM and naive\n",
    "def _add_res(res, key, dict_res):\n",
    "    if key not in res.keys():\n",
    "        return None\n",
    "    dict_res[\"Len\"].append(res[key][-1])\n",
    "    dict_res[\"ITE\"].append(res[key][0])\n",
    "    dict_res[\"method\"].append(key)\n",
    "    for ky, v in cur_paras.items():\n",
    "        dict_res[ky].append(v)\n",
    "        \n",
    "setting = \"my3setting7\"\n",
    "d = 100\n",
    "res_dir = RES_ROOT/f\"simulocalLESS_{setting}_d{d}_n3000\"\n",
    "all_fils = list(res_dir.glob(\"*n_T-*.pkl\"));\n",
    "our_res = ddict(list)\n",
    "for fil in all_fils:\n",
    "    cur_paras = fil_name2paras(fil.stem);\n",
    "    res = load_pkl(fil, verbose=False);\n",
    "    \n",
    "    _add_res(res, key=\"DDIM_val\", dict_res=our_res)\n",
    "    _add_res(res, key=\"DDIM\", dict_res=our_res)\n",
    "    _add_res(res, key=\"DDIM1\", dict_res=our_res)\n",
    "    _add_res(res, key=\"DDIM2\", dict_res=our_res)\n",
    "    _add_res(res, key=\"DDIM2c\", dict_res=our_res)\n",
    "    _add_res(res, key=\"LDDIM_val\", dict_res=our_res)\n",
    "    _add_res(res, key=\"LDDIM\", dict_res=our_res)\n",
    "    _add_res(res, key=\"LDDIM1\", dict_res=our_res)\n",
    "    _add_res(res, key=\"LDDIM2\", dict_res=our_res)\n",
    "    _add_res(res, key=\"LDDIM2c\", dict_res=our_res)\n",
    "    \n",
    "    for model_ix in range(500, 4000, 500):\n",
    "        _add_res(res, key=f\"DDIM_ep{model_ix}_val\", dict_res=our_res)\n",
    "        _add_res(res, key=f\"DDIM_ep{model_ix}\", dict_res=our_res)\n",
    "        _add_res(res, key=f\"DDIM1_ep{model_ix}\", dict_res=our_res)\n",
    "        _add_res(res, key=f\"DDIM2_ep{model_ix}\", dict_res=our_res)\n",
    "        _add_res(res, key=f\"DDIM2c_ep{model_ix}\", dict_res=our_res)\n",
    "        _add_res(res, key=f\"LDDIM_ep{model_ix}_val\", dict_res=our_res)\n",
    "        _add_res(res, key=f\"LDDIM_ep{model_ix}\", dict_res=our_res)\n",
    "        _add_res(res, key=f\"LDDIM1_ep{model_ix}\", dict_res=our_res)\n",
    "        _add_res(res, key=f\"LDDIM2_ep{model_ix}\", dict_res=our_res)\n",
    "        _add_res(res, key=f\"LDDIM2c_ep{model_ix}\", dict_res=our_res)\n",
    "        \n",
    "our_res_df = pd.DataFrame(our_res);"
   ]
  },
  {
   "cell_type": "code",
   "execution_count": 18,
   "id": "84401030-56f7-4e9e-a7e9-fd1371324a23",
   "metadata": {
    "execution": {
     "iopub.execute_input": "2024-02-09T22:13:47.922006Z",
     "iopub.status.busy": "2024-02-09T22:13:47.921410Z",
     "iopub.status.idle": "2024-02-09T22:13:48.163011Z",
     "shell.execute_reply": "2024-02-09T22:13:48.161897Z",
     "shell.execute_reply.started": "2024-02-09T22:13:47.921961Z"
    },
    "tags": []
   },
   "outputs": [],
   "source": [
    "# results of CQR and CF\n",
    "def _add_ores(res, key, dict_res):\n",
    "    if key not in res.keys():\n",
    "        return None\n",
    "    dict_res[\"Len\"].append(res[key][-1])\n",
    "    dict_res[\"ITE\"].append(res[key][0])\n",
    "    dict_res[\"method\"].append(key)\n",
    "    dict_res[\"rep\"].append(_get_rep(ofil))\n",
    "_get_rep = lambda p: int(p.stem.split(\"_\")[1])\n",
    "ofils = list(res_dir.glob(\"*other*.pkl\"));\n",
    "other_res = ddict(list);\n",
    "for ofil in ofils:\n",
    "    res = load_pkl(ofil, verbose=False);\n",
    "    _add_ores(res, key=\"CQR\", dict_res=other_res)\n",
    "    _add_ores(res, key=\"CQR1\", dict_res=other_res)\n",
    "    _add_ores(res, key=\"CQR2\", dict_res=other_res)\n",
    "    _add_ores(res, key=\"CQR2c\", dict_res=other_res)\n",
    "other_res_df = pd.DataFrame(other_res);"
   ]
  },
  {
   "cell_type": "code",
   "execution_count": 19,
   "id": "cdb8d629-0a31-4f51-8fb1-882ff44046fe",
   "metadata": {
    "execution": {
     "iopub.execute_input": "2024-02-09T22:13:48.642394Z",
     "iopub.status.busy": "2024-02-09T22:13:48.641844Z",
     "iopub.status.idle": "2024-02-09T22:13:48.689364Z",
     "shell.execute_reply": "2024-02-09T22:13:48.688744Z",
     "shell.execute_reply.started": "2024-02-09T22:13:48.642327Z"
    },
    "tags": []
   },
   "outputs": [
    {
     "data": {
      "text/html": [
       "<div>\n",
       "<style scoped>\n",
       "    .dataframe tbody tr th:only-of-type {\n",
       "        vertical-align: middle;\n",
       "    }\n",
       "\n",
       "    .dataframe tbody tr th {\n",
       "        vertical-align: top;\n",
       "    }\n",
       "\n",
       "    .dataframe thead tr th {\n",
       "        text-align: left;\n",
       "    }\n",
       "\n",
       "    .dataframe thead tr:last-of-type th {\n",
       "        text-align: right;\n",
       "    }\n",
       "</style>\n",
       "<table border=\"1\" class=\"dataframe\">\n",
       "  <thead>\n",
       "    <tr>\n",
       "      <th></th>\n",
       "      <th></th>\n",
       "      <th></th>\n",
       "      <th></th>\n",
       "      <th></th>\n",
       "      <th></th>\n",
       "      <th>ITE</th>\n",
       "    </tr>\n",
       "    <tr>\n",
       "      <th></th>\n",
       "      <th></th>\n",
       "      <th></th>\n",
       "      <th></th>\n",
       "      <th></th>\n",
       "      <th></th>\n",
       "      <th>count</th>\n",
       "    </tr>\n",
       "    <tr>\n",
       "      <th>n_T</th>\n",
       "      <th>lr</th>\n",
       "      <th>n_infeat</th>\n",
       "      <th>upblk</th>\n",
       "      <th>downblk</th>\n",
       "      <th>weight_decay</th>\n",
       "      <th></th>\n",
       "    </tr>\n",
       "  </thead>\n",
       "  <tbody>\n",
       "    <tr>\n",
       "      <th rowspan=\"3\" valign=\"top\">400.000</th>\n",
       "      <th rowspan=\"3\" valign=\"top\">0.010</th>\n",
       "      <th rowspan=\"2\" valign=\"top\">128.000</th>\n",
       "      <th>1.000</th>\n",
       "      <th>1.000</th>\n",
       "      <th>0.010</th>\n",
       "      <td>50</td>\n",
       "    </tr>\n",
       "    <tr>\n",
       "      <th>3.000</th>\n",
       "      <th>3.000</th>\n",
       "      <th>0.010</th>\n",
       "      <td>50</td>\n",
       "    </tr>\n",
       "    <tr>\n",
       "      <th>256.000</th>\n",
       "      <th>1.000</th>\n",
       "      <th>1.000</th>\n",
       "      <th>0.010</th>\n",
       "      <td>50</td>\n",
       "    </tr>\n",
       "  </tbody>\n",
       "</table>\n",
       "</div>"
      ],
      "text/plain": [
       "                                                    ITE\n",
       "                                                  count\n",
       "n_T     lr    n_infeat upblk downblk weight_decay      \n",
       "400.000 0.010 128.000  1.000 1.000   0.010           50\n",
       "                       3.000 3.000   0.010           50\n",
       "              256.000  1.000 1.000   0.010           50"
      ]
     },
     "execution_count": 19,
     "metadata": {},
     "output_type": "execute_result"
    }
   ],
   "source": [
    "# check all hyper-param combos\n",
    "grp_var = [\"n_T\", \"lr\", \"n_infeat\", \"upblk\",  \"downblk\", \"weight_decay\"]\n",
    "our_res_df[our_res_df[\"method\"] == \"DDIM\"].groupby(grp_var)[[\"ITE\"]].agg([\"count\"])"
   ]
  },
  {
   "cell_type": "code",
   "execution_count": null,
   "id": "e6372865-d446-4ef5-b2ad-44436598d75a",
   "metadata": {},
   "outputs": [],
   "source": []
  },
  {
   "cell_type": "markdown",
   "id": "73cac2ca-b9cd-4465-b3ea-91316bcf84c9",
   "metadata": {},
   "source": [
    "# Select com for each rep"
   ]
  },
  {
   "cell_type": "code",
   "execution_count": 20,
   "id": "492f54bf-51d8-4096-af52-d887d43f09d9",
   "metadata": {
    "execution": {
     "iopub.execute_input": "2024-02-09T22:13:49.990745Z",
     "iopub.status.busy": "2024-02-09T22:13:49.990051Z",
     "iopub.status.idle": "2024-02-09T22:13:50.031546Z",
     "shell.execute_reply": "2024-02-09T22:13:50.030876Z",
     "shell.execute_reply.started": "2024-02-09T22:13:49.990695Z"
    },
    "tags": []
   },
   "outputs": [],
   "source": [
    "# get opt obs based on val set\n",
    "def _get_opt_obs_given_repix(rep_ix, all_res_df, method_key=\"DDIM\", return_key=\"DDIM\", cutoff=None):\n",
    "    cols = [\"method\", \"lr\", \"n_infeat\", \"n_T\", \"weight_decay\", \"upblk\", \"downblk\", \"rep\"]\n",
    "    kpidx = np.bitwise_and(all_res_df[\"rep\"] == rep_ix, all_res_df[\"method\"].map(lambda x: (\"val\" in x) and (method_key in x)));\n",
    "    if cutoff is not None:\n",
    "        kpidx = np.bitwise_and(kpidx, all_res_df[\"ITE\"]>cutoff)\n",
    "    if kpidx.sum() == 0:\n",
    "        kpidx = np.bitwise_and(all_res_df[\"rep\"] == rep_ix, all_res_df[\"method\"].map(lambda x: (\"val\" in x) and (method_key in x)))\n",
    "    \n",
    "    best_val = all_res_df[kpidx].sort_values(by=\"Len\").iloc[0]\n",
    "    mask = np.ones(all_res_df.shape[0], dtype=bool)\n",
    "    for col in cols:\n",
    "        if col.startswith(\"method\"):\n",
    "            #v = best_val[col]\n",
    "            #v = best_val[col].split(\"_val\")[0]\n",
    "            v = (return_key + best_val[col].split(method_key)[-1]).split(\"_val\")[0]\n",
    "            mask = np.bitwise_and(mask, all_res_df[col].isin([v]))\n",
    "            \n",
    "        else: \n",
    "            v = best_val[col]\n",
    "            mask = np.bitwise_and(mask, all_res_df[col] == v)\n",
    "    return all_res_df[mask]"
   ]
  },
  {
   "cell_type": "code",
   "execution_count": 26,
   "id": "37a9ed14-534b-4ebb-9f69-f0c26f7210ec",
   "metadata": {
    "execution": {
     "iopub.execute_input": "2024-02-09T22:14:40.630589Z",
     "iopub.status.busy": "2024-02-09T22:14:40.629949Z",
     "iopub.status.idle": "2024-02-09T22:14:42.211160Z",
     "shell.execute_reply": "2024-02-09T22:14:42.210210Z",
     "shell.execute_reply.started": "2024-02-09T22:14:40.630543Z"
    },
    "tags": []
   },
   "outputs": [],
   "source": [
    "our_res_df1 = our_res_df#[our_res_df['method'].map(lambda x: \"ep1000\" not in x)];\n",
    "best_res = []\n",
    "cutoff = 0.96\n",
    "for cur_rep in list(set(our_res_df1[\"rep\"])):\n",
    "    best_res.append(_get_opt_obs_given_repix(cur_rep, our_res_df1, \"DDIM\", \"DDIM\", cutoff))\n",
    "    best_res.append(_get_opt_obs_given_repix(cur_rep, our_res_df1, \"DDIM\", \"DDIM1\", cutoff))\n",
    "    best_res.append(_get_opt_obs_given_repix(cur_rep, our_res_df1, \"DDIM\", \"DDIM2\", cutoff))\n",
    "    best_res.append(_get_opt_obs_given_repix(cur_rep, our_res_df1, \"DDIM\", \"DDIM2c\", cutoff))\n",
    "    best_res.append(_get_opt_obs_given_repix(cur_rep, our_res_df1, \"LDDIM\", \"LDDIM\", cutoff))\n",
    "    best_res.append(_get_opt_obs_given_repix(cur_rep, our_res_df1, \"LDDIM\", \"LDDIM1\", cutoff))\n",
    "    best_res.append(_get_opt_obs_given_repix(cur_rep, our_res_df1, \"LDDIM\", \"LDDIM2\", cutoff))\n",
    "    best_res.append(_get_opt_obs_given_repix(cur_rep, our_res_df1, \"LDDIM\", \"LDDIM2c\", cutoff))\n",
    "    \n",
    "best_res = pd.concat(best_res);\n",
    "best_res1 = best_res.copy();\n",
    "best_res[\"method\"] = best_res[\"method\"].map(lambda x: x.split(\"_\")[0])\n",
    "best_res = best_res[[\"Len\", \"ITE\", \"method\", \"rep\"]];"
   ]
  },
  {
   "cell_type": "code",
   "execution_count": 27,
   "id": "b86fb600-6d45-4a3d-a465-63aac8c26818",
   "metadata": {
    "execution": {
     "iopub.execute_input": "2024-02-09T22:14:42.999290Z",
     "iopub.status.busy": "2024-02-09T22:14:42.998690Z",
     "iopub.status.idle": "2024-02-09T22:14:43.046084Z",
     "shell.execute_reply": "2024-02-09T22:14:43.045466Z",
     "shell.execute_reply.started": "2024-02-09T22:14:42.999243Z"
    },
    "tags": []
   },
   "outputs": [
    {
     "data": {
      "text/html": [
       "<div>\n",
       "<style scoped>\n",
       "    .dataframe tbody tr th:only-of-type {\n",
       "        vertical-align: middle;\n",
       "    }\n",
       "\n",
       "    .dataframe tbody tr th {\n",
       "        vertical-align: top;\n",
       "    }\n",
       "\n",
       "    .dataframe thead tr th {\n",
       "        text-align: left;\n",
       "    }\n",
       "\n",
       "    .dataframe thead tr:last-of-type th {\n",
       "        text-align: right;\n",
       "    }\n",
       "</style>\n",
       "<table border=\"1\" class=\"dataframe\">\n",
       "  <thead>\n",
       "    <tr>\n",
       "      <th></th>\n",
       "      <th colspan=\"4\" halign=\"left\">Len</th>\n",
       "      <th colspan=\"4\" halign=\"left\">ITE</th>\n",
       "    </tr>\n",
       "    <tr>\n",
       "      <th></th>\n",
       "      <th>mean</th>\n",
       "      <th>median</th>\n",
       "      <th>std</th>\n",
       "      <th>count</th>\n",
       "      <th>mean</th>\n",
       "      <th>median</th>\n",
       "      <th>std</th>\n",
       "      <th>count</th>\n",
       "    </tr>\n",
       "    <tr>\n",
       "      <th>method</th>\n",
       "      <th></th>\n",
       "      <th></th>\n",
       "      <th></th>\n",
       "      <th></th>\n",
       "      <th></th>\n",
       "      <th></th>\n",
       "      <th></th>\n",
       "      <th></th>\n",
       "    </tr>\n",
       "  </thead>\n",
       "  <tbody>\n",
       "    <tr>\n",
       "      <th>CQR</th>\n",
       "      <td>13.203</td>\n",
       "      <td>13.101</td>\n",
       "      <td>0.630</td>\n",
       "      <td>50</td>\n",
       "      <td>0.950</td>\n",
       "      <td>0.950</td>\n",
       "      <td>0.016</td>\n",
       "      <td>50</td>\n",
       "    </tr>\n",
       "    <tr>\n",
       "      <th>CQR1</th>\n",
       "      <td>13.205</td>\n",
       "      <td>13.115</td>\n",
       "      <td>0.643</td>\n",
       "      <td>50</td>\n",
       "      <td>0.925</td>\n",
       "      <td>0.928</td>\n",
       "      <td>0.029</td>\n",
       "      <td>50</td>\n",
       "    </tr>\n",
       "    <tr>\n",
       "      <th>CQR2</th>\n",
       "      <td>13.201</td>\n",
       "      <td>13.095</td>\n",
       "      <td>0.629</td>\n",
       "      <td>50</td>\n",
       "      <td>0.924</td>\n",
       "      <td>0.924</td>\n",
       "      <td>0.023</td>\n",
       "      <td>50</td>\n",
       "    </tr>\n",
       "    <tr>\n",
       "      <th>CQR2c</th>\n",
       "      <td>13.205</td>\n",
       "      <td>13.128</td>\n",
       "      <td>0.632</td>\n",
       "      <td>50</td>\n",
       "      <td>0.976</td>\n",
       "      <td>0.978</td>\n",
       "      <td>0.012</td>\n",
       "      <td>50</td>\n",
       "    </tr>\n",
       "    <tr>\n",
       "      <th>DDIM</th>\n",
       "      <td>7.828</td>\n",
       "      <td>7.780</td>\n",
       "      <td>1.005</td>\n",
       "      <td>50</td>\n",
       "      <td>0.944</td>\n",
       "      <td>0.944</td>\n",
       "      <td>0.017</td>\n",
       "      <td>50</td>\n",
       "    </tr>\n",
       "    <tr>\n",
       "      <th>DDIM1</th>\n",
       "      <td>7.863</td>\n",
       "      <td>7.832</td>\n",
       "      <td>1.088</td>\n",
       "      <td>50</td>\n",
       "      <td>0.909</td>\n",
       "      <td>0.902</td>\n",
       "      <td>0.030</td>\n",
       "      <td>50</td>\n",
       "    </tr>\n",
       "    <tr>\n",
       "      <th>DDIM2</th>\n",
       "      <td>7.874</td>\n",
       "      <td>7.816</td>\n",
       "      <td>1.080</td>\n",
       "      <td>50</td>\n",
       "      <td>0.915</td>\n",
       "      <td>0.915</td>\n",
       "      <td>0.026</td>\n",
       "      <td>50</td>\n",
       "    </tr>\n",
       "    <tr>\n",
       "      <th>DDIM2c</th>\n",
       "      <td>7.800</td>\n",
       "      <td>7.779</td>\n",
       "      <td>0.953</td>\n",
       "      <td>50</td>\n",
       "      <td>0.974</td>\n",
       "      <td>0.974</td>\n",
       "      <td>0.012</td>\n",
       "      <td>50</td>\n",
       "    </tr>\n",
       "    <tr>\n",
       "      <th>LDDIM</th>\n",
       "      <td>8.182</td>\n",
       "      <td>8.116</td>\n",
       "      <td>1.025</td>\n",
       "      <td>50</td>\n",
       "      <td>0.951</td>\n",
       "      <td>0.950</td>\n",
       "      <td>0.015</td>\n",
       "      <td>50</td>\n",
       "    </tr>\n",
       "    <tr>\n",
       "      <th>LDDIM1</th>\n",
       "      <td>8.202</td>\n",
       "      <td>8.080</td>\n",
       "      <td>1.123</td>\n",
       "      <td>50</td>\n",
       "      <td>0.920</td>\n",
       "      <td>0.918</td>\n",
       "      <td>0.027</td>\n",
       "      <td>50</td>\n",
       "    </tr>\n",
       "    <tr>\n",
       "      <th>LDDIM2</th>\n",
       "      <td>8.222</td>\n",
       "      <td>8.120</td>\n",
       "      <td>1.099</td>\n",
       "      <td>50</td>\n",
       "      <td>0.924</td>\n",
       "      <td>0.927</td>\n",
       "      <td>0.022</td>\n",
       "      <td>50</td>\n",
       "    </tr>\n",
       "    <tr>\n",
       "      <th>LDDIM2c</th>\n",
       "      <td>8.152</td>\n",
       "      <td>8.089</td>\n",
       "      <td>0.971</td>\n",
       "      <td>50</td>\n",
       "      <td>0.978</td>\n",
       "      <td>0.979</td>\n",
       "      <td>0.010</td>\n",
       "      <td>50</td>\n",
       "    </tr>\n",
       "  </tbody>\n",
       "</table>\n",
       "</div>"
      ],
      "text/plain": [
       "           Len                      ITE                   \n",
       "          mean median   std count  mean median   std count\n",
       "method                                                    \n",
       "CQR     13.203 13.101 0.630    50 0.950  0.950 0.016    50\n",
       "CQR1    13.205 13.115 0.643    50 0.925  0.928 0.029    50\n",
       "CQR2    13.201 13.095 0.629    50 0.924  0.924 0.023    50\n",
       "CQR2c   13.205 13.128 0.632    50 0.976  0.978 0.012    50\n",
       "DDIM     7.828  7.780 1.005    50 0.944  0.944 0.017    50\n",
       "DDIM1    7.863  7.832 1.088    50 0.909  0.902 0.030    50\n",
       "DDIM2    7.874  7.816 1.080    50 0.915  0.915 0.026    50\n",
       "DDIM2c   7.800  7.779 0.953    50 0.974  0.974 0.012    50\n",
       "LDDIM    8.182  8.116 1.025    50 0.951  0.950 0.015    50\n",
       "LDDIM1   8.202  8.080 1.123    50 0.920  0.918 0.027    50\n",
       "LDDIM2   8.222  8.120 1.099    50 0.924  0.927 0.022    50\n",
       "LDDIM2c  8.152  8.089 0.971    50 0.978  0.979 0.010    50"
      ]
     },
     "execution_count": 27,
     "metadata": {},
     "output_type": "execute_result"
    }
   ],
   "source": [
    "# put the results together\n",
    "all_res_df = pd.concat([best_res, other_res_df])\n",
    "all_res_df.groupby([\"method\"])[[\"Len\", \"ITE\"]].agg([\"mean\", \"median\", \"std\", \"count\"])"
   ]
  },
  {
   "cell_type": "code",
   "execution_count": 28,
   "id": "010fa5c4-ff48-4edb-891b-704ef9e696f4",
   "metadata": {
    "execution": {
     "iopub.execute_input": "2024-02-09T22:14:44.903531Z",
     "iopub.status.busy": "2024-02-09T22:14:44.902832Z",
     "iopub.status.idle": "2024-02-09T22:14:44.945807Z",
     "shell.execute_reply": "2024-02-09T22:14:44.945167Z",
     "shell.execute_reply.started": "2024-02-09T22:14:44.903483Z"
    },
    "tags": []
   },
   "outputs": [],
   "source": [
    "def _tmp_fn(x):\n",
    "    if x.endswith(\"1\"):\n",
    "        return \"Dataset1\"\n",
    "    elif x.endswith(\"2\"):\n",
    "        return \"Dataset2\"\n",
    "    elif x.endswith(\"2c\"):\n",
    "        return \"Dataset2c\"\n",
    "    else:\n",
    "        return \"Whole data\"\n",
    "all_res_df[\"data\"] = all_res_df[\"method\"].map(_tmp_fn);\n",
    "all_res_df[\"method1\"] = all_res_df[\"method\"].map(lambda x: x.split(\"1\")[0].split(\"2\")[0])"
   ]
  },
  {
   "cell_type": "code",
   "execution_count": 29,
   "id": "e5ce8765-aa13-4a06-913e-40f3d7676afa",
   "metadata": {
    "execution": {
     "iopub.execute_input": "2024-02-09T22:14:45.355105Z",
     "iopub.status.busy": "2024-02-09T22:14:45.354559Z",
     "iopub.status.idle": "2024-02-09T22:14:45.567895Z",
     "shell.execute_reply": "2024-02-09T22:14:45.567453Z",
     "shell.execute_reply.started": "2024-02-09T22:14:45.355061Z"
    },
    "tags": []
   },
   "outputs": [
    {
     "data": {
      "text/plain": [
       "<matplotlib.legend.Legend at 0x7f45bb204a00>"
      ]
     },
     "execution_count": 29,
     "metadata": {},
     "output_type": "execute_result"
    },
    {
     "data": {
      "image/png": "[encoded data removed]",
      "text/plain": [
       "<Figure size 1000x500 with 1 Axes>"
      ]
     },
     "metadata": {
      "needs_background": "light"
     },
     "output_type": "display_data"
    }
   ],
   "source": [
    "method_order=[\"LDDIM\", \"DDIM\", \"CQR\"]\n",
    "sns.boxplot(data=all_res_df, y=\"ITE\", x=\"data\", hue=\"method1\", showfliers=False, hue_order=method_order, orient='v')\n",
    "plt.axhline(y=0.95, color=\"red\");\n",
    "plt.ylabel(\"\")\n",
    "plt.xlabel(\"ITE Prob\")\n",
    "for s_ix in range(3):\n",
    "    plt.axvline(x=s_ix+0.5, color=\"black\", ls=\"--\")\n",
    "plt.legend(loc=\"lower center\", bbox_to_anchor=(0.5, 1.0), ncol=3)"
   ]
  },
  {
   "cell_type": "code",
   "execution_count": 30,
   "id": "f6111a1a-e273-4a9f-a25c-f8048ca58f41",
   "metadata": {
    "execution": {
     "iopub.execute_input": "2024-02-09T22:14:46.525546Z",
     "iopub.status.busy": "2024-02-09T22:14:46.524865Z",
     "iopub.status.idle": "2024-02-09T22:14:46.730145Z",
     "shell.execute_reply": "2024-02-09T22:14:46.729711Z",
     "shell.execute_reply.started": "2024-02-09T22:14:46.525497Z"
    },
    "tags": []
   },
   "outputs": [
    {
     "data": {
      "text/plain": [
       "<matplotlib.legend.Legend at 0x7f45bb1782e0>"
      ]
     },
     "execution_count": 30,
     "metadata": {},
     "output_type": "execute_result"
    },
    {
     "data": {
      "image/png": "[encoded data removed]",
      "text/plain": [
       "<Figure size 1000x500 with 1 Axes>"
      ]
     },
     "metadata": {
      "needs_background": "light"
     },
     "output_type": "display_data"
    }
   ],
   "source": [
    "method_order=[\"LDDIM\", \"DDIM\", \"CQR\"]\n",
    "sns.boxplot(data=all_res_df, y=\"Len\", x=\"data\", hue=\"method1\", showfliers=False, hue_order=method_order, orient='v')\n",
    "plt.ylabel(\"\")\n",
    "plt.xlabel(\"Len of CI\");\n",
    "for s_ix in range(3):\n",
    "    plt.axvline(x=s_ix+0.5, color=\"black\", ls=\"--\")\n",
    "plt.legend(loc=\"lower center\", bbox_to_anchor=(0.5, 1.0), ncol=3)"
   ]
  },
  {
   "cell_type": "code",
   "execution_count": null,
   "id": "2a073e1f-8d06-46c4-94d3-882cf49f4688",
   "metadata": {},
   "outputs": [],
   "source": []
  }
 ],
 "metadata": {
  "kernelspec": {
   "display_name": "Python 3 (ipykernel)",
   "language": "python",
   "name": "python3"
  },
  "language_info": {
   "codemirror_mode": {
    "name": "ipython",
    "version": 3
   },
   "file_extension": ".py",
   "mimetype": "text/x-python",
   "name": "python",
   "nbconvert_exporter": "python",
   "pygments_lexer": "ipython3",
   "version": "3.9.7"
  },
  "toc-autonumbering": true
 },
 "nbformat": 4,
 "nbformat_minor": 5
}
