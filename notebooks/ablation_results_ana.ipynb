{
 "cells": [
  {
   "cell_type": "code",
   "execution_count": 1,
   "id": "7be37593-bf50-4fc1-b617-ff93ca3fb707",
   "metadata": {
    "execution": {
     "iopub.execute_input": "2023-12-27T05:58:47.127204Z",
     "iopub.status.busy": "2023-12-27T05:58:47.126421Z",
     "iopub.status.idle": "2023-12-27T05:58:47.143099Z",
     "shell.execute_reply": "2023-12-27T05:58:47.140967Z",
     "shell.execute_reply.started": "2023-12-27T05:58:47.127158Z"
    },
    "tags": []
   },
   "outputs": [],
   "source": [
    "import sys\n",
    "sys.path.append(\"../mypkg\")"
   ]
  },
  {
   "cell_type": "code",
   "execution_count": 2,
   "id": "91ac97e6-00aa-46a1-85cb-5b2a3c41e0e0",
   "metadata": {
    "execution": {
     "iopub.execute_input": "2023-12-27T05:58:47.145688Z",
     "iopub.status.busy": "2023-12-27T05:58:47.145021Z",
     "iopub.status.idle": "2023-12-27T05:58:47.970415Z",
     "shell.execute_reply": "2023-12-27T05:58:47.969358Z",
     "shell.execute_reply.started": "2023-12-27T05:58:47.145654Z"
    },
    "tags": []
   },
   "outputs": [],
   "source": [
    "from constants import RES_ROOT, FIG_ROOT, DATA_ROOT\n",
    "from utils.misc import load_pkl, save_pkl, merge_intervals\n",
    "from utils.colors import qual_cmap\n",
    "from utils.stats import weighted_quantile\n",
    "from data_gen import get_simu_data\n",
    "from demo_settings import simu_settings"
   ]
  },
  {
   "cell_type": "code",
   "execution_count": 3,
   "id": "f1775f04-ea35-40dc-90e8-61a284a9daf2",
   "metadata": {
    "execution": {
     "iopub.execute_input": "2023-12-27T05:58:47.972968Z",
     "iopub.status.busy": "2023-12-27T05:58:47.972486Z",
     "iopub.status.idle": "2023-12-27T05:58:47.998423Z",
     "shell.execute_reply": "2023-12-27T05:58:47.997566Z",
     "shell.execute_reply.started": "2023-12-27T05:58:47.972933Z"
    },
    "tags": []
   },
   "outputs": [],
   "source": [
    "%load_ext autoreload\n",
    "%autoreload 2\n",
    "# 0,1, 2, 3, be careful about the space"
   ]
  },
  {
   "cell_type": "code",
   "execution_count": 4,
   "id": "90d1fe06-f921-466f-a1c5-32f8f1e438f3",
   "metadata": {
    "execution": {
     "iopub.execute_input": "2023-12-27T05:58:47.999617Z",
     "iopub.status.busy": "2023-12-27T05:58:47.999250Z",
     "iopub.status.idle": "2023-12-27T05:58:49.484939Z",
     "shell.execute_reply": "2023-12-27T05:58:49.484357Z",
     "shell.execute_reply.started": "2023-12-27T05:58:47.999592Z"
    },
    "tags": []
   },
   "outputs": [],
   "source": [
    "import torch\n",
    "import scipy.stats as ss\n",
    "import numpy as np\n",
    "from easydict import EasyDict as edict\n",
    "import matplotlib.pyplot as plt\n",
    "import seaborn as sns\n",
    "from collections import defaultdict as ddict\n",
    "from tqdm import tqdm, trange\n",
    "import random\n",
    "from joblib import Parallel, delayed\n",
    "import pandas as pd\n",
    "from pprint import pprint\n",
    "plt.style.use(FIG_ROOT/\"base.mplstyle\")"
   ]
  },
  {
   "cell_type": "code",
   "execution_count": null,
   "id": "e79682dc-16fa-4f9e-95e8-29db9892a33c",
   "metadata": {
    "tags": []
   },
   "outputs": [],
   "source": []
  },
  {
   "cell_type": "code",
   "execution_count": 24,
   "id": "ada9ae7b-954d-461a-bcce-02c928261ac2",
   "metadata": {
    "execution": {
     "iopub.execute_input": "2023-12-27T18:07:06.235983Z",
     "iopub.status.busy": "2023-12-27T18:07:06.235340Z",
     "iopub.status.idle": "2023-12-27T18:07:12.421265Z",
     "shell.execute_reply": "2023-12-27T18:07:12.419922Z",
     "shell.execute_reply.started": "2023-12-27T18:07:06.235934Z"
    },
    "tags": []
   },
   "outputs": [],
   "source": [
    "from collections import defaultdict as ddict\n",
    "def fil_name2paras(fil_name):\n",
    "    \"\"\"plz be careful about 0.1 and 1\n",
    "    \"\"\"\n",
    "    tmp = fil_name.split(\"_\")\n",
    "    paras = {}\n",
    "    for itm in tmp:\n",
    "        if '--' in itm:\n",
    "            k, v = itm.split(\"--\")\n",
    "            v = f\"0.{v}\"\n",
    "        elif '-' in itm:\n",
    "            k, v = itm.split(\"-\")\n",
    "            # to be compatible with old simu\n",
    "            if v.startswith(\"0\"):\n",
    "                v = f\"0.{v}\"\n",
    "        else:\n",
    "            continue\n",
    "        \n",
    "        if k.startswith(\"T\"):\n",
    "            k = \"n_T\"\n",
    "        elif k.startswith(\"decay\"):\n",
    "            k = \"weight_decay\"\n",
    "        elif k.startswith(\"infeat\"):\n",
    "            k = \"n_infeat\"\n",
    "        paras[k] = float(v)\n",
    "    paras[\"rep\"] = int(tmp[1])\n",
    "    return paras\n",
    "\n",
    "def _add_res(res, key):\n",
    "    all_res[\"Len\"].append(res[key][-1])\n",
    "    all_res[\"ITE\"].append(res[key][0][0])\n",
    "    all_res[\"CATE\"].append(res[key][0][1])\n",
    "    all_res[\"method\"].append(key)\n",
    "    for ky, v in cur_paras.items():\n",
    "        all_res[ky].append(v)\n",
    "\n",
    "res_dir = RES_ROOT/\"demodp0_ablation_setting3_d10_n3000/\"\n",
    "all_fils = list(res_dir.glob(\"*n_T-*.pkl\"));\n",
    "all_res = ddict(list)\n",
    "for fil in all_fils:\n",
    "    cur_paras = fil_name2paras(fil.stem);\n",
    "    res = load_pkl(fil, verbose=False);\n",
    "    \n",
    "    _add_res(res, key=\"DDPM\")\n",
    "    _add_res(res, key=\"DDPM_sel\")\n",
    "    _add_res(res, key=\"CQR\")\n",
    "all_res_df = pd.DataFrame(all_res);\n",
    "\n",
    "res_dir = RES_ROOT/\"demodp0new_ablation_setting3_d10_n3000/\"\n",
    "all_fils = list(res_dir.glob(\"*n_T-*.pkl\"));\n",
    "all_res = ddict(list)\n",
    "for fil in all_fils:\n",
    "    cur_paras = fil_name2paras(fil.stem);\n",
    "    res = load_pkl(fil, verbose=False);\n",
    "    \n",
    "    _add_res(res, key=\"DDPM\")\n",
    "    _add_res(res, key=\"DDPM_sel\")\n",
    "    _add_res(res, key=\"CQR\")\n",
    "all_res_df1 = pd.DataFrame(all_res);\n",
    "#all_res_df[\"drop_prob\"] = 0\n",
    "all_res_df = pd.concat([all_res_df1, all_res_df]);"
   ]
  },
  {
   "cell_type": "code",
   "execution_count": 13,
   "id": "28d04b43-2787-4fdd-9c84-37e1872bdcf6",
   "metadata": {
    "execution": {
     "iopub.execute_input": "2023-12-27T17:57:55.599170Z",
     "iopub.status.busy": "2023-12-27T17:57:55.598545Z",
     "iopub.status.idle": "2023-12-27T17:57:55.666258Z",
     "shell.execute_reply": "2023-12-27T17:57:55.665738Z",
     "shell.execute_reply.started": "2023-12-27T17:57:55.599126Z"
    },
    "tags": []
   },
   "outputs": [],
   "source": [
    "res_df = all_res_df.groupby([\"n_infeat\", \"upblk\", \n",
    "                             \"downblk\", \"weight_decay\", \n",
    "                             \"lr\", \"n_T\",   \"method\"])[[\"Len\", \"ITE\"]].agg([\"mean\", \"median\", \"std\", \"count\"])\n",
    "#res_df.to_html(\"all_res.html\");\n",
    "#res_df"
   ]
  },
  {
   "cell_type": "code",
   "execution_count": 28,
   "id": "bf083ef3-f27b-47dc-95d6-53dc142f52bd",
   "metadata": {
    "execution": {
     "iopub.execute_input": "2023-12-27T18:08:43.867135Z",
     "iopub.status.busy": "2023-12-27T18:08:43.866345Z",
     "iopub.status.idle": "2023-12-27T18:08:43.917656Z",
     "shell.execute_reply": "2023-12-27T18:08:43.917035Z",
     "shell.execute_reply.started": "2023-12-27T18:08:43.867088Z"
    },
    "tags": []
   },
   "outputs": [
    {
     "data": {
      "text/html": [
       "<div>\n",
       "<style scoped>\n",
       "    .dataframe tbody tr th:only-of-type {\n",
       "        vertical-align: middle;\n",
       "    }\n",
       "\n",
       "    .dataframe tbody tr th {\n",
       "        vertical-align: top;\n",
       "    }\n",
       "\n",
       "    .dataframe thead tr th {\n",
       "        text-align: left;\n",
       "    }\n",
       "\n",
       "    .dataframe thead tr:last-of-type th {\n",
       "        text-align: right;\n",
       "    }\n",
       "</style>\n",
       "<table border=\"1\" class=\"dataframe\">\n",
       "  <thead>\n",
       "    <tr>\n",
       "      <th></th>\n",
       "      <th></th>\n",
       "      <th colspan=\"4\" halign=\"left\">Len</th>\n",
       "      <th colspan=\"4\" halign=\"left\">ITE</th>\n",
       "    </tr>\n",
       "    <tr>\n",
       "      <th></th>\n",
       "      <th></th>\n",
       "      <th>mean</th>\n",
       "      <th>median</th>\n",
       "      <th>std</th>\n",
       "      <th>count</th>\n",
       "      <th>mean</th>\n",
       "      <th>median</th>\n",
       "      <th>std</th>\n",
       "      <th>count</th>\n",
       "    </tr>\n",
       "    <tr>\n",
       "      <th>n_T</th>\n",
       "      <th>method</th>\n",
       "      <th></th>\n",
       "      <th></th>\n",
       "      <th></th>\n",
       "      <th></th>\n",
       "      <th></th>\n",
       "      <th></th>\n",
       "      <th></th>\n",
       "      <th></th>\n",
       "    </tr>\n",
       "  </thead>\n",
       "  <tbody>\n",
       "    <tr>\n",
       "      <th rowspan=\"3\" valign=\"top\">100.0</th>\n",
       "      <th>CQR</th>\n",
       "      <td>4.189088</td>\n",
       "      <td>4.194457</td>\n",
       "      <td>0.218936</td>\n",
       "      <td>543</td>\n",
       "      <td>0.949396</td>\n",
       "      <td>0.950</td>\n",
       "      <td>0.013789</td>\n",
       "      <td>543</td>\n",
       "    </tr>\n",
       "    <tr>\n",
       "      <th>DDPM</th>\n",
       "      <td>5.493471</td>\n",
       "      <td>5.196494</td>\n",
       "      <td>1.198700</td>\n",
       "      <td>543</td>\n",
       "      <td>0.935260</td>\n",
       "      <td>0.936</td>\n",
       "      <td>0.016613</td>\n",
       "      <td>543</td>\n",
       "    </tr>\n",
       "    <tr>\n",
       "      <th>DDPM_sel</th>\n",
       "      <td>5.153713</td>\n",
       "      <td>4.872710</td>\n",
       "      <td>1.354134</td>\n",
       "      <td>543</td>\n",
       "      <td>0.937667</td>\n",
       "      <td>0.938</td>\n",
       "      <td>0.014885</td>\n",
       "      <td>543</td>\n",
       "    </tr>\n",
       "    <tr>\n",
       "      <th rowspan=\"3\" valign=\"top\">400.0</th>\n",
       "      <th>CQR</th>\n",
       "      <td>4.191281</td>\n",
       "      <td>4.194457</td>\n",
       "      <td>0.219963</td>\n",
       "      <td>560</td>\n",
       "      <td>0.949539</td>\n",
       "      <td>0.950</td>\n",
       "      <td>0.013668</td>\n",
       "      <td>560</td>\n",
       "    </tr>\n",
       "    <tr>\n",
       "      <th>DDPM</th>\n",
       "      <td>7.874605</td>\n",
       "      <td>6.088382</td>\n",
       "      <td>5.846223</td>\n",
       "      <td>560</td>\n",
       "      <td>0.935198</td>\n",
       "      <td>0.936</td>\n",
       "      <td>0.017924</td>\n",
       "      <td>560</td>\n",
       "    </tr>\n",
       "    <tr>\n",
       "      <th>DDPM_sel</th>\n",
       "      <td>6.461067</td>\n",
       "      <td>5.169323</td>\n",
       "      <td>4.210303</td>\n",
       "      <td>560</td>\n",
       "      <td>0.939375</td>\n",
       "      <td>0.941</td>\n",
       "      <td>0.016540</td>\n",
       "      <td>560</td>\n",
       "    </tr>\n",
       "  </tbody>\n",
       "</table>\n",
       "</div>"
      ],
      "text/plain": [
       "                     Len                                 ITE                   \\\n",
       "                    mean    median       std count      mean median       std   \n",
       "n_T   method                                                                    \n",
       "100.0 CQR       4.189088  4.194457  0.218936   543  0.949396  0.950  0.013789   \n",
       "      DDPM      5.493471  5.196494  1.198700   543  0.935260  0.936  0.016613   \n",
       "      DDPM_sel  5.153713  4.872710  1.354134   543  0.937667  0.938  0.014885   \n",
       "400.0 CQR       4.191281  4.194457  0.219963   560  0.949539  0.950  0.013668   \n",
       "      DDPM      7.874605  6.088382  5.846223   560  0.935198  0.936  0.017924   \n",
       "      DDPM_sel  6.461067  5.169323  4.210303   560  0.939375  0.941  0.016540   \n",
       "\n",
       "                      \n",
       "               count  \n",
       "n_T   method          \n",
       "100.0 CQR        543  \n",
       "      DDPM       543  \n",
       "      DDPM_sel   543  \n",
       "400.0 CQR        560  \n",
       "      DDPM       560  \n",
       "      DDPM_sel   560  "
      ]
     },
     "execution_count": 28,
     "metadata": {},
     "output_type": "execute_result"
    }
   ],
   "source": [
    "res_df = all_res_df.groupby([\"n_T\", \"method\"])[[\"Len\", \"ITE\"]].agg([\"mean\", \"median\", \"std\", \"count\"])\n",
    "res_df"
   ]
  },
  {
   "cell_type": "markdown",
   "id": "713b838f-6b77-4853-853c-9eb2becc2b1e",
   "metadata": {
    "execution": {
     "iopub.execute_input": "2023-12-20T20:28:12.653747Z",
     "iopub.status.busy": "2023-12-20T20:28:12.653113Z",
     "iopub.status.idle": "2023-12-20T20:28:12.745113Z",
     "shell.execute_reply": "2023-12-20T20:28:12.744045Z",
     "shell.execute_reply.started": "2023-12-20T20:28:12.653701Z"
    }
   },
   "source": [
    "# Get result under best combone"
   ]
  },
  {
   "cell_type": "code",
   "execution_count": 26,
   "id": "80ca8316-6244-4a13-8614-4ef6aaebed32",
   "metadata": {
    "execution": {
     "iopub.execute_input": "2023-12-27T05:51:59.020111Z",
     "iopub.status.busy": "2023-12-27T05:51:59.019552Z",
     "iopub.status.idle": "2023-12-27T05:51:59.060630Z",
     "shell.execute_reply": "2023-12-27T05:51:59.059485Z",
     "shell.execute_reply.started": "2023-12-27T05:51:59.020066Z"
    },
    "tags": []
   },
   "outputs": [],
   "source": [
    "def get_res_at_com(all_res_df, com):\n",
    "    kpidx = np.ones(all_res_df.shape[0], dtype=bool)\n",
    "    for ky, v in com.items():\n",
    "        if ky == \"method\":\n",
    "            continue\n",
    "        kpidx = np.bitwise_and(kpidx,all_res_df[ky] == v)\n",
    "    return all_res_df[kpidx]"
   ]
  },
  {
   "cell_type": "code",
   "execution_count": 27,
   "id": "3d120a4d-aacc-4aaa-966f-b42fdd62048d",
   "metadata": {
    "execution": {
     "iopub.execute_input": "2023-12-27T05:52:00.691081Z",
     "iopub.status.busy": "2023-12-27T05:52:00.690438Z",
     "iopub.status.idle": "2023-12-27T05:52:00.726796Z",
     "shell.execute_reply": "2023-12-27T05:52:00.725941Z",
     "shell.execute_reply.started": "2023-12-27T05:52:00.691038Z"
    },
    "tags": []
   },
   "outputs": [],
   "source": [
    "best_com = dict()\n",
    "best_com[\"n_infeat\"] = 128\n",
    "best_com[\"upblk\"] = 3\n",
    "best_com[\"downblk\"] = 3\n",
    "best_com[\"weight_decay\"] = 0.01\n",
    "best_com[\"lr\"] = 0.01\n",
    "best_com[\"n_T\"] = 100\n",
    "best_com[\"method\"] = \"DDPM_sel\""
   ]
  },
  {
   "cell_type": "code",
   "execution_count": 22,
   "id": "08da695e-ec87-4dde-a03d-8c6323822f3d",
   "metadata": {
    "execution": {
     "iopub.execute_input": "2023-12-21T07:20:46.621627Z",
     "iopub.status.busy": "2023-12-21T07:20:46.621074Z",
     "iopub.status.idle": "2023-12-21T07:20:46.666359Z",
     "shell.execute_reply": "2023-12-21T07:20:46.665730Z",
     "shell.execute_reply.started": "2023-12-21T07:20:46.621583Z"
    },
    "tags": []
   },
   "outputs": [
    {
     "data": {
      "text/html": [
       "<div>\n",
       "<style scoped>\n",
       "    .dataframe tbody tr th:only-of-type {\n",
       "        vertical-align: middle;\n",
       "    }\n",
       "\n",
       "    .dataframe tbody tr th {\n",
       "        vertical-align: top;\n",
       "    }\n",
       "\n",
       "    .dataframe thead th {\n",
       "        text-align: right;\n",
       "    }\n",
       "</style>\n",
       "<table border=\"1\" class=\"dataframe\">\n",
       "  <thead>\n",
       "    <tr style=\"text-align: right;\">\n",
       "      <th></th>\n",
       "      <th>Len</th>\n",
       "      <th>ITE</th>\n",
       "      <th>CATE</th>\n",
       "      <th>method</th>\n",
       "      <th>lr</th>\n",
       "      <th>n_infeat</th>\n",
       "      <th>n_T</th>\n",
       "      <th>weight_decay</th>\n",
       "      <th>upblk</th>\n",
       "      <th>downblk</th>\n",
       "      <th>rep</th>\n",
       "    </tr>\n",
       "  </thead>\n",
       "  <tbody>\n",
       "    <tr>\n",
       "      <th>19</th>\n",
       "      <td>6.524714</td>\n",
       "      <td>0.923</td>\n",
       "      <td>0.998</td>\n",
       "      <td>DDPM_sel</td>\n",
       "      <td>0.01</td>\n",
       "      <td>128.0</td>\n",
       "      <td>100.0</td>\n",
       "      <td>0.01</td>\n",
       "      <td>3.0</td>\n",
       "      <td>3.0</td>\n",
       "      <td>32</td>\n",
       "    </tr>\n",
       "    <tr>\n",
       "      <th>20</th>\n",
       "      <td>5.465805</td>\n",
       "      <td>0.944</td>\n",
       "      <td>0.998</td>\n",
       "      <td>CQR</td>\n",
       "      <td>0.01</td>\n",
       "      <td>128.0</td>\n",
       "      <td>100.0</td>\n",
       "      <td>0.01</td>\n",
       "      <td>3.0</td>\n",
       "      <td>3.0</td>\n",
       "      <td>32</td>\n",
       "    </tr>\n",
       "    <tr>\n",
       "      <th>25</th>\n",
       "      <td>9.175587</td>\n",
       "      <td>0.957</td>\n",
       "      <td>0.981</td>\n",
       "      <td>DDPM_sel</td>\n",
       "      <td>0.01</td>\n",
       "      <td>128.0</td>\n",
       "      <td>100.0</td>\n",
       "      <td>0.01</td>\n",
       "      <td>3.0</td>\n",
       "      <td>3.0</td>\n",
       "      <td>0</td>\n",
       "    </tr>\n",
       "    <tr>\n",
       "      <th>26</th>\n",
       "      <td>5.459108</td>\n",
       "      <td>0.934</td>\n",
       "      <td>1.000</td>\n",
       "      <td>CQR</td>\n",
       "      <td>0.01</td>\n",
       "      <td>128.0</td>\n",
       "      <td>100.0</td>\n",
       "      <td>0.01</td>\n",
       "      <td>3.0</td>\n",
       "      <td>3.0</td>\n",
       "      <td>0</td>\n",
       "    </tr>\n",
       "    <tr>\n",
       "      <th>34</th>\n",
       "      <td>9.436742</td>\n",
       "      <td>0.958</td>\n",
       "      <td>0.980</td>\n",
       "      <td>DDPM_sel</td>\n",
       "      <td>0.01</td>\n",
       "      <td>128.0</td>\n",
       "      <td>100.0</td>\n",
       "      <td>0.01</td>\n",
       "      <td>3.0</td>\n",
       "      <td>3.0</td>\n",
       "      <td>38</td>\n",
       "    </tr>\n",
       "  </tbody>\n",
       "</table>\n",
       "</div>"
      ],
      "text/plain": [
       "         Len    ITE   CATE    method    lr  n_infeat    n_T  weight_decay  \\\n",
       "19  6.524714  0.923  0.998  DDPM_sel  0.01     128.0  100.0          0.01   \n",
       "20  5.465805  0.944  0.998       CQR  0.01     128.0  100.0          0.01   \n",
       "25  9.175587  0.957  0.981  DDPM_sel  0.01     128.0  100.0          0.01   \n",
       "26  5.459108  0.934  1.000       CQR  0.01     128.0  100.0          0.01   \n",
       "34  9.436742  0.958  0.980  DDPM_sel  0.01     128.0  100.0          0.01   \n",
       "\n",
       "    upblk  downblk  rep  \n",
       "19    3.0      3.0   32  \n",
       "20    3.0      3.0   32  \n",
       "25    3.0      3.0    0  \n",
       "26    3.0      3.0    0  \n",
       "34    3.0      3.0   38  "
      ]
     },
     "execution_count": 22,
     "metadata": {},
     "output_type": "execute_result"
    }
   ],
   "source": [
    "res_df = get_res_at_com(all_res_df, best_com);\n",
    "res_df = res_df[res_df[\"method\"].isin([\"CQR\", best_com['method']])]\n",
    "res_df.head()"
   ]
  },
  {
   "cell_type": "code",
   "execution_count": 23,
   "id": "bde7a5b4-8211-43bf-b651-3eb30b58d9fe",
   "metadata": {
    "execution": {
     "iopub.execute_input": "2023-12-21T07:20:48.249007Z",
     "iopub.status.busy": "2023-12-21T07:20:48.248417Z",
     "iopub.status.idle": "2023-12-21T07:20:48.424754Z",
     "shell.execute_reply": "2023-12-21T07:20:48.424313Z",
     "shell.execute_reply.started": "2023-12-21T07:20:48.248961Z"
    },
    "tags": []
   },
   "outputs": [
    {
     "data": {
      "image/png": "[encoded data removed]",
      "text/plain": [
       "<Figure size 1000x500 with 2 Axes>"
      ]
     },
     "metadata": {
      "needs_background": "light"
     },
     "output_type": "display_data"
    }
   ],
   "source": [
    "plt.suptitle(f\"My Setting 1 (d=10)\", fontsize=30)\n",
    "plt.subplot(121)\n",
    "sns.boxplot(data=res_df, y=\"ITE\", x=\"method\")\n",
    "plt.axhline(y=0.95, color=\"red\");\n",
    "plt.xlabel(\"\")\n",
    "plt.ylabel(\"ITE Prob\")\n",
    "plt.subplot(122)\n",
    "sns.boxplot(data=res_df, y=\"Len\", x=\"method\")\n",
    "plt.xlabel(\"\")\n",
    "plt.ylabel(\"Len of CI\");"
   ]
  },
  {
   "cell_type": "code",
   "execution_count": null,
   "id": "7cfcfead-8028-4ac1-82b4-b81d0368b0dd",
   "metadata": {},
   "outputs": [],
   "source": []
  }
 ],
 "metadata": {
  "kernelspec": {
   "display_name": "Python 3 (ipykernel)",
   "language": "python",
   "name": "python3"
  },
  "language_info": {
   "codemirror_mode": {
    "name": "ipython",
    "version": 3
   },
   "file_extension": ".py",
   "mimetype": "text/x-python",
   "name": "python",
   "nbconvert_exporter": "python",
   "pygments_lexer": "ipython3",
   "version": "3.9.7"
  }
 },
 "nbformat": 4,
 "nbformat_minor": 5
}
