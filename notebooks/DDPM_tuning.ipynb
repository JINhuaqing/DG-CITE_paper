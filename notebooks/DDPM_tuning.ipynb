{
 "cells": [
  {
   "cell_type": "code",
   "execution_count": 1,
   "id": "7be37593-bf50-4fc1-b617-ff93ca3fb707",
   "metadata": {
    "execution": {
     "iopub.execute_input": "2024-01-08T00:10:57.280541Z",
     "iopub.status.busy": "2024-01-08T00:10:57.279478Z",
     "iopub.status.idle": "2024-01-08T00:10:57.293343Z",
     "shell.execute_reply": "2024-01-08T00:10:57.292093Z",
     "shell.execute_reply.started": "2024-01-08T00:10:57.280497Z"
    },
    "tags": []
   },
   "outputs": [],
   "source": [
    "import sys\n",
    "sys.path.append(\"../mypkg\")"
   ]
  },
  {
   "cell_type": "code",
   "execution_count": 2,
   "id": "ad8d569b-0412-47de-a9bf-2bbbfde7e943",
   "metadata": {
    "execution": {
     "iopub.execute_input": "2024-01-08T00:10:57.295248Z",
     "iopub.status.busy": "2024-01-08T00:10:57.294798Z",
     "iopub.status.idle": "2024-01-08T00:11:00.020496Z",
     "shell.execute_reply": "2024-01-08T00:11:00.019094Z",
     "shell.execute_reply.started": "2024-01-08T00:10:57.295218Z"
    },
    "tags": []
   },
   "outputs": [],
   "source": [
    "from constants import RES_ROOT, FIG_ROOT, DATA_ROOT\n",
    "from utils.misc import load_pkl, save_pkl, merge_intervals\n",
    "from utils.colors import qual_cmap\n",
    "from utils.stats import weighted_quantile\n",
    "from data_gen_utils.data_gen_my import get_simu_data\n",
    "from utils.utils import MyDataSet, get_idx_sets\n",
    "from demo_settings import simu_settings\n",
    "from CQR import get_CQR_CIs, boosting_pred, boosting_logi\n",
    "from ddpm.train_ddpm_now import TrainDDPM\n",
    "from weighted_conformal_inference import WeightedConformalInference"
   ]
  },
  {
   "cell_type": "code",
   "execution_count": 3,
   "id": "f1775f04-ea35-40dc-90e8-61a284a9daf2",
   "metadata": {
    "execution": {
     "iopub.execute_input": "2024-01-08T00:11:00.024113Z",
     "iopub.status.busy": "2024-01-08T00:11:00.023419Z",
     "iopub.status.idle": "2024-01-08T00:11:00.058518Z",
     "shell.execute_reply": "2024-01-08T00:11:00.058089Z",
     "shell.execute_reply.started": "2024-01-08T00:11:00.024067Z"
    },
    "tags": []
   },
   "outputs": [],
   "source": [
    "%load_ext autoreload\n",
    "%autoreload 2\n",
    "# 0,1, 2, 3, be careful about the space"
   ]
  },
  {
   "cell_type": "code",
   "execution_count": 4,
   "id": "a42be2f3-7ab7-4f69-98eb-27ae79905c93",
   "metadata": {
    "execution": {
     "iopub.execute_input": "2024-01-08T00:11:00.059237Z",
     "iopub.status.busy": "2024-01-08T00:11:00.059091Z",
     "iopub.status.idle": "2024-01-08T00:11:00.370937Z",
     "shell.execute_reply": "2024-01-08T00:11:00.370428Z",
     "shell.execute_reply.started": "2024-01-08T00:11:00.059224Z"
    },
    "tags": []
   },
   "outputs": [],
   "source": [
    "import torch\n",
    "import scipy.stats as ss\n",
    "import numpy as np\n",
    "from easydict import EasyDict as edict\n",
    "import matplotlib.pyplot as plt\n",
    "import seaborn as sns\n",
    "from collections import defaultdict as ddict\n",
    "from tqdm import tqdm, trange\n",
    "import random\n",
    "from joblib import Parallel, delayed\n",
    "import pandas as pd\n",
    "from pprint import pprint\n",
    "from copy import deepcopy\n",
    "plt.style.use(FIG_ROOT/\"base.mplstyle\")"
   ]
  },
  {
   "cell_type": "markdown",
   "id": "5f1daada-ca8c-4a09-84f5-dfe6c045008d",
   "metadata": {},
   "source": [
    "# Params"
   ]
  },
  {
   "cell_type": "code",
   "execution_count": 5,
   "id": "68b00b94-5b21-4681-85e2-2206bb03ba73",
   "metadata": {
    "execution": {
     "iopub.execute_input": "2024-01-08T00:11:00.371720Z",
     "iopub.status.busy": "2024-01-08T00:11:00.371567Z",
     "iopub.status.idle": "2024-01-08T00:11:00.390281Z",
     "shell.execute_reply": "2024-01-08T00:11:00.389891Z",
     "shell.execute_reply.started": "2024-01-08T00:11:00.371707Z"
    },
    "tags": []
   },
   "outputs": [
    {
     "data": {
      "text/plain": [
       "'setting1'"
      ]
     },
     "execution_count": 5,
     "metadata": {},
     "output_type": "execute_result"
    }
   ],
   "source": [
    "setting = \"setting1\""
   ]
  },
  {
   "cell_type": "code",
   "execution_count": 84,
   "id": "6cc79339-0cfa-4d15-9220-129cd5209122",
   "metadata": {
    "execution": {
     "iopub.execute_input": "2024-01-08T00:37:44.821743Z",
     "iopub.status.busy": "2024-01-08T00:37:44.821104Z",
     "iopub.status.idle": "2024-01-08T00:37:44.953055Z",
     "shell.execute_reply": "2024-01-08T00:37:44.951739Z",
     "shell.execute_reply.started": "2024-01-08T00:37:44.821699Z"
    },
    "tags": []
   },
   "outputs": [
    {
     "name": "stdout",
     "output_type": "stream",
     "text": [
      "{'cal_ratio': 0.25,\n",
      " 'd': 10,\n",
      " 'err_type': 'norm',\n",
      " 'is_homo': True,\n",
      " 'n': 3000,\n",
      " 'ntest': 1000,\n",
      " 'rho': 0,\n",
      " 'val_ratio': 0.15}\n"
     ]
    }
   ],
   "source": [
    "params = edict()\n",
    "\n",
    "params.simu_setting = edict()\n",
    "params.simu_setting.rho = 0.9\n",
    "params.simu_setting.is_homo = False\n",
    "params.simu_setting.n = 3000\n",
    "params.simu_setting.d = 10\n",
    "params.simu_setting.ntest = 1000\n",
    "params.simu_setting.cal_ratio = 0.25 # for conformal inference\n",
    "params.simu_setting.val_ratio = 0.15 # for tuning network\n",
    "params.simu_setting.update(simu_settings[setting])\n",
    "params.simu_setting.n = 3000\n",
    "#params.simu_setting.d = 1000\n",
    "pprint(params.simu_setting)\n",
    "\n",
    "\n",
    "params.nrep = 50 # num of reptition for simulation\n",
    "params.K = 40 # num of sps drawn from q(Y(1)|X)\n",
    "params.save_snapshot = 100\n",
    "params.df_dtype = torch.float32\n",
    "params.device=\"cpu\"\n",
    "params.n_jobs = 20\n",
    "params.verbose = True\n",
    "params.inf_bs = 40 # the inference batch, fct x K\n",
    "\n",
    "params.ddpm_training = edict()\n",
    "# Batch size during training\n",
    "params.ddpm_training.batch_size = 256 \n",
    "# Number of training epochs\n",
    "params.ddpm_training.n_epoch = 3000\n",
    "params.ddpm_training.n_infeat = 128\n",
    "# Learning rate for optimizers\n",
    "params.ddpm_training.lr = 0.001\n",
    "params.ddpm_training.lr_gamma = 0.5\n",
    "params.ddpm_training.lr_step = 1000\n",
    "params.ddpm_training.test_intv = 5\n",
    "params.ddpm_training.n_T = 400 # 100\n",
    "params.ddpm_training.n_upblk = 1\n",
    "params.ddpm_training.n_downblk = 1\n",
    "params.ddpm_training.weight_decay = 1e-2\n",
    "params.ddpm_training.early_stop = False\n",
    "params.ddpm_training.early_stop_dict = {\"early_stop_len\":50, \"early_stop_eps\": 5e-4}\n",
    "#params.ddpm_training.betas = [0.001, 0.5]\n",
    "\n",
    "params.wconformal = edict()\n",
    "# remove too large and too small in ws/mean(ws)\n",
    "params.wconformal.nwthigh = 20\n",
    "params.wconformal.nwtlow = 0.05\n",
    "params.wconformal.useinf = False\n",
    "\n",
    "\n",
    "params.hypo_test = edict()\n",
    "params.hypo_test.alpha = 0.05 # sig level\n",
    "\n",
    "params.prefix = \"\"\n",
    "params.save_dir = f\"demo_ddpm_{setting}_test1\"\n",
    "if not (RES_ROOT/params.save_dir).exists():\n",
    "    (RES_ROOT/params.save_dir).mkdir()"
   ]
  },
  {
   "cell_type": "code",
   "execution_count": 85,
   "id": "8323bd12-8b5d-487a-8951-77e4c796e2d8",
   "metadata": {
    "execution": {
     "iopub.execute_input": "2024-01-08T00:37:45.230183Z",
     "iopub.status.busy": "2024-01-08T00:37:45.229658Z",
     "iopub.status.idle": "2024-01-08T00:37:45.265735Z",
     "shell.execute_reply": "2024-01-08T00:37:45.265088Z",
     "shell.execute_reply.started": "2024-01-08T00:37:45.230139Z"
    },
    "tags": []
   },
   "outputs": [],
   "source": [
    "torch.set_default_dtype(params.df_dtype)"
   ]
  },
  {
   "cell_type": "code",
   "execution_count": 86,
   "id": "deedcd4b-e58a-47c8-a493-af373e945cc7",
   "metadata": {
    "execution": {
     "iopub.execute_input": "2024-01-08T00:37:45.675741Z",
     "iopub.status.busy": "2024-01-08T00:37:45.675091Z",
     "iopub.status.idle": "2024-01-08T00:37:45.711581Z",
     "shell.execute_reply": "2024-01-08T00:37:45.710470Z",
     "shell.execute_reply.started": "2024-01-08T00:37:45.675695Z"
    },
    "tags": []
   },
   "outputs": [],
   "source": [
    "data_train = get_simu_data(n=params.simu_setting.n, \n",
    "                             d=params.simu_setting.d, \n",
    "                             is_homo=params.simu_setting.is_homo, \n",
    "                             rho=params.simu_setting.rho, \n",
    "                             err_type=\"norm\");"
   ]
  },
  {
   "cell_type": "code",
   "execution_count": 87,
   "id": "cbb7d327-4751-4707-b301-9fbbd58f7a0f",
   "metadata": {
    "execution": {
     "iopub.execute_input": "2024-01-08T00:37:46.507934Z",
     "iopub.status.busy": "2024-01-08T00:37:46.507431Z",
     "iopub.status.idle": "2024-01-08T00:37:46.544007Z",
     "shell.execute_reply": "2024-01-08T00:37:46.543331Z",
     "shell.execute_reply.started": "2024-01-08T00:37:46.507894Z"
    },
    "tags": []
   },
   "outputs": [],
   "source": [
    "keys = [\"lr\", \"n_infeat\", \"n_T\", \"weight_decay\", \"n_upblk\", \"n_downblk\"]\n",
    "def _get_name_postfix(keys):\n",
    "    lst = []\n",
    "    for key in keys:\n",
    "        if params.ddpm_training[key] >= 1:\n",
    "            lst.append(f\"{key}-{str(params.ddpm_training[key])}\")\n",
    "        else:\n",
    "            lst.append(f\"{key}--{str(params.ddpm_training[key]).split('.')[-1]}\")\n",
    "    return \"_\".join(lst)"
   ]
  },
  {
   "cell_type": "code",
   "execution_count": null,
   "id": "575dfd1a-a222-4972-9e57-d499f886584a",
   "metadata": {},
   "outputs": [],
   "source": []
  },
  {
   "cell_type": "markdown",
   "id": "b18c29d9-14e1-4e57-9a24-c09ba3605f4f",
   "metadata": {},
   "source": [
    "# Some fns"
   ]
  },
  {
   "cell_type": "code",
   "execution_count": 92,
   "id": "0fb3712d-bb4e-4325-8d36-e1a88379e383",
   "metadata": {
    "execution": {
     "iopub.execute_input": "2024-01-08T00:48:31.901651Z",
     "iopub.status.busy": "2024-01-08T00:48:31.900575Z",
     "iopub.status.idle": "2024-01-08T00:48:31.987829Z",
     "shell.execute_reply": "2024-01-08T00:48:31.987106Z",
     "shell.execute_reply.started": "2024-01-08T00:48:31.901542Z"
    },
    "scrolled": true,
    "tags": []
   },
   "outputs": [],
   "source": [
    "rep_ix = 0\n",
    "params = params\n",
    "lr = 0.01\n",
    "n_infeat = 128\n",
    "n_T = 100\n",
    "weight_decay = 0.01\n",
    "n_blk =1\n",
    "\n",
    "\n",
    "def _main_fn(rep_ix, params, lr, n_infeat, n_T, weight_decay, n_blk):\n",
    "    manualSeed = rep_ix\n",
    "    random.seed(manualSeed)\n",
    "    np.random.seed(manualSeed)\n",
    "    torch.manual_seed(manualSeed)\n",
    "    torch.use_deterministic_algorithms(True) # Needed for reproducible results\n",
    "    params = edict(deepcopy(params))\n",
    "    params.ddpm_training.n_upblk = n_blk\n",
    "    params.ddpm_training.n_downblk = n_blk\n",
    "    params.ddpm_training.weight_decay = weight_decay\n",
    "    params.ddpm_training.n_T = n_T\n",
    "    params.ddpm_training.lr = lr\n",
    "    params.ddpm_training.n_infeat = n_infeat\n",
    "    keys = [\"lr\", \"n_infeat\", \"n_T\", \"weight_decay\", \"n_upblk\", \"n_downblk\"]\n",
    "    post_fix = _get_name_postfix(keys)\n",
    "    \n",
    "    torch.set_default_dtype(params.df_dtype)\n",
    "    torch.set_default_device(params.device)\n",
    "    \n",
    "    fil_name = (RES_ROOT/params.save_dir)/f\"rep_{rep_ix}_{post_fix}_res.pkl\"\n",
    "        \n",
    "        \n",
    "    if True:\n",
    "    #if not fil_name.exists():\n",
    "        data_train = get_simu_data(n=params.simu_setting.n, \n",
    "                                   d=params.simu_setting.d, \n",
    "                                   is_homo=params.simu_setting.is_homo, \n",
    "                                   rho=params.simu_setting.rho, \n",
    "                                   err_type=params.simu_setting.err_type);\n",
    "        data_test = get_simu_data(n=params.simu_setting.ntest, \n",
    "                                   d=params.simu_setting.d, \n",
    "                                   is_homo=params.simu_setting.is_homo, \n",
    "                                   rho=params.simu_setting.rho,\n",
    "                                   err_type=params.simu_setting.err_type);\n",
    "        \n",
    "        \n",
    "        cal_idxs, val_idxs, tr_idxs = get_idx_sets(all_idxs=np.where(data_train.T)[0], \n",
    "                                                       ratios = [params.simu_setting.cal_ratio, params.simu_setting.val_ratio])\n",
    "                \n",
    "        # get psfun\n",
    "        psY = data_train.T.astype(int)\n",
    "        psX = data_train.X\n",
    "        fit_res = boosting_logi(psY, psX);\n",
    "        def psfun(X):\n",
    "            if isinstance(X, torch.Tensor):\n",
    "                X = X.cpu().numpy()\n",
    "            if X.ndim == 1:\n",
    "                X = X.reshape(1, -1)\n",
    "            est_ps = boosting_pred(X, fit_res)\n",
    "            return torch.tensor(est_ps, dtype=params.df_dtype).to(device=params.device)\n",
    "            \n",
    "        \n",
    "        cal_X = torch.tensor(data_train.X[cal_idxs], dtype=params.df_dtype)\n",
    "        cal_Y = torch.tensor(data_train.Y1[cal_idxs], dtype=params.df_dtype)\n",
    "        val_X = torch.tensor(data_train.X[val_idxs], dtype=params.df_dtype)\n",
    "        val_Y = torch.tensor(data_train.Y1[val_idxs], dtype=params.df_dtype)\n",
    "        test_X = torch.tensor(data_test.X, dtype=params.df_dtype)\n",
    "        test_Y = torch.tensor(data_test.Y1, dtype=params.df_dtype)\n",
    "            \n",
    "        # train q(Y(1)|X)\n",
    "        data_train_ddpm = MyDataSet(Y=data_train.Y[tr_idxs], X=data_train.X[tr_idxs])\n",
    "        data_val = edict()\n",
    "        data_val.c = val_X\n",
    "        data_val.x = val_Y\n",
    "        input_params = edict(deepcopy(params.ddpm_training))\n",
    "        input_params.pop(\"n_epoch\")\n",
    "        input_params.pop(\"early_stop\")\n",
    "        input_params.pop(\"early_stop_dict\")\n",
    "        myddpm = TrainDDPM(data_train_ddpm, save_dir=params.save_dir, verbose=params.verbose, prefix=f\"rep{rep_ix}_{post_fix}\", \n",
    "                           device=params.device,\n",
    "                           **input_params);\n",
    "        \n",
    "        \n",
    "        #myddpm.train(n_epoch=params.ddpm_training.n_epoch, \n",
    "        #                 data_val=data_val, save_snapshot=params.save_snapshot, \n",
    "        #                 early_stop=params.ddpm_training.early_stop, \n",
    "        #                 early_stop_dict=params.ddpm_training.early_stop_dict\n",
    "        #                 )\n",
    "        def _inner_fn(X, Y, ddpm, gen_type=\"ddpm\"):\n",
    "            wcf = WeightedConformalInference(cal_X, \n",
    "                                             cal_Y,\n",
    "                                             ddpm, ws_fn=psfun, verbose=2, \n",
    "                                             gen_type=gen_type,\n",
    "                                             seed=manualSeed,\n",
    "                                             n_jobs=params.n_jobs,\n",
    "                                             inf_bs=params.inf_bs,\n",
    "                                             device=params.device,\n",
    "                                             gen_params={\"ddim_eta\": 1},\n",
    "                                             wcf_params={\n",
    "                                                \"K\": params.K, # num of sps for each X\n",
    "                                                \"nwhigh\" : params.wconformal.nwthigh,\n",
    "                                                \"nwlow\" : params.wconformal.nwtlow,\n",
    "                                                \"useinf\": params.wconformal.useinf,\n",
    "                                             })\n",
    "            # get the len of CI based on intvs, there intvs is a list, each ele is another list contains CIs ele=[CI1, CI2]\n",
    "            _get_intvs_len = lambda intvs: np.array([sum([np.diff(iv) for iv in intv])[0] for intv in intvs]);\n",
    "            # get weather vaule in vs is in CI in intvs or not \n",
    "            def _get_inset(vs, intvs):\n",
    "                in_set = []\n",
    "                for v, intv in zip(vs, intvs):\n",
    "                    in_set.append(np.sum([np.bitwise_and(v>iv[0], v<iv[1]) for iv in intv]))\n",
    "                in_set = np.array(in_set)\n",
    "                return in_set\n",
    "            intvs = wcf(X, alpha=params.hypo_test.alpha)\n",
    "            prbs = np.mean(_get_inset(Y, intvs))\n",
    "            mlen = np.median(_get_intvs_len(intvs))\n",
    "            return prbs, mlen\n",
    "        \n",
    "            \n",
    "            \n",
    "        \n",
    "        # get the results\n",
    "        res_all = edict()\n",
    "        \n",
    "        # results under the final model\n",
    "        ddpm = myddpm.ddpm\n",
    "        ddpm.eval()\n",
    "        res_all.DDPM = _inner_fn(test_X, test_Y, ddpm)\n",
    "        res_all.DDIM = _inner_fn(test_X, test_Y, ddpm, gen_type=\"ddim\")\n",
    "        res_all.DDPM_val = _inner_fn(val_X, val_Y, ddpm)\n",
    "        res_all.DDIM_val = _inner_fn(val_X, val_Y, ddpm, gen_type=\"ddim\")\n",
    "            \n",
    "            \n",
    "        # results under the best model in terms of the error from val set\n",
    "        #ddpm = myddpm.get_opt_model()\n",
    "        #ddpm.eval()\n",
    "        #res_all.DDPM_sel = _inner_fn(test_X, test_Y, ddpm)\n",
    "        #res_all.DDIM_sel = _inner_fn(test_X, test_Y, ddpm, gen_type=\"ddim\")\n",
    "        #res_all.DDPM_sel_val = _inner_fn(val_X, val_Y, ddpm)\n",
    "        #res_all.DDIM_sel_val = _inner_fn(val_X, val_Y, ddpm, gen_type=\"ddim\")\n",
    "            \n",
    "            \n",
    "        # results from CQR\n",
    "        CQR_CIs = get_CQR_CIs(X=data_train.X, Y=data_train.Y, \n",
    "                              T=data_train.T, Xtest=data_test.X, \n",
    "                              nav=0, \n",
    "                              alpha=params.hypo_test.alpha, \n",
    "                              estimand=\"unconditional\",\n",
    "                              fyx_est=\"quantBoosting\", seed=manualSeed)\n",
    "        mlen_cqr = np.median(CQR_CIs[:, 1] -  CQR_CIs[:, 0])\n",
    "        prb_Y1_cqr = np.bitwise_and(data_test.Y1>CQR_CIs[:, 0], data_test.Y1<CQR_CIs[:, 1]).mean()\n",
    "        #prb_tau_cqr = np.bitwise_and(data_test.tau>CQR_CIs[:, 0], data_test.tau<CQR_CIs[:, 1]).mean()\n",
    "        \n",
    "        res_all.CQR = (prb_Y1_cqr, mlen_cqr)\n",
    "        save_pkl((RES_ROOT/params.save_dir)/f\"rep_{rep_ix}_{post_fix}_res.pkl\", res_all, is_force=True)\n",
    "        all_models = list(myddpm.save_dir.glob(f\"{myddpm.prefix}ddpm_epoch*.pth\"))\n",
    "        [m.unlink() for m in all_models]\n",
    "    else:\n",
    "        res_all = edict()\n",
    "        print(f\"As {fil_name} exists, we do not do anything\")\n",
    "    return res_all"
   ]
  },
  {
   "cell_type": "code",
   "execution_count": 93,
   "id": "9756a00e-a49d-4a30-b027-5cacdc8394a8",
   "metadata": {
    "execution": {
     "iopub.execute_input": "2024-01-08T00:48:32.453161Z",
     "iopub.status.busy": "2024-01-08T00:48:32.452185Z",
     "iopub.status.idle": "2024-01-08T00:49:01.471718Z",
     "shell.execute_reply": "2024-01-08T00:49:01.470836Z",
     "shell.execute_reply.started": "2024-01-08T00:48:32.453058Z"
    },
    "scrolled": true,
    "tags": []
   },
   "outputs": [
    {
     "name": "stderr",
     "output_type": "stream",
     "text": [
      "2024-01-07 16:48:32,567 - ddpm.train_ddpm_now - INFO - The results are saved at /data/rajlab1/user_data/jin/MyResearch/DG-CITE_paper/notebooks/../mypkg/../results/demo_ddpm_setting1_test1.\n",
      "2024-01-07 16:48:32,580 - ddpm.train_ddpm_now - INFO - The params is {'lr': 0.01, 'batch_size': 256, 'device': 'cpu', 'n_T': 100, 'n_infeat': 128, 'n_upblk': 1, 'n_downblk': 1, 'betas': [0.0001, 0.02], 'lr_gamma': 0.5, 'lr_step': 1000, 'test_intv': 5, 'weight_decay': 0.01}\n",
      "2024-01-07 16:48:32,582 - weighted_conformal_inference - WARNING - Check your input, ddim_eta is not used.\n",
      "2024-01-07 16:48:32,582 - weighted_conformal_inference - INFO - wcf params is {'K': 40, 'nwhigh': 20, 'nwlow': 0.05, 'useinf': False, 'cf_type': 'PCP'}\n",
      "2024-01-07 16:48:32,583 - weighted_conformal_inference - INFO - wcf params is {'gen_type': 'ddpm'}\n"
     ]
    },
    {
     "name": "stdout",
     "output_type": "stream",
     "text": [
      "The num of params is 0.30m. \n",
      "Adjusting learning rate of group 0 to 1.0000e-02.\n"
     ]
    },
    {
     "name": "stderr",
     "output_type": "stream",
     "text": [
      "100%|████████████████████████████████████████████████████████████████████████████| 8/8 [00:00<00:00, 2016.86it/s]\n",
      "100%|██████████████████████████████████████████████████████████████████████████| 25/25 [00:00<00:00, 3664.17it/s]\n",
      "2024-01-07 16:48:49,907 - weighted_conformal_inference - INFO - wcf params is {'K': 40, 'nwhigh': 20, 'nwlow': 0.05, 'useinf': False, 'cf_type': 'PCP'}\n",
      "2024-01-07 16:48:49,908 - weighted_conformal_inference - INFO - wcf params is {'ddim_timesteps': 50, 'ddim_eta': 1, 'gen_type': 'ddim'}\n",
      "100%|████████████████████████████████████████████████████████████████████████████| 8/8 [00:00<00:00, 5037.45it/s]\n",
      "100%|███████████████████████████████████████████████████████████████████████████| 25/25 [00:00<00:00, 564.13it/s]\n",
      "2024-01-07 16:48:54,416 - weighted_conformal_inference - WARNING - Check your input, ddim_eta is not used.\n",
      "2024-01-07 16:48:54,417 - weighted_conformal_inference - INFO - wcf params is {'K': 40, 'nwhigh': 20, 'nwlow': 0.05, 'useinf': False, 'cf_type': 'PCP'}\n",
      "2024-01-07 16:48:54,418 - weighted_conformal_inference - INFO - wcf params is {'gen_type': 'ddpm'}\n",
      "100%|████████████████████████████████████████████████████████████████████████████| 8/8 [00:00<00:00, 6015.50it/s]\n",
      "100%|████████████████████████████████████████████████████████████████████████████| 5/5 [00:00<00:00, 1535.48it/s]\n",
      "2024-01-07 16:48:58,804 - weighted_conformal_inference - INFO - wcf params is {'K': 40, 'nwhigh': 20, 'nwlow': 0.05, 'useinf': False, 'cf_type': 'PCP'}\n",
      "2024-01-07 16:48:58,805 - weighted_conformal_inference - INFO - wcf params is {'ddim_timesteps': 50, 'ddim_eta': 1, 'gen_type': 'ddim'}\n",
      "100%|████████████████████████████████████████████████████████████████████████████| 8/8 [00:00<00:00, 4827.98it/s]\n",
      "100%|████████████████████████████████████████████████████████████████████████████| 5/5 [00:00<00:00, 1558.06it/s]\n"
     ]
    },
    {
     "name": "stdout",
     "output_type": "stream",
     "text": [
      "Save to /data/rajlab1/user_data/jin/MyResearch/DG-CITE_paper/notebooks/../mypkg/../results/demo_ddpm_setting1_test1/rep_10_lr--001_n_infeat-128_n_T-400_weight_decay--01_n_upblk-1_n_downblk-1_res.pkl\n"
     ]
    },
    {
     "data": {
      "text/plain": [
       "{'DDPM': [0.964, 21.281504],\n",
       " 'DDIM': [0.964, 21.62192],\n",
       " 'DDPM_val': [0.9402173913043478, 21.313286],\n",
       " 'DDIM_val': [0.9619565217391305, 21.703913],\n",
       " 'CQR': [0.972, 5.710727933687543]}"
      ]
     },
     "execution_count": 93,
     "metadata": {},
     "output_type": "execute_result"
    }
   ],
   "source": [
    "res_all = _main_fn(rep_ix=10, params=params, lr=1e-2, n_infeat=128, n_T=100, weight_decay=1e-2, n_blk=1)"
   ]
  },
  {
   "cell_type": "code",
   "execution_count": 29,
   "id": "ea727f0b-a705-4a30-8ae9-9d450759ffd0",
   "metadata": {
    "execution": {
     "iopub.execute_input": "2023-12-27T19:20:25.695461Z",
     "iopub.status.busy": "2023-12-27T19:20:25.694798Z",
     "iopub.status.idle": "2023-12-27T19:20:25.915082Z",
     "shell.execute_reply": "2023-12-27T19:20:25.913744Z",
     "shell.execute_reply.started": "2023-12-27T19:20:25.695412Z"
    },
    "tags": []
   },
   "outputs": [
    {
     "data": {
      "text/plain": [
       "<ddpm.train_ddpm_now.TrainDDPM at 0x7f36d8070640>"
      ]
     },
     "execution_count": 29,
     "metadata": {},
     "output_type": "execute_result"
    }
   ],
   "source": [
    "myddpm = res[1]"
   ]
  },
  {
   "cell_type": "code",
   "execution_count": 30,
   "id": "6f423688-ed69-4a2e-b711-02aa5f8f0248",
   "metadata": {
    "execution": {
     "iopub.execute_input": "2023-12-27T19:20:26.053624Z",
     "iopub.status.busy": "2023-12-27T19:20:26.052900Z",
     "iopub.status.idle": "2023-12-27T19:20:26.197302Z",
     "shell.execute_reply": "2023-12-27T19:20:26.196841Z",
     "shell.execute_reply.started": "2023-12-27T19:20:26.053578Z"
    },
    "tags": []
   },
   "outputs": [
    {
     "data": {
      "text/plain": [
       "[<matplotlib.lines.Line2D at 0x7f36ac2ea520>]"
      ]
     },
     "execution_count": 30,
     "metadata": {},
     "output_type": "execute_result"
    },
    {
     "data": {
      "image/png": "[encoded data removed]",
      "text/plain": [
       "<Figure size 1000x500 with 1 Axes>"
      ]
     },
     "metadata": {
      "needs_background": "light"
     },
     "output_type": "display_data"
    }
   ],
   "source": [
    "eps = np.array(myddpm.losses)[:, 0]\n",
    "loss = np.array(myddpm.losses)[:, 1]\n",
    "eps_val = np.array(myddpm.losses_val)[:, 0]\n",
    "loss_val = np.array(myddpm.losses_val)[:, 1];\n",
    "plt.plot(eps, loss)\n",
    "plt.plot(eps_val, loss_val)"
   ]
  },
  {
   "cell_type": "markdown",
   "id": "ef54f9d2-2685-4fd0-8842-ea89930ea690",
   "metadata": {},
   "source": [
    "# evaluate"
   ]
  },
  {
   "cell_type": "code",
   "execution_count": null,
   "id": "585f4360-a6ca-49da-82ad-e2ab5a477122",
   "metadata": {},
   "outputs": [],
   "source": []
  },
  {
   "cell_type": "code",
   "execution_count": 27,
   "id": "3120112a-4937-4de3-903f-11dff9d3dd4a",
   "metadata": {
    "execution": {
     "iopub.execute_input": "2023-12-17T23:49:40.059707Z",
     "iopub.status.busy": "2023-12-17T23:49:40.059065Z",
     "iopub.status.idle": "2023-12-17T23:49:40.104961Z",
     "shell.execute_reply": "2023-12-17T23:49:40.104223Z",
     "shell.execute_reply.started": "2023-12-17T23:49:40.059656Z"
    },
    "tags": []
   },
   "outputs": [],
   "source": [
    "ddpm = myddpm.ddpm;"
   ]
  },
  {
   "cell_type": "markdown",
   "id": "f6502568-9e9b-4765-8a4d-0572126fe506",
   "metadata": {},
   "source": [
    "## ON test set"
   ]
  },
  {
   "cell_type": "code",
   "execution_count": 28,
   "id": "59b7dfcf-6e8f-40bf-a498-8ae510ad35d5",
   "metadata": {
    "execution": {
     "iopub.execute_input": "2023-12-17T23:49:41.019573Z",
     "iopub.status.busy": "2023-12-17T23:49:41.018907Z",
     "iopub.status.idle": "2023-12-17T23:49:41.057143Z",
     "shell.execute_reply": "2023-12-17T23:49:41.056142Z",
     "shell.execute_reply.started": "2023-12-17T23:49:41.019527Z"
    },
    "tags": []
   },
   "outputs": [],
   "source": [
    "data_test = get_simu_data(n=params.simu_setting.ntest, \n",
    "                               d=params.simu_setting.d, \n",
    "                               #beta=beta, \n",
    "                               #inp=inp,\n",
    "                               is_homo=params.simu_setting.is_homo, \n",
    "                               rho=params.simu_setting.rho);"
   ]
  },
  {
   "cell_type": "code",
   "execution_count": 29,
   "id": "9dfac65e-1091-4995-af27-b80b3c993747",
   "metadata": {
    "execution": {
     "iopub.execute_input": "2023-12-17T23:49:42.502708Z",
     "iopub.status.busy": "2023-12-17T23:49:42.502032Z",
     "iopub.status.idle": "2023-12-17T23:49:42.537916Z",
     "shell.execute_reply": "2023-12-17T23:49:42.537195Z",
     "shell.execute_reply.started": "2023-12-17T23:49:42.502660Z"
    },
    "tags": []
   },
   "outputs": [],
   "source": [
    "tX = torch.tensor(data_test.X);\n",
    "c = tX.type(params.dftype);"
   ]
  },
  {
   "cell_type": "code",
   "execution_count": 30,
   "id": "fe477e92-0972-4e32-84fd-b216a35fa73e",
   "metadata": {
    "execution": {
     "iopub.execute_input": "2023-12-17T23:49:43.000093Z",
     "iopub.status.busy": "2023-12-17T23:49:42.999519Z",
     "iopub.status.idle": "2023-12-17T23:49:43.846737Z",
     "shell.execute_reply": "2023-12-17T23:49:43.846282Z",
     "shell.execute_reply.started": "2023-12-17T23:49:43.000050Z"
    },
    "tags": []
   },
   "outputs": [],
   "source": [
    "ddpm.eval()\n",
    "with torch.no_grad():\n",
    "    x_i, x_is = ddpm.sample(c, device=\"cpu\", guide_w=2, is_store=False);"
   ]
  },
  {
   "cell_type": "code",
   "execution_count": 31,
   "id": "73359ab7-4b8a-4a60-a70f-8d8318a700da",
   "metadata": {
    "execution": {
     "iopub.execute_input": "2023-12-17T23:49:44.553054Z",
     "iopub.status.busy": "2023-12-17T23:49:44.552487Z",
     "iopub.status.idle": "2023-12-17T23:49:44.685225Z",
     "shell.execute_reply": "2023-12-17T23:49:44.684777Z",
     "shell.execute_reply.started": "2023-12-17T23:49:44.553009Z"
    },
    "tags": []
   },
   "outputs": [
    {
     "data": {
      "text/plain": [
       "(-10.0, 10.0)"
      ]
     },
     "execution_count": 31,
     "metadata": {},
     "output_type": "execute_result"
    },
    {
     "data": {
      "image/png": "[encoded data removed]",
      "text/plain": [
       "<Figure size 1000x500 with 1 Axes>"
      ]
     },
     "metadata": {
      "needs_background": "light"
     },
     "output_type": "display_data"
    }
   ],
   "source": [
    "predx0 = x_i.reshape(-1).numpy();\n",
    "x0 = data_test.Y1;\n",
    "plt.plot(x0, predx0, \".\")\n",
    "xx = np.linspace(-10, 10, 100)\n",
    "yy = xx\n",
    "plt.plot(xx, yy)\n",
    "plt.xlim([-10, 10])\n",
    "plt.ylim([-10, 10])"
   ]
  },
  {
   "cell_type": "code",
   "execution_count": null,
   "id": "2b7ea994-bab9-42d0-8bf9-f2b685574b27",
   "metadata": {},
   "outputs": [],
   "source": []
  },
  {
   "cell_type": "markdown",
   "id": "48020217-0f57-4973-8db7-46373d2d2ef5",
   "metadata": {},
   "source": [
    "## Given X"
   ]
  },
  {
   "cell_type": "code",
   "execution_count": null,
   "id": "1c89c669-bcda-4f2b-a895-27011a3f420b",
   "metadata": {},
   "outputs": [],
   "source": [
    "list(range(10,0, -1)"
   ]
  },
  {
   "cell_type": "code",
   "execution_count": 41,
   "id": "f229a6f5-f822-4cf7-89c1-03107475d835",
   "metadata": {
    "execution": {
     "iopub.execute_input": "2023-12-17T23:50:09.036546Z",
     "iopub.status.busy": "2023-12-17T23:50:09.035583Z",
     "iopub.status.idle": "2023-12-17T23:50:09.075628Z",
     "shell.execute_reply": "2023-12-17T23:50:09.074826Z",
     "shell.execute_reply.started": "2023-12-17T23:50:09.036465Z"
    },
    "tags": []
   },
   "outputs": [],
   "source": [
    "datatest_con = get_simu_data(n=params.simu_setting.ntest, \n",
    "                               d=params.simu_setting.d, \n",
    "                               is_homo=params.simu_setting.is_homo, \n",
    "                               rho=params.simu_setting.rho, \n",
    "                               is_condition=True);\n",
    "tX_con = torch.tensor(datatest_con.X);\n",
    "c = tX_con.type(params.dftype);"
   ]
  },
  {
   "cell_type": "code",
   "execution_count": 42,
   "id": "9020f7f9-68e4-474b-a26c-1cfa3c004712",
   "metadata": {
    "execution": {
     "iopub.execute_input": "2023-12-17T23:50:09.306024Z",
     "iopub.status.busy": "2023-12-17T23:50:09.305528Z",
     "iopub.status.idle": "2023-12-17T23:50:10.182650Z",
     "shell.execute_reply": "2023-12-17T23:50:10.182182Z",
     "shell.execute_reply.started": "2023-12-17T23:50:09.305982Z"
    },
    "tags": []
   },
   "outputs": [],
   "source": [
    "ddpm.eval()\n",
    "with torch.no_grad():\n",
    "    x_i, x_is = ddpm.sample(c, device=\"cpu\", guide_w=0);"
   ]
  },
  {
   "cell_type": "code",
   "execution_count": 43,
   "id": "d4168093-393a-45e7-bbb4-752e3f4b87c6",
   "metadata": {
    "execution": {
     "iopub.execute_input": "2023-12-17T23:50:10.183586Z",
     "iopub.status.busy": "2023-12-17T23:50:10.183379Z",
     "iopub.status.idle": "2023-12-17T23:50:10.460346Z",
     "shell.execute_reply": "2023-12-17T23:50:10.459924Z",
     "shell.execute_reply.started": "2023-12-17T23:50:10.183571Z"
    },
    "tags": []
   },
   "outputs": [
    {
     "data": {
      "text/plain": [
       "(-5.0, 10.0)"
      ]
     },
     "execution_count": 43,
     "metadata": {},
     "output_type": "execute_result"
    },
    {
     "data": {
      "image/png": "[encoded data removed]",
      "text/plain": [
       "<Figure size 1000x500 with 1 Axes>"
      ]
     },
     "metadata": {
      "needs_background": "light"
     },
     "output_type": "display_data"
    }
   ],
   "source": [
    "predx0 = x_i.reshape(-1).numpy();\n",
    "x0 = datatest_con.Y1;\n",
    "x_is = x_is.squeeze();\n",
    "for idx in range(x_is.shape[0]):\n",
    "    sns.kdeplot(x_is[idx])\n",
    "sns.kdeplot(x0, color=\"black\", lw=4, label=\"obs\")\n",
    "sns.kdeplot(predx0, color=\"green\", lw=4, label=\"pred\")\n",
    "plt.legend()\n",
    "plt.xlim([-5, 10])"
   ]
  },
  {
   "cell_type": "code",
   "execution_count": null,
   "id": "b9f376bf-3f54-44e9-9af2-c1efca5f62ef",
   "metadata": {},
   "outputs": [],
   "source": []
  },
  {
   "cell_type": "markdown",
   "id": "d4761eb3-0e09-4e30-887b-ad353dd46e85",
   "metadata": {},
   "source": [
    "# bak"
   ]
  },
  {
   "cell_type": "code",
   "execution_count": null,
   "id": "6e30b424-516b-42f8-89ad-871b22e9a2f5",
   "metadata": {},
   "outputs": [],
   "source": []
  },
  {
   "cell_type": "code",
   "execution_count": 9,
   "id": "a4d18761-b351-4042-bb75-801a65d85e10",
   "metadata": {
    "execution": {
     "iopub.execute_input": "2023-12-18T01:06:11.530570Z",
     "iopub.status.busy": "2023-12-18T01:06:11.529939Z",
     "iopub.status.idle": "2023-12-18T01:06:11.580813Z",
     "shell.execute_reply": "2023-12-18T01:06:11.580167Z",
     "shell.execute_reply.started": "2023-12-18T01:06:11.530520Z"
    },
    "tags": []
   },
   "outputs": [],
   "source": [
    "def _run_fn_PCP(rep_ix):\n",
    "    manualSeed = rep_ix\n",
    "    random.seed(manualSeed)\n",
    "    np.random.seed(manualSeed)\n",
    "    torch.manual_seed(manualSeed)\n",
    "    torch.use_deterministic_algorithms(True) # Needed for reproducible results\n",
    "    torch.set_default_dtype(params.dftype)\n",
    "    torch.set_default_device(params.device)\n",
    "    \n",
    "    #beta = np.concatenate([np.random.randn(2), np.zeros(params.simu_setting.d-2)])\n",
    "    #inp = np.random.randn(1) * 10                                \n",
    "    \n",
    "    data_train = get_simu_data(n=params.simu_setting.n, \n",
    "                               d=params.simu_setting.d, \n",
    "                               #beta=beta, \n",
    "                               #inp=inp,\n",
    "                               is_homo=params.simu_setting.is_homo, \n",
    "                               rho=params.simu_setting.rho);\n",
    "    data_test = get_simu_data(n=params.simu_setting.ntest, \n",
    "                               d=params.simu_setting.d, \n",
    "                               #beta=beta, \n",
    "                               #inp=inp,\n",
    "                               is_homo=params.simu_setting.is_homo, \n",
    "                               rho=params.simu_setting.rho);\n",
    "    \n",
    "    cal_idxs, val_idxs, tr_idxs = get_idx_sets(all_idxs=np.where(data_train.T)[0], \n",
    "                                               ratios = [params.simu_setting.cal_ratio, params.simu_setting.val_ratio])\n",
    "        \n",
    "        \n",
    "    # train q(Y(1)|X)\n",
    "    # I skip this for now, suppose you get one\n",
    "    data_train_ddpm = MyDataSet(Y=data_train.Y[tr_idxs], X=data_train.X[tr_idxs])\n",
    "    data_val = edict()\n",
    "    data_val.c =  data_train.X[val_idxs]\n",
    "    data_val.x =  data_train.Y[val_idxs]\n",
    "    \n",
    "    input_params = params.ddpm_training.copy()\n",
    "    input_params.pop(\"n_epoch\")\n",
    "    myddpm = TrainDDPM(data_train_ddpm, save_dir=params.save_dir, verbose=params.verbose, prefix=f\"rep{rep_ix}\", \n",
    "                       device=params.device,\n",
    "                       **input_params);\n",
    "    #myddpm.train(n_epoch=params.ddpm_training.n_epoch, \n",
    "    #             data_val=data_val, save_snapshot=params.save_snapshot)\n",
    "    ddpm = myddpm.ddpm\n",
    "    #ddpm = myddpm.get_opt_model()\n",
    "    ddpm = myddpm.get_model(500)\n",
    "    ddpm.eval()\n",
    "    \n",
    "    ## propensity score\n",
    "    ## I can use all data in train set (including cal set)\n",
    "    #from sklearn.linear_model import LogisticRegression\n",
    "    #clf = LogisticRegression(random_state=0)\n",
    "    #psY = data_train.T.astype(int)\n",
    "    #psX = data_train.X\n",
    "    #clf = clf.fit(psX, psY);\n",
    "    #def psfun(x):\n",
    "    #    if x.ndim == 1:\n",
    "    #        x = x.reshape(1, -1)\n",
    "    #    return clf.predict_proba(x)[:, 1]\n",
    "    #\n",
    "    #\n",
    "    ## weight function\n",
    "    #def wtfun(x):\n",
    "    #    # for unconditional weight\n",
    "    #    return 1/psfun(x)\n",
    "    \n",
    "    # weight function\n",
    "    def wtfun(x):\n",
    "        if x.ndim == 1:\n",
    "            x = x.reshape(1, -1)\n",
    "        # for unconditional weight\n",
    "        return np.ones(x.shape[0])\n",
    "        \n",
    "    # get the weight and nonconformity score for each data point in cal set\n",
    "    x_0s = _gen_Y_given_X(data_train.X[cal_idxs], ddpm, manualSeed)\n",
    "    ws = wtfun(data_train.X[cal_idxs]);\n",
    "    Es = np.abs(x_0s -  data_train.Y1[cal_idxs][:, None]).min(axis=1);\n",
    "            \n",
    "    def _run_fn2(te_idx):\n",
    "        torch.set_default_dtype(params.dftype)\n",
    "        teX = data_test.X[te_idx]\n",
    "        teY1 = data_test.Y1[te_idx]\n",
    "        tetau = data_test.tau[te_idx]\n",
    "        \n",
    "        # get qv for current test pt\n",
    "        ws_wtest = np.concatenate([ws, wtfun(teX)]);\n",
    "        Es_winf = np.concatenate([Es, [np.inf]]);\n",
    "        nws_wtest = ws_wtest/ws_wtest.mean();\n",
    "        nws_wtest[nws_wtest<params.wconformal.nwtlow] = params.wconformal.nwtlow\n",
    "        nws_wtest[nws_wtest>params.wconformal.nwthigh] = params.wconformal.nwthigh\n",
    "        # can not take the inf into consider\n",
    "        #qv_cur = weighted_quantile(Es_winf, [1-params.hypo_test.alpha], sample_weight=nws_wtest);\n",
    "        qt = (1 + nws_wtest[-1]/ nws_wtest[:-1].sum()) * (1 - params.hypo_test.alpha)\n",
    "        if qt <= 1:\n",
    "            qv_cur = weighted_quantile(Es, [qt], sample_weight=ws_wtest[:-1]);\n",
    "        else:\n",
    "            if params.wconformal.useinf:\n",
    "                qv_cur = np.inf\n",
    "            else:\n",
    "                qv_cur = np.max(Es)\n",
    "        \n",
    "        intvs = _get_pred_intv(teYs_hat[te_idx], qv_cur)\n",
    "        res = _get_metric([teY1, tetau], intvs)\n",
    "        res[\"qv_cur\"] = qv_cur\n",
    "        res[\"qt\"] = qt\n",
    "        res[\"intvs\"] = intvs\n",
    "        return res\n",
    "        \n",
    "    teYs_hat = _gen_Y_given_X(data_test.X, ddpm, manualSeed);\n",
    "    pbar2 = range(params.simu_setting.ntest)\n",
    "    with Parallel(n_jobs=1) as parallel:\n",
    "        test_res = parallel(delayed(_run_fn2)(te_idx) for te_idx in pbar2)\n",
    "        \n",
    "    prbs = np.mean([res['in_sets'] for res in test_res], axis=0)\n",
    "    mlen = np.median([res['intvs_len'] for res in test_res])\n",
    "        \n",
    "        \n",
    "    # results from CQR\n",
    "    CQR_CIs = get_CQR_CIs(X=data_train.X, Y=data_train.Y, \n",
    "                          T=data_train.T, Xtest=data_test.X, \n",
    "                          nav=0, \n",
    "                          alpha=params.hypo_test.alpha, \n",
    "                          estimand=\"nonmissing\",\n",
    "                          fyx_est=\"quantBoosting\", seed=manualSeed)\n",
    "    mlen_cqr = np.median(CQR_CIs[:, 1] -  CQR_CIs[:, 0])\n",
    "    prb_Y1_cqr = np.bitwise_and(data_test.Y1>CQR_CIs[:, 0], data_test.Y1<CQR_CIs[:, 1]).mean()\n",
    "    prb_tau_cqr = np.bitwise_and(data_test.tau>CQR_CIs[:, 0], data_test.tau<CQR_CIs[:, 1]).mean()\n",
    "    \n",
    "    res_all = edict()\n",
    "    res_all.DDPM = (prbs, mlen)\n",
    "    res_all.CQR = ([prb_Y1_cqr, prb_tau_cqr], mlen_cqr)\n",
    "    return res_all, myddpm, test_res, np.abs(x_0s -  data_train.Y1[cal_idxs][:, None])"
   ]
  },
  {
   "cell_type": "code",
   "execution_count": 25,
   "id": "f0f6fc11-8527-47c5-9301-d0229ebd7cf8",
   "metadata": {
    "execution": {
     "iopub.execute_input": "2023-12-17T23:37:08.920335Z",
     "iopub.status.busy": "2023-12-17T23:37:08.919706Z",
     "iopub.status.idle": "2023-12-17T23:37:09.050801Z",
     "shell.execute_reply": "2023-12-17T23:37:09.049469Z",
     "shell.execute_reply.started": "2023-12-17T23:37:08.920287Z"
    },
    "tags": []
   },
   "outputs": [],
   "source": [
    "def _run_fn_naive_quan(rep_ix):\n",
    "    manualSeed = rep_ix\n",
    "    random.seed(manualSeed)\n",
    "    np.random.seed(manualSeed)\n",
    "    torch.manual_seed(manualSeed)\n",
    "    torch.use_deterministic_algorithms(True) # Needed for reproducible results\n",
    "    torch.set_default_dtype(params.dftype)\n",
    "    torch.set_default_device(params.device)\n",
    "    \n",
    "    #beta = np.concatenate([np.random.randn(2), np.zeros(params.simu_setting.d-2)])\n",
    "    #inp = np.random.randn(1) * 10                                \n",
    "    \n",
    "    data_train = get_simu_data(n=params.simu_setting.n, \n",
    "                               d=params.simu_setting.d, \n",
    "                               #beta=beta, \n",
    "                               #inp=inp,\n",
    "                               is_homo=params.simu_setting.is_homo, \n",
    "                               rho=params.simu_setting.rho);\n",
    "    data_test = get_simu_data(n=params.simu_setting.ntest, \n",
    "                               d=params.simu_setting.d, \n",
    "                               #beta=beta, \n",
    "                               #inp=inp,\n",
    "                               is_homo=params.simu_setting.is_homo, \n",
    "                               rho=params.simu_setting.rho);\n",
    "    \n",
    "    cal_idxs, val_idxs, tr_idxs = get_idx_sets(all_idxs=np.where(data_train.T)[0], \n",
    "                                               ratios = [params.simu_setting.cal_ratio, params.simu_setting.val_ratio])\n",
    "        \n",
    "        \n",
    "    # train q(Y(1)|X)\n",
    "    # I skip this for now, suppose you get one\n",
    "    data_train_ddpm = MyDataSet(Y=data_train.Y[tr_idxs], X=data_train.X[tr_idxs])\n",
    "    data_val = edict()\n",
    "    data_val.c =  data_train.X[val_idxs]\n",
    "    data_val.x =  data_train.Y[val_idxs]\n",
    "    \n",
    "    input_params = params.ddpm_training.copy()\n",
    "    input_params.pop(\"n_epoch\")\n",
    "    myddpm = TrainDDPM(data_train_ddpm, save_dir=params.save_dir, verbose=params.verbose, prefix=f\"rep{rep_ix}\", \n",
    "                       device=params.device,\n",
    "                       **input_params);\n",
    "    myddpm.train(n_epoch=params.ddpm_training.n_epoch, \n",
    "                 data_val=data_val, save_snapshot=params.save_snapshot)\n",
    "    ddpm = myddpm.ddpm\n",
    "    #ddpm = myddpm.get_opt_model()\n",
    "    #ddpm = myddpm.get_model(1000)\n",
    "    ddpm.eval()\n",
    "    \n",
    "    teYs_hat = _gen_Y_given_X(data_test.X, ddpm, manualSeed);\n",
    "    lows, ups = np.quantile(teYs_hat, [params.hypo_test.alpha/2, 1-params.hypo_test.alpha/2], axis=-1);\n",
    "    prb_Y1 = np.bitwise_and(data_test.Y1>lows, data_test.Y1<ups).mean()\n",
    "    prb_tau = np.bitwise_and(data_test.tau>lows, data_test.tau<ups).mean()\n",
    "    mlen = np.mean(ups-lows)\n",
    "        \n",
    "        \n",
    "    # results from CQR\n",
    "    CQR_CIs = get_CQR_CIs(X=data_train.X, Y=data_train.Y, \n",
    "                          T=data_train.T, Xtest=data_test.X, \n",
    "                          nav=0, \n",
    "                          alpha=params.hypo_test.alpha, \n",
    "                          estimand=\"nonmissing\",\n",
    "                          fyx_est=\"quantBoosting\", seed=manualSeed)\n",
    "    mlen_cqr = np.mean(CQR_CIs[:, 1] -  CQR_CIs[:, 0])\n",
    "    prb_Y1_cqr = np.bitwise_and(data_test.Y1>CQR_CIs[:, 0], data_test.Y1<CQR_CIs[:, 1]).mean()\n",
    "    prb_tau_cqr = np.bitwise_and(data_test.tau>CQR_CIs[:, 0], data_test.tau<CQR_CIs[:, 1]).mean()\n",
    "    \n",
    "    res_all = edict()\n",
    "    res_all.DDPM = ([prb_Y1, prb_tau], mlen)\n",
    "    res_all.CQR = ([prb_Y1_cqr, prb_tau_cqr], mlen_cqr)\n",
    "    return res_all, myddpm"
   ]
  },
  {
   "cell_type": "code",
   "execution_count": 42,
   "id": "72c89d88-0259-42bf-b2b3-31f657e255b1",
   "metadata": {
    "execution": {
     "iopub.execute_input": "2023-12-27T19:22:53.725978Z",
     "iopub.status.busy": "2023-12-27T19:22:53.725331Z",
     "iopub.status.idle": "2023-12-27T19:22:53.778407Z",
     "shell.execute_reply": "2023-12-27T19:22:53.777765Z",
     "shell.execute_reply.started": "2023-12-27T19:22:53.725931Z"
    },
    "tags": []
   },
   "outputs": [],
   "source": [
    "def _run_fn_quanreg_now(rep_ix, model_ix=None):\n",
    "    manualSeed = rep_ix\n",
    "    random.seed(manualSeed)\n",
    "    np.random.seed(manualSeed)\n",
    "    torch.manual_seed(manualSeed)\n",
    "    torch.use_deterministic_algorithms(True) # Needed for reproducible results\n",
    "    torch.set_default_dtype(params.dftype)\n",
    "    torch.set_default_device(params.device)\n",
    "    \n",
    "    #beta = np.concatenate([np.random.randn(2), np.zeros(params.simu_setting.d-2)])\n",
    "    #inp = np.random.randn(1) * 10                                \n",
    "    \n",
    "    data_train = get_simu_data(n=params.simu_setting.n, \n",
    "                               d=params.simu_setting.d, \n",
    "                               #beta=beta, \n",
    "                               #inp=inp,\n",
    "                               is_homo=params.simu_setting.is_homo, \n",
    "                               rho=params.simu_setting.rho);\n",
    "    data_test = get_simu_data(n=params.simu_setting.ntest, \n",
    "                               d=params.simu_setting.d, \n",
    "                               #beta=beta, \n",
    "                               #inp=inp,\n",
    "                               is_homo=params.simu_setting.is_homo, \n",
    "                               rho=params.simu_setting.rho);\n",
    "    \n",
    "    cal_idxs, val_idxs, tr_idxs = get_idx_sets(all_idxs=np.where(data_train.T)[0], \n",
    "                                               ratios = [params.simu_setting.cal_ratio, params.simu_setting.val_ratio])\n",
    "        \n",
    "        \n",
    "    # train q(Y(1)|X)\n",
    "    # I skip this for now, suppose you get one\n",
    "    data_train_ddpm = MyDataSet(Y=data_train.Y[tr_idxs], X=data_train.X[tr_idxs])\n",
    "    data_val = edict()\n",
    "    data_val.c =  data_train.X[val_idxs]\n",
    "    data_val.x =  data_train.Y[val_idxs]\n",
    "    \n",
    "    input_params = params.ddpm_training.copy()\n",
    "    input_params.pop(\"n_epoch\")\n",
    "    input_params.pop(\"early_stop\")\n",
    "    input_params.pop(\"early_stop_dict\")\n",
    "    myddpm = TrainDDPM_now(data_train_ddpm, save_dir=params.save_dir, verbose=params.verbose, prefix=f\"rep{rep_ix}\", \n",
    "                       device=params.device,\n",
    "                       **input_params);\n",
    "    if model_ix is None:\n",
    "        myddpm.train(n_epoch=params.ddpm_training.n_epoch, \n",
    "                     data_val=data_val, save_snapshot=params.save_snapshot, \n",
    "                     early_stop=params.ddpm_training.early_stop,\n",
    "                     early_stop_dict=params.ddpm_training.early_stop_dict)\n",
    "        ddpm = myddpm.ddpm\n",
    "    elif isinstance(model_ix, str):\n",
    "        ddpm = myddpm.get_opt_model()\n",
    "    elif isinstance(model_ix, int):\n",
    "        ddpm = myddpm.get_model(model_ix)\n",
    "    ddpm.eval()\n",
    "    \n",
    "    ## propensity score\n",
    "    ## I can use all data in train set (including cal set)\n",
    "    #from sklearn.linear_model import LogisticRegression\n",
    "    #clf = LogisticRegression(random_state=0)\n",
    "    #psY = data_train.T.astype(int)\n",
    "    #psX = data_train.X\n",
    "    #clf = clf.fit(psX, psY);\n",
    "    #def psfun(x):\n",
    "    #    if x.ndim == 1:\n",
    "    #        x = x.reshape(1, -1)\n",
    "    #    return clf.predict_proba(x)[:, 1]\n",
    "    #\n",
    "    #\n",
    "    ## weight function\n",
    "    #def wtfun(x):\n",
    "    #    # for unconditional weight\n",
    "    #    return 1/psfun(x)\n",
    "    \n",
    "    # weight function\n",
    "    def wtfun(x):\n",
    "        if x.ndim == 1:\n",
    "            x = x.reshape(1, -1)\n",
    "        # for unconditional weight\n",
    "        return np.ones(x.shape[0])\n",
    "        \n",
    "    # get the weight and nonconformity score for each data point in cal set\n",
    "    x_0s = _gen_Y_given_X(data_train.X[cal_idxs], ddpm, manualSeed)\n",
    "    ws = wtfun(data_train.X[cal_idxs]);\n",
    "    lows, ups = np.quantile(x_0s, [params.hypo_test.alpha/2, 1-params.hypo_test.alpha/2], axis=-1);\n",
    "    Es = np.maximum(lows - data_train.Y1[cal_idxs],  data_train.Y1[cal_idxs]-ups)\n",
    "            \n",
    "    def _run_fn2(te_idx):\n",
    "        torch.set_default_dtype(params.dftype)\n",
    "        teX = data_test.X[te_idx]\n",
    "        teY1 = data_test.Y1[te_idx]\n",
    "        tetau = data_test.tau[te_idx]\n",
    "        \n",
    "        # get qv for current test pt\n",
    "        ws_wtest = np.concatenate([ws, wtfun(teX)]);\n",
    "        Es_winf = np.concatenate([Es, [np.inf]]);\n",
    "        nws_wtest = ws_wtest/ws_wtest.mean();\n",
    "        nws_wtest[nws_wtest<params.wconformal.nwtlow] = params.wconformal.nwtlow\n",
    "        nws_wtest[nws_wtest>params.wconformal.nwthigh] = params.wconformal.nwthigh\n",
    "        # can not take the inf into consider\n",
    "        #qv_cur = weighted_quantile(Es_winf, [1-params.hypo_test.alpha], sample_weight=nws_wtest);\n",
    "        qt = (1 + nws_wtest[-1]/ nws_wtest[:-1].sum()) * (1 - params.hypo_test.alpha)\n",
    "        if qt <= 1:\n",
    "            qv_cur = weighted_quantile(Es, [qt], sample_weight=ws_wtest[:-1])[0];\n",
    "        else:\n",
    "            if params.wconformal.useinf:\n",
    "                qv_cur = np.inf\n",
    "            else:\n",
    "                qv_cur = np.max(Es)\n",
    "        \n",
    "        intvs = np.array([[lows_te[te_idx]-qv_cur, ups_te[te_idx]+qv_cur]])\n",
    "        res = _get_metric([teY1, tetau], intvs)\n",
    "        res[\"qv_cur\"] = qv_cur\n",
    "        res[\"qt\"] = qt\n",
    "        res[\"intvs\"] = intvs\n",
    "        return res\n",
    "        \n",
    "    teYs_hat = _gen_Y_given_X(data_test.X, ddpm, manualSeed);\n",
    "    lows_te, ups_te = np.quantile(teYs_hat, [params.hypo_test.alpha/2, 1-params.hypo_test.alpha/2], axis=-1);\n",
    "    pbar2 = range(params.simu_setting.ntest)\n",
    "    with Parallel(n_jobs=1) as parallel:\n",
    "        test_res = parallel(delayed(_run_fn2)(te_idx) for te_idx in pbar2)\n",
    "        \n",
    "    prbs = np.mean([res['in_sets'] for res in test_res], axis=0)\n",
    "    mlen = np.median([res['intvs_len'] for res in test_res])\n",
    "        \n",
    "        \n",
    "    # results from CQR\n",
    "    CQR_CIs = get_CQR_CIs(X=data_train.X, Y=data_train.Y, \n",
    "                          T=data_train.T, Xtest=data_test.X, \n",
    "                          nav=0, \n",
    "                          alpha=params.hypo_test.alpha, \n",
    "                          estimand=\"nonmissing\",\n",
    "                          fyx_est=\"quantBoosting\", seed=manualSeed)\n",
    "    mlen_cqr = np.median(CQR_CIs[:, 1] -  CQR_CIs[:, 0])\n",
    "    prb_Y1_cqr = np.bitwise_and(data_test.Y1>CQR_CIs[:, 0], data_test.Y1<CQR_CIs[:, 1]).mean()\n",
    "    prb_tau_cqr = np.bitwise_and(data_test.tau>CQR_CIs[:, 0], data_test.tau<CQR_CIs[:, 1]).mean()\n",
    "    \n",
    "    res_all = edict()\n",
    "    res_all.DDPM = (prbs, mlen)\n",
    "    res_all.CQR = ([prb_Y1_cqr, prb_tau_cqr], mlen_cqr)\n",
    "    return res_all, myddpm, test_res, np.abs(x_0s -  data_train.Y1[cal_idxs][:, None])"
   ]
  },
  {
   "cell_type": "code",
   "execution_count": null,
   "id": "52af6471-ac72-4757-bd4b-48a02c6efb91",
   "metadata": {},
   "outputs": [],
   "source": []
  }
 ],
 "metadata": {
  "kernelspec": {
   "display_name": "Python 3 (ipykernel)",
   "language": "python",
   "name": "python3"
  },
  "language_info": {
   "codemirror_mode": {
    "name": "ipython",
    "version": 3
   },
   "file_extension": ".py",
   "mimetype": "text/x-python",
   "name": "python",
   "nbconvert_exporter": "python",
   "pygments_lexer": "ipython3",
   "version": "3.9.7"
  },
  "toc-autonumbering": true
 },
 "nbformat": 4,
 "nbformat_minor": 5
}
