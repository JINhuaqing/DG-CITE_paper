{
 "cells": [
  {
   "cell_type": "code",
   "execution_count": 1,
   "id": "7be37593-bf50-4fc1-b617-ff93ca3fb707",
   "metadata": {
    "execution": {
     "iopub.execute_input": "2023-12-18T06:15:03.556531Z",
     "iopub.status.busy": "2023-12-18T06:15:03.555896Z",
     "iopub.status.idle": "2023-12-18T06:15:03.571698Z",
     "shell.execute_reply": "2023-12-18T06:15:03.569741Z",
     "shell.execute_reply.started": "2023-12-18T06:15:03.556481Z"
    },
    "tags": []
   },
   "outputs": [],
   "source": [
    "import sys\n",
    "sys.path.append(\"../mypkg\")"
   ]
  },
  {
   "cell_type": "code",
   "execution_count": 2,
   "id": "ad8d569b-0412-47de-a9bf-2bbbfde7e943",
   "metadata": {
    "execution": {
     "iopub.execute_input": "2023-12-18T06:15:03.930203Z",
     "iopub.status.busy": "2023-12-18T06:15:03.929703Z",
     "iopub.status.idle": "2023-12-18T06:15:06.278100Z",
     "shell.execute_reply": "2023-12-18T06:15:06.277404Z",
     "shell.execute_reply.started": "2023-12-18T06:15:03.930159Z"
    },
    "tags": []
   },
   "outputs": [],
   "source": [
    "from constants import RES_ROOT, FIG_ROOT, DATA_ROOT\n",
    "from utils.misc import load_pkl, save_pkl, merge_intervals\n",
    "from utils.colors import qual_cmap\n",
    "from utils.stats import weighted_quantile\n",
    "from data_gen import get_simu_data\n",
    "from utils.utils import MyDataSet, get_idx_sets\n",
    "from demo_settings import simu_settings\n",
    "from CQR import get_CQR_CIs\n",
    "from models.ddpm import ContextNet, ddpm_schedules, DDPM\n",
    "from ddpm.train_ddpm import TrainDDPM"
   ]
  },
  {
   "cell_type": "code",
   "execution_count": 3,
   "id": "f1775f04-ea35-40dc-90e8-61a284a9daf2",
   "metadata": {
    "execution": {
     "iopub.execute_input": "2023-12-18T06:15:06.279955Z",
     "iopub.status.busy": "2023-12-18T06:15:06.279508Z",
     "iopub.status.idle": "2023-12-18T06:15:06.307022Z",
     "shell.execute_reply": "2023-12-18T06:15:06.306580Z",
     "shell.execute_reply.started": "2023-12-18T06:15:06.279926Z"
    },
    "tags": []
   },
   "outputs": [],
   "source": [
    "%load_ext autoreload\n",
    "%autoreload 2\n",
    "# 0,1, 2, 3, be careful about the space"
   ]
  },
  {
   "cell_type": "code",
   "execution_count": 4,
   "id": "a42be2f3-7ab7-4f69-98eb-27ae79905c93",
   "metadata": {
    "execution": {
     "iopub.execute_input": "2023-12-18T06:15:06.307734Z",
     "iopub.status.busy": "2023-12-18T06:15:06.307572Z",
     "iopub.status.idle": "2023-12-18T06:15:06.675663Z",
     "shell.execute_reply": "2023-12-18T06:15:06.674676Z",
     "shell.execute_reply.started": "2023-12-18T06:15:06.307720Z"
    },
    "tags": []
   },
   "outputs": [],
   "source": [
    "import torch\n",
    "import scipy.stats as ss\n",
    "import numpy as np\n",
    "from easydict import EasyDict as edict\n",
    "import matplotlib.pyplot as plt\n",
    "import seaborn as sns\n",
    "from collections import defaultdict as ddict\n",
    "from tqdm import tqdm, trange\n",
    "import random\n",
    "from joblib import Parallel, delayed\n",
    "import pandas as pd\n",
    "from pprint import pprint\n",
    "plt.style.use(FIG_ROOT/\"base.mplstyle\")"
   ]
  },
  {
   "cell_type": "markdown",
   "id": "5f1daada-ca8c-4a09-84f5-dfe6c045008d",
   "metadata": {},
   "source": [
    "# Params"
   ]
  },
  {
   "cell_type": "code",
   "execution_count": 5,
   "id": "68b00b94-5b21-4681-85e2-2206bb03ba73",
   "metadata": {
    "execution": {
     "iopub.execute_input": "2023-12-18T06:15:10.628889Z",
     "iopub.status.busy": "2023-12-18T06:15:10.628255Z",
     "iopub.status.idle": "2023-12-18T06:15:10.668097Z",
     "shell.execute_reply": "2023-12-18T06:15:10.667425Z",
     "shell.execute_reply.started": "2023-12-18T06:15:10.628839Z"
    },
    "tags": []
   },
   "outputs": [
    {
     "data": {
      "text/plain": [
       "'setting3'"
      ]
     },
     "execution_count": 5,
     "metadata": {},
     "output_type": "execute_result"
    }
   ],
   "source": [
    "setting = \"setting3\""
   ]
  },
  {
   "cell_type": "code",
   "execution_count": 18,
   "id": "6cc79339-0cfa-4d15-9220-129cd5209122",
   "metadata": {
    "execution": {
     "iopub.execute_input": "2023-12-18T06:30:34.822128Z",
     "iopub.status.busy": "2023-12-18T06:30:34.821508Z",
     "iopub.status.idle": "2023-12-18T06:30:34.868735Z",
     "shell.execute_reply": "2023-12-18T06:30:34.868036Z",
     "shell.execute_reply.started": "2023-12-18T06:30:34.822077Z"
    },
    "tags": []
   },
   "outputs": [
    {
     "name": "stdout",
     "output_type": "stream",
     "text": [
      "{'cal_ratio': 0.25,\n",
      " 'd': 10,\n",
      " 'is_homo': False,\n",
      " 'n': 3000,\n",
      " 'ntest': 1000,\n",
      " 'rho': 0.0,\n",
      " 'val_ratio': 0.15}\n"
     ]
    }
   ],
   "source": [
    "params = edict()\n",
    "\n",
    "params.simu_setting = edict()\n",
    "params.simu_setting.rho = 0.9\n",
    "params.simu_setting.is_homo = False\n",
    "params.simu_setting.n = 1000\n",
    "params.simu_setting.d = 10\n",
    "params.simu_setting.ntest = 1000\n",
    "params.simu_setting.cal_ratio = 0.25 # for conformal inference\n",
    "params.simu_setting.val_ratio = 0.15 # for tuning network\n",
    "params.simu_setting.update(simu_settings[setting])\n",
    "params.simu_setting.n = 3000\n",
    "#params.simu_setting.d = 1000\n",
    "pprint(params.simu_setting)\n",
    "\n",
    "\n",
    "params.nrep = 50 # num of reptition for simulation\n",
    "params.K = 200 # num of sps drawn from q(Y(1)|X)\n",
    "params.save_snapshot = 100\n",
    "params.dftype = torch.float32\n",
    "params.device=\"cpu\"\n",
    "params.n_jobs = 5\n",
    "params.verbose = True\n",
    "params.inf_bs = 4 # the inference batch, fct x K\n",
    "\n",
    "params.ddpm_training = edict()\n",
    "# Batch size during training\n",
    "params.ddpm_training.batch_size = 256 \n",
    "# Number of training epochs\n",
    "params.ddpm_training.n_epoch = 2000\n",
    "params.ddpm_training.n_infeat = 128\n",
    "# Learning rate for optimizers\n",
    "params.ddpm_training.lr = 0.001\n",
    "params.ddpm_training.lr_gamma = 0.5\n",
    "params.ddpm_training.lr_step = 1000\n",
    "params.ddpm_training.test_intv = 5\n",
    "params.ddpm_training.n_T = 200 # 100\n",
    "params.ddpm_training.drop_prob = 0.1\n",
    "params.ddpm_training.n_upblk = 1\n",
    "params.ddpm_training.n_downblk = 1\n",
    "params.ddpm_training.weight_decay = 1e-2\n",
    "#params.ddpm_training.betas = [0.001, 0.5]\n",
    "\n",
    "params.wconformal = edict()\n",
    "# remove too large and too small in ws/mean(ws)\n",
    "params.wconformal.nwthigh = 20\n",
    "params.wconformal.nwtlow = 0.05\n",
    "params.wconformal.useinf = False\n",
    "\n",
    "\n",
    "params.hypo_test = edict()\n",
    "params.hypo_test.alpha = 0.05 # sig level\n",
    "\n",
    "params.prefix = \"\"\n",
    "params.save_dir = f\"demo_ddpm_{setting}_test\"\n",
    "if not (RES_ROOT/params.save_dir).exists():\n",
    "    (RES_ROOT/params.save_dir).mkdir()"
   ]
  },
  {
   "cell_type": "markdown",
   "id": "b18c29d9-14e1-4e57-9a24-c09ba3605f4f",
   "metadata": {},
   "source": [
    "# Some fns"
   ]
  },
  {
   "cell_type": "code",
   "execution_count": 19,
   "id": "1f1a6d97-c561-476a-b92c-ba2437aa8870",
   "metadata": {
    "execution": {
     "iopub.execute_input": "2023-12-18T06:30:35.784597Z",
     "iopub.status.busy": "2023-12-18T06:30:35.784013Z",
     "iopub.status.idle": "2023-12-18T06:30:35.826313Z",
     "shell.execute_reply": "2023-12-18T06:30:35.825648Z",
     "shell.execute_reply.started": "2023-12-18T06:30:35.784547Z"
    },
    "tags": []
   },
   "outputs": [],
   "source": [
    "def _gen_Y_given_X(X, ddpm, seed=1):\n",
    "    c_all = torch.tensor(X, dtype=params.dftype).to(params.device);\n",
    "    num_iters = int(np.ceil(c_all.shape[0]/params.inf_bs));\n",
    "    x_0s = []\n",
    "    if params.verbose:\n",
    "        pbar = tqdm(range(num_iters), total=num_iters)\n",
    "    else:\n",
    "        pbar = range(num_iters)\n",
    "    def _run_fn(ix):\n",
    "        torch.set_default_dtype(params.dftype)\n",
    "        torch.set_default_device(params.device)\n",
    "        random.seed(seed)\n",
    "        np.random.seed(seed)\n",
    "        torch.manual_seed(seed)\n",
    "        c_cur = c_all[(ix*params.inf_bs):(ix*params.inf_bs+params.inf_bs)]\n",
    "        c_cur_mul = c_cur.repeat(params.K, 1);\n",
    "        with torch.no_grad():\n",
    "            x_0, _ = ddpm.sample(c_cur_mul, device=params.device, guide_w=0, is_store=False);\n",
    "        x_0 = x_0.cpu().numpy().reshape(-1);\n",
    "        x_0 = x_0.reshape(params.K, -1);\n",
    "        return x_0\n",
    "    with Parallel(n_jobs=params.n_jobs) as parallel:\n",
    "        x_0s = parallel(delayed(_run_fn)(ix) for ix in pbar)\n",
    "    x_0s = np.concatenate(x_0s, axis=1).T;\n",
    "    return x_0s\n",
    "def _get_pred_intv(teY_hat, qv):\n",
    "    intvs = np.stack([teY_hat-qv, teY_hat+qv]).T\n",
    "    return merge_intervals(intvs)\n",
    "def _get_metric(v, intvs):\n",
    "    if not isinstance(v, np.ndarray):\n",
    "        v = np.array(v)\n",
    "    in_sets = np.sum([np.bitwise_and(v>intv[0], v<intv[1]) for intv in intvs], axis=0)\n",
    "    intvs_len = np.sum([np.diff(intv) for intv in intvs])\n",
    "    metrics = edict()\n",
    "    metrics.in_sets = in_sets\n",
    "    metrics.intvs_len = intvs_len\n",
    "    return metrics"
   ]
  },
  {
   "cell_type": "code",
   "execution_count": 20,
   "id": "d78f6202-4167-4f98-a78f-70e0ec32838c",
   "metadata": {
    "execution": {
     "iopub.execute_input": "2023-12-18T06:30:37.366397Z",
     "iopub.status.busy": "2023-12-18T06:30:37.365843Z",
     "iopub.status.idle": "2023-12-18T06:30:37.417542Z",
     "shell.execute_reply": "2023-12-18T06:30:37.416363Z",
     "shell.execute_reply.started": "2023-12-18T06:30:37.366338Z"
    },
    "tags": []
   },
   "outputs": [],
   "source": [
    "def _run_fn_quanreg(rep_ix, model_ix=None):\n",
    "    manualSeed = rep_ix\n",
    "    random.seed(manualSeed)\n",
    "    np.random.seed(manualSeed)\n",
    "    torch.manual_seed(manualSeed)\n",
    "    torch.use_deterministic_algorithms(True) # Needed for reproducible results\n",
    "    torch.set_default_dtype(params.dftype)\n",
    "    torch.set_default_device(params.device)\n",
    "    \n",
    "    #beta = np.concatenate([np.random.randn(2), np.zeros(params.simu_setting.d-2)])\n",
    "    #inp = np.random.randn(1) * 10                                \n",
    "    \n",
    "    data_train = get_simu_data(n=params.simu_setting.n, \n",
    "                               d=params.simu_setting.d, \n",
    "                               #beta=beta, \n",
    "                               #inp=inp,\n",
    "                               is_homo=params.simu_setting.is_homo, \n",
    "                               rho=params.simu_setting.rho);\n",
    "    data_test = get_simu_data(n=params.simu_setting.ntest, \n",
    "                               d=params.simu_setting.d, \n",
    "                               #beta=beta, \n",
    "                               #inp=inp,\n",
    "                               is_homo=params.simu_setting.is_homo, \n",
    "                               rho=params.simu_setting.rho);\n",
    "    \n",
    "    cal_idxs, val_idxs, tr_idxs = get_idx_sets(all_idxs=np.where(data_train.T)[0], \n",
    "                                               ratios = [params.simu_setting.cal_ratio, params.simu_setting.val_ratio])\n",
    "        \n",
    "        \n",
    "    # train q(Y(1)|X)\n",
    "    # I skip this for now, suppose you get one\n",
    "    data_train_ddpm = MyDataSet(Y=data_train.Y[tr_idxs], X=data_train.X[tr_idxs])\n",
    "    data_val = edict()\n",
    "    data_val.c =  data_train.X[val_idxs]\n",
    "    data_val.x =  data_train.Y[val_idxs]\n",
    "    \n",
    "    input_params = params.ddpm_training.copy()\n",
    "    input_params.pop(\"n_epoch\")\n",
    "    myddpm = TrainDDPM(data_train_ddpm, save_dir=params.save_dir, verbose=params.verbose, prefix=f\"rep{rep_ix}\", \n",
    "                       device=params.device,\n",
    "                       **input_params);\n",
    "    if model_ix is None:\n",
    "        myddpm.train(n_epoch=params.ddpm_training.n_epoch, \n",
    "                     data_val=data_val, save_snapshot=params.save_snapshot)\n",
    "        ddpm = myddpm.ddpm\n",
    "    elif isinstance(model_ix, str):\n",
    "        ddpm = myddpm.get_opt_model()\n",
    "    elif isinstance(model_ix, int):\n",
    "        ddpm = myddpm.get_model(model_ix)\n",
    "    ddpm.eval()\n",
    "    \n",
    "    ## propensity score\n",
    "    ## I can use all data in train set (including cal set)\n",
    "    #from sklearn.linear_model import LogisticRegression\n",
    "    #clf = LogisticRegression(random_state=0)\n",
    "    #psY = data_train.T.astype(int)\n",
    "    #psX = data_train.X\n",
    "    #clf = clf.fit(psX, psY);\n",
    "    #def psfun(x):\n",
    "    #    if x.ndim == 1:\n",
    "    #        x = x.reshape(1, -1)\n",
    "    #    return clf.predict_proba(x)[:, 1]\n",
    "    #\n",
    "    #\n",
    "    ## weight function\n",
    "    #def wtfun(x):\n",
    "    #    # for unconditional weight\n",
    "    #    return 1/psfun(x)\n",
    "    \n",
    "    # weight function\n",
    "    def wtfun(x):\n",
    "        if x.ndim == 1:\n",
    "            x = x.reshape(1, -1)\n",
    "        # for unconditional weight\n",
    "        return np.ones(x.shape[0])\n",
    "        \n",
    "    # get the weight and nonconformity score for each data point in cal set\n",
    "    x_0s = _gen_Y_given_X(data_train.X[cal_idxs], ddpm, manualSeed)\n",
    "    ws = wtfun(data_train.X[cal_idxs]);\n",
    "    lows, ups = np.quantile(x_0s, [params.hypo_test.alpha/2, 1-params.hypo_test.alpha/2], axis=-1);\n",
    "    Es = np.maximum(lows - data_train.Y1[cal_idxs],  data_train.Y1[cal_idxs]-ups)\n",
    "            \n",
    "    def _run_fn2(te_idx):\n",
    "        torch.set_default_dtype(params.dftype)\n",
    "        teX = data_test.X[te_idx]\n",
    "        teY1 = data_test.Y1[te_idx]\n",
    "        tetau = data_test.tau[te_idx]\n",
    "        \n",
    "        # get qv for current test pt\n",
    "        ws_wtest = np.concatenate([ws, wtfun(teX)]);\n",
    "        Es_winf = np.concatenate([Es, [np.inf]]);\n",
    "        nws_wtest = ws_wtest/ws_wtest.mean();\n",
    "        nws_wtest[nws_wtest<params.wconformal.nwtlow] = params.wconformal.nwtlow\n",
    "        nws_wtest[nws_wtest>params.wconformal.nwthigh] = params.wconformal.nwthigh\n",
    "        # can not take the inf into consider\n",
    "        #qv_cur = weighted_quantile(Es_winf, [1-params.hypo_test.alpha], sample_weight=nws_wtest);\n",
    "        qt = (1 + nws_wtest[-1]/ nws_wtest[:-1].sum()) * (1 - params.hypo_test.alpha)\n",
    "        if qt <= 1:\n",
    "            qv_cur = weighted_quantile(Es, [qt], sample_weight=ws_wtest[:-1])[0];\n",
    "        else:\n",
    "            if params.wconformal.useinf:\n",
    "                qv_cur = np.inf\n",
    "            else:\n",
    "                qv_cur = np.max(Es)\n",
    "        \n",
    "        intvs = np.array([[lows_te[te_idx]-qv_cur, ups_te[te_idx]+qv_cur]])\n",
    "        res = _get_metric([teY1, tetau], intvs)\n",
    "        res[\"qv_cur\"] = qv_cur\n",
    "        res[\"qt\"] = qt\n",
    "        res[\"intvs\"] = intvs\n",
    "        return res\n",
    "        \n",
    "    teYs_hat = _gen_Y_given_X(data_test.X, ddpm, manualSeed);\n",
    "    lows_te, ups_te = np.quantile(teYs_hat, [params.hypo_test.alpha/2, 1-params.hypo_test.alpha/2], axis=-1);\n",
    "    pbar2 = range(params.simu_setting.ntest)\n",
    "    with Parallel(n_jobs=1) as parallel:\n",
    "        test_res = parallel(delayed(_run_fn2)(te_idx) for te_idx in pbar2)\n",
    "        \n",
    "    prbs = np.mean([res['in_sets'] for res in test_res], axis=0)\n",
    "    mlen = np.median([res['intvs_len'] for res in test_res])\n",
    "        \n",
    "        \n",
    "    # results from CQR\n",
    "    CQR_CIs = get_CQR_CIs(X=data_train.X, Y=data_train.Y, \n",
    "                          T=data_train.T, Xtest=data_test.X, \n",
    "                          nav=0, \n",
    "                          alpha=params.hypo_test.alpha, \n",
    "                          estimand=\"nonmissing\",\n",
    "                          fyx_est=\"quantBoosting\", seed=manualSeed)\n",
    "    mlen_cqr = np.median(CQR_CIs[:, 1] -  CQR_CIs[:, 0])\n",
    "    prb_Y1_cqr = np.bitwise_and(data_test.Y1>CQR_CIs[:, 0], data_test.Y1<CQR_CIs[:, 1]).mean()\n",
    "    prb_tau_cqr = np.bitwise_and(data_test.tau>CQR_CIs[:, 0], data_test.tau<CQR_CIs[:, 1]).mean()\n",
    "    \n",
    "    res_all = edict()\n",
    "    res_all.DDPM = (prbs, mlen)\n",
    "    res_all.CQR = ([prb_Y1_cqr, prb_tau_cqr], mlen_cqr)\n",
    "    return res_all, myddpm, test_res, np.abs(x_0s -  data_train.Y1[cal_idxs][:, None])"
   ]
  },
  {
   "cell_type": "code",
   "execution_count": null,
   "id": "dee7b370-164f-4b19-83d2-213a666a8ab4",
   "metadata": {
    "execution": {
     "iopub.execute_input": "2023-12-18T06:30:42.128938Z",
     "iopub.status.busy": "2023-12-18T06:30:42.128349Z"
    },
    "scrolled": true,
    "tags": []
   },
   "outputs": [
    {
     "name": "stderr",
     "output_type": "stream",
     "text": [
      "2023-12-17 22:30:42,164 - ddpm.train_ddpm - INFO - The results are saved at /data/rajlab1/user_data/jin/MyResearch/DG-CITE_paper/notebooks/../mypkg/../results/demo_ddpm_setting3_test.\n",
      "2023-12-17 22:30:42,175 - ddpm.train_ddpm - INFO - The params is {'lr': 0.001, 'batch_size': 256, 'device': 'cpu', 'n_T': 200, 'n_infeat': 128, 'n_upblk': 1, 'n_downblk': 1, 'betas': [0.0001, 0.02], 'drop_prob': 0.1, 'lr_gamma': 0.5, 'lr_step': 1000, 'test_intv': 5, 'weight_decay': 0.01}\n"
     ]
    },
    {
     "name": "stdout",
     "output_type": "stream",
     "text": [
      "The num of params is 0.30m. \n",
      "Adjusting learning rate of group 0 to 1.0000e-03.\n"
     ]
    },
    {
     "name": "stderr",
     "output_type": "stream",
     "text": [
      "loss: 0.7723:   5%|█████▏                                                                                                    | 97/2000 [00:03<01:08, 27.89it/s, val loss=0.889]2023-12-17 22:30:45,794 - ddpm.train_ddpm - INFO - Save model rep20_ddpm_epoch100.pth.\n",
      "loss: 0.6414:  10%|██████████▎                                                                                              | 197/2000 [00:07<00:57, 31.17it/s, val loss=0.506]2023-12-17 22:30:49,180 - ddpm.train_ddpm - INFO - Save model rep20_ddpm_epoch200.pth.\n",
      "loss: 0.5911:  15%|███████████████▋                                                                                         | 298/2000 [00:10<01:00, 28.10it/s, val loss=0.619]2023-12-17 22:30:52,978 - ddpm.train_ddpm - INFO - Save model rep20_ddpm_epoch300.pth.\n",
      "loss: 0.5295:  20%|████████████████████▉                                                                                    | 398/2000 [00:14<00:58, 27.62it/s, val loss=0.478]2023-12-17 22:30:56,619 - ddpm.train_ddpm - INFO - Save model rep20_ddpm_epoch400.pth.\n",
      "loss: 0.5602:  25%|██████████████████████████                                                                               | 497/2000 [00:17<00:48, 30.73it/s, val loss=0.486]2023-12-17 22:31:00,094 - ddpm.train_ddpm - INFO - Save model rep20_ddpm_epoch500.pth.\n",
      "loss: 0.5691:  30%|███████████████████████████████▍                                                                         | 599/2000 [00:21<00:44, 31.17it/s, val loss=0.539]2023-12-17 22:31:03,437 - ddpm.train_ddpm - INFO - Save model rep20_ddpm_epoch600.pth.\n",
      "loss: 0.6243:  35%|████████████████████████████████████▋                                                                    | 699/2000 [00:24<00:40, 32.02it/s, val loss=0.554]2023-12-17 22:31:06,585 - ddpm.train_ddpm - INFO - Save model rep20_ddpm_epoch700.pth.\n",
      "loss: 0.6399:  40%|█████████████████████████████████████████▊                                                               | 797/2000 [00:28<00:51, 23.49it/s, val loss=0.415]2023-12-17 22:31:10,479 - ddpm.train_ddpm - INFO - Save model rep20_ddpm_epoch800.pth.\n",
      "loss: 0.5397:  45%|███████████████████████████████████████████████▏                                                         | 899/2000 [00:32<00:47, 23.22it/s, val loss=0.493]2023-12-17 22:31:14,796 - ddpm.train_ddpm - INFO - Save model rep20_ddpm_epoch900.pth.\n",
      "loss: 0.4892:  50%|████████████████████████████████████████████████████▍                                                    | 998/2000 [00:36<00:43, 23.22it/s, val loss=0.487]2023-12-17 22:31:19,086 - ddpm.train_ddpm - INFO - Save model rep20_ddpm_epoch1000.pth.\n",
      "loss: 0.5020:  50%|████████████████████████████████████████████████████                                                    | 1001/2000 [00:37<00:46, 21.56it/s, val loss=0.487]"
     ]
    },
    {
     "name": "stdout",
     "output_type": "stream",
     "text": [
      "Adjusting learning rate of group 0 to 5.0000e-04.\n"
     ]
    },
    {
     "name": "stderr",
     "output_type": "stream",
     "text": [
      "loss: 0.4798:  51%|████████████████████████████████████████████████████▊                                                   | 1016/2000 [00:37<00:43, 22.62it/s, val loss=0.513]"
     ]
    }
   ],
   "source": [
    "res = _run_fn_quanreg(20, model_ix=None);"
   ]
  },
  {
   "cell_type": "code",
   "execution_count": 16,
   "id": "2138c932-72a8-4246-96bd-4c283e478c07",
   "metadata": {
    "execution": {
     "iopub.execute_input": "2023-12-18T06:28:24.711574Z",
     "iopub.status.busy": "2023-12-18T06:28:24.710969Z",
     "iopub.status.idle": "2023-12-18T06:28:24.835143Z",
     "shell.execute_reply": "2023-12-18T06:28:24.834145Z",
     "shell.execute_reply.started": "2023-12-18T06:28:24.711523Z"
    },
    "tags": []
   },
   "outputs": [
    {
     "name": "stdout",
     "output_type": "stream",
     "text": [
      "{'DDPM': [array([0.908, 1.   ]), 3.148301667988512], 'CQR': [[0.953, 0.999], 4.272026848824831]}\n"
     ]
    },
    {
     "data": {
      "text/plain": [
       "<ddpm.train_ddpm.TrainDDPM at 0x7f5f5929ecd0>"
      ]
     },
     "execution_count": 16,
     "metadata": {},
     "output_type": "execute_result"
    }
   ],
   "source": [
    "print(res[0])\n",
    "myddpm = res[1]"
   ]
  },
  {
   "cell_type": "code",
   "execution_count": 13,
   "id": "6f423688-ed69-4a2e-b711-02aa5f8f0248",
   "metadata": {
    "execution": {
     "iopub.execute_input": "2023-12-18T06:26:54.840732Z",
     "iopub.status.busy": "2023-12-18T06:26:54.840102Z",
     "iopub.status.idle": "2023-12-18T06:26:54.999722Z",
     "shell.execute_reply": "2023-12-18T06:26:54.997848Z",
     "shell.execute_reply.started": "2023-12-18T06:26:54.840682Z"
    },
    "tags": []
   },
   "outputs": [
    {
     "data": {
      "text/plain": [
       "[<matplotlib.lines.Line2D at 0x7f5f5acc8a90>]"
      ]
     },
     "execution_count": 13,
     "metadata": {},
     "output_type": "execute_result"
    },
    {
     "data": {
      "image/png": "[encoded data removed]",
      "text/plain": [
       "<Figure size 1000x500 with 1 Axes>"
      ]
     },
     "metadata": {
      "needs_background": "light"
     },
     "output_type": "display_data"
    }
   ],
   "source": [
    "eps = np.array(myddpm.losses)[:, 0]\n",
    "loss = np.array(myddpm.losses)[:, 1]\n",
    "eps_val = np.array(myddpm.losses_val)[:, 0]\n",
    "loss_val = np.array(myddpm.losses_val)[:, 1];\n",
    "plt.plot(eps, loss)\n",
    "plt.plot(eps_val, loss_val)"
   ]
  },
  {
   "cell_type": "markdown",
   "id": "ef54f9d2-2685-4fd0-8842-ea89930ea690",
   "metadata": {},
   "source": [
    "# evaluate"
   ]
  },
  {
   "cell_type": "code",
   "execution_count": null,
   "id": "585f4360-a6ca-49da-82ad-e2ab5a477122",
   "metadata": {},
   "outputs": [],
   "source": []
  },
  {
   "cell_type": "code",
   "execution_count": 27,
   "id": "3120112a-4937-4de3-903f-11dff9d3dd4a",
   "metadata": {
    "execution": {
     "iopub.execute_input": "2023-12-17T23:49:40.059707Z",
     "iopub.status.busy": "2023-12-17T23:49:40.059065Z",
     "iopub.status.idle": "2023-12-17T23:49:40.104961Z",
     "shell.execute_reply": "2023-12-17T23:49:40.104223Z",
     "shell.execute_reply.started": "2023-12-17T23:49:40.059656Z"
    },
    "tags": []
   },
   "outputs": [],
   "source": [
    "ddpm = myddpm.ddpm;"
   ]
  },
  {
   "cell_type": "markdown",
   "id": "f6502568-9e9b-4765-8a4d-0572126fe506",
   "metadata": {},
   "source": [
    "## ON test set"
   ]
  },
  {
   "cell_type": "code",
   "execution_count": 28,
   "id": "59b7dfcf-6e8f-40bf-a498-8ae510ad35d5",
   "metadata": {
    "execution": {
     "iopub.execute_input": "2023-12-17T23:49:41.019573Z",
     "iopub.status.busy": "2023-12-17T23:49:41.018907Z",
     "iopub.status.idle": "2023-12-17T23:49:41.057143Z",
     "shell.execute_reply": "2023-12-17T23:49:41.056142Z",
     "shell.execute_reply.started": "2023-12-17T23:49:41.019527Z"
    },
    "tags": []
   },
   "outputs": [],
   "source": [
    "data_test = get_simu_data(n=params.simu_setting.ntest, \n",
    "                               d=params.simu_setting.d, \n",
    "                               #beta=beta, \n",
    "                               #inp=inp,\n",
    "                               is_homo=params.simu_setting.is_homo, \n",
    "                               rho=params.simu_setting.rho);"
   ]
  },
  {
   "cell_type": "code",
   "execution_count": 29,
   "id": "9dfac65e-1091-4995-af27-b80b3c993747",
   "metadata": {
    "execution": {
     "iopub.execute_input": "2023-12-17T23:49:42.502708Z",
     "iopub.status.busy": "2023-12-17T23:49:42.502032Z",
     "iopub.status.idle": "2023-12-17T23:49:42.537916Z",
     "shell.execute_reply": "2023-12-17T23:49:42.537195Z",
     "shell.execute_reply.started": "2023-12-17T23:49:42.502660Z"
    },
    "tags": []
   },
   "outputs": [],
   "source": [
    "tX = torch.tensor(data_test.X);\n",
    "c = tX.type(params.dftype);"
   ]
  },
  {
   "cell_type": "code",
   "execution_count": 30,
   "id": "fe477e92-0972-4e32-84fd-b216a35fa73e",
   "metadata": {
    "execution": {
     "iopub.execute_input": "2023-12-17T23:49:43.000093Z",
     "iopub.status.busy": "2023-12-17T23:49:42.999519Z",
     "iopub.status.idle": "2023-12-17T23:49:43.846737Z",
     "shell.execute_reply": "2023-12-17T23:49:43.846282Z",
     "shell.execute_reply.started": "2023-12-17T23:49:43.000050Z"
    },
    "tags": []
   },
   "outputs": [],
   "source": [
    "ddpm.eval()\n",
    "with torch.no_grad():\n",
    "    x_i, x_is = ddpm.sample(c, device=\"cpu\", guide_w=2, is_store=False);"
   ]
  },
  {
   "cell_type": "code",
   "execution_count": 31,
   "id": "73359ab7-4b8a-4a60-a70f-8d8318a700da",
   "metadata": {
    "execution": {
     "iopub.execute_input": "2023-12-17T23:49:44.553054Z",
     "iopub.status.busy": "2023-12-17T23:49:44.552487Z",
     "iopub.status.idle": "2023-12-17T23:49:44.685225Z",
     "shell.execute_reply": "2023-12-17T23:49:44.684777Z",
     "shell.execute_reply.started": "2023-12-17T23:49:44.553009Z"
    },
    "tags": []
   },
   "outputs": [
    {
     "data": {
      "text/plain": [
       "(-10.0, 10.0)"
      ]
     },
     "execution_count": 31,
     "metadata": {},
     "output_type": "execute_result"
    },
    {
     "data": {
      "image/png": "[encoded data removed]",
      "text/plain": [
       "<Figure size 1000x500 with 1 Axes>"
      ]
     },
     "metadata": {
      "needs_background": "light"
     },
     "output_type": "display_data"
    }
   ],
   "source": [
    "predx0 = x_i.reshape(-1).numpy();\n",
    "x0 = data_test.Y1;\n",
    "plt.plot(x0, predx0, \".\")\n",
    "xx = np.linspace(-10, 10, 100)\n",
    "yy = xx\n",
    "plt.plot(xx, yy)\n",
    "plt.xlim([-10, 10])\n",
    "plt.ylim([-10, 10])"
   ]
  },
  {
   "cell_type": "code",
   "execution_count": null,
   "id": "2b7ea994-bab9-42d0-8bf9-f2b685574b27",
   "metadata": {},
   "outputs": [],
   "source": []
  },
  {
   "cell_type": "markdown",
   "id": "48020217-0f57-4973-8db7-46373d2d2ef5",
   "metadata": {},
   "source": [
    "## Given X"
   ]
  },
  {
   "cell_type": "code",
   "execution_count": 41,
   "id": "f229a6f5-f822-4cf7-89c1-03107475d835",
   "metadata": {
    "execution": {
     "iopub.execute_input": "2023-12-17T23:50:09.036546Z",
     "iopub.status.busy": "2023-12-17T23:50:09.035583Z",
     "iopub.status.idle": "2023-12-17T23:50:09.075628Z",
     "shell.execute_reply": "2023-12-17T23:50:09.074826Z",
     "shell.execute_reply.started": "2023-12-17T23:50:09.036465Z"
    },
    "tags": []
   },
   "outputs": [],
   "source": [
    "datatest_con = get_simu_data(n=params.simu_setting.ntest, \n",
    "                               d=params.simu_setting.d, \n",
    "                               is_homo=params.simu_setting.is_homo, \n",
    "                               rho=params.simu_setting.rho, \n",
    "                               is_condition=True);\n",
    "tX_con = torch.tensor(datatest_con.X);\n",
    "c = tX_con.type(params.dftype);"
   ]
  },
  {
   "cell_type": "code",
   "execution_count": 42,
   "id": "9020f7f9-68e4-474b-a26c-1cfa3c004712",
   "metadata": {
    "execution": {
     "iopub.execute_input": "2023-12-17T23:50:09.306024Z",
     "iopub.status.busy": "2023-12-17T23:50:09.305528Z",
     "iopub.status.idle": "2023-12-17T23:50:10.182650Z",
     "shell.execute_reply": "2023-12-17T23:50:10.182182Z",
     "shell.execute_reply.started": "2023-12-17T23:50:09.305982Z"
    },
    "tags": []
   },
   "outputs": [],
   "source": [
    "ddpm.eval()\n",
    "with torch.no_grad():\n",
    "    x_i, x_is = ddpm.sample(c, device=\"cpu\", guide_w=0);"
   ]
  },
  {
   "cell_type": "code",
   "execution_count": 43,
   "id": "d4168093-393a-45e7-bbb4-752e3f4b87c6",
   "metadata": {
    "execution": {
     "iopub.execute_input": "2023-12-17T23:50:10.183586Z",
     "iopub.status.busy": "2023-12-17T23:50:10.183379Z",
     "iopub.status.idle": "2023-12-17T23:50:10.460346Z",
     "shell.execute_reply": "2023-12-17T23:50:10.459924Z",
     "shell.execute_reply.started": "2023-12-17T23:50:10.183571Z"
    },
    "tags": []
   },
   "outputs": [
    {
     "data": {
      "text/plain": [
       "(-5.0, 10.0)"
      ]
     },
     "execution_count": 43,
     "metadata": {},
     "output_type": "execute_result"
    },
    {
     "data": {
      "image/png": "[encoded data removed]",
      "text/plain": [
       "<Figure size 1000x500 with 1 Axes>"
      ]
     },
     "metadata": {
      "needs_background": "light"
     },
     "output_type": "display_data"
    }
   ],
   "source": [
    "predx0 = x_i.reshape(-1).numpy();\n",
    "x0 = datatest_con.Y1;\n",
    "x_is = x_is.squeeze();\n",
    "for idx in range(x_is.shape[0]):\n",
    "    sns.kdeplot(x_is[idx])\n",
    "sns.kdeplot(x0, color=\"black\", lw=4, label=\"obs\")\n",
    "sns.kdeplot(predx0, color=\"green\", lw=4, label=\"pred\")\n",
    "plt.legend()\n",
    "plt.xlim([-5, 10])"
   ]
  },
  {
   "cell_type": "code",
   "execution_count": null,
   "id": "b9f376bf-3f54-44e9-9af2-c1efca5f62ef",
   "metadata": {},
   "outputs": [],
   "source": []
  },
  {
   "cell_type": "markdown",
   "id": "d4761eb3-0e09-4e30-887b-ad353dd46e85",
   "metadata": {},
   "source": [
    "# bak"
   ]
  },
  {
   "cell_type": "code",
   "execution_count": null,
   "id": "6e30b424-516b-42f8-89ad-871b22e9a2f5",
   "metadata": {},
   "outputs": [],
   "source": []
  },
  {
   "cell_type": "code",
   "execution_count": 9,
   "id": "a4d18761-b351-4042-bb75-801a65d85e10",
   "metadata": {
    "execution": {
     "iopub.execute_input": "2023-12-18T01:06:11.530570Z",
     "iopub.status.busy": "2023-12-18T01:06:11.529939Z",
     "iopub.status.idle": "2023-12-18T01:06:11.580813Z",
     "shell.execute_reply": "2023-12-18T01:06:11.580167Z",
     "shell.execute_reply.started": "2023-12-18T01:06:11.530520Z"
    },
    "tags": []
   },
   "outputs": [],
   "source": [
    "def _run_fn_PCP(rep_ix):\n",
    "    manualSeed = rep_ix\n",
    "    random.seed(manualSeed)\n",
    "    np.random.seed(manualSeed)\n",
    "    torch.manual_seed(manualSeed)\n",
    "    torch.use_deterministic_algorithms(True) # Needed for reproducible results\n",
    "    torch.set_default_dtype(params.dftype)\n",
    "    torch.set_default_device(params.device)\n",
    "    \n",
    "    #beta = np.concatenate([np.random.randn(2), np.zeros(params.simu_setting.d-2)])\n",
    "    #inp = np.random.randn(1) * 10                                \n",
    "    \n",
    "    data_train = get_simu_data(n=params.simu_setting.n, \n",
    "                               d=params.simu_setting.d, \n",
    "                               #beta=beta, \n",
    "                               #inp=inp,\n",
    "                               is_homo=params.simu_setting.is_homo, \n",
    "                               rho=params.simu_setting.rho);\n",
    "    data_test = get_simu_data(n=params.simu_setting.ntest, \n",
    "                               d=params.simu_setting.d, \n",
    "                               #beta=beta, \n",
    "                               #inp=inp,\n",
    "                               is_homo=params.simu_setting.is_homo, \n",
    "                               rho=params.simu_setting.rho);\n",
    "    \n",
    "    cal_idxs, val_idxs, tr_idxs = get_idx_sets(all_idxs=np.where(data_train.T)[0], \n",
    "                                               ratios = [params.simu_setting.cal_ratio, params.simu_setting.val_ratio])\n",
    "        \n",
    "        \n",
    "    # train q(Y(1)|X)\n",
    "    # I skip this for now, suppose you get one\n",
    "    data_train_ddpm = MyDataSet(Y=data_train.Y[tr_idxs], X=data_train.X[tr_idxs])\n",
    "    data_val = edict()\n",
    "    data_val.c =  data_train.X[val_idxs]\n",
    "    data_val.x =  data_train.Y[val_idxs]\n",
    "    \n",
    "    input_params = params.ddpm_training.copy()\n",
    "    input_params.pop(\"n_epoch\")\n",
    "    myddpm = TrainDDPM(data_train_ddpm, save_dir=params.save_dir, verbose=params.verbose, prefix=f\"rep{rep_ix}\", \n",
    "                       device=params.device,\n",
    "                       **input_params);\n",
    "    #myddpm.train(n_epoch=params.ddpm_training.n_epoch, \n",
    "    #             data_val=data_val, save_snapshot=params.save_snapshot)\n",
    "    ddpm = myddpm.ddpm\n",
    "    #ddpm = myddpm.get_opt_model()\n",
    "    ddpm = myddpm.get_model(500)\n",
    "    ddpm.eval()\n",
    "    \n",
    "    ## propensity score\n",
    "    ## I can use all data in train set (including cal set)\n",
    "    #from sklearn.linear_model import LogisticRegression\n",
    "    #clf = LogisticRegression(random_state=0)\n",
    "    #psY = data_train.T.astype(int)\n",
    "    #psX = data_train.X\n",
    "    #clf = clf.fit(psX, psY);\n",
    "    #def psfun(x):\n",
    "    #    if x.ndim == 1:\n",
    "    #        x = x.reshape(1, -1)\n",
    "    #    return clf.predict_proba(x)[:, 1]\n",
    "    #\n",
    "    #\n",
    "    ## weight function\n",
    "    #def wtfun(x):\n",
    "    #    # for unconditional weight\n",
    "    #    return 1/psfun(x)\n",
    "    \n",
    "    # weight function\n",
    "    def wtfun(x):\n",
    "        if x.ndim == 1:\n",
    "            x = x.reshape(1, -1)\n",
    "        # for unconditional weight\n",
    "        return np.ones(x.shape[0])\n",
    "        \n",
    "    # get the weight and nonconformity score for each data point in cal set\n",
    "    x_0s = _gen_Y_given_X(data_train.X[cal_idxs], ddpm, manualSeed)\n",
    "    ws = wtfun(data_train.X[cal_idxs]);\n",
    "    Es = np.abs(x_0s -  data_train.Y1[cal_idxs][:, None]).min(axis=1);\n",
    "            \n",
    "    def _run_fn2(te_idx):\n",
    "        torch.set_default_dtype(params.dftype)\n",
    "        teX = data_test.X[te_idx]\n",
    "        teY1 = data_test.Y1[te_idx]\n",
    "        tetau = data_test.tau[te_idx]\n",
    "        \n",
    "        # get qv for current test pt\n",
    "        ws_wtest = np.concatenate([ws, wtfun(teX)]);\n",
    "        Es_winf = np.concatenate([Es, [np.inf]]);\n",
    "        nws_wtest = ws_wtest/ws_wtest.mean();\n",
    "        nws_wtest[nws_wtest<params.wconformal.nwtlow] = params.wconformal.nwtlow\n",
    "        nws_wtest[nws_wtest>params.wconformal.nwthigh] = params.wconformal.nwthigh\n",
    "        # can not take the inf into consider\n",
    "        #qv_cur = weighted_quantile(Es_winf, [1-params.hypo_test.alpha], sample_weight=nws_wtest);\n",
    "        qt = (1 + nws_wtest[-1]/ nws_wtest[:-1].sum()) * (1 - params.hypo_test.alpha)\n",
    "        if qt <= 1:\n",
    "            qv_cur = weighted_quantile(Es, [qt], sample_weight=ws_wtest[:-1]);\n",
    "        else:\n",
    "            if params.wconformal.useinf:\n",
    "                qv_cur = np.inf\n",
    "            else:\n",
    "                qv_cur = np.max(Es)\n",
    "        \n",
    "        intvs = _get_pred_intv(teYs_hat[te_idx], qv_cur)\n",
    "        res = _get_metric([teY1, tetau], intvs)\n",
    "        res[\"qv_cur\"] = qv_cur\n",
    "        res[\"qt\"] = qt\n",
    "        res[\"intvs\"] = intvs\n",
    "        return res\n",
    "        \n",
    "    teYs_hat = _gen_Y_given_X(data_test.X, ddpm, manualSeed);\n",
    "    pbar2 = range(params.simu_setting.ntest)\n",
    "    with Parallel(n_jobs=1) as parallel:\n",
    "        test_res = parallel(delayed(_run_fn2)(te_idx) for te_idx in pbar2)\n",
    "        \n",
    "    prbs = np.mean([res['in_sets'] for res in test_res], axis=0)\n",
    "    mlen = np.median([res['intvs_len'] for res in test_res])\n",
    "        \n",
    "        \n",
    "    # results from CQR\n",
    "    CQR_CIs = get_CQR_CIs(X=data_train.X, Y=data_train.Y, \n",
    "                          T=data_train.T, Xtest=data_test.X, \n",
    "                          nav=0, \n",
    "                          alpha=params.hypo_test.alpha, \n",
    "                          estimand=\"nonmissing\",\n",
    "                          fyx_est=\"quantBoosting\", seed=manualSeed)\n",
    "    mlen_cqr = np.median(CQR_CIs[:, 1] -  CQR_CIs[:, 0])\n",
    "    prb_Y1_cqr = np.bitwise_and(data_test.Y1>CQR_CIs[:, 0], data_test.Y1<CQR_CIs[:, 1]).mean()\n",
    "    prb_tau_cqr = np.bitwise_and(data_test.tau>CQR_CIs[:, 0], data_test.tau<CQR_CIs[:, 1]).mean()\n",
    "    \n",
    "    res_all = edict()\n",
    "    res_all.DDPM = (prbs, mlen)\n",
    "    res_all.CQR = ([prb_Y1_cqr, prb_tau_cqr], mlen_cqr)\n",
    "    return res_all, myddpm, test_res, np.abs(x_0s -  data_train.Y1[cal_idxs][:, None])"
   ]
  },
  {
   "cell_type": "code",
   "execution_count": 25,
   "id": "f0f6fc11-8527-47c5-9301-d0229ebd7cf8",
   "metadata": {
    "execution": {
     "iopub.execute_input": "2023-12-17T23:37:08.920335Z",
     "iopub.status.busy": "2023-12-17T23:37:08.919706Z",
     "iopub.status.idle": "2023-12-17T23:37:09.050801Z",
     "shell.execute_reply": "2023-12-17T23:37:09.049469Z",
     "shell.execute_reply.started": "2023-12-17T23:37:08.920287Z"
    },
    "tags": []
   },
   "outputs": [],
   "source": [
    "def _run_fn_naive_quan(rep_ix):\n",
    "    manualSeed = rep_ix\n",
    "    random.seed(manualSeed)\n",
    "    np.random.seed(manualSeed)\n",
    "    torch.manual_seed(manualSeed)\n",
    "    torch.use_deterministic_algorithms(True) # Needed for reproducible results\n",
    "    torch.set_default_dtype(params.dftype)\n",
    "    torch.set_default_device(params.device)\n",
    "    \n",
    "    #beta = np.concatenate([np.random.randn(2), np.zeros(params.simu_setting.d-2)])\n",
    "    #inp = np.random.randn(1) * 10                                \n",
    "    \n",
    "    data_train = get_simu_data(n=params.simu_setting.n, \n",
    "                               d=params.simu_setting.d, \n",
    "                               #beta=beta, \n",
    "                               #inp=inp,\n",
    "                               is_homo=params.simu_setting.is_homo, \n",
    "                               rho=params.simu_setting.rho);\n",
    "    data_test = get_simu_data(n=params.simu_setting.ntest, \n",
    "                               d=params.simu_setting.d, \n",
    "                               #beta=beta, \n",
    "                               #inp=inp,\n",
    "                               is_homo=params.simu_setting.is_homo, \n",
    "                               rho=params.simu_setting.rho);\n",
    "    \n",
    "    cal_idxs, val_idxs, tr_idxs = get_idx_sets(all_idxs=np.where(data_train.T)[0], \n",
    "                                               ratios = [params.simu_setting.cal_ratio, params.simu_setting.val_ratio])\n",
    "        \n",
    "        \n",
    "    # train q(Y(1)|X)\n",
    "    # I skip this for now, suppose you get one\n",
    "    data_train_ddpm = MyDataSet(Y=data_train.Y[tr_idxs], X=data_train.X[tr_idxs])\n",
    "    data_val = edict()\n",
    "    data_val.c =  data_train.X[val_idxs]\n",
    "    data_val.x =  data_train.Y[val_idxs]\n",
    "    \n",
    "    input_params = params.ddpm_training.copy()\n",
    "    input_params.pop(\"n_epoch\")\n",
    "    myddpm = TrainDDPM(data_train_ddpm, save_dir=params.save_dir, verbose=params.verbose, prefix=f\"rep{rep_ix}\", \n",
    "                       device=params.device,\n",
    "                       **input_params);\n",
    "    myddpm.train(n_epoch=params.ddpm_training.n_epoch, \n",
    "                 data_val=data_val, save_snapshot=params.save_snapshot)\n",
    "    ddpm = myddpm.ddpm\n",
    "    #ddpm = myddpm.get_opt_model()\n",
    "    #ddpm = myddpm.get_model(1000)\n",
    "    ddpm.eval()\n",
    "    \n",
    "    teYs_hat = _gen_Y_given_X(data_test.X, ddpm, manualSeed);\n",
    "    lows, ups = np.quantile(teYs_hat, [params.hypo_test.alpha/2, 1-params.hypo_test.alpha/2], axis=-1);\n",
    "    prb_Y1 = np.bitwise_and(data_test.Y1>lows, data_test.Y1<ups).mean()\n",
    "    prb_tau = np.bitwise_and(data_test.tau>lows, data_test.tau<ups).mean()\n",
    "    mlen = np.mean(ups-lows)\n",
    "        \n",
    "        \n",
    "    # results from CQR\n",
    "    CQR_CIs = get_CQR_CIs(X=data_train.X, Y=data_train.Y, \n",
    "                          T=data_train.T, Xtest=data_test.X, \n",
    "                          nav=0, \n",
    "                          alpha=params.hypo_test.alpha, \n",
    "                          estimand=\"nonmissing\",\n",
    "                          fyx_est=\"quantBoosting\", seed=manualSeed)\n",
    "    mlen_cqr = np.mean(CQR_CIs[:, 1] -  CQR_CIs[:, 0])\n",
    "    prb_Y1_cqr = np.bitwise_and(data_test.Y1>CQR_CIs[:, 0], data_test.Y1<CQR_CIs[:, 1]).mean()\n",
    "    prb_tau_cqr = np.bitwise_and(data_test.tau>CQR_CIs[:, 0], data_test.tau<CQR_CIs[:, 1]).mean()\n",
    "    \n",
    "    res_all = edict()\n",
    "    res_all.DDPM = ([prb_Y1, prb_tau], mlen)\n",
    "    res_all.CQR = ([prb_Y1_cqr, prb_tau_cqr], mlen_cqr)\n",
    "    return res_all, myddpm"
   ]
  },
  {
   "cell_type": "code",
   "execution_count": null,
   "id": "52af6471-ac72-4757-bd4b-48a02c6efb91",
   "metadata": {},
   "outputs": [],
   "source": []
  }
 ],
 "metadata": {
  "kernelspec": {
   "display_name": "Python 3 (ipykernel)",
   "language": "python",
   "name": "python3"
  },
  "language_info": {
   "codemirror_mode": {
    "name": "ipython",
    "version": 3
   },
   "file_extension": ".py",
   "mimetype": "text/x-python",
   "name": "python",
   "nbconvert_exporter": "python",
   "pygments_lexer": "ipython3",
   "version": "3.9.7"
  },
  "toc-autonumbering": true
 },
 "nbformat": 4,
 "nbformat_minor": 5
}
