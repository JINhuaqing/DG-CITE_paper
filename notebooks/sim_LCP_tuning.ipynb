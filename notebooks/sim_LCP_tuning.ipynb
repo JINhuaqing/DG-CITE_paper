{
 "cells": [
  {
   "cell_type": "raw",
   "id": "a40a1bf3-230e-4ead-b550-d932c5a78398",
   "metadata": {},
   "source": [
    "This notebook is to test using linear model to get CI for our task"
   ]
  },
  {
   "cell_type": "code",
   "execution_count": 1,
   "id": "7be37593-bf50-4fc1-b617-ff93ca3fb707",
   "metadata": {
    "execution": {
     "iopub.execute_input": "2024-03-14T07:36:12.759533Z",
     "iopub.status.busy": "2024-03-14T07:36:12.758728Z",
     "iopub.status.idle": "2024-03-14T07:36:12.775511Z",
     "shell.execute_reply": "2024-03-14T07:36:12.773998Z",
     "shell.execute_reply.started": "2024-03-14T07:36:12.759483Z"
    },
    "tags": []
   },
   "outputs": [],
   "source": [
    "import sys\n",
    "sys.path.append(\"../mypkg\")"
   ]
  },
  {
   "cell_type": "code",
   "execution_count": 2,
   "id": "ad8d569b-0412-47de-a9bf-2bbbfde7e943",
   "metadata": {
    "execution": {
     "iopub.execute_input": "2024-03-14T07:36:12.777732Z",
     "iopub.status.busy": "2024-03-14T07:36:12.777041Z",
     "iopub.status.idle": "2024-03-14T07:36:15.066941Z",
     "shell.execute_reply": "2024-03-14T07:36:15.066235Z",
     "shell.execute_reply.started": "2024-03-14T07:36:12.777685Z"
    },
    "tags": []
   },
   "outputs": [],
   "source": [
    "from constants import RES_ROOT, FIG_ROOT, DATA_ROOT\n",
    "from utils.misc import load_pkl, save_pkl, merge_intervals\n",
    "from utils.colors import qual_cmap\n",
    "from lwci_tmp import LocalConformalInference"
   ]
  },
  {
   "cell_type": "code",
   "execution_count": 3,
   "id": "f1775f04-ea35-40dc-90e8-61a284a9daf2",
   "metadata": {
    "execution": {
     "iopub.execute_input": "2024-03-14T07:36:15.069488Z",
     "iopub.status.busy": "2024-03-14T07:36:15.069122Z",
     "iopub.status.idle": "2024-03-14T07:36:15.089355Z",
     "shell.execute_reply": "2024-03-14T07:36:15.088393Z",
     "shell.execute_reply.started": "2024-03-14T07:36:15.069469Z"
    },
    "tags": []
   },
   "outputs": [],
   "source": [
    "%load_ext autoreload\n",
    "%autoreload 2\n",
    "# 0,1, 2, 3, be careful about the space"
   ]
  },
  {
   "cell_type": "code",
   "execution_count": 4,
   "id": "a42be2f3-7ab7-4f69-98eb-27ae79905c93",
   "metadata": {
    "execution": {
     "iopub.execute_input": "2024-03-14T07:36:15.090210Z",
     "iopub.status.busy": "2024-03-14T07:36:15.090061Z",
     "iopub.status.idle": "2024-03-14T07:36:15.461797Z",
     "shell.execute_reply": "2024-03-14T07:36:15.460631Z",
     "shell.execute_reply.started": "2024-03-14T07:36:15.090198Z"
    },
    "tags": []
   },
   "outputs": [],
   "source": [
    "import torch\n",
    "import scipy.stats as ss\n",
    "import numpy as np\n",
    "from easydict import EasyDict as edict\n",
    "import matplotlib.pyplot as plt\n",
    "import seaborn as sns\n",
    "from collections import defaultdict as ddict\n",
    "from tqdm import tqdm, trange\n",
    "import random\n",
    "from joblib import Parallel, delayed\n",
    "import pandas as pd\n",
    "from pprint import pprint\n",
    "from copy import deepcopy\n",
    "from sklearn.linear_model import LinearRegression\n",
    "plt.style.use(FIG_ROOT/\"base.mplstyle\")"
   ]
  },
  {
   "cell_type": "markdown",
   "id": "5f1daada-ca8c-4a09-84f5-dfe6c045008d",
   "metadata": {},
   "source": [
    "# Params"
   ]
  },
  {
   "cell_type": "code",
   "execution_count": 131,
   "id": "71567c5e-1980-4c95-95d0-a64ff0fb7ec6",
   "metadata": {
    "execution": {
     "iopub.execute_input": "2024-03-14T09:06:19.022568Z",
     "iopub.status.busy": "2024-03-14T09:06:19.022040Z",
     "iopub.status.idle": "2024-03-14T09:06:19.444650Z",
     "shell.execute_reply": "2024-03-14T09:06:19.443610Z",
     "shell.execute_reply.started": "2024-03-14T09:06:19.022524Z"
    },
    "tags": []
   },
   "outputs": [],
   "source": [
    "\n",
    "\n",
    "def get_simple_data(n, d):\n",
    "    mean = np.zeros(d)  # mean vector\n",
    "    cov = np.eye(d)  # identity covariance matrix\n",
    "    \n",
    "    # Generate samples\n",
    "    X = np.random.multivariate_normal(mean, cov, n)\n",
    "    \n",
    "    Y_mean = X @ (np.ones(d)/d * 0.5)\n",
    "    Y_sigma = np.sqrt(np.abs(np.sin(X)) @ np.ones(d))\n",
    "    Y = np.random.randn(n) * Y_sigma + Y_mean\n",
    "    return X, Y\n",
    "\n",
    "def _get_res(Xtest, Ytest, lci, h=0.1):\n",
    "    alpha = 0.1\n",
    "    def _inner_fn(tmpX, tmpY):\n",
    "        lci.add_data(tmpX)\n",
    "        if h <= 0:\n",
    "            intvs = lci(alpha=alpha);\n",
    "        else:\n",
    "            intvs = lci(local_method=\"g-rlcp\", alpha=alpha, lm_params={\"h\":h});\n",
    "        intvs = np.array(intvs);\n",
    "        prbs = np.bitwise_and(tmpY<= intvs[:, 1], tmpY>=intvs[:, 0]).mean()\n",
    "        mlen = np.mean(intvs[:, 1] - intvs[:, 0])\n",
    "        return (prbs, mlen)\n",
    "    d = Xtest.shape[1]\n",
    "    Xtest_norm = np.linalg.norm(Xtest, axis=1)\n",
    "    tau_d = np.sqrt(d * (1-2/9/d)**3)\n",
    "    \n",
    "    kpidx1 = Xtest_norm <= tau_d\n",
    "    kpidx2 = Xtest_norm > tau_d\n",
    "    res = []\n",
    "    res.append(_inner_fn(Xtest, Ytest))\n",
    "    res.append(_inner_fn(Xtest[kpidx1], Ytest[kpidx1]))\n",
    "    res.append(_inner_fn(Xtest[kpidx2], Ytest[kpidx2]))\n",
    "    res = np.array(res)\n",
    "    res_df = {\n",
    "       \"data\": [\"all\", \"set1\", \"set1c\"], \n",
    "       \"prb\": res[:, 0], \n",
    "       \"len\": res[:, 1], \n",
    "    }\n",
    "    return pd.DataFrame(res_df)\n",
    "    \n"
   ]
  },
  {
   "cell_type": "code",
   "execution_count": 151,
   "id": "f5754cad-611b-4897-9ff0-e847ce3b8340",
   "metadata": {
    "execution": {
     "iopub.execute_input": "2024-03-14T09:22:28.984450Z",
     "iopub.status.busy": "2024-03-14T09:22:28.983845Z",
     "iopub.status.idle": "2024-03-14T09:22:29.029934Z",
     "shell.execute_reply": "2024-03-14T09:22:29.029248Z",
     "shell.execute_reply.started": "2024-03-14T09:22:28.984403Z"
    },
    "tags": []
   },
   "outputs": [],
   "source": [
    "from lwci_tmp import log_norm_kernel\n",
    "from torch.distributions.multivariate_normal import MultivariateNormal\n",
    "h = 1.5\n",
    "d = 40\n",
    "n = 1000\n",
    "cov_mat = torch.eye(d)*h*h\n",
    "sps = MultivariateNormal(loc=torch.zeros(d), \n",
    "                         covariance_matrix=torch.eye(d)*1*1).sample((n, ))\n",
    "sps1 = MultivariateNormal(loc=torch.zeros(d), \n",
    "                         covariance_matrix=torch.eye(d)*1*1).sample((n, ))\n",
    "sps2 = MultivariateNormal(loc=torch.zeros(d), \n",
    "                         covariance_matrix=cov_mat).sample((n, ));"
   ]
  },
  {
   "cell_type": "code",
   "execution_count": 153,
   "id": "9b5b51c6-f150-4a02-be0e-2d83b8bb8f4f",
   "metadata": {
    "execution": {
     "iopub.execute_input": "2024-03-14T09:22:41.407113Z",
     "iopub.status.busy": "2024-03-14T09:22:41.406497Z",
     "iopub.status.idle": "2024-03-14T09:22:41.525443Z",
     "shell.execute_reply": "2024-03-14T09:22:41.524657Z",
     "shell.execute_reply.started": "2024-03-14T09:22:41.407063Z"
    },
    "tags": []
   },
   "outputs": [
    {
     "data": {
      "text/plain": [
       "tensor([[-45.9995, -44.8835, -32.8726,  ..., -48.9654, -40.8461, -48.9219],\n",
       "        [-27.5452, -33.3539, -26.4790,  ..., -32.5189, -32.4895, -29.4106],\n",
       "        [-38.8708, -32.4052, -31.4784,  ..., -50.3679, -47.2340, -30.7887],\n",
       "        ...,\n",
       "        [-38.3905, -38.5756, -31.6727,  ..., -38.7988, -39.1665, -48.4433],\n",
       "        [-42.8422, -52.7812, -56.8166,  ..., -47.7759, -44.8852, -49.5535],\n",
       "        [-44.7865, -46.1495, -51.4711,  ..., -47.8504, -58.3426, -40.2554]])"
      ]
     },
     "execution_count": 153,
     "metadata": {},
     "output_type": "execute_result"
    }
   ],
   "source": [
    "log_norm_kernel(sps, sps1+sps2, h=1.5)"
   ]
  },
  {
   "cell_type": "code",
   "execution_count": 156,
   "id": "d0751d2c-f574-4847-96cc-6c162549408a",
   "metadata": {
    "execution": {
     "iopub.execute_input": "2024-03-14T09:24:48.364244Z",
     "iopub.status.busy": "2024-03-14T09:24:48.363635Z",
     "iopub.status.idle": "2024-03-14T09:24:48.467802Z",
     "shell.execute_reply": "2024-03-14T09:24:48.466666Z",
     "shell.execute_reply.started": "2024-03-14T09:24:48.364197Z"
    },
    "tags": []
   },
   "outputs": [],
   "source": [
    "log_norm_kernel(sps1, sps1+sps2, vec=True, h=1.5);"
   ]
  },
  {
   "cell_type": "code",
   "execution_count": 157,
   "id": "34b8b00f-cfb3-43e8-8ca0-e62c7d452300",
   "metadata": {
    "execution": {
     "iopub.execute_input": "2024-03-14T09:24:49.958115Z",
     "iopub.status.busy": "2024-03-14T09:24:49.957552Z",
     "iopub.status.idle": "2024-03-14T09:24:49.999273Z",
     "shell.execute_reply": "2024-03-14T09:24:49.998549Z",
     "shell.execute_reply.started": "2024-03-14T09:24:49.958070Z"
    },
    "tags": []
   },
   "outputs": [
    {
     "data": {
      "text/plain": [
       "2000"
      ]
     },
     "execution_count": 157,
     "metadata": {},
     "output_type": "execute_result"
    }
   ],
   "source": [
    "n = 2000\n",
    "ntest = 2000\n",
    "ncal = 2000"
   ]
  },
  {
   "cell_type": "code",
   "execution_count": 142,
   "id": "54f57b9c-b67e-4ab2-8f6f-b8f55b19e319",
   "metadata": {
    "execution": {
     "iopub.execute_input": "2024-03-14T09:19:43.432222Z",
     "iopub.status.busy": "2024-03-14T09:19:43.431607Z",
     "iopub.status.idle": "2024-03-14T09:19:44.150755Z",
     "shell.execute_reply": "2024-03-14T09:19:44.150355Z",
     "shell.execute_reply.started": "2024-03-14T09:19:43.432173Z"
    },
    "tags": []
   },
   "outputs": [
    {
     "data": {
      "text/html": [
       "<div>\n",
       "<style scoped>\n",
       "    .dataframe tbody tr th:only-of-type {\n",
       "        vertical-align: middle;\n",
       "    }\n",
       "\n",
       "    .dataframe tbody tr th {\n",
       "        vertical-align: top;\n",
       "    }\n",
       "\n",
       "    .dataframe thead th {\n",
       "        text-align: right;\n",
       "    }\n",
       "</style>\n",
       "<table border=\"1\" class=\"dataframe\">\n",
       "  <thead>\n",
       "    <tr style=\"text-align: right;\">\n",
       "      <th></th>\n",
       "      <th>data</th>\n",
       "      <th>prb</th>\n",
       "      <th>len</th>\n",
       "    </tr>\n",
       "  </thead>\n",
       "  <tbody>\n",
       "    <tr>\n",
       "      <th>0</th>\n",
       "      <td>all</td>\n",
       "      <td>0.905500</td>\n",
       "      <td>16.158094</td>\n",
       "    </tr>\n",
       "    <tr>\n",
       "      <th>1</th>\n",
       "      <td>set1</td>\n",
       "      <td>0.913592</td>\n",
       "      <td>16.158094</td>\n",
       "    </tr>\n",
       "    <tr>\n",
       "      <th>2</th>\n",
       "      <td>set1c</td>\n",
       "      <td>0.896907</td>\n",
       "      <td>16.158094</td>\n",
       "    </tr>\n",
       "  </tbody>\n",
       "</table>\n",
       "</div>"
      ],
      "text/plain": [
       "    data       prb        len\n",
       "0    all  0.905500  16.158094\n",
       "1   set1  0.913592  16.158094\n",
       "2  set1c  0.896907  16.158094"
      ]
     },
     "execution_count": 142,
     "metadata": {},
     "output_type": "execute_result"
    }
   ],
   "source": [
    "d = 40\n",
    "h = 0\n",
    "X, Y = get_simple_data(n=n, d=d)\n",
    "clf = LinearRegression().fit(X, Y)\n",
    "def gen_fn(X):\n",
    "    if isinstance(X, torch.Tensor):\n",
    "        X = X.numpy()\n",
    "    Y = clf.predict(X)\n",
    "    return torch.tensor(Y)\n",
    "def _run_fn(rep_ix):\n",
    "    Xcal, Ycal = get_simple_data(n=ncal, d=d)\n",
    "    Xtest, Ytest = get_simple_data(n=ntest, d=d)\n",
    "    lci = LocalConformalInference(cal_X=Xcal, cal_Y=Ycal, \n",
    "                                  gen_fn=gen_fn, verbose=0)\n",
    "    re = _get_res(Xtest, Ytest, lci, h=h)\n",
    "    return re\n",
    "_run_fn(0)"
   ]
  },
  {
   "cell_type": "code",
   "execution_count": 163,
   "id": "cb90de51-9dd9-4de7-be12-9c2913c87e53",
   "metadata": {
    "execution": {
     "iopub.execute_input": "2024-03-14T09:26:02.815328Z",
     "iopub.status.busy": "2024-03-14T09:26:02.814708Z",
     "iopub.status.idle": "2024-03-14T09:26:18.050607Z",
     "shell.execute_reply": "2024-03-14T09:26:18.049613Z",
     "shell.execute_reply.started": "2024-03-14T09:26:02.815282Z"
    },
    "tags": []
   },
   "outputs": [
    {
     "name": "stderr",
     "output_type": "stream",
     "text": [
      "100%|████████████████████████████████████████████████████████████████████████████| 12/12 [00:15<00:00,  1.26s/it]\n"
     ]
    }
   ],
   "source": [
    "ds = [2, 4, 6, 8, 10, 14, 18, 22, 26, 30, 34, 38]\n",
    "d = 1\n",
    "h = 0\n",
    "num_rep = 10\n",
    "ress = []\n",
    "for d in tqdm(ds):\n",
    "    X, Y = get_simple_data(n=n, d=d)\n",
    "    clf = LinearRegression().fit(X, Y)\n",
    "    def gen_fn(X):\n",
    "        if isinstance(X, torch.Tensor):\n",
    "            X = X.numpy()\n",
    "        Y = clf.predict(X)\n",
    "        return torch.tensor(Y)\n",
    "    def _run_fn(rep_ix):\n",
    "        Xcal, Ycal = get_simple_data(n=ncal, d=d)\n",
    "        Xtest, Ytest = get_simple_data(n=ntest, d=d)\n",
    "        lci = LocalConformalInference(cal_X=Xcal, cal_Y=Ycal, \n",
    "                                      gen_fn=gen_fn, verbose=0)\n",
    "        re = _get_res(Xtest, Ytest, lci, h=h)\n",
    "        return re\n",
    "    with Parallel(n_jobs=10) as parallel:\n",
    "        res = parallel(delayed(_run_fn)(rep_ix) \n",
    "                       for sub_ix in range(num_rep))\n",
    "    ress.append(res)"
   ]
  },
  {
   "cell_type": "code",
   "execution_count": 164,
   "id": "060b7fec-e89b-47b3-b50f-8a280bb532cd",
   "metadata": {
    "execution": {
     "iopub.execute_input": "2024-03-14T09:26:27.535749Z",
     "iopub.status.busy": "2024-03-14T09:26:27.535149Z",
     "iopub.status.idle": "2024-03-14T09:26:27.583663Z",
     "shell.execute_reply": "2024-03-14T09:26:27.582991Z",
     "shell.execute_reply.started": "2024-03-14T09:26:27.535701Z"
    },
    "tags": []
   },
   "outputs": [],
   "source": [
    "ress_prbs = ddict(list)\n",
    "for res in ress:\n",
    "    for ix in range(3):\n",
    "        ress_prbs[res[0][\"data\"][ix]].append([re[\"prb\"][ix] for re in res])"
   ]
  },
  {
   "cell_type": "code",
   "execution_count": 165,
   "id": "413eb8fe-4f8d-4178-8e2d-933f0c8aabb7",
   "metadata": {
    "execution": {
     "iopub.execute_input": "2024-03-14T09:26:28.146725Z",
     "iopub.status.busy": "2024-03-14T09:26:28.146100Z",
     "iopub.status.idle": "2024-03-14T09:26:28.268150Z",
     "shell.execute_reply": "2024-03-14T09:26:28.267709Z",
     "shell.execute_reply.started": "2024-03-14T09:26:28.146680Z"
    },
    "tags": []
   },
   "outputs": [
    {
     "data": {
      "text/plain": [
       "[<matplotlib.lines.Line2D at 0x7f996df155e0>]"
      ]
     },
     "execution_count": 165,
     "metadata": {},
     "output_type": "execute_result"
    },
    {
     "data": {
      "image/png": "[encoded data removed]",
      "text/plain": [
       "<Figure size 1000x500 with 1 Axes>"
      ]
     },
     "metadata": {
      "needs_background": "light"
     },
     "output_type": "display_data"
    }
   ],
   "source": [
    "plt.plot(ds, np.array(ress_prbs[\"set1c\"]).mean(axis=1))"
   ]
  },
  {
   "cell_type": "code",
   "execution_count": null,
   "id": "63d3b581-934f-4379-b5ba-805c192fefe7",
   "metadata": {},
   "outputs": [],
   "source": []
  }
 ],
 "metadata": {
  "kernelspec": {
   "display_name": "Python 3 (ipykernel)",
   "language": "python",
   "name": "python3"
  },
  "language_info": {
   "codemirror_mode": {
    "name": "ipython",
    "version": 3
   },
   "file_extension": ".py",
   "mimetype": "text/x-python",
   "name": "python",
   "nbconvert_exporter": "python",
   "pygments_lexer": "ipython3",
   "version": "3.9.7"
  },
  "toc-autonumbering": true
 },
 "nbformat": 4,
 "nbformat_minor": 5
}
